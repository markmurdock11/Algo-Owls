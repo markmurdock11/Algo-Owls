{
 "cells": [
  {
   "cell_type": "code",
   "execution_count": 1,
   "metadata": {},
   "outputs": [],
   "source": [
    "# Initial imports\n",
    "import numpy as np\n",
    "import pandas as pd\n",
    "from stockstats import StockDataFrame as sdf\n",
    "import requests\n",
    "from dotenv import load_dotenv\n",
    "import os\n",
    "import pandas as pd\n",
    "import numpy as np\n",
    "import alpaca_trade_api as tradeapi\n",
    "from pathlib import Path\n",
    "import lib_copy\n",
    "%matplotlib inline"
   ]
  },
  {
   "cell_type": "code",
   "execution_count": 2,
   "metadata": {
    "tags": []
   },
   "outputs": [
    {
     "output_type": "stream",
     "name": "stderr",
     "text": "Python-dotenv could not parse statement starting at line 7\nPython-dotenv could not parse statement starting at line 8\n"
    },
    {
     "output_type": "execute_result",
     "data": {
      "text/plain": "True"
     },
     "metadata": {},
     "execution_count": 2
    }
   ],
   "source": [
    "load_dotenv()"
   ]
  },
  {
   "cell_type": "code",
   "execution_count": null,
   "metadata": {},
   "outputs": [],
   "source": []
  },
  {
   "cell_type": "code",
   "execution_count": 3,
   "metadata": {},
   "outputs": [],
   "source": [
    "\n",
    "\n",
    "df = lib_copy.fetch_ohlcv(\"JPM\", \"2018-01-12\", \"2019-06-12\")"
   ]
  },
  {
   "cell_type": "code",
   "execution_count": 4,
   "metadata": {},
   "outputs": [],
   "source": [
    "def adding_boll_kelt_ewma_dataframe(dataframe):\n",
    "    lib_copy.bollinger_band_generator(dataframe)\n",
    "    lib_copy.keltner_channel(dataframe)\n",
    "    lib_copy.ewma(dataframe)\n",
    "\n",
    "    return dataframe"
   ]
  },
  {
   "cell_type": "code",
   "execution_count": 5,
   "metadata": {},
   "outputs": [],
   "source": [
    "everything = adding_boll_kelt_ewma_dataframe(df)"
   ]
  },
  {
   "cell_type": "code",
   "execution_count": 6,
   "metadata": {},
   "outputs": [
    {
     "output_type": "execute_result",
     "data": {
      "text/plain": "61"
     },
     "metadata": {},
     "execution_count": 6
    }
   ],
   "source": [
    "# Looking for missing values\n",
    "everything.isnull().sum().sum()"
   ]
  },
  {
   "cell_type": "code",
   "execution_count": 7,
   "metadata": {},
   "outputs": [
    {
     "output_type": "execute_result",
     "data": {
      "text/plain": "                             open     high      low    close  volume  \\\n2018-01-16 11:30:00-05:00  112.47  112.650  112.420  112.440   25708   \n2018-01-16 11:45:00-05:00  112.42  112.500  112.250  112.470   20077   \n2018-01-16 12:00:00-05:00  112.46  112.480  112.270  112.390   24848   \n2018-01-16 12:15:00-05:00  112.40  112.400  112.010  112.040   36098   \n2018-01-16 12:30:00-05:00  112.06  112.080  111.870  111.905   33095   \n...                           ...      ...      ...      ...     ...   \n2019-06-11 14:45:00-04:00  110.52  110.560  110.430  110.530   14003   \n2019-06-11 15:00:00-04:00  110.48  110.630  110.410  110.580   15131   \n2019-06-11 15:15:00-04:00  110.58  110.735  110.550  110.720   16345   \n2019-06-11 15:30:00-04:00  110.72  110.885  110.685  110.805   28276   \n2019-06-11 15:45:00-04:00  110.83  110.890  110.605  110.690   73314   \n\n                           bollinger_band_middle  bollinger_band_std  \\\n2018-01-16 11:30:00-05:00              112.27150            0.377122   \n2018-01-16 11:45:00-05:00              112.29500            0.373944   \n2018-01-16 12:00:00-05:00              112.31600            0.366450   \n2018-01-16 12:15:00-05:00              112.31750            0.365191   \n2018-01-16 12:30:00-05:00              112.30875            0.373190   \n...                                          ...                 ...   \n2019-06-11 14:45:00-04:00              110.81880            0.324757   \n2019-06-11 15:00:00-04:00              110.76930            0.276024   \n2019-06-11 15:15:00-04:00              110.74130            0.248525   \n2019-06-11 15:30:00-04:00              110.73655            0.246230   \n2019-06-11 15:45:00-04:00              110.71130            0.221382   \n\n                           bollinger_band_upper  bollinger_band_lower  \\\n2018-01-16 11:30:00-05:00            113.025745            111.517255   \n2018-01-16 11:45:00-05:00            113.042888            111.547112   \n2018-01-16 12:00:00-05:00            113.048901            111.583099   \n2018-01-16 12:15:00-05:00            113.047882            111.587118   \n2018-01-16 12:30:00-05:00            113.055130            111.562370   \n...                                         ...                   ...   \n2019-06-11 14:45:00-04:00            111.468314            110.169286   \n2019-06-11 15:00:00-04:00            111.321348            110.217252   \n2019-06-11 15:15:00-04:00            111.238351            110.244249   \n2019-06-11 15:30:00-04:00            111.229010            110.244090   \n2019-06-11 15:45:00-04:00            111.154065            110.268535   \n\n                           close_-1_s     tr  tr_14_smma       atr      kcmid  \\\n2018-01-16 11:30:00-05:00     112.480  0.230    0.455827  0.455827  112.27150   \n2018-01-16 11:45:00-05:00     112.440  0.250    0.436804  0.436804  112.29500   \n2018-01-16 12:00:00-05:00     112.470  0.210    0.416273  0.416273  112.31600   \n2018-01-16 12:15:00-05:00     112.390  0.390    0.413940  0.413940  112.31750   \n2018-01-16 12:30:00-05:00     112.040  0.210    0.396134  0.396134  112.30875   \n...                               ...    ...         ...       ...        ...   \n2019-06-11 14:45:00-04:00     110.520  0.130    0.243855  0.243855  110.81880   \n2019-06-11 15:00:00-04:00     110.530  0.220    0.242151  0.242151  110.76930   \n2019-06-11 15:15:00-04:00     110.580  0.185    0.238069  0.238069  110.74130   \n2019-06-11 15:30:00-04:00     110.720  0.200    0.235349  0.235349  110.73655   \n2019-06-11 15:45:00-04:00     110.805  0.285    0.238896  0.238896  110.71130   \n\n                                 kcup        kclo        EMA9       EMA21  \n2018-01-16 11:30:00-05:00  112.727327  111.815673  112.407866  112.305010  \n2018-01-16 11:45:00-05:00  112.731804  111.858196  112.420293  112.320009  \n2018-01-16 12:00:00-05:00  112.732273  111.899727  112.414235  112.326371  \n2018-01-16 12:15:00-05:00  112.731440  111.903560  112.339388  112.300338  \n2018-01-16 12:30:00-05:00  112.704884  111.912616  112.252510  112.264398  \n...                               ...         ...         ...         ...  \n2019-06-11 14:45:00-04:00  111.062655  110.574945  110.663712  110.731610  \n2019-06-11 15:00:00-04:00  111.011451  110.527149  110.646970  110.717827  \n2019-06-11 15:15:00-04:00  110.979369  110.503231  110.661576  110.718025  \n2019-06-11 15:30:00-04:00  110.971899  110.501201  110.690261  110.725932  \n2019-06-11 15:45:00-04:00  110.950196  110.472404  110.690208  110.722665  \n\n[9044 rows x 18 columns]",
      "text/html": "<div>\n<style scoped>\n    .dataframe tbody tr th:only-of-type {\n        vertical-align: middle;\n    }\n\n    .dataframe tbody tr th {\n        vertical-align: top;\n    }\n\n    .dataframe thead th {\n        text-align: right;\n    }\n</style>\n<table border=\"1\" class=\"dataframe\">\n  <thead>\n    <tr style=\"text-align: right;\">\n      <th></th>\n      <th>open</th>\n      <th>high</th>\n      <th>low</th>\n      <th>close</th>\n      <th>volume</th>\n      <th>bollinger_band_middle</th>\n      <th>bollinger_band_std</th>\n      <th>bollinger_band_upper</th>\n      <th>bollinger_band_lower</th>\n      <th>close_-1_s</th>\n      <th>tr</th>\n      <th>tr_14_smma</th>\n      <th>atr</th>\n      <th>kcmid</th>\n      <th>kcup</th>\n      <th>kclo</th>\n      <th>EMA9</th>\n      <th>EMA21</th>\n    </tr>\n  </thead>\n  <tbody>\n    <tr>\n      <th>2018-01-16 11:30:00-05:00</th>\n      <td>112.47</td>\n      <td>112.650</td>\n      <td>112.420</td>\n      <td>112.440</td>\n      <td>25708</td>\n      <td>112.27150</td>\n      <td>0.377122</td>\n      <td>113.025745</td>\n      <td>111.517255</td>\n      <td>112.480</td>\n      <td>0.230</td>\n      <td>0.455827</td>\n      <td>0.455827</td>\n      <td>112.27150</td>\n      <td>112.727327</td>\n      <td>111.815673</td>\n      <td>112.407866</td>\n      <td>112.305010</td>\n    </tr>\n    <tr>\n      <th>2018-01-16 11:45:00-05:00</th>\n      <td>112.42</td>\n      <td>112.500</td>\n      <td>112.250</td>\n      <td>112.470</td>\n      <td>20077</td>\n      <td>112.29500</td>\n      <td>0.373944</td>\n      <td>113.042888</td>\n      <td>111.547112</td>\n      <td>112.440</td>\n      <td>0.250</td>\n      <td>0.436804</td>\n      <td>0.436804</td>\n      <td>112.29500</td>\n      <td>112.731804</td>\n      <td>111.858196</td>\n      <td>112.420293</td>\n      <td>112.320009</td>\n    </tr>\n    <tr>\n      <th>2018-01-16 12:00:00-05:00</th>\n      <td>112.46</td>\n      <td>112.480</td>\n      <td>112.270</td>\n      <td>112.390</td>\n      <td>24848</td>\n      <td>112.31600</td>\n      <td>0.366450</td>\n      <td>113.048901</td>\n      <td>111.583099</td>\n      <td>112.470</td>\n      <td>0.210</td>\n      <td>0.416273</td>\n      <td>0.416273</td>\n      <td>112.31600</td>\n      <td>112.732273</td>\n      <td>111.899727</td>\n      <td>112.414235</td>\n      <td>112.326371</td>\n    </tr>\n    <tr>\n      <th>2018-01-16 12:15:00-05:00</th>\n      <td>112.40</td>\n      <td>112.400</td>\n      <td>112.010</td>\n      <td>112.040</td>\n      <td>36098</td>\n      <td>112.31750</td>\n      <td>0.365191</td>\n      <td>113.047882</td>\n      <td>111.587118</td>\n      <td>112.390</td>\n      <td>0.390</td>\n      <td>0.413940</td>\n      <td>0.413940</td>\n      <td>112.31750</td>\n      <td>112.731440</td>\n      <td>111.903560</td>\n      <td>112.339388</td>\n      <td>112.300338</td>\n    </tr>\n    <tr>\n      <th>2018-01-16 12:30:00-05:00</th>\n      <td>112.06</td>\n      <td>112.080</td>\n      <td>111.870</td>\n      <td>111.905</td>\n      <td>33095</td>\n      <td>112.30875</td>\n      <td>0.373190</td>\n      <td>113.055130</td>\n      <td>111.562370</td>\n      <td>112.040</td>\n      <td>0.210</td>\n      <td>0.396134</td>\n      <td>0.396134</td>\n      <td>112.30875</td>\n      <td>112.704884</td>\n      <td>111.912616</td>\n      <td>112.252510</td>\n      <td>112.264398</td>\n    </tr>\n    <tr>\n      <th>...</th>\n      <td>...</td>\n      <td>...</td>\n      <td>...</td>\n      <td>...</td>\n      <td>...</td>\n      <td>...</td>\n      <td>...</td>\n      <td>...</td>\n      <td>...</td>\n      <td>...</td>\n      <td>...</td>\n      <td>...</td>\n      <td>...</td>\n      <td>...</td>\n      <td>...</td>\n      <td>...</td>\n      <td>...</td>\n      <td>...</td>\n    </tr>\n    <tr>\n      <th>2019-06-11 14:45:00-04:00</th>\n      <td>110.52</td>\n      <td>110.560</td>\n      <td>110.430</td>\n      <td>110.530</td>\n      <td>14003</td>\n      <td>110.81880</td>\n      <td>0.324757</td>\n      <td>111.468314</td>\n      <td>110.169286</td>\n      <td>110.520</td>\n      <td>0.130</td>\n      <td>0.243855</td>\n      <td>0.243855</td>\n      <td>110.81880</td>\n      <td>111.062655</td>\n      <td>110.574945</td>\n      <td>110.663712</td>\n      <td>110.731610</td>\n    </tr>\n    <tr>\n      <th>2019-06-11 15:00:00-04:00</th>\n      <td>110.48</td>\n      <td>110.630</td>\n      <td>110.410</td>\n      <td>110.580</td>\n      <td>15131</td>\n      <td>110.76930</td>\n      <td>0.276024</td>\n      <td>111.321348</td>\n      <td>110.217252</td>\n      <td>110.530</td>\n      <td>0.220</td>\n      <td>0.242151</td>\n      <td>0.242151</td>\n      <td>110.76930</td>\n      <td>111.011451</td>\n      <td>110.527149</td>\n      <td>110.646970</td>\n      <td>110.717827</td>\n    </tr>\n    <tr>\n      <th>2019-06-11 15:15:00-04:00</th>\n      <td>110.58</td>\n      <td>110.735</td>\n      <td>110.550</td>\n      <td>110.720</td>\n      <td>16345</td>\n      <td>110.74130</td>\n      <td>0.248525</td>\n      <td>111.238351</td>\n      <td>110.244249</td>\n      <td>110.580</td>\n      <td>0.185</td>\n      <td>0.238069</td>\n      <td>0.238069</td>\n      <td>110.74130</td>\n      <td>110.979369</td>\n      <td>110.503231</td>\n      <td>110.661576</td>\n      <td>110.718025</td>\n    </tr>\n    <tr>\n      <th>2019-06-11 15:30:00-04:00</th>\n      <td>110.72</td>\n      <td>110.885</td>\n      <td>110.685</td>\n      <td>110.805</td>\n      <td>28276</td>\n      <td>110.73655</td>\n      <td>0.246230</td>\n      <td>111.229010</td>\n      <td>110.244090</td>\n      <td>110.720</td>\n      <td>0.200</td>\n      <td>0.235349</td>\n      <td>0.235349</td>\n      <td>110.73655</td>\n      <td>110.971899</td>\n      <td>110.501201</td>\n      <td>110.690261</td>\n      <td>110.725932</td>\n    </tr>\n    <tr>\n      <th>2019-06-11 15:45:00-04:00</th>\n      <td>110.83</td>\n      <td>110.890</td>\n      <td>110.605</td>\n      <td>110.690</td>\n      <td>73314</td>\n      <td>110.71130</td>\n      <td>0.221382</td>\n      <td>111.154065</td>\n      <td>110.268535</td>\n      <td>110.805</td>\n      <td>0.285</td>\n      <td>0.238896</td>\n      <td>0.238896</td>\n      <td>110.71130</td>\n      <td>110.950196</td>\n      <td>110.472404</td>\n      <td>110.690208</td>\n      <td>110.722665</td>\n    </tr>\n  </tbody>\n</table>\n<p>9044 rows × 18 columns</p>\n</div>"
     },
     "metadata": {},
     "execution_count": 7
    }
   ],
   "source": [
    "# Filling missing values with the previous ones\n",
    "everything = df.dropna()\n",
    "everything"
   ]
  },
  {
   "cell_type": "code",
   "execution_count": 8,
   "metadata": {},
   "outputs": [
    {
     "output_type": "execute_result",
     "data": {
      "text/plain": "              open     high      low    close  volume  bollinger_band_middle  \\\n2018-01-16  112.47  112.650  112.420  112.440   25708              112.27150   \n2018-01-16  112.42  112.500  112.250  112.470   20077              112.29500   \n2018-01-16  112.46  112.480  112.270  112.390   24848              112.31600   \n2018-01-16  112.40  112.400  112.010  112.040   36098              112.31750   \n2018-01-16  112.06  112.080  111.870  111.905   33095              112.30875   \n...            ...      ...      ...      ...     ...                    ...   \n2019-06-11  110.52  110.560  110.430  110.530   14003              110.81880   \n2019-06-11  110.48  110.630  110.410  110.580   15131              110.76930   \n2019-06-11  110.58  110.735  110.550  110.720   16345              110.74130   \n2019-06-11  110.72  110.885  110.685  110.805   28276              110.73655   \n2019-06-11  110.83  110.890  110.605  110.690   73314              110.71130   \n\n            bollinger_band_std  bollinger_band_upper  bollinger_band_lower  \\\n2018-01-16            0.377122            113.025745            111.517255   \n2018-01-16            0.373944            113.042888            111.547112   \n2018-01-16            0.366450            113.048901            111.583099   \n2018-01-16            0.365191            113.047882            111.587118   \n2018-01-16            0.373190            113.055130            111.562370   \n...                        ...                   ...                   ...   \n2019-06-11            0.324757            111.468314            110.169286   \n2019-06-11            0.276024            111.321348            110.217252   \n2019-06-11            0.248525            111.238351            110.244249   \n2019-06-11            0.246230            111.229010            110.244090   \n2019-06-11            0.221382            111.154065            110.268535   \n\n            close_-1_s  ...      kcmid        kcup        kclo        EMA9  \\\n2018-01-16     112.480  ...  112.27150  112.727327  111.815673  112.407866   \n2018-01-16     112.440  ...  112.29500  112.731804  111.858196  112.420293   \n2018-01-16     112.470  ...  112.31600  112.732273  111.899727  112.414235   \n2018-01-16     112.390  ...  112.31750  112.731440  111.903560  112.339388   \n2018-01-16     112.040  ...  112.30875  112.704884  111.912616  112.252510   \n...                ...  ...        ...         ...         ...         ...   \n2019-06-11     110.520  ...  110.81880  111.062655  110.574945  110.663712   \n2019-06-11     110.530  ...  110.76930  111.011451  110.527149  110.646970   \n2019-06-11     110.580  ...  110.74130  110.979369  110.503231  110.661576   \n2019-06-11     110.720  ...  110.73655  110.971899  110.501201  110.690261   \n2019-06-11     110.805  ...  110.71130  110.950196  110.472404  110.690208   \n\n                 EMA21  squeeze  crossup  crossdown  target  io_target  \n2018-01-16  112.305010      0.0      0.0        0.0     0.0        0.0  \n2018-01-16  112.320009      0.0      0.0        0.0     0.0        0.0  \n2018-01-16  112.326371      0.0      0.0        0.0     0.0        0.0  \n2018-01-16  112.300338      0.0      0.0        0.0     0.0        0.0  \n2018-01-16  112.264398      0.0      0.0       -1.0     0.0       -1.0  \n...                ...      ...      ...        ...     ...        ...  \n2019-06-11  110.731610      0.0      0.0        0.0     0.0        0.0  \n2019-06-11  110.717827      0.0      0.0        0.0     0.0        0.0  \n2019-06-11  110.718025      0.0      0.0        0.0     0.0        0.0  \n2019-06-11  110.725932      0.0      0.0        0.0     0.0        0.0  \n2019-06-11  110.722665      0.0      0.0        0.0     0.0        0.0  \n\n[9044 rows x 23 columns]",
      "text/html": "<div>\n<style scoped>\n    .dataframe tbody tr th:only-of-type {\n        vertical-align: middle;\n    }\n\n    .dataframe tbody tr th {\n        vertical-align: top;\n    }\n\n    .dataframe thead th {\n        text-align: right;\n    }\n</style>\n<table border=\"1\" class=\"dataframe\">\n  <thead>\n    <tr style=\"text-align: right;\">\n      <th></th>\n      <th>open</th>\n      <th>high</th>\n      <th>low</th>\n      <th>close</th>\n      <th>volume</th>\n      <th>bollinger_band_middle</th>\n      <th>bollinger_band_std</th>\n      <th>bollinger_band_upper</th>\n      <th>bollinger_band_lower</th>\n      <th>close_-1_s</th>\n      <th>...</th>\n      <th>kcmid</th>\n      <th>kcup</th>\n      <th>kclo</th>\n      <th>EMA9</th>\n      <th>EMA21</th>\n      <th>squeeze</th>\n      <th>crossup</th>\n      <th>crossdown</th>\n      <th>target</th>\n      <th>io_target</th>\n    </tr>\n  </thead>\n  <tbody>\n    <tr>\n      <th>2018-01-16</th>\n      <td>112.47</td>\n      <td>112.650</td>\n      <td>112.420</td>\n      <td>112.440</td>\n      <td>25708</td>\n      <td>112.27150</td>\n      <td>0.377122</td>\n      <td>113.025745</td>\n      <td>111.517255</td>\n      <td>112.480</td>\n      <td>...</td>\n      <td>112.27150</td>\n      <td>112.727327</td>\n      <td>111.815673</td>\n      <td>112.407866</td>\n      <td>112.305010</td>\n      <td>0.0</td>\n      <td>0.0</td>\n      <td>0.0</td>\n      <td>0.0</td>\n      <td>0.0</td>\n    </tr>\n    <tr>\n      <th>2018-01-16</th>\n      <td>112.42</td>\n      <td>112.500</td>\n      <td>112.250</td>\n      <td>112.470</td>\n      <td>20077</td>\n      <td>112.29500</td>\n      <td>0.373944</td>\n      <td>113.042888</td>\n      <td>111.547112</td>\n      <td>112.440</td>\n      <td>...</td>\n      <td>112.29500</td>\n      <td>112.731804</td>\n      <td>111.858196</td>\n      <td>112.420293</td>\n      <td>112.320009</td>\n      <td>0.0</td>\n      <td>0.0</td>\n      <td>0.0</td>\n      <td>0.0</td>\n      <td>0.0</td>\n    </tr>\n    <tr>\n      <th>2018-01-16</th>\n      <td>112.46</td>\n      <td>112.480</td>\n      <td>112.270</td>\n      <td>112.390</td>\n      <td>24848</td>\n      <td>112.31600</td>\n      <td>0.366450</td>\n      <td>113.048901</td>\n      <td>111.583099</td>\n      <td>112.470</td>\n      <td>...</td>\n      <td>112.31600</td>\n      <td>112.732273</td>\n      <td>111.899727</td>\n      <td>112.414235</td>\n      <td>112.326371</td>\n      <td>0.0</td>\n      <td>0.0</td>\n      <td>0.0</td>\n      <td>0.0</td>\n      <td>0.0</td>\n    </tr>\n    <tr>\n      <th>2018-01-16</th>\n      <td>112.40</td>\n      <td>112.400</td>\n      <td>112.010</td>\n      <td>112.040</td>\n      <td>36098</td>\n      <td>112.31750</td>\n      <td>0.365191</td>\n      <td>113.047882</td>\n      <td>111.587118</td>\n      <td>112.390</td>\n      <td>...</td>\n      <td>112.31750</td>\n      <td>112.731440</td>\n      <td>111.903560</td>\n      <td>112.339388</td>\n      <td>112.300338</td>\n      <td>0.0</td>\n      <td>0.0</td>\n      <td>0.0</td>\n      <td>0.0</td>\n      <td>0.0</td>\n    </tr>\n    <tr>\n      <th>2018-01-16</th>\n      <td>112.06</td>\n      <td>112.080</td>\n      <td>111.870</td>\n      <td>111.905</td>\n      <td>33095</td>\n      <td>112.30875</td>\n      <td>0.373190</td>\n      <td>113.055130</td>\n      <td>111.562370</td>\n      <td>112.040</td>\n      <td>...</td>\n      <td>112.30875</td>\n      <td>112.704884</td>\n      <td>111.912616</td>\n      <td>112.252510</td>\n      <td>112.264398</td>\n      <td>0.0</td>\n      <td>0.0</td>\n      <td>-1.0</td>\n      <td>0.0</td>\n      <td>-1.0</td>\n    </tr>\n    <tr>\n      <th>...</th>\n      <td>...</td>\n      <td>...</td>\n      <td>...</td>\n      <td>...</td>\n      <td>...</td>\n      <td>...</td>\n      <td>...</td>\n      <td>...</td>\n      <td>...</td>\n      <td>...</td>\n      <td>...</td>\n      <td>...</td>\n      <td>...</td>\n      <td>...</td>\n      <td>...</td>\n      <td>...</td>\n      <td>...</td>\n      <td>...</td>\n      <td>...</td>\n      <td>...</td>\n      <td>...</td>\n    </tr>\n    <tr>\n      <th>2019-06-11</th>\n      <td>110.52</td>\n      <td>110.560</td>\n      <td>110.430</td>\n      <td>110.530</td>\n      <td>14003</td>\n      <td>110.81880</td>\n      <td>0.324757</td>\n      <td>111.468314</td>\n      <td>110.169286</td>\n      <td>110.520</td>\n      <td>...</td>\n      <td>110.81880</td>\n      <td>111.062655</td>\n      <td>110.574945</td>\n      <td>110.663712</td>\n      <td>110.731610</td>\n      <td>0.0</td>\n      <td>0.0</td>\n      <td>0.0</td>\n      <td>0.0</td>\n      <td>0.0</td>\n    </tr>\n    <tr>\n      <th>2019-06-11</th>\n      <td>110.48</td>\n      <td>110.630</td>\n      <td>110.410</td>\n      <td>110.580</td>\n      <td>15131</td>\n      <td>110.76930</td>\n      <td>0.276024</td>\n      <td>111.321348</td>\n      <td>110.217252</td>\n      <td>110.530</td>\n      <td>...</td>\n      <td>110.76930</td>\n      <td>111.011451</td>\n      <td>110.527149</td>\n      <td>110.646970</td>\n      <td>110.717827</td>\n      <td>0.0</td>\n      <td>0.0</td>\n      <td>0.0</td>\n      <td>0.0</td>\n      <td>0.0</td>\n    </tr>\n    <tr>\n      <th>2019-06-11</th>\n      <td>110.58</td>\n      <td>110.735</td>\n      <td>110.550</td>\n      <td>110.720</td>\n      <td>16345</td>\n      <td>110.74130</td>\n      <td>0.248525</td>\n      <td>111.238351</td>\n      <td>110.244249</td>\n      <td>110.580</td>\n      <td>...</td>\n      <td>110.74130</td>\n      <td>110.979369</td>\n      <td>110.503231</td>\n      <td>110.661576</td>\n      <td>110.718025</td>\n      <td>0.0</td>\n      <td>0.0</td>\n      <td>0.0</td>\n      <td>0.0</td>\n      <td>0.0</td>\n    </tr>\n    <tr>\n      <th>2019-06-11</th>\n      <td>110.72</td>\n      <td>110.885</td>\n      <td>110.685</td>\n      <td>110.805</td>\n      <td>28276</td>\n      <td>110.73655</td>\n      <td>0.246230</td>\n      <td>111.229010</td>\n      <td>110.244090</td>\n      <td>110.720</td>\n      <td>...</td>\n      <td>110.73655</td>\n      <td>110.971899</td>\n      <td>110.501201</td>\n      <td>110.690261</td>\n      <td>110.725932</td>\n      <td>0.0</td>\n      <td>0.0</td>\n      <td>0.0</td>\n      <td>0.0</td>\n      <td>0.0</td>\n    </tr>\n    <tr>\n      <th>2019-06-11</th>\n      <td>110.83</td>\n      <td>110.890</td>\n      <td>110.605</td>\n      <td>110.690</td>\n      <td>73314</td>\n      <td>110.71130</td>\n      <td>0.221382</td>\n      <td>111.154065</td>\n      <td>110.268535</td>\n      <td>110.805</td>\n      <td>...</td>\n      <td>110.71130</td>\n      <td>110.950196</td>\n      <td>110.472404</td>\n      <td>110.690208</td>\n      <td>110.722665</td>\n      <td>0.0</td>\n      <td>0.0</td>\n      <td>0.0</td>\n      <td>0.0</td>\n      <td>0.0</td>\n    </tr>\n  </tbody>\n</table>\n<p>9044 rows × 23 columns</p>\n</div>"
     },
     "metadata": {},
     "execution_count": 8
    }
   ],
   "source": [
    "response_data = lib_copy.signals_generator(everything)\n",
    "\n",
    "response_data.index = response_data.index.date\n",
    "final_df = response_data\n",
    "final_df"
   ]
  },
  {
   "cell_type": "code",
   "execution_count": 9,
   "metadata": {},
   "outputs": [
    {
     "output_type": "execute_result",
     "data": {
      "text/plain": "\"practice logic\\n\\nmerge actual cross and actual squeeze DF's\\ncarolina's_df = pd.Concatenate(ewma_cross, squeeze)\\n\\nfeed merged df into jonathans target function using 1+1 = 2 target mechanism\\n\\nuse lstm model: utilizing the squeeze and the ewma cross as features and the target as the target\\n\\nspit out graph\\n\\n\""
     },
     "metadata": {},
     "execution_count": 9
    }
   ],
   "source": [
    "\"\"\"practice logic\n",
    "\n",
    "merge actual cross and actual squeeze DF's\n",
    "carolina's_df = pd.Concatenate(ewma_cross, squeeze)\n",
    "\n",
    "feed merged df into jonathans target function using 1+1 = 2 target mechanism\n",
    "\n",
    "use lstm model: utilizing the squeeze and the ewma cross as features and the target as the target\n",
    "\n",
    "spit out graph\n",
    "\n",
    "\"\"\"\n"
   ]
  },
  {
   "cell_type": "code",
   "execution_count": 10,
   "metadata": {},
   "outputs": [],
   "source": [
    "X = final_df.iloc[:, 0:20].values\n",
    "y = final_df.iloc[:, :1].values\n",
    "\n",
    "X, y = np.array(X), np.array(y).reshape(-1,1)"
   ]
  },
  {
   "cell_type": "code",
   "execution_count": 11,
   "metadata": {
    "tags": []
   },
   "outputs": [
    {
     "output_type": "stream",
     "name": "stdout",
     "text": "X sample values:\n[[1.12470000e+02 1.12650000e+02 1.12420000e+02 1.12440000e+02\n  2.57080000e+04 1.12271500e+02 3.77122415e-01 1.13025745e+02\n  1.11517255e+02 1.12480000e+02 2.30000000e-01 4.55826776e-01\n  4.55826776e-01 1.12271500e+02 1.12727327e+02 1.11815673e+02\n  1.12407866e+02 1.12305010e+02 0.00000000e+00 0.00000000e+00]\n [1.12420000e+02 1.12500000e+02 1.12250000e+02 1.12470000e+02\n  2.00770000e+04 1.12295000e+02 3.73944128e-01 1.13042888e+02\n  1.11547112e+02 1.12440000e+02 2.50000000e-01 4.36803875e-01\n  4.36803875e-01 1.12295000e+02 1.12731804e+02 1.11858196e+02\n  1.12420293e+02 1.12320009e+02 0.00000000e+00 0.00000000e+00]\n [1.12460000e+02 1.12480000e+02 1.12270000e+02 1.12390000e+02\n  2.48480000e+04 1.12316000e+02 3.66450255e-01 1.13048901e+02\n  1.11583099e+02 1.12470000e+02 2.10000000e-01 4.16273237e-01\n  4.16273237e-01 1.12316000e+02 1.12732273e+02 1.11899727e+02\n  1.12414235e+02 1.12326371e+02 0.00000000e+00 0.00000000e+00]] \n\nX sample values:\n[[112.47]\n [112.42]\n [112.46]] \n\n"
    }
   ],
   "source": [
    "print (f\"X sample values:\\n{X[:3]} \\n\")\n",
    "print (f\"X sample values:\\n{y[:3]} \\n\")\n"
   ]
  },
  {
   "cell_type": "code",
   "execution_count": 12,
   "metadata": {},
   "outputs": [],
   "source": [
    "x_var_list = [\"open\",\"high\",\"low\",\"volume\",\"bollinger_band_middle\",\"bollinger_band_std\",\"bollinger_band_upper\",\"bollinger_band_lower\",\"close_-1_s\",\"tr\",\"tr_14_smma\",\"atr\",\"kcmid\",\"kcup\",\"kclo\",\"EMA9\",\"EMA21\",\"squeeze\",\"crossup\",\"crossdown\",\"target\",\"io_target\"]"
   ]
  },
  {
   "cell_type": "code",
   "execution_count": 39,
   "metadata": {
    "tags": []
   },
   "outputs": [
    {
     "output_type": "stream",
     "name": "stdout",
     "text": "Training Start: 2018-01-12\nTraining End: 2019-01-11\nTesting Start: 2019-01-12\nTesting End: 2019-06-12\nvalidating Start: 2019-06-13\nvalidating end: 2020-01-12\n"
    }
   ],
   "source": [
    "# Construct training start and training end dates\n",
    "\n",
    "training_start = \"2018-01-12\"\n",
    "training_end = '2019-01-11'\n",
    "\n",
    "# Construct test start and test end dates\n",
    "\n",
    "testing_start = '2019-01-12'\n",
    "testing_end = '2019-06-12'\n",
    "\n",
    "# Construct validating start and validating end dates\n",
    "\n",
    "vali_start = '2019-06-13'\n",
    "vali_end = '2020-01-12'\n",
    "\n",
    "# Confirming training, testing and validating dates\n",
    "print(f\"Training Start: {training_start}\")\n",
    "print(f\"Training End: {training_end}\")\n",
    "print(f\"Testing Start: {testing_start}\")\n",
    "print(f\"Testing End: {testing_end}\")\n",
    "print(f\"validating Start: {vali_start}\")\n",
    "print(f\"validating end: {vali_end}\")"
   ]
  },
  {
   "cell_type": "code",
   "execution_count": 66,
   "metadata": {},
   "outputs": [
    {
     "output_type": "error",
     "ename": "TypeError",
     "evalue": "'<' not supported between instances of 'datetime.date' and 'str'",
     "traceback": [
      "\u001b[0;31m---------------------------------------------------------------------------\u001b[0m",
      "\u001b[0;31mTypeError\u001b[0m                                 Traceback (most recent call last)",
      "\u001b[0;32mpandas/_libs/index.pyx\u001b[0m in \u001b[0;36mpandas._libs.index.IndexEngine._get_loc_duplicates\u001b[0;34m()\u001b[0m\n",
      "\u001b[0;31mTypeError\u001b[0m: '<' not supported between instances of 'datetime.date' and 'str'",
      "\nDuring handling of the above exception, another exception occurred:\n",
      "\u001b[0;31mKeyError\u001b[0m                                  Traceback (most recent call last)",
      "\u001b[0;32m~/anaconda3/lib/python3.8/site-packages/pandas/core/indexes/base.py\u001b[0m in \u001b[0;36mget_loc\u001b[0;34m(self, key, method, tolerance)\u001b[0m\n\u001b[1;32m   2645\u001b[0m             \u001b[0;32mtry\u001b[0m\u001b[0;34m:\u001b[0m\u001b[0;34m\u001b[0m\u001b[0;34m\u001b[0m\u001b[0m\n\u001b[0;32m-> 2646\u001b[0;31m                 \u001b[0;32mreturn\u001b[0m \u001b[0mself\u001b[0m\u001b[0;34m.\u001b[0m\u001b[0m_engine\u001b[0m\u001b[0;34m.\u001b[0m\u001b[0mget_loc\u001b[0m\u001b[0;34m(\u001b[0m\u001b[0mkey\u001b[0m\u001b[0;34m)\u001b[0m\u001b[0;34m\u001b[0m\u001b[0;34m\u001b[0m\u001b[0m\n\u001b[0m\u001b[1;32m   2647\u001b[0m             \u001b[0;32mexcept\u001b[0m \u001b[0mKeyError\u001b[0m\u001b[0;34m:\u001b[0m\u001b[0;34m\u001b[0m\u001b[0;34m\u001b[0m\u001b[0m\n",
      "\u001b[0;32mpandas/_libs/index.pyx\u001b[0m in \u001b[0;36mpandas._libs.index.IndexEngine.get_loc\u001b[0;34m()\u001b[0m\n",
      "\u001b[0;32mpandas/_libs/index.pyx\u001b[0m in \u001b[0;36mpandas._libs.index.IndexEngine.get_loc\u001b[0;34m()\u001b[0m\n",
      "\u001b[0;32mpandas/_libs/index.pyx\u001b[0m in \u001b[0;36mpandas._libs.index.IndexEngine._get_loc_duplicates\u001b[0;34m()\u001b[0m\n",
      "\u001b[0;31mKeyError\u001b[0m: '2018-01-12'",
      "\nDuring handling of the above exception, another exception occurred:\n",
      "\u001b[0;31mTypeError\u001b[0m                                 Traceback (most recent call last)",
      "\u001b[0;32mpandas/_libs/index.pyx\u001b[0m in \u001b[0;36mpandas._libs.index.IndexEngine._get_loc_duplicates\u001b[0;34m()\u001b[0m\n",
      "\u001b[0;31mTypeError\u001b[0m: '<' not supported between instances of 'datetime.date' and 'str'",
      "\nDuring handling of the above exception, another exception occurred:\n",
      "\u001b[0;31mKeyError\u001b[0m                                  Traceback (most recent call last)",
      "\u001b[0;32m~/anaconda3/lib/python3.8/site-packages/pandas/core/indexes/base.py\u001b[0m in \u001b[0;36mget_slice_bound\u001b[0;34m(self, label, side, kind)\u001b[0m\n\u001b[1;32m   4841\u001b[0m         \u001b[0;32mtry\u001b[0m\u001b[0;34m:\u001b[0m\u001b[0;34m\u001b[0m\u001b[0;34m\u001b[0m\u001b[0m\n\u001b[0;32m-> 4842\u001b[0;31m             \u001b[0mslc\u001b[0m \u001b[0;34m=\u001b[0m \u001b[0mself\u001b[0m\u001b[0;34m.\u001b[0m\u001b[0mget_loc\u001b[0m\u001b[0;34m(\u001b[0m\u001b[0mlabel\u001b[0m\u001b[0;34m)\u001b[0m\u001b[0;34m\u001b[0m\u001b[0;34m\u001b[0m\u001b[0m\n\u001b[0m\u001b[1;32m   4843\u001b[0m         \u001b[0;32mexcept\u001b[0m \u001b[0mKeyError\u001b[0m \u001b[0;32mas\u001b[0m \u001b[0merr\u001b[0m\u001b[0;34m:\u001b[0m\u001b[0;34m\u001b[0m\u001b[0;34m\u001b[0m\u001b[0m\n",
      "\u001b[0;32m~/anaconda3/lib/python3.8/site-packages/pandas/core/indexes/base.py\u001b[0m in \u001b[0;36mget_loc\u001b[0;34m(self, key, method, tolerance)\u001b[0m\n\u001b[1;32m   2647\u001b[0m             \u001b[0;32mexcept\u001b[0m \u001b[0mKeyError\u001b[0m\u001b[0;34m:\u001b[0m\u001b[0;34m\u001b[0m\u001b[0;34m\u001b[0m\u001b[0m\n\u001b[0;32m-> 2648\u001b[0;31m                 \u001b[0;32mreturn\u001b[0m \u001b[0mself\u001b[0m\u001b[0;34m.\u001b[0m\u001b[0m_engine\u001b[0m\u001b[0;34m.\u001b[0m\u001b[0mget_loc\u001b[0m\u001b[0;34m(\u001b[0m\u001b[0mself\u001b[0m\u001b[0;34m.\u001b[0m\u001b[0m_maybe_cast_indexer\u001b[0m\u001b[0;34m(\u001b[0m\u001b[0mkey\u001b[0m\u001b[0;34m)\u001b[0m\u001b[0;34m)\u001b[0m\u001b[0;34m\u001b[0m\u001b[0;34m\u001b[0m\u001b[0m\n\u001b[0m\u001b[1;32m   2649\u001b[0m         \u001b[0mindexer\u001b[0m \u001b[0;34m=\u001b[0m \u001b[0mself\u001b[0m\u001b[0;34m.\u001b[0m\u001b[0mget_indexer\u001b[0m\u001b[0;34m(\u001b[0m\u001b[0;34m[\u001b[0m\u001b[0mkey\u001b[0m\u001b[0;34m]\u001b[0m\u001b[0;34m,\u001b[0m \u001b[0mmethod\u001b[0m\u001b[0;34m=\u001b[0m\u001b[0mmethod\u001b[0m\u001b[0;34m,\u001b[0m \u001b[0mtolerance\u001b[0m\u001b[0;34m=\u001b[0m\u001b[0mtolerance\u001b[0m\u001b[0;34m)\u001b[0m\u001b[0;34m\u001b[0m\u001b[0;34m\u001b[0m\u001b[0m\n",
      "\u001b[0;32mpandas/_libs/index.pyx\u001b[0m in \u001b[0;36mpandas._libs.index.IndexEngine.get_loc\u001b[0;34m()\u001b[0m\n",
      "\u001b[0;32mpandas/_libs/index.pyx\u001b[0m in \u001b[0;36mpandas._libs.index.IndexEngine.get_loc\u001b[0;34m()\u001b[0m\n",
      "\u001b[0;32mpandas/_libs/index.pyx\u001b[0m in \u001b[0;36mpandas._libs.index.IndexEngine._get_loc_duplicates\u001b[0;34m()\u001b[0m\n",
      "\u001b[0;31mKeyError\u001b[0m: '2018-01-12'",
      "\nDuring handling of the above exception, another exception occurred:\n",
      "\u001b[0;31mTypeError\u001b[0m                                 Traceback (most recent call last)",
      "\u001b[0;32m<ipython-input-66-b69555dd4915>\u001b[0m in \u001b[0;36m<module>\u001b[0;34m\u001b[0m\n\u001b[1;32m      1\u001b[0m \u001b[0;31m# Construct the X_train and y_train datasets\u001b[0m\u001b[0;34m\u001b[0m\u001b[0;34m\u001b[0m\u001b[0;34m\u001b[0m\u001b[0m\n\u001b[0;32m----> 2\u001b[0;31m \u001b[0mX_train\u001b[0m \u001b[0;34m=\u001b[0m \u001b[0mfinal_df\u001b[0m\u001b[0;34m[\u001b[0m\u001b[0mx_var_list\u001b[0m\u001b[0;34m]\u001b[0m\u001b[0;34m[\u001b[0m\u001b[0mtraining_start\u001b[0m\u001b[0;34m:\u001b[0m\u001b[0mtraining_end\u001b[0m\u001b[0;34m]\u001b[0m\u001b[0;34m\u001b[0m\u001b[0;34m\u001b[0m\u001b[0m\n\u001b[0m\u001b[1;32m      3\u001b[0m \u001b[0my_train\u001b[0m \u001b[0;34m=\u001b[0m \u001b[0mfinal_df\u001b[0m\u001b[0;34m[\u001b[0m\u001b[0;34m'close'\u001b[0m\u001b[0;34m]\u001b[0m\u001b[0;34m[\u001b[0m\u001b[0mtraining_start\u001b[0m\u001b[0;34m:\u001b[0m\u001b[0mtraining_end\u001b[0m\u001b[0;34m]\u001b[0m\u001b[0;34m\u001b[0m\u001b[0;34m\u001b[0m\u001b[0m\n",
      "\u001b[0;32m~/anaconda3/lib/python3.8/site-packages/pandas/core/frame.py\u001b[0m in \u001b[0;36m__getitem__\u001b[0;34m(self, key)\u001b[0m\n\u001b[1;32m   2777\u001b[0m \u001b[0;34m\u001b[0m\u001b[0m\n\u001b[1;32m   2778\u001b[0m         \u001b[0;31m# Do we have a slicer (on rows)?\u001b[0m\u001b[0;34m\u001b[0m\u001b[0;34m\u001b[0m\u001b[0;34m\u001b[0m\u001b[0m\n\u001b[0;32m-> 2779\u001b[0;31m         \u001b[0mindexer\u001b[0m \u001b[0;34m=\u001b[0m \u001b[0mconvert_to_index_sliceable\u001b[0m\u001b[0;34m(\u001b[0m\u001b[0mself\u001b[0m\u001b[0;34m,\u001b[0m \u001b[0mkey\u001b[0m\u001b[0;34m)\u001b[0m\u001b[0;34m\u001b[0m\u001b[0;34m\u001b[0m\u001b[0m\n\u001b[0m\u001b[1;32m   2780\u001b[0m         \u001b[0;32mif\u001b[0m \u001b[0mindexer\u001b[0m \u001b[0;32mis\u001b[0m \u001b[0;32mnot\u001b[0m \u001b[0;32mNone\u001b[0m\u001b[0;34m:\u001b[0m\u001b[0;34m\u001b[0m\u001b[0;34m\u001b[0m\u001b[0m\n\u001b[1;32m   2781\u001b[0m             \u001b[0;31m# either we have a slice or we have a string that can be converted\u001b[0m\u001b[0;34m\u001b[0m\u001b[0;34m\u001b[0m\u001b[0;34m\u001b[0m\u001b[0m\n",
      "\u001b[0;32m~/anaconda3/lib/python3.8/site-packages/pandas/core/indexing.py\u001b[0m in \u001b[0;36mconvert_to_index_sliceable\u001b[0;34m(obj, key)\u001b[0m\n\u001b[1;32m   2265\u001b[0m     \u001b[0midx\u001b[0m \u001b[0;34m=\u001b[0m \u001b[0mobj\u001b[0m\u001b[0;34m.\u001b[0m\u001b[0mindex\u001b[0m\u001b[0;34m\u001b[0m\u001b[0;34m\u001b[0m\u001b[0m\n\u001b[1;32m   2266\u001b[0m     \u001b[0;32mif\u001b[0m \u001b[0misinstance\u001b[0m\u001b[0;34m(\u001b[0m\u001b[0mkey\u001b[0m\u001b[0;34m,\u001b[0m \u001b[0mslice\u001b[0m\u001b[0;34m)\u001b[0m\u001b[0;34m:\u001b[0m\u001b[0;34m\u001b[0m\u001b[0;34m\u001b[0m\u001b[0m\n\u001b[0;32m-> 2267\u001b[0;31m         \u001b[0;32mreturn\u001b[0m \u001b[0midx\u001b[0m\u001b[0;34m.\u001b[0m\u001b[0m_convert_slice_indexer\u001b[0m\u001b[0;34m(\u001b[0m\u001b[0mkey\u001b[0m\u001b[0;34m,\u001b[0m \u001b[0mkind\u001b[0m\u001b[0;34m=\u001b[0m\u001b[0;34m\"getitem\"\u001b[0m\u001b[0;34m)\u001b[0m\u001b[0;34m\u001b[0m\u001b[0;34m\u001b[0m\u001b[0m\n\u001b[0m\u001b[1;32m   2268\u001b[0m \u001b[0;34m\u001b[0m\u001b[0m\n\u001b[1;32m   2269\u001b[0m     \u001b[0;32melif\u001b[0m \u001b[0misinstance\u001b[0m\u001b[0;34m(\u001b[0m\u001b[0mkey\u001b[0m\u001b[0;34m,\u001b[0m \u001b[0mstr\u001b[0m\u001b[0;34m)\u001b[0m\u001b[0;34m:\u001b[0m\u001b[0;34m\u001b[0m\u001b[0;34m\u001b[0m\u001b[0m\n",
      "\u001b[0;32m~/anaconda3/lib/python3.8/site-packages/pandas/core/indexes/base.py\u001b[0m in \u001b[0;36m_convert_slice_indexer\u001b[0;34m(self, key, kind)\u001b[0m\n\u001b[1;32m   2961\u001b[0m             \u001b[0mindexer\u001b[0m \u001b[0;34m=\u001b[0m \u001b[0mkey\u001b[0m\u001b[0;34m\u001b[0m\u001b[0;34m\u001b[0m\u001b[0m\n\u001b[1;32m   2962\u001b[0m         \u001b[0;32melse\u001b[0m\u001b[0;34m:\u001b[0m\u001b[0;34m\u001b[0m\u001b[0;34m\u001b[0m\u001b[0m\n\u001b[0;32m-> 2963\u001b[0;31m             \u001b[0mindexer\u001b[0m \u001b[0;34m=\u001b[0m \u001b[0mself\u001b[0m\u001b[0;34m.\u001b[0m\u001b[0mslice_indexer\u001b[0m\u001b[0;34m(\u001b[0m\u001b[0mstart\u001b[0m\u001b[0;34m,\u001b[0m \u001b[0mstop\u001b[0m\u001b[0;34m,\u001b[0m \u001b[0mstep\u001b[0m\u001b[0;34m,\u001b[0m \u001b[0mkind\u001b[0m\u001b[0;34m=\u001b[0m\u001b[0mkind\u001b[0m\u001b[0;34m)\u001b[0m\u001b[0;34m\u001b[0m\u001b[0;34m\u001b[0m\u001b[0m\n\u001b[0m\u001b[1;32m   2964\u001b[0m \u001b[0;34m\u001b[0m\u001b[0m\n\u001b[1;32m   2965\u001b[0m         \u001b[0;32mreturn\u001b[0m \u001b[0mindexer\u001b[0m\u001b[0;34m\u001b[0m\u001b[0;34m\u001b[0m\u001b[0m\n",
      "\u001b[0;32m~/anaconda3/lib/python3.8/site-packages/pandas/core/indexes/base.py\u001b[0m in \u001b[0;36mslice_indexer\u001b[0;34m(self, start, end, step, kind)\u001b[0m\n\u001b[1;32m   4711\u001b[0m         \u001b[0mslice\u001b[0m\u001b[0;34m(\u001b[0m\u001b[0;36m1\u001b[0m\u001b[0;34m,\u001b[0m \u001b[0;36m3\u001b[0m\u001b[0;34m)\u001b[0m\u001b[0;34m\u001b[0m\u001b[0;34m\u001b[0m\u001b[0m\n\u001b[1;32m   4712\u001b[0m         \"\"\"\n\u001b[0;32m-> 4713\u001b[0;31m         \u001b[0mstart_slice\u001b[0m\u001b[0;34m,\u001b[0m \u001b[0mend_slice\u001b[0m \u001b[0;34m=\u001b[0m \u001b[0mself\u001b[0m\u001b[0;34m.\u001b[0m\u001b[0mslice_locs\u001b[0m\u001b[0;34m(\u001b[0m\u001b[0mstart\u001b[0m\u001b[0;34m,\u001b[0m \u001b[0mend\u001b[0m\u001b[0;34m,\u001b[0m \u001b[0mstep\u001b[0m\u001b[0;34m=\u001b[0m\u001b[0mstep\u001b[0m\u001b[0;34m,\u001b[0m \u001b[0mkind\u001b[0m\u001b[0;34m=\u001b[0m\u001b[0mkind\u001b[0m\u001b[0;34m)\u001b[0m\u001b[0;34m\u001b[0m\u001b[0;34m\u001b[0m\u001b[0m\n\u001b[0m\u001b[1;32m   4714\u001b[0m \u001b[0;34m\u001b[0m\u001b[0m\n\u001b[1;32m   4715\u001b[0m         \u001b[0;31m# return a slice\u001b[0m\u001b[0;34m\u001b[0m\u001b[0;34m\u001b[0m\u001b[0;34m\u001b[0m\u001b[0m\n",
      "\u001b[0;32m~/anaconda3/lib/python3.8/site-packages/pandas/core/indexes/base.py\u001b[0m in \u001b[0;36mslice_locs\u001b[0;34m(self, start, end, step, kind)\u001b[0m\n\u001b[1;32m   4924\u001b[0m         \u001b[0mstart_slice\u001b[0m \u001b[0;34m=\u001b[0m \u001b[0;32mNone\u001b[0m\u001b[0;34m\u001b[0m\u001b[0;34m\u001b[0m\u001b[0m\n\u001b[1;32m   4925\u001b[0m         \u001b[0;32mif\u001b[0m \u001b[0mstart\u001b[0m \u001b[0;32mis\u001b[0m \u001b[0;32mnot\u001b[0m \u001b[0;32mNone\u001b[0m\u001b[0;34m:\u001b[0m\u001b[0;34m\u001b[0m\u001b[0;34m\u001b[0m\u001b[0m\n\u001b[0;32m-> 4926\u001b[0;31m             \u001b[0mstart_slice\u001b[0m \u001b[0;34m=\u001b[0m \u001b[0mself\u001b[0m\u001b[0;34m.\u001b[0m\u001b[0mget_slice_bound\u001b[0m\u001b[0;34m(\u001b[0m\u001b[0mstart\u001b[0m\u001b[0;34m,\u001b[0m \u001b[0;34m\"left\"\u001b[0m\u001b[0;34m,\u001b[0m \u001b[0mkind\u001b[0m\u001b[0;34m)\u001b[0m\u001b[0;34m\u001b[0m\u001b[0;34m\u001b[0m\u001b[0m\n\u001b[0m\u001b[1;32m   4927\u001b[0m         \u001b[0;32mif\u001b[0m \u001b[0mstart_slice\u001b[0m \u001b[0;32mis\u001b[0m \u001b[0;32mNone\u001b[0m\u001b[0;34m:\u001b[0m\u001b[0;34m\u001b[0m\u001b[0;34m\u001b[0m\u001b[0m\n\u001b[1;32m   4928\u001b[0m             \u001b[0mstart_slice\u001b[0m \u001b[0;34m=\u001b[0m \u001b[0;36m0\u001b[0m\u001b[0;34m\u001b[0m\u001b[0;34m\u001b[0m\u001b[0m\n",
      "\u001b[0;32m~/anaconda3/lib/python3.8/site-packages/pandas/core/indexes/base.py\u001b[0m in \u001b[0;36mget_slice_bound\u001b[0;34m(self, label, side, kind)\u001b[0m\n\u001b[1;32m   4843\u001b[0m         \u001b[0;32mexcept\u001b[0m \u001b[0mKeyError\u001b[0m \u001b[0;32mas\u001b[0m \u001b[0merr\u001b[0m\u001b[0;34m:\u001b[0m\u001b[0;34m\u001b[0m\u001b[0;34m\u001b[0m\u001b[0m\n\u001b[1;32m   4844\u001b[0m             \u001b[0;32mtry\u001b[0m\u001b[0;34m:\u001b[0m\u001b[0;34m\u001b[0m\u001b[0;34m\u001b[0m\u001b[0m\n\u001b[0;32m-> 4845\u001b[0;31m                 \u001b[0;32mreturn\u001b[0m \u001b[0mself\u001b[0m\u001b[0;34m.\u001b[0m\u001b[0m_searchsorted_monotonic\u001b[0m\u001b[0;34m(\u001b[0m\u001b[0mlabel\u001b[0m\u001b[0;34m,\u001b[0m \u001b[0mside\u001b[0m\u001b[0;34m)\u001b[0m\u001b[0;34m\u001b[0m\u001b[0;34m\u001b[0m\u001b[0m\n\u001b[0m\u001b[1;32m   4846\u001b[0m             \u001b[0;32mexcept\u001b[0m \u001b[0mValueError\u001b[0m\u001b[0;34m:\u001b[0m\u001b[0;34m\u001b[0m\u001b[0;34m\u001b[0m\u001b[0m\n\u001b[1;32m   4847\u001b[0m                 \u001b[0;31m# raise the original KeyError\u001b[0m\u001b[0;34m\u001b[0m\u001b[0;34m\u001b[0m\u001b[0;34m\u001b[0m\u001b[0m\n",
      "\u001b[0;32m~/anaconda3/lib/python3.8/site-packages/pandas/core/indexes/base.py\u001b[0m in \u001b[0;36m_searchsorted_monotonic\u001b[0;34m(self, label, side)\u001b[0m\n\u001b[1;32m   4794\u001b[0m     \u001b[0;32mdef\u001b[0m \u001b[0m_searchsorted_monotonic\u001b[0m\u001b[0;34m(\u001b[0m\u001b[0mself\u001b[0m\u001b[0;34m,\u001b[0m \u001b[0mlabel\u001b[0m\u001b[0;34m,\u001b[0m \u001b[0mside\u001b[0m\u001b[0;34m=\u001b[0m\u001b[0;34m\"left\"\u001b[0m\u001b[0;34m)\u001b[0m\u001b[0;34m:\u001b[0m\u001b[0;34m\u001b[0m\u001b[0;34m\u001b[0m\u001b[0m\n\u001b[1;32m   4795\u001b[0m         \u001b[0;32mif\u001b[0m \u001b[0mself\u001b[0m\u001b[0;34m.\u001b[0m\u001b[0mis_monotonic_increasing\u001b[0m\u001b[0;34m:\u001b[0m\u001b[0;34m\u001b[0m\u001b[0;34m\u001b[0m\u001b[0m\n\u001b[0;32m-> 4796\u001b[0;31m             \u001b[0;32mreturn\u001b[0m \u001b[0mself\u001b[0m\u001b[0;34m.\u001b[0m\u001b[0msearchsorted\u001b[0m\u001b[0;34m(\u001b[0m\u001b[0mlabel\u001b[0m\u001b[0;34m,\u001b[0m \u001b[0mside\u001b[0m\u001b[0;34m=\u001b[0m\u001b[0mside\u001b[0m\u001b[0;34m)\u001b[0m\u001b[0;34m\u001b[0m\u001b[0;34m\u001b[0m\u001b[0m\n\u001b[0m\u001b[1;32m   4797\u001b[0m         \u001b[0;32melif\u001b[0m \u001b[0mself\u001b[0m\u001b[0;34m.\u001b[0m\u001b[0mis_monotonic_decreasing\u001b[0m\u001b[0;34m:\u001b[0m\u001b[0;34m\u001b[0m\u001b[0;34m\u001b[0m\u001b[0m\n\u001b[1;32m   4798\u001b[0m             \u001b[0;31m# np.searchsorted expects ascending sort order, have to reverse\u001b[0m\u001b[0;34m\u001b[0m\u001b[0;34m\u001b[0m\u001b[0;34m\u001b[0m\u001b[0m\n",
      "\u001b[0;32m~/anaconda3/lib/python3.8/site-packages/pandas/core/base.py\u001b[0m in \u001b[0;36msearchsorted\u001b[0;34m(self, value, side, sorter)\u001b[0m\n\u001b[1;32m   1467\u001b[0m     \u001b[0;34m@\u001b[0m\u001b[0mAppender\u001b[0m\u001b[0;34m(\u001b[0m\u001b[0m_shared_docs\u001b[0m\u001b[0;34m[\u001b[0m\u001b[0;34m\"searchsorted\"\u001b[0m\u001b[0;34m]\u001b[0m\u001b[0;34m)\u001b[0m\u001b[0;34m\u001b[0m\u001b[0;34m\u001b[0m\u001b[0m\n\u001b[1;32m   1468\u001b[0m     \u001b[0;32mdef\u001b[0m \u001b[0msearchsorted\u001b[0m\u001b[0;34m(\u001b[0m\u001b[0mself\u001b[0m\u001b[0;34m,\u001b[0m \u001b[0mvalue\u001b[0m\u001b[0;34m,\u001b[0m \u001b[0mside\u001b[0m\u001b[0;34m=\u001b[0m\u001b[0;34m\"left\"\u001b[0m\u001b[0;34m,\u001b[0m \u001b[0msorter\u001b[0m\u001b[0;34m=\u001b[0m\u001b[0;32mNone\u001b[0m\u001b[0;34m)\u001b[0m\u001b[0;34m:\u001b[0m\u001b[0;34m\u001b[0m\u001b[0;34m\u001b[0m\u001b[0m\n\u001b[0;32m-> 1469\u001b[0;31m         \u001b[0;32mreturn\u001b[0m \u001b[0malgorithms\u001b[0m\u001b[0;34m.\u001b[0m\u001b[0msearchsorted\u001b[0m\u001b[0;34m(\u001b[0m\u001b[0mself\u001b[0m\u001b[0;34m.\u001b[0m\u001b[0m_values\u001b[0m\u001b[0;34m,\u001b[0m \u001b[0mvalue\u001b[0m\u001b[0;34m,\u001b[0m \u001b[0mside\u001b[0m\u001b[0;34m=\u001b[0m\u001b[0mside\u001b[0m\u001b[0;34m,\u001b[0m \u001b[0msorter\u001b[0m\u001b[0;34m=\u001b[0m\u001b[0msorter\u001b[0m\u001b[0;34m)\u001b[0m\u001b[0;34m\u001b[0m\u001b[0;34m\u001b[0m\u001b[0m\n\u001b[0m\u001b[1;32m   1470\u001b[0m \u001b[0;34m\u001b[0m\u001b[0m\n\u001b[1;32m   1471\u001b[0m     \u001b[0;32mdef\u001b[0m \u001b[0mdrop_duplicates\u001b[0m\u001b[0;34m(\u001b[0m\u001b[0mself\u001b[0m\u001b[0;34m,\u001b[0m \u001b[0mkeep\u001b[0m\u001b[0;34m=\u001b[0m\u001b[0;34m\"first\"\u001b[0m\u001b[0;34m,\u001b[0m \u001b[0minplace\u001b[0m\u001b[0;34m=\u001b[0m\u001b[0;32mFalse\u001b[0m\u001b[0;34m)\u001b[0m\u001b[0;34m:\u001b[0m\u001b[0;34m\u001b[0m\u001b[0;34m\u001b[0m\u001b[0m\n",
      "\u001b[0;32m~/anaconda3/lib/python3.8/site-packages/pandas/core/algorithms.py\u001b[0m in \u001b[0;36msearchsorted\u001b[0;34m(arr, value, side, sorter)\u001b[0m\n\u001b[1;32m   1809\u001b[0m             \u001b[0mvalue\u001b[0m \u001b[0;34m=\u001b[0m \u001b[0mvalue\u001b[0m\u001b[0;34m.\u001b[0m\u001b[0mto_datetime64\u001b[0m\u001b[0;34m(\u001b[0m\u001b[0;34m)\u001b[0m\u001b[0;34m\u001b[0m\u001b[0;34m\u001b[0m\u001b[0m\n\u001b[1;32m   1810\u001b[0m \u001b[0;34m\u001b[0m\u001b[0m\n\u001b[0;32m-> 1811\u001b[0;31m     \u001b[0mresult\u001b[0m \u001b[0;34m=\u001b[0m \u001b[0marr\u001b[0m\u001b[0;34m.\u001b[0m\u001b[0msearchsorted\u001b[0m\u001b[0;34m(\u001b[0m\u001b[0mvalue\u001b[0m\u001b[0;34m,\u001b[0m \u001b[0mside\u001b[0m\u001b[0;34m=\u001b[0m\u001b[0mside\u001b[0m\u001b[0;34m,\u001b[0m \u001b[0msorter\u001b[0m\u001b[0;34m=\u001b[0m\u001b[0msorter\u001b[0m\u001b[0;34m)\u001b[0m\u001b[0;34m\u001b[0m\u001b[0;34m\u001b[0m\u001b[0m\n\u001b[0m\u001b[1;32m   1812\u001b[0m     \u001b[0;32mreturn\u001b[0m \u001b[0mresult\u001b[0m\u001b[0;34m\u001b[0m\u001b[0;34m\u001b[0m\u001b[0m\n\u001b[1;32m   1813\u001b[0m \u001b[0;34m\u001b[0m\u001b[0m\n",
      "\u001b[0;31mTypeError\u001b[0m: '<' not supported between instances of 'datetime.date' and 'str'"
     ]
    }
   ],
   "source": [
    "# Construct the X_train and y_train datasets\n",
    "X_train = final_df[x_var_list][training_start:training_end]\n",
    "y_train = final_df['close'][training_start:training_end]"
   ]
  },
  {
   "cell_type": "code",
   "execution_count": 44,
   "metadata": {},
   "outputs": [
    {
     "output_type": "error",
     "ename": "NameError",
     "evalue": "name 'ts_file_df' is not defined",
     "traceback": [
      "\u001b[0;31m---------------------------------------------------------------------------\u001b[0m",
      "\u001b[0;31mNameError\u001b[0m                                 Traceback (most recent call last)",
      "\u001b[0;32m<ipython-input-44-5688ad817518>\u001b[0m in \u001b[0;36m<module>\u001b[0;34m\u001b[0m\n\u001b[0;32m----> 1\u001b[0;31m \u001b[0mX_test\u001b[0m \u001b[0;34m=\u001b[0m \u001b[0mts_file_df\u001b[0m\u001b[0;34m[\u001b[0m\u001b[0mx_var_list\u001b[0m\u001b[0;34m]\u001b[0m\u001b[0;34m[\u001b[0m\u001b[0mtesting_start\u001b[0m\u001b[0;34m:\u001b[0m\u001b[0mtesting_end\u001b[0m\u001b[0;34m]\u001b[0m\u001b[0;34m\u001b[0m\u001b[0;34m\u001b[0m\u001b[0m\n\u001b[0m\u001b[1;32m      2\u001b[0m \u001b[0my_test\u001b[0m \u001b[0;34m=\u001b[0m \u001b[0mts_file_df\u001b[0m\u001b[0;34m[\u001b[0m\u001b[0;34m'close'\u001b[0m\u001b[0;34m]\u001b[0m\u001b[0;34m[\u001b[0m\u001b[0mtesting_start\u001b[0m\u001b[0;34m:\u001b[0m\u001b[0mtesting_end\u001b[0m\u001b[0;34m]\u001b[0m\u001b[0;34m\u001b[0m\u001b[0;34m\u001b[0m\u001b[0m\n",
      "\u001b[0;31mNameError\u001b[0m: name 'ts_file_df' is not defined"
     ]
    }
   ],
   "source": [
    "X_test = final_df[x_var_list][testing_start:testing_end]\n",
    "y_test = ts_file_df['close'][testing_start:testing_end]"
   ]
  },
  {
   "cell_type": "code",
   "execution_count": 45,
   "metadata": {},
   "outputs": [
    {
     "output_type": "error",
     "ename": "NameError",
     "evalue": "name 'X_train' is not defined",
     "traceback": [
      "\u001b[0;31m---------------------------------------------------------------------------\u001b[0m",
      "\u001b[0;31mNameError\u001b[0m                                 Traceback (most recent call last)",
      "\u001b[0;32m<ipython-input-45-8a80c8ca669d>\u001b[0m in \u001b[0;36m<module>\u001b[0;34m\u001b[0m\n\u001b[1;32m      9\u001b[0m \u001b[0;34m\u001b[0m\u001b[0m\n\u001b[1;32m     10\u001b[0m \u001b[0;31m# Scale the features training and testing sets\u001b[0m\u001b[0;34m\u001b[0m\u001b[0;34m\u001b[0m\u001b[0;34m\u001b[0m\u001b[0m\n\u001b[0;32m---> 11\u001b[0;31m \u001b[0mX_train\u001b[0m \u001b[0;34m=\u001b[0m \u001b[0mscaler\u001b[0m\u001b[0;34m.\u001b[0m\u001b[0mtransform\u001b[0m\u001b[0;34m(\u001b[0m\u001b[0mX_train\u001b[0m\u001b[0;34m)\u001b[0m\u001b[0;34m\u001b[0m\u001b[0;34m\u001b[0m\u001b[0m\n\u001b[0m\u001b[1;32m     12\u001b[0m \u001b[0mX_test\u001b[0m \u001b[0;34m=\u001b[0m \u001b[0mscaler\u001b[0m\u001b[0;34m.\u001b[0m\u001b[0mtransform\u001b[0m\u001b[0;34m(\u001b[0m\u001b[0mX_test\u001b[0m\u001b[0;34m)\u001b[0m\u001b[0;34m\u001b[0m\u001b[0;34m\u001b[0m\u001b[0m\n\u001b[1;32m     13\u001b[0m \u001b[0;34m\u001b[0m\u001b[0m\n",
      "\u001b[0;31mNameError\u001b[0m: name 'X_train' is not defined"
     ]
    }
   ],
   "source": [
    "# Importing the MinMaxScaler from sklearn\n",
    "from sklearn.preprocessing import MinMaxScaler\n",
    "\n",
    "# Create a MinMaxScaler object\n",
    "scaler = MinMaxScaler()\n",
    "\n",
    "# Fit the MinMaxScaler object with the features data X\n",
    "scaler.fit(X)\n",
    "\n",
    "# Scale the features training and testing sets\n",
    "X_train = scaler.transform(X_train)\n",
    "X_test = scaler.transform(X_test)\n",
    "\n",
    "# Fit the MinMaxScaler object with the target data Y\n",
    "scaler.fit(y)\n",
    "\n",
    "# Scale the target training and testing sets\n",
    "y_train = scaler.transform(y_train)\n",
    "y_test = scaler.transform(y_test)"
   ]
  },
  {
   "cell_type": "code",
   "execution_count": 46,
   "metadata": {
    "tags": []
   },
   "outputs": [
    {
     "output_type": "error",
     "ename": "NameError",
     "evalue": "name 'X_train' is not defined",
     "traceback": [
      "\u001b[0;31m---------------------------------------------------------------------------\u001b[0m",
      "\u001b[0;31mNameError\u001b[0m                                 Traceback (most recent call last)",
      "\u001b[0;32m<ipython-input-46-069e2ba2d91d>\u001b[0m in \u001b[0;36m<module>\u001b[0;34m\u001b[0m\n\u001b[1;32m      1\u001b[0m \u001b[0;31m# Reshape the features data\u001b[0m\u001b[0;34m\u001b[0m\u001b[0;34m\u001b[0m\u001b[0;34m\u001b[0m\u001b[0m\n\u001b[0;32m----> 2\u001b[0;31m \u001b[0mX_train\u001b[0m \u001b[0;34m=\u001b[0m \u001b[0mX_train\u001b[0m\u001b[0;34m.\u001b[0m\u001b[0mreshape\u001b[0m\u001b[0;34m(\u001b[0m\u001b[0;34m(\u001b[0m\u001b[0mX_train\u001b[0m\u001b[0;34m.\u001b[0m\u001b[0mshape\u001b[0m\u001b[0;34m[\u001b[0m\u001b[0;36m0\u001b[0m\u001b[0;34m]\u001b[0m\u001b[0;34m,\u001b[0m \u001b[0mX_train\u001b[0m\u001b[0;34m.\u001b[0m\u001b[0mshape\u001b[0m\u001b[0;34m[\u001b[0m\u001b[0;36m1\u001b[0m\u001b[0;34m]\u001b[0m\u001b[0;34m,\u001b[0m \u001b[0;36m1\u001b[0m\u001b[0;34m)\u001b[0m\u001b[0;34m)\u001b[0m\u001b[0;34m\u001b[0m\u001b[0;34m\u001b[0m\u001b[0m\n\u001b[0m\u001b[1;32m      3\u001b[0m \u001b[0mX_test\u001b[0m \u001b[0;34m=\u001b[0m \u001b[0mX_test\u001b[0m\u001b[0;34m.\u001b[0m\u001b[0mreshape\u001b[0m\u001b[0;34m(\u001b[0m\u001b[0;34m(\u001b[0m\u001b[0mX_test\u001b[0m\u001b[0;34m.\u001b[0m\u001b[0mshape\u001b[0m\u001b[0;34m[\u001b[0m\u001b[0;36m0\u001b[0m\u001b[0;34m]\u001b[0m\u001b[0;34m,\u001b[0m \u001b[0mX_test\u001b[0m\u001b[0;34m.\u001b[0m\u001b[0mshape\u001b[0m\u001b[0;34m[\u001b[0m\u001b[0;36m1\u001b[0m\u001b[0;34m]\u001b[0m\u001b[0;34m,\u001b[0m \u001b[0;36m1\u001b[0m\u001b[0;34m)\u001b[0m\u001b[0;34m)\u001b[0m\u001b[0;34m\u001b[0m\u001b[0;34m\u001b[0m\u001b[0m\n\u001b[1;32m      4\u001b[0m \u001b[0;34m\u001b[0m\u001b[0m\n\u001b[1;32m      5\u001b[0m \u001b[0;31m# Print some sample data after reshaping the datasets\u001b[0m\u001b[0;34m\u001b[0m\u001b[0;34m\u001b[0m\u001b[0;34m\u001b[0m\u001b[0m\n",
      "\u001b[0;31mNameError\u001b[0m: name 'X_train' is not defined"
     ]
    }
   ],
   "source": [
    "# Reshape the features data\n",
    "X_train = X_train.reshape((X_train.shape[0], X_train.shape[1], 1))\n",
    "X_test = X_test.reshape((X_test.shape[0], X_test.shape[1], 1))\n",
    "\n",
    "# Print some sample data after reshaping the datasets\n",
    "print (f\"X_train sample values:\\n{X_train[:3]} \\n\")\n",
    "print (f\"X_test sample values:\\n{X_test[:3]}\")"
   ]
  },
  {
   "cell_type": "code",
   "execution_count": 47,
   "metadata": {},
   "outputs": [],
   "source": [
    "# Importing required Keras modules\n",
    "from tensorflow.keras.models import Sequential\n",
    "from tensorflow.keras.layers import LSTM, Dense, Dropout"
   ]
  },
  {
   "cell_type": "code",
   "execution_count": 48,
   "metadata": {},
   "outputs": [
    {
     "output_type": "error",
     "ename": "NameError",
     "evalue": "name 'X_train' is not defined",
     "traceback": [
      "\u001b[0;31m---------------------------------------------------------------------------\u001b[0m",
      "\u001b[0;31mNameError\u001b[0m                                 Traceback (most recent call last)",
      "\u001b[0;32m<ipython-input-48-9fef6079c230>\u001b[0m in \u001b[0;36m<module>\u001b[0;34m\u001b[0m\n\u001b[1;32m     10\u001b[0m     \u001b[0munits\u001b[0m\u001b[0;34m=\u001b[0m\u001b[0mnumber_units\u001b[0m\u001b[0;34m,\u001b[0m\u001b[0;34m\u001b[0m\u001b[0;34m\u001b[0m\u001b[0m\n\u001b[1;32m     11\u001b[0m     \u001b[0mreturn_sequences\u001b[0m\u001b[0;34m=\u001b[0m\u001b[0;32mTrue\u001b[0m\u001b[0;34m,\u001b[0m\u001b[0;34m\u001b[0m\u001b[0;34m\u001b[0m\u001b[0m\n\u001b[0;32m---> 12\u001b[0;31m     input_shape=(X_train.shape[1], 1))\n\u001b[0m\u001b[1;32m     13\u001b[0m     )\n\u001b[1;32m     14\u001b[0m \u001b[0mmodel\u001b[0m\u001b[0;34m.\u001b[0m\u001b[0madd\u001b[0m\u001b[0;34m(\u001b[0m\u001b[0mDropout\u001b[0m\u001b[0;34m(\u001b[0m\u001b[0mdropout_fraction\u001b[0m\u001b[0;34m)\u001b[0m\u001b[0;34m)\u001b[0m\u001b[0;34m\u001b[0m\u001b[0;34m\u001b[0m\u001b[0m\n",
      "\u001b[0;31mNameError\u001b[0m: name 'X_train' is not defined"
     ]
    }
   ],
   "source": [
    "# Define the LSTM RNN model.\n",
    "model = Sequential()\n",
    "\n",
    "# Initial model setup\n",
    "number_units = 30\n",
    "dropout_fraction = 0.2\n",
    "\n",
    "# Layer 1\n",
    "model.add(LSTM(\n",
    "    units=number_units,\n",
    "    return_sequences=True,\n",
    "    input_shape=(X_train.shape[1], 1))\n",
    "    )\n",
    "model.add(Dropout(dropout_fraction))\n",
    "\n",
    "# Layer 2\n",
    "model.add(LSTM(units=number_units, return_sequences=True))\n",
    "model.add(Dropout(dropout_fraction))\n",
    "\n",
    "# Layer 3\n",
    "model.add(LSTM(units=number_units))\n",
    "model.add(Dropout(dropout_fraction))\n",
    "\n",
    "# Output layer\n",
    "model.add(Dense(1))"
   ]
  },
  {
   "cell_type": "code",
   "execution_count": 49,
   "metadata": {},
   "outputs": [],
   "source": [
    "# Compile the model\n",
    "model.compile(optimizer=\"adam\", loss=\"mean_squared_error\")"
   ]
  },
  {
   "cell_type": "code",
   "execution_count": 50,
   "metadata": {
    "tags": []
   },
   "outputs": [
    {
     "output_type": "error",
     "ename": "ValueError",
     "evalue": "This model has not yet been built. Build the model first by calling `build()` or calling `fit()` with some data, or specify an `input_shape` argument in the first layer(s) for automatic build.",
     "traceback": [
      "\u001b[0;31m---------------------------------------------------------------------------\u001b[0m",
      "\u001b[0;31mValueError\u001b[0m                                Traceback (most recent call last)",
      "\u001b[0;32m<ipython-input-50-0babf464fafd>\u001b[0m in \u001b[0;36m<module>\u001b[0;34m\u001b[0m\n\u001b[1;32m      1\u001b[0m \u001b[0;31m# Show the model summary\u001b[0m\u001b[0;34m\u001b[0m\u001b[0;34m\u001b[0m\u001b[0;34m\u001b[0m\u001b[0m\n\u001b[0;32m----> 2\u001b[0;31m \u001b[0mmodel\u001b[0m\u001b[0;34m.\u001b[0m\u001b[0msummary\u001b[0m\u001b[0;34m(\u001b[0m\u001b[0;34m)\u001b[0m\u001b[0;34m\u001b[0m\u001b[0;34m\u001b[0m\u001b[0m\n\u001b[0m",
      "\u001b[0;32m~/anaconda3/lib/python3.8/site-packages/tensorflow/python/keras/engine/training.py\u001b[0m in \u001b[0;36msummary\u001b[0;34m(self, line_length, positions, print_fn)\u001b[0m\n\u001b[1;32m   2349\u001b[0m     \"\"\"\n\u001b[1;32m   2350\u001b[0m     \u001b[0;32mif\u001b[0m \u001b[0;32mnot\u001b[0m \u001b[0mself\u001b[0m\u001b[0;34m.\u001b[0m\u001b[0mbuilt\u001b[0m\u001b[0;34m:\u001b[0m\u001b[0;34m\u001b[0m\u001b[0;34m\u001b[0m\u001b[0m\n\u001b[0;32m-> 2351\u001b[0;31m       raise ValueError('This model has not yet been built. '\n\u001b[0m\u001b[1;32m   2352\u001b[0m                        \u001b[0;34m'Build the model first by calling `build()` or calling '\u001b[0m\u001b[0;34m\u001b[0m\u001b[0;34m\u001b[0m\u001b[0m\n\u001b[1;32m   2353\u001b[0m                        \u001b[0;34m'`fit()` with some data, or specify '\u001b[0m\u001b[0;34m\u001b[0m\u001b[0;34m\u001b[0m\u001b[0m\n",
      "\u001b[0;31mValueError\u001b[0m: This model has not yet been built. Build the model first by calling `build()` or calling `fit()` with some data, or specify an `input_shape` argument in the first layer(s) for automatic build."
     ]
    }
   ],
   "source": [
    "# Show the model summary\n",
    "model.summary()"
   ]
  },
  {
   "cell_type": "code",
   "execution_count": 51,
   "metadata": {
    "tags": []
   },
   "outputs": [
    {
     "output_type": "error",
     "ename": "NameError",
     "evalue": "name 'X_train' is not defined",
     "traceback": [
      "\u001b[0;31m---------------------------------------------------------------------------\u001b[0m",
      "\u001b[0;31mNameError\u001b[0m                                 Traceback (most recent call last)",
      "\u001b[0;32m<ipython-input-51-d6e2dd9de098>\u001b[0m in \u001b[0;36m<module>\u001b[0;34m\u001b[0m\n\u001b[1;32m      1\u001b[0m \u001b[0;31m# Train the model\u001b[0m\u001b[0;34m\u001b[0m\u001b[0;34m\u001b[0m\u001b[0;34m\u001b[0m\u001b[0m\n\u001b[0;32m----> 2\u001b[0;31m \u001b[0mmodel\u001b[0m\u001b[0;34m.\u001b[0m\u001b[0mfit\u001b[0m\u001b[0;34m(\u001b[0m\u001b[0mX_train\u001b[0m\u001b[0;34m,\u001b[0m \u001b[0my_train\u001b[0m\u001b[0;34m,\u001b[0m \u001b[0mepochs\u001b[0m\u001b[0;34m=\u001b[0m\u001b[0;36m10\u001b[0m\u001b[0;34m,\u001b[0m \u001b[0mshuffle\u001b[0m\u001b[0;34m=\u001b[0m\u001b[0;32mFalse\u001b[0m\u001b[0;34m,\u001b[0m \u001b[0mbatch_size\u001b[0m\u001b[0;34m=\u001b[0m\u001b[0;36m90\u001b[0m\u001b[0;34m,\u001b[0m \u001b[0mverbose\u001b[0m\u001b[0;34m=\u001b[0m\u001b[0;36m1\u001b[0m\u001b[0;34m)\u001b[0m\u001b[0;34m\u001b[0m\u001b[0;34m\u001b[0m\u001b[0m\n\u001b[0m",
      "\u001b[0;31mNameError\u001b[0m: name 'X_train' is not defined"
     ]
    }
   ],
   "source": [
    "# Train the model\n",
    "model.fit(X_train, y_train, epochs=10, shuffle=False, batch_size=90, verbose=1)"
   ]
  },
  {
   "cell_type": "code",
   "execution_count": 52,
   "metadata": {},
   "outputs": [
    {
     "output_type": "error",
     "ename": "NameError",
     "evalue": "name 'X_test' is not defined",
     "traceback": [
      "\u001b[0;31m---------------------------------------------------------------------------\u001b[0m",
      "\u001b[0;31mNameError\u001b[0m                                 Traceback (most recent call last)",
      "\u001b[0;32m<ipython-input-52-644db0a49ee7>\u001b[0m in \u001b[0;36m<module>\u001b[0;34m\u001b[0m\n\u001b[1;32m      1\u001b[0m \u001b[0;31m# Evaluate the model\u001b[0m\u001b[0;34m\u001b[0m\u001b[0;34m\u001b[0m\u001b[0;34m\u001b[0m\u001b[0m\n\u001b[0;32m----> 2\u001b[0;31m \u001b[0mmodel\u001b[0m\u001b[0;34m.\u001b[0m\u001b[0mevaluate\u001b[0m\u001b[0;34m(\u001b[0m\u001b[0mX_test\u001b[0m\u001b[0;34m,\u001b[0m \u001b[0my_test\u001b[0m\u001b[0;34m,\u001b[0m \u001b[0mverbose\u001b[0m\u001b[0;34m=\u001b[0m\u001b[0;36m0\u001b[0m\u001b[0;34m)\u001b[0m\u001b[0;34m\u001b[0m\u001b[0;34m\u001b[0m\u001b[0m\n\u001b[0m",
      "\u001b[0;31mNameError\u001b[0m: name 'X_test' is not defined"
     ]
    }
   ],
   "source": [
    "# Evaluate the model\n",
    "model.evaluate(X_test, y_test, verbose=0)"
   ]
  },
  {
   "cell_type": "code",
   "execution_count": null,
   "metadata": {},
   "outputs": [],
   "source": []
  },
  {
   "cell_type": "code",
   "execution_count": 53,
   "metadata": {},
   "outputs": [
    {
     "output_type": "error",
     "ename": "NameError",
     "evalue": "name 'X_test' is not defined",
     "traceback": [
      "\u001b[0;31m---------------------------------------------------------------------------\u001b[0m",
      "\u001b[0;31mNameError\u001b[0m                                 Traceback (most recent call last)",
      "\u001b[0;32m<ipython-input-53-2f77f7ec1bad>\u001b[0m in \u001b[0;36m<module>\u001b[0;34m\u001b[0m\n\u001b[1;32m      1\u001b[0m \u001b[0;31m# Make predictions using the testing data X_test\u001b[0m\u001b[0;34m\u001b[0m\u001b[0;34m\u001b[0m\u001b[0;34m\u001b[0m\u001b[0m\n\u001b[0;32m----> 2\u001b[0;31m \u001b[0mpredicted\u001b[0m \u001b[0;34m=\u001b[0m \u001b[0mmodel\u001b[0m\u001b[0;34m.\u001b[0m\u001b[0mpredict\u001b[0m\u001b[0;34m(\u001b[0m\u001b[0mX_test\u001b[0m\u001b[0;34m)\u001b[0m\u001b[0;34m\u001b[0m\u001b[0;34m\u001b[0m\u001b[0m\n\u001b[0m",
      "\u001b[0;31mNameError\u001b[0m: name 'X_test' is not defined"
     ]
    }
   ],
   "source": [
    "# Make predictions using the testing data X_test\n",
    "predicted = model.predict(X_test)"
   ]
  },
  {
   "cell_type": "code",
   "execution_count": 54,
   "metadata": {},
   "outputs": [
    {
     "output_type": "error",
     "ename": "NameError",
     "evalue": "name 'predicted' is not defined",
     "traceback": [
      "\u001b[0;31m---------------------------------------------------------------------------\u001b[0m",
      "\u001b[0;31mNameError\u001b[0m                                 Traceback (most recent call last)",
      "\u001b[0;32m<ipython-input-54-2c60b6890b0c>\u001b[0m in \u001b[0;36m<module>\u001b[0;34m\u001b[0m\n\u001b[1;32m      1\u001b[0m \u001b[0;31m# Recover the original prices instead of the scaled version\u001b[0m\u001b[0;34m\u001b[0m\u001b[0;34m\u001b[0m\u001b[0;34m\u001b[0m\u001b[0m\n\u001b[0;32m----> 2\u001b[0;31m \u001b[0mpredicted_prices\u001b[0m \u001b[0;34m=\u001b[0m \u001b[0mscaler\u001b[0m\u001b[0;34m.\u001b[0m\u001b[0minverse_transform\u001b[0m\u001b[0;34m(\u001b[0m\u001b[0mpredicted\u001b[0m\u001b[0;34m)\u001b[0m\u001b[0;34m\u001b[0m\u001b[0;34m\u001b[0m\u001b[0m\n\u001b[0m\u001b[1;32m      3\u001b[0m \u001b[0mreal_prices\u001b[0m \u001b[0;34m=\u001b[0m \u001b[0mscaler\u001b[0m\u001b[0;34m.\u001b[0m\u001b[0minverse_transform\u001b[0m\u001b[0;34m(\u001b[0m\u001b[0my_test\u001b[0m\u001b[0;34m.\u001b[0m\u001b[0mreshape\u001b[0m\u001b[0;34m(\u001b[0m\u001b[0;34m-\u001b[0m\u001b[0;36m1\u001b[0m\u001b[0;34m,\u001b[0m \u001b[0;36m1\u001b[0m\u001b[0;34m)\u001b[0m\u001b[0;34m)\u001b[0m\u001b[0;34m\u001b[0m\u001b[0;34m\u001b[0m\u001b[0m\n",
      "\u001b[0;31mNameError\u001b[0m: name 'predicted' is not defined"
     ]
    }
   ],
   "source": [
    "# Recover the original prices instead of the scaled version\n",
    "predicted_prices = scaler.inverse_transform(predicted)\n",
    "real_prices = scaler.inverse_transform(y_test.reshape(-1, 1))"
   ]
  },
  {
   "cell_type": "code",
   "execution_count": 55,
   "metadata": {},
   "outputs": [
    {
     "output_type": "error",
     "ename": "NameError",
     "evalue": "name 'real_prices' is not defined",
     "traceback": [
      "\u001b[0;31m---------------------------------------------------------------------------\u001b[0m",
      "\u001b[0;31mNameError\u001b[0m                                 Traceback (most recent call last)",
      "\u001b[0;32m<ipython-input-55-3474750dd10a>\u001b[0m in \u001b[0;36m<module>\u001b[0;34m\u001b[0m\n\u001b[1;32m      1\u001b[0m \u001b[0;31m# Create a DataFrame of Real and Predicted values\u001b[0m\u001b[0;34m\u001b[0m\u001b[0;34m\u001b[0m\u001b[0;34m\u001b[0m\u001b[0m\n\u001b[1;32m      2\u001b[0m stocks = pd.DataFrame({\n\u001b[0;32m----> 3\u001b[0;31m     \u001b[0;34m\"Actual\"\u001b[0m\u001b[0;34m:\u001b[0m \u001b[0mreal_prices\u001b[0m\u001b[0;34m.\u001b[0m\u001b[0mravel\u001b[0m\u001b[0;34m(\u001b[0m\u001b[0;34m)\u001b[0m\u001b[0;34m,\u001b[0m\u001b[0;34m\u001b[0m\u001b[0;34m\u001b[0m\u001b[0m\n\u001b[0m\u001b[1;32m      4\u001b[0m     \u001b[0;34m\"Predicted\"\u001b[0m\u001b[0;34m:\u001b[0m \u001b[0mpredicted_prices\u001b[0m\u001b[0;34m.\u001b[0m\u001b[0mravel\u001b[0m\u001b[0;34m(\u001b[0m\u001b[0;34m)\u001b[0m\u001b[0;34m\u001b[0m\u001b[0;34m\u001b[0m\u001b[0m\n\u001b[1;32m      5\u001b[0m }, index = final_df.index[-len(real_prices): ]) \n",
      "\u001b[0;31mNameError\u001b[0m: name 'real_prices' is not defined"
     ]
    }
   ],
   "source": [
    "# Create a DataFrame of Real and Predicted values\n",
    "stocks = pd.DataFrame({\n",
    "    \"Actual\": real_prices.ravel(),\n",
    "    \"Predicted\": predicted_prices.ravel()\n",
    "}, index = final_df.index[-len(real_prices): ]) \n",
    "\n",
    "# Show the DataFrame's head\n",
    "stocks.head()"
   ]
  },
  {
   "cell_type": "code",
   "execution_count": 56,
   "metadata": {},
   "outputs": [
    {
     "output_type": "error",
     "ename": "NameError",
     "evalue": "name 'stocks' is not defined",
     "traceback": [
      "\u001b[0;31m---------------------------------------------------------------------------\u001b[0m",
      "\u001b[0;31mNameError\u001b[0m                                 Traceback (most recent call last)",
      "\u001b[0;32m<ipython-input-56-88e973ef15a5>\u001b[0m in \u001b[0;36m<module>\u001b[0;34m\u001b[0m\n\u001b[1;32m      1\u001b[0m \u001b[0;31m# Plot the real vs predicted prices as a line chart\u001b[0m\u001b[0;34m\u001b[0m\u001b[0;34m\u001b[0m\u001b[0;34m\u001b[0m\u001b[0m\n\u001b[0;32m----> 2\u001b[0;31m \u001b[0mstocks\u001b[0m\u001b[0;34m.\u001b[0m\u001b[0mplot\u001b[0m\u001b[0;34m(\u001b[0m\u001b[0mtitle\u001b[0m\u001b[0;34m=\u001b[0m\u001b[0;34m\"Actual Vs. Predicted  Prices\"\u001b[0m\u001b[0;34m)\u001b[0m\u001b[0;34m\u001b[0m\u001b[0;34m\u001b[0m\u001b[0m\n\u001b[0m",
      "\u001b[0;31mNameError\u001b[0m: name 'stocks' is not defined"
     ]
    }
   ],
   "source": [
    "# Plot the real vs predicted prices as a line chart\n",
    "stocks.plot(title=\"Actual Vs. Predicted  Prices\")"
   ]
  },
  {
   "cell_type": "code",
   "execution_count": 57,
   "metadata": {},
   "outputs": [
    {
     "output_type": "error",
     "ename": "NameError",
     "evalue": "name 'stocks' is not defined",
     "traceback": [
      "\u001b[0;31m---------------------------------------------------------------------------\u001b[0m",
      "\u001b[0;31mNameError\u001b[0m                                 Traceback (most recent call last)",
      "\u001b[0;32m<ipython-input-57-fc8a5568d60f>\u001b[0m in \u001b[0;36m<module>\u001b[0;34m\u001b[0m\n\u001b[0;32m----> 1\u001b[0;31m \u001b[0mprice\u001b[0m \u001b[0;34m=\u001b[0m \u001b[0mpd\u001b[0m\u001b[0;34m.\u001b[0m\u001b[0mDataFrame\u001b[0m\u001b[0;34m(\u001b[0m\u001b[0mstocks\u001b[0m\u001b[0;34m)\u001b[0m\u001b[0;34m\u001b[0m\u001b[0;34m\u001b[0m\u001b[0m\n\u001b[0m\u001b[1;32m      2\u001b[0m \u001b[0mprice\u001b[0m\u001b[0;34m\u001b[0m\u001b[0;34m\u001b[0m\u001b[0m\n",
      "\u001b[0;31mNameError\u001b[0m: name 'stocks' is not defined"
     ]
    }
   ],
   "source": [
    "price = pd.DataFrame(stocks)\n",
    "price"
   ]
  },
  {
   "cell_type": "code",
   "execution_count": 58,
   "metadata": {},
   "outputs": [],
   "source": [
    "fast_ema = 9\n",
    "slow_ema = 21"
   ]
  },
  {
   "cell_type": "code",
   "execution_count": 59,
   "metadata": {},
   "outputs": [
    {
     "output_type": "error",
     "ename": "NameError",
     "evalue": "name 'price' is not defined",
     "traceback": [
      "\u001b[0;31m---------------------------------------------------------------------------\u001b[0m",
      "\u001b[0;31mNameError\u001b[0m                                 Traceback (most recent call last)",
      "\u001b[0;32m<ipython-input-59-ea57c7b0837b>\u001b[0m in \u001b[0;36m<module>\u001b[0;34m\u001b[0m\n\u001b[1;32m      1\u001b[0m \u001b[0;31m# create EMAs columns\u001b[0m\u001b[0;34m\u001b[0m\u001b[0;34m\u001b[0m\u001b[0;34m\u001b[0m\u001b[0m\n\u001b[0;32m----> 2\u001b[0;31m \u001b[0mprice\u001b[0m\u001b[0;34m[\u001b[0m\u001b[0;34m'pEMA9'\u001b[0m\u001b[0;34m]\u001b[0m \u001b[0;34m=\u001b[0m \u001b[0mprice\u001b[0m\u001b[0;34m[\u001b[0m\u001b[0;34m'Predicted'\u001b[0m\u001b[0;34m]\u001b[0m\u001b[0;34m.\u001b[0m\u001b[0mewm\u001b[0m\u001b[0;34m(\u001b[0m\u001b[0mspan\u001b[0m\u001b[0;34m=\u001b[0m\u001b[0mfast_ema\u001b[0m\u001b[0;34m,\u001b[0m \u001b[0madjust\u001b[0m\u001b[0;34m=\u001b[0m\u001b[0;32mFalse\u001b[0m\u001b[0;34m)\u001b[0m\u001b[0;34m.\u001b[0m\u001b[0mmean\u001b[0m\u001b[0;34m(\u001b[0m\u001b[0;34m)\u001b[0m\u001b[0;34m\u001b[0m\u001b[0;34m\u001b[0m\u001b[0m\n\u001b[0m\u001b[1;32m      3\u001b[0m \u001b[0mprice\u001b[0m\u001b[0;34m[\u001b[0m\u001b[0;34m'pEMA21'\u001b[0m\u001b[0;34m]\u001b[0m \u001b[0;34m=\u001b[0m \u001b[0mprice\u001b[0m\u001b[0;34m[\u001b[0m\u001b[0;34m'Predicted'\u001b[0m\u001b[0;34m]\u001b[0m\u001b[0;34m.\u001b[0m\u001b[0mewm\u001b[0m\u001b[0;34m(\u001b[0m\u001b[0mspan\u001b[0m\u001b[0;34m=\u001b[0m\u001b[0mslow_ema\u001b[0m\u001b[0;34m,\u001b[0m \u001b[0madjust\u001b[0m\u001b[0;34m=\u001b[0m\u001b[0;32mFalse\u001b[0m\u001b[0;34m)\u001b[0m\u001b[0;34m.\u001b[0m\u001b[0mmean\u001b[0m\u001b[0;34m(\u001b[0m\u001b[0;34m)\u001b[0m\u001b[0;34m\u001b[0m\u001b[0;34m\u001b[0m\u001b[0m\n\u001b[1;32m      4\u001b[0m \u001b[0mprice\u001b[0m\u001b[0;34m[\u001b[0m\u001b[0;34m'aEMA9'\u001b[0m\u001b[0;34m]\u001b[0m \u001b[0;34m=\u001b[0m \u001b[0mprice\u001b[0m\u001b[0;34m[\u001b[0m\u001b[0;34m'Actual'\u001b[0m\u001b[0;34m]\u001b[0m\u001b[0;34m.\u001b[0m\u001b[0mewm\u001b[0m\u001b[0;34m(\u001b[0m\u001b[0mspan\u001b[0m\u001b[0;34m=\u001b[0m\u001b[0mfast_ema\u001b[0m\u001b[0;34m,\u001b[0m \u001b[0madjust\u001b[0m\u001b[0;34m=\u001b[0m\u001b[0;32mFalse\u001b[0m\u001b[0;34m)\u001b[0m\u001b[0;34m.\u001b[0m\u001b[0mmean\u001b[0m\u001b[0;34m(\u001b[0m\u001b[0;34m)\u001b[0m\u001b[0;34m\u001b[0m\u001b[0;34m\u001b[0m\u001b[0m\n\u001b[1;32m      5\u001b[0m \u001b[0mprice\u001b[0m\u001b[0;34m[\u001b[0m\u001b[0;34m'aEMA21'\u001b[0m\u001b[0;34m]\u001b[0m \u001b[0;34m=\u001b[0m \u001b[0mprice\u001b[0m\u001b[0;34m[\u001b[0m\u001b[0;34m'Actual'\u001b[0m\u001b[0;34m]\u001b[0m\u001b[0;34m.\u001b[0m\u001b[0mewm\u001b[0m\u001b[0;34m(\u001b[0m\u001b[0mspan\u001b[0m\u001b[0;34m=\u001b[0m\u001b[0mslow_ema\u001b[0m\u001b[0;34m,\u001b[0m \u001b[0madjust\u001b[0m\u001b[0;34m=\u001b[0m\u001b[0;32mFalse\u001b[0m\u001b[0;34m)\u001b[0m\u001b[0;34m.\u001b[0m\u001b[0mmean\u001b[0m\u001b[0;34m(\u001b[0m\u001b[0;34m)\u001b[0m\u001b[0;34m\u001b[0m\u001b[0;34m\u001b[0m\u001b[0m\n",
      "\u001b[0;31mNameError\u001b[0m: name 'price' is not defined"
     ]
    }
   ],
   "source": [
    "# create EMAs columns\n",
    "price['pEMA9'] = price['Predicted'].ewm(span=fast_ema, adjust=False).mean()\n",
    "price['pEMA21'] = price['Predicted'].ewm(span=slow_ema, adjust=False).mean()\n",
    "price['aEMA9'] = price['Actual'].ewm(span=fast_ema, adjust=False).mean()\n",
    "price['aEMA21'] = price['Actual'].ewm(span=slow_ema, adjust=False).mean()\n",
    "# price['compEMAS'] = 0.0\n",
    "price.plot()"
   ]
  },
  {
   "cell_type": "code",
   "execution_count": 60,
   "metadata": {
    "tags": []
   },
   "outputs": [
    {
     "output_type": "stream",
     "name": "stderr",
     "text": "Python-dotenv could not parse statement starting at line 7\nPython-dotenv could not parse statement starting at line 8\n"
    }
   ],
   "source": [
    "# Initial imports\n",
    "import numpy as np\n",
    "import pandas as pd\n",
    "from stockstats import StockDataFrame as sdf\n",
    "import requests\n",
    "from dotenv import load_dotenv\n",
    "import os\n",
    "import pandas as pd\n",
    "import numpy as np\n",
    "import alpaca_trade_api as tradeapi\n",
    "from pathlib import Path\n",
    "import lib_copy\n",
    "load_dotenv()\n",
    "%matplotlib inline\n",
    "\n",
    "ticker_symbol = [\"TSLA\"]"
   ]
  },
  {
   "cell_type": "code",
   "execution_count": 61,
   "metadata": {},
   "outputs": [
    {
     "output_type": "error",
     "ename": "NameError",
     "evalue": "name 'price' is not defined",
     "traceback": [
      "\u001b[0;31m---------------------------------------------------------------------------\u001b[0m",
      "\u001b[0;31mNameError\u001b[0m                                 Traceback (most recent call last)",
      "\u001b[0;32m<ipython-input-61-cbab8ffd8a07>\u001b[0m in \u001b[0;36m<module>\u001b[0;34m\u001b[0m\n\u001b[0;32m----> 1\u001b[0;31m \u001b[0mprice\u001b[0m\u001b[0;34m.\u001b[0m\u001b[0mpct_change\u001b[0m\u001b[0;34m(\u001b[0m\u001b[0;34m)\u001b[0m\u001b[0;34m.\u001b[0m\u001b[0mplot\u001b[0m\u001b[0;34m(\u001b[0m\u001b[0;34m)\u001b[0m\u001b[0;34m\u001b[0m\u001b[0;34m\u001b[0m\u001b[0m\n\u001b[0m",
      "\u001b[0;31mNameError\u001b[0m: name 'price' is not defined"
     ]
    }
   ],
   "source": [
    "price.pct_change().plot()"
   ]
  },
  {
   "cell_type": "code",
   "execution_count": 62,
   "metadata": {},
   "outputs": [],
   "source": [
    "X = final_df.iloc[:, 0:20].values\n",
    "y = final_df.iloc[:, -1].values\n",
    "\n",
    "X, y = np.array(X), np.array(y).reshape(-1,1)"
   ]
  },
  {
   "cell_type": "code",
   "execution_count": 63,
   "metadata": {},
   "outputs": [
    {
     "output_type": "error",
     "ename": "KeyError",
     "evalue": "'close'",
     "traceback": [
      "\u001b[0;31m---------------------------------------------------------------------------\u001b[0m",
      "\u001b[0;31mKeyError\u001b[0m                                  Traceback (most recent call last)",
      "\u001b[0;32m~/anaconda3/lib/python3.8/site-packages/pandas/core/indexes/base.py\u001b[0m in \u001b[0;36mget_loc\u001b[0;34m(self, key, method, tolerance)\u001b[0m\n\u001b[1;32m   2645\u001b[0m             \u001b[0;32mtry\u001b[0m\u001b[0;34m:\u001b[0m\u001b[0;34m\u001b[0m\u001b[0;34m\u001b[0m\u001b[0m\n\u001b[0;32m-> 2646\u001b[0;31m                 \u001b[0;32mreturn\u001b[0m \u001b[0mself\u001b[0m\u001b[0;34m.\u001b[0m\u001b[0m_engine\u001b[0m\u001b[0;34m.\u001b[0m\u001b[0mget_loc\u001b[0m\u001b[0;34m(\u001b[0m\u001b[0mkey\u001b[0m\u001b[0;34m)\u001b[0m\u001b[0;34m\u001b[0m\u001b[0;34m\u001b[0m\u001b[0m\n\u001b[0m\u001b[1;32m   2647\u001b[0m             \u001b[0;32mexcept\u001b[0m \u001b[0mKeyError\u001b[0m\u001b[0;34m:\u001b[0m\u001b[0;34m\u001b[0m\u001b[0;34m\u001b[0m\u001b[0m\n",
      "\u001b[0;32mpandas/_libs/index.pyx\u001b[0m in \u001b[0;36mpandas._libs.index.IndexEngine.get_loc\u001b[0;34m()\u001b[0m\n",
      "\u001b[0;32mpandas/_libs/index.pyx\u001b[0m in \u001b[0;36mpandas._libs.index.IndexEngine.get_loc\u001b[0;34m()\u001b[0m\n",
      "\u001b[0;32mpandas/_libs/hashtable_class_helper.pxi\u001b[0m in \u001b[0;36mpandas._libs.hashtable.PyObjectHashTable.get_item\u001b[0;34m()\u001b[0m\n",
      "\u001b[0;32mpandas/_libs/hashtable_class_helper.pxi\u001b[0m in \u001b[0;36mpandas._libs.hashtable.PyObjectHashTable.get_item\u001b[0;34m()\u001b[0m\n",
      "\u001b[0;31mKeyError\u001b[0m: 'close'",
      "\nDuring handling of the above exception, another exception occurred:\n",
      "\u001b[0;31mKeyError\u001b[0m                                  Traceback (most recent call last)",
      "\u001b[0;32m<ipython-input-63-ec678d994937>\u001b[0m in \u001b[0;36m<module>\u001b[0;34m\u001b[0m\n\u001b[1;32m      7\u001b[0m     \u001b[0;32mreturn\u001b[0m \u001b[0mdataframe\u001b[0m\u001b[0;34m\u001b[0m\u001b[0;34m\u001b[0m\u001b[0m\n\u001b[1;32m      8\u001b[0m \u001b[0;34m\u001b[0m\u001b[0m\n\u001b[0;32m----> 9\u001b[0;31m \u001b[0meverything\u001b[0m \u001b[0;34m=\u001b[0m \u001b[0madding_boll_kelt_ewma_dataframe\u001b[0m\u001b[0;34m(\u001b[0m\u001b[0mdataframe\u001b[0m\u001b[0;34m)\u001b[0m\u001b[0;34m\u001b[0m\u001b[0;34m\u001b[0m\u001b[0m\n\u001b[0m\u001b[1;32m     10\u001b[0m \u001b[0;34m\u001b[0m\u001b[0m\n\u001b[1;32m     11\u001b[0m \u001b[0meverything\u001b[0m \u001b[0;34m=\u001b[0m \u001b[0mdf\u001b[0m\u001b[0;34m.\u001b[0m\u001b[0mdropna\u001b[0m\u001b[0;34m(\u001b[0m\u001b[0;34m)\u001b[0m\u001b[0;34m\u001b[0m\u001b[0;34m\u001b[0m\u001b[0m\n",
      "\u001b[0;32m<ipython-input-63-ec678d994937>\u001b[0m in \u001b[0;36madding_boll_kelt_ewma_dataframe\u001b[0;34m(dataframe)\u001b[0m\n\u001b[1;32m      1\u001b[0m \u001b[0mdataframe\u001b[0m \u001b[0;34m=\u001b[0m \u001b[0mlib_copy\u001b[0m\u001b[0;34m.\u001b[0m\u001b[0mfetch_ohlcv\u001b[0m\u001b[0;34m(\u001b[0m\u001b[0mticker_symbol\u001b[0m\u001b[0;34m)\u001b[0m\u001b[0;34m\u001b[0m\u001b[0;34m\u001b[0m\u001b[0m\n\u001b[1;32m      2\u001b[0m \u001b[0;32mdef\u001b[0m \u001b[0madding_boll_kelt_ewma_dataframe\u001b[0m\u001b[0;34m(\u001b[0m\u001b[0mdataframe\u001b[0m\u001b[0;34m)\u001b[0m\u001b[0;34m:\u001b[0m\u001b[0;34m\u001b[0m\u001b[0;34m\u001b[0m\u001b[0m\n\u001b[0;32m----> 3\u001b[0;31m     \u001b[0mlib_copy\u001b[0m\u001b[0;34m.\u001b[0m\u001b[0mbollinger_band_generator\u001b[0m\u001b[0;34m(\u001b[0m\u001b[0mdataframe\u001b[0m\u001b[0;34m)\u001b[0m\u001b[0;34m\u001b[0m\u001b[0;34m\u001b[0m\u001b[0m\n\u001b[0m\u001b[1;32m      4\u001b[0m     \u001b[0mlib_copy\u001b[0m\u001b[0;34m.\u001b[0m\u001b[0mkeltner_channel\u001b[0m\u001b[0;34m(\u001b[0m\u001b[0mdataframe\u001b[0m\u001b[0;34m)\u001b[0m\u001b[0;34m\u001b[0m\u001b[0;34m\u001b[0m\u001b[0m\n\u001b[1;32m      5\u001b[0m     \u001b[0mlib_copy\u001b[0m\u001b[0;34m.\u001b[0m\u001b[0mewma\u001b[0m\u001b[0;34m(\u001b[0m\u001b[0mdataframe\u001b[0m\u001b[0;34m)\u001b[0m\u001b[0;34m\u001b[0m\u001b[0;34m\u001b[0m\u001b[0m\n",
      "\u001b[0;32m~/Documents/schoolwork/Rice/projects/Algo-Owls/lib_copy.py\u001b[0m in \u001b[0;36mbollinger_band_generator\u001b[0;34m(dataframe_name, closing_price_column_name, bollinger_band_window, num_standard_deviation)\u001b[0m\n\u001b[1;32m     62\u001b[0m \u001b[0;34m\u001b[0m\u001b[0m\n\u001b[1;32m     63\u001b[0m     \u001b[0;31m# Calculate mean and standard deviation\u001b[0m\u001b[0;34m\u001b[0m\u001b[0;34m\u001b[0m\u001b[0;34m\u001b[0m\u001b[0m\n\u001b[0;32m---> 64\u001b[0;31m     \u001b[0mdataframe_name\u001b[0m\u001b[0;34m[\u001b[0m\u001b[0;34m'bollinger_band_middle'\u001b[0m\u001b[0;34m]\u001b[0m \u001b[0;34m=\u001b[0m \u001b[0mdataframe_name\u001b[0m\u001b[0;34m[\u001b[0m\u001b[0mclosing_price_column_name\u001b[0m\u001b[0;34m]\u001b[0m\u001b[0;34m.\u001b[0m\u001b[0mrolling\u001b[0m\u001b[0;34m(\u001b[0m\u001b[0mwindow\u001b[0m\u001b[0;34m=\u001b[0m\u001b[0mbollinger_band_window\u001b[0m\u001b[0;34m)\u001b[0m\u001b[0;34m.\u001b[0m\u001b[0mmean\u001b[0m\u001b[0;34m(\u001b[0m\u001b[0;34m)\u001b[0m\u001b[0;34m\u001b[0m\u001b[0;34m\u001b[0m\u001b[0m\n\u001b[0m\u001b[1;32m     65\u001b[0m     \u001b[0mdataframe_name\u001b[0m\u001b[0;34m[\u001b[0m\u001b[0;34m'bollinger_band_std'\u001b[0m\u001b[0;34m]\u001b[0m \u001b[0;34m=\u001b[0m \u001b[0mdataframe_name\u001b[0m\u001b[0;34m[\u001b[0m\u001b[0mclosing_price_column_name\u001b[0m\u001b[0;34m]\u001b[0m\u001b[0;34m.\u001b[0m\u001b[0mrolling\u001b[0m\u001b[0;34m(\u001b[0m\u001b[0mwindow\u001b[0m\u001b[0;34m=\u001b[0m\u001b[0mbollinger_band_window\u001b[0m\u001b[0;34m)\u001b[0m\u001b[0;34m.\u001b[0m\u001b[0mstd\u001b[0m\u001b[0;34m(\u001b[0m\u001b[0;34m)\u001b[0m\u001b[0;34m\u001b[0m\u001b[0;34m\u001b[0m\u001b[0m\n\u001b[1;32m     66\u001b[0m \u001b[0;34m\u001b[0m\u001b[0m\n",
      "\u001b[0;32m~/anaconda3/lib/python3.8/site-packages/pandas/core/frame.py\u001b[0m in \u001b[0;36m__getitem__\u001b[0;34m(self, key)\u001b[0m\n\u001b[1;32m   2797\u001b[0m         \u001b[0;32mif\u001b[0m \u001b[0mis_single_key\u001b[0m\u001b[0;34m:\u001b[0m\u001b[0;34m\u001b[0m\u001b[0;34m\u001b[0m\u001b[0m\n\u001b[1;32m   2798\u001b[0m             \u001b[0;32mif\u001b[0m \u001b[0mself\u001b[0m\u001b[0;34m.\u001b[0m\u001b[0mcolumns\u001b[0m\u001b[0;34m.\u001b[0m\u001b[0mnlevels\u001b[0m \u001b[0;34m>\u001b[0m \u001b[0;36m1\u001b[0m\u001b[0;34m:\u001b[0m\u001b[0;34m\u001b[0m\u001b[0;34m\u001b[0m\u001b[0m\n\u001b[0;32m-> 2799\u001b[0;31m                 \u001b[0;32mreturn\u001b[0m \u001b[0mself\u001b[0m\u001b[0;34m.\u001b[0m\u001b[0m_getitem_multilevel\u001b[0m\u001b[0;34m(\u001b[0m\u001b[0mkey\u001b[0m\u001b[0;34m)\u001b[0m\u001b[0;34m\u001b[0m\u001b[0;34m\u001b[0m\u001b[0m\n\u001b[0m\u001b[1;32m   2800\u001b[0m             \u001b[0mindexer\u001b[0m \u001b[0;34m=\u001b[0m \u001b[0mself\u001b[0m\u001b[0;34m.\u001b[0m\u001b[0mcolumns\u001b[0m\u001b[0;34m.\u001b[0m\u001b[0mget_loc\u001b[0m\u001b[0;34m(\u001b[0m\u001b[0mkey\u001b[0m\u001b[0;34m)\u001b[0m\u001b[0;34m\u001b[0m\u001b[0;34m\u001b[0m\u001b[0m\n\u001b[1;32m   2801\u001b[0m             \u001b[0;32mif\u001b[0m \u001b[0mis_integer\u001b[0m\u001b[0;34m(\u001b[0m\u001b[0mindexer\u001b[0m\u001b[0;34m)\u001b[0m\u001b[0;34m:\u001b[0m\u001b[0;34m\u001b[0m\u001b[0;34m\u001b[0m\u001b[0m\n",
      "\u001b[0;32m~/anaconda3/lib/python3.8/site-packages/pandas/core/frame.py\u001b[0m in \u001b[0;36m_getitem_multilevel\u001b[0;34m(self, key)\u001b[0m\n\u001b[1;32m   2847\u001b[0m     \u001b[0;32mdef\u001b[0m \u001b[0m_getitem_multilevel\u001b[0m\u001b[0;34m(\u001b[0m\u001b[0mself\u001b[0m\u001b[0;34m,\u001b[0m \u001b[0mkey\u001b[0m\u001b[0;34m)\u001b[0m\u001b[0;34m:\u001b[0m\u001b[0;34m\u001b[0m\u001b[0;34m\u001b[0m\u001b[0m\n\u001b[1;32m   2848\u001b[0m         \u001b[0;31m# self.columns is a MultiIndex\u001b[0m\u001b[0;34m\u001b[0m\u001b[0;34m\u001b[0m\u001b[0;34m\u001b[0m\u001b[0m\n\u001b[0;32m-> 2849\u001b[0;31m         \u001b[0mloc\u001b[0m \u001b[0;34m=\u001b[0m \u001b[0mself\u001b[0m\u001b[0;34m.\u001b[0m\u001b[0mcolumns\u001b[0m\u001b[0;34m.\u001b[0m\u001b[0mget_loc\u001b[0m\u001b[0;34m(\u001b[0m\u001b[0mkey\u001b[0m\u001b[0;34m)\u001b[0m\u001b[0;34m\u001b[0m\u001b[0;34m\u001b[0m\u001b[0m\n\u001b[0m\u001b[1;32m   2850\u001b[0m         \u001b[0;32mif\u001b[0m \u001b[0misinstance\u001b[0m\u001b[0;34m(\u001b[0m\u001b[0mloc\u001b[0m\u001b[0;34m,\u001b[0m \u001b[0;34m(\u001b[0m\u001b[0mslice\u001b[0m\u001b[0;34m,\u001b[0m \u001b[0mSeries\u001b[0m\u001b[0;34m,\u001b[0m \u001b[0mnp\u001b[0m\u001b[0;34m.\u001b[0m\u001b[0mndarray\u001b[0m\u001b[0;34m,\u001b[0m \u001b[0mIndex\u001b[0m\u001b[0;34m)\u001b[0m\u001b[0;34m)\u001b[0m\u001b[0;34m:\u001b[0m\u001b[0;34m\u001b[0m\u001b[0;34m\u001b[0m\u001b[0m\n\u001b[1;32m   2851\u001b[0m             \u001b[0mnew_columns\u001b[0m \u001b[0;34m=\u001b[0m \u001b[0mself\u001b[0m\u001b[0;34m.\u001b[0m\u001b[0mcolumns\u001b[0m\u001b[0;34m[\u001b[0m\u001b[0mloc\u001b[0m\u001b[0;34m]\u001b[0m\u001b[0;34m\u001b[0m\u001b[0;34m\u001b[0m\u001b[0m\n",
      "\u001b[0;32m~/anaconda3/lib/python3.8/site-packages/pandas/core/indexes/multi.py\u001b[0m in \u001b[0;36mget_loc\u001b[0;34m(self, key, method)\u001b[0m\n\u001b[1;32m   2660\u001b[0m         \u001b[0;32mif\u001b[0m \u001b[0;32mnot\u001b[0m \u001b[0misinstance\u001b[0m\u001b[0;34m(\u001b[0m\u001b[0mkey\u001b[0m\u001b[0;34m,\u001b[0m \u001b[0;34m(\u001b[0m\u001b[0mtuple\u001b[0m\u001b[0;34m,\u001b[0m \u001b[0mlist\u001b[0m\u001b[0;34m)\u001b[0m\u001b[0;34m)\u001b[0m\u001b[0;34m:\u001b[0m\u001b[0;34m\u001b[0m\u001b[0;34m\u001b[0m\u001b[0m\n\u001b[1;32m   2661\u001b[0m             \u001b[0;31m# not including list here breaks some indexing, xref #30892\u001b[0m\u001b[0;34m\u001b[0m\u001b[0;34m\u001b[0m\u001b[0;34m\u001b[0m\u001b[0m\n\u001b[0;32m-> 2662\u001b[0;31m             \u001b[0mloc\u001b[0m \u001b[0;34m=\u001b[0m \u001b[0mself\u001b[0m\u001b[0;34m.\u001b[0m\u001b[0m_get_level_indexer\u001b[0m\u001b[0;34m(\u001b[0m\u001b[0mkey\u001b[0m\u001b[0;34m,\u001b[0m \u001b[0mlevel\u001b[0m\u001b[0;34m=\u001b[0m\u001b[0;36m0\u001b[0m\u001b[0;34m)\u001b[0m\u001b[0;34m\u001b[0m\u001b[0;34m\u001b[0m\u001b[0m\n\u001b[0m\u001b[1;32m   2663\u001b[0m             \u001b[0;32mreturn\u001b[0m \u001b[0m_maybe_to_slice\u001b[0m\u001b[0;34m(\u001b[0m\u001b[0mloc\u001b[0m\u001b[0;34m)\u001b[0m\u001b[0;34m\u001b[0m\u001b[0;34m\u001b[0m\u001b[0m\n\u001b[1;32m   2664\u001b[0m \u001b[0;34m\u001b[0m\u001b[0m\n",
      "\u001b[0;32m~/anaconda3/lib/python3.8/site-packages/pandas/core/indexes/multi.py\u001b[0m in \u001b[0;36m_get_level_indexer\u001b[0;34m(self, key, level, indexer)\u001b[0m\n\u001b[1;32m   2927\u001b[0m         \u001b[0;32melse\u001b[0m\u001b[0;34m:\u001b[0m\u001b[0;34m\u001b[0m\u001b[0;34m\u001b[0m\u001b[0m\n\u001b[1;32m   2928\u001b[0m \u001b[0;34m\u001b[0m\u001b[0m\n\u001b[0;32m-> 2929\u001b[0;31m             \u001b[0mcode\u001b[0m \u001b[0;34m=\u001b[0m \u001b[0mself\u001b[0m\u001b[0;34m.\u001b[0m\u001b[0m_get_loc_single_level_index\u001b[0m\u001b[0;34m(\u001b[0m\u001b[0mlevel_index\u001b[0m\u001b[0;34m,\u001b[0m \u001b[0mkey\u001b[0m\u001b[0;34m)\u001b[0m\u001b[0;34m\u001b[0m\u001b[0;34m\u001b[0m\u001b[0m\n\u001b[0m\u001b[1;32m   2930\u001b[0m \u001b[0;34m\u001b[0m\u001b[0m\n\u001b[1;32m   2931\u001b[0m             \u001b[0;32mif\u001b[0m \u001b[0mlevel\u001b[0m \u001b[0;34m>\u001b[0m \u001b[0;36m0\u001b[0m \u001b[0;32mor\u001b[0m \u001b[0mself\u001b[0m\u001b[0;34m.\u001b[0m\u001b[0mlexsort_depth\u001b[0m \u001b[0;34m==\u001b[0m \u001b[0;36m0\u001b[0m\u001b[0;34m:\u001b[0m\u001b[0;34m\u001b[0m\u001b[0;34m\u001b[0m\u001b[0m\n",
      "\u001b[0;32m~/anaconda3/lib/python3.8/site-packages/pandas/core/indexes/multi.py\u001b[0m in \u001b[0;36m_get_loc_single_level_index\u001b[0;34m(self, level_index, key)\u001b[0m\n\u001b[1;32m   2596\u001b[0m             \u001b[0;32mreturn\u001b[0m \u001b[0;34m-\u001b[0m\u001b[0;36m1\u001b[0m\u001b[0;34m\u001b[0m\u001b[0;34m\u001b[0m\u001b[0m\n\u001b[1;32m   2597\u001b[0m         \u001b[0;32melse\u001b[0m\u001b[0;34m:\u001b[0m\u001b[0;34m\u001b[0m\u001b[0;34m\u001b[0m\u001b[0m\n\u001b[0;32m-> 2598\u001b[0;31m             \u001b[0;32mreturn\u001b[0m \u001b[0mlevel_index\u001b[0m\u001b[0;34m.\u001b[0m\u001b[0mget_loc\u001b[0m\u001b[0;34m(\u001b[0m\u001b[0mkey\u001b[0m\u001b[0;34m)\u001b[0m\u001b[0;34m\u001b[0m\u001b[0;34m\u001b[0m\u001b[0m\n\u001b[0m\u001b[1;32m   2599\u001b[0m \u001b[0;34m\u001b[0m\u001b[0m\n\u001b[1;32m   2600\u001b[0m     \u001b[0;32mdef\u001b[0m \u001b[0mget_loc\u001b[0m\u001b[0;34m(\u001b[0m\u001b[0mself\u001b[0m\u001b[0;34m,\u001b[0m \u001b[0mkey\u001b[0m\u001b[0;34m,\u001b[0m \u001b[0mmethod\u001b[0m\u001b[0;34m=\u001b[0m\u001b[0;32mNone\u001b[0m\u001b[0;34m)\u001b[0m\u001b[0;34m:\u001b[0m\u001b[0;34m\u001b[0m\u001b[0;34m\u001b[0m\u001b[0m\n",
      "\u001b[0;32m~/anaconda3/lib/python3.8/site-packages/pandas/core/indexes/base.py\u001b[0m in \u001b[0;36mget_loc\u001b[0;34m(self, key, method, tolerance)\u001b[0m\n\u001b[1;32m   2646\u001b[0m                 \u001b[0;32mreturn\u001b[0m \u001b[0mself\u001b[0m\u001b[0;34m.\u001b[0m\u001b[0m_engine\u001b[0m\u001b[0;34m.\u001b[0m\u001b[0mget_loc\u001b[0m\u001b[0;34m(\u001b[0m\u001b[0mkey\u001b[0m\u001b[0;34m)\u001b[0m\u001b[0;34m\u001b[0m\u001b[0;34m\u001b[0m\u001b[0m\n\u001b[1;32m   2647\u001b[0m             \u001b[0;32mexcept\u001b[0m \u001b[0mKeyError\u001b[0m\u001b[0;34m:\u001b[0m\u001b[0;34m\u001b[0m\u001b[0;34m\u001b[0m\u001b[0m\n\u001b[0;32m-> 2648\u001b[0;31m                 \u001b[0;32mreturn\u001b[0m \u001b[0mself\u001b[0m\u001b[0;34m.\u001b[0m\u001b[0m_engine\u001b[0m\u001b[0;34m.\u001b[0m\u001b[0mget_loc\u001b[0m\u001b[0;34m(\u001b[0m\u001b[0mself\u001b[0m\u001b[0;34m.\u001b[0m\u001b[0m_maybe_cast_indexer\u001b[0m\u001b[0;34m(\u001b[0m\u001b[0mkey\u001b[0m\u001b[0;34m)\u001b[0m\u001b[0;34m)\u001b[0m\u001b[0;34m\u001b[0m\u001b[0;34m\u001b[0m\u001b[0m\n\u001b[0m\u001b[1;32m   2649\u001b[0m         \u001b[0mindexer\u001b[0m \u001b[0;34m=\u001b[0m \u001b[0mself\u001b[0m\u001b[0;34m.\u001b[0m\u001b[0mget_indexer\u001b[0m\u001b[0;34m(\u001b[0m\u001b[0;34m[\u001b[0m\u001b[0mkey\u001b[0m\u001b[0;34m]\u001b[0m\u001b[0;34m,\u001b[0m \u001b[0mmethod\u001b[0m\u001b[0;34m=\u001b[0m\u001b[0mmethod\u001b[0m\u001b[0;34m,\u001b[0m \u001b[0mtolerance\u001b[0m\u001b[0;34m=\u001b[0m\u001b[0mtolerance\u001b[0m\u001b[0;34m)\u001b[0m\u001b[0;34m\u001b[0m\u001b[0;34m\u001b[0m\u001b[0m\n\u001b[1;32m   2650\u001b[0m         \u001b[0;32mif\u001b[0m \u001b[0mindexer\u001b[0m\u001b[0;34m.\u001b[0m\u001b[0mndim\u001b[0m \u001b[0;34m>\u001b[0m \u001b[0;36m1\u001b[0m \u001b[0;32mor\u001b[0m \u001b[0mindexer\u001b[0m\u001b[0;34m.\u001b[0m\u001b[0msize\u001b[0m \u001b[0;34m>\u001b[0m \u001b[0;36m1\u001b[0m\u001b[0;34m:\u001b[0m\u001b[0;34m\u001b[0m\u001b[0;34m\u001b[0m\u001b[0m\n",
      "\u001b[0;32mpandas/_libs/index.pyx\u001b[0m in \u001b[0;36mpandas._libs.index.IndexEngine.get_loc\u001b[0;34m()\u001b[0m\n",
      "\u001b[0;32mpandas/_libs/index.pyx\u001b[0m in \u001b[0;36mpandas._libs.index.IndexEngine.get_loc\u001b[0;34m()\u001b[0m\n",
      "\u001b[0;32mpandas/_libs/hashtable_class_helper.pxi\u001b[0m in \u001b[0;36mpandas._libs.hashtable.PyObjectHashTable.get_item\u001b[0;34m()\u001b[0m\n",
      "\u001b[0;32mpandas/_libs/hashtable_class_helper.pxi\u001b[0m in \u001b[0;36mpandas._libs.hashtable.PyObjectHashTable.get_item\u001b[0;34m()\u001b[0m\n",
      "\u001b[0;31mKeyError\u001b[0m: 'close'"
     ]
    }
   ],
   "source": [
    "dataframe = lib_copy.fetch_ohlcv(ticker_symbol)\n",
    "def adding_boll_kelt_ewma_dataframe(dataframe):\n",
    "    lib_copy.bollinger_band_generator(dataframe)\n",
    "    lib_copy.keltner_channel(dataframe)\n",
    "    lib_copy.ewma(dataframe)\n",
    "\n",
    "    return dataframe\n",
    "\n",
    "everything = adding_boll_kelt_ewma_dataframe(dataframe)\n",
    "\n",
    "everything = df.dropna()\n",
    "\n",
    "response_data = lib_copy.signals_generator(everything)\n",
    "\n",
    "response_data.index = response_data.index.date\n",
    "final_df = response_data"
   ]
  },
  {
   "cell_type": "code",
   "execution_count": 64,
   "metadata": {},
   "outputs": [],
   "source": [
    "def lstm(\n",
    "    dataframe,\n",
    "    num_feature_cols = 2, \n",
    "    target_name = \"target\",\n",
    "    epochs_num = 10,\n",
    "    unit_number = 30,\n",
    "    dropout_fraction=.2    \n",
    "    ):\n",
    "\n",
    "    \"\"\"\n",
    "    Make sure to have target in last column\n",
    "    \"\"\"\n",
    "\n",
    "    X = dataframe.iloc[:, 0:num_feature_cols].values\n",
    "    \n",
    "    y = dataframe.iloc[:,-1].values\n",
    "    \n",
    "    X, y = np.array(X), np.array(y).reshape(-1,1)\n",
    "\n",
    "    # Manually splitting the data\n",
    "    split = int(0.7 * len(X))\n",
    "\n",
    "    X_train = X[: split]\n",
    "    X_test = X[split:]\n",
    "\n",
    "    y_train = y[: split]\n",
    "    y_test = y[split:]\n",
    "\n",
    "    # Importing the MinMaxScaler from sklearn\n",
    "    from sklearn.preprocessing import MinMaxScaler\n",
    "\n",
    "    # Create a MinMaxScaler object\n",
    "    scaler = MinMaxScaler()\n",
    "\n",
    "    # Fit the MinMaxScaler object with the features data X\n",
    "    scaler.fit(X)\n",
    "\n",
    "    # Scale the features training and testing sets\n",
    "    X_train = scaler.transform(X_train)\n",
    "    X_test = scaler.transform(X_test)\n",
    "\n",
    "    # Fit the MinMaxScaler object with the target data Y\n",
    "    scaler.fit(y)\n",
    "\n",
    "    # Scale the target training and testing sets\n",
    "    y_train = scaler.transform(y_train)\n",
    "    y_test = scaler.transform(y_test)\n",
    "\n",
    "    # Importing required Keras modules\n",
    "    from tensorflow.keras.models import Sequential\n",
    "    from tensorflow.keras.layers import LSTM, Dense, Dropout\n",
    "\n",
    "    # Define the LSTM RNN model.\n",
    "    model = Sequential()\n",
    "\n",
    "    # Layer 1\n",
    "    model.add(LSTM(\n",
    "        units=unit_number,\n",
    "        return_sequences=True,\n",
    "        input_shape=(X_train.shape[1], 1))\n",
    "        )\n",
    "    model.add(Dropout(dropout_fraction))\n",
    "\n",
    "    # Layer 2\n",
    "    model.add(LSTM(units=number_units, return_sequences=True))\n",
    "    model.add(Dropout(dropout_fraction))\n",
    "\n",
    "    # Layer 3\n",
    "    model.add(LSTM(units=number_units))\n",
    "    model.add(Dropout(dropout_fraction))\n",
    "\n",
    "    # Output layer\n",
    "    model.add(Dense(1))\n",
    "\n",
    "    # Compile the model\n",
    "    model.compile(optimizer=\"adam\", loss=\"mean_squared_error\")\n",
    "\n",
    "    # Train the model\n",
    "    model.fit(X_train, y_train, epochs= epechs_num, shuffle=False, batch_size=90, verbose=1)\n",
    "\n",
    "    # Make predictions using the testing data X_test\n",
    "    predicted = model.predict(X_test)\n",
    "\n",
    "    # Recover the original prices instead of the scaled version\n",
    "    predicted_prices = scaler.inverse_transform(predicted)\n",
    "    real_prices = scaler.inverse_transform(y_test.reshape(-1, 1))\n",
    "    # Create a DataFrame of Real and Predicted values\n",
    "    comparison = pd.DataFrame({\n",
    "        \"Actual Target\": real_prices.ravel(),\n",
    "        \"Predicted Target\": predicted_prices.ravel()\n",
    "    }, index = dataframe.index[-len(real_prices): ]) \n",
    "\n",
    "    return model.summary(), model.evaluate(X_test, y_test, verbose=0), comparison.plot()"
   ]
  },
  {
   "cell_type": "code",
   "execution_count": 65,
   "metadata": {},
   "outputs": [
    {
     "output_type": "execute_result",
     "data": {
      "text/plain": "                     squeeze  emax_signal\nDate_Time                                \n2018-01-12 08:45:00        0            0\n2018-01-12 09:00:00        0            0\n2018-01-12 09:15:00        0            0\n2018-01-12 09:30:00        0            0\n2018-01-12 09:45:00        0            0",
      "text/html": "<div>\n<style scoped>\n    .dataframe tbody tr th:only-of-type {\n        vertical-align: middle;\n    }\n\n    .dataframe tbody tr th {\n        vertical-align: top;\n    }\n\n    .dataframe thead th {\n        text-align: right;\n    }\n</style>\n<table border=\"1\" class=\"dataframe\">\n  <thead>\n    <tr style=\"text-align: right;\">\n      <th></th>\n      <th>squeeze</th>\n      <th>emax_signal</th>\n    </tr>\n    <tr>\n      <th>Date_Time</th>\n      <th></th>\n      <th></th>\n    </tr>\n  </thead>\n  <tbody>\n    <tr>\n      <th>2018-01-12 08:45:00</th>\n      <td>0</td>\n      <td>0</td>\n    </tr>\n    <tr>\n      <th>2018-01-12 09:00:00</th>\n      <td>0</td>\n      <td>0</td>\n    </tr>\n    <tr>\n      <th>2018-01-12 09:15:00</th>\n      <td>0</td>\n      <td>0</td>\n    </tr>\n    <tr>\n      <th>2018-01-12 09:30:00</th>\n      <td>0</td>\n      <td>0</td>\n    </tr>\n    <tr>\n      <th>2018-01-12 09:45:00</th>\n      <td>0</td>\n      <td>0</td>\n    </tr>\n  </tbody>\n</table>\n</div>"
     },
     "metadata": {},
     "execution_count": 65
    }
   ],
   "source": [
    "beautiful_csv = pd.read_csv(\"Resources/ts_emax_x_squeeze.csv\", parse_dates=[['Date', 'Time']])\n",
    "beautiful_csv.set_index(\"Date_Time\", inplace=True)\n",
    "df = beautiful_csv[[\"squeeze\", \"emax_signal\"]]\n",
    "df.head()"
   ]
  },
  {
   "cell_type": "code",
   "execution_count": null,
   "metadata": {},
   "outputs": [],
   "source": [
    "def target_generator(dataframe_name, col_name1, col_name2, target_col_name):\n",
    "    \"\"\"Creates a target for long position\n",
    "    Args:\n",
    "        dataframe_name (dict): Dataframe containing indicator data (0's and 1's)\n",
    "        col_name1 (str): Name of first column name in dataframe to use for calculation\n",
    "        col_name2 (str): Name of second column name in dataframe to use for calculation\n",
    "        target_col_name (str): Name of target column name to create and store target values\n",
    "    Returns:\n",
    "        A dataframe of:\n",
    "            original data passed to function,\n",
    "            appended target column signals of type float (2.0, 1.0, 0.0)\n",
    "    \"\"\"\n",
    "    \n",
    "    # Target generation\n",
    "    for index, row in dataframe_name.iterrows():\n",
    "        dataframe_name.loc[index, target_col_name] = row[col_name1] + row[col_name2]\n",
    "\n",
    "    # Return dataframe with features and target\n",
    "    return dataframe_name"
   ]
  },
  {
   "cell_type": "code",
   "execution_count": 68,
   "metadata": {},
   "outputs": [
    {
     "output_type": "execute_result",
     "data": {
      "text/plain": "                     squeeze  emax_signal  target\nDate_Time                                        \n2018-01-12 08:45:00        0            0     0.0\n2018-01-12 09:00:00        0            0     0.0\n2018-01-12 09:15:00        0            0     0.0\n2018-01-12 09:30:00        0            0     0.0\n2018-01-12 09:45:00        0            0     0.0",
      "text/html": "<div>\n<style scoped>\n    .dataframe tbody tr th:only-of-type {\n        vertical-align: middle;\n    }\n\n    .dataframe tbody tr th {\n        vertical-align: top;\n    }\n\n    .dataframe thead th {\n        text-align: right;\n    }\n</style>\n<table border=\"1\" class=\"dataframe\">\n  <thead>\n    <tr style=\"text-align: right;\">\n      <th></th>\n      <th>squeeze</th>\n      <th>emax_signal</th>\n      <th>target</th>\n    </tr>\n    <tr>\n      <th>Date_Time</th>\n      <th></th>\n      <th></th>\n      <th></th>\n    </tr>\n  </thead>\n  <tbody>\n    <tr>\n      <th>2018-01-12 08:45:00</th>\n      <td>0</td>\n      <td>0</td>\n      <td>0.0</td>\n    </tr>\n    <tr>\n      <th>2018-01-12 09:00:00</th>\n      <td>0</td>\n      <td>0</td>\n      <td>0.0</td>\n    </tr>\n    <tr>\n      <th>2018-01-12 09:15:00</th>\n      <td>0</td>\n      <td>0</td>\n      <td>0.0</td>\n    </tr>\n    <tr>\n      <th>2018-01-12 09:30:00</th>\n      <td>0</td>\n      <td>0</td>\n      <td>0.0</td>\n    </tr>\n    <tr>\n      <th>2018-01-12 09:45:00</th>\n      <td>0</td>\n      <td>0</td>\n      <td>0.0</td>\n    </tr>\n  </tbody>\n</table>\n</div>"
     },
     "metadata": {},
     "execution_count": 68
    }
   ],
   "source": [
    "new_df = target_generator(df, \"squeeze\", \"emax_signal\", \"target\")\n",
    "new_df.head()"
   ]
  },
  {
   "cell_type": "code",
   "execution_count": 69,
   "metadata": {},
   "outputs": [],
   "source": [
    "new_df.to_csv(\"Resources/LSTM_target_list1.csv\")"
   ]
  },
  {
   "cell_type": "code",
   "execution_count": 70,
   "metadata": {},
   "outputs": [],
   "source": [
    "def lstm1(\n",
    "    dataframe,\n",
    "    num_feature_cols = 2, \n",
    "    target_name = \"target\",\n",
    "    epochs_num = 10,\n",
    "    unit_number = 30,\n",
    "    dropout_fraction=.2    \n",
    "    ):\n",
    "\n",
    "    \"\"\"\n",
    "    Make sure to have target in last column\n",
    "    \"\"\"\n",
    "\n",
    "    # Manually splitting the data\n",
    "\n",
    "    # Construct training start and training end dates\n",
    "\n",
    "    training_start = dataframe.index.min().strftime(format='%Y-%m-%d')\n",
    "    training_end = '2019-01-11'\n",
    "\n",
    "    # Construct test start and test end dates\n",
    "\n",
    "    testing_start = '2019-01-12'\n",
    "    testing_end = '2019-06-12'\n",
    "\n",
    "    # Construct validating start and validating end dates\n",
    "\n",
    "    vali_start = '2019-06-13'\n",
    "    vali_end = '2020-01-12'\n",
    "\n",
    "    # Construct the X_train and y_train datasets\n",
    "    X_train = dataframe[[\"squeeze\", \"emax_signal\"]][training_start:training_end]\n",
    "    y_train = dataframe[\"target\"][training_start:training_end]\n",
    "\n",
    "    X_test = dataframe[[\"squeeze\", \"emax_signal\"]][testing_start:testing_end]\n",
    "    y_test = dataframe[\"target\"][testing_start:testing_end]\n",
    "\n",
    "    \n",
    "    #X = dataframe.iloc[:, 0:num_feature_cols].values\n",
    "    \n",
    "    #y = dataframe.iloc[:,-1].values\n",
    "\n",
    "    #X, y = np.array(X), np.array(y).reshape(-1,1)\n",
    "\n",
    "    # Importing the MinMaxScaler from sklearn\n",
    "    from sklearn.preprocessing import MinMaxScaler\n",
    "\n",
    "    # Create a MinMaxScaler object\n",
    "    scaler = MinMaxScaler()\n",
    "\n",
    "    # Fit the MinMaxScaler object with the features data X\n",
    "    scaler.fit(X_train)\n",
    "\n",
    "    # Scale the features training and testing sets\n",
    "    X_train = scaler.transform(X_train)\n",
    "    X_test = scaler.transform(X_test)\n",
    "    y_train = y_train.values.reshape(-1,1)\n",
    "    y_test = y_test.values.reshape(-1,1)\n",
    "\n",
    "    # Fit the MinMaxScaler object with the target data Y\n",
    "    scaler.fit(y_train)\n",
    "\n",
    "    # Scale the target training and testing sets\n",
    "    y_train = scaler.transform(y_train)\n",
    "    y_test = scaler.transform(y_test)\n",
    "\n",
    "    \n",
    "    \n",
    "    # Importing required Keras modules\n",
    "    from tensorflow.keras.models import Sequential\n",
    "    from tensorflow.keras.layers import LSTM, Dense, Dropout\n",
    "\n",
    "    # Define the LSTM RNN model.\n",
    "    model = Sequential()\n",
    "    X_train = X_train.reshape(-1,1,2)\n",
    "    X_test = X_test.reshape(-1,1,2)    \n",
    "    print(X_train[1])\n",
    "    # Layer 1\n",
    "    model.add(LSTM(\n",
    "        units=unit_number,\n",
    "        return_sequences=True,\n",
    "        input_shape=(1,2)))\n",
    "        \n",
    "    model.add(Dropout(dropout_fraction))\n",
    "\n",
    "    # Layer 2\n",
    "    model.add(LSTM(units=unit_number, return_sequences=True))\n",
    "    model.add(Dropout(dropout_fraction))\n",
    "\n",
    "    # Layer 3\n",
    "    model.add(LSTM(units=unit_number, return_sequences=True))\n",
    "    model.add(Dropout(dropout_fraction))\n",
    "\n",
    "    # Output layer\n",
    "    model.add(Dense(1))\n",
    "\n",
    "    # Compile the model\n",
    "    model.compile(optimizer=\"adam\", loss=\"mean_squared_error\")\n",
    "    \n",
    "    print(model.summary())\n",
    "    # Train the model\n",
    "    model.fit(X_train, y_train, epochs= epochs_num, shuffle=False, batch_size=90, verbose=1)\n",
    "\n",
    "    # Make predictions using the testing data X_test\n",
    "    predicted = model.predict(X_test)\n",
    "    print(predicted)\n",
    "    # Recover the original prices instead of the scaled version\n",
    "    predicted_prices = scaler.inverse_transform(predicted.reshape(-1,1))\n",
    "    real_prices = scaler.inverse_transform(y_test.reshape(-1, 1))\n",
    "    # Create a DataFrame of Real and Predicted values\n",
    "    comparison = pd.DataFrame({\n",
    "        \"Actual Target\": real_prices.ravel(),\n",
    "        \"Predicted Target\": predicted_prices.ravel()\n",
    "    }, index = dataframe.index[-len(real_prices): ]) \n",
    "\n",
    "    return model.summary(), model.evaluate(X_test, y_test, verbose=0), comparison.plot()"
   ]
  },
  {
   "cell_type": "code",
   "execution_count": 71,
   "metadata": {
    "tags": []
   },
   "outputs": [
    {
     "output_type": "stream",
     "name": "stdout",
     "text": "[[0.  0.5]]\nModel: \"sequential_3\"\n_________________________________________________________________\nLayer (type)                 Output Shape              Param #   \n=================================================================\nlstm_3 (LSTM)                (None, 1, 30)             3960      \n_________________________________________________________________\ndropout_3 (Dropout)          (None, 1, 30)             0         \n_________________________________________________________________\nlstm_4 (LSTM)                (None, 1, 30)             7320      \n_________________________________________________________________\ndropout_4 (Dropout)          (None, 1, 30)             0         \n_________________________________________________________________\nlstm_5 (LSTM)                (None, 1, 30)             7320      \n_________________________________________________________________\ndropout_5 (Dropout)          (None, 1, 30)             0         \n_________________________________________________________________\ndense_1 (Dense)              (None, 1, 1)              31        \n=================================================================\nTotal params: 18,631\nTrainable params: 18,631\nNon-trainable params: 0\n_________________________________________________________________\nNone\n73/73 [==============================] - 1s 15ms/step - loss: 0.1221\n[[[0.66845876]]\n\n [[0.66845876]]\n\n [[0.66845876]]\n\n ...\n\n [[0.66845876]]\n\n [[0.66845876]]\n\n [[0.66845876]]]\nModel: \"sequential_3\"\n_________________________________________________________________\nLayer (type)                 Output Shape              Param #   \n=================================================================\nlstm_3 (LSTM)                (None, 1, 30)             3960      \n_________________________________________________________________\ndropout_3 (Dropout)          (None, 1, 30)             0         \n_________________________________________________________________\nlstm_4 (LSTM)                (None, 1, 30)             7320      \n_________________________________________________________________\ndropout_4 (Dropout)          (None, 1, 30)             0         \n_________________________________________________________________\nlstm_5 (LSTM)                (None, 1, 30)             7320      \n_________________________________________________________________\ndropout_5 (Dropout)          (None, 1, 30)             0         \n_________________________________________________________________\ndense_1 (Dense)              (None, 1, 1)              31        \n=================================================================\nTotal params: 18,631\nTrainable params: 18,631\nNon-trainable params: 0\n_________________________________________________________________\n"
    },
    {
     "output_type": "execute_result",
     "data": {
      "text/plain": "(None,\n 0.007172287441790104,\n <matplotlib.axes._subplots.AxesSubplot at 0x1468d3cd0>)"
     },
     "metadata": {},
     "execution_count": 71
    },
    {
     "output_type": "display_data",
     "data": {
      "text/plain": "<Figure size 432x288 with 1 Axes>",
      "image/svg+xml": "<?xml version=\"1.0\" encoding=\"utf-8\" standalone=\"no\"?>\n<!DOCTYPE svg PUBLIC \"-//W3C//DTD SVG 1.1//EN\"\n  \"http://www.w3.org/Graphics/SVG/1.1/DTD/svg11.dtd\">\n<!-- Created with matplotlib (https://matplotlib.org/) -->\n<svg height=\"260.469158pt\" version=\"1.1\" viewBox=\"0 0 380.482813 260.469158\" width=\"380.482813pt\" xmlns=\"http://www.w3.org/2000/svg\" xmlns:xlink=\"http://www.w3.org/1999/xlink\">\n <defs>\n  <style type=\"text/css\">\n*{stroke-linecap:butt;stroke-linejoin:round;}\n  </style>\n </defs>\n <g id=\"figure_1\">\n  <g id=\"patch_1\">\n   <path d=\"M -0 260.469158 \nL 380.482813 260.469158 \nL 380.482813 0 \nL -0 0 \nz\n\" style=\"fill:none;\"/>\n  </g>\n  <g id=\"axes_1\">\n   <g id=\"patch_2\">\n    <path d=\"M 38.482813 203.04 \nL 373.282813 203.04 \nL 373.282813 7.2 \nL 38.482813 7.2 \nz\n\" style=\"fill:#ffffff;\"/>\n   </g>\n   <g id=\"matplotlib.axis_1\">\n    <g id=\"xtick_1\">\n     <g id=\"line2d_1\">\n      <defs>\n       <path d=\"M 0 0 \nL 0 3.5 \n\" id=\"md23399f2fb\" style=\"stroke:#000000;stroke-width:0.8;\"/>\n      </defs>\n      <g>\n       <use style=\"stroke:#000000;stroke-width:0.8;\" x=\"90.513289\" xlink:href=\"#md23399f2fb\" y=\"203.04\"/>\n      </g>\n     </g>\n     <g id=\"text_1\">\n      <!-- 2020-09 -->\n      <defs>\n       <path d=\"M 19.1875 8.296875 \nL 53.609375 8.296875 \nL 53.609375 0 \nL 7.328125 0 \nL 7.328125 8.296875 \nQ 12.9375 14.109375 22.625 23.890625 \nQ 32.328125 33.6875 34.8125 36.53125 \nQ 39.546875 41.84375 41.421875 45.53125 \nQ 43.3125 49.21875 43.3125 52.78125 \nQ 43.3125 58.59375 39.234375 62.25 \nQ 35.15625 65.921875 28.609375 65.921875 \nQ 23.96875 65.921875 18.8125 64.3125 \nQ 13.671875 62.703125 7.8125 59.421875 \nL 7.8125 69.390625 \nQ 13.765625 71.78125 18.9375 73 \nQ 24.125 74.21875 28.421875 74.21875 \nQ 39.75 74.21875 46.484375 68.546875 \nQ 53.21875 62.890625 53.21875 53.421875 \nQ 53.21875 48.921875 51.53125 44.890625 \nQ 49.859375 40.875 45.40625 35.40625 \nQ 44.1875 33.984375 37.640625 27.21875 \nQ 31.109375 20.453125 19.1875 8.296875 \nz\n\" id=\"DejaVuSans-50\"/>\n       <path d=\"M 31.78125 66.40625 \nQ 24.171875 66.40625 20.328125 58.90625 \nQ 16.5 51.421875 16.5 36.375 \nQ 16.5 21.390625 20.328125 13.890625 \nQ 24.171875 6.390625 31.78125 6.390625 \nQ 39.453125 6.390625 43.28125 13.890625 \nQ 47.125 21.390625 47.125 36.375 \nQ 47.125 51.421875 43.28125 58.90625 \nQ 39.453125 66.40625 31.78125 66.40625 \nz\nM 31.78125 74.21875 \nQ 44.046875 74.21875 50.515625 64.515625 \nQ 56.984375 54.828125 56.984375 36.375 \nQ 56.984375 17.96875 50.515625 8.265625 \nQ 44.046875 -1.421875 31.78125 -1.421875 \nQ 19.53125 -1.421875 13.0625 8.265625 \nQ 6.59375 17.96875 6.59375 36.375 \nQ 6.59375 54.828125 13.0625 64.515625 \nQ 19.53125 74.21875 31.78125 74.21875 \nz\n\" id=\"DejaVuSans-48\"/>\n       <path d=\"M 4.890625 31.390625 \nL 31.203125 31.390625 \nL 31.203125 23.390625 \nL 4.890625 23.390625 \nz\n\" id=\"DejaVuSans-45\"/>\n       <path d=\"M 10.984375 1.515625 \nL 10.984375 10.5 \nQ 14.703125 8.734375 18.5 7.8125 \nQ 22.3125 6.890625 25.984375 6.890625 \nQ 35.75 6.890625 40.890625 13.453125 \nQ 46.046875 20.015625 46.78125 33.40625 \nQ 43.953125 29.203125 39.59375 26.953125 \nQ 35.25 24.703125 29.984375 24.703125 \nQ 19.046875 24.703125 12.671875 31.3125 \nQ 6.296875 37.9375 6.296875 49.421875 \nQ 6.296875 60.640625 12.9375 67.421875 \nQ 19.578125 74.21875 30.609375 74.21875 \nQ 43.265625 74.21875 49.921875 64.515625 \nQ 56.59375 54.828125 56.59375 36.375 \nQ 56.59375 19.140625 48.40625 8.859375 \nQ 40.234375 -1.421875 26.421875 -1.421875 \nQ 22.703125 -1.421875 18.890625 -0.6875 \nQ 15.09375 0.046875 10.984375 1.515625 \nz\nM 30.609375 32.421875 \nQ 37.25 32.421875 41.125 36.953125 \nQ 45.015625 41.5 45.015625 49.421875 \nQ 45.015625 57.28125 41.125 61.84375 \nQ 37.25 66.40625 30.609375 66.40625 \nQ 23.96875 66.40625 20.09375 61.84375 \nQ 16.21875 57.28125 16.21875 49.421875 \nQ 16.21875 41.5 20.09375 36.953125 \nQ 23.96875 32.421875 30.609375 32.421875 \nz\n\" id=\"DejaVuSans-57\"/>\n      </defs>\n      <g transform=\"translate(53.288468 237.511846)rotate(-30)scale(0.1 -0.1)\">\n       <use xlink:href=\"#DejaVuSans-50\"/>\n       <use x=\"63.623047\" xlink:href=\"#DejaVuSans-48\"/>\n       <use x=\"127.246094\" xlink:href=\"#DejaVuSans-50\"/>\n       <use x=\"190.869141\" xlink:href=\"#DejaVuSans-48\"/>\n       <use x=\"254.492188\" xlink:href=\"#DejaVuSans-45\"/>\n       <use x=\"290.576172\" xlink:href=\"#DejaVuSans-48\"/>\n       <use x=\"354.199219\" xlink:href=\"#DejaVuSans-57\"/>\n      </g>\n     </g>\n    </g>\n    <g id=\"xtick_2\">\n     <g id=\"line2d_2\">\n      <g>\n       <use style=\"stroke:#000000;stroke-width:0.8;\" x=\"150.580943\" xlink:href=\"#md23399f2fb\" y=\"203.04\"/>\n      </g>\n     </g>\n     <g id=\"text_2\">\n      <!-- 2020-10 -->\n      <defs>\n       <path d=\"M 12.40625 8.296875 \nL 28.515625 8.296875 \nL 28.515625 63.921875 \nL 10.984375 60.40625 \nL 10.984375 69.390625 \nL 28.421875 72.90625 \nL 38.28125 72.90625 \nL 38.28125 8.296875 \nL 54.390625 8.296875 \nL 54.390625 0 \nL 12.40625 0 \nz\n\" id=\"DejaVuSans-49\"/>\n      </defs>\n      <g transform=\"translate(113.356122 237.511846)rotate(-30)scale(0.1 -0.1)\">\n       <use xlink:href=\"#DejaVuSans-50\"/>\n       <use x=\"63.623047\" xlink:href=\"#DejaVuSans-48\"/>\n       <use x=\"127.246094\" xlink:href=\"#DejaVuSans-50\"/>\n       <use x=\"190.869141\" xlink:href=\"#DejaVuSans-48\"/>\n       <use x=\"254.492188\" xlink:href=\"#DejaVuSans-45\"/>\n       <use x=\"290.576172\" xlink:href=\"#DejaVuSans-49\"/>\n       <use x=\"354.199219\" xlink:href=\"#DejaVuSans-48\"/>\n      </g>\n     </g>\n    </g>\n    <g id=\"xtick_3\">\n     <g id=\"line2d_3\">\n      <g>\n       <use style=\"stroke:#000000;stroke-width:0.8;\" x=\"212.650852\" xlink:href=\"#md23399f2fb\" y=\"203.04\"/>\n      </g>\n     </g>\n     <g id=\"text_3\">\n      <!-- 2020-11 -->\n      <g transform=\"translate(175.426031 237.511846)rotate(-30)scale(0.1 -0.1)\">\n       <use xlink:href=\"#DejaVuSans-50\"/>\n       <use x=\"63.623047\" xlink:href=\"#DejaVuSans-48\"/>\n       <use x=\"127.246094\" xlink:href=\"#DejaVuSans-50\"/>\n       <use x=\"190.869141\" xlink:href=\"#DejaVuSans-48\"/>\n       <use x=\"254.492188\" xlink:href=\"#DejaVuSans-45\"/>\n       <use x=\"290.576172\" xlink:href=\"#DejaVuSans-49\"/>\n       <use x=\"354.199219\" xlink:href=\"#DejaVuSans-49\"/>\n      </g>\n     </g>\n    </g>\n    <g id=\"xtick_4\">\n     <g id=\"line2d_4\">\n      <g>\n       <use style=\"stroke:#000000;stroke-width:0.8;\" x=\"272.718506\" xlink:href=\"#md23399f2fb\" y=\"203.04\"/>\n      </g>\n     </g>\n     <g id=\"text_4\">\n      <!-- 2020-12 -->\n      <g transform=\"translate(235.493685 237.511846)rotate(-30)scale(0.1 -0.1)\">\n       <use xlink:href=\"#DejaVuSans-50\"/>\n       <use x=\"63.623047\" xlink:href=\"#DejaVuSans-48\"/>\n       <use x=\"127.246094\" xlink:href=\"#DejaVuSans-50\"/>\n       <use x=\"190.869141\" xlink:href=\"#DejaVuSans-48\"/>\n       <use x=\"254.492188\" xlink:href=\"#DejaVuSans-45\"/>\n       <use x=\"290.576172\" xlink:href=\"#DejaVuSans-49\"/>\n       <use x=\"354.199219\" xlink:href=\"#DejaVuSans-50\"/>\n      </g>\n     </g>\n    </g>\n    <g id=\"xtick_5\">\n     <g id=\"line2d_5\">\n      <g>\n       <use style=\"stroke:#000000;stroke-width:0.8;\" x=\"334.788415\" xlink:href=\"#md23399f2fb\" y=\"203.04\"/>\n      </g>\n     </g>\n     <g id=\"text_5\">\n      <!-- 2021-01 -->\n      <g transform=\"translate(297.563594 237.511846)rotate(-30)scale(0.1 -0.1)\">\n       <use xlink:href=\"#DejaVuSans-50\"/>\n       <use x=\"63.623047\" xlink:href=\"#DejaVuSans-48\"/>\n       <use x=\"127.246094\" xlink:href=\"#DejaVuSans-50\"/>\n       <use x=\"190.869141\" xlink:href=\"#DejaVuSans-49\"/>\n       <use x=\"254.492188\" xlink:href=\"#DejaVuSans-45\"/>\n       <use x=\"290.576172\" xlink:href=\"#DejaVuSans-48\"/>\n       <use x=\"354.199219\" xlink:href=\"#DejaVuSans-49\"/>\n      </g>\n     </g>\n    </g>\n    <g id=\"text_6\">\n     <!-- Date_Time -->\n     <defs>\n      <path d=\"M 19.671875 64.796875 \nL 19.671875 8.109375 \nL 31.59375 8.109375 \nQ 46.6875 8.109375 53.6875 14.9375 \nQ 60.6875 21.78125 60.6875 36.53125 \nQ 60.6875 51.171875 53.6875 57.984375 \nQ 46.6875 64.796875 31.59375 64.796875 \nz\nM 9.8125 72.90625 \nL 30.078125 72.90625 \nQ 51.265625 72.90625 61.171875 64.09375 \nQ 71.09375 55.28125 71.09375 36.53125 \nQ 71.09375 17.671875 61.125 8.828125 \nQ 51.171875 0 30.078125 0 \nL 9.8125 0 \nz\n\" id=\"DejaVuSans-68\"/>\n      <path d=\"M 34.28125 27.484375 \nQ 23.390625 27.484375 19.1875 25 \nQ 14.984375 22.515625 14.984375 16.5 \nQ 14.984375 11.71875 18.140625 8.90625 \nQ 21.296875 6.109375 26.703125 6.109375 \nQ 34.1875 6.109375 38.703125 11.40625 \nQ 43.21875 16.703125 43.21875 25.484375 \nL 43.21875 27.484375 \nz\nM 52.203125 31.203125 \nL 52.203125 0 \nL 43.21875 0 \nL 43.21875 8.296875 \nQ 40.140625 3.328125 35.546875 0.953125 \nQ 30.953125 -1.421875 24.3125 -1.421875 \nQ 15.921875 -1.421875 10.953125 3.296875 \nQ 6 8.015625 6 15.921875 \nQ 6 25.140625 12.171875 29.828125 \nQ 18.359375 34.515625 30.609375 34.515625 \nL 43.21875 34.515625 \nL 43.21875 35.40625 \nQ 43.21875 41.609375 39.140625 45 \nQ 35.0625 48.390625 27.6875 48.390625 \nQ 23 48.390625 18.546875 47.265625 \nQ 14.109375 46.140625 10.015625 43.890625 \nL 10.015625 52.203125 \nQ 14.9375 54.109375 19.578125 55.046875 \nQ 24.21875 56 28.609375 56 \nQ 40.484375 56 46.34375 49.84375 \nQ 52.203125 43.703125 52.203125 31.203125 \nz\n\" id=\"DejaVuSans-97\"/>\n      <path d=\"M 18.3125 70.21875 \nL 18.3125 54.6875 \nL 36.8125 54.6875 \nL 36.8125 47.703125 \nL 18.3125 47.703125 \nL 18.3125 18.015625 \nQ 18.3125 11.328125 20.140625 9.421875 \nQ 21.96875 7.515625 27.59375 7.515625 \nL 36.8125 7.515625 \nL 36.8125 0 \nL 27.59375 0 \nQ 17.1875 0 13.234375 3.875 \nQ 9.28125 7.765625 9.28125 18.015625 \nL 9.28125 47.703125 \nL 2.6875 47.703125 \nL 2.6875 54.6875 \nL 9.28125 54.6875 \nL 9.28125 70.21875 \nz\n\" id=\"DejaVuSans-116\"/>\n      <path d=\"M 56.203125 29.59375 \nL 56.203125 25.203125 \nL 14.890625 25.203125 \nQ 15.484375 15.921875 20.484375 11.0625 \nQ 25.484375 6.203125 34.421875 6.203125 \nQ 39.59375 6.203125 44.453125 7.46875 \nQ 49.3125 8.734375 54.109375 11.28125 \nL 54.109375 2.78125 \nQ 49.265625 0.734375 44.1875 -0.34375 \nQ 39.109375 -1.421875 33.890625 -1.421875 \nQ 20.796875 -1.421875 13.15625 6.1875 \nQ 5.515625 13.8125 5.515625 26.8125 \nQ 5.515625 40.234375 12.765625 48.109375 \nQ 20.015625 56 32.328125 56 \nQ 43.359375 56 49.78125 48.890625 \nQ 56.203125 41.796875 56.203125 29.59375 \nz\nM 47.21875 32.234375 \nQ 47.125 39.59375 43.09375 43.984375 \nQ 39.0625 48.390625 32.421875 48.390625 \nQ 24.90625 48.390625 20.390625 44.140625 \nQ 15.875 39.890625 15.1875 32.171875 \nz\n\" id=\"DejaVuSans-101\"/>\n      <path d=\"M 50.984375 -16.609375 \nL 50.984375 -23.578125 \nL -0.984375 -23.578125 \nL -0.984375 -16.609375 \nz\n\" id=\"DejaVuSans-95\"/>\n      <path d=\"M -0.296875 72.90625 \nL 61.375 72.90625 \nL 61.375 64.59375 \nL 35.5 64.59375 \nL 35.5 0 \nL 25.59375 0 \nL 25.59375 64.59375 \nL -0.296875 64.59375 \nz\n\" id=\"DejaVuSans-84\"/>\n      <path d=\"M 9.421875 54.6875 \nL 18.40625 54.6875 \nL 18.40625 0 \nL 9.421875 0 \nz\nM 9.421875 75.984375 \nL 18.40625 75.984375 \nL 18.40625 64.59375 \nL 9.421875 64.59375 \nz\n\" id=\"DejaVuSans-105\"/>\n      <path d=\"M 52 44.1875 \nQ 55.375 50.25 60.0625 53.125 \nQ 64.75 56 71.09375 56 \nQ 79.640625 56 84.28125 50.015625 \nQ 88.921875 44.046875 88.921875 33.015625 \nL 88.921875 0 \nL 79.890625 0 \nL 79.890625 32.71875 \nQ 79.890625 40.578125 77.09375 44.375 \nQ 74.3125 48.1875 68.609375 48.1875 \nQ 61.625 48.1875 57.5625 43.546875 \nQ 53.515625 38.921875 53.515625 30.90625 \nL 53.515625 0 \nL 44.484375 0 \nL 44.484375 32.71875 \nQ 44.484375 40.625 41.703125 44.40625 \nQ 38.921875 48.1875 33.109375 48.1875 \nQ 26.21875 48.1875 22.15625 43.53125 \nQ 18.109375 38.875 18.109375 30.90625 \nL 18.109375 0 \nL 9.078125 0 \nL 9.078125 54.6875 \nL 18.109375 54.6875 \nL 18.109375 46.1875 \nQ 21.1875 51.21875 25.484375 53.609375 \nQ 29.78125 56 35.6875 56 \nQ 41.65625 56 45.828125 52.96875 \nQ 50 49.953125 52 44.1875 \nz\n\" id=\"DejaVuSans-109\"/>\n     </defs>\n     <g transform=\"translate(179.198438 250.911346)scale(0.1 -0.1)\">\n      <use xlink:href=\"#DejaVuSans-68\"/>\n      <use x=\"77.001953\" xlink:href=\"#DejaVuSans-97\"/>\n      <use x=\"138.28125\" xlink:href=\"#DejaVuSans-116\"/>\n      <use x=\"177.490234\" xlink:href=\"#DejaVuSans-101\"/>\n      <use x=\"239.013672\" xlink:href=\"#DejaVuSans-95\"/>\n      <use x=\"289.013672\" xlink:href=\"#DejaVuSans-84\"/>\n      <use x=\"346.972656\" xlink:href=\"#DejaVuSans-105\"/>\n      <use x=\"374.755859\" xlink:href=\"#DejaVuSans-109\"/>\n      <use x=\"472.167969\" xlink:href=\"#DejaVuSans-101\"/>\n     </g>\n    </g>\n   </g>\n   <g id=\"matplotlib.axis_2\">\n    <g id=\"ytick_1\">\n     <g id=\"line2d_6\">\n      <defs>\n       <path d=\"M 0 0 \nL -3.5 0 \n\" id=\"m64344cf513\" style=\"stroke:#000000;stroke-width:0.8;\"/>\n      </defs>\n      <g>\n       <use style=\"stroke:#000000;stroke-width:0.8;\" x=\"38.482813\" xlink:href=\"#m64344cf513\" y=\"194.138182\"/>\n      </g>\n     </g>\n     <g id=\"text_7\">\n      <!-- −1.0 -->\n      <defs>\n       <path d=\"M 10.59375 35.5 \nL 73.1875 35.5 \nL 73.1875 27.203125 \nL 10.59375 27.203125 \nz\n\" id=\"DejaVuSans-8722\"/>\n       <path d=\"M 10.6875 12.40625 \nL 21 12.40625 \nL 21 0 \nL 10.6875 0 \nz\n\" id=\"DejaVuSans-46\"/>\n      </defs>\n      <g transform=\"translate(7.2 197.937401)scale(0.1 -0.1)\">\n       <use xlink:href=\"#DejaVuSans-8722\"/>\n       <use x=\"83.789062\" xlink:href=\"#DejaVuSans-49\"/>\n       <use x=\"147.412109\" xlink:href=\"#DejaVuSans-46\"/>\n       <use x=\"179.199219\" xlink:href=\"#DejaVuSans-48\"/>\n      </g>\n     </g>\n    </g>\n    <g id=\"ytick_2\">\n     <g id=\"line2d_7\">\n      <g>\n       <use style=\"stroke:#000000;stroke-width:0.8;\" x=\"38.482813\" xlink:href=\"#m64344cf513\" y=\"164.465455\"/>\n      </g>\n     </g>\n     <g id=\"text_8\">\n      <!-- −0.5 -->\n      <defs>\n       <path d=\"M 10.796875 72.90625 \nL 49.515625 72.90625 \nL 49.515625 64.59375 \nL 19.828125 64.59375 \nL 19.828125 46.734375 \nQ 21.96875 47.46875 24.109375 47.828125 \nQ 26.265625 48.1875 28.421875 48.1875 \nQ 40.625 48.1875 47.75 41.5 \nQ 54.890625 34.8125 54.890625 23.390625 \nQ 54.890625 11.625 47.5625 5.09375 \nQ 40.234375 -1.421875 26.90625 -1.421875 \nQ 22.3125 -1.421875 17.546875 -0.640625 \nQ 12.796875 0.140625 7.71875 1.703125 \nL 7.71875 11.625 \nQ 12.109375 9.234375 16.796875 8.0625 \nQ 21.484375 6.890625 26.703125 6.890625 \nQ 35.15625 6.890625 40.078125 11.328125 \nQ 45.015625 15.765625 45.015625 23.390625 \nQ 45.015625 31 40.078125 35.4375 \nQ 35.15625 39.890625 26.703125 39.890625 \nQ 22.75 39.890625 18.8125 39.015625 \nQ 14.890625 38.140625 10.796875 36.28125 \nz\n\" id=\"DejaVuSans-53\"/>\n      </defs>\n      <g transform=\"translate(7.2 168.264673)scale(0.1 -0.1)\">\n       <use xlink:href=\"#DejaVuSans-8722\"/>\n       <use x=\"83.789062\" xlink:href=\"#DejaVuSans-48\"/>\n       <use x=\"147.412109\" xlink:href=\"#DejaVuSans-46\"/>\n       <use x=\"179.199219\" xlink:href=\"#DejaVuSans-53\"/>\n      </g>\n     </g>\n    </g>\n    <g id=\"ytick_3\">\n     <g id=\"line2d_8\">\n      <g>\n       <use style=\"stroke:#000000;stroke-width:0.8;\" x=\"38.482813\" xlink:href=\"#m64344cf513\" y=\"134.792727\"/>\n      </g>\n     </g>\n     <g id=\"text_9\">\n      <!-- 0.0 -->\n      <g transform=\"translate(15.579688 138.591946)scale(0.1 -0.1)\">\n       <use xlink:href=\"#DejaVuSans-48\"/>\n       <use x=\"63.623047\" xlink:href=\"#DejaVuSans-46\"/>\n       <use x=\"95.410156\" xlink:href=\"#DejaVuSans-48\"/>\n      </g>\n     </g>\n    </g>\n    <g id=\"ytick_4\">\n     <g id=\"line2d_9\">\n      <g>\n       <use style=\"stroke:#000000;stroke-width:0.8;\" x=\"38.482813\" xlink:href=\"#m64344cf513\" y=\"105.12\"/>\n      </g>\n     </g>\n     <g id=\"text_10\">\n      <!-- 0.5 -->\n      <g transform=\"translate(15.579688 108.919219)scale(0.1 -0.1)\">\n       <use xlink:href=\"#DejaVuSans-48\"/>\n       <use x=\"63.623047\" xlink:href=\"#DejaVuSans-46\"/>\n       <use x=\"95.410156\" xlink:href=\"#DejaVuSans-53\"/>\n      </g>\n     </g>\n    </g>\n    <g id=\"ytick_5\">\n     <g id=\"line2d_10\">\n      <g>\n       <use style=\"stroke:#000000;stroke-width:0.8;\" x=\"38.482813\" xlink:href=\"#m64344cf513\" y=\"75.447273\"/>\n      </g>\n     </g>\n     <g id=\"text_11\">\n      <!-- 1.0 -->\n      <g transform=\"translate(15.579688 79.246491)scale(0.1 -0.1)\">\n       <use xlink:href=\"#DejaVuSans-49\"/>\n       <use x=\"63.623047\" xlink:href=\"#DejaVuSans-46\"/>\n       <use x=\"95.410156\" xlink:href=\"#DejaVuSans-48\"/>\n      </g>\n     </g>\n    </g>\n    <g id=\"ytick_6\">\n     <g id=\"line2d_11\">\n      <g>\n       <use style=\"stroke:#000000;stroke-width:0.8;\" x=\"38.482813\" xlink:href=\"#m64344cf513\" y=\"45.774545\"/>\n      </g>\n     </g>\n     <g id=\"text_12\">\n      <!-- 1.5 -->\n      <g transform=\"translate(15.579688 49.573764)scale(0.1 -0.1)\">\n       <use xlink:href=\"#DejaVuSans-49\"/>\n       <use x=\"63.623047\" xlink:href=\"#DejaVuSans-46\"/>\n       <use x=\"95.410156\" xlink:href=\"#DejaVuSans-53\"/>\n      </g>\n     </g>\n    </g>\n    <g id=\"ytick_7\">\n     <g id=\"line2d_12\">\n      <g>\n       <use style=\"stroke:#000000;stroke-width:0.8;\" x=\"38.482813\" xlink:href=\"#m64344cf513\" y=\"16.101818\"/>\n      </g>\n     </g>\n     <g id=\"text_13\">\n      <!-- 2.0 -->\n      <g transform=\"translate(15.579688 19.901037)scale(0.1 -0.1)\">\n       <use xlink:href=\"#DejaVuSans-50\"/>\n       <use x=\"63.623047\" xlink:href=\"#DejaVuSans-46\"/>\n       <use x=\"95.410156\" xlink:href=\"#DejaVuSans-48\"/>\n      </g>\n     </g>\n    </g>\n   </g>\n   <g id=\"line2d_13\">\n    <path clip-path=\"url(#pdf531874bc)\" d=\"M 53.700994 75.447273 \nL 55.411254 75.447273 \nL 55.494681 134.792727 \nL 55.515538 75.447273 \nL 55.703249 75.447273 \nL 55.724106 194.138182 \nL 61.313735 134.792727 \nL 61.334592 134.792727 \nL 61.355449 75.447273 \nL 61.438876 134.792727 \nL 61.689158 134.792727 \nL 61.730872 75.447273 \nL 63.31599 75.447273 \nL 63.441131 134.792727 \nL 63.649699 134.792727 \nL 63.733127 75.447273 \nL 65.318245 134.792727 \nL 65.4851 134.792727 \nL 65.568527 75.447273 \nL 65.589384 134.792727 \nL 65.672811 134.792727 \nL 65.735382 75.447273 \nL 67.237073 75.447273 \nL 67.362214 134.792727 \nL 67.633353 134.792727 \nL 67.71678 75.447273 \nL 67.737637 194.138182 \nL 69.322756 134.792727 \nL 69.552181 134.792727 \nL 69.614751 75.447273 \nL 69.656465 134.792727 \nL 69.677322 134.792727 \nL 69.739892 75.447273 \nL 75.225237 16.101818 \nL 75.329521 134.792727 \nL 75.350378 75.447273 \nL 75.392092 75.447273 \nL 75.433805 134.792727 \nL 75.496376 75.447273 \nL 75.579803 75.447273 \nL 75.621517 134.792727 \nL 75.684087 75.447273 \nL 75.704944 75.447273 \nL 75.725801 134.792727 \nL 75.746658 75.447273 \nL 77.227492 16.101818 \nL 77.331776 134.792727 \nL 77.352633 16.101818 \nL 77.43606 75.447273 \nL 77.456917 75.447273 \nL 77.477774 134.792727 \nL 77.561201 75.447273 \nL 77.644629 75.447273 \nL 77.665485 16.101818 \nL 77.728056 75.447273 \nL 77.748913 134.792727 \nL 79.563456 134.792727 \nL 79.688597 75.447273 \nL 79.751168 134.792727 \nL 81.398857 134.792727 \nL 81.503141 16.101818 \nL 81.523998 75.447273 \nL 81.649139 75.447273 \nL 81.753423 134.792727 \nL 83.463683 134.792727 \nL 83.588823 75.447273 \nL 83.672251 75.447273 \nL 83.693108 134.792727 \nL 83.755678 75.447273 \nL 89.366164 75.447273 \nL 89.387021 16.101818 \nL 89.449591 75.447273 \nL 89.470448 134.792727 \nL 89.553875 75.447273 \nL 89.574732 16.101818 \nL 89.616446 134.792727 \nL 89.637303 134.792727 \nL 89.699873 134.792727 \nL 89.72073 75.447273 \nL 89.741587 194.138182 \nL 89.762443 134.792727 \nL 91.55613 134.792727 \nL 91.681271 75.447273 \nL 91.743842 75.447273 \nL 91.764699 134.792727 \nL 93.558385 134.792727 \nL 93.600099 75.447273 \nL 93.620956 194.138182 \nL 93.66267 134.792727 \nL 95.414643 134.792727 \nL 95.539784 75.447273 \nL 95.581497 75.447273 \nL 95.602354 16.101818 \nL 95.623211 134.792727 \nL 95.664925 134.792727 \nL 97.2709 134.792727 \nL 97.291757 194.138182 \nL 97.312614 75.447273 \nL 97.354327 134.792727 \nL 97.479468 75.447273 \nL 97.542039 75.447273 \nL 97.562896 134.792727 \nL 97.646323 75.447273 \nL 97.66718 75.447273 \nL 97.688037 16.101818 \nL 97.771464 75.447273 \nL 105.405062 75.447273 \nL 105.425918 134.792727 \nL 105.509346 75.447273 \nL 105.759628 75.447273 \nL 105.780484 134.792727 \nL 107.595028 134.792727 \nL 107.720169 75.447273 \nL 109.263574 75.447273 \nL 109.388715 134.792727 \nL 109.597283 134.792727 \nL 109.659854 75.447273 \nL 109.701567 134.792727 \nL 109.722424 134.792727 \nL 109.764138 75.447273 \nL 109.784995 134.792727 \nL 111.39097 134.792727 \nL 111.411827 194.138182 \nL 111.432684 75.447273 \nL 111.474398 75.447273 \nL 111.495254 75.447273 \nL 111.516111 16.101818 \nL 111.599538 75.447273 \nL 111.620395 134.792727 \nL 111.703823 75.447273 \nL 111.766393 75.447273 \nL 111.78725 134.792727 \nL 117.606304 134.792727 \nL 117.731445 75.447273 \nL 117.752302 75.447273 \nL 117.794015 134.792727 \nL 119.587702 134.792727 \nL 119.712843 75.447273 \nL 119.754557 75.447273 \nL 119.775414 194.138182 \nL 119.79627 134.792727 \nL 121.5691 134.792727 \nL 121.589957 75.447273 \nL 121.673385 134.792727 \nL 123.613069 134.792727 \nL 123.73821 75.447273 \nL 123.759067 75.447273 \nL 123.800781 194.138182 \nL 125.385899 134.792727 \nL 125.552754 134.792727 \nL 125.573611 75.447273 \nL 125.657038 134.792727 \nL 131.371808 134.792727 \nL 131.496949 75.447273 \nL 133.353206 75.447273 \nL 133.374063 134.792727 \nL 133.45749 75.447273 \nL 133.499204 75.447273 \nL 133.520061 16.101818 \nL 133.603488 75.447273 \nL 133.666059 75.447273 \nL 133.686915 134.792727 \nL 133.770343 75.447273 \nL 133.791199 16.101818 \nL 133.812056 75.447273 \nL 135.334604 75.447273 \nL 135.355461 134.792727 \nL 135.397175 16.101818 \nL 135.438889 75.447273 \nL 135.56403 75.447273 \nL 135.68917 134.792727 \nL 135.772598 134.792727 \nL 135.793455 75.447273 \nL 135.814311 134.792727 \nL 137.628855 134.792727 \nL 137.649712 75.447273 \nL 137.712282 194.138182 \nL 137.733139 134.792727 \nL 139.63111 134.792727 \nL 139.735394 75.447273 \nL 139.797965 134.792727 \nL 139.818822 75.447273 \nL 145.617019 75.447273 \nL 145.679589 134.792727 \nL 145.721303 16.101818 \nL 145.825587 134.792727 \nL 147.410706 75.447273 \nL 147.535847 134.792727 \nL 147.640131 134.792727 \nL 147.765272 75.447273 \nL 147.806985 75.447273 \nL 147.827842 134.792727 \nL 149.433818 134.792727 \nL 149.454674 194.138182 \nL 149.538102 134.792727 \nL 149.704956 134.792727 \nL 149.80924 16.101818 \nL 149.830097 134.792727 \nL 151.45693 134.792727 \nL 151.477786 194.138182 \nL 151.561214 134.792727 \nL 151.790639 134.792727 \nL 151.832352 75.447273 \nL 153.521755 75.447273 \nL 153.542612 16.101818 \nL 153.626039 75.447273 \nL 153.646896 75.447273 \nL 153.772037 134.792727 \nL 153.834608 75.447273 \nL 159.445093 75.447273 \nL 159.46595 134.792727 \nL 159.549377 75.447273 \nL 159.799659 75.447273 \nL 159.841373 134.792727 \nL 161.63506 134.792727 \nL 161.760201 75.447273 \nL 163.699885 75.447273 \nL 163.720742 16.101818 \nL 163.80417 75.447273 \nL 163.845883 134.792727 \nL 165.660427 134.792727 \nL 165.785568 75.447273 \nL 167.391543 75.447273 \nL 167.516684 134.792727 \nL 167.662682 134.792727 \nL 167.787823 75.447273 \nL 167.80868 75.447273 \nL 167.829537 16.101818 \nL 167.850393 75.447273 \nL 173.335738 75.447273 \nL 173.460879 134.792727 \nL 173.648591 134.792727 \nL 173.773732 75.447273 \nL 173.794588 75.447273 \nL 173.815445 134.792727 \nL 173.836302 16.101818 \nL 173.857159 75.447273 \nL 175.337993 75.447273 \nL 175.463134 134.792727 \nL 175.692559 134.792727 \nL 175.8177 75.447273 \nL 177.548817 75.447273 \nL 177.673958 134.792727 \nL 177.715671 75.447273 \nL 177.757385 134.792727 \nL 177.778242 194.138182 \nL 177.799099 16.101818 \nL 177.861669 134.792727 \nL 179.655356 134.792727 \nL 179.780497 75.447273 \nL 179.822211 75.447273 \nL 179.843067 134.792727 \nL 179.863924 75.447273 \nL 181.449043 134.792727 \nL 181.615897 134.792727 \nL 181.636754 194.138182 \nL 181.720182 134.792727 \nL 187.64352 134.792727 \nL 187.768661 75.447273 \nL 187.872945 134.792727 \nL 189.687488 134.792727 \nL 189.812629 75.447273 \nL 189.833486 75.447273 \nL 189.8752 134.792727 \nL 191.752314 134.792727 \nL 191.877455 75.447273 \nL 193.546001 75.447273 \nL 193.566858 134.792727 \nL 193.650285 75.447273 \nL 193.733712 75.447273 \nL 193.858853 134.792727 \nL 193.87971 75.447273 \nL 195.464829 134.792727 \nL 195.527399 134.792727 \nL 195.548256 194.138182 \nL 195.58997 75.447273 \nL 195.610827 75.447273 \nL 195.735967 75.447273 \nL 195.756824 16.101818 \nL 195.840252 75.447273 \nL 195.881965 134.792727 \nL 201.513308 134.792727 \nL 201.534165 194.138182 \nL 201.575878 16.101818 \nL 201.596735 134.792727 \nL 201.617592 16.101818 \nL 201.701019 75.447273 \nL 201.742733 75.447273 \nL 201.867874 134.792727 \nL 203.369565 134.792727 \nL 203.494706 75.447273 \nL 203.557277 75.447273 \nL 203.578133 134.792727 \nL 203.59899 16.101818 \nL 203.661561 75.447273 \nL 203.807558 75.447273 \nL 203.890986 134.792727 \nL 205.559532 134.792727 \nL 205.684673 75.447273 \nL 205.851527 75.447273 \nL 205.893241 134.792727 \nL 207.749498 134.792727 \nL 207.791212 75.447273 \nL 207.853782 134.792727 \nL 209.626612 134.792727 \nL 209.751753 75.447273 \nL 215.633378 75.447273 \nL 215.654235 134.792727 \nL 215.737662 75.447273 \nL 217.447922 75.447273 \nL 217.468778 16.101818 \nL 217.552206 75.447273 \nL 219.408463 75.447273 \nL 219.49189 134.792727 \nL 219.450177 16.101818 \nL 219.512747 75.447273 \nL 221.389861 75.447273 \nL 221.452432 16.101818 \nL 221.431575 134.792727 \nL 221.494145 75.447273 \nL 221.702714 75.447273 \nL 221.723571 16.101818 \nL 221.806998 75.447273 \nL 221.869568 75.447273 \nL 221.890425 134.792727 \nL 221.911282 75.447273 \nL 223.412973 75.447273 \nL 223.538114 134.792727 \nL 223.684112 134.792727 \nL 223.809253 75.447273 \nL 229.649164 75.447273 \nL 229.670021 16.101818 \nL 229.753448 75.447273 \nL 229.878589 134.792727 \nL 231.693133 134.792727 \nL 231.818273 75.447273 \nL 231.880844 75.447273 \nL 231.922558 134.792727 \nL 233.737101 134.792727 \nL 233.757958 75.447273 \nL 233.841385 134.792727 \nL 235.426504 134.792727 \nL 235.447361 194.138182 \nL 235.530788 134.792727 \nL 235.739356 134.792727 \nL 235.864497 75.447273 \nL 235.906211 75.447273 \nL 235.927068 134.792727 \nL 237.866752 134.792727 \nL 237.929323 75.447273 \nL 243.456381 75.447273 \nL 243.581522 134.792727 \nL 245.562921 134.792727 \nL 245.688062 75.447273 \nL 245.834059 75.447273 \nL 245.938343 134.792727 \nL 247.544319 134.792727 \nL 247.66946 75.447273 \nL 247.752887 75.447273 \nL 247.773744 16.101818 \nL 247.857171 75.447273 \nL 247.898885 75.447273 \nL 247.919742 134.792727 \nL 247.940599 75.447273 \nL 249.546574 75.447273 \nL 249.567431 16.101818 \nL 249.588288 134.792727 \nL 249.630001 134.792727 \nL 249.859426 134.792727 \nL 249.942854 75.447273 \nL 251.423688 75.447273 \nL 251.548829 134.792727 \nL 251.6114 134.792727 \nL 251.736541 75.447273 \nL 251.757397 75.447273 \nL 251.778254 16.101818 \nL 251.819968 134.792727 \nL 251.840825 134.792727 \nL 251.903395 134.792727 \nL 251.924252 75.447273 \nL 251.945109 134.792727 \nL 257.430454 75.447273 \nL 257.534738 134.792727 \nL 257.555595 75.447273 \nL 257.639022 134.792727 \nL 257.868447 134.792727 \nL 257.951874 75.447273 \nL 259.912416 75.447273 \nL 259.954129 134.792727 \nL 261.768673 134.792727 \nL 261.893814 75.447273 \nL 261.956385 75.447273 \nL 265.439474 194.138182 \nL 265.564615 134.792727 \nL 265.752327 134.792727 \nL 265.877467 75.447273 \nL 265.940038 75.447273 \nL 265.960895 134.792727 \nL 271.613094 134.792727 \nL 271.633951 194.138182 \nL 271.717378 134.792727 \nL 271.821662 16.101818 \nL 271.842519 75.447273 \nL 271.90509 75.447273 \nL 271.925947 134.792727 \nL 271.96766 75.447273 \nL 273.552779 75.447273 \nL 273.67792 134.792727 \nL 273.698777 134.792727 \nL 273.823918 75.447273 \nL 273.928202 75.447273 \nL 273.949058 16.101818 \nL 273.969915 134.792727 \nL 275.763602 134.792727 \nL 275.888743 75.447273 \nL 275.930457 75.447273 \nL 275.951314 194.138182 \nL 275.97217 134.792727 \nL 277.745 134.792727 \nL 277.870141 75.447273 \nL 277.890998 75.447273 \nL 277.911855 16.101818 \nL 277.932712 134.792727 \nL 277.974426 134.792727 \nL 279.788969 134.792727 \nL 279.872397 75.447273 \nL 279.893253 134.792727 \nL 279.934967 134.792727 \nL 279.976681 75.447273 \nL 285.670594 75.447273 \nL 285.691451 16.101818 \nL 285.774878 75.447273 \nL 285.920876 75.447273 \nL 285.983446 134.792727 \nL 287.756276 134.792727 \nL 287.777133 75.447273 \nL 287.86056 134.792727 \nL 287.881417 194.138182 \nL 287.902274 75.447273 \nL 287.943988 75.447273 \nL 287.964844 75.447273 \nL 287.985701 134.792727 \nL 289.508249 75.447273 \nL 289.63339 134.792727 \nL 289.695961 134.792727 \nL 289.716818 75.447273 \nL 289.800245 134.792727 \nL 289.946243 134.792727 \nL 289.967099 194.138182 \nL 289.987956 134.792727 \nL 291.8025 134.792727 \nL 291.927641 75.447273 \nL 293.471046 75.447273 \nL 293.491903 16.101818 \nL 293.51276 134.792727 \nL 293.554473 134.792727 \nL 293.867326 134.792727 \nL 293.929896 75.447273 \nL 293.950753 194.138182 \nL 293.97161 134.792727 \nL 299.665523 134.792727 \nL 299.68638 75.447273 \nL 299.74895 194.138182 \nL 299.769807 134.792727 \nL 299.894948 134.792727 \nL 299.978375 16.101818 \nL 299.999232 134.792727 \nL 301.813776 134.792727 \nL 301.938917 75.447273 \nL 301.959773 75.447273 \nL 301.98063 194.138182 \nL 302.001487 134.792727 \nL 303.69089 134.792727 \nL 303.795174 75.447273 \nL 303.899458 134.792727 \nL 304.003742 75.447273 \nL 305.505434 75.447273 \nL 305.52629 16.101818 \nL 305.609718 75.447273 \nL 305.839143 75.447273 \nL 305.86 134.792727 \nL 305.943427 75.447273 \nL 305.985141 75.447273 \nL 306.005997 16.101818 \nL 307.591116 75.447273 \nL 307.987396 75.447273 \nL 308.008252 134.792727 \nL 313.514454 75.447273 \nL 313.639595 134.792727 \nL 313.785593 134.792727 \nL 313.910734 75.447273 \nL 313.973304 75.447273 \nL 314.015018 134.792727 \nL 315.829562 134.792727 \nL 315.850418 75.447273 \nL 315.933846 134.792727 \nL 315.996416 134.792727 \nL 316.017273 75.447273 \nL 317.602392 134.792727 \nL 317.831817 134.792727 \nL 317.852674 75.447273 \nL 317.936101 134.792727 \nL 317.977814 134.792727 \nL 318.019528 75.447273 \nL 319.521219 75.447273 \nL 319.542076 134.792727 \nL 319.625504 75.447273 \nL 320.000926 75.447273 \nL 320.021783 134.792727 \nL 327.843092 134.792727 \nL 327.968233 75.447273 \nL 328.030804 75.447273 \nL 329.511638 16.101818 \nL 329.636779 134.792727 \nL 329.657636 194.138182 \nL 329.741063 134.792727 \nL 331.743318 134.792727 \nL 331.868459 75.447273 \nL 333.578719 75.447273 \nL 333.599576 16.101818 \nL 333.683003 75.447273 \nL 333.70386 134.792727 \nL 333.787287 75.447273 \nL 333.870715 75.447273 \nL 333.891571 16.101818 \nL 333.954142 75.447273 \nL 333.974999 134.792727 \nL 334.037569 75.447273 \nL 341.525169 16.101818 \nL 341.65031 134.792727 \nL 341.963162 134.792727 \nL 342.04659 75.447273 \nL 343.81942 75.447273 \nL 343.944561 134.792727 \nL 344.027988 134.792727 \nL 344.048845 75.447273 \nL 345.550536 75.447273 \nL 345.571393 194.138182 \nL 345.65482 134.792727 \nL 345.779961 134.792727 \nL 345.800818 75.447273 \nL 345.884245 134.792727 \nL 347.573648 134.792727 \nL 347.594505 194.138182 \nL 347.677932 134.792727 \nL 347.8865 134.792727 \nL 348.011641 75.447273 \nL 349.53419 75.447273 \nL 349.659331 134.792727 \nL 349.909612 134.792727 \nL 350.034753 75.447273 \nL 355.561812 75.447273 \nL 355.603525 134.792727 \nL 355.666096 75.447273 \nL 355.749523 75.447273 \nL 355.874664 134.792727 \nL 355.999805 134.792727 \nL 356.062376 75.447273 \nL 357.584924 75.447273 \nL 357.710065 134.792727 \nL 357.981203 134.792727 \nL 358.064631 75.447273 \nL 358.064631 75.447273 \n\" style=\"fill:none;stroke:#1f77b4;stroke-linecap:square;stroke-width:1.5;\"/>\n   </g>\n   <g id=\"line2d_14\">\n    <path clip-path=\"url(#pdf531874bc)\" d=\"M 53.700994 75.128219 \nL 55.411254 75.128219 \nL 55.494681 119.577763 \nL 55.515538 75.128219 \nL 55.703249 75.128219 \nL 55.724106 132.53287 \nL 61.313735 119.577763 \nL 61.334592 119.577763 \nL 61.355449 104.832208 \nL 61.438876 119.577763 \nL 61.689158 119.577763 \nL 61.730872 75.128219 \nL 63.31599 75.128219 \nL 63.441131 119.577763 \nL 63.649699 119.577763 \nL 63.733127 75.128219 \nL 65.213961 92.058208 \nL 65.339102 119.577763 \nL 65.4851 119.577763 \nL 65.568527 75.128219 \nL 65.589384 119.577763 \nL 65.672811 119.577763 \nL 65.735382 75.128219 \nL 67.237073 75.128219 \nL 67.362214 119.577763 \nL 67.633353 119.577763 \nL 67.71678 75.128219 \nL 67.737637 132.53287 \nL 69.322756 119.577763 \nL 69.552181 119.577763 \nL 69.614751 75.128219 \nL 69.656465 119.577763 \nL 69.677322 119.577763 \nL 69.739892 75.128219 \nL 75.225237 56.896505 \nL 75.266951 119.577763 \nL 75.350378 75.128219 \nL 75.392092 75.128219 \nL 75.433805 119.577763 \nL 75.496376 75.128219 \nL 75.558946 75.128219 \nL 75.621517 119.577763 \nL 75.66323 75.128219 \nL 75.704944 75.128219 \nL 75.725801 92.058208 \nL 75.746658 75.128219 \nL 77.227492 56.896505 \nL 77.331776 92.058208 \nL 77.352633 56.896505 \nL 77.43606 75.128219 \nL 77.456917 75.128219 \nL 77.477774 92.058208 \nL 77.561201 75.128219 \nL 77.644629 75.128219 \nL 77.665485 56.896505 \nL 77.728056 75.128219 \nL 77.748913 119.577763 \nL 79.563456 119.577763 \nL 79.688597 75.128219 \nL 79.751168 119.577763 \nL 81.398857 119.577763 \nL 81.503141 56.896505 \nL 81.523998 75.128219 \nL 81.649139 75.128219 \nL 81.753423 119.577763 \nL 83.463683 119.577763 \nL 83.588823 75.128219 \nL 83.672251 75.128219 \nL 83.693108 92.058208 \nL 83.755678 75.128226 \nL 89.366164 75.128219 \nL 89.387021 56.896505 \nL 89.449591 75.128219 \nL 89.470448 92.058208 \nL 89.553875 75.128219 \nL 89.574732 56.896505 \nL 89.595589 75.128219 \nL 89.699873 119.577763 \nL 89.72073 75.128219 \nL 89.741587 132.53287 \nL 89.762443 119.577763 \nL 91.55613 119.577763 \nL 91.681271 75.128219 \nL 91.722985 75.128219 \nL 91.764699 119.577763 \nL 93.558385 119.577763 \nL 93.600099 75.128219 \nL 93.620956 132.53287 \nL 93.66267 119.577763 \nL 95.414643 119.577763 \nL 95.539784 75.128219 \nL 95.581497 75.128226 \nL 95.602354 56.896505 \nL 95.623211 119.577763 \nL 97.2709 119.577763 \nL 97.291757 132.53287 \nL 97.312614 104.832208 \nL 97.354327 119.577763 \nL 97.479468 75.128219 \nL 97.542039 75.128219 \nL 97.562896 119.577763 \nL 97.646323 75.128219 \nL 97.66718 75.128219 \nL 97.688037 56.896505 \nL 97.771464 75.128219 \nL 105.405062 75.128219 \nL 105.425918 92.058208 \nL 105.509346 75.128219 \nL 105.759628 75.128219 \nL 105.780484 119.577763 \nL 107.595028 119.577763 \nL 107.720169 75.128219 \nL 109.263574 75.128219 \nL 109.388715 119.577763 \nL 109.597283 119.577763 \nL 109.659854 75.128219 \nL 109.701567 119.577763 \nL 109.722424 119.577763 \nL 109.743281 75.128219 \nL 109.784995 119.577763 \nL 111.39097 119.577763 \nL 111.411827 132.53287 \nL 111.516111 56.896505 \nL 111.536968 75.128219 \nL 111.599538 75.128219 \nL 111.620395 92.058208 \nL 111.703823 75.128219 \nL 111.745536 75.128219 \nL 111.78725 119.577763 \nL 117.606304 119.577763 \nL 117.731445 75.128219 \nL 117.752302 75.128219 \nL 117.794015 119.577763 \nL 119.587702 119.577763 \nL 119.712843 75.128219 \nL 119.754557 75.128219 \nL 119.775414 132.53287 \nL 119.79627 119.577763 \nL 121.5691 119.577763 \nL 121.589957 104.832208 \nL 121.673385 119.577763 \nL 123.613069 119.577763 \nL 123.73821 75.128219 \nL 123.759067 75.128219 \nL 123.800781 132.53287 \nL 125.385899 119.577763 \nL 125.552754 119.577763 \nL 125.573611 104.832208 \nL 125.657038 119.577763 \nL 131.371808 119.577763 \nL 131.496949 75.128219 \nL 133.353206 75.128219 \nL 133.374063 92.058208 \nL 133.45749 75.128219 \nL 133.499204 75.128219 \nL 133.520061 56.896505 \nL 133.603488 75.128219 \nL 133.666059 75.128219 \nL 133.686915 92.058208 \nL 133.770343 75.128219 \nL 133.791199 56.896505 \nL 133.812056 75.128226 \nL 135.334604 75.128219 \nL 135.355461 92.058208 \nL 135.397175 56.896505 \nL 135.438889 75.128219 \nL 135.56403 75.128219 \nL 135.710027 119.577763 \nL 135.772598 119.577763 \nL 135.793455 104.832208 \nL 135.814311 119.577763 \nL 137.628855 119.577763 \nL 137.649712 75.128219 \nL 137.712282 132.53287 \nL 137.733139 119.577763 \nL 139.63111 119.577763 \nL 139.735394 75.128219 \nL 139.797965 119.577763 \nL 139.818822 75.128219 \nL 145.617019 75.128219 \nL 145.679589 92.058208 \nL 145.721303 56.896505 \nL 145.825587 92.058208 \nL 147.410706 75.128219 \nL 147.535847 119.577763 \nL 147.640131 119.577763 \nL 147.765272 75.128226 \nL 147.786129 75.128226 \nL 147.827842 119.577763 \nL 149.433818 119.577763 \nL 149.454674 132.53287 \nL 149.538102 119.577763 \nL 149.704956 119.577763 \nL 149.80924 56.896505 \nL 149.830097 119.577763 \nL 151.45693 119.577763 \nL 151.477786 132.53287 \nL 151.561214 119.577763 \nL 151.790639 119.577763 \nL 151.832352 75.128219 \nL 153.521755 75.128219 \nL 153.542612 56.896505 \nL 153.626039 75.128219 \nL 153.646896 75.128219 \nL 153.772037 119.577763 \nL 153.834608 75.128219 \nL 159.445093 75.128219 \nL 159.46595 92.058208 \nL 159.549377 75.128219 \nL 159.799659 75.128219 \nL 159.841373 119.577763 \nL 161.63506 119.577763 \nL 161.760201 75.128226 \nL 163.699885 75.128219 \nL 163.720742 56.896505 \nL 163.80417 75.128219 \nL 163.845883 119.577763 \nL 165.660427 119.577763 \nL 165.785568 75.128219 \nL 167.391543 75.128219 \nL 167.537541 119.577763 \nL 167.662682 119.577763 \nL 167.787823 75.128219 \nL 167.80868 75.128219 \nL 167.829537 56.896505 \nL 167.850393 75.128219 \nL 173.335738 75.128219 \nL 173.460879 119.577763 \nL 173.648591 119.577763 \nL 173.773732 75.128219 \nL 173.794588 75.128219 \nL 173.815445 119.577763 \nL 173.836302 56.896505 \nL 173.857159 75.128219 \nL 175.337993 75.128219 \nL 175.463134 119.577763 \nL 175.692559 119.577763 \nL 175.8177 75.128219 \nL 177.548817 75.128219 \nL 177.673958 119.577763 \nL 177.778242 132.53287 \nL 177.799099 56.896505 \nL 177.861669 119.577763 \nL 179.655356 119.577763 \nL 179.780497 75.128219 \nL 179.822211 75.128219 \nL 179.843067 119.577763 \nL 179.863924 75.128219 \nL 181.449043 119.577763 \nL 181.615897 119.577763 \nL 181.636754 132.53287 \nL 181.720182 119.577763 \nL 187.64352 119.577763 \nL 187.768661 75.128219 \nL 187.872945 119.577763 \nL 189.687488 119.577763 \nL 189.812629 75.128219 \nL 189.833486 75.128219 \nL 189.8752 119.577763 \nL 191.752314 119.577763 \nL 191.877455 75.128219 \nL 193.546001 75.128219 \nL 193.566858 119.577763 \nL 193.650285 75.128219 \nL 193.733712 75.128219 \nL 193.858853 119.577763 \nL 193.87971 104.832208 \nL 195.464829 119.577763 \nL 195.527399 119.577763 \nL 195.548256 132.53287 \nL 195.569113 119.577763 \nL 195.694254 75.128219 \nL 195.735967 75.128219 \nL 195.756824 56.896505 \nL 195.840252 75.128219 \nL 195.881965 119.577763 \nL 201.513308 119.577763 \nL 201.534165 132.532875 \nL 201.555021 119.577763 \nL 201.617592 56.896505 \nL 201.680162 75.128219 \nL 201.742733 75.128219 \nL 201.867874 119.577763 \nL 203.369565 119.577763 \nL 203.494706 75.128219 \nL 203.557277 75.128219 \nL 203.578133 92.058208 \nL 203.59899 56.896505 \nL 203.661561 75.128226 \nL 203.807558 75.128219 \nL 203.890986 119.577763 \nL 205.559532 119.577763 \nL 205.684673 75.128219 \nL 205.851527 75.128219 \nL 205.893241 119.577763 \nL 207.749498 119.577763 \nL 207.791212 75.128219 \nL 207.853782 119.577763 \nL 209.626612 119.577763 \nL 209.751753 75.128219 \nL 215.633378 75.128219 \nL 215.654235 92.058208 \nL 215.737662 75.128219 \nL 217.447922 75.128219 \nL 217.468778 56.896505 \nL 217.552206 75.128219 \nL 219.408463 75.128219 \nL 219.49189 92.058208 \nL 219.450177 56.896505 \nL 219.512747 75.128219 \nL 221.389861 75.128219 \nL 221.452432 56.896505 \nL 221.431575 92.058208 \nL 221.494145 75.128219 \nL 221.702714 75.128219 \nL 221.723571 56.896505 \nL 221.806998 75.128219 \nL 221.869568 75.128219 \nL 221.890425 92.058208 \nL 221.911282 75.128226 \nL 223.412973 75.128219 \nL 223.538114 119.577763 \nL 223.684112 119.577763 \nL 223.809253 75.128219 \nL 229.649164 75.128219 \nL 229.670021 56.896505 \nL 229.753448 75.128219 \nL 229.878589 119.577763 \nL 231.693133 119.577763 \nL 231.818273 75.128219 \nL 231.880844 75.128219 \nL 231.922558 119.577763 \nL 233.737101 119.577763 \nL 233.757958 75.128226 \nL 233.841385 119.577763 \nL 235.426504 119.577763 \nL 235.447361 132.53287 \nL 235.530788 119.577763 \nL 235.739356 119.577763 \nL 235.864497 75.128226 \nL 235.885354 75.128226 \nL 235.927068 119.577763 \nL 237.866752 119.577763 \nL 237.929323 75.128219 \nL 243.456381 75.128226 \nL 243.581522 119.577763 \nL 245.562921 119.577763 \nL 245.688062 75.128219 \nL 245.834059 75.128219 \nL 245.938343 119.577763 \nL 247.544319 119.577763 \nL 247.66946 75.128219 \nL 247.752887 75.128219 \nL 247.773744 56.896505 \nL 247.857171 75.128219 \nL 247.898885 75.128219 \nL 247.919742 92.058208 \nL 247.940599 75.128219 \nL 249.546574 75.128219 \nL 249.567431 56.896505 \nL 249.588288 119.577763 \nL 249.859426 119.577763 \nL 249.942854 75.128219 \nL 251.423688 75.128219 \nL 251.548829 119.577763 \nL 251.6114 119.577763 \nL 251.778254 56.896505 \nL 251.903395 119.577763 \nL 251.924252 75.128219 \nL 251.945109 92.058208 \nL 257.430454 75.128226 \nL 257.534738 119.577763 \nL 257.555595 104.832208 \nL 257.639022 119.577763 \nL 257.868447 119.577763 \nL 257.951874 75.128219 \nL 259.912416 75.128219 \nL 259.954129 119.577763 \nL 261.768673 119.577763 \nL 261.893814 75.128219 \nL 261.956385 75.128219 \nL 265.439474 132.53287 \nL 265.564615 119.577763 \nL 265.752327 119.577763 \nL 265.877467 75.128219 \nL 265.919181 75.128219 \nL 265.960895 119.577763 \nL 271.613094 119.577763 \nL 271.633951 132.53287 \nL 271.717378 119.577763 \nL 271.821662 56.896505 \nL 271.842519 75.128219 \nL 271.90509 75.128219 \nL 271.925947 92.058208 \nL 271.96766 75.128226 \nL 273.552779 75.128219 \nL 273.67792 119.577763 \nL 273.698777 119.577763 \nL 273.823918 75.128219 \nL 273.928202 75.128219 \nL 273.949058 56.896505 \nL 273.969915 119.577763 \nL 275.763602 119.577763 \nL 275.888743 75.128219 \nL 275.930457 75.128219 \nL 275.951314 132.53287 \nL 275.97217 119.577763 \nL 277.745 119.577763 \nL 277.870141 75.128219 \nL 277.890998 75.128219 \nL 277.911855 56.896505 \nL 277.932712 92.058208 \nL 277.974426 119.577763 \nL 279.788969 119.577763 \nL 279.872397 75.128219 \nL 279.893253 119.577763 \nL 279.934967 119.577763 \nL 279.976681 75.128219 \nL 285.670594 75.128219 \nL 285.691451 56.896505 \nL 285.774878 75.128219 \nL 285.920876 75.128226 \nL 285.983446 119.577763 \nL 287.756276 119.577763 \nL 287.777133 104.832208 \nL 287.86056 119.577763 \nL 287.881417 132.53287 \nL 287.902274 104.832208 \nL 287.923131 119.577763 \nL 287.964844 75.128219 \nL 287.985701 92.058208 \nL 289.508249 75.128226 \nL 289.63339 119.577763 \nL 289.695961 119.577763 \nL 289.716818 104.832208 \nL 289.800245 119.577763 \nL 289.946243 119.577763 \nL 289.967099 132.53287 \nL 289.987956 119.577763 \nL 291.8025 119.577763 \nL 291.927641 75.128219 \nL 293.471046 75.128219 \nL 293.491903 56.896505 \nL 293.51276 119.577763 \nL 293.867326 119.577763 \nL 293.929896 75.128219 \nL 293.950753 132.53287 \nL 293.97161 119.577763 \nL 299.665523 119.577763 \nL 299.68638 104.832208 \nL 299.74895 132.53287 \nL 299.769807 119.577763 \nL 299.894948 119.577763 \nL 299.978375 56.896505 \nL 299.999232 119.577763 \nL 301.813776 119.577763 \nL 301.938917 75.128219 \nL 301.959773 75.128219 \nL 301.98063 132.53287 \nL 302.001487 119.577763 \nL 303.69089 119.577763 \nL 303.795174 75.128219 \nL 303.878601 119.577763 \nL 303.899458 92.058208 \nL 304.003742 75.128219 \nL 305.505434 75.128219 \nL 305.52629 56.896505 \nL 305.609718 75.128226 \nL 305.839143 75.128219 \nL 305.86 92.058208 \nL 305.943427 75.128219 \nL 305.985141 75.128219 \nL 306.005997 56.896505 \nL 307.591116 75.128219 \nL 307.987396 75.128219 \nL 308.008252 92.058208 \nL 313.514454 75.128219 \nL 313.639595 119.577763 \nL 313.785593 119.577763 \nL 313.910734 75.128219 \nL 313.973304 75.128219 \nL 314.015018 119.577763 \nL 315.829562 119.577763 \nL 315.850418 75.128219 \nL 315.933846 119.577763 \nL 315.996416 119.577763 \nL 316.017273 104.832208 \nL 317.602392 119.577763 \nL 317.831817 119.577763 \nL 317.852674 75.128219 \nL 317.936101 119.577763 \nL 317.977814 119.577763 \nL 318.019528 75.128219 \nL 319.521219 75.128219 \nL 319.542076 92.058208 \nL 319.625504 75.128219 \nL 320.000926 75.128219 \nL 320.021783 119.577763 \nL 327.843092 119.577763 \nL 327.968233 75.128219 \nL 328.030804 75.128219 \nL 329.511638 56.896505 \nL 329.636779 119.577763 \nL 329.657636 132.53287 \nL 329.741063 119.577763 \nL 331.743318 119.577763 \nL 331.868459 75.128219 \nL 333.578719 75.128219 \nL 333.599576 56.896505 \nL 333.683003 75.128219 \nL 333.70386 92.058208 \nL 333.787287 75.128219 \nL 333.870715 75.128219 \nL 333.891571 56.896505 \nL 333.954142 75.128219 \nL 333.974999 92.058208 \nL 334.037569 75.128219 \nL 341.525169 56.896505 \nL 341.65031 119.577763 \nL 341.963162 119.577763 \nL 342.04659 75.128219 \nL 343.81942 75.128219 \nL 343.944561 119.577763 \nL 344.027988 119.577763 \nL 344.048845 75.128219 \nL 345.550536 75.128219 \nL 345.571393 132.53287 \nL 345.675677 119.577763 \nL 345.779961 119.577763 \nL 345.800818 104.832208 \nL 345.884245 119.577763 \nL 347.573648 119.577763 \nL 347.594505 132.53287 \nL 347.677932 119.577763 \nL 347.8865 119.577763 \nL 348.011641 75.128226 \nL 348.053355 75.128219 \nL 349.53419 104.832208 \nL 349.659331 119.577763 \nL 349.909612 119.577763 \nL 350.034753 75.128219 \nL 355.561812 75.128219 \nL 355.603525 119.577763 \nL 355.666096 75.128219 \nL 355.749523 75.128219 \nL 355.895521 119.577763 \nL 355.999805 119.577763 \nL 356.062376 75.128219 \nL 357.584924 75.128219 \nL 357.710065 119.577763 \nL 357.981203 119.577763 \nL 358.064631 75.128219 \nL 358.064631 75.128219 \n\" style=\"fill:none;stroke:#ff7f0e;stroke-linecap:square;stroke-width:1.5;\"/>\n   </g>\n   <g id=\"patch_3\">\n    <path d=\"M 38.482813 203.04 \nL 38.482813 7.2 \n\" style=\"fill:none;stroke:#000000;stroke-linecap:square;stroke-linejoin:miter;stroke-width:0.8;\"/>\n   </g>\n   <g id=\"patch_4\">\n    <path d=\"M 373.282813 203.04 \nL 373.282813 7.2 \n\" style=\"fill:none;stroke:#000000;stroke-linecap:square;stroke-linejoin:miter;stroke-width:0.8;\"/>\n   </g>\n   <g id=\"patch_5\">\n    <path d=\"M 38.482813 203.04 \nL 373.282813 203.04 \n\" style=\"fill:none;stroke:#000000;stroke-linecap:square;stroke-linejoin:miter;stroke-width:0.8;\"/>\n   </g>\n   <g id=\"patch_6\">\n    <path d=\"M 38.482813 7.2 \nL 373.282813 7.2 \n\" style=\"fill:none;stroke:#000000;stroke-linecap:square;stroke-linejoin:miter;stroke-width:0.8;\"/>\n   </g>\n   <g id=\"legend_1\">\n    <g id=\"patch_7\">\n     <path d=\"M 149.351562 198.04 \nL 262.414062 198.04 \nQ 264.414062 198.04 264.414062 196.04 \nL 264.414062 167.68375 \nQ 264.414062 165.68375 262.414062 165.68375 \nL 149.351562 165.68375 \nQ 147.351562 165.68375 147.351562 167.68375 \nL 147.351562 196.04 \nQ 147.351562 198.04 149.351562 198.04 \nz\n\" style=\"fill:#ffffff;opacity:0.8;stroke:#cccccc;stroke-linejoin:miter;\"/>\n    </g>\n    <g id=\"line2d_15\">\n     <path d=\"M 151.351562 173.782187 \nL 171.351562 173.782187 \n\" style=\"fill:none;stroke:#1f77b4;stroke-linecap:square;stroke-width:1.5;\"/>\n    </g>\n    <g id=\"line2d_16\"/>\n    <g id=\"text_14\">\n     <!-- Actual Target -->\n     <defs>\n      <path d=\"M 34.1875 63.1875 \nL 20.796875 26.90625 \nL 47.609375 26.90625 \nz\nM 28.609375 72.90625 \nL 39.796875 72.90625 \nL 67.578125 0 \nL 57.328125 0 \nL 50.6875 18.703125 \nL 17.828125 18.703125 \nL 11.1875 0 \nL 0.78125 0 \nz\n\" id=\"DejaVuSans-65\"/>\n      <path d=\"M 48.78125 52.59375 \nL 48.78125 44.1875 \nQ 44.96875 46.296875 41.140625 47.34375 \nQ 37.3125 48.390625 33.40625 48.390625 \nQ 24.65625 48.390625 19.8125 42.84375 \nQ 14.984375 37.3125 14.984375 27.296875 \nQ 14.984375 17.28125 19.8125 11.734375 \nQ 24.65625 6.203125 33.40625 6.203125 \nQ 37.3125 6.203125 41.140625 7.25 \nQ 44.96875 8.296875 48.78125 10.40625 \nL 48.78125 2.09375 \nQ 45.015625 0.34375 40.984375 -0.53125 \nQ 36.96875 -1.421875 32.421875 -1.421875 \nQ 20.0625 -1.421875 12.78125 6.34375 \nQ 5.515625 14.109375 5.515625 27.296875 \nQ 5.515625 40.671875 12.859375 48.328125 \nQ 20.21875 56 33.015625 56 \nQ 37.15625 56 41.109375 55.140625 \nQ 45.0625 54.296875 48.78125 52.59375 \nz\n\" id=\"DejaVuSans-99\"/>\n      <path d=\"M 8.5 21.578125 \nL 8.5 54.6875 \nL 17.484375 54.6875 \nL 17.484375 21.921875 \nQ 17.484375 14.15625 20.5 10.265625 \nQ 23.53125 6.390625 29.59375 6.390625 \nQ 36.859375 6.390625 41.078125 11.03125 \nQ 45.3125 15.671875 45.3125 23.6875 \nL 45.3125 54.6875 \nL 54.296875 54.6875 \nL 54.296875 0 \nL 45.3125 0 \nL 45.3125 8.40625 \nQ 42.046875 3.421875 37.71875 1 \nQ 33.40625 -1.421875 27.6875 -1.421875 \nQ 18.265625 -1.421875 13.375 4.4375 \nQ 8.5 10.296875 8.5 21.578125 \nz\nM 31.109375 56 \nz\n\" id=\"DejaVuSans-117\"/>\n      <path d=\"M 9.421875 75.984375 \nL 18.40625 75.984375 \nL 18.40625 0 \nL 9.421875 0 \nz\n\" id=\"DejaVuSans-108\"/>\n      <path id=\"DejaVuSans-32\"/>\n      <path d=\"M 41.109375 46.296875 \nQ 39.59375 47.171875 37.8125 47.578125 \nQ 36.03125 48 33.890625 48 \nQ 26.265625 48 22.1875 43.046875 \nQ 18.109375 38.09375 18.109375 28.8125 \nL 18.109375 0 \nL 9.078125 0 \nL 9.078125 54.6875 \nL 18.109375 54.6875 \nL 18.109375 46.1875 \nQ 20.953125 51.171875 25.484375 53.578125 \nQ 30.03125 56 36.53125 56 \nQ 37.453125 56 38.578125 55.875 \nQ 39.703125 55.765625 41.0625 55.515625 \nz\n\" id=\"DejaVuSans-114\"/>\n      <path d=\"M 45.40625 27.984375 \nQ 45.40625 37.75 41.375 43.109375 \nQ 37.359375 48.484375 30.078125 48.484375 \nQ 22.859375 48.484375 18.828125 43.109375 \nQ 14.796875 37.75 14.796875 27.984375 \nQ 14.796875 18.265625 18.828125 12.890625 \nQ 22.859375 7.515625 30.078125 7.515625 \nQ 37.359375 7.515625 41.375 12.890625 \nQ 45.40625 18.265625 45.40625 27.984375 \nz\nM 54.390625 6.78125 \nQ 54.390625 -7.171875 48.1875 -13.984375 \nQ 42 -20.796875 29.203125 -20.796875 \nQ 24.46875 -20.796875 20.265625 -20.09375 \nQ 16.0625 -19.390625 12.109375 -17.921875 \nL 12.109375 -9.1875 \nQ 16.0625 -11.328125 19.921875 -12.34375 \nQ 23.78125 -13.375 27.78125 -13.375 \nQ 36.625 -13.375 41.015625 -8.765625 \nQ 45.40625 -4.15625 45.40625 5.171875 \nL 45.40625 9.625 \nQ 42.625 4.78125 38.28125 2.390625 \nQ 33.9375 0 27.875 0 \nQ 17.828125 0 11.671875 7.65625 \nQ 5.515625 15.328125 5.515625 27.984375 \nQ 5.515625 40.671875 11.671875 48.328125 \nQ 17.828125 56 27.875 56 \nQ 33.9375 56 38.28125 53.609375 \nQ 42.625 51.21875 45.40625 46.390625 \nL 45.40625 54.6875 \nL 54.390625 54.6875 \nz\n\" id=\"DejaVuSans-103\"/>\n     </defs>\n     <g transform=\"translate(179.351562 177.282187)scale(0.1 -0.1)\">\n      <use xlink:href=\"#DejaVuSans-65\"/>\n      <use x=\"66.658203\" xlink:href=\"#DejaVuSans-99\"/>\n      <use x=\"121.638672\" xlink:href=\"#DejaVuSans-116\"/>\n      <use x=\"160.847656\" xlink:href=\"#DejaVuSans-117\"/>\n      <use x=\"224.226562\" xlink:href=\"#DejaVuSans-97\"/>\n      <use x=\"285.505859\" xlink:href=\"#DejaVuSans-108\"/>\n      <use x=\"313.289062\" xlink:href=\"#DejaVuSans-32\"/>\n      <use x=\"345.076172\" xlink:href=\"#DejaVuSans-84\"/>\n      <use x=\"389.660156\" xlink:href=\"#DejaVuSans-97\"/>\n      <use x=\"450.939453\" xlink:href=\"#DejaVuSans-114\"/>\n      <use x=\"490.302734\" xlink:href=\"#DejaVuSans-103\"/>\n      <use x=\"553.779297\" xlink:href=\"#DejaVuSans-101\"/>\n      <use x=\"615.302734\" xlink:href=\"#DejaVuSans-116\"/>\n     </g>\n    </g>\n    <g id=\"line2d_17\">\n     <path d=\"M 151.351562 188.460312 \nL 171.351562 188.460312 \n\" style=\"fill:none;stroke:#ff7f0e;stroke-linecap:square;stroke-width:1.5;\"/>\n    </g>\n    <g id=\"line2d_18\"/>\n    <g id=\"text_15\">\n     <!-- Predicted Target -->\n     <defs>\n      <path d=\"M 19.671875 64.796875 \nL 19.671875 37.40625 \nL 32.078125 37.40625 \nQ 38.96875 37.40625 42.71875 40.96875 \nQ 46.484375 44.53125 46.484375 51.125 \nQ 46.484375 57.671875 42.71875 61.234375 \nQ 38.96875 64.796875 32.078125 64.796875 \nz\nM 9.8125 72.90625 \nL 32.078125 72.90625 \nQ 44.34375 72.90625 50.609375 67.359375 \nQ 56.890625 61.8125 56.890625 51.125 \nQ 56.890625 40.328125 50.609375 34.8125 \nQ 44.34375 29.296875 32.078125 29.296875 \nL 19.671875 29.296875 \nL 19.671875 0 \nL 9.8125 0 \nz\n\" id=\"DejaVuSans-80\"/>\n      <path d=\"M 45.40625 46.390625 \nL 45.40625 75.984375 \nL 54.390625 75.984375 \nL 54.390625 0 \nL 45.40625 0 \nL 45.40625 8.203125 \nQ 42.578125 3.328125 38.25 0.953125 \nQ 33.9375 -1.421875 27.875 -1.421875 \nQ 17.96875 -1.421875 11.734375 6.484375 \nQ 5.515625 14.40625 5.515625 27.296875 \nQ 5.515625 40.1875 11.734375 48.09375 \nQ 17.96875 56 27.875 56 \nQ 33.9375 56 38.25 53.625 \nQ 42.578125 51.265625 45.40625 46.390625 \nz\nM 14.796875 27.296875 \nQ 14.796875 17.390625 18.875 11.75 \nQ 22.953125 6.109375 30.078125 6.109375 \nQ 37.203125 6.109375 41.296875 11.75 \nQ 45.40625 17.390625 45.40625 27.296875 \nQ 45.40625 37.203125 41.296875 42.84375 \nQ 37.203125 48.484375 30.078125 48.484375 \nQ 22.953125 48.484375 18.875 42.84375 \nQ 14.796875 37.203125 14.796875 27.296875 \nz\n\" id=\"DejaVuSans-100\"/>\n     </defs>\n     <g transform=\"translate(179.351562 191.960312)scale(0.1 -0.1)\">\n      <use xlink:href=\"#DejaVuSans-80\"/>\n      <use x=\"58.552734\" xlink:href=\"#DejaVuSans-114\"/>\n      <use x=\"97.416016\" xlink:href=\"#DejaVuSans-101\"/>\n      <use x=\"158.939453\" xlink:href=\"#DejaVuSans-100\"/>\n      <use x=\"222.416016\" xlink:href=\"#DejaVuSans-105\"/>\n      <use x=\"250.199219\" xlink:href=\"#DejaVuSans-99\"/>\n      <use x=\"305.179688\" xlink:href=\"#DejaVuSans-116\"/>\n      <use x=\"344.388672\" xlink:href=\"#DejaVuSans-101\"/>\n      <use x=\"405.912109\" xlink:href=\"#DejaVuSans-100\"/>\n      <use x=\"469.388672\" xlink:href=\"#DejaVuSans-32\"/>\n      <use x=\"501.175781\" xlink:href=\"#DejaVuSans-84\"/>\n      <use x=\"545.759766\" xlink:href=\"#DejaVuSans-97\"/>\n      <use x=\"607.039062\" xlink:href=\"#DejaVuSans-114\"/>\n      <use x=\"646.402344\" xlink:href=\"#DejaVuSans-103\"/>\n      <use x=\"709.878906\" xlink:href=\"#DejaVuSans-101\"/>\n      <use x=\"771.402344\" xlink:href=\"#DejaVuSans-116\"/>\n     </g>\n    </g>\n   </g>\n  </g>\n </g>\n <defs>\n  <clipPath id=\"pdf531874bc\">\n   <rect height=\"195.84\" width=\"334.8\" x=\"38.482813\" y=\"7.2\"/>\n  </clipPath>\n </defs>\n</svg>\n",
      "image/png": "[encoded data removed]"
     },
     "metadata": {
      "needs_background": "light"
     }
    }
   ],
   "source": [
    "lstm1(new_df, epochs_num= 1, num_feature_cols=2)"
   ]
  },
  {
   "cell_type": "code",
   "execution_count": null,
   "metadata": {},
   "outputs": [],
   "source": []
  }
 ],
 "metadata": {
  "kernelspec": {
   "display_name": "Python 3.8.3 64-bit ('base': conda)",
   "language": "python",
   "name": "python_defaultSpec_1610603142890"
  },
  "language_info": {
   "codemirror_mode": {
    "name": "ipython",
    "version": 3
   },
   "file_extension": ".py",
   "mimetype": "text/x-python",
   "name": "python",
   "nbconvert_exporter": "python",
   "pygments_lexer": "ipython3",
   "version": "3.8.3-final"
  }
 },
 "nbformat": 4,
 "nbformat_minor": 4
}