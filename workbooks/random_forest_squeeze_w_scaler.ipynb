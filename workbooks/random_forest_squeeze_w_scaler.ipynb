{
 "metadata": {
  "language_info": {
   "codemirror_mode": {
    "name": "ipython",
    "version": 3
   },
   "file_extension": ".py",
   "mimetype": "text/x-python",
   "name": "python",
   "nbconvert_exporter": "python",
   "pygments_lexer": "ipython3",
   "version": "3.8.3-final"
  },
  "orig_nbformat": 2,
  "kernelspec": {
   "name": "python3",
   "display_name": "Python 3.8.3 64-bit ('mlenv': conda)",
   "metadata": {
    "interpreter": {
     "hash": "0e3b5fc306262c3ab36ec77fa4a74b066a99efd5a880dbc43ddfd1990bfd3bc2"
    }
   }
  }
 },
 "nbformat": 4,
 "nbformat_minor": 2,
 "cells": [
  {
   "source": [
    "\"\"\"\n",
    "This file was created with the purpose of developing\n",
    "a random forest classifier to identify market squeeze\n",
    "\n",
    "This squeeze classification depends of the comparison of 2 indicators:\n",
    "2 std of a 20 period bollinger bands and 2 atr of a 20 period keltner channel\n",
    "\n",
    "our definition of squeeze: \n",
    "when the upper bollinger band (bbup) is less or equal to upper keltner band (kcup)\n",
    "AND lower bollinger band (bblo) is above or equal to lower keltner channel (kclo)\n",
    "\"\"\"\n"
   ],
   "cell_type": "markdown",
   "metadata": {}
  },
  {
   "cell_type": "code",
   "execution_count": null,
   "metadata": {},
   "outputs": [],
   "source": []
  },
  {
   "cell_type": "code",
   "execution_count": 1,
   "metadata": {},
   "outputs": [],
   "source": [
    "# Import libraries and dependencies\n",
    "import pandas as pd\n",
    "import numpy as np\n",
    "from pathlib import Path\n",
    "%matplotlib inline\n",
    "\n",
    "import warnings\n",
    "warnings.filterwarnings('ignore')"
   ]
  },
  {
   "cell_type": "code",
   "execution_count": 2,
   "metadata": {},
   "outputs": [
    {
     "output_type": "execute_result",
     "data": {
      "text/plain": [
       "WindowsPath('../Resources/ts_squeeze_jpm.csv')"
      ]
     },
     "metadata": {},
     "execution_count": 2
    }
   ],
   "source": [
    "csv_path = Path('../Resources/ts_squeeze_jpm.csv')\n",
    "csv_path"
   ]
  },
  {
   "cell_type": "code",
   "execution_count": 3,
   "metadata": {},
   "outputs": [
    {
     "output_type": "execute_result",
     "data": {
      "text/plain": [
       "                Date_Time    Open    High     Low   Close      Up    Down  \\\n",
       "19574 2021-01-11 14:00:00  137.67  137.92  137.65  137.86  211198  218904   \n",
       "19575 2021-01-11 14:15:00  137.87  138.20  137.79  137.87  269373  269716   \n",
       "19576 2021-01-11 14:30:00  137.87  137.99  137.56  137.89  194671  253946   \n",
       "19577 2021-01-11 14:45:00  137.89  138.03  137.57  137.74  220389  320640   \n",
       "19578 2021-01-11 15:00:00  137.75  138.16  137.75  138.11  718139  697851   \n",
       "\n",
       "         kcup    kclo  MidLine    bbup    bblo  MidLine.1  FastEMA  SlowEMA  \\\n",
       "19574  137.68  136.12   136.90  138.25  135.54     136.90   137.50   136.97   \n",
       "19575  137.71  136.20   136.95  138.37  135.54     136.95   137.58   137.05   \n",
       "19576  137.76  136.30   137.03  138.48  135.59     137.03   137.64   137.13   \n",
       "19577  137.85  136.37   137.11  138.53  135.70     137.11   137.66   137.18   \n",
       "19578  137.96  136.45   137.21  138.62  135.79     137.21   137.75   137.27   \n",
       "\n",
       "       squeeze  \n",
       "19574        0  \n",
       "19575        0  \n",
       "19576        0  \n",
       "19577        0  \n",
       "19578        0  "
      ],
      "text/html": "<div>\n<style scoped>\n    .dataframe tbody tr th:only-of-type {\n        vertical-align: middle;\n    }\n\n    .dataframe tbody tr th {\n        vertical-align: top;\n    }\n\n    .dataframe thead th {\n        text-align: right;\n    }\n</style>\n<table border=\"1\" class=\"dataframe\">\n  <thead>\n    <tr style=\"text-align: right;\">\n      <th></th>\n      <th>Date_Time</th>\n      <th>Open</th>\n      <th>High</th>\n      <th>Low</th>\n      <th>Close</th>\n      <th>Up</th>\n      <th>Down</th>\n      <th>kcup</th>\n      <th>kclo</th>\n      <th>MidLine</th>\n      <th>bbup</th>\n      <th>bblo</th>\n      <th>MidLine.1</th>\n      <th>FastEMA</th>\n      <th>SlowEMA</th>\n      <th>squeeze</th>\n    </tr>\n  </thead>\n  <tbody>\n    <tr>\n      <th>19574</th>\n      <td>2021-01-11 14:00:00</td>\n      <td>137.67</td>\n      <td>137.92</td>\n      <td>137.65</td>\n      <td>137.86</td>\n      <td>211198</td>\n      <td>218904</td>\n      <td>137.68</td>\n      <td>136.12</td>\n      <td>136.90</td>\n      <td>138.25</td>\n      <td>135.54</td>\n      <td>136.90</td>\n      <td>137.50</td>\n      <td>136.97</td>\n      <td>0</td>\n    </tr>\n    <tr>\n      <th>19575</th>\n      <td>2021-01-11 14:15:00</td>\n      <td>137.87</td>\n      <td>138.20</td>\n      <td>137.79</td>\n      <td>137.87</td>\n      <td>269373</td>\n      <td>269716</td>\n      <td>137.71</td>\n      <td>136.20</td>\n      <td>136.95</td>\n      <td>138.37</td>\n      <td>135.54</td>\n      <td>136.95</td>\n      <td>137.58</td>\n      <td>137.05</td>\n      <td>0</td>\n    </tr>\n    <tr>\n      <th>19576</th>\n      <td>2021-01-11 14:30:00</td>\n      <td>137.87</td>\n      <td>137.99</td>\n      <td>137.56</td>\n      <td>137.89</td>\n      <td>194671</td>\n      <td>253946</td>\n      <td>137.76</td>\n      <td>136.30</td>\n      <td>137.03</td>\n      <td>138.48</td>\n      <td>135.59</td>\n      <td>137.03</td>\n      <td>137.64</td>\n      <td>137.13</td>\n      <td>0</td>\n    </tr>\n    <tr>\n      <th>19577</th>\n      <td>2021-01-11 14:45:00</td>\n      <td>137.89</td>\n      <td>138.03</td>\n      <td>137.57</td>\n      <td>137.74</td>\n      <td>220389</td>\n      <td>320640</td>\n      <td>137.85</td>\n      <td>136.37</td>\n      <td>137.11</td>\n      <td>138.53</td>\n      <td>135.70</td>\n      <td>137.11</td>\n      <td>137.66</td>\n      <td>137.18</td>\n      <td>0</td>\n    </tr>\n    <tr>\n      <th>19578</th>\n      <td>2021-01-11 15:00:00</td>\n      <td>137.75</td>\n      <td>138.16</td>\n      <td>137.75</td>\n      <td>138.11</td>\n      <td>718139</td>\n      <td>697851</td>\n      <td>137.96</td>\n      <td>136.45</td>\n      <td>137.21</td>\n      <td>138.62</td>\n      <td>135.79</td>\n      <td>137.21</td>\n      <td>137.75</td>\n      <td>137.27</td>\n      <td>0</td>\n    </tr>\n  </tbody>\n</table>\n</div>"
     },
     "metadata": {},
     "execution_count": 3
    }
   ],
   "source": [
    "ts_file_df = pd.read_csv(csv_path, parse_dates=[['Date', 'Time']])\n",
    "ts_file_df.tail()"
   ]
  },
  {
   "cell_type": "code",
   "execution_count": 4,
   "metadata": {},
   "outputs": [
    {
     "output_type": "execute_result",
     "data": {
      "text/plain": [
       "                       Open    High     Low   Close       Up     Down  kcup  \\\n",
       "Date_Time                                                                     \n",
       "2018-01-12 08:45:00  111.65  111.98  110.84  111.22  1051611  1206429   0.0   \n",
       "2018-01-12 09:00:00  111.21  112.04  111.17  111.93   645133   604771   0.0   \n",
       "2018-01-12 09:15:00  111.93  112.20  111.87  112.13   541130   492175   0.0   \n",
       "2018-01-12 09:30:00  112.13  112.18  111.56  111.91   332412   418068   0.0   \n",
       "2018-01-12 09:45:00  111.91  112.24  111.85  111.97   281205   290538   0.0   \n",
       "\n",
       "                     kclo  MidLine  bbup  bblo  FastEMA  SlowEMA  squeeze  \n",
       "Date_Time                                                                  \n",
       "2018-01-12 08:45:00   0.0      0.0   0.0   0.0     0.00     0.00        0  \n",
       "2018-01-12 09:00:00   0.0      0.0   0.0   0.0   111.93   111.93        0  \n",
       "2018-01-12 09:15:00   0.0      0.0   0.0   0.0   111.97   111.95        0  \n",
       "2018-01-12 09:30:00   0.0      0.0   0.0   0.0   111.96   111.94        0  \n",
       "2018-01-12 09:45:00   0.0      0.0   0.0   0.0   111.96   111.95        0  "
      ],
      "text/html": "<div>\n<style scoped>\n    .dataframe tbody tr th:only-of-type {\n        vertical-align: middle;\n    }\n\n    .dataframe tbody tr th {\n        vertical-align: top;\n    }\n\n    .dataframe thead th {\n        text-align: right;\n    }\n</style>\n<table border=\"1\" class=\"dataframe\">\n  <thead>\n    <tr style=\"text-align: right;\">\n      <th></th>\n      <th>Open</th>\n      <th>High</th>\n      <th>Low</th>\n      <th>Close</th>\n      <th>Up</th>\n      <th>Down</th>\n      <th>kcup</th>\n      <th>kclo</th>\n      <th>MidLine</th>\n      <th>bbup</th>\n      <th>bblo</th>\n      <th>FastEMA</th>\n      <th>SlowEMA</th>\n      <th>squeeze</th>\n    </tr>\n    <tr>\n      <th>Date_Time</th>\n      <th></th>\n      <th></th>\n      <th></th>\n      <th></th>\n      <th></th>\n      <th></th>\n      <th></th>\n      <th></th>\n      <th></th>\n      <th></th>\n      <th></th>\n      <th></th>\n      <th></th>\n      <th></th>\n    </tr>\n  </thead>\n  <tbody>\n    <tr>\n      <th>2018-01-12 08:45:00</th>\n      <td>111.65</td>\n      <td>111.98</td>\n      <td>110.84</td>\n      <td>111.22</td>\n      <td>1051611</td>\n      <td>1206429</td>\n      <td>0.0</td>\n      <td>0.0</td>\n      <td>0.0</td>\n      <td>0.0</td>\n      <td>0.0</td>\n      <td>0.00</td>\n      <td>0.00</td>\n      <td>0</td>\n    </tr>\n    <tr>\n      <th>2018-01-12 09:00:00</th>\n      <td>111.21</td>\n      <td>112.04</td>\n      <td>111.17</td>\n      <td>111.93</td>\n      <td>645133</td>\n      <td>604771</td>\n      <td>0.0</td>\n      <td>0.0</td>\n      <td>0.0</td>\n      <td>0.0</td>\n      <td>0.0</td>\n      <td>111.93</td>\n      <td>111.93</td>\n      <td>0</td>\n    </tr>\n    <tr>\n      <th>2018-01-12 09:15:00</th>\n      <td>111.93</td>\n      <td>112.20</td>\n      <td>111.87</td>\n      <td>112.13</td>\n      <td>541130</td>\n      <td>492175</td>\n      <td>0.0</td>\n      <td>0.0</td>\n      <td>0.0</td>\n      <td>0.0</td>\n      <td>0.0</td>\n      <td>111.97</td>\n      <td>111.95</td>\n      <td>0</td>\n    </tr>\n    <tr>\n      <th>2018-01-12 09:30:00</th>\n      <td>112.13</td>\n      <td>112.18</td>\n      <td>111.56</td>\n      <td>111.91</td>\n      <td>332412</td>\n      <td>418068</td>\n      <td>0.0</td>\n      <td>0.0</td>\n      <td>0.0</td>\n      <td>0.0</td>\n      <td>0.0</td>\n      <td>111.96</td>\n      <td>111.94</td>\n      <td>0</td>\n    </tr>\n    <tr>\n      <th>2018-01-12 09:45:00</th>\n      <td>111.91</td>\n      <td>112.24</td>\n      <td>111.85</td>\n      <td>111.97</td>\n      <td>281205</td>\n      <td>290538</td>\n      <td>0.0</td>\n      <td>0.0</td>\n      <td>0.0</td>\n      <td>0.0</td>\n      <td>0.0</td>\n      <td>111.96</td>\n      <td>111.95</td>\n      <td>0</td>\n    </tr>\n  </tbody>\n</table>\n</div>"
     },
     "metadata": {},
     "execution_count": 4
    }
   ],
   "source": [
    "# set index as Date_Time and drop MidLine.1 column (it is a duplicate of MidLine)\n",
    "ts_file_df.set_index(pd.to_datetime(ts_file_df['Date_Time'], infer_datetime_format=True), inplace=True)\n",
    "ts_file_df.drop(columns=['Date_Time', 'MidLine.1'], inplace=True)\n",
    "ts_file_df.head()"
   ]
  },
  {
   "cell_type": "code",
   "execution_count": 5,
   "metadata": {},
   "outputs": [
    {
     "output_type": "execute_result",
     "data": {
      "text/plain": [
       "                       Open    High     Low   Close       Up     Down  kcup  \\\n",
       "Date_Time                                                                     \n",
       "2018-01-12 08:45:00  111.65  111.98  110.84  111.22  1051611  1206429   0.0   \n",
       "2018-01-12 09:00:00  111.21  112.04  111.17  111.93   645133   604771   0.0   \n",
       "2018-01-12 09:15:00  111.93  112.20  111.87  112.13   541130   492175   0.0   \n",
       "2018-01-12 09:30:00  112.13  112.18  111.56  111.91   332412   418068   0.0   \n",
       "2018-01-12 09:45:00  111.91  112.24  111.85  111.97   281205   290538   0.0   \n",
       "\n",
       "                     kclo  MidLine  bbup  bblo  FastEMA  SlowEMA  \n",
       "Date_Time                                                         \n",
       "2018-01-12 08:45:00   0.0      0.0   0.0   0.0     0.00     0.00  \n",
       "2018-01-12 09:00:00   0.0      0.0   0.0   0.0   111.93   111.93  \n",
       "2018-01-12 09:15:00   0.0      0.0   0.0   0.0   111.97   111.95  \n",
       "2018-01-12 09:30:00   0.0      0.0   0.0   0.0   111.96   111.94  \n",
       "2018-01-12 09:45:00   0.0      0.0   0.0   0.0   111.96   111.95  "
      ],
      "text/html": "<div>\n<style scoped>\n    .dataframe tbody tr th:only-of-type {\n        vertical-align: middle;\n    }\n\n    .dataframe tbody tr th {\n        vertical-align: top;\n    }\n\n    .dataframe thead th {\n        text-align: right;\n    }\n</style>\n<table border=\"1\" class=\"dataframe\">\n  <thead>\n    <tr style=\"text-align: right;\">\n      <th></th>\n      <th>Open</th>\n      <th>High</th>\n      <th>Low</th>\n      <th>Close</th>\n      <th>Up</th>\n      <th>Down</th>\n      <th>kcup</th>\n      <th>kclo</th>\n      <th>MidLine</th>\n      <th>bbup</th>\n      <th>bblo</th>\n      <th>FastEMA</th>\n      <th>SlowEMA</th>\n    </tr>\n    <tr>\n      <th>Date_Time</th>\n      <th></th>\n      <th></th>\n      <th></th>\n      <th></th>\n      <th></th>\n      <th></th>\n      <th></th>\n      <th></th>\n      <th></th>\n      <th></th>\n      <th></th>\n      <th></th>\n      <th></th>\n    </tr>\n  </thead>\n  <tbody>\n    <tr>\n      <th>2018-01-12 08:45:00</th>\n      <td>111.65</td>\n      <td>111.98</td>\n      <td>110.84</td>\n      <td>111.22</td>\n      <td>1051611</td>\n      <td>1206429</td>\n      <td>0.0</td>\n      <td>0.0</td>\n      <td>0.0</td>\n      <td>0.0</td>\n      <td>0.0</td>\n      <td>0.00</td>\n      <td>0.00</td>\n    </tr>\n    <tr>\n      <th>2018-01-12 09:00:00</th>\n      <td>111.21</td>\n      <td>112.04</td>\n      <td>111.17</td>\n      <td>111.93</td>\n      <td>645133</td>\n      <td>604771</td>\n      <td>0.0</td>\n      <td>0.0</td>\n      <td>0.0</td>\n      <td>0.0</td>\n      <td>0.0</td>\n      <td>111.93</td>\n      <td>111.93</td>\n    </tr>\n    <tr>\n      <th>2018-01-12 09:15:00</th>\n      <td>111.93</td>\n      <td>112.20</td>\n      <td>111.87</td>\n      <td>112.13</td>\n      <td>541130</td>\n      <td>492175</td>\n      <td>0.0</td>\n      <td>0.0</td>\n      <td>0.0</td>\n      <td>0.0</td>\n      <td>0.0</td>\n      <td>111.97</td>\n      <td>111.95</td>\n    </tr>\n    <tr>\n      <th>2018-01-12 09:30:00</th>\n      <td>112.13</td>\n      <td>112.18</td>\n      <td>111.56</td>\n      <td>111.91</td>\n      <td>332412</td>\n      <td>418068</td>\n      <td>0.0</td>\n      <td>0.0</td>\n      <td>0.0</td>\n      <td>0.0</td>\n      <td>0.0</td>\n      <td>111.96</td>\n      <td>111.94</td>\n    </tr>\n    <tr>\n      <th>2018-01-12 09:45:00</th>\n      <td>111.91</td>\n      <td>112.24</td>\n      <td>111.85</td>\n      <td>111.97</td>\n      <td>281205</td>\n      <td>290538</td>\n      <td>0.0</td>\n      <td>0.0</td>\n      <td>0.0</td>\n      <td>0.0</td>\n      <td>0.0</td>\n      <td>111.96</td>\n      <td>111.95</td>\n    </tr>\n  </tbody>\n</table>\n</div>"
     },
     "metadata": {},
     "execution_count": 5
    }
   ],
   "source": [
    "# Set a variable list of features to feed to our model\n",
    "\n",
    "x_var_list = ['Open', 'High', 'Low', 'Close', 'Up', 'Down', 'kcup', 'kclo', 'MidLine', 'bbup', 'bblo', 'FastEMA', 'SlowEMA']\n",
    "ts_file_df[x_var_list].head()"
   ]
  },
  {
   "cell_type": "code",
   "execution_count": 6,
   "metadata": {},
   "outputs": [
    {
     "output_type": "execute_result",
     "data": {
      "text/plain": [
       "                       Open    High     Low   Close         Up       Down  \\\n",
       "Date_Time                                                                   \n",
       "2018-01-12 08:45:00     NaN     NaN     NaN     NaN        NaN        NaN   \n",
       "2018-01-12 09:00:00  111.65  111.98  110.84  111.22  1051611.0  1206429.0   \n",
       "2018-01-12 09:15:00  111.21  112.04  111.17  111.93   645133.0   604771.0   \n",
       "2018-01-12 09:30:00  111.93  112.20  111.87  112.13   541130.0   492175.0   \n",
       "2018-01-12 09:45:00  112.13  112.18  111.56  111.91   332412.0   418068.0   \n",
       "\n",
       "                     kcup  kclo  MidLine  bbup  bblo  FastEMA  SlowEMA  \n",
       "Date_Time                                                               \n",
       "2018-01-12 08:45:00   NaN   NaN      NaN   NaN   NaN      NaN      NaN  \n",
       "2018-01-12 09:00:00   0.0   0.0      0.0   0.0   0.0     0.00     0.00  \n",
       "2018-01-12 09:15:00   0.0   0.0      0.0   0.0   0.0   111.93   111.93  \n",
       "2018-01-12 09:30:00   0.0   0.0      0.0   0.0   0.0   111.97   111.95  \n",
       "2018-01-12 09:45:00   0.0   0.0      0.0   0.0   0.0   111.96   111.94  "
      ],
      "text/html": "<div>\n<style scoped>\n    .dataframe tbody tr th:only-of-type {\n        vertical-align: middle;\n    }\n\n    .dataframe tbody tr th {\n        vertical-align: top;\n    }\n\n    .dataframe thead th {\n        text-align: right;\n    }\n</style>\n<table border=\"1\" class=\"dataframe\">\n  <thead>\n    <tr style=\"text-align: right;\">\n      <th></th>\n      <th>Open</th>\n      <th>High</th>\n      <th>Low</th>\n      <th>Close</th>\n      <th>Up</th>\n      <th>Down</th>\n      <th>kcup</th>\n      <th>kclo</th>\n      <th>MidLine</th>\n      <th>bbup</th>\n      <th>bblo</th>\n      <th>FastEMA</th>\n      <th>SlowEMA</th>\n    </tr>\n    <tr>\n      <th>Date_Time</th>\n      <th></th>\n      <th></th>\n      <th></th>\n      <th></th>\n      <th></th>\n      <th></th>\n      <th></th>\n      <th></th>\n      <th></th>\n      <th></th>\n      <th></th>\n      <th></th>\n      <th></th>\n    </tr>\n  </thead>\n  <tbody>\n    <tr>\n      <th>2018-01-12 08:45:00</th>\n      <td>NaN</td>\n      <td>NaN</td>\n      <td>NaN</td>\n      <td>NaN</td>\n      <td>NaN</td>\n      <td>NaN</td>\n      <td>NaN</td>\n      <td>NaN</td>\n      <td>NaN</td>\n      <td>NaN</td>\n      <td>NaN</td>\n      <td>NaN</td>\n      <td>NaN</td>\n    </tr>\n    <tr>\n      <th>2018-01-12 09:00:00</th>\n      <td>111.65</td>\n      <td>111.98</td>\n      <td>110.84</td>\n      <td>111.22</td>\n      <td>1051611.0</td>\n      <td>1206429.0</td>\n      <td>0.0</td>\n      <td>0.0</td>\n      <td>0.0</td>\n      <td>0.0</td>\n      <td>0.0</td>\n      <td>0.00</td>\n      <td>0.00</td>\n    </tr>\n    <tr>\n      <th>2018-01-12 09:15:00</th>\n      <td>111.21</td>\n      <td>112.04</td>\n      <td>111.17</td>\n      <td>111.93</td>\n      <td>645133.0</td>\n      <td>604771.0</td>\n      <td>0.0</td>\n      <td>0.0</td>\n      <td>0.0</td>\n      <td>0.0</td>\n      <td>0.0</td>\n      <td>111.93</td>\n      <td>111.93</td>\n    </tr>\n    <tr>\n      <th>2018-01-12 09:30:00</th>\n      <td>111.93</td>\n      <td>112.20</td>\n      <td>111.87</td>\n      <td>112.13</td>\n      <td>541130.0</td>\n      <td>492175.0</td>\n      <td>0.0</td>\n      <td>0.0</td>\n      <td>0.0</td>\n      <td>0.0</td>\n      <td>0.0</td>\n      <td>111.97</td>\n      <td>111.95</td>\n    </tr>\n    <tr>\n      <th>2018-01-12 09:45:00</th>\n      <td>112.13</td>\n      <td>112.18</td>\n      <td>111.56</td>\n      <td>111.91</td>\n      <td>332412.0</td>\n      <td>418068.0</td>\n      <td>0.0</td>\n      <td>0.0</td>\n      <td>0.0</td>\n      <td>0.0</td>\n      <td>0.0</td>\n      <td>111.96</td>\n      <td>111.94</td>\n    </tr>\n  </tbody>\n</table>\n</div>"
     },
     "metadata": {},
     "execution_count": 6
    }
   ],
   "source": [
    "# Shift DataFrame values by 1\n",
    "ts_file_df[x_var_list] = ts_file_df[x_var_list].shift(1)\n",
    "ts_file_df[x_var_list].head()"
   ]
  },
  {
   "cell_type": "code",
   "execution_count": 7,
   "metadata": {},
   "outputs": [
    {
     "output_type": "execute_result",
     "data": {
      "text/plain": [
       "                       Open    High     Low   Close         Up       Down  \\\n",
       "Date_Time                                                                   \n",
       "2018-01-12 09:00:00  111.65  111.98  110.84  111.22  1051611.0  1206429.0   \n",
       "2018-01-12 09:15:00  111.21  112.04  111.17  111.93   645133.0   604771.0   \n",
       "2018-01-12 09:30:00  111.93  112.20  111.87  112.13   541130.0   492175.0   \n",
       "2018-01-12 09:45:00  112.13  112.18  111.56  111.91   332412.0   418068.0   \n",
       "2018-01-12 10:00:00  111.91  112.24  111.85  111.97   281205.0   290538.0   \n",
       "\n",
       "                     kcup  kclo  MidLine  bbup  bblo  FastEMA  SlowEMA  \\\n",
       "Date_Time                                                                \n",
       "2018-01-12 09:00:00   0.0   0.0      0.0   0.0   0.0     0.00     0.00   \n",
       "2018-01-12 09:15:00   0.0   0.0      0.0   0.0   0.0   111.93   111.93   \n",
       "2018-01-12 09:30:00   0.0   0.0      0.0   0.0   0.0   111.97   111.95   \n",
       "2018-01-12 09:45:00   0.0   0.0      0.0   0.0   0.0   111.96   111.94   \n",
       "2018-01-12 10:00:00   0.0   0.0      0.0   0.0   0.0   111.96   111.95   \n",
       "\n",
       "                     squeeze  \n",
       "Date_Time                     \n",
       "2018-01-12 09:00:00        0  \n",
       "2018-01-12 09:15:00        0  \n",
       "2018-01-12 09:30:00        0  \n",
       "2018-01-12 09:45:00        0  \n",
       "2018-01-12 10:00:00        0  "
      ],
      "text/html": "<div>\n<style scoped>\n    .dataframe tbody tr th:only-of-type {\n        vertical-align: middle;\n    }\n\n    .dataframe tbody tr th {\n        vertical-align: top;\n    }\n\n    .dataframe thead th {\n        text-align: right;\n    }\n</style>\n<table border=\"1\" class=\"dataframe\">\n  <thead>\n    <tr style=\"text-align: right;\">\n      <th></th>\n      <th>Open</th>\n      <th>High</th>\n      <th>Low</th>\n      <th>Close</th>\n      <th>Up</th>\n      <th>Down</th>\n      <th>kcup</th>\n      <th>kclo</th>\n      <th>MidLine</th>\n      <th>bbup</th>\n      <th>bblo</th>\n      <th>FastEMA</th>\n      <th>SlowEMA</th>\n      <th>squeeze</th>\n    </tr>\n    <tr>\n      <th>Date_Time</th>\n      <th></th>\n      <th></th>\n      <th></th>\n      <th></th>\n      <th></th>\n      <th></th>\n      <th></th>\n      <th></th>\n      <th></th>\n      <th></th>\n      <th></th>\n      <th></th>\n      <th></th>\n      <th></th>\n    </tr>\n  </thead>\n  <tbody>\n    <tr>\n      <th>2018-01-12 09:00:00</th>\n      <td>111.65</td>\n      <td>111.98</td>\n      <td>110.84</td>\n      <td>111.22</td>\n      <td>1051611.0</td>\n      <td>1206429.0</td>\n      <td>0.0</td>\n      <td>0.0</td>\n      <td>0.0</td>\n      <td>0.0</td>\n      <td>0.0</td>\n      <td>0.00</td>\n      <td>0.00</td>\n      <td>0</td>\n    </tr>\n    <tr>\n      <th>2018-01-12 09:15:00</th>\n      <td>111.21</td>\n      <td>112.04</td>\n      <td>111.17</td>\n      <td>111.93</td>\n      <td>645133.0</td>\n      <td>604771.0</td>\n      <td>0.0</td>\n      <td>0.0</td>\n      <td>0.0</td>\n      <td>0.0</td>\n      <td>0.0</td>\n      <td>111.93</td>\n      <td>111.93</td>\n      <td>0</td>\n    </tr>\n    <tr>\n      <th>2018-01-12 09:30:00</th>\n      <td>111.93</td>\n      <td>112.20</td>\n      <td>111.87</td>\n      <td>112.13</td>\n      <td>541130.0</td>\n      <td>492175.0</td>\n      <td>0.0</td>\n      <td>0.0</td>\n      <td>0.0</td>\n      <td>0.0</td>\n      <td>0.0</td>\n      <td>111.97</td>\n      <td>111.95</td>\n      <td>0</td>\n    </tr>\n    <tr>\n      <th>2018-01-12 09:45:00</th>\n      <td>112.13</td>\n      <td>112.18</td>\n      <td>111.56</td>\n      <td>111.91</td>\n      <td>332412.0</td>\n      <td>418068.0</td>\n      <td>0.0</td>\n      <td>0.0</td>\n      <td>0.0</td>\n      <td>0.0</td>\n      <td>0.0</td>\n      <td>111.96</td>\n      <td>111.94</td>\n      <td>0</td>\n    </tr>\n    <tr>\n      <th>2018-01-12 10:00:00</th>\n      <td>111.91</td>\n      <td>112.24</td>\n      <td>111.85</td>\n      <td>111.97</td>\n      <td>281205.0</td>\n      <td>290538.0</td>\n      <td>0.0</td>\n      <td>0.0</td>\n      <td>0.0</td>\n      <td>0.0</td>\n      <td>0.0</td>\n      <td>111.96</td>\n      <td>111.95</td>\n      <td>0</td>\n    </tr>\n  </tbody>\n</table>\n</div>"
     },
     "metadata": {},
     "execution_count": 7
    }
   ],
   "source": [
    "ts_file_df.dropna(inplace=True)\n",
    "ts_file_df.head()"
   ]
  },
  {
   "cell_type": "code",
   "execution_count": 8,
   "metadata": {},
   "outputs": [
    {
     "output_type": "stream",
     "name": "stdout",
     "text": [
      "Training Start: 2018-01-12\nTraining End: 2019-01-11\nTesting Start: 2019-01-12\nTesting End: 2019-06-12\nvalidating Start: 2019-06-13\nvalidating end: 2020-01-12\n"
     ]
    }
   ],
   "source": [
    "# Construct training start and training end dates\n",
    "\n",
    "training_start = ts_file_df.index.min().strftime(format='%Y-%m-%d')\n",
    "training_end = '2019-01-11'\n",
    "\n",
    "# Construct test start and test end dates\n",
    "\n",
    "testing_start = '2019-01-12'\n",
    "testing_end = '2019-06-12'\n",
    "\n",
    "# Construct validating start and validating end dates\n",
    "\n",
    "vali_start = '2019-06-13'\n",
    "vali_end = '2020-01-12'\n",
    "\n",
    "# Confirming training, testing and validating dates\n",
    "print(f\"Training Start: {training_start}\")\n",
    "print(f\"Training End: {training_end}\")\n",
    "print(f\"Testing Start: {testing_start}\")\n",
    "print(f\"Testing End: {testing_end}\")\n",
    "print(f\"validating Start: {vali_start}\")\n",
    "print(f\"validating end: {vali_end}\")"
   ]
  },
  {
   "cell_type": "code",
   "execution_count": 9,
   "metadata": {},
   "outputs": [
    {
     "output_type": "execute_result",
     "data": {
      "text/plain": [
       "                       Open    High     Low   Close        Up      Down  \\\n",
       "Date_Time                                                                 \n",
       "2019-01-14 08:45:00  100.09  100.16   99.88   99.93  538000.0  839750.0   \n",
       "2019-01-14 09:00:00   98.85  100.07   98.66  100.00  662220.0  467174.0   \n",
       "2019-01-14 09:15:00   99.98  100.22   99.73  100.14  315701.0  326009.0   \n",
       "2019-01-14 09:30:00  100.15  100.94  100.08  100.88  338536.0  318028.0   \n",
       "2019-01-14 09:45:00  100.88  101.01  100.43  100.68  328545.0  363630.0   \n",
       "\n",
       "                       kcup   kclo  MidLine    bbup   bblo  FastEMA  SlowEMA  \n",
       "Date_Time                                                                     \n",
       "2019-01-14 08:45:00  100.32  99.54    99.93  100.22  99.64    99.99    99.95  \n",
       "2019-01-14 09:00:00  100.45  99.47    99.96  100.14  99.78    99.99    99.96  \n",
       "2019-01-14 09:15:00  100.50  99.47    99.98  100.12  99.85   100.02    99.97  \n",
       "2019-01-14 09:30:00  100.61  99.46   100.04  100.44  99.63   100.19   100.06  \n",
       "2019-01-14 09:45:00  100.68  99.46   100.07  100.56  99.58   100.29   100.11  "
      ],
      "text/html": "<div>\n<style scoped>\n    .dataframe tbody tr th:only-of-type {\n        vertical-align: middle;\n    }\n\n    .dataframe tbody tr th {\n        vertical-align: top;\n    }\n\n    .dataframe thead th {\n        text-align: right;\n    }\n</style>\n<table border=\"1\" class=\"dataframe\">\n  <thead>\n    <tr style=\"text-align: right;\">\n      <th></th>\n      <th>Open</th>\n      <th>High</th>\n      <th>Low</th>\n      <th>Close</th>\n      <th>Up</th>\n      <th>Down</th>\n      <th>kcup</th>\n      <th>kclo</th>\n      <th>MidLine</th>\n      <th>bbup</th>\n      <th>bblo</th>\n      <th>FastEMA</th>\n      <th>SlowEMA</th>\n    </tr>\n    <tr>\n      <th>Date_Time</th>\n      <th></th>\n      <th></th>\n      <th></th>\n      <th></th>\n      <th></th>\n      <th></th>\n      <th></th>\n      <th></th>\n      <th></th>\n      <th></th>\n      <th></th>\n      <th></th>\n      <th></th>\n    </tr>\n  </thead>\n  <tbody>\n    <tr>\n      <th>2019-01-14 08:45:00</th>\n      <td>100.09</td>\n      <td>100.16</td>\n      <td>99.88</td>\n      <td>99.93</td>\n      <td>538000.0</td>\n      <td>839750.0</td>\n      <td>100.32</td>\n      <td>99.54</td>\n      <td>99.93</td>\n      <td>100.22</td>\n      <td>99.64</td>\n      <td>99.99</td>\n      <td>99.95</td>\n    </tr>\n    <tr>\n      <th>2019-01-14 09:00:00</th>\n      <td>98.85</td>\n      <td>100.07</td>\n      <td>98.66</td>\n      <td>100.00</td>\n      <td>662220.0</td>\n      <td>467174.0</td>\n      <td>100.45</td>\n      <td>99.47</td>\n      <td>99.96</td>\n      <td>100.14</td>\n      <td>99.78</td>\n      <td>99.99</td>\n      <td>99.96</td>\n    </tr>\n    <tr>\n      <th>2019-01-14 09:15:00</th>\n      <td>99.98</td>\n      <td>100.22</td>\n      <td>99.73</td>\n      <td>100.14</td>\n      <td>315701.0</td>\n      <td>326009.0</td>\n      <td>100.50</td>\n      <td>99.47</td>\n      <td>99.98</td>\n      <td>100.12</td>\n      <td>99.85</td>\n      <td>100.02</td>\n      <td>99.97</td>\n    </tr>\n    <tr>\n      <th>2019-01-14 09:30:00</th>\n      <td>100.15</td>\n      <td>100.94</td>\n      <td>100.08</td>\n      <td>100.88</td>\n      <td>338536.0</td>\n      <td>318028.0</td>\n      <td>100.61</td>\n      <td>99.46</td>\n      <td>100.04</td>\n      <td>100.44</td>\n      <td>99.63</td>\n      <td>100.19</td>\n      <td>100.06</td>\n    </tr>\n    <tr>\n      <th>2019-01-14 09:45:00</th>\n      <td>100.88</td>\n      <td>101.01</td>\n      <td>100.43</td>\n      <td>100.68</td>\n      <td>328545.0</td>\n      <td>363630.0</td>\n      <td>100.68</td>\n      <td>99.46</td>\n      <td>100.07</td>\n      <td>100.56</td>\n      <td>99.58</td>\n      <td>100.29</td>\n      <td>100.11</td>\n    </tr>\n  </tbody>\n</table>\n</div>"
     },
     "metadata": {},
     "execution_count": 9
    }
   ],
   "source": [
    "# Construct the X_train and y_train datasets\n",
    "X_train = ts_file_df[x_var_list][training_start:training_end]\n",
    "y_train = ts_file_df['squeeze'][training_start:training_end]\n",
    "\n",
    "# Construct the X test and y test datasets\n",
    "\n",
    "X_test = ts_file_df[x_var_list][testing_start:testing_end]\n",
    "y_test = ts_file_df['squeeze'][testing_start:testing_end]\n",
    "\n",
    "X_test.head()"
   ]
  },
  {
   "cell_type": "code",
   "execution_count": 10,
   "metadata": {},
   "outputs": [
    {
     "output_type": "execute_result",
     "data": {
      "text/plain": [
       "Date_Time\n",
       "2019-01-14 08:45:00    1\n",
       "2019-01-14 09:00:00    1\n",
       "2019-01-14 09:15:00    1\n",
       "2019-01-14 09:30:00    1\n",
       "2019-01-14 09:45:00    1\n",
       "Name: squeeze, dtype: int64"
      ]
     },
     "metadata": {},
     "execution_count": 10
    }
   ],
   "source": [
    "y_test.head()"
   ]
  },
  {
   "cell_type": "code",
   "execution_count": 11,
   "metadata": {},
   "outputs": [
    {
     "output_type": "execute_result",
     "data": {
      "text/plain": [
       "                       Open    High     Low   Close        Up      Down  \\\n",
       "Date_Time                                                                 \n",
       "2019-06-13 08:45:00  109.01  109.30  109.00  109.27  475047.0  353967.0   \n",
       "2019-06-13 09:00:00  109.46  110.09  109.39  110.06  182719.0  288328.0   \n",
       "2019-06-13 09:15:00  110.07  110.16  109.69  109.85  179614.0  123755.0   \n",
       "2019-06-13 09:30:00  109.85  109.99  109.43  109.43  158128.0  180381.0   \n",
       "2019-06-13 09:45:00  109.43  109.56  109.32  109.46   94904.0   99241.0   \n",
       "\n",
       "                       kcup    kclo  MidLine    bbup    bblo  FastEMA  SlowEMA  \n",
       "Date_Time                                                                       \n",
       "2019-06-13 08:45:00  109.66  108.71   109.18  109.44  108.92   109.19   109.36  \n",
       "2019-06-13 09:00:00  109.74  108.69   109.22  109.67  108.76   109.37   109.42  \n",
       "2019-06-13 09:15:00  109.79  108.69   109.24  109.76  108.71   109.46   109.46  \n",
       "2019-06-13 09:30:00  109.81  108.69   109.25  109.78  108.72   109.46   109.46  \n",
       "2019-06-13 09:45:00  109.83  108.72   109.28  109.79  108.76   109.46   109.46  "
      ],
      "text/html": "<div>\n<style scoped>\n    .dataframe tbody tr th:only-of-type {\n        vertical-align: middle;\n    }\n\n    .dataframe tbody tr th {\n        vertical-align: top;\n    }\n\n    .dataframe thead th {\n        text-align: right;\n    }\n</style>\n<table border=\"1\" class=\"dataframe\">\n  <thead>\n    <tr style=\"text-align: right;\">\n      <th></th>\n      <th>Open</th>\n      <th>High</th>\n      <th>Low</th>\n      <th>Close</th>\n      <th>Up</th>\n      <th>Down</th>\n      <th>kcup</th>\n      <th>kclo</th>\n      <th>MidLine</th>\n      <th>bbup</th>\n      <th>bblo</th>\n      <th>FastEMA</th>\n      <th>SlowEMA</th>\n    </tr>\n    <tr>\n      <th>Date_Time</th>\n      <th></th>\n      <th></th>\n      <th></th>\n      <th></th>\n      <th></th>\n      <th></th>\n      <th></th>\n      <th></th>\n      <th></th>\n      <th></th>\n      <th></th>\n      <th></th>\n      <th></th>\n    </tr>\n  </thead>\n  <tbody>\n    <tr>\n      <th>2019-06-13 08:45:00</th>\n      <td>109.01</td>\n      <td>109.30</td>\n      <td>109.00</td>\n      <td>109.27</td>\n      <td>475047.0</td>\n      <td>353967.0</td>\n      <td>109.66</td>\n      <td>108.71</td>\n      <td>109.18</td>\n      <td>109.44</td>\n      <td>108.92</td>\n      <td>109.19</td>\n      <td>109.36</td>\n    </tr>\n    <tr>\n      <th>2019-06-13 09:00:00</th>\n      <td>109.46</td>\n      <td>110.09</td>\n      <td>109.39</td>\n      <td>110.06</td>\n      <td>182719.0</td>\n      <td>288328.0</td>\n      <td>109.74</td>\n      <td>108.69</td>\n      <td>109.22</td>\n      <td>109.67</td>\n      <td>108.76</td>\n      <td>109.37</td>\n      <td>109.42</td>\n    </tr>\n    <tr>\n      <th>2019-06-13 09:15:00</th>\n      <td>110.07</td>\n      <td>110.16</td>\n      <td>109.69</td>\n      <td>109.85</td>\n      <td>179614.0</td>\n      <td>123755.0</td>\n      <td>109.79</td>\n      <td>108.69</td>\n      <td>109.24</td>\n      <td>109.76</td>\n      <td>108.71</td>\n      <td>109.46</td>\n      <td>109.46</td>\n    </tr>\n    <tr>\n      <th>2019-06-13 09:30:00</th>\n      <td>109.85</td>\n      <td>109.99</td>\n      <td>109.43</td>\n      <td>109.43</td>\n      <td>158128.0</td>\n      <td>180381.0</td>\n      <td>109.81</td>\n      <td>108.69</td>\n      <td>109.25</td>\n      <td>109.78</td>\n      <td>108.72</td>\n      <td>109.46</td>\n      <td>109.46</td>\n    </tr>\n    <tr>\n      <th>2019-06-13 09:45:00</th>\n      <td>109.43</td>\n      <td>109.56</td>\n      <td>109.32</td>\n      <td>109.46</td>\n      <td>94904.0</td>\n      <td>99241.0</td>\n      <td>109.83</td>\n      <td>108.72</td>\n      <td>109.28</td>\n      <td>109.79</td>\n      <td>108.76</td>\n      <td>109.46</td>\n      <td>109.46</td>\n    </tr>\n  </tbody>\n</table>\n</div>"
     },
     "metadata": {},
     "execution_count": 11
    }
   ],
   "source": [
    "# Construct the X valid and y validation datasets\n",
    "\n",
    "X_vali = ts_file_df[x_var_list][vali_start:vali_end]\n",
    "y_vali = ts_file_df['squeeze'][vali_start:vali_end]\n",
    "\n",
    "X_vali.head()"
   ]
  },
  {
   "cell_type": "code",
   "execution_count": 12,
   "metadata": {},
   "outputs": [
    {
     "output_type": "execute_result",
     "data": {
      "text/plain": [
       "Date_Time\n",
       "2020-01-10 14:00:00    0\n",
       "2020-01-10 14:15:00    0\n",
       "2020-01-10 14:30:00    0\n",
       "2020-01-10 14:45:00    0\n",
       "2020-01-10 15:00:00    0\n",
       "Name: squeeze, dtype: int64"
      ]
     },
     "metadata": {},
     "execution_count": 12
    }
   ],
   "source": [
    "y_vali.tail()"
   ]
  },
  {
   "cell_type": "code",
   "execution_count": 13,
   "metadata": {},
   "outputs": [],
   "source": [
    "# StandardScaler \n",
    "from sklearn.preprocessing import StandardScaler\n",
    "from sklearn.model_selection import train_test_split\n",
    "from sklearn.metrics import confusion_matrix, accuracy_score, classification_report"
   ]
  },
  {
   "cell_type": "code",
   "execution_count": 14,
   "metadata": {},
   "outputs": [],
   "source": [
    "# Creating the StandardScaler instant \n",
    "scaler = StandardScaler()"
   ]
  },
  {
   "cell_type": "code",
   "execution_count": 15,
   "metadata": {},
   "outputs": [],
   "source": [
    "# Feeding StandardScaler for X_train, X_test, X_vali\n",
    "X_scaler_train = scaler.fit(X_train)"
   ]
  },
  {
   "cell_type": "code",
   "execution_count": 16,
   "metadata": {},
   "outputs": [],
   "source": [
    "# Scaling the data \n",
    "X_train_scaled = X_scaler_train.transform(X_train)"
   ]
  },
  {
   "cell_type": "code",
   "execution_count": 17,
   "metadata": {},
   "outputs": [],
   "source": [
    "X_test_scaled = X_scaler_train.transform(X_test)"
   ]
  },
  {
   "cell_type": "code",
   "execution_count": 18,
   "metadata": {},
   "outputs": [],
   "source": [
    "X_vali_scaled = X_scaler_train.transform(X_vali)"
   ]
  },
  {
   "cell_type": "code",
   "execution_count": 19,
   "metadata": {},
   "outputs": [],
   "source": [
    "# Import SKLearn library and Classes\n",
    "from sklearn.ensemble import RandomForestClassifier\n",
    "from sklearn.datasets import make_classification"
   ]
  },
  {
   "cell_type": "code",
   "execution_count": 81,
   "metadata": {},
   "outputs": [
    {
     "output_type": "execute_result",
     "data": {
      "text/plain": [
       "RandomForestClassifier(max_depth=25, n_estimators=1000, random_state=1)"
      ]
     },
     "metadata": {},
     "execution_count": 81
    }
   ],
   "source": [
    "# Fit SKLearn regression with training datasets:\n",
    "model = RandomForestClassifier(n_estimators=1000, max_depth=25, random_state=1)\n",
    "model.fit(X_train_scaled, y_train)"
   ]
  },
  {
   "cell_type": "code",
   "execution_count": 82,
   "metadata": {},
   "outputs": [],
   "source": [
    "# Make predictions of \"y\" values from the X_test dataset\n",
    "predictions = model.predict(X_test_scaled)"
   ]
  },
  {
   "cell_type": "code",
   "execution_count": 83,
   "metadata": {},
   "outputs": [
    {
     "output_type": "execute_result",
     "data": {
      "text/plain": [
       "                     squeeze  predict_emax\n",
       "Date_Time                                 \n",
       "2019-01-14 08:45:00        1             1\n",
       "2019-01-14 09:00:00        1             1\n",
       "2019-01-14 09:15:00        1             1\n",
       "2019-01-14 09:30:00        1             1\n",
       "2019-01-14 09:45:00        1             1\n",
       "...                      ...           ...\n",
       "2019-06-12 14:00:00        0             1\n",
       "2019-06-12 14:15:00        1             1\n",
       "2019-06-12 14:30:00        1             1\n",
       "2019-06-12 14:45:00        1             1\n",
       "2019-06-12 15:00:00        1             1\n",
       "\n",
       "[2704 rows x 2 columns]"
      ],
      "text/html": "<div>\n<style scoped>\n    .dataframe tbody tr th:only-of-type {\n        vertical-align: middle;\n    }\n\n    .dataframe tbody tr th {\n        vertical-align: top;\n    }\n\n    .dataframe thead th {\n        text-align: right;\n    }\n</style>\n<table border=\"1\" class=\"dataframe\">\n  <thead>\n    <tr style=\"text-align: right;\">\n      <th></th>\n      <th>squeeze</th>\n      <th>predict_emax</th>\n    </tr>\n    <tr>\n      <th>Date_Time</th>\n      <th></th>\n      <th></th>\n    </tr>\n  </thead>\n  <tbody>\n    <tr>\n      <th>2019-01-14 08:45:00</th>\n      <td>1</td>\n      <td>1</td>\n    </tr>\n    <tr>\n      <th>2019-01-14 09:00:00</th>\n      <td>1</td>\n      <td>1</td>\n    </tr>\n    <tr>\n      <th>2019-01-14 09:15:00</th>\n      <td>1</td>\n      <td>1</td>\n    </tr>\n    <tr>\n      <th>2019-01-14 09:30:00</th>\n      <td>1</td>\n      <td>1</td>\n    </tr>\n    <tr>\n      <th>2019-01-14 09:45:00</th>\n      <td>1</td>\n      <td>1</td>\n    </tr>\n    <tr>\n      <th>...</th>\n      <td>...</td>\n      <td>...</td>\n    </tr>\n    <tr>\n      <th>2019-06-12 14:00:00</th>\n      <td>0</td>\n      <td>1</td>\n    </tr>\n    <tr>\n      <th>2019-06-12 14:15:00</th>\n      <td>1</td>\n      <td>1</td>\n    </tr>\n    <tr>\n      <th>2019-06-12 14:30:00</th>\n      <td>1</td>\n      <td>1</td>\n    </tr>\n    <tr>\n      <th>2019-06-12 14:45:00</th>\n      <td>1</td>\n      <td>1</td>\n    </tr>\n    <tr>\n      <th>2019-06-12 15:00:00</th>\n      <td>1</td>\n      <td>1</td>\n    </tr>\n  </tbody>\n</table>\n<p>2704 rows × 2 columns</p>\n</div>"
     },
     "metadata": {},
     "execution_count": 83
    }
   ],
   "source": [
    "# Assemble actual y_test with predicted values\n",
    "\n",
    "compare_predict_df = y_test.to_frame()\n",
    "compare_predict_df[\"predict_emax\"] = predictions\n",
    "\n",
    "compare_predict_df"
   ]
  },
  {
   "cell_type": "code",
   "execution_count": 84,
   "metadata": {},
   "outputs": [
    {
     "output_type": "execute_result",
     "data": {
      "text/plain": [
       "['random_forest_model_scaled_squeeze.joblib']"
      ]
     },
     "metadata": {},
     "execution_count": 84
    }
   ],
   "source": [
    "# Save the pre-trained model\n",
    "from joblib import dump, load\n",
    "dump(model, 'random_forest_model_scaled_squeeze.joblib')"
   ]
  },
  {
   "cell_type": "code",
   "execution_count": 85,
   "metadata": {},
   "outputs": [
    {
     "output_type": "execute_result",
     "data": {
      "text/plain": [
       "array([[-2.01018876, -2.04341379, -2.00056841, ..., -1.197015  ,\n",
       "        -1.96863025, -1.99151259],\n",
       "       [-2.24842935, -2.06080352, -2.23350288, ..., -1.17966479,\n",
       "        -1.96863025, -1.98963356],\n",
       "       [-2.03132301, -2.03182064, -2.0292079 , ..., -1.17098968,\n",
       "        -1.96303096, -1.98775453],\n",
       "       ...,\n",
       "       [-0.22914823, -0.26000076, -0.21919249, ..., -0.0593366 ,\n",
       "        -0.24404895, -0.21019244],\n",
       "       [-0.24836118, -0.28318706, -0.24592268, ..., -0.0580973 ,\n",
       "        -0.24778181, -0.21582953],\n",
       "       [-0.27141672, -0.29671241, -0.25928777, ..., -0.05314009,\n",
       "        -0.25524753, -0.22146662]])"
      ]
     },
     "metadata": {},
     "execution_count": 85
    }
   ],
   "source": [
    "X_test_scaled"
   ]
  },
  {
   "cell_type": "code",
   "execution_count": 86,
   "metadata": {},
   "outputs": [],
   "source": [
    "# Calculating the confusion matrix\n",
    "cm = confusion_matrix(y_test, predictions)\n",
    "cm_df = pd.DataFrame(cm)"
   ]
  },
  {
   "cell_type": "code",
   "execution_count": 87,
   "metadata": {},
   "outputs": [
    {
     "output_type": "execute_result",
     "data": {
      "text/plain": [
       "      0    1\n",
       "0  1002  494\n",
       "1   316  892"
      ],
      "text/html": "<div>\n<style scoped>\n    .dataframe tbody tr th:only-of-type {\n        vertical-align: middle;\n    }\n\n    .dataframe tbody tr th {\n        vertical-align: top;\n    }\n\n    .dataframe thead th {\n        text-align: right;\n    }\n</style>\n<table border=\"1\" class=\"dataframe\">\n  <thead>\n    <tr style=\"text-align: right;\">\n      <th></th>\n      <th>0</th>\n      <th>1</th>\n    </tr>\n  </thead>\n  <tbody>\n    <tr>\n      <th>0</th>\n      <td>1002</td>\n      <td>494</td>\n    </tr>\n    <tr>\n      <th>1</th>\n      <td>316</td>\n      <td>892</td>\n    </tr>\n  </tbody>\n</table>\n</div>"
     },
     "metadata": {},
     "execution_count": 87
    }
   ],
   "source": [
    "cm_df"
   ]
  },
  {
   "cell_type": "code",
   "execution_count": 88,
   "metadata": {},
   "outputs": [
    {
     "output_type": "execute_result",
     "data": {
      "text/plain": [
       "0.7004437869822485"
      ]
     },
     "metadata": {},
     "execution_count": 88
    }
   ],
   "source": [
    "# Calculating the accuracy score\n",
    "acc_score = accuracy_score(y_test, predictions)\n",
    "acc_score"
   ]
  },
  {
   "cell_type": "code",
   "execution_count": 89,
   "metadata": {},
   "outputs": [
    {
     "output_type": "stream",
     "name": "stdout",
     "text": [
      "Confusion Matrix\n"
     ]
    },
    {
     "output_type": "display_data",
     "data": {
      "text/plain": "      0    1\n0  1002  494\n1   316  892",
      "text/html": "<div>\n<style scoped>\n    .dataframe tbody tr th:only-of-type {\n        vertical-align: middle;\n    }\n\n    .dataframe tbody tr th {\n        vertical-align: top;\n    }\n\n    .dataframe thead th {\n        text-align: right;\n    }\n</style>\n<table border=\"1\" class=\"dataframe\">\n  <thead>\n    <tr style=\"text-align: right;\">\n      <th></th>\n      <th>0</th>\n      <th>1</th>\n    </tr>\n  </thead>\n  <tbody>\n    <tr>\n      <th>0</th>\n      <td>1002</td>\n      <td>494</td>\n    </tr>\n    <tr>\n      <th>1</th>\n      <td>316</td>\n      <td>892</td>\n    </tr>\n  </tbody>\n</table>\n</div>"
     },
     "metadata": {}
    },
    {
     "output_type": "stream",
     "name": "stdout",
     "text": [
      "Accuracy Score 0.7004437869822485\n              precision    recall  f1-score   support\n\n           0       0.76      0.67      0.71      1496\n           1       0.64      0.74      0.69      1208\n\n    accuracy                           0.70      2704\n   macro avg       0.70      0.70      0.70      2704\nweighted avg       0.71      0.70      0.70      2704\n\n"
     ]
    }
   ],
   "source": [
    "# Display results\n",
    "print(\"Confusion Matrix\")\n",
    "display(cm_df)\n",
    "print(f\"Accuracy Score {acc_score}\")\n",
    "print(classification_report(y_test, predictions))"
   ]
  },
  {
   "cell_type": "code",
   "execution_count": 90,
   "metadata": {},
   "outputs": [
    {
     "output_type": "display_data",
     "data": {
      "text/plain": "<Figure size 432x288 with 2 Axes>",
      "image/svg+xml": "<?xml version=\"1.0\" encoding=\"utf-8\" standalone=\"no\"?>\r\n<!DOCTYPE svg PUBLIC \"-//W3C//DTD SVG 1.1//EN\"\r\n  \"http://www.w3.org/Graphics/SVG/1.1/DTD/svg11.dtd\">\r\n<!-- Created with matplotlib (https://matplotlib.org/) -->\r\n<svg height=\"265.361533pt\" version=\"1.1\" viewBox=\"0 0 318.942625 265.361533\" width=\"318.942625pt\" xmlns=\"http://www.w3.org/2000/svg\" xmlns:xlink=\"http://www.w3.org/1999/xlink\">\r\n <defs>\r\n  <style type=\"text/css\">\r\n*{stroke-linecap:butt;stroke-linejoin:round;}\r\n  </style>\r\n </defs>\r\n <g id=\"figure_1\">\r\n  <g id=\"patch_1\">\r\n   <path d=\"M 0 265.361533 \r\nL 318.942625 265.361533 \r\nL 318.942625 0 \r\nL 0 0 \r\nz\r\n\" style=\"fill:none;\"/>\r\n  </g>\r\n  <g id=\"axes_1\">\r\n   <g id=\"patch_2\">\r\n    <path d=\"M 34.240625 227.805283 \r\nL 251.680625 227.805283 \r\nL 251.680625 10.365283 \r\nL 34.240625 10.365283 \r\nz\r\n\" style=\"fill:#ffffff;\"/>\r\n   </g>\r\n   <g clip-path=\"url(#pcafe7b1f17)\">\r\n    <image height=\"218\" id=\"image0a6e0ce5dc\" transform=\"scale(1 -1)translate(0 -218)\" width=\"218\" x=\"34.240625\" xlink:href=\"data:image/png;base64,\r\niVBORw0KGgoAAAANSUhEUgAAANoAAADaCAYAAADAHVzbAAAABHNCSVQICAgIfAhkiAAAAptJREFUeJzt1TERwlAABcGEKhrwgAIkIAoVEYAX/FBSJhp+c38YdhW85uatz/t2LPyUz3WfPYFBl9kD4B8IDQJCg4DQICA0CAgNAkKDgNAgIDQICA0CQoOA0CAgNAgIDQJCg4DQICA0CAgNAkKDgNAgIDQICA0CQoOA0CAgNAgIDQJCg4DQICA0CAgNAkKDgNAgIDQICA0CQoOA0CAgNAgIDQJCg4DQICA0CAgNAkKDgNAgIDQICA0CQoOA0CAgNAgIDQJCg4DQICA0CAgNAkKDgNAgIDQICA0CQoOA0CAgNAgIDQJCg4DQICA0CAgNAkKDgNAgIDQICA0CQoOA0CAgNAgIDQJCg4DQICA0CAgNAkKDgNAgIDQICA0CQoOA0CAgNAgIDQJCg4DQICA0CAgNAkKDgNAgIDQICA0CQoOA0CAgNAgIDQJCg4DQICA0CAgNAkKDgNAgIDQICA0CQoOA0CCw3pbHMXsEY96v7+wJDPJoEBAaBIQGAaFBQGgQEBoEhAYBoUFAaBAQGgSEBgGhQUBoEBAaBIQGAaFBQGgQEBoEhAYBoUFAaBAQGgSEBgGhQUBoEBAaBIQGAaFBQGgQEBoEhAYBoUFAaBAQGgSEBgGhQUBoEBAaBIQGAaFBQGgQEBoEhAYBoUFAaBAQGgSEBgGhQUBoEBAaBIQGAaFBQGgQEBoEhAYBoUFAaBAQGgSEBgGhQUBoEBAaBIQGAaFBQGgQEBoEhAYBoUFAaBAQGgSEBgGhQUBoEBAaBIQGAaFBQGgQEBoEhAYBoUFAaBAQGgSEBgGhQUBoEBAaBIQGAaFBQGgQEBoEhAYBoUFAaBAQGgSEBgGhQUBoEBAaBIQGAaFBQGgQEBoEhAYBoUFAaBAQGgSEBgGhQeAEUsoI5dP2Kf4AAAAASUVORK5CYII=\" y=\"-9.805283\"/>\r\n   </g>\r\n   <g id=\"matplotlib.axis_1\">\r\n    <g id=\"xtick_1\">\r\n     <g id=\"line2d_1\">\r\n      <defs>\r\n       <path d=\"M 0 0 \r\nL 0 3.5 \r\n\" id=\"m93b518e9d0\" style=\"stroke:#000000;stroke-width:0.8;\"/>\r\n      </defs>\r\n      <g>\r\n       <use style=\"stroke:#000000;stroke-width:0.8;\" x=\"88.600625\" xlink:href=\"#m93b518e9d0\" y=\"227.805283\"/>\r\n      </g>\r\n     </g>\r\n     <g id=\"text_1\">\r\n      <!-- 0 -->\r\n      <defs>\r\n       <path d=\"M 31.78125 66.40625 \r\nQ 24.171875 66.40625 20.328125 58.90625 \r\nQ 16.5 51.421875 16.5 36.375 \r\nQ 16.5 21.390625 20.328125 13.890625 \r\nQ 24.171875 6.390625 31.78125 6.390625 \r\nQ 39.453125 6.390625 43.28125 13.890625 \r\nQ 47.125 21.390625 47.125 36.375 \r\nQ 47.125 51.421875 43.28125 58.90625 \r\nQ 39.453125 66.40625 31.78125 66.40625 \r\nz\r\nM 31.78125 74.21875 \r\nQ 44.046875 74.21875 50.515625 64.515625 \r\nQ 56.984375 54.828125 56.984375 36.375 \r\nQ 56.984375 17.96875 50.515625 8.265625 \r\nQ 44.046875 -1.421875 31.78125 -1.421875 \r\nQ 19.53125 -1.421875 13.0625 8.265625 \r\nQ 6.59375 17.96875 6.59375 36.375 \r\nQ 6.59375 54.828125 13.0625 64.515625 \r\nQ 19.53125 74.21875 31.78125 74.21875 \r\nz\r\n\" id=\"DejaVuSans-48\"/>\r\n      </defs>\r\n      <g transform=\"translate(85.419375 242.40372)scale(0.1 -0.1)\">\r\n       <use xlink:href=\"#DejaVuSans-48\"/>\r\n      </g>\r\n     </g>\r\n    </g>\r\n    <g id=\"xtick_2\">\r\n     <g id=\"line2d_2\">\r\n      <g>\r\n       <use style=\"stroke:#000000;stroke-width:0.8;\" x=\"197.320625\" xlink:href=\"#m93b518e9d0\" y=\"227.805283\"/>\r\n      </g>\r\n     </g>\r\n     <g id=\"text_2\">\r\n      <!-- 1 -->\r\n      <defs>\r\n       <path d=\"M 12.40625 8.296875 \r\nL 28.515625 8.296875 \r\nL 28.515625 63.921875 \r\nL 10.984375 60.40625 \r\nL 10.984375 69.390625 \r\nL 28.421875 72.90625 \r\nL 38.28125 72.90625 \r\nL 38.28125 8.296875 \r\nL 54.390625 8.296875 \r\nL 54.390625 0 \r\nL 12.40625 0 \r\nz\r\n\" id=\"DejaVuSans-49\"/>\r\n      </defs>\r\n      <g transform=\"translate(194.139375 242.40372)scale(0.1 -0.1)\">\r\n       <use xlink:href=\"#DejaVuSans-49\"/>\r\n      </g>\r\n     </g>\r\n    </g>\r\n    <g id=\"text_3\">\r\n     <!-- Predicted label -->\r\n     <defs>\r\n      <path d=\"M 19.671875 64.796875 \r\nL 19.671875 37.40625 \r\nL 32.078125 37.40625 \r\nQ 38.96875 37.40625 42.71875 40.96875 \r\nQ 46.484375 44.53125 46.484375 51.125 \r\nQ 46.484375 57.671875 42.71875 61.234375 \r\nQ 38.96875 64.796875 32.078125 64.796875 \r\nz\r\nM 9.8125 72.90625 \r\nL 32.078125 72.90625 \r\nQ 44.34375 72.90625 50.609375 67.359375 \r\nQ 56.890625 61.8125 56.890625 51.125 \r\nQ 56.890625 40.328125 50.609375 34.8125 \r\nQ 44.34375 29.296875 32.078125 29.296875 \r\nL 19.671875 29.296875 \r\nL 19.671875 0 \r\nL 9.8125 0 \r\nz\r\n\" id=\"DejaVuSans-80\"/>\r\n      <path d=\"M 41.109375 46.296875 \r\nQ 39.59375 47.171875 37.8125 47.578125 \r\nQ 36.03125 48 33.890625 48 \r\nQ 26.265625 48 22.1875 43.046875 \r\nQ 18.109375 38.09375 18.109375 28.8125 \r\nL 18.109375 0 \r\nL 9.078125 0 \r\nL 9.078125 54.6875 \r\nL 18.109375 54.6875 \r\nL 18.109375 46.1875 \r\nQ 20.953125 51.171875 25.484375 53.578125 \r\nQ 30.03125 56 36.53125 56 \r\nQ 37.453125 56 38.578125 55.875 \r\nQ 39.703125 55.765625 41.0625 55.515625 \r\nz\r\n\" id=\"DejaVuSans-114\"/>\r\n      <path d=\"M 56.203125 29.59375 \r\nL 56.203125 25.203125 \r\nL 14.890625 25.203125 \r\nQ 15.484375 15.921875 20.484375 11.0625 \r\nQ 25.484375 6.203125 34.421875 6.203125 \r\nQ 39.59375 6.203125 44.453125 7.46875 \r\nQ 49.3125 8.734375 54.109375 11.28125 \r\nL 54.109375 2.78125 \r\nQ 49.265625 0.734375 44.1875 -0.34375 \r\nQ 39.109375 -1.421875 33.890625 -1.421875 \r\nQ 20.796875 -1.421875 13.15625 6.1875 \r\nQ 5.515625 13.8125 5.515625 26.8125 \r\nQ 5.515625 40.234375 12.765625 48.109375 \r\nQ 20.015625 56 32.328125 56 \r\nQ 43.359375 56 49.78125 48.890625 \r\nQ 56.203125 41.796875 56.203125 29.59375 \r\nz\r\nM 47.21875 32.234375 \r\nQ 47.125 39.59375 43.09375 43.984375 \r\nQ 39.0625 48.390625 32.421875 48.390625 \r\nQ 24.90625 48.390625 20.390625 44.140625 \r\nQ 15.875 39.890625 15.1875 32.171875 \r\nz\r\n\" id=\"DejaVuSans-101\"/>\r\n      <path d=\"M 45.40625 46.390625 \r\nL 45.40625 75.984375 \r\nL 54.390625 75.984375 \r\nL 54.390625 0 \r\nL 45.40625 0 \r\nL 45.40625 8.203125 \r\nQ 42.578125 3.328125 38.25 0.953125 \r\nQ 33.9375 -1.421875 27.875 -1.421875 \r\nQ 17.96875 -1.421875 11.734375 6.484375 \r\nQ 5.515625 14.40625 5.515625 27.296875 \r\nQ 5.515625 40.1875 11.734375 48.09375 \r\nQ 17.96875 56 27.875 56 \r\nQ 33.9375 56 38.25 53.625 \r\nQ 42.578125 51.265625 45.40625 46.390625 \r\nz\r\nM 14.796875 27.296875 \r\nQ 14.796875 17.390625 18.875 11.75 \r\nQ 22.953125 6.109375 30.078125 6.109375 \r\nQ 37.203125 6.109375 41.296875 11.75 \r\nQ 45.40625 17.390625 45.40625 27.296875 \r\nQ 45.40625 37.203125 41.296875 42.84375 \r\nQ 37.203125 48.484375 30.078125 48.484375 \r\nQ 22.953125 48.484375 18.875 42.84375 \r\nQ 14.796875 37.203125 14.796875 27.296875 \r\nz\r\n\" id=\"DejaVuSans-100\"/>\r\n      <path d=\"M 9.421875 54.6875 \r\nL 18.40625 54.6875 \r\nL 18.40625 0 \r\nL 9.421875 0 \r\nz\r\nM 9.421875 75.984375 \r\nL 18.40625 75.984375 \r\nL 18.40625 64.59375 \r\nL 9.421875 64.59375 \r\nz\r\n\" id=\"DejaVuSans-105\"/>\r\n      <path d=\"M 48.78125 52.59375 \r\nL 48.78125 44.1875 \r\nQ 44.96875 46.296875 41.140625 47.34375 \r\nQ 37.3125 48.390625 33.40625 48.390625 \r\nQ 24.65625 48.390625 19.8125 42.84375 \r\nQ 14.984375 37.3125 14.984375 27.296875 \r\nQ 14.984375 17.28125 19.8125 11.734375 \r\nQ 24.65625 6.203125 33.40625 6.203125 \r\nQ 37.3125 6.203125 41.140625 7.25 \r\nQ 44.96875 8.296875 48.78125 10.40625 \r\nL 48.78125 2.09375 \r\nQ 45.015625 0.34375 40.984375 -0.53125 \r\nQ 36.96875 -1.421875 32.421875 -1.421875 \r\nQ 20.0625 -1.421875 12.78125 6.34375 \r\nQ 5.515625 14.109375 5.515625 27.296875 \r\nQ 5.515625 40.671875 12.859375 48.328125 \r\nQ 20.21875 56 33.015625 56 \r\nQ 37.15625 56 41.109375 55.140625 \r\nQ 45.0625 54.296875 48.78125 52.59375 \r\nz\r\n\" id=\"DejaVuSans-99\"/>\r\n      <path d=\"M 18.3125 70.21875 \r\nL 18.3125 54.6875 \r\nL 36.8125 54.6875 \r\nL 36.8125 47.703125 \r\nL 18.3125 47.703125 \r\nL 18.3125 18.015625 \r\nQ 18.3125 11.328125 20.140625 9.421875 \r\nQ 21.96875 7.515625 27.59375 7.515625 \r\nL 36.8125 7.515625 \r\nL 36.8125 0 \r\nL 27.59375 0 \r\nQ 17.1875 0 13.234375 3.875 \r\nQ 9.28125 7.765625 9.28125 18.015625 \r\nL 9.28125 47.703125 \r\nL 2.6875 47.703125 \r\nL 2.6875 54.6875 \r\nL 9.28125 54.6875 \r\nL 9.28125 70.21875 \r\nz\r\n\" id=\"DejaVuSans-116\"/>\r\n      <path id=\"DejaVuSans-32\"/>\r\n      <path d=\"M 9.421875 75.984375 \r\nL 18.40625 75.984375 \r\nL 18.40625 0 \r\nL 9.421875 0 \r\nz\r\n\" id=\"DejaVuSans-108\"/>\r\n      <path d=\"M 34.28125 27.484375 \r\nQ 23.390625 27.484375 19.1875 25 \r\nQ 14.984375 22.515625 14.984375 16.5 \r\nQ 14.984375 11.71875 18.140625 8.90625 \r\nQ 21.296875 6.109375 26.703125 6.109375 \r\nQ 34.1875 6.109375 38.703125 11.40625 \r\nQ 43.21875 16.703125 43.21875 25.484375 \r\nL 43.21875 27.484375 \r\nz\r\nM 52.203125 31.203125 \r\nL 52.203125 0 \r\nL 43.21875 0 \r\nL 43.21875 8.296875 \r\nQ 40.140625 3.328125 35.546875 0.953125 \r\nQ 30.953125 -1.421875 24.3125 -1.421875 \r\nQ 15.921875 -1.421875 10.953125 3.296875 \r\nQ 6 8.015625 6 15.921875 \r\nQ 6 25.140625 12.171875 29.828125 \r\nQ 18.359375 34.515625 30.609375 34.515625 \r\nL 43.21875 34.515625 \r\nL 43.21875 35.40625 \r\nQ 43.21875 41.609375 39.140625 45 \r\nQ 35.0625 48.390625 27.6875 48.390625 \r\nQ 23 48.390625 18.546875 47.265625 \r\nQ 14.109375 46.140625 10.015625 43.890625 \r\nL 10.015625 52.203125 \r\nQ 14.9375 54.109375 19.578125 55.046875 \r\nQ 24.21875 56 28.609375 56 \r\nQ 40.484375 56 46.34375 49.84375 \r\nQ 52.203125 43.703125 52.203125 31.203125 \r\nz\r\n\" id=\"DejaVuSans-97\"/>\r\n      <path d=\"M 48.6875 27.296875 \r\nQ 48.6875 37.203125 44.609375 42.84375 \r\nQ 40.53125 48.484375 33.40625 48.484375 \r\nQ 26.265625 48.484375 22.1875 42.84375 \r\nQ 18.109375 37.203125 18.109375 27.296875 \r\nQ 18.109375 17.390625 22.1875 11.75 \r\nQ 26.265625 6.109375 33.40625 6.109375 \r\nQ 40.53125 6.109375 44.609375 11.75 \r\nQ 48.6875 17.390625 48.6875 27.296875 \r\nz\r\nM 18.109375 46.390625 \r\nQ 20.953125 51.265625 25.265625 53.625 \r\nQ 29.59375 56 35.59375 56 \r\nQ 45.5625 56 51.78125 48.09375 \r\nQ 58.015625 40.1875 58.015625 27.296875 \r\nQ 58.015625 14.40625 51.78125 6.484375 \r\nQ 45.5625 -1.421875 35.59375 -1.421875 \r\nQ 29.59375 -1.421875 25.265625 0.953125 \r\nQ 20.953125 3.328125 18.109375 8.203125 \r\nL 18.109375 0 \r\nL 9.078125 0 \r\nL 9.078125 75.984375 \r\nL 18.109375 75.984375 \r\nz\r\n\" id=\"DejaVuSans-98\"/>\r\n     </defs>\r\n     <g transform=\"translate(105.808281 256.081845)scale(0.1 -0.1)\">\r\n      <use xlink:href=\"#DejaVuSans-80\"/>\r\n      <use x=\"58.552734\" xlink:href=\"#DejaVuSans-114\"/>\r\n      <use x=\"97.416016\" xlink:href=\"#DejaVuSans-101\"/>\r\n      <use x=\"158.939453\" xlink:href=\"#DejaVuSans-100\"/>\r\n      <use x=\"222.416016\" xlink:href=\"#DejaVuSans-105\"/>\r\n      <use x=\"250.199219\" xlink:href=\"#DejaVuSans-99\"/>\r\n      <use x=\"305.179688\" xlink:href=\"#DejaVuSans-116\"/>\r\n      <use x=\"344.388672\" xlink:href=\"#DejaVuSans-101\"/>\r\n      <use x=\"405.912109\" xlink:href=\"#DejaVuSans-100\"/>\r\n      <use x=\"469.388672\" xlink:href=\"#DejaVuSans-32\"/>\r\n      <use x=\"501.175781\" xlink:href=\"#DejaVuSans-108\"/>\r\n      <use x=\"528.958984\" xlink:href=\"#DejaVuSans-97\"/>\r\n      <use x=\"590.238281\" xlink:href=\"#DejaVuSans-98\"/>\r\n      <use x=\"653.714844\" xlink:href=\"#DejaVuSans-101\"/>\r\n      <use x=\"715.238281\" xlink:href=\"#DejaVuSans-108\"/>\r\n     </g>\r\n    </g>\r\n   </g>\r\n   <g id=\"matplotlib.axis_2\">\r\n    <g id=\"ytick_1\">\r\n     <g id=\"line2d_3\">\r\n      <defs>\r\n       <path d=\"M 0 0 \r\nL -3.5 0 \r\n\" id=\"m4f72e03cd7\" style=\"stroke:#000000;stroke-width:0.8;\"/>\r\n      </defs>\r\n      <g>\r\n       <use style=\"stroke:#000000;stroke-width:0.8;\" x=\"34.240625\" xlink:href=\"#m4f72e03cd7\" y=\"64.725283\"/>\r\n      </g>\r\n     </g>\r\n     <g id=\"text_4\">\r\n      <!-- 0 -->\r\n      <g transform=\"translate(20.878125 68.524502)scale(0.1 -0.1)\">\r\n       <use xlink:href=\"#DejaVuSans-48\"/>\r\n      </g>\r\n     </g>\r\n    </g>\r\n    <g id=\"ytick_2\">\r\n     <g id=\"line2d_4\">\r\n      <g>\r\n       <use style=\"stroke:#000000;stroke-width:0.8;\" x=\"34.240625\" xlink:href=\"#m4f72e03cd7\" y=\"173.445283\"/>\r\n      </g>\r\n     </g>\r\n     <g id=\"text_5\">\r\n      <!-- 1 -->\r\n      <g transform=\"translate(20.878125 177.244502)scale(0.1 -0.1)\">\r\n       <use xlink:href=\"#DejaVuSans-49\"/>\r\n      </g>\r\n     </g>\r\n    </g>\r\n    <g id=\"text_6\">\r\n     <!-- True label -->\r\n     <defs>\r\n      <path d=\"M -0.296875 72.90625 \r\nL 61.375 72.90625 \r\nL 61.375 64.59375 \r\nL 35.5 64.59375 \r\nL 35.5 0 \r\nL 25.59375 0 \r\nL 25.59375 64.59375 \r\nL -0.296875 64.59375 \r\nz\r\n\" id=\"DejaVuSans-84\"/>\r\n      <path d=\"M 8.5 21.578125 \r\nL 8.5 54.6875 \r\nL 17.484375 54.6875 \r\nL 17.484375 21.921875 \r\nQ 17.484375 14.15625 20.5 10.265625 \r\nQ 23.53125 6.390625 29.59375 6.390625 \r\nQ 36.859375 6.390625 41.078125 11.03125 \r\nQ 45.3125 15.671875 45.3125 23.6875 \r\nL 45.3125 54.6875 \r\nL 54.296875 54.6875 \r\nL 54.296875 0 \r\nL 45.3125 0 \r\nL 45.3125 8.40625 \r\nQ 42.046875 3.421875 37.71875 1 \r\nQ 33.40625 -1.421875 27.6875 -1.421875 \r\nQ 18.265625 -1.421875 13.375 4.4375 \r\nQ 8.5 10.296875 8.5 21.578125 \r\nz\r\nM 31.109375 56 \r\nz\r\n\" id=\"DejaVuSans-117\"/>\r\n     </defs>\r\n     <g transform=\"translate(14.798437 143.384502)rotate(-90)scale(0.1 -0.1)\">\r\n      <use xlink:href=\"#DejaVuSans-84\"/>\r\n      <use x=\"46.333984\" xlink:href=\"#DejaVuSans-114\"/>\r\n      <use x=\"87.447266\" xlink:href=\"#DejaVuSans-117\"/>\r\n      <use x=\"150.826172\" xlink:href=\"#DejaVuSans-101\"/>\r\n      <use x=\"212.349609\" xlink:href=\"#DejaVuSans-32\"/>\r\n      <use x=\"244.136719\" xlink:href=\"#DejaVuSans-108\"/>\r\n      <use x=\"271.919922\" xlink:href=\"#DejaVuSans-97\"/>\r\n      <use x=\"333.199219\" xlink:href=\"#DejaVuSans-98\"/>\r\n      <use x=\"396.675781\" xlink:href=\"#DejaVuSans-101\"/>\r\n      <use x=\"458.199219\" xlink:href=\"#DejaVuSans-108\"/>\r\n     </g>\r\n    </g>\r\n   </g>\r\n   <g id=\"patch_3\">\r\n    <path d=\"M 34.240625 227.805283 \r\nL 34.240625 10.365283 \r\n\" style=\"fill:none;stroke:#000000;stroke-linecap:square;stroke-linejoin:miter;stroke-width:0.8;\"/>\r\n   </g>\r\n   <g id=\"patch_4\">\r\n    <path d=\"M 251.680625 227.805283 \r\nL 251.680625 10.365283 \r\n\" style=\"fill:none;stroke:#000000;stroke-linecap:square;stroke-linejoin:miter;stroke-width:0.8;\"/>\r\n   </g>\r\n   <g id=\"patch_5\">\r\n    <path d=\"M 34.240625 227.805283 \r\nL 251.680625 227.805283 \r\n\" style=\"fill:none;stroke:#000000;stroke-linecap:square;stroke-linejoin:miter;stroke-width:0.8;\"/>\r\n   </g>\r\n   <g id=\"patch_6\">\r\n    <path d=\"M 34.240625 10.365283 \r\nL 251.680625 10.365283 \r\n\" style=\"fill:none;stroke:#000000;stroke-linecap:square;stroke-linejoin:miter;stroke-width:0.8;\"/>\r\n   </g>\r\n   <g id=\"text_7\">\r\n    <!-- 1002 -->\r\n    <defs>\r\n     <path d=\"M 19.1875 8.296875 \r\nL 53.609375 8.296875 \r\nL 53.609375 0 \r\nL 7.328125 0 \r\nL 7.328125 8.296875 \r\nQ 12.9375 14.109375 22.625 23.890625 \r\nQ 32.328125 33.6875 34.8125 36.53125 \r\nQ 39.546875 41.84375 41.421875 45.53125 \r\nQ 43.3125 49.21875 43.3125 52.78125 \r\nQ 43.3125 58.59375 39.234375 62.25 \r\nQ 35.15625 65.921875 28.609375 65.921875 \r\nQ 23.96875 65.921875 18.8125 64.3125 \r\nQ 13.671875 62.703125 7.8125 59.421875 \r\nL 7.8125 69.390625 \r\nQ 13.765625 71.78125 18.9375 73 \r\nQ 24.125 74.21875 28.421875 74.21875 \r\nQ 39.75 74.21875 46.484375 68.546875 \r\nQ 53.21875 62.890625 53.21875 53.421875 \r\nQ 53.21875 48.921875 51.53125 44.890625 \r\nQ 49.859375 40.875 45.40625 35.40625 \r\nQ 44.1875 33.984375 37.640625 27.21875 \r\nQ 31.109375 20.453125 19.1875 8.296875 \r\nz\r\n\" id=\"DejaVuSans-50\"/>\r\n    </defs>\r\n    <g style=\"fill:#7f3b08;\" transform=\"translate(75.875625 67.484658)scale(0.1 -0.1)\">\r\n     <use xlink:href=\"#DejaVuSans-49\"/>\r\n     <use x=\"63.623047\" xlink:href=\"#DejaVuSans-48\"/>\r\n     <use x=\"127.246094\" xlink:href=\"#DejaVuSans-48\"/>\r\n     <use x=\"190.869141\" xlink:href=\"#DejaVuSans-50\"/>\r\n    </g>\r\n   </g>\r\n   <g id=\"text_8\">\r\n    <!-- 494 -->\r\n    <defs>\r\n     <path d=\"M 37.796875 64.3125 \r\nL 12.890625 25.390625 \r\nL 37.796875 25.390625 \r\nz\r\nM 35.203125 72.90625 \r\nL 47.609375 72.90625 \r\nL 47.609375 25.390625 \r\nL 58.015625 25.390625 \r\nL 58.015625 17.1875 \r\nL 47.609375 17.1875 \r\nL 47.609375 0 \r\nL 37.796875 0 \r\nL 37.796875 17.1875 \r\nL 4.890625 17.1875 \r\nL 4.890625 26.703125 \r\nz\r\n\" id=\"DejaVuSans-52\"/>\r\n     <path d=\"M 10.984375 1.515625 \r\nL 10.984375 10.5 \r\nQ 14.703125 8.734375 18.5 7.8125 \r\nQ 22.3125 6.890625 25.984375 6.890625 \r\nQ 35.75 6.890625 40.890625 13.453125 \r\nQ 46.046875 20.015625 46.78125 33.40625 \r\nQ 43.953125 29.203125 39.59375 26.953125 \r\nQ 35.25 24.703125 29.984375 24.703125 \r\nQ 19.046875 24.703125 12.671875 31.3125 \r\nQ 6.296875 37.9375 6.296875 49.421875 \r\nQ 6.296875 60.640625 12.9375 67.421875 \r\nQ 19.578125 74.21875 30.609375 74.21875 \r\nQ 43.265625 74.21875 49.921875 64.515625 \r\nQ 56.59375 54.828125 56.59375 36.375 \r\nQ 56.59375 19.140625 48.40625 8.859375 \r\nQ 40.234375 -1.421875 26.421875 -1.421875 \r\nQ 22.703125 -1.421875 18.890625 -0.6875 \r\nQ 15.09375 0.046875 10.984375 1.515625 \r\nz\r\nM 30.609375 32.421875 \r\nQ 37.25 32.421875 41.125 36.953125 \r\nQ 45.015625 41.5 45.015625 49.421875 \r\nQ 45.015625 57.28125 41.125 61.84375 \r\nQ 37.25 66.40625 30.609375 66.40625 \r\nQ 23.96875 66.40625 20.09375 61.84375 \r\nQ 16.21875 57.28125 16.21875 49.421875 \r\nQ 16.21875 41.5 20.09375 36.953125 \r\nQ 23.96875 32.421875 30.609375 32.421875 \r\nz\r\n\" id=\"DejaVuSans-57\"/>\r\n    </defs>\r\n    <g style=\"fill:#2d004b;\" transform=\"translate(187.776875 67.484658)scale(0.1 -0.1)\">\r\n     <use xlink:href=\"#DejaVuSans-52\"/>\r\n     <use x=\"63.623047\" xlink:href=\"#DejaVuSans-57\"/>\r\n     <use x=\"127.246094\" xlink:href=\"#DejaVuSans-52\"/>\r\n    </g>\r\n   </g>\r\n   <g id=\"text_9\">\r\n    <!-- 316 -->\r\n    <defs>\r\n     <path d=\"M 40.578125 39.3125 \r\nQ 47.65625 37.796875 51.625 33 \r\nQ 55.609375 28.21875 55.609375 21.1875 \r\nQ 55.609375 10.40625 48.1875 4.484375 \r\nQ 40.765625 -1.421875 27.09375 -1.421875 \r\nQ 22.515625 -1.421875 17.65625 -0.515625 \r\nQ 12.796875 0.390625 7.625 2.203125 \r\nL 7.625 11.71875 \r\nQ 11.71875 9.328125 16.59375 8.109375 \r\nQ 21.484375 6.890625 26.8125 6.890625 \r\nQ 36.078125 6.890625 40.9375 10.546875 \r\nQ 45.796875 14.203125 45.796875 21.1875 \r\nQ 45.796875 27.640625 41.28125 31.265625 \r\nQ 36.765625 34.90625 28.71875 34.90625 \r\nL 20.21875 34.90625 \r\nL 20.21875 43.015625 \r\nL 29.109375 43.015625 \r\nQ 36.375 43.015625 40.234375 45.921875 \r\nQ 44.09375 48.828125 44.09375 54.296875 \r\nQ 44.09375 59.90625 40.109375 62.90625 \r\nQ 36.140625 65.921875 28.71875 65.921875 \r\nQ 24.65625 65.921875 20.015625 65.03125 \r\nQ 15.375 64.15625 9.8125 62.3125 \r\nL 9.8125 71.09375 \r\nQ 15.4375 72.65625 20.34375 73.4375 \r\nQ 25.25 74.21875 29.59375 74.21875 \r\nQ 40.828125 74.21875 47.359375 69.109375 \r\nQ 53.90625 64.015625 53.90625 55.328125 \r\nQ 53.90625 49.265625 50.4375 45.09375 \r\nQ 46.96875 40.921875 40.578125 39.3125 \r\nz\r\n\" id=\"DejaVuSans-51\"/>\r\n     <path d=\"M 33.015625 40.375 \r\nQ 26.375 40.375 22.484375 35.828125 \r\nQ 18.609375 31.296875 18.609375 23.390625 \r\nQ 18.609375 15.53125 22.484375 10.953125 \r\nQ 26.375 6.390625 33.015625 6.390625 \r\nQ 39.65625 6.390625 43.53125 10.953125 \r\nQ 47.40625 15.53125 47.40625 23.390625 \r\nQ 47.40625 31.296875 43.53125 35.828125 \r\nQ 39.65625 40.375 33.015625 40.375 \r\nz\r\nM 52.59375 71.296875 \r\nL 52.59375 62.3125 \r\nQ 48.875 64.0625 45.09375 64.984375 \r\nQ 41.3125 65.921875 37.59375 65.921875 \r\nQ 27.828125 65.921875 22.671875 59.328125 \r\nQ 17.53125 52.734375 16.796875 39.40625 \r\nQ 19.671875 43.65625 24.015625 45.921875 \r\nQ 28.375 48.1875 33.59375 48.1875 \r\nQ 44.578125 48.1875 50.953125 41.515625 \r\nQ 57.328125 34.859375 57.328125 23.390625 \r\nQ 57.328125 12.15625 50.6875 5.359375 \r\nQ 44.046875 -1.421875 33.015625 -1.421875 \r\nQ 20.359375 -1.421875 13.671875 8.265625 \r\nQ 6.984375 17.96875 6.984375 36.375 \r\nQ 6.984375 53.65625 15.1875 63.9375 \r\nQ 23.390625 74.21875 37.203125 74.21875 \r\nQ 40.921875 74.21875 44.703125 73.484375 \r\nQ 48.484375 72.75 52.59375 71.296875 \r\nz\r\n\" id=\"DejaVuSans-54\"/>\r\n    </defs>\r\n    <g style=\"fill:#2d004b;\" transform=\"translate(79.056875 176.204658)scale(0.1 -0.1)\">\r\n     <use xlink:href=\"#DejaVuSans-51\"/>\r\n     <use x=\"63.623047\" xlink:href=\"#DejaVuSans-49\"/>\r\n     <use x=\"127.246094\" xlink:href=\"#DejaVuSans-54\"/>\r\n    </g>\r\n   </g>\r\n   <g id=\"text_10\">\r\n    <!-- 892 -->\r\n    <defs>\r\n     <path d=\"M 31.78125 34.625 \r\nQ 24.75 34.625 20.71875 30.859375 \r\nQ 16.703125 27.09375 16.703125 20.515625 \r\nQ 16.703125 13.921875 20.71875 10.15625 \r\nQ 24.75 6.390625 31.78125 6.390625 \r\nQ 38.8125 6.390625 42.859375 10.171875 \r\nQ 46.921875 13.96875 46.921875 20.515625 \r\nQ 46.921875 27.09375 42.890625 30.859375 \r\nQ 38.875 34.625 31.78125 34.625 \r\nz\r\nM 21.921875 38.8125 \r\nQ 15.578125 40.375 12.03125 44.71875 \r\nQ 8.5 49.078125 8.5 55.328125 \r\nQ 8.5 64.0625 14.71875 69.140625 \r\nQ 20.953125 74.21875 31.78125 74.21875 \r\nQ 42.671875 74.21875 48.875 69.140625 \r\nQ 55.078125 64.0625 55.078125 55.328125 \r\nQ 55.078125 49.078125 51.53125 44.71875 \r\nQ 48 40.375 41.703125 38.8125 \r\nQ 48.828125 37.15625 52.796875 32.3125 \r\nQ 56.78125 27.484375 56.78125 20.515625 \r\nQ 56.78125 9.90625 50.3125 4.234375 \r\nQ 43.84375 -1.421875 31.78125 -1.421875 \r\nQ 19.734375 -1.421875 13.25 4.234375 \r\nQ 6.78125 9.90625 6.78125 20.515625 \r\nQ 6.78125 27.484375 10.78125 32.3125 \r\nQ 14.796875 37.15625 21.921875 38.8125 \r\nz\r\nM 18.3125 54.390625 \r\nQ 18.3125 48.734375 21.84375 45.5625 \r\nQ 25.390625 42.390625 31.78125 42.390625 \r\nQ 38.140625 42.390625 41.71875 45.5625 \r\nQ 45.3125 48.734375 45.3125 54.390625 \r\nQ 45.3125 60.0625 41.71875 63.234375 \r\nQ 38.140625 66.40625 31.78125 66.40625 \r\nQ 25.390625 66.40625 21.84375 63.234375 \r\nQ 18.3125 60.0625 18.3125 54.390625 \r\nz\r\n\" id=\"DejaVuSans-56\"/>\r\n    </defs>\r\n    <g style=\"fill:#7f3b08;\" transform=\"translate(187.776875 176.204658)scale(0.1 -0.1)\">\r\n     <use xlink:href=\"#DejaVuSans-56\"/>\r\n     <use x=\"63.623047\" xlink:href=\"#DejaVuSans-57\"/>\r\n     <use x=\"127.246094\" xlink:href=\"#DejaVuSans-50\"/>\r\n    </g>\r\n   </g>\r\n  </g>\r\n  <g id=\"axes_2\">\r\n   <g id=\"patch_7\">\r\n    <path clip-path=\"url(#p7508fe778a)\" d=\"M 268.420625 227.805283 \r\nL 268.420625 226.955908 \r\nL 268.420625 11.214658 \r\nL 268.420625 10.365283 \r\nL 279.292625 10.365283 \r\nL 279.292625 11.214658 \r\nL 279.292625 226.955908 \r\nL 279.292625 227.805283 \r\nz\r\n\" style=\"fill:#ffffff;stroke:#ffffff;stroke-linejoin:miter;stroke-width:0.01;\"/>\r\n   </g>\r\n   <image height=\"217\" id=\"imagefc549657b1\" transform=\"scale(1 -1)translate(0 -217)\" width=\"11\" x=\"268\" xlink:href=\"data:image/png;base64,\r\niVBORw0KGgoAAAANSUhEUgAAAAsAAADZCAYAAAD2WsoCAAAABHNCSVQICAgIfAhkiAAAAVxJREFUaIHtmEGOAjEQAzuTBvZRfG6/DUl6r3NMIVnyouFsWdVuZxLRfp8/FZu/PNquNCKzAzFyhuLt+ZQYujS6MDogzkOGwZw91u2Sxr51NuQMoJN0NBtxhtERZ5JGJwMyDNmAupyF65aVHzkjZpjG/j0hFB9IfHuIMEzEMI27CAOK0wGjpyyN7tGNBOWPBpyDYEBn0A2G0cG6o8kwdDmjY8XSkG1Ql0Yn5TfZoKx1ddwIBmLef50w5wriLBuwZAMKMVAaYZKGrEj/sBtV4GW+FvhjoQqJt7WRS+ZcZMC5iLOO2SPnNS0GBAukzmRAHYauz+h0T9B+IYaJM0rjGvBjDBNnk/JDMWAe7+mAwZxlFR0DpUG6ge4UXXRf3w2TAdEbCfUZFYk4zxfCsGBmx+pK4yQeL1J+lz6rMNCnoEp2TRT6MCJmUv75JhgWzMh5zkEwrnWfMdCAuuhEzn+DkEro+sYqGAAAAABJRU5ErkJggg==\" y=\"-10\"/>\r\n   <g id=\"matplotlib.axis_3\"/>\r\n   <g id=\"matplotlib.axis_4\">\r\n    <g id=\"ytick_3\">\r\n     <g id=\"line2d_5\">\r\n      <defs>\r\n       <path d=\"M 0 0 \r\nL 3.5 0 \r\n\" id=\"m048fb88a79\" style=\"stroke:#000000;stroke-width:0.8;\"/>\r\n      </defs>\r\n      <g>\r\n       <use style=\"stroke:#000000;stroke-width:0.8;\" x=\"279.292625\" xlink:href=\"#m048fb88a79\" y=\"201.179977\"/>\r\n      </g>\r\n     </g>\r\n     <g id=\"text_11\">\r\n      <!-- 400 -->\r\n      <g transform=\"translate(286.292625 204.979196)scale(0.1 -0.1)\">\r\n       <use xlink:href=\"#DejaVuSans-52\"/>\r\n       <use x=\"63.623047\" xlink:href=\"#DejaVuSans-48\"/>\r\n       <use x=\"127.246094\" xlink:href=\"#DejaVuSans-48\"/>\r\n      </g>\r\n     </g>\r\n    </g>\r\n    <g id=\"ytick_4\">\r\n     <g id=\"line2d_6\">\r\n      <g>\r\n       <use style=\"stroke:#000000;stroke-width:0.8;\" x=\"279.292625\" xlink:href=\"#m048fb88a79\" y=\"169.483184\"/>\r\n      </g>\r\n     </g>\r\n     <g id=\"text_12\">\r\n      <!-- 500 -->\r\n      <defs>\r\n       <path d=\"M 10.796875 72.90625 \r\nL 49.515625 72.90625 \r\nL 49.515625 64.59375 \r\nL 19.828125 64.59375 \r\nL 19.828125 46.734375 \r\nQ 21.96875 47.46875 24.109375 47.828125 \r\nQ 26.265625 48.1875 28.421875 48.1875 \r\nQ 40.625 48.1875 47.75 41.5 \r\nQ 54.890625 34.8125 54.890625 23.390625 \r\nQ 54.890625 11.625 47.5625 5.09375 \r\nQ 40.234375 -1.421875 26.90625 -1.421875 \r\nQ 22.3125 -1.421875 17.546875 -0.640625 \r\nQ 12.796875 0.140625 7.71875 1.703125 \r\nL 7.71875 11.625 \r\nQ 12.109375 9.234375 16.796875 8.0625 \r\nQ 21.484375 6.890625 26.703125 6.890625 \r\nQ 35.15625 6.890625 40.078125 11.328125 \r\nQ 45.015625 15.765625 45.015625 23.390625 \r\nQ 45.015625 31 40.078125 35.4375 \r\nQ 35.15625 39.890625 26.703125 39.890625 \r\nQ 22.75 39.890625 18.8125 39.015625 \r\nQ 14.890625 38.140625 10.796875 36.28125 \r\nz\r\n\" id=\"DejaVuSans-53\"/>\r\n      </defs>\r\n      <g transform=\"translate(286.292625 173.282403)scale(0.1 -0.1)\">\r\n       <use xlink:href=\"#DejaVuSans-53\"/>\r\n       <use x=\"63.623047\" xlink:href=\"#DejaVuSans-48\"/>\r\n       <use x=\"127.246094\" xlink:href=\"#DejaVuSans-48\"/>\r\n      </g>\r\n     </g>\r\n    </g>\r\n    <g id=\"ytick_5\">\r\n     <g id=\"line2d_7\">\r\n      <g>\r\n       <use style=\"stroke:#000000;stroke-width:0.8;\" x=\"279.292625\" xlink:href=\"#m048fb88a79\" y=\"137.786391\"/>\r\n      </g>\r\n     </g>\r\n     <g id=\"text_13\">\r\n      <!-- 600 -->\r\n      <g transform=\"translate(286.292625 141.58561)scale(0.1 -0.1)\">\r\n       <use xlink:href=\"#DejaVuSans-54\"/>\r\n       <use x=\"63.623047\" xlink:href=\"#DejaVuSans-48\"/>\r\n       <use x=\"127.246094\" xlink:href=\"#DejaVuSans-48\"/>\r\n      </g>\r\n     </g>\r\n    </g>\r\n    <g id=\"ytick_6\">\r\n     <g id=\"line2d_8\">\r\n      <g>\r\n       <use style=\"stroke:#000000;stroke-width:0.8;\" x=\"279.292625\" xlink:href=\"#m048fb88a79\" y=\"106.089598\"/>\r\n      </g>\r\n     </g>\r\n     <g id=\"text_14\">\r\n      <!-- 700 -->\r\n      <defs>\r\n       <path d=\"M 8.203125 72.90625 \r\nL 55.078125 72.90625 \r\nL 55.078125 68.703125 \r\nL 28.609375 0 \r\nL 18.3125 0 \r\nL 43.21875 64.59375 \r\nL 8.203125 64.59375 \r\nz\r\n\" id=\"DejaVuSans-55\"/>\r\n      </defs>\r\n      <g transform=\"translate(286.292625 109.888817)scale(0.1 -0.1)\">\r\n       <use xlink:href=\"#DejaVuSans-55\"/>\r\n       <use x=\"63.623047\" xlink:href=\"#DejaVuSans-48\"/>\r\n       <use x=\"127.246094\" xlink:href=\"#DejaVuSans-48\"/>\r\n      </g>\r\n     </g>\r\n    </g>\r\n    <g id=\"ytick_7\">\r\n     <g id=\"line2d_9\">\r\n      <g>\r\n       <use style=\"stroke:#000000;stroke-width:0.8;\" x=\"279.292625\" xlink:href=\"#m048fb88a79\" y=\"74.392805\"/>\r\n      </g>\r\n     </g>\r\n     <g id=\"text_15\">\r\n      <!-- 800 -->\r\n      <g transform=\"translate(286.292625 78.192024)scale(0.1 -0.1)\">\r\n       <use xlink:href=\"#DejaVuSans-56\"/>\r\n       <use x=\"63.623047\" xlink:href=\"#DejaVuSans-48\"/>\r\n       <use x=\"127.246094\" xlink:href=\"#DejaVuSans-48\"/>\r\n      </g>\r\n     </g>\r\n    </g>\r\n    <g id=\"ytick_8\">\r\n     <g id=\"line2d_10\">\r\n      <g>\r\n       <use style=\"stroke:#000000;stroke-width:0.8;\" x=\"279.292625\" xlink:href=\"#m048fb88a79\" y=\"42.696012\"/>\r\n      </g>\r\n     </g>\r\n     <g id=\"text_16\">\r\n      <!-- 900 -->\r\n      <g transform=\"translate(286.292625 46.495231)scale(0.1 -0.1)\">\r\n       <use xlink:href=\"#DejaVuSans-57\"/>\r\n       <use x=\"63.623047\" xlink:href=\"#DejaVuSans-48\"/>\r\n       <use x=\"127.246094\" xlink:href=\"#DejaVuSans-48\"/>\r\n      </g>\r\n     </g>\r\n    </g>\r\n    <g id=\"ytick_9\">\r\n     <g id=\"line2d_11\">\r\n      <g>\r\n       <use style=\"stroke:#000000;stroke-width:0.8;\" x=\"279.292625\" xlink:href=\"#m048fb88a79\" y=\"10.999219\"/>\r\n      </g>\r\n     </g>\r\n     <g id=\"text_17\">\r\n      <!-- 1000 -->\r\n      <g transform=\"translate(286.292625 14.798438)scale(0.1 -0.1)\">\r\n       <use xlink:href=\"#DejaVuSans-49\"/>\r\n       <use x=\"63.623047\" xlink:href=\"#DejaVuSans-48\"/>\r\n       <use x=\"127.246094\" xlink:href=\"#DejaVuSans-48\"/>\r\n       <use x=\"190.869141\" xlink:href=\"#DejaVuSans-48\"/>\r\n      </g>\r\n     </g>\r\n    </g>\r\n   </g>\r\n   <g id=\"patch_8\">\r\n    <path d=\"M 268.420625 227.805283 \r\nL 268.420625 226.955908 \r\nL 268.420625 11.214658 \r\nL 268.420625 10.365283 \r\nL 279.292625 10.365283 \r\nL 279.292625 11.214658 \r\nL 279.292625 226.955908 \r\nL 279.292625 227.805283 \r\nz\r\n\" style=\"fill:none;stroke:#000000;stroke-linejoin:miter;stroke-width:0.8;\"/>\r\n   </g>\r\n  </g>\r\n </g>\r\n <defs>\r\n  <clipPath id=\"pcafe7b1f17\">\r\n   <rect height=\"217.44\" width=\"217.44\" x=\"34.240625\" y=\"10.365283\"/>\r\n  </clipPath>\r\n  <clipPath id=\"p7508fe778a\">\r\n   <rect height=\"217.44\" width=\"10.872\" x=\"268.420625\" y=\"10.365283\"/>\r\n  </clipPath>\r\n </defs>\r\n</svg>\r\n",
      "image/png": "[encoded data removed]"
     },
     "metadata": {
      "needs_background": "light"
     }
    }
   ],
   "source": [
    "from sklearn.metrics import ConfusionMatrixDisplay\n",
    "cm_display = ConfusionMatrixDisplay(cm).plot(cmap='PuOr')"
   ]
  },
  {
   "cell_type": "code",
   "execution_count": null,
   "metadata": {},
   "outputs": [],
   "source": []
  }
 ]
}