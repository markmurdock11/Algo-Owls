{
 "metadata": {
  "language_info": {
   "codemirror_mode": {
    "name": "ipython",
    "version": 3
   },
   "file_extension": ".py",
   "mimetype": "text/x-python",
   "name": "python",
   "nbconvert_exporter": "python",
   "pygments_lexer": "ipython3",
   "version": "3.8.5-final"
  },
  "orig_nbformat": 2,
  "kernelspec": {
   "name": "python3",
   "display_name": "Python 3.8.5 64-bit ('project2': conda)",
   "metadata": {
    "interpreter": {
     "hash": "9ee557f5893fe86b807f8e83c995d71c87da1e8a07bba49603534fad992d4e2f"
    }
   }
  }
 },
 "nbformat": 4,
 "nbformat_minor": 2,
 "cells": [
  {
   "cell_type": "code",
   "execution_count": 50,
   "metadata": {},
   "outputs": [],
   "source": [
    "# Imports from Jonathan's wkbk\n",
    "\n",
    "import os\n",
    "import requests\n",
    "import pandas as pd\n",
    "from dotenv import load_dotenv\n",
    "import alpaca_trade_api as tradeapi\n",
    "import numpy as np"
   ]
  },
  {
   "cell_type": "code",
   "execution_count": 51,
   "metadata": {},
   "outputs": [
    {
     "output_type": "execute_result",
     "data": {
      "text/plain": [
       "True"
      ]
     },
     "metadata": {},
     "execution_count": 51
    }
   ],
   "source": [
    "# Load env data\n",
    "load_dotenv()"
   ]
  },
  {
   "cell_type": "code",
   "execution_count": 52,
   "metadata": {},
   "outputs": [],
   "source": [
    "# Assign Alpaca keys to variables\n",
    "alpaca_api_key = os.getenv(\"APCA_API_KEY_ID\")\n",
    "alpaca_secret_key = os.getenv(\"APCA_API_SECRET_KEY\")"
   ]
  },
  {
   "cell_type": "code",
   "execution_count": 53,
   "metadata": {},
   "outputs": [],
   "source": [
    "# Initialize Alpaca connection\n",
    "alpaca = tradeapi.REST(\n",
    "    alpaca_api_key,\n",
    "    alpaca_secret_key,\n",
    "    api_version='v2'\n",
    ")"
   ]
  },
  {
   "cell_type": "code",
   "execution_count": 54,
   "metadata": {},
   "outputs": [],
   "source": [
    "# Set start and end dates for\n",
    "start_date = pd.Timestamp('2020-01-01', tz='America/New_York').isoformat()\n",
    "end_date = pd.Timestamp('2020-12-31', tz='America/New_York').isoformat()"
   ]
  },
  {
   "cell_type": "code",
   "execution_count": 55,
   "metadata": {},
   "outputs": [],
   "source": [
    "# Assign default ticker symbol\n",
    "ticker_string = 'JPM'\n",
    "ticker = [ticker_string]"
   ]
  },
  {
   "cell_type": "code",
   "execution_count": 56,
   "metadata": {},
   "outputs": [],
   "source": [
    "# Assign default time frame\n",
    "timeframe = '15Min'"
   ]
  },
  {
   "cell_type": "code",
   "execution_count": 57,
   "metadata": {},
   "outputs": [],
   "source": [
    "# Get ticker historical data\n",
    "df_ohlc_original = alpaca.get_barset(\n",
    "    ticker,\n",
    "    timeframe,\n",
    "    start=start_date,\n",
    "    end=end_date\n",
    ").df"
   ]
  },
  {
   "cell_type": "code",
   "execution_count": 58,
   "metadata": {},
   "outputs": [
    {
     "output_type": "execute_result",
     "data": {
      "text/plain": [
       "                              open    high     low    close  volume\n",
       "2020-01-02 09:30:00-05:00  140.070  140.14  139.52  139.670   29953\n",
       "2020-01-02 09:45:00-05:00  139.675  139.91  139.44  139.670   24343\n",
       "2020-01-02 10:00:00-05:00  139.635  139.81  139.52  139.640   19021\n",
       "2020-01-02 10:15:00-05:00  139.600  139.60  139.34  139.400   18856\n",
       "2020-01-02 10:30:00-05:00  139.460  139.54  139.28  139.535   19695"
      ],
      "text/html": "<div>\n<style scoped>\n    .dataframe tbody tr th:only-of-type {\n        vertical-align: middle;\n    }\n\n    .dataframe tbody tr th {\n        vertical-align: top;\n    }\n\n    .dataframe thead th {\n        text-align: right;\n    }\n</style>\n<table border=\"1\" class=\"dataframe\">\n  <thead>\n    <tr style=\"text-align: right;\">\n      <th></th>\n      <th>open</th>\n      <th>high</th>\n      <th>low</th>\n      <th>close</th>\n      <th>volume</th>\n    </tr>\n  </thead>\n  <tbody>\n    <tr>\n      <th>2020-01-02 09:30:00-05:00</th>\n      <td>140.070</td>\n      <td>140.14</td>\n      <td>139.52</td>\n      <td>139.670</td>\n      <td>29953</td>\n    </tr>\n    <tr>\n      <th>2020-01-02 09:45:00-05:00</th>\n      <td>139.675</td>\n      <td>139.91</td>\n      <td>139.44</td>\n      <td>139.670</td>\n      <td>24343</td>\n    </tr>\n    <tr>\n      <th>2020-01-02 10:00:00-05:00</th>\n      <td>139.635</td>\n      <td>139.81</td>\n      <td>139.52</td>\n      <td>139.640</td>\n      <td>19021</td>\n    </tr>\n    <tr>\n      <th>2020-01-02 10:15:00-05:00</th>\n      <td>139.600</td>\n      <td>139.60</td>\n      <td>139.34</td>\n      <td>139.400</td>\n      <td>18856</td>\n    </tr>\n    <tr>\n      <th>2020-01-02 10:30:00-05:00</th>\n      <td>139.460</td>\n      <td>139.54</td>\n      <td>139.28</td>\n      <td>139.535</td>\n      <td>19695</td>\n    </tr>\n  </tbody>\n</table>\n</div>"
     },
     "metadata": {},
     "execution_count": 58
    }
   ],
   "source": [
    "# Copy of original data\n",
    "df_ohlc = df_ohlc_original\n",
    "\n",
    "# Verify data in dataframe\n",
    "df_ohlc = df_ohlc[ticker_string]\n",
    "df_ohlc.head()"
   ]
  },
  {
   "cell_type": "code",
   "execution_count": 59,
   "metadata": {},
   "outputs": [
    {
     "output_type": "execute_result",
     "data": {
      "text/plain": [
       "                              open    high     low    close  volume  \\\n",
       "2020-01-02 09:30:00-05:00  140.070  140.14  139.52  139.670   29953   \n",
       "2020-01-02 09:45:00-05:00  139.675  139.91  139.44  139.670   24343   \n",
       "2020-01-02 10:00:00-05:00  139.635  139.81  139.52  139.640   19021   \n",
       "2020-01-02 10:15:00-05:00  139.600  139.60  139.34  139.400   18856   \n",
       "2020-01-02 10:30:00-05:00  139.460  139.54  139.28  139.535   19695   \n",
       "\n",
       "                           bollinger_band_middle  bollinger_band_std  \\\n",
       "2020-01-02 09:30:00-05:00                    NaN                 NaN   \n",
       "2020-01-02 09:45:00-05:00                    NaN                 NaN   \n",
       "2020-01-02 10:00:00-05:00                    NaN                 NaN   \n",
       "2020-01-02 10:15:00-05:00                    NaN                 NaN   \n",
       "2020-01-02 10:30:00-05:00                    NaN                 NaN   \n",
       "\n",
       "                           bollinger_band_upper  bollinger_band_lower  \n",
       "2020-01-02 09:30:00-05:00                   NaN                   NaN  \n",
       "2020-01-02 09:45:00-05:00                   NaN                   NaN  \n",
       "2020-01-02 10:00:00-05:00                   NaN                   NaN  \n",
       "2020-01-02 10:15:00-05:00                   NaN                   NaN  \n",
       "2020-01-02 10:30:00-05:00                   NaN                   NaN  "
      ],
      "text/html": "<div>\n<style scoped>\n    .dataframe tbody tr th:only-of-type {\n        vertical-align: middle;\n    }\n\n    .dataframe tbody tr th {\n        vertical-align: top;\n    }\n\n    .dataframe thead th {\n        text-align: right;\n    }\n</style>\n<table border=\"1\" class=\"dataframe\">\n  <thead>\n    <tr style=\"text-align: right;\">\n      <th></th>\n      <th>open</th>\n      <th>high</th>\n      <th>low</th>\n      <th>close</th>\n      <th>volume</th>\n      <th>bollinger_band_middle</th>\n      <th>bollinger_band_std</th>\n      <th>bollinger_band_upper</th>\n      <th>bollinger_band_lower</th>\n    </tr>\n  </thead>\n  <tbody>\n    <tr>\n      <th>2020-01-02 09:30:00-05:00</th>\n      <td>140.070</td>\n      <td>140.14</td>\n      <td>139.52</td>\n      <td>139.670</td>\n      <td>29953</td>\n      <td>NaN</td>\n      <td>NaN</td>\n      <td>NaN</td>\n      <td>NaN</td>\n    </tr>\n    <tr>\n      <th>2020-01-02 09:45:00-05:00</th>\n      <td>139.675</td>\n      <td>139.91</td>\n      <td>139.44</td>\n      <td>139.670</td>\n      <td>24343</td>\n      <td>NaN</td>\n      <td>NaN</td>\n      <td>NaN</td>\n      <td>NaN</td>\n    </tr>\n    <tr>\n      <th>2020-01-02 10:00:00-05:00</th>\n      <td>139.635</td>\n      <td>139.81</td>\n      <td>139.52</td>\n      <td>139.640</td>\n      <td>19021</td>\n      <td>NaN</td>\n      <td>NaN</td>\n      <td>NaN</td>\n      <td>NaN</td>\n    </tr>\n    <tr>\n      <th>2020-01-02 10:15:00-05:00</th>\n      <td>139.600</td>\n      <td>139.60</td>\n      <td>139.34</td>\n      <td>139.400</td>\n      <td>18856</td>\n      <td>NaN</td>\n      <td>NaN</td>\n      <td>NaN</td>\n      <td>NaN</td>\n    </tr>\n    <tr>\n      <th>2020-01-02 10:30:00-05:00</th>\n      <td>139.460</td>\n      <td>139.54</td>\n      <td>139.28</td>\n      <td>139.535</td>\n      <td>19695</td>\n      <td>NaN</td>\n      <td>NaN</td>\n      <td>NaN</td>\n      <td>NaN</td>\n    </tr>\n  </tbody>\n</table>\n</div>"
     },
     "metadata": {},
     "execution_count": 59
    }
   ],
   "source": [
    "# Window size\n",
    "bollinger_band_window = 20\n",
    "num_standard_deviation = 2\n",
    "\n",
    "# Calculate mean and standard deviation\n",
    "df_ohlc['bollinger_band_middle'] = df_ohlc['close'].rolling(window=bollinger_band_window).mean()\n",
    "df_ohlc['bollinger_band_std'] = df_ohlc['close'].rolling(window=bollinger_band_window).std()\n",
    "\n",
    "# Calculate upper bollinger band and lower bollinger band\n",
    "df_ohlc['bollinger_band_upper'] = df_ohlc['bollinger_band_middle'] + (df_ohlc['bollinger_band_std'] * num_standard_deviation)\n",
    "df_ohlc['bollinger_band_lower'] = df_ohlc['bollinger_band_middle'] - (df_ohlc['bollinger_band_std'] * num_standard_deviation)\n",
    "\n",
    "df_ohlc.head()"
   ]
  },
  {
   "cell_type": "code",
   "execution_count": 60,
   "metadata": {},
   "outputs": [
    {
     "output_type": "execute_result",
     "data": {
      "text/plain": [
       "                              open     high      low    close  volume  \\\n",
       "2020-01-06 15:45:00-05:00  137.810  138.270  137.800  138.210   49640   \n",
       "2020-01-08 11:30:00-05:00  136.720  137.135  136.420  137.135   21206   \n",
       "2020-01-08 11:45:00-05:00  137.200  137.400  137.070  137.240   13245   \n",
       "2020-01-13 13:00:00-05:00  136.315  136.480  136.295  136.460    6740   \n",
       "2020-01-13 15:45:00-05:00  136.950  137.170  136.880  137.170   57073   \n",
       "\n",
       "                           bollinger_band_middle  bollinger_band_std  \\\n",
       "2020-01-06 15:45:00-05:00              137.65825            0.185304   \n",
       "2020-01-08 11:30:00-05:00              136.42250            0.318357   \n",
       "2020-01-08 11:45:00-05:00              136.48500            0.350098   \n",
       "2020-01-13 13:00:00-05:00              136.06925            0.178990   \n",
       "2020-01-13 15:45:00-05:00              136.44800            0.357095   \n",
       "\n",
       "                           bollinger_band_upper  bollinger_band_lower  \\\n",
       "2020-01-06 15:45:00-05:00            138.028858            137.287642   \n",
       "2020-01-08 11:30:00-05:00            137.059214            135.785786   \n",
       "2020-01-08 11:45:00-05:00            137.185195            135.784805   \n",
       "2020-01-13 13:00:00-05:00            136.427231            135.711269   \n",
       "2020-01-13 15:45:00-05:00            137.162190            135.733810   \n",
       "\n",
       "                           bollinger_band_long  \n",
       "2020-01-06 15:45:00-05:00                  1.0  \n",
       "2020-01-08 11:30:00-05:00                  1.0  \n",
       "2020-01-08 11:45:00-05:00                  1.0  \n",
       "2020-01-13 13:00:00-05:00                  1.0  \n",
       "2020-01-13 15:45:00-05:00                  1.0  "
      ],
      "text/html": "<div>\n<style scoped>\n    .dataframe tbody tr th:only-of-type {\n        vertical-align: middle;\n    }\n\n    .dataframe tbody tr th {\n        vertical-align: top;\n    }\n\n    .dataframe thead th {\n        text-align: right;\n    }\n</style>\n<table border=\"1\" class=\"dataframe\">\n  <thead>\n    <tr style=\"text-align: right;\">\n      <th></th>\n      <th>open</th>\n      <th>high</th>\n      <th>low</th>\n      <th>close</th>\n      <th>volume</th>\n      <th>bollinger_band_middle</th>\n      <th>bollinger_band_std</th>\n      <th>bollinger_band_upper</th>\n      <th>bollinger_band_lower</th>\n      <th>bollinger_band_long</th>\n    </tr>\n  </thead>\n  <tbody>\n    <tr>\n      <th>2020-01-06 15:45:00-05:00</th>\n      <td>137.810</td>\n      <td>138.270</td>\n      <td>137.800</td>\n      <td>138.210</td>\n      <td>49640</td>\n      <td>137.65825</td>\n      <td>0.185304</td>\n      <td>138.028858</td>\n      <td>137.287642</td>\n      <td>1.0</td>\n    </tr>\n    <tr>\n      <th>2020-01-08 11:30:00-05:00</th>\n      <td>136.720</td>\n      <td>137.135</td>\n      <td>136.420</td>\n      <td>137.135</td>\n      <td>21206</td>\n      <td>136.42250</td>\n      <td>0.318357</td>\n      <td>137.059214</td>\n      <td>135.785786</td>\n      <td>1.0</td>\n    </tr>\n    <tr>\n      <th>2020-01-08 11:45:00-05:00</th>\n      <td>137.200</td>\n      <td>137.400</td>\n      <td>137.070</td>\n      <td>137.240</td>\n      <td>13245</td>\n      <td>136.48500</td>\n      <td>0.350098</td>\n      <td>137.185195</td>\n      <td>135.784805</td>\n      <td>1.0</td>\n    </tr>\n    <tr>\n      <th>2020-01-13 13:00:00-05:00</th>\n      <td>136.315</td>\n      <td>136.480</td>\n      <td>136.295</td>\n      <td>136.460</td>\n      <td>6740</td>\n      <td>136.06925</td>\n      <td>0.178990</td>\n      <td>136.427231</td>\n      <td>135.711269</td>\n      <td>1.0</td>\n    </tr>\n    <tr>\n      <th>2020-01-13 15:45:00-05:00</th>\n      <td>136.950</td>\n      <td>137.170</td>\n      <td>136.880</td>\n      <td>137.170</td>\n      <td>57073</td>\n      <td>136.44800</td>\n      <td>0.357095</td>\n      <td>137.162190</td>\n      <td>135.733810</td>\n      <td>1.0</td>\n    </tr>\n  </tbody>\n</table>\n</div>"
     },
     "metadata": {},
     "execution_count": 60
    }
   ],
   "source": [
    "# Create signal for long\n",
    "df_ohlc['bollinger_band_long'] = np.where(df_ohlc['close'] > df_ohlc['bollinger_band_upper'], 1.0, 0.0)\n",
    "df_ohlc.loc[df_ohlc['bollinger_band_long'] == 1.0].head()"
   ]
  },
  {
   "cell_type": "code",
   "execution_count": 61,
   "metadata": {},
   "outputs": [
    {
     "output_type": "execute_result",
     "data": {
      "text/plain": [
       "open                     0\n",
       "high                     0\n",
       "low                      0\n",
       "close                    0\n",
       "volume                   0\n",
       "bollinger_band_middle    0\n",
       "bollinger_band_std       0\n",
       "bollinger_band_upper     0\n",
       "bollinger_band_lower     0\n",
       "bollinger_band_long      0\n",
       "dtype: int64"
      ]
     },
     "metadata": {},
     "execution_count": 61
    }
   ],
   "source": [
    "df_ohlc.dropna(inplace=True)\n",
    "df_ohlc.isna().sum()"
   ]
  },
  {
   "cell_type": "code",
   "execution_count": 62,
   "metadata": {},
   "outputs": [],
   "source": [
    "# Bollinger Band function to capture signal\n",
    "def bollinger_band_signal_generator(dataframe_name, closing_price_column_name = 'close', bollinger_band_window = 20, num_standard_deviation = 2):\n",
    "    \"\"\"Creates Bollinger Band indicator with signal for long position based on closing price\n",
    "    Args:\n",
    "        dataframe_name (dict): Single security dataframe containing at least closing prices\n",
    "        closing_price_column_name (str): Name of column in dataframe containing closing prices\n",
    "        bollinger_band_window (int): Desired timeframe window used for rolling calculations\n",
    "        num_standard_deviation (int): Desired number of standard deviations to calculate\n",
    "    Returns:\n",
    "        A dataframe of:\n",
    "            original data passed to function,\n",
    "            bollinger_band_middle (flt): Column of values for middle band,\n",
    "            bollinger_band_std (flt): Column of values to calculate standard deviation,\n",
    "            bollinger_band_upper (flt): Column of values for upper band,\n",
    "            bollinger_band_lower (flt): Column of values for lower band,\n",
    "            bollinger_band_long (flt): Column of generated signals (1.0 = True, 0.0 = False)\n",
    "            \"\"\"\n",
    "    # Calculate mean and standard deviation\n",
    "    dataframe_name['bollinger_band_middle'] = dataframe_name[closing_price_column_name].rolling(window=bollinger_band_window).mean()\n",
    "    dataframe_name['bollinger_band_std'] = dataframe_name[closing_price_column_name].rolling(window=bollinger_band_window).std()\n",
    "\n",
    "    # Calculate upper bollinger band and lower bollinger band\n",
    "    dataframe_name['bollinger_band_upper'] = dataframe_name['bollinger_band_middle'] + (dataframe_name['bollinger_band_std'] * num_standard_deviation)\n",
    "    dataframe_name['bollinger_band_lower'] = dataframe_name['bollinger_band_middle'] - (dataframe_name['bollinger_band_std'] * num_standard_deviation)\n",
    "\n",
    "    # Create signal column\n",
    "    dataframe_name['bollinger_band_long'] = np.where(dataframe_name[closing_price_column_name] > dataframe_name['bollinger_band_upper'], 1.0, 0.0)\n",
    "    \n",
    "    # Drop NaN values\n",
    "    dataframe_name.dropna(inplace=True)\n",
    "\n",
    "    # Return dataframe with features and target\n",
    "    return dataframe_name"
   ]
  },
  {
   "cell_type": "code",
   "execution_count": 63,
   "metadata": {},
   "outputs": [
    {
     "output_type": "execute_result",
     "data": {
      "text/plain": [
       "                              open     high      low    close  volume  \\\n",
       "2020-01-02 14:15:00-05:00  140.575  140.770  140.525  140.730   20048   \n",
       "2020-01-02 14:30:00-05:00  140.745  140.870  140.690  140.870   13698   \n",
       "2020-01-02 14:45:00-05:00  140.845  140.980  140.800  140.980   22353   \n",
       "2020-01-02 15:00:00-05:00  140.960  140.985  140.865  140.870   70068   \n",
       "2020-01-02 15:15:00-05:00  140.865  140.890  140.780  140.820   75963   \n",
       "2020-01-02 15:30:00-05:00  140.815  140.910  140.775  140.840   20290   \n",
       "2020-01-02 15:45:00-05:00  140.820  141.060  140.790  141.060  144672   \n",
       "2020-01-03 09:30:00-05:00  137.340  138.370  137.300  138.055   59857   \n",
       "2020-01-03 09:45:00-05:00  138.080  138.330  137.970  138.210   30184   \n",
       "2020-01-03 10:00:00-05:00  138.100  138.100  137.590  138.015   11921   \n",
       "2020-01-03 10:15:00-05:00  138.000  138.225  137.860  138.210   31879   \n",
       "2020-01-03 10:30:00-05:00  138.260  138.420  138.210  138.395    8107   \n",
       "2020-01-03 10:45:00-05:00  138.435  138.435  138.130  138.345    7302   \n",
       "2020-01-03 11:00:00-05:00  138.390  138.420  138.100  138.400    5904   \n",
       "2020-01-03 11:15:00-05:00  138.380  138.550  138.320  138.455    3991   \n",
       "2020-01-03 11:30:00-05:00  138.530  138.770  138.530  138.770    8160   \n",
       "2020-01-03 11:45:00-05:00  138.760  138.810  138.690  138.700    5720   \n",
       "2020-01-03 12:00:00-05:00  138.740  139.055  138.740  138.840    4154   \n",
       "2020-01-03 12:15:00-05:00  138.840  139.000  138.840  138.970    3478   \n",
       "2020-01-03 12:30:00-05:00  138.950  139.085  138.930  139.020    3480   \n",
       "2020-01-03 12:45:00-05:00  139.060  139.170  138.985  139.170    5531   \n",
       "2020-01-03 13:00:00-05:00  139.140  139.220  139.070  139.070    3954   \n",
       "2020-01-03 13:15:00-05:00  139.050  139.085  138.980  139.080    3774   \n",
       "2020-01-03 13:30:00-05:00  139.090  139.115  138.385  138.800   14640   \n",
       "2020-01-03 13:45:00-05:00  138.770  138.860  138.700  138.765    7150   \n",
       "2020-01-03 14:00:00-05:00  138.775  138.845  138.620  138.630    5029   \n",
       "2020-01-03 14:15:00-05:00  138.640  138.740  138.480  138.560    4863   \n",
       "2020-01-03 14:30:00-05:00  138.615  138.755  138.555  138.755    5797   \n",
       "2020-01-03 14:45:00-05:00  138.780  138.825  138.720  138.735  155715   \n",
       "2020-01-03 15:00:00-05:00  138.730  138.830  138.640  138.670   10189   \n",
       "\n",
       "                           bollinger_band_middle  bollinger_band_std  \\\n",
       "2020-01-02 14:15:00-05:00              140.19825            0.420517   \n",
       "2020-01-02 14:30:00-05:00              140.25825            0.426742   \n",
       "2020-01-02 14:45:00-05:00              140.32375            0.432200   \n",
       "2020-01-02 15:00:00-05:00              140.38525            0.417030   \n",
       "2020-01-02 15:15:00-05:00              140.45625            0.357023   \n",
       "2020-01-02 15:30:00-05:00              140.52150            0.293370   \n",
       "2020-01-02 15:45:00-05:00              140.57850            0.280831   \n",
       "2020-01-03 09:30:00-05:00              140.47825            0.623938   \n",
       "2020-01-03 09:45:00-05:00              140.38200            0.802579   \n",
       "2020-01-03 10:00:00-05:00              140.26925            0.961753   \n",
       "2020-01-03 10:15:00-05:00              140.15525            1.063912   \n",
       "2020-01-03 10:30:00-05:00              140.04950            1.129864   \n",
       "2020-01-03 10:45:00-05:00              139.93625            1.182991   \n",
       "2020-01-03 11:00:00-05:00              139.81975            1.215004   \n",
       "2020-01-03 11:15:00-05:00              139.71250            1.236978   \n",
       "2020-01-03 11:30:00-05:00              139.63300            1.244246   \n",
       "2020-01-03 11:45:00-05:00              139.54900            1.247865   \n",
       "2020-01-03 12:00:00-05:00              139.47325            1.242334   \n",
       "2020-01-03 12:15:00-05:00              139.40400            1.229127   \n",
       "2020-01-03 12:30:00-05:00              139.32775            1.201613   \n",
       "2020-01-03 12:45:00-05:00              139.24975            1.155548   \n",
       "2020-01-03 13:00:00-05:00              139.15975            1.091007   \n",
       "2020-01-03 13:15:00-05:00              139.06475            1.003367   \n",
       "2020-01-03 13:30:00-05:00              138.96125            0.909745   \n",
       "2020-01-03 13:45:00-05:00              138.85850            0.797942   \n",
       "2020-01-03 14:00:00-05:00              138.74800            0.648040   \n",
       "2020-01-03 14:15:00-05:00              138.62300            0.352186   \n",
       "2020-01-03 14:30:00-05:00              138.65800            0.326623   \n",
       "2020-01-03 14:45:00-05:00              138.68425            0.309364   \n",
       "2020-01-03 15:00:00-05:00              138.71700            0.266485   \n",
       "\n",
       "                           bollinger_band_upper  bollinger_band_lower  \\\n",
       "2020-01-02 14:15:00-05:00            141.039285            139.357215   \n",
       "2020-01-02 14:30:00-05:00            141.111734            139.404766   \n",
       "2020-01-02 14:45:00-05:00            141.188150            139.459350   \n",
       "2020-01-02 15:00:00-05:00            141.219311            139.551189   \n",
       "2020-01-02 15:15:00-05:00            141.170296            139.742204   \n",
       "2020-01-02 15:30:00-05:00            141.108240            139.934760   \n",
       "2020-01-02 15:45:00-05:00            141.140162            140.016838   \n",
       "2020-01-03 09:30:00-05:00            141.726125            139.230375   \n",
       "2020-01-03 09:45:00-05:00            141.987157            138.776843   \n",
       "2020-01-03 10:00:00-05:00            142.192756            138.345744   \n",
       "2020-01-03 10:15:00-05:00            142.283074            138.027426   \n",
       "2020-01-03 10:30:00-05:00            142.309227            137.789773   \n",
       "2020-01-03 10:45:00-05:00            142.302232            137.570268   \n",
       "2020-01-03 11:00:00-05:00            142.249759            137.389741   \n",
       "2020-01-03 11:15:00-05:00            142.186456            137.238544   \n",
       "2020-01-03 11:30:00-05:00            142.121492            137.144508   \n",
       "2020-01-03 11:45:00-05:00            142.044730            137.053270   \n",
       "2020-01-03 12:00:00-05:00            141.957917            136.988583   \n",
       "2020-01-03 12:15:00-05:00            141.862255            136.945745   \n",
       "2020-01-03 12:30:00-05:00            141.730977            136.924523   \n",
       "2020-01-03 12:45:00-05:00            141.560846            136.938654   \n",
       "2020-01-03 13:00:00-05:00            141.341764            136.977736   \n",
       "2020-01-03 13:15:00-05:00            141.071485            137.058015   \n",
       "2020-01-03 13:30:00-05:00            140.780741            137.141759   \n",
       "2020-01-03 13:45:00-05:00            140.454383            137.262617   \n",
       "2020-01-03 14:00:00-05:00            140.044081            137.451919   \n",
       "2020-01-03 14:15:00-05:00            139.327373            137.918627   \n",
       "2020-01-03 14:30:00-05:00            139.311246            138.004754   \n",
       "2020-01-03 14:45:00-05:00            139.302978            138.065522   \n",
       "2020-01-03 15:00:00-05:00            139.249970            138.184030   \n",
       "\n",
       "                           bollinger_band_long  \n",
       "2020-01-02 14:15:00-05:00                  0.0  \n",
       "2020-01-02 14:30:00-05:00                  0.0  \n",
       "2020-01-02 14:45:00-05:00                  0.0  \n",
       "2020-01-02 15:00:00-05:00                  0.0  \n",
       "2020-01-02 15:15:00-05:00                  0.0  \n",
       "2020-01-02 15:30:00-05:00                  0.0  \n",
       "2020-01-02 15:45:00-05:00                  0.0  \n",
       "2020-01-03 09:30:00-05:00                  0.0  \n",
       "2020-01-03 09:45:00-05:00                  0.0  \n",
       "2020-01-03 10:00:00-05:00                  0.0  \n",
       "2020-01-03 10:15:00-05:00                  0.0  \n",
       "2020-01-03 10:30:00-05:00                  0.0  \n",
       "2020-01-03 10:45:00-05:00                  0.0  \n",
       "2020-01-03 11:00:00-05:00                  0.0  \n",
       "2020-01-03 11:15:00-05:00                  0.0  \n",
       "2020-01-03 11:30:00-05:00                  0.0  \n",
       "2020-01-03 11:45:00-05:00                  0.0  \n",
       "2020-01-03 12:00:00-05:00                  0.0  \n",
       "2020-01-03 12:15:00-05:00                  0.0  \n",
       "2020-01-03 12:30:00-05:00                  0.0  \n",
       "2020-01-03 12:45:00-05:00                  0.0  \n",
       "2020-01-03 13:00:00-05:00                  0.0  \n",
       "2020-01-03 13:15:00-05:00                  0.0  \n",
       "2020-01-03 13:30:00-05:00                  0.0  \n",
       "2020-01-03 13:45:00-05:00                  0.0  \n",
       "2020-01-03 14:00:00-05:00                  0.0  \n",
       "2020-01-03 14:15:00-05:00                  0.0  \n",
       "2020-01-03 14:30:00-05:00                  0.0  \n",
       "2020-01-03 14:45:00-05:00                  0.0  \n",
       "2020-01-03 15:00:00-05:00                  0.0  "
      ],
      "text/html": "<div>\n<style scoped>\n    .dataframe tbody tr th:only-of-type {\n        vertical-align: middle;\n    }\n\n    .dataframe tbody tr th {\n        vertical-align: top;\n    }\n\n    .dataframe thead th {\n        text-align: right;\n    }\n</style>\n<table border=\"1\" class=\"dataframe\">\n  <thead>\n    <tr style=\"text-align: right;\">\n      <th></th>\n      <th>open</th>\n      <th>high</th>\n      <th>low</th>\n      <th>close</th>\n      <th>volume</th>\n      <th>bollinger_band_middle</th>\n      <th>bollinger_band_std</th>\n      <th>bollinger_band_upper</th>\n      <th>bollinger_band_lower</th>\n      <th>bollinger_band_long</th>\n    </tr>\n  </thead>\n  <tbody>\n    <tr>\n      <th>2020-01-02 14:15:00-05:00</th>\n      <td>140.575</td>\n      <td>140.770</td>\n      <td>140.525</td>\n      <td>140.730</td>\n      <td>20048</td>\n      <td>140.19825</td>\n      <td>0.420517</td>\n      <td>141.039285</td>\n      <td>139.357215</td>\n      <td>0.0</td>\n    </tr>\n    <tr>\n      <th>2020-01-02 14:30:00-05:00</th>\n      <td>140.745</td>\n      <td>140.870</td>\n      <td>140.690</td>\n      <td>140.870</td>\n      <td>13698</td>\n      <td>140.25825</td>\n      <td>0.426742</td>\n      <td>141.111734</td>\n      <td>139.404766</td>\n      <td>0.0</td>\n    </tr>\n    <tr>\n      <th>2020-01-02 14:45:00-05:00</th>\n      <td>140.845</td>\n      <td>140.980</td>\n      <td>140.800</td>\n      <td>140.980</td>\n      <td>22353</td>\n      <td>140.32375</td>\n      <td>0.432200</td>\n      <td>141.188150</td>\n      <td>139.459350</td>\n      <td>0.0</td>\n    </tr>\n    <tr>\n      <th>2020-01-02 15:00:00-05:00</th>\n      <td>140.960</td>\n      <td>140.985</td>\n      <td>140.865</td>\n      <td>140.870</td>\n      <td>70068</td>\n      <td>140.38525</td>\n      <td>0.417030</td>\n      <td>141.219311</td>\n      <td>139.551189</td>\n      <td>0.0</td>\n    </tr>\n    <tr>\n      <th>2020-01-02 15:15:00-05:00</th>\n      <td>140.865</td>\n      <td>140.890</td>\n      <td>140.780</td>\n      <td>140.820</td>\n      <td>75963</td>\n      <td>140.45625</td>\n      <td>0.357023</td>\n      <td>141.170296</td>\n      <td>139.742204</td>\n      <td>0.0</td>\n    </tr>\n    <tr>\n      <th>2020-01-02 15:30:00-05:00</th>\n      <td>140.815</td>\n      <td>140.910</td>\n      <td>140.775</td>\n      <td>140.840</td>\n      <td>20290</td>\n      <td>140.52150</td>\n      <td>0.293370</td>\n      <td>141.108240</td>\n      <td>139.934760</td>\n      <td>0.0</td>\n    </tr>\n    <tr>\n      <th>2020-01-02 15:45:00-05:00</th>\n      <td>140.820</td>\n      <td>141.060</td>\n      <td>140.790</td>\n      <td>141.060</td>\n      <td>144672</td>\n      <td>140.57850</td>\n      <td>0.280831</td>\n      <td>141.140162</td>\n      <td>140.016838</td>\n      <td>0.0</td>\n    </tr>\n    <tr>\n      <th>2020-01-03 09:30:00-05:00</th>\n      <td>137.340</td>\n      <td>138.370</td>\n      <td>137.300</td>\n      <td>138.055</td>\n      <td>59857</td>\n      <td>140.47825</td>\n      <td>0.623938</td>\n      <td>141.726125</td>\n      <td>139.230375</td>\n      <td>0.0</td>\n    </tr>\n    <tr>\n      <th>2020-01-03 09:45:00-05:00</th>\n      <td>138.080</td>\n      <td>138.330</td>\n      <td>137.970</td>\n      <td>138.210</td>\n      <td>30184</td>\n      <td>140.38200</td>\n      <td>0.802579</td>\n      <td>141.987157</td>\n      <td>138.776843</td>\n      <td>0.0</td>\n    </tr>\n    <tr>\n      <th>2020-01-03 10:00:00-05:00</th>\n      <td>138.100</td>\n      <td>138.100</td>\n      <td>137.590</td>\n      <td>138.015</td>\n      <td>11921</td>\n      <td>140.26925</td>\n      <td>0.961753</td>\n      <td>142.192756</td>\n      <td>138.345744</td>\n      <td>0.0</td>\n    </tr>\n    <tr>\n      <th>2020-01-03 10:15:00-05:00</th>\n      <td>138.000</td>\n      <td>138.225</td>\n      <td>137.860</td>\n      <td>138.210</td>\n      <td>31879</td>\n      <td>140.15525</td>\n      <td>1.063912</td>\n      <td>142.283074</td>\n      <td>138.027426</td>\n      <td>0.0</td>\n    </tr>\n    <tr>\n      <th>2020-01-03 10:30:00-05:00</th>\n      <td>138.260</td>\n      <td>138.420</td>\n      <td>138.210</td>\n      <td>138.395</td>\n      <td>8107</td>\n      <td>140.04950</td>\n      <td>1.129864</td>\n      <td>142.309227</td>\n      <td>137.789773</td>\n      <td>0.0</td>\n    </tr>\n    <tr>\n      <th>2020-01-03 10:45:00-05:00</th>\n      <td>138.435</td>\n      <td>138.435</td>\n      <td>138.130</td>\n      <td>138.345</td>\n      <td>7302</td>\n      <td>139.93625</td>\n      <td>1.182991</td>\n      <td>142.302232</td>\n      <td>137.570268</td>\n      <td>0.0</td>\n    </tr>\n    <tr>\n      <th>2020-01-03 11:00:00-05:00</th>\n      <td>138.390</td>\n      <td>138.420</td>\n      <td>138.100</td>\n      <td>138.400</td>\n      <td>5904</td>\n      <td>139.81975</td>\n      <td>1.215004</td>\n      <td>142.249759</td>\n      <td>137.389741</td>\n      <td>0.0</td>\n    </tr>\n    <tr>\n      <th>2020-01-03 11:15:00-05:00</th>\n      <td>138.380</td>\n      <td>138.550</td>\n      <td>138.320</td>\n      <td>138.455</td>\n      <td>3991</td>\n      <td>139.71250</td>\n      <td>1.236978</td>\n      <td>142.186456</td>\n      <td>137.238544</td>\n      <td>0.0</td>\n    </tr>\n    <tr>\n      <th>2020-01-03 11:30:00-05:00</th>\n      <td>138.530</td>\n      <td>138.770</td>\n      <td>138.530</td>\n      <td>138.770</td>\n      <td>8160</td>\n      <td>139.63300</td>\n      <td>1.244246</td>\n      <td>142.121492</td>\n      <td>137.144508</td>\n      <td>0.0</td>\n    </tr>\n    <tr>\n      <th>2020-01-03 11:45:00-05:00</th>\n      <td>138.760</td>\n      <td>138.810</td>\n      <td>138.690</td>\n      <td>138.700</td>\n      <td>5720</td>\n      <td>139.54900</td>\n      <td>1.247865</td>\n      <td>142.044730</td>\n      <td>137.053270</td>\n      <td>0.0</td>\n    </tr>\n    <tr>\n      <th>2020-01-03 12:00:00-05:00</th>\n      <td>138.740</td>\n      <td>139.055</td>\n      <td>138.740</td>\n      <td>138.840</td>\n      <td>4154</td>\n      <td>139.47325</td>\n      <td>1.242334</td>\n      <td>141.957917</td>\n      <td>136.988583</td>\n      <td>0.0</td>\n    </tr>\n    <tr>\n      <th>2020-01-03 12:15:00-05:00</th>\n      <td>138.840</td>\n      <td>139.000</td>\n      <td>138.840</td>\n      <td>138.970</td>\n      <td>3478</td>\n      <td>139.40400</td>\n      <td>1.229127</td>\n      <td>141.862255</td>\n      <td>136.945745</td>\n      <td>0.0</td>\n    </tr>\n    <tr>\n      <th>2020-01-03 12:30:00-05:00</th>\n      <td>138.950</td>\n      <td>139.085</td>\n      <td>138.930</td>\n      <td>139.020</td>\n      <td>3480</td>\n      <td>139.32775</td>\n      <td>1.201613</td>\n      <td>141.730977</td>\n      <td>136.924523</td>\n      <td>0.0</td>\n    </tr>\n    <tr>\n      <th>2020-01-03 12:45:00-05:00</th>\n      <td>139.060</td>\n      <td>139.170</td>\n      <td>138.985</td>\n      <td>139.170</td>\n      <td>5531</td>\n      <td>139.24975</td>\n      <td>1.155548</td>\n      <td>141.560846</td>\n      <td>136.938654</td>\n      <td>0.0</td>\n    </tr>\n    <tr>\n      <th>2020-01-03 13:00:00-05:00</th>\n      <td>139.140</td>\n      <td>139.220</td>\n      <td>139.070</td>\n      <td>139.070</td>\n      <td>3954</td>\n      <td>139.15975</td>\n      <td>1.091007</td>\n      <td>141.341764</td>\n      <td>136.977736</td>\n      <td>0.0</td>\n    </tr>\n    <tr>\n      <th>2020-01-03 13:15:00-05:00</th>\n      <td>139.050</td>\n      <td>139.085</td>\n      <td>138.980</td>\n      <td>139.080</td>\n      <td>3774</td>\n      <td>139.06475</td>\n      <td>1.003367</td>\n      <td>141.071485</td>\n      <td>137.058015</td>\n      <td>0.0</td>\n    </tr>\n    <tr>\n      <th>2020-01-03 13:30:00-05:00</th>\n      <td>139.090</td>\n      <td>139.115</td>\n      <td>138.385</td>\n      <td>138.800</td>\n      <td>14640</td>\n      <td>138.96125</td>\n      <td>0.909745</td>\n      <td>140.780741</td>\n      <td>137.141759</td>\n      <td>0.0</td>\n    </tr>\n    <tr>\n      <th>2020-01-03 13:45:00-05:00</th>\n      <td>138.770</td>\n      <td>138.860</td>\n      <td>138.700</td>\n      <td>138.765</td>\n      <td>7150</td>\n      <td>138.85850</td>\n      <td>0.797942</td>\n      <td>140.454383</td>\n      <td>137.262617</td>\n      <td>0.0</td>\n    </tr>\n    <tr>\n      <th>2020-01-03 14:00:00-05:00</th>\n      <td>138.775</td>\n      <td>138.845</td>\n      <td>138.620</td>\n      <td>138.630</td>\n      <td>5029</td>\n      <td>138.74800</td>\n      <td>0.648040</td>\n      <td>140.044081</td>\n      <td>137.451919</td>\n      <td>0.0</td>\n    </tr>\n    <tr>\n      <th>2020-01-03 14:15:00-05:00</th>\n      <td>138.640</td>\n      <td>138.740</td>\n      <td>138.480</td>\n      <td>138.560</td>\n      <td>4863</td>\n      <td>138.62300</td>\n      <td>0.352186</td>\n      <td>139.327373</td>\n      <td>137.918627</td>\n      <td>0.0</td>\n    </tr>\n    <tr>\n      <th>2020-01-03 14:30:00-05:00</th>\n      <td>138.615</td>\n      <td>138.755</td>\n      <td>138.555</td>\n      <td>138.755</td>\n      <td>5797</td>\n      <td>138.65800</td>\n      <td>0.326623</td>\n      <td>139.311246</td>\n      <td>138.004754</td>\n      <td>0.0</td>\n    </tr>\n    <tr>\n      <th>2020-01-03 14:45:00-05:00</th>\n      <td>138.780</td>\n      <td>138.825</td>\n      <td>138.720</td>\n      <td>138.735</td>\n      <td>155715</td>\n      <td>138.68425</td>\n      <td>0.309364</td>\n      <td>139.302978</td>\n      <td>138.065522</td>\n      <td>0.0</td>\n    </tr>\n    <tr>\n      <th>2020-01-03 15:00:00-05:00</th>\n      <td>138.730</td>\n      <td>138.830</td>\n      <td>138.640</td>\n      <td>138.670</td>\n      <td>10189</td>\n      <td>138.71700</td>\n      <td>0.266485</td>\n      <td>139.249970</td>\n      <td>138.184030</td>\n      <td>0.0</td>\n    </tr>\n  </tbody>\n</table>\n</div>"
     },
     "metadata": {},
     "execution_count": 63
    }
   ],
   "source": [
    "# Test bollinger band function\n",
    "testing_df = df_ohlc_original['JPM']\n",
    "new_boll_df = bollinger_band_signal_generator(testing_df, 'close')\n",
    "new_boll_df[:30]"
   ]
  },
  {
   "cell_type": "code",
   "execution_count": 76,
   "metadata": {},
   "outputs": [
    {
     "output_type": "execute_result",
     "data": {
      "text/plain": [
       "open                     108.260284\n",
       "high                     108.868969\n",
       "low                      107.668265\n",
       "close                    108.248532\n",
       "volume                     8.663646\n",
       "bollinger_band_middle    108.259304\n",
       "bollinger_band_std        17.875607\n",
       "bollinger_band_upper     111.488936\n",
       "bollinger_band_lower     104.310552\n",
       "bollinger_band_long        4.139105\n",
       "dtype: float64"
      ]
     },
     "metadata": {},
     "execution_count": 76
    }
   ],
   "source": [
    "# Metrics/Indicators\n",
    "sharpe_ratio = (new_boll_df.mean()*252) / (new_boll_df.std() * np.sqrt(252))\n",
    "sharpe_ratio"
   ]
  },
  {
   "cell_type": "code",
   "execution_count": 77,
   "metadata": {},
   "outputs": [],
   "source": [
    "# Historical Price Vol\n",
    "\n",
    "# calc daily logarithmic return\n",
    "new_boll_df['returns'] = (np.log(new_boll_df.close / new_boll_df.close.shift(-1)))\n",
    "\n",
    "# calc daily std of returns\n",
    "daily_std = np.std(new_boll_df.returns)\n",
    "\n",
    "# annualized daily std\n",
    "std = daily_std * 252 ** 0.5"
   ]
  },
  {
   "cell_type": "code",
   "execution_count": 3,
   "metadata": {},
   "outputs": [],
   "source": [
    "# Implied Vol"
   ]
  },
  {
   "cell_type": "code",
   "execution_count": 5,
   "metadata": {},
   "outputs": [],
   "source": [
    "# Sortino Ratio"
   ]
  },
  {
   "cell_type": "code",
   "execution_count": null,
   "metadata": {},
   "outputs": [],
   "source": []
  }
 ]
}