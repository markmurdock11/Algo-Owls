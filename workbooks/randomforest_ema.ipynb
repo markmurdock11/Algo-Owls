{
 "metadata": {
  "language_info": {
   "codemirror_mode": {
    "name": "ipython",
    "version": 3
   },
   "file_extension": ".py",
   "mimetype": "text/x-python",
   "name": "python",
   "nbconvert_exporter": "python",
   "pygments_lexer": "ipython3",
   "version": "3.8.5-final"
  },
  "orig_nbformat": 2,
  "kernelspec": {
   "name": "python3",
   "display_name": "Python 3.8.5 64-bit ('project2': conda)",
   "metadata": {
    "interpreter": {
     "hash": "9ee557f5893fe86b807f8e83c995d71c87da1e8a07bba49603534fad992d4e2f"
    }
   }
  }
 },
 "nbformat": 4,
 "nbformat_minor": 2,
 "cells": [
  {
   "cell_type": "code",
   "execution_count": 1,
   "metadata": {},
   "outputs": [],
   "source": [
    "# Random forest model for EMA crossover identifier\n",
    "import pandas as pd\n",
    "import numpy as np\n",
    "from pathlib import Path\n",
    "%matplotlib inline\n",
    "\n",
    "import warnings\n",
    "warnings.filterwarnings('ignore')"
   ]
  },
  {
   "cell_type": "code",
   "execution_count": 2,
   "metadata": {},
   "outputs": [
    {
     "output_type": "execute_result",
     "data": {
      "text/plain": [
       "PosixPath('../Resources/ts_emax_x_squeeze.csv')"
      ]
     },
     "metadata": {},
     "execution_count": 2
    }
   ],
   "source": [
    "csv_path = Path('../Resources/ts_emax_x_squeeze.csv')\n",
    "csv_path"
   ]
  },
  {
   "cell_type": "code",
   "execution_count": 3,
   "metadata": {},
   "outputs": [
    {
     "output_type": "execute_result",
     "data": {
      "text/plain": [
       "                Date_Time    Open    High     Low   Close     Vol      OI  \\\n",
       "19600 2021-01-12 14:00:00  140.46  140.58  140.34  140.46  152792  140537   \n",
       "19601 2021-01-12 14:15:00  140.47  140.92  140.47  140.60  170378  174631   \n",
       "19602 2021-01-12 14:30:00  140.61  140.75  140.42  140.48  177439  178475   \n",
       "19603 2021-01-12 14:45:00  140.47  140.50  140.10  140.17  205777  182808   \n",
       "19604 2021-01-12 15:00:00  140.18  140.63  140.14  140.21  502297  446696   \n",
       "\n",
       "       UpperBand  LowerBand  MidLine  UpperBand.1  LowerBand.1  MidLine.1  \\\n",
       "19600     142.13     139.93   141.03       141.69       140.37     141.03   \n",
       "19601     142.04     139.98   141.01       141.69       140.33     141.01   \n",
       "19602     141.98     139.99   140.99       141.71       140.27     140.99   \n",
       "19603     141.92     139.99   140.95       141.76       140.15     140.95   \n",
       "19604     141.81     139.98   140.89       141.72       140.06     140.89   \n",
       "\n",
       "       FastEMA  SlowEMA  squeeze  emax_signal  \n",
       "19600   140.76   140.44      1.0          0.0  \n",
       "19601   140.73   140.46      1.0          0.0  \n",
       "19602   140.68   140.46      1.0          0.0  \n",
       "19603   140.58   140.43      1.0          0.0  \n",
       "19604   140.51   140.41      1.0          0.0  "
      ],
      "text/html": "<div>\n<style scoped>\n    .dataframe tbody tr th:only-of-type {\n        vertical-align: middle;\n    }\n\n    .dataframe tbody tr th {\n        vertical-align: top;\n    }\n\n    .dataframe thead th {\n        text-align: right;\n    }\n</style>\n<table border=\"1\" class=\"dataframe\">\n  <thead>\n    <tr style=\"text-align: right;\">\n      <th></th>\n      <th>Date_Time</th>\n      <th>Open</th>\n      <th>High</th>\n      <th>Low</th>\n      <th>Close</th>\n      <th>Vol</th>\n      <th>OI</th>\n      <th>UpperBand</th>\n      <th>LowerBand</th>\n      <th>MidLine</th>\n      <th>UpperBand.1</th>\n      <th>LowerBand.1</th>\n      <th>MidLine.1</th>\n      <th>FastEMA</th>\n      <th>SlowEMA</th>\n      <th>squeeze</th>\n      <th>emax_signal</th>\n    </tr>\n  </thead>\n  <tbody>\n    <tr>\n      <th>19600</th>\n      <td>2021-01-12 14:00:00</td>\n      <td>140.46</td>\n      <td>140.58</td>\n      <td>140.34</td>\n      <td>140.46</td>\n      <td>152792</td>\n      <td>140537</td>\n      <td>142.13</td>\n      <td>139.93</td>\n      <td>141.03</td>\n      <td>141.69</td>\n      <td>140.37</td>\n      <td>141.03</td>\n      <td>140.76</td>\n      <td>140.44</td>\n      <td>1.0</td>\n      <td>0.0</td>\n    </tr>\n    <tr>\n      <th>19601</th>\n      <td>2021-01-12 14:15:00</td>\n      <td>140.47</td>\n      <td>140.92</td>\n      <td>140.47</td>\n      <td>140.60</td>\n      <td>170378</td>\n      <td>174631</td>\n      <td>142.04</td>\n      <td>139.98</td>\n      <td>141.01</td>\n      <td>141.69</td>\n      <td>140.33</td>\n      <td>141.01</td>\n      <td>140.73</td>\n      <td>140.46</td>\n      <td>1.0</td>\n      <td>0.0</td>\n    </tr>\n    <tr>\n      <th>19602</th>\n      <td>2021-01-12 14:30:00</td>\n      <td>140.61</td>\n      <td>140.75</td>\n      <td>140.42</td>\n      <td>140.48</td>\n      <td>177439</td>\n      <td>178475</td>\n      <td>141.98</td>\n      <td>139.99</td>\n      <td>140.99</td>\n      <td>141.71</td>\n      <td>140.27</td>\n      <td>140.99</td>\n      <td>140.68</td>\n      <td>140.46</td>\n      <td>1.0</td>\n      <td>0.0</td>\n    </tr>\n    <tr>\n      <th>19603</th>\n      <td>2021-01-12 14:45:00</td>\n      <td>140.47</td>\n      <td>140.50</td>\n      <td>140.10</td>\n      <td>140.17</td>\n      <td>205777</td>\n      <td>182808</td>\n      <td>141.92</td>\n      <td>139.99</td>\n      <td>140.95</td>\n      <td>141.76</td>\n      <td>140.15</td>\n      <td>140.95</td>\n      <td>140.58</td>\n      <td>140.43</td>\n      <td>1.0</td>\n      <td>0.0</td>\n    </tr>\n    <tr>\n      <th>19604</th>\n      <td>2021-01-12 15:00:00</td>\n      <td>140.18</td>\n      <td>140.63</td>\n      <td>140.14</td>\n      <td>140.21</td>\n      <td>502297</td>\n      <td>446696</td>\n      <td>141.81</td>\n      <td>139.98</td>\n      <td>140.89</td>\n      <td>141.72</td>\n      <td>140.06</td>\n      <td>140.89</td>\n      <td>140.51</td>\n      <td>140.41</td>\n      <td>1.0</td>\n      <td>0.0</td>\n    </tr>\n  </tbody>\n</table>\n</div>"
     },
     "metadata": {},
     "execution_count": 3
    }
   ],
   "source": [
    "ts_file_df = pd.read_csv(csv_path, parse_dates=[['Date', 'Time']])\n",
    "ts_file_df.tail()"
   ]
  },
  {
   "cell_type": "code",
   "execution_count": 4,
   "metadata": {},
   "outputs": [
    {
     "output_type": "execute_result",
     "data": {
      "text/plain": [
       "                       Open    High     Low   Close      Vol       OI  \\\n",
       "Date_Time                                                               \n",
       "2018-01-12 08:45:00  111.65  111.98  110.84  111.22  1051611  1206429   \n",
       "2018-01-12 09:00:00  111.21  112.04  111.17  111.93   645133   604771   \n",
       "2018-01-12 09:15:00  111.93  112.20  111.87  112.13   541130   492175   \n",
       "2018-01-12 09:30:00  112.13  112.18  111.56  111.91   332412   418068   \n",
       "2018-01-12 09:45:00  111.91  112.24  111.85  111.97   281205   290538   \n",
       "\n",
       "                     UpperBand  LowerBand  MidLine  UpperBand.1  LowerBand.1  \\\n",
       "Date_Time                                                                      \n",
       "2018-01-12 08:45:00        0.0        0.0      0.0          0.0          0.0   \n",
       "2018-01-12 09:00:00        0.0        0.0      0.0          0.0          0.0   \n",
       "2018-01-12 09:15:00        0.0        0.0      0.0          0.0          0.0   \n",
       "2018-01-12 09:30:00        0.0        0.0      0.0          0.0          0.0   \n",
       "2018-01-12 09:45:00        0.0        0.0      0.0          0.0          0.0   \n",
       "\n",
       "                     FastEMA  SlowEMA  squeeze  emax_signal  \n",
       "Date_Time                                                    \n",
       "2018-01-12 08:45:00     0.00     0.00      0.0          0.0  \n",
       "2018-01-12 09:00:00   111.93   111.93      0.0          0.0  \n",
       "2018-01-12 09:15:00   111.97   111.95      0.0          0.0  \n",
       "2018-01-12 09:30:00   111.96   111.94      0.0          0.0  \n",
       "2018-01-12 09:45:00   111.96   111.95      0.0          0.0  "
      ],
      "text/html": "<div>\n<style scoped>\n    .dataframe tbody tr th:only-of-type {\n        vertical-align: middle;\n    }\n\n    .dataframe tbody tr th {\n        vertical-align: top;\n    }\n\n    .dataframe thead th {\n        text-align: right;\n    }\n</style>\n<table border=\"1\" class=\"dataframe\">\n  <thead>\n    <tr style=\"text-align: right;\">\n      <th></th>\n      <th>Open</th>\n      <th>High</th>\n      <th>Low</th>\n      <th>Close</th>\n      <th>Vol</th>\n      <th>OI</th>\n      <th>UpperBand</th>\n      <th>LowerBand</th>\n      <th>MidLine</th>\n      <th>UpperBand.1</th>\n      <th>LowerBand.1</th>\n      <th>FastEMA</th>\n      <th>SlowEMA</th>\n      <th>squeeze</th>\n      <th>emax_signal</th>\n    </tr>\n    <tr>\n      <th>Date_Time</th>\n      <th></th>\n      <th></th>\n      <th></th>\n      <th></th>\n      <th></th>\n      <th></th>\n      <th></th>\n      <th></th>\n      <th></th>\n      <th></th>\n      <th></th>\n      <th></th>\n      <th></th>\n      <th></th>\n      <th></th>\n    </tr>\n  </thead>\n  <tbody>\n    <tr>\n      <th>2018-01-12 08:45:00</th>\n      <td>111.65</td>\n      <td>111.98</td>\n      <td>110.84</td>\n      <td>111.22</td>\n      <td>1051611</td>\n      <td>1206429</td>\n      <td>0.0</td>\n      <td>0.0</td>\n      <td>0.0</td>\n      <td>0.0</td>\n      <td>0.0</td>\n      <td>0.00</td>\n      <td>0.00</td>\n      <td>0.0</td>\n      <td>0.0</td>\n    </tr>\n    <tr>\n      <th>2018-01-12 09:00:00</th>\n      <td>111.21</td>\n      <td>112.04</td>\n      <td>111.17</td>\n      <td>111.93</td>\n      <td>645133</td>\n      <td>604771</td>\n      <td>0.0</td>\n      <td>0.0</td>\n      <td>0.0</td>\n      <td>0.0</td>\n      <td>0.0</td>\n      <td>111.93</td>\n      <td>111.93</td>\n      <td>0.0</td>\n      <td>0.0</td>\n    </tr>\n    <tr>\n      <th>2018-01-12 09:15:00</th>\n      <td>111.93</td>\n      <td>112.20</td>\n      <td>111.87</td>\n      <td>112.13</td>\n      <td>541130</td>\n      <td>492175</td>\n      <td>0.0</td>\n      <td>0.0</td>\n      <td>0.0</td>\n      <td>0.0</td>\n      <td>0.0</td>\n      <td>111.97</td>\n      <td>111.95</td>\n      <td>0.0</td>\n      <td>0.0</td>\n    </tr>\n    <tr>\n      <th>2018-01-12 09:30:00</th>\n      <td>112.13</td>\n      <td>112.18</td>\n      <td>111.56</td>\n      <td>111.91</td>\n      <td>332412</td>\n      <td>418068</td>\n      <td>0.0</td>\n      <td>0.0</td>\n      <td>0.0</td>\n      <td>0.0</td>\n      <td>0.0</td>\n      <td>111.96</td>\n      <td>111.94</td>\n      <td>0.0</td>\n      <td>0.0</td>\n    </tr>\n    <tr>\n      <th>2018-01-12 09:45:00</th>\n      <td>111.91</td>\n      <td>112.24</td>\n      <td>111.85</td>\n      <td>111.97</td>\n      <td>281205</td>\n      <td>290538</td>\n      <td>0.0</td>\n      <td>0.0</td>\n      <td>0.0</td>\n      <td>0.0</td>\n      <td>0.0</td>\n      <td>111.96</td>\n      <td>111.95</td>\n      <td>0.0</td>\n      <td>0.0</td>\n    </tr>\n  </tbody>\n</table>\n</div>"
     },
     "metadata": {},
     "execution_count": 4
    }
   ],
   "source": [
    "# set index as Date_Time and drop MidLine.1 column (it is a duplicate of MidLine)\n",
    "ts_file_df.set_index(pd.to_datetime(ts_file_df['Date_Time'], infer_datetime_format=True), inplace=True)\n",
    "ts_file_df.drop(columns=['Date_Time', 'MidLine.1'], inplace=True)\n",
    "ts_file_df.head()"
   ]
  },
  {
   "cell_type": "code",
   "execution_count": 5,
   "metadata": {},
   "outputs": [
    {
     "output_type": "error",
     "ename": "KeyError",
     "evalue": "\"['Up', 'kcup', 'bblo', 'bbup', 'kclo', 'Down'] not in index\"",
     "traceback": [
      "\u001b[0;31m---------------------------------------------------------------------------\u001b[0m",
      "\u001b[0;31mKeyError\u001b[0m                                  Traceback (most recent call last)",
      "\u001b[0;32m<ipython-input-5-89b8a46c564d>\u001b[0m in \u001b[0;36m<module>\u001b[0;34m\u001b[0m\n\u001b[1;32m      2\u001b[0m \u001b[0;34m\u001b[0m\u001b[0m\n\u001b[1;32m      3\u001b[0m \u001b[0mx_var_list\u001b[0m \u001b[0;34m=\u001b[0m \u001b[0;34m[\u001b[0m\u001b[0;34m'Open'\u001b[0m\u001b[0;34m,\u001b[0m \u001b[0;34m'High'\u001b[0m\u001b[0;34m,\u001b[0m \u001b[0;34m'Low'\u001b[0m\u001b[0;34m,\u001b[0m \u001b[0;34m'Close'\u001b[0m\u001b[0;34m,\u001b[0m \u001b[0;34m'Up'\u001b[0m\u001b[0;34m,\u001b[0m \u001b[0;34m'Down'\u001b[0m\u001b[0;34m,\u001b[0m \u001b[0;34m'kcup'\u001b[0m\u001b[0;34m,\u001b[0m \u001b[0;34m'kclo'\u001b[0m\u001b[0;34m,\u001b[0m \u001b[0;34m'MidLine'\u001b[0m\u001b[0;34m,\u001b[0m \u001b[0;34m'bbup'\u001b[0m\u001b[0;34m,\u001b[0m \u001b[0;34m'bblo'\u001b[0m\u001b[0;34m,\u001b[0m \u001b[0;34m'FastEMA'\u001b[0m\u001b[0;34m,\u001b[0m \u001b[0;34m'SlowEMA'\u001b[0m\u001b[0;34m]\u001b[0m\u001b[0;34m\u001b[0m\u001b[0;34m\u001b[0m\u001b[0m\n\u001b[0;32m----> 4\u001b[0;31m \u001b[0mts_file_df\u001b[0m\u001b[0;34m[\u001b[0m\u001b[0mx_var_list\u001b[0m\u001b[0;34m]\u001b[0m\u001b[0;34m.\u001b[0m\u001b[0mhead\u001b[0m\u001b[0;34m(\u001b[0m\u001b[0;34m)\u001b[0m\u001b[0;34m\u001b[0m\u001b[0;34m\u001b[0m\u001b[0m\n\u001b[0m",
      "\u001b[0;32m~/opt/anaconda3/envs/project2/lib/python3.8/site-packages/pandas/core/frame.py\u001b[0m in \u001b[0;36m__getitem__\u001b[0;34m(self, key)\u001b[0m\n\u001b[1;32m   2906\u001b[0m             \u001b[0;32mif\u001b[0m \u001b[0mis_iterator\u001b[0m\u001b[0;34m(\u001b[0m\u001b[0mkey\u001b[0m\u001b[0;34m)\u001b[0m\u001b[0;34m:\u001b[0m\u001b[0;34m\u001b[0m\u001b[0;34m\u001b[0m\u001b[0m\n\u001b[1;32m   2907\u001b[0m                 \u001b[0mkey\u001b[0m \u001b[0;34m=\u001b[0m \u001b[0mlist\u001b[0m\u001b[0;34m(\u001b[0m\u001b[0mkey\u001b[0m\u001b[0;34m)\u001b[0m\u001b[0;34m\u001b[0m\u001b[0;34m\u001b[0m\u001b[0m\n\u001b[0;32m-> 2908\u001b[0;31m             \u001b[0mindexer\u001b[0m \u001b[0;34m=\u001b[0m \u001b[0mself\u001b[0m\u001b[0;34m.\u001b[0m\u001b[0mloc\u001b[0m\u001b[0;34m.\u001b[0m\u001b[0m_get_listlike_indexer\u001b[0m\u001b[0;34m(\u001b[0m\u001b[0mkey\u001b[0m\u001b[0;34m,\u001b[0m \u001b[0maxis\u001b[0m\u001b[0;34m=\u001b[0m\u001b[0;36m1\u001b[0m\u001b[0;34m,\u001b[0m \u001b[0mraise_missing\u001b[0m\u001b[0;34m=\u001b[0m\u001b[0;32mTrue\u001b[0m\u001b[0;34m)\u001b[0m\u001b[0;34m[\u001b[0m\u001b[0;36m1\u001b[0m\u001b[0;34m]\u001b[0m\u001b[0;34m\u001b[0m\u001b[0;34m\u001b[0m\u001b[0m\n\u001b[0m\u001b[1;32m   2909\u001b[0m \u001b[0;34m\u001b[0m\u001b[0m\n\u001b[1;32m   2910\u001b[0m         \u001b[0;31m# take() does not accept boolean indexers\u001b[0m\u001b[0;34m\u001b[0m\u001b[0;34m\u001b[0m\u001b[0;34m\u001b[0m\u001b[0m\n",
      "\u001b[0;32m~/opt/anaconda3/envs/project2/lib/python3.8/site-packages/pandas/core/indexing.py\u001b[0m in \u001b[0;36m_get_listlike_indexer\u001b[0;34m(self, key, axis, raise_missing)\u001b[0m\n\u001b[1;32m   1252\u001b[0m             \u001b[0mkeyarr\u001b[0m\u001b[0;34m,\u001b[0m \u001b[0mindexer\u001b[0m\u001b[0;34m,\u001b[0m \u001b[0mnew_indexer\u001b[0m \u001b[0;34m=\u001b[0m \u001b[0max\u001b[0m\u001b[0;34m.\u001b[0m\u001b[0m_reindex_non_unique\u001b[0m\u001b[0;34m(\u001b[0m\u001b[0mkeyarr\u001b[0m\u001b[0;34m)\u001b[0m\u001b[0;34m\u001b[0m\u001b[0;34m\u001b[0m\u001b[0m\n\u001b[1;32m   1253\u001b[0m \u001b[0;34m\u001b[0m\u001b[0m\n\u001b[0;32m-> 1254\u001b[0;31m         \u001b[0mself\u001b[0m\u001b[0;34m.\u001b[0m\u001b[0m_validate_read_indexer\u001b[0m\u001b[0;34m(\u001b[0m\u001b[0mkeyarr\u001b[0m\u001b[0;34m,\u001b[0m \u001b[0mindexer\u001b[0m\u001b[0;34m,\u001b[0m \u001b[0maxis\u001b[0m\u001b[0;34m,\u001b[0m \u001b[0mraise_missing\u001b[0m\u001b[0;34m=\u001b[0m\u001b[0mraise_missing\u001b[0m\u001b[0;34m)\u001b[0m\u001b[0;34m\u001b[0m\u001b[0;34m\u001b[0m\u001b[0m\n\u001b[0m\u001b[1;32m   1255\u001b[0m         \u001b[0;32mreturn\u001b[0m \u001b[0mkeyarr\u001b[0m\u001b[0;34m,\u001b[0m \u001b[0mindexer\u001b[0m\u001b[0;34m\u001b[0m\u001b[0;34m\u001b[0m\u001b[0m\n\u001b[1;32m   1256\u001b[0m \u001b[0;34m\u001b[0m\u001b[0m\n",
      "\u001b[0;32m~/opt/anaconda3/envs/project2/lib/python3.8/site-packages/pandas/core/indexing.py\u001b[0m in \u001b[0;36m_validate_read_indexer\u001b[0;34m(self, key, indexer, axis, raise_missing)\u001b[0m\n\u001b[1;32m   1302\u001b[0m             \u001b[0;32mif\u001b[0m \u001b[0mraise_missing\u001b[0m\u001b[0;34m:\u001b[0m\u001b[0;34m\u001b[0m\u001b[0;34m\u001b[0m\u001b[0m\n\u001b[1;32m   1303\u001b[0m                 \u001b[0mnot_found\u001b[0m \u001b[0;34m=\u001b[0m \u001b[0mlist\u001b[0m\u001b[0;34m(\u001b[0m\u001b[0mset\u001b[0m\u001b[0;34m(\u001b[0m\u001b[0mkey\u001b[0m\u001b[0;34m)\u001b[0m \u001b[0;34m-\u001b[0m \u001b[0mset\u001b[0m\u001b[0;34m(\u001b[0m\u001b[0max\u001b[0m\u001b[0;34m)\u001b[0m\u001b[0;34m)\u001b[0m\u001b[0;34m\u001b[0m\u001b[0;34m\u001b[0m\u001b[0m\n\u001b[0;32m-> 1304\u001b[0;31m                 \u001b[0;32mraise\u001b[0m \u001b[0mKeyError\u001b[0m\u001b[0;34m(\u001b[0m\u001b[0;34mf\"{not_found} not in index\"\u001b[0m\u001b[0;34m)\u001b[0m\u001b[0;34m\u001b[0m\u001b[0;34m\u001b[0m\u001b[0m\n\u001b[0m\u001b[1;32m   1305\u001b[0m \u001b[0;34m\u001b[0m\u001b[0m\n\u001b[1;32m   1306\u001b[0m             \u001b[0;31m# we skip the warning on Categorical\u001b[0m\u001b[0;34m\u001b[0m\u001b[0;34m\u001b[0m\u001b[0;34m\u001b[0m\u001b[0m\n",
      "\u001b[0;31mKeyError\u001b[0m: \"['Up', 'kcup', 'bblo', 'bbup', 'kclo', 'Down'] not in index\""
     ]
    }
   ],
   "source": [
    "# Set a variable list of features to feed to our model\n",
    "\n",
    "x_var_list = ['Open', 'High', 'Low', 'Close', 'Up', 'Down', 'kcup', 'kclo', 'MidLine', 'bbup', 'bblo', 'FastEMA', 'SlowEMA']\n",
    "ts_file_df[x_var_list].head()"
   ]
  },
  {
   "cell_type": "code",
   "execution_count": null,
   "metadata": {},
   "outputs": [],
   "source": []
  }
 ]
}