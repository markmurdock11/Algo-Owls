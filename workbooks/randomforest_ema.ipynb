{
 "metadata": {
  "language_info": {
   "codemirror_mode": {
    "name": "ipython",
    "version": 3
   },
   "file_extension": ".py",
   "mimetype": "text/x-python",
   "name": "python",
   "nbconvert_exporter": "python",
   "pygments_lexer": "ipython3",
   "version": "3.8.5-final"
  },
  "orig_nbformat": 2,
  "kernelspec": {
   "name": "python3",
   "display_name": "Python 3.8.5 64-bit ('project2': conda)",
   "metadata": {
    "interpreter": {
     "hash": "9ee557f5893fe86b807f8e83c995d71c87da1e8a07bba49603534fad992d4e2f"
    }
   }
  }
 },
 "nbformat": 4,
 "nbformat_minor": 2,
 "cells": [
  {
   "cell_type": "code",
   "execution_count": 1,
   "metadata": {},
   "outputs": [],
   "source": [
    "# Random forest model for EMA crossover identifier\n",
    "import pandas as pd\n",
    "import numpy as np\n",
    "from pathlib import Path\n",
    "%matplotlib inline\n",
    "\n",
    "import warnings\n",
    "warnings.filterwarnings('ignore')"
   ]
  },
  {
   "cell_type": "code",
   "execution_count": 2,
   "metadata": {},
   "outputs": [
    {
     "output_type": "execute_result",
     "data": {
      "text/plain": [
       "PosixPath('../Resources/ts_emax_x_squeeze.csv')"
      ]
     },
     "metadata": {},
     "execution_count": 2
    }
   ],
   "source": [
    "csv_path = Path('../Resources/ts_emax_x_squeeze.csv')\n",
    "csv_path"
   ]
  },
  {
   "cell_type": "code",
   "execution_count": 3,
   "metadata": {},
   "outputs": [
    {
     "output_type": "execute_result",
     "data": {
      "text/plain": [
       "                Date_Time    Open    High     Low   Close      Up    Down  \\\n",
       "19600 2021-01-12 14:00:00  140.46  140.58  140.34  140.46  152792  140537   \n",
       "19601 2021-01-12 14:15:00  140.47  140.92  140.47  140.60  170378  174631   \n",
       "19602 2021-01-12 14:30:00  140.61  140.75  140.42  140.48  177439  178475   \n",
       "19603 2021-01-12 14:45:00  140.47  140.50  140.10  140.17  205777  182808   \n",
       "19604 2021-01-12 15:00:00  140.18  140.63  140.14  140.21  502297  446696   \n",
       "\n",
       "         kcup    kclo  MidLine    bbup    bblo  MidLine.1  FastEMA  SlowEMA  \\\n",
       "19600  142.13  139.93   141.03  141.69  140.37     141.03   140.76   140.44   \n",
       "19601  142.04  139.98   141.01  141.69  140.33     141.01   140.73   140.46   \n",
       "19602  141.98  139.99   140.99  141.71  140.27     140.99   140.68   140.46   \n",
       "19603  141.92  139.99   140.95  141.76  140.15     140.95   140.58   140.43   \n",
       "19604  141.81  139.98   140.89  141.72  140.06     140.89   140.51   140.41   \n",
       "\n",
       "       squeeze  emax_signal  \n",
       "19600        1            0  \n",
       "19601        1            0  \n",
       "19602        1            0  \n",
       "19603        1            0  \n",
       "19604        1            0  "
      ],
      "text/html": "<div>\n<style scoped>\n    .dataframe tbody tr th:only-of-type {\n        vertical-align: middle;\n    }\n\n    .dataframe tbody tr th {\n        vertical-align: top;\n    }\n\n    .dataframe thead th {\n        text-align: right;\n    }\n</style>\n<table border=\"1\" class=\"dataframe\">\n  <thead>\n    <tr style=\"text-align: right;\">\n      <th></th>\n      <th>Date_Time</th>\n      <th>Open</th>\n      <th>High</th>\n      <th>Low</th>\n      <th>Close</th>\n      <th>Up</th>\n      <th>Down</th>\n      <th>kcup</th>\n      <th>kclo</th>\n      <th>MidLine</th>\n      <th>bbup</th>\n      <th>bblo</th>\n      <th>MidLine.1</th>\n      <th>FastEMA</th>\n      <th>SlowEMA</th>\n      <th>squeeze</th>\n      <th>emax_signal</th>\n    </tr>\n  </thead>\n  <tbody>\n    <tr>\n      <th>19600</th>\n      <td>2021-01-12 14:00:00</td>\n      <td>140.46</td>\n      <td>140.58</td>\n      <td>140.34</td>\n      <td>140.46</td>\n      <td>152792</td>\n      <td>140537</td>\n      <td>142.13</td>\n      <td>139.93</td>\n      <td>141.03</td>\n      <td>141.69</td>\n      <td>140.37</td>\n      <td>141.03</td>\n      <td>140.76</td>\n      <td>140.44</td>\n      <td>1</td>\n      <td>0</td>\n    </tr>\n    <tr>\n      <th>19601</th>\n      <td>2021-01-12 14:15:00</td>\n      <td>140.47</td>\n      <td>140.92</td>\n      <td>140.47</td>\n      <td>140.60</td>\n      <td>170378</td>\n      <td>174631</td>\n      <td>142.04</td>\n      <td>139.98</td>\n      <td>141.01</td>\n      <td>141.69</td>\n      <td>140.33</td>\n      <td>141.01</td>\n      <td>140.73</td>\n      <td>140.46</td>\n      <td>1</td>\n      <td>0</td>\n    </tr>\n    <tr>\n      <th>19602</th>\n      <td>2021-01-12 14:30:00</td>\n      <td>140.61</td>\n      <td>140.75</td>\n      <td>140.42</td>\n      <td>140.48</td>\n      <td>177439</td>\n      <td>178475</td>\n      <td>141.98</td>\n      <td>139.99</td>\n      <td>140.99</td>\n      <td>141.71</td>\n      <td>140.27</td>\n      <td>140.99</td>\n      <td>140.68</td>\n      <td>140.46</td>\n      <td>1</td>\n      <td>0</td>\n    </tr>\n    <tr>\n      <th>19603</th>\n      <td>2021-01-12 14:45:00</td>\n      <td>140.47</td>\n      <td>140.50</td>\n      <td>140.10</td>\n      <td>140.17</td>\n      <td>205777</td>\n      <td>182808</td>\n      <td>141.92</td>\n      <td>139.99</td>\n      <td>140.95</td>\n      <td>141.76</td>\n      <td>140.15</td>\n      <td>140.95</td>\n      <td>140.58</td>\n      <td>140.43</td>\n      <td>1</td>\n      <td>0</td>\n    </tr>\n    <tr>\n      <th>19604</th>\n      <td>2021-01-12 15:00:00</td>\n      <td>140.18</td>\n      <td>140.63</td>\n      <td>140.14</td>\n      <td>140.21</td>\n      <td>502297</td>\n      <td>446696</td>\n      <td>141.81</td>\n      <td>139.98</td>\n      <td>140.89</td>\n      <td>141.72</td>\n      <td>140.06</td>\n      <td>140.89</td>\n      <td>140.51</td>\n      <td>140.41</td>\n      <td>1</td>\n      <td>0</td>\n    </tr>\n  </tbody>\n</table>\n</div>"
     },
     "metadata": {},
     "execution_count": 3
    }
   ],
   "source": [
    "ts_file_df = pd.read_csv(csv_path, parse_dates=[['Date', 'Time']])\n",
    "ts_file_df.tail()"
   ]
  },
  {
   "cell_type": "code",
   "execution_count": 4,
   "metadata": {},
   "outputs": [
    {
     "output_type": "execute_result",
     "data": {
      "text/plain": [
       "                       Open    High     Low   Close       Up     Down  kcup  \\\n",
       "Date_Time                                                                     \n",
       "2018-01-12 08:45:00  111.65  111.98  110.84  111.22  1051611  1206429   0.0   \n",
       "2018-01-12 09:00:00  111.21  112.04  111.17  111.93   645133   604771   0.0   \n",
       "2018-01-12 09:15:00  111.93  112.20  111.87  112.13   541130   492175   0.0   \n",
       "2018-01-12 09:30:00  112.13  112.18  111.56  111.91   332412   418068   0.0   \n",
       "2018-01-12 09:45:00  111.91  112.24  111.85  111.97   281205   290538   0.0   \n",
       "\n",
       "                     kclo  MidLine  bbup  bblo  FastEMA  SlowEMA  squeeze  \\\n",
       "Date_Time                                                                   \n",
       "2018-01-12 08:45:00   0.0      0.0   0.0   0.0     0.00     0.00        0   \n",
       "2018-01-12 09:00:00   0.0      0.0   0.0   0.0   111.93   111.93        0   \n",
       "2018-01-12 09:15:00   0.0      0.0   0.0   0.0   111.97   111.95        0   \n",
       "2018-01-12 09:30:00   0.0      0.0   0.0   0.0   111.96   111.94        0   \n",
       "2018-01-12 09:45:00   0.0      0.0   0.0   0.0   111.96   111.95        0   \n",
       "\n",
       "                     emax_signal  \n",
       "Date_Time                         \n",
       "2018-01-12 08:45:00            0  \n",
       "2018-01-12 09:00:00            0  \n",
       "2018-01-12 09:15:00            0  \n",
       "2018-01-12 09:30:00            0  \n",
       "2018-01-12 09:45:00            0  "
      ],
      "text/html": "<div>\n<style scoped>\n    .dataframe tbody tr th:only-of-type {\n        vertical-align: middle;\n    }\n\n    .dataframe tbody tr th {\n        vertical-align: top;\n    }\n\n    .dataframe thead th {\n        text-align: right;\n    }\n</style>\n<table border=\"1\" class=\"dataframe\">\n  <thead>\n    <tr style=\"text-align: right;\">\n      <th></th>\n      <th>Open</th>\n      <th>High</th>\n      <th>Low</th>\n      <th>Close</th>\n      <th>Up</th>\n      <th>Down</th>\n      <th>kcup</th>\n      <th>kclo</th>\n      <th>MidLine</th>\n      <th>bbup</th>\n      <th>bblo</th>\n      <th>FastEMA</th>\n      <th>SlowEMA</th>\n      <th>squeeze</th>\n      <th>emax_signal</th>\n    </tr>\n    <tr>\n      <th>Date_Time</th>\n      <th></th>\n      <th></th>\n      <th></th>\n      <th></th>\n      <th></th>\n      <th></th>\n      <th></th>\n      <th></th>\n      <th></th>\n      <th></th>\n      <th></th>\n      <th></th>\n      <th></th>\n      <th></th>\n      <th></th>\n    </tr>\n  </thead>\n  <tbody>\n    <tr>\n      <th>2018-01-12 08:45:00</th>\n      <td>111.65</td>\n      <td>111.98</td>\n      <td>110.84</td>\n      <td>111.22</td>\n      <td>1051611</td>\n      <td>1206429</td>\n      <td>0.0</td>\n      <td>0.0</td>\n      <td>0.0</td>\n      <td>0.0</td>\n      <td>0.0</td>\n      <td>0.00</td>\n      <td>0.00</td>\n      <td>0</td>\n      <td>0</td>\n    </tr>\n    <tr>\n      <th>2018-01-12 09:00:00</th>\n      <td>111.21</td>\n      <td>112.04</td>\n      <td>111.17</td>\n      <td>111.93</td>\n      <td>645133</td>\n      <td>604771</td>\n      <td>0.0</td>\n      <td>0.0</td>\n      <td>0.0</td>\n      <td>0.0</td>\n      <td>0.0</td>\n      <td>111.93</td>\n      <td>111.93</td>\n      <td>0</td>\n      <td>0</td>\n    </tr>\n    <tr>\n      <th>2018-01-12 09:15:00</th>\n      <td>111.93</td>\n      <td>112.20</td>\n      <td>111.87</td>\n      <td>112.13</td>\n      <td>541130</td>\n      <td>492175</td>\n      <td>0.0</td>\n      <td>0.0</td>\n      <td>0.0</td>\n      <td>0.0</td>\n      <td>0.0</td>\n      <td>111.97</td>\n      <td>111.95</td>\n      <td>0</td>\n      <td>0</td>\n    </tr>\n    <tr>\n      <th>2018-01-12 09:30:00</th>\n      <td>112.13</td>\n      <td>112.18</td>\n      <td>111.56</td>\n      <td>111.91</td>\n      <td>332412</td>\n      <td>418068</td>\n      <td>0.0</td>\n      <td>0.0</td>\n      <td>0.0</td>\n      <td>0.0</td>\n      <td>0.0</td>\n      <td>111.96</td>\n      <td>111.94</td>\n      <td>0</td>\n      <td>0</td>\n    </tr>\n    <tr>\n      <th>2018-01-12 09:45:00</th>\n      <td>111.91</td>\n      <td>112.24</td>\n      <td>111.85</td>\n      <td>111.97</td>\n      <td>281205</td>\n      <td>290538</td>\n      <td>0.0</td>\n      <td>0.0</td>\n      <td>0.0</td>\n      <td>0.0</td>\n      <td>0.0</td>\n      <td>111.96</td>\n      <td>111.95</td>\n      <td>0</td>\n      <td>0</td>\n    </tr>\n  </tbody>\n</table>\n</div>"
     },
     "metadata": {},
     "execution_count": 4
    }
   ],
   "source": [
    "# set index as Date_Time and drop MidLine.1 column (it is a duplicate of MidLine)\n",
    "ts_file_df.set_index(pd.to_datetime(ts_file_df['Date_Time'], infer_datetime_format=True), inplace=True)\n",
    "ts_file_df.drop(columns=['Date_Time', 'MidLine.1'], inplace=True)\n",
    "ts_file_df.head()"
   ]
  },
  {
   "cell_type": "code",
   "execution_count": 5,
   "metadata": {},
   "outputs": [
    {
     "output_type": "execute_result",
     "data": {
      "text/plain": [
       "                       Open    High     Low   Close       Up     Down  kcup  \\\n",
       "Date_Time                                                                     \n",
       "2018-01-12 08:45:00  111.65  111.98  110.84  111.22  1051611  1206429   0.0   \n",
       "2018-01-12 09:00:00  111.21  112.04  111.17  111.93   645133   604771   0.0   \n",
       "2018-01-12 09:15:00  111.93  112.20  111.87  112.13   541130   492175   0.0   \n",
       "2018-01-12 09:30:00  112.13  112.18  111.56  111.91   332412   418068   0.0   \n",
       "2018-01-12 09:45:00  111.91  112.24  111.85  111.97   281205   290538   0.0   \n",
       "\n",
       "                     kclo  MidLine  bbup  bblo  FastEMA  SlowEMA  \n",
       "Date_Time                                                         \n",
       "2018-01-12 08:45:00   0.0      0.0   0.0   0.0     0.00     0.00  \n",
       "2018-01-12 09:00:00   0.0      0.0   0.0   0.0   111.93   111.93  \n",
       "2018-01-12 09:15:00   0.0      0.0   0.0   0.0   111.97   111.95  \n",
       "2018-01-12 09:30:00   0.0      0.0   0.0   0.0   111.96   111.94  \n",
       "2018-01-12 09:45:00   0.0      0.0   0.0   0.0   111.96   111.95  "
      ],
      "text/html": "<div>\n<style scoped>\n    .dataframe tbody tr th:only-of-type {\n        vertical-align: middle;\n    }\n\n    .dataframe tbody tr th {\n        vertical-align: top;\n    }\n\n    .dataframe thead th {\n        text-align: right;\n    }\n</style>\n<table border=\"1\" class=\"dataframe\">\n  <thead>\n    <tr style=\"text-align: right;\">\n      <th></th>\n      <th>Open</th>\n      <th>High</th>\n      <th>Low</th>\n      <th>Close</th>\n      <th>Up</th>\n      <th>Down</th>\n      <th>kcup</th>\n      <th>kclo</th>\n      <th>MidLine</th>\n      <th>bbup</th>\n      <th>bblo</th>\n      <th>FastEMA</th>\n      <th>SlowEMA</th>\n    </tr>\n    <tr>\n      <th>Date_Time</th>\n      <th></th>\n      <th></th>\n      <th></th>\n      <th></th>\n      <th></th>\n      <th></th>\n      <th></th>\n      <th></th>\n      <th></th>\n      <th></th>\n      <th></th>\n      <th></th>\n      <th></th>\n    </tr>\n  </thead>\n  <tbody>\n    <tr>\n      <th>2018-01-12 08:45:00</th>\n      <td>111.65</td>\n      <td>111.98</td>\n      <td>110.84</td>\n      <td>111.22</td>\n      <td>1051611</td>\n      <td>1206429</td>\n      <td>0.0</td>\n      <td>0.0</td>\n      <td>0.0</td>\n      <td>0.0</td>\n      <td>0.0</td>\n      <td>0.00</td>\n      <td>0.00</td>\n    </tr>\n    <tr>\n      <th>2018-01-12 09:00:00</th>\n      <td>111.21</td>\n      <td>112.04</td>\n      <td>111.17</td>\n      <td>111.93</td>\n      <td>645133</td>\n      <td>604771</td>\n      <td>0.0</td>\n      <td>0.0</td>\n      <td>0.0</td>\n      <td>0.0</td>\n      <td>0.0</td>\n      <td>111.93</td>\n      <td>111.93</td>\n    </tr>\n    <tr>\n      <th>2018-01-12 09:15:00</th>\n      <td>111.93</td>\n      <td>112.20</td>\n      <td>111.87</td>\n      <td>112.13</td>\n      <td>541130</td>\n      <td>492175</td>\n      <td>0.0</td>\n      <td>0.0</td>\n      <td>0.0</td>\n      <td>0.0</td>\n      <td>0.0</td>\n      <td>111.97</td>\n      <td>111.95</td>\n    </tr>\n    <tr>\n      <th>2018-01-12 09:30:00</th>\n      <td>112.13</td>\n      <td>112.18</td>\n      <td>111.56</td>\n      <td>111.91</td>\n      <td>332412</td>\n      <td>418068</td>\n      <td>0.0</td>\n      <td>0.0</td>\n      <td>0.0</td>\n      <td>0.0</td>\n      <td>0.0</td>\n      <td>111.96</td>\n      <td>111.94</td>\n    </tr>\n    <tr>\n      <th>2018-01-12 09:45:00</th>\n      <td>111.91</td>\n      <td>112.24</td>\n      <td>111.85</td>\n      <td>111.97</td>\n      <td>281205</td>\n      <td>290538</td>\n      <td>0.0</td>\n      <td>0.0</td>\n      <td>0.0</td>\n      <td>0.0</td>\n      <td>0.0</td>\n      <td>111.96</td>\n      <td>111.95</td>\n    </tr>\n  </tbody>\n</table>\n</div>"
     },
     "metadata": {},
     "execution_count": 5
    }
   ],
   "source": [
    "# Set a variable list of features to feed to our model\n",
    "\n",
    "x_var_list = ['Open', 'High', 'Low', 'Close', 'Up', 'Down', 'kcup', 'kclo', 'MidLine', 'bbup', 'bblo', 'FastEMA', 'SlowEMA']\n",
    "ts_file_df[x_var_list].head()"
   ]
  },
  {
   "cell_type": "code",
   "execution_count": 6,
   "metadata": {},
   "outputs": [
    {
     "output_type": "execute_result",
     "data": {
      "text/plain": [
       "                       Open    High     Low   Close         Up       Down  \\\n",
       "Date_Time                                                                   \n",
       "2018-01-12 08:45:00     NaN     NaN     NaN     NaN        NaN        NaN   \n",
       "2018-01-12 09:00:00  111.65  111.98  110.84  111.22  1051611.0  1206429.0   \n",
       "2018-01-12 09:15:00  111.21  112.04  111.17  111.93   645133.0   604771.0   \n",
       "2018-01-12 09:30:00  111.93  112.20  111.87  112.13   541130.0   492175.0   \n",
       "2018-01-12 09:45:00  112.13  112.18  111.56  111.91   332412.0   418068.0   \n",
       "\n",
       "                     kcup  kclo  MidLine  bbup  bblo  FastEMA  SlowEMA  \n",
       "Date_Time                                                               \n",
       "2018-01-12 08:45:00   NaN   NaN      NaN   NaN   NaN      NaN      NaN  \n",
       "2018-01-12 09:00:00   0.0   0.0      0.0   0.0   0.0     0.00     0.00  \n",
       "2018-01-12 09:15:00   0.0   0.0      0.0   0.0   0.0   111.93   111.93  \n",
       "2018-01-12 09:30:00   0.0   0.0      0.0   0.0   0.0   111.97   111.95  \n",
       "2018-01-12 09:45:00   0.0   0.0      0.0   0.0   0.0   111.96   111.94  "
      ],
      "text/html": "<div>\n<style scoped>\n    .dataframe tbody tr th:only-of-type {\n        vertical-align: middle;\n    }\n\n    .dataframe tbody tr th {\n        vertical-align: top;\n    }\n\n    .dataframe thead th {\n        text-align: right;\n    }\n</style>\n<table border=\"1\" class=\"dataframe\">\n  <thead>\n    <tr style=\"text-align: right;\">\n      <th></th>\n      <th>Open</th>\n      <th>High</th>\n      <th>Low</th>\n      <th>Close</th>\n      <th>Up</th>\n      <th>Down</th>\n      <th>kcup</th>\n      <th>kclo</th>\n      <th>MidLine</th>\n      <th>bbup</th>\n      <th>bblo</th>\n      <th>FastEMA</th>\n      <th>SlowEMA</th>\n    </tr>\n    <tr>\n      <th>Date_Time</th>\n      <th></th>\n      <th></th>\n      <th></th>\n      <th></th>\n      <th></th>\n      <th></th>\n      <th></th>\n      <th></th>\n      <th></th>\n      <th></th>\n      <th></th>\n      <th></th>\n      <th></th>\n    </tr>\n  </thead>\n  <tbody>\n    <tr>\n      <th>2018-01-12 08:45:00</th>\n      <td>NaN</td>\n      <td>NaN</td>\n      <td>NaN</td>\n      <td>NaN</td>\n      <td>NaN</td>\n      <td>NaN</td>\n      <td>NaN</td>\n      <td>NaN</td>\n      <td>NaN</td>\n      <td>NaN</td>\n      <td>NaN</td>\n      <td>NaN</td>\n      <td>NaN</td>\n    </tr>\n    <tr>\n      <th>2018-01-12 09:00:00</th>\n      <td>111.65</td>\n      <td>111.98</td>\n      <td>110.84</td>\n      <td>111.22</td>\n      <td>1051611.0</td>\n      <td>1206429.0</td>\n      <td>0.0</td>\n      <td>0.0</td>\n      <td>0.0</td>\n      <td>0.0</td>\n      <td>0.0</td>\n      <td>0.00</td>\n      <td>0.00</td>\n    </tr>\n    <tr>\n      <th>2018-01-12 09:15:00</th>\n      <td>111.21</td>\n      <td>112.04</td>\n      <td>111.17</td>\n      <td>111.93</td>\n      <td>645133.0</td>\n      <td>604771.0</td>\n      <td>0.0</td>\n      <td>0.0</td>\n      <td>0.0</td>\n      <td>0.0</td>\n      <td>0.0</td>\n      <td>111.93</td>\n      <td>111.93</td>\n    </tr>\n    <tr>\n      <th>2018-01-12 09:30:00</th>\n      <td>111.93</td>\n      <td>112.20</td>\n      <td>111.87</td>\n      <td>112.13</td>\n      <td>541130.0</td>\n      <td>492175.0</td>\n      <td>0.0</td>\n      <td>0.0</td>\n      <td>0.0</td>\n      <td>0.0</td>\n      <td>0.0</td>\n      <td>111.97</td>\n      <td>111.95</td>\n    </tr>\n    <tr>\n      <th>2018-01-12 09:45:00</th>\n      <td>112.13</td>\n      <td>112.18</td>\n      <td>111.56</td>\n      <td>111.91</td>\n      <td>332412.0</td>\n      <td>418068.0</td>\n      <td>0.0</td>\n      <td>0.0</td>\n      <td>0.0</td>\n      <td>0.0</td>\n      <td>0.0</td>\n      <td>111.96</td>\n      <td>111.94</td>\n    </tr>\n  </tbody>\n</table>\n</div>"
     },
     "metadata": {},
     "execution_count": 6
    }
   ],
   "source": [
    "# Shift DataFrame values by 1\n",
    "ts_file_df[x_var_list] = ts_file_df[x_var_list].shift(1)\n",
    "ts_file_df[x_var_list].head()"
   ]
  },
  {
   "cell_type": "code",
   "execution_count": 7,
   "metadata": {},
   "outputs": [
    {
     "output_type": "execute_result",
     "data": {
      "text/plain": [
       "                       Open    High     Low   Close         Up       Down  \\\n",
       "Date_Time                                                                   \n",
       "2018-01-12 09:00:00  111.65  111.98  110.84  111.22  1051611.0  1206429.0   \n",
       "2018-01-12 09:15:00  111.21  112.04  111.17  111.93   645133.0   604771.0   \n",
       "2018-01-12 09:30:00  111.93  112.20  111.87  112.13   541130.0   492175.0   \n",
       "2018-01-12 09:45:00  112.13  112.18  111.56  111.91   332412.0   418068.0   \n",
       "2018-01-12 10:00:00  111.91  112.24  111.85  111.97   281205.0   290538.0   \n",
       "\n",
       "                     kcup  kclo  MidLine  bbup  bblo  FastEMA  SlowEMA  \\\n",
       "Date_Time                                                                \n",
       "2018-01-12 09:00:00   0.0   0.0      0.0   0.0   0.0     0.00     0.00   \n",
       "2018-01-12 09:15:00   0.0   0.0      0.0   0.0   0.0   111.93   111.93   \n",
       "2018-01-12 09:30:00   0.0   0.0      0.0   0.0   0.0   111.97   111.95   \n",
       "2018-01-12 09:45:00   0.0   0.0      0.0   0.0   0.0   111.96   111.94   \n",
       "2018-01-12 10:00:00   0.0   0.0      0.0   0.0   0.0   111.96   111.95   \n",
       "\n",
       "                     squeeze  emax_signal  \n",
       "Date_Time                                  \n",
       "2018-01-12 09:00:00        0            0  \n",
       "2018-01-12 09:15:00        0            0  \n",
       "2018-01-12 09:30:00        0            0  \n",
       "2018-01-12 09:45:00        0            0  \n",
       "2018-01-12 10:00:00        0            0  "
      ],
      "text/html": "<div>\n<style scoped>\n    .dataframe tbody tr th:only-of-type {\n        vertical-align: middle;\n    }\n\n    .dataframe tbody tr th {\n        vertical-align: top;\n    }\n\n    .dataframe thead th {\n        text-align: right;\n    }\n</style>\n<table border=\"1\" class=\"dataframe\">\n  <thead>\n    <tr style=\"text-align: right;\">\n      <th></th>\n      <th>Open</th>\n      <th>High</th>\n      <th>Low</th>\n      <th>Close</th>\n      <th>Up</th>\n      <th>Down</th>\n      <th>kcup</th>\n      <th>kclo</th>\n      <th>MidLine</th>\n      <th>bbup</th>\n      <th>bblo</th>\n      <th>FastEMA</th>\n      <th>SlowEMA</th>\n      <th>squeeze</th>\n      <th>emax_signal</th>\n    </tr>\n    <tr>\n      <th>Date_Time</th>\n      <th></th>\n      <th></th>\n      <th></th>\n      <th></th>\n      <th></th>\n      <th></th>\n      <th></th>\n      <th></th>\n      <th></th>\n      <th></th>\n      <th></th>\n      <th></th>\n      <th></th>\n      <th></th>\n      <th></th>\n    </tr>\n  </thead>\n  <tbody>\n    <tr>\n      <th>2018-01-12 09:00:00</th>\n      <td>111.65</td>\n      <td>111.98</td>\n      <td>110.84</td>\n      <td>111.22</td>\n      <td>1051611.0</td>\n      <td>1206429.0</td>\n      <td>0.0</td>\n      <td>0.0</td>\n      <td>0.0</td>\n      <td>0.0</td>\n      <td>0.0</td>\n      <td>0.00</td>\n      <td>0.00</td>\n      <td>0</td>\n      <td>0</td>\n    </tr>\n    <tr>\n      <th>2018-01-12 09:15:00</th>\n      <td>111.21</td>\n      <td>112.04</td>\n      <td>111.17</td>\n      <td>111.93</td>\n      <td>645133.0</td>\n      <td>604771.0</td>\n      <td>0.0</td>\n      <td>0.0</td>\n      <td>0.0</td>\n      <td>0.0</td>\n      <td>0.0</td>\n      <td>111.93</td>\n      <td>111.93</td>\n      <td>0</td>\n      <td>0</td>\n    </tr>\n    <tr>\n      <th>2018-01-12 09:30:00</th>\n      <td>111.93</td>\n      <td>112.20</td>\n      <td>111.87</td>\n      <td>112.13</td>\n      <td>541130.0</td>\n      <td>492175.0</td>\n      <td>0.0</td>\n      <td>0.0</td>\n      <td>0.0</td>\n      <td>0.0</td>\n      <td>0.0</td>\n      <td>111.97</td>\n      <td>111.95</td>\n      <td>0</td>\n      <td>0</td>\n    </tr>\n    <tr>\n      <th>2018-01-12 09:45:00</th>\n      <td>112.13</td>\n      <td>112.18</td>\n      <td>111.56</td>\n      <td>111.91</td>\n      <td>332412.0</td>\n      <td>418068.0</td>\n      <td>0.0</td>\n      <td>0.0</td>\n      <td>0.0</td>\n      <td>0.0</td>\n      <td>0.0</td>\n      <td>111.96</td>\n      <td>111.94</td>\n      <td>0</td>\n      <td>0</td>\n    </tr>\n    <tr>\n      <th>2018-01-12 10:00:00</th>\n      <td>111.91</td>\n      <td>112.24</td>\n      <td>111.85</td>\n      <td>111.97</td>\n      <td>281205.0</td>\n      <td>290538.0</td>\n      <td>0.0</td>\n      <td>0.0</td>\n      <td>0.0</td>\n      <td>0.0</td>\n      <td>0.0</td>\n      <td>111.96</td>\n      <td>111.95</td>\n      <td>0</td>\n      <td>0</td>\n    </tr>\n  </tbody>\n</table>\n</div>"
     },
     "metadata": {},
     "execution_count": 7
    }
   ],
   "source": [
    "ts_file_df.dropna(inplace=True)\n",
    "ts_file_df.head()"
   ]
  },
  {
   "cell_type": "code",
   "execution_count": 8,
   "metadata": {},
   "outputs": [],
   "source": [
    "from sklearn.preprocessing import StandardScaler\n",
    "from sklearn.model_selection import train_test_split\n",
    "from sklearn.metrics import confusion_matrix, accuracy_score, classification_report"
   ]
  },
  {
   "cell_type": "code",
   "execution_count": 9,
   "metadata": {},
   "outputs": [
    {
     "output_type": "stream",
     "name": "stdout",
     "text": [
      "Training Start: 2018-01-12\nTraining End: 2019-01-11\nTesting Start: 2019-01-12\nTesting End: 2019-06-12\nvalidating Start: 2019-06-13\nvalidating end: 2020-01-12\n"
     ]
    }
   ],
   "source": [
    "# Construct training start and training end dates\n",
    "\n",
    "training_start = ts_file_df.index.min().strftime(format='%Y-%m-%d')\n",
    "training_end = '2019-01-11'\n",
    "\n",
    "# Construct test start and test end dates\n",
    "\n",
    "testing_start = '2019-01-12'\n",
    "testing_end = '2019-06-12'\n",
    "\n",
    "# Construct validating start and validating end dates\n",
    "\n",
    "vali_start = '2019-06-13'\n",
    "vali_end = '2020-01-12'\n",
    "\n",
    "# Confirming training, testing and validating dates\n",
    "print(f\"Training Start: {training_start}\")\n",
    "print(f\"Training End: {training_end}\")\n",
    "print(f\"Testing Start: {testing_start}\")\n",
    "print(f\"Testing End: {testing_end}\")\n",
    "print(f\"validating Start: {vali_start}\")\n",
    "print(f\"validating end: {vali_end}\")"
   ]
  },
  {
   "cell_type": "code",
   "execution_count": 15,
   "metadata": {},
   "outputs": [
    {
     "output_type": "execute_result",
     "data": {
      "text/plain": [
       "                       Open    High     Low   Close         Up       Down  \\\n",
       "Date_Time                                                                   \n",
       "2018-01-12 09:00:00  111.65  111.98  110.84  111.22  1051611.0  1206429.0   \n",
       "2018-01-12 09:15:00  111.21  112.04  111.17  111.93   645133.0   604771.0   \n",
       "2018-01-12 09:30:00  111.93  112.20  111.87  112.13   541130.0   492175.0   \n",
       "2018-01-12 09:45:00  112.13  112.18  111.56  111.91   332412.0   418068.0   \n",
       "2018-01-12 10:00:00  111.91  112.24  111.85  111.97   281205.0   290538.0   \n",
       "\n",
       "                     kcup  kclo  MidLine  bbup  bblo  FastEMA  SlowEMA  \n",
       "Date_Time                                                               \n",
       "2018-01-12 09:00:00   0.0   0.0      0.0   0.0   0.0     0.00     0.00  \n",
       "2018-01-12 09:15:00   0.0   0.0      0.0   0.0   0.0   111.93   111.93  \n",
       "2018-01-12 09:30:00   0.0   0.0      0.0   0.0   0.0   111.97   111.95  \n",
       "2018-01-12 09:45:00   0.0   0.0      0.0   0.0   0.0   111.96   111.94  \n",
       "2018-01-12 10:00:00   0.0   0.0      0.0   0.0   0.0   111.96   111.95  "
      ],
      "text/html": "<div>\n<style scoped>\n    .dataframe tbody tr th:only-of-type {\n        vertical-align: middle;\n    }\n\n    .dataframe tbody tr th {\n        vertical-align: top;\n    }\n\n    .dataframe thead th {\n        text-align: right;\n    }\n</style>\n<table border=\"1\" class=\"dataframe\">\n  <thead>\n    <tr style=\"text-align: right;\">\n      <th></th>\n      <th>Open</th>\n      <th>High</th>\n      <th>Low</th>\n      <th>Close</th>\n      <th>Up</th>\n      <th>Down</th>\n      <th>kcup</th>\n      <th>kclo</th>\n      <th>MidLine</th>\n      <th>bbup</th>\n      <th>bblo</th>\n      <th>FastEMA</th>\n      <th>SlowEMA</th>\n    </tr>\n    <tr>\n      <th>Date_Time</th>\n      <th></th>\n      <th></th>\n      <th></th>\n      <th></th>\n      <th></th>\n      <th></th>\n      <th></th>\n      <th></th>\n      <th></th>\n      <th></th>\n      <th></th>\n      <th></th>\n      <th></th>\n    </tr>\n  </thead>\n  <tbody>\n    <tr>\n      <th>2018-01-12 09:00:00</th>\n      <td>111.65</td>\n      <td>111.98</td>\n      <td>110.84</td>\n      <td>111.22</td>\n      <td>1051611.0</td>\n      <td>1206429.0</td>\n      <td>0.0</td>\n      <td>0.0</td>\n      <td>0.0</td>\n      <td>0.0</td>\n      <td>0.0</td>\n      <td>0.00</td>\n      <td>0.00</td>\n    </tr>\n    <tr>\n      <th>2018-01-12 09:15:00</th>\n      <td>111.21</td>\n      <td>112.04</td>\n      <td>111.17</td>\n      <td>111.93</td>\n      <td>645133.0</td>\n      <td>604771.0</td>\n      <td>0.0</td>\n      <td>0.0</td>\n      <td>0.0</td>\n      <td>0.0</td>\n      <td>0.0</td>\n      <td>111.93</td>\n      <td>111.93</td>\n    </tr>\n    <tr>\n      <th>2018-01-12 09:30:00</th>\n      <td>111.93</td>\n      <td>112.20</td>\n      <td>111.87</td>\n      <td>112.13</td>\n      <td>541130.0</td>\n      <td>492175.0</td>\n      <td>0.0</td>\n      <td>0.0</td>\n      <td>0.0</td>\n      <td>0.0</td>\n      <td>0.0</td>\n      <td>111.97</td>\n      <td>111.95</td>\n    </tr>\n    <tr>\n      <th>2018-01-12 09:45:00</th>\n      <td>112.13</td>\n      <td>112.18</td>\n      <td>111.56</td>\n      <td>111.91</td>\n      <td>332412.0</td>\n      <td>418068.0</td>\n      <td>0.0</td>\n      <td>0.0</td>\n      <td>0.0</td>\n      <td>0.0</td>\n      <td>0.0</td>\n      <td>111.96</td>\n      <td>111.94</td>\n    </tr>\n    <tr>\n      <th>2018-01-12 10:00:00</th>\n      <td>111.91</td>\n      <td>112.24</td>\n      <td>111.85</td>\n      <td>111.97</td>\n      <td>281205.0</td>\n      <td>290538.0</td>\n      <td>0.0</td>\n      <td>0.0</td>\n      <td>0.0</td>\n      <td>0.0</td>\n      <td>0.0</td>\n      <td>111.96</td>\n      <td>111.95</td>\n    </tr>\n  </tbody>\n</table>\n</div>"
     },
     "metadata": {},
     "execution_count": 15
    }
   ],
   "source": [
    "# Construct the X_train and y_train datasets\n",
    "X_train = ts_file_df[x_var_list][training_start:training_end]\n",
    "y_train = ts_file_df['emax_signal'][training_start:training_end]\n",
    "\n",
    "X_train.head()"
   ]
  },
  {
   "cell_type": "code",
   "execution_count": 16,
   "metadata": {},
   "outputs": [
    {
     "output_type": "execute_result",
     "data": {
      "text/plain": [
       "Date_Time\n",
       "2019-01-11 14:00:00    0\n",
       "2019-01-11 14:15:00    0\n",
       "2019-01-11 14:30:00    0\n",
       "2019-01-11 14:45:00    0\n",
       "2019-01-11 15:00:00    0\n",
       "Name: emax_signal, dtype: int64"
      ]
     },
     "metadata": {},
     "execution_count": 16
    }
   ],
   "source": [
    "y_train.tail()"
   ]
  },
  {
   "cell_type": "code",
   "execution_count": 17,
   "metadata": {},
   "outputs": [
    {
     "output_type": "execute_result",
     "data": {
      "text/plain": [
       "                       Open    High     Low   Close        Up      Down  \\\n",
       "Date_Time                                                                 \n",
       "2019-01-14 08:45:00  100.09  100.16   99.88   99.93  538000.0  839750.0   \n",
       "2019-01-14 09:00:00   98.85  100.07   98.66  100.00  662220.0  467174.0   \n",
       "2019-01-14 09:15:00   99.98  100.22   99.73  100.14  315701.0  326009.0   \n",
       "2019-01-14 09:30:00  100.15  100.94  100.08  100.88  338536.0  318028.0   \n",
       "2019-01-14 09:45:00  100.88  101.01  100.43  100.68  328545.0  363630.0   \n",
       "\n",
       "                       kcup   kclo  MidLine    bbup   bblo  FastEMA  SlowEMA  \n",
       "Date_Time                                                                     \n",
       "2019-01-14 08:45:00  100.32  99.54    99.93  100.22  99.64    99.99    99.95  \n",
       "2019-01-14 09:00:00  100.45  99.47    99.96  100.14  99.78    99.99    99.96  \n",
       "2019-01-14 09:15:00  100.50  99.47    99.98  100.12  99.85   100.02    99.97  \n",
       "2019-01-14 09:30:00  100.61  99.46   100.04  100.44  99.63   100.19   100.06  \n",
       "2019-01-14 09:45:00  100.68  99.46   100.07  100.56  99.58   100.29   100.11  "
      ],
      "text/html": "<div>\n<style scoped>\n    .dataframe tbody tr th:only-of-type {\n        vertical-align: middle;\n    }\n\n    .dataframe tbody tr th {\n        vertical-align: top;\n    }\n\n    .dataframe thead th {\n        text-align: right;\n    }\n</style>\n<table border=\"1\" class=\"dataframe\">\n  <thead>\n    <tr style=\"text-align: right;\">\n      <th></th>\n      <th>Open</th>\n      <th>High</th>\n      <th>Low</th>\n      <th>Close</th>\n      <th>Up</th>\n      <th>Down</th>\n      <th>kcup</th>\n      <th>kclo</th>\n      <th>MidLine</th>\n      <th>bbup</th>\n      <th>bblo</th>\n      <th>FastEMA</th>\n      <th>SlowEMA</th>\n    </tr>\n    <tr>\n      <th>Date_Time</th>\n      <th></th>\n      <th></th>\n      <th></th>\n      <th></th>\n      <th></th>\n      <th></th>\n      <th></th>\n      <th></th>\n      <th></th>\n      <th></th>\n      <th></th>\n      <th></th>\n      <th></th>\n    </tr>\n  </thead>\n  <tbody>\n    <tr>\n      <th>2019-01-14 08:45:00</th>\n      <td>100.09</td>\n      <td>100.16</td>\n      <td>99.88</td>\n      <td>99.93</td>\n      <td>538000.0</td>\n      <td>839750.0</td>\n      <td>100.32</td>\n      <td>99.54</td>\n      <td>99.93</td>\n      <td>100.22</td>\n      <td>99.64</td>\n      <td>99.99</td>\n      <td>99.95</td>\n    </tr>\n    <tr>\n      <th>2019-01-14 09:00:00</th>\n      <td>98.85</td>\n      <td>100.07</td>\n      <td>98.66</td>\n      <td>100.00</td>\n      <td>662220.0</td>\n      <td>467174.0</td>\n      <td>100.45</td>\n      <td>99.47</td>\n      <td>99.96</td>\n      <td>100.14</td>\n      <td>99.78</td>\n      <td>99.99</td>\n      <td>99.96</td>\n    </tr>\n    <tr>\n      <th>2019-01-14 09:15:00</th>\n      <td>99.98</td>\n      <td>100.22</td>\n      <td>99.73</td>\n      <td>100.14</td>\n      <td>315701.0</td>\n      <td>326009.0</td>\n      <td>100.50</td>\n      <td>99.47</td>\n      <td>99.98</td>\n      <td>100.12</td>\n      <td>99.85</td>\n      <td>100.02</td>\n      <td>99.97</td>\n    </tr>\n    <tr>\n      <th>2019-01-14 09:30:00</th>\n      <td>100.15</td>\n      <td>100.94</td>\n      <td>100.08</td>\n      <td>100.88</td>\n      <td>338536.0</td>\n      <td>318028.0</td>\n      <td>100.61</td>\n      <td>99.46</td>\n      <td>100.04</td>\n      <td>100.44</td>\n      <td>99.63</td>\n      <td>100.19</td>\n      <td>100.06</td>\n    </tr>\n    <tr>\n      <th>2019-01-14 09:45:00</th>\n      <td>100.88</td>\n      <td>101.01</td>\n      <td>100.43</td>\n      <td>100.68</td>\n      <td>328545.0</td>\n      <td>363630.0</td>\n      <td>100.68</td>\n      <td>99.46</td>\n      <td>100.07</td>\n      <td>100.56</td>\n      <td>99.58</td>\n      <td>100.29</td>\n      <td>100.11</td>\n    </tr>\n  </tbody>\n</table>\n</div>"
     },
     "metadata": {},
     "execution_count": 17
    }
   ],
   "source": [
    "# Construct the X test and y test datasets\n",
    "\n",
    "X_test = ts_file_df[x_var_list][testing_start:testing_end]\n",
    "y_test = ts_file_df['emax_signal'][testing_start:testing_end]\n",
    "\n",
    "X_test.head()"
   ]
  },
  {
   "cell_type": "code",
   "execution_count": 18,
   "metadata": {},
   "outputs": [
    {
     "output_type": "execute_result",
     "data": {
      "text/plain": [
       "Date_Time\n",
       "2019-01-14 08:45:00    0\n",
       "2019-01-14 09:00:00    0\n",
       "2019-01-14 09:15:00    0\n",
       "2019-01-14 09:30:00    0\n",
       "2019-01-14 09:45:00    0\n",
       "Name: emax_signal, dtype: int64"
      ]
     },
     "metadata": {},
     "execution_count": 18
    }
   ],
   "source": [
    "y_test.head()"
   ]
  },
  {
   "cell_type": "code",
   "execution_count": 19,
   "metadata": {},
   "outputs": [
    {
     "output_type": "execute_result",
     "data": {
      "text/plain": [
       "                       Open    High     Low   Close        Up      Down  \\\n",
       "Date_Time                                                                 \n",
       "2019-06-13 08:45:00  109.01  109.30  109.00  109.27  475047.0  353967.0   \n",
       "2019-06-13 09:00:00  109.46  110.09  109.39  110.06  182719.0  288328.0   \n",
       "2019-06-13 09:15:00  110.07  110.16  109.69  109.85  179614.0  123755.0   \n",
       "2019-06-13 09:30:00  109.85  109.99  109.43  109.43  158128.0  180381.0   \n",
       "2019-06-13 09:45:00  109.43  109.56  109.32  109.46   94904.0   99241.0   \n",
       "\n",
       "                       kcup    kclo  MidLine    bbup    bblo  FastEMA  SlowEMA  \n",
       "Date_Time                                                                       \n",
       "2019-06-13 08:45:00  109.66  108.71   109.18  109.44  108.92   109.19   109.36  \n",
       "2019-06-13 09:00:00  109.74  108.69   109.22  109.67  108.76   109.37   109.42  \n",
       "2019-06-13 09:15:00  109.79  108.69   109.24  109.76  108.71   109.46   109.46  \n",
       "2019-06-13 09:30:00  109.81  108.69   109.25  109.78  108.72   109.46   109.46  \n",
       "2019-06-13 09:45:00  109.83  108.72   109.28  109.79  108.76   109.46   109.46  "
      ],
      "text/html": "<div>\n<style scoped>\n    .dataframe tbody tr th:only-of-type {\n        vertical-align: middle;\n    }\n\n    .dataframe tbody tr th {\n        vertical-align: top;\n    }\n\n    .dataframe thead th {\n        text-align: right;\n    }\n</style>\n<table border=\"1\" class=\"dataframe\">\n  <thead>\n    <tr style=\"text-align: right;\">\n      <th></th>\n      <th>Open</th>\n      <th>High</th>\n      <th>Low</th>\n      <th>Close</th>\n      <th>Up</th>\n      <th>Down</th>\n      <th>kcup</th>\n      <th>kclo</th>\n      <th>MidLine</th>\n      <th>bbup</th>\n      <th>bblo</th>\n      <th>FastEMA</th>\n      <th>SlowEMA</th>\n    </tr>\n    <tr>\n      <th>Date_Time</th>\n      <th></th>\n      <th></th>\n      <th></th>\n      <th></th>\n      <th></th>\n      <th></th>\n      <th></th>\n      <th></th>\n      <th></th>\n      <th></th>\n      <th></th>\n      <th></th>\n      <th></th>\n    </tr>\n  </thead>\n  <tbody>\n    <tr>\n      <th>2019-06-13 08:45:00</th>\n      <td>109.01</td>\n      <td>109.30</td>\n      <td>109.00</td>\n      <td>109.27</td>\n      <td>475047.0</td>\n      <td>353967.0</td>\n      <td>109.66</td>\n      <td>108.71</td>\n      <td>109.18</td>\n      <td>109.44</td>\n      <td>108.92</td>\n      <td>109.19</td>\n      <td>109.36</td>\n    </tr>\n    <tr>\n      <th>2019-06-13 09:00:00</th>\n      <td>109.46</td>\n      <td>110.09</td>\n      <td>109.39</td>\n      <td>110.06</td>\n      <td>182719.0</td>\n      <td>288328.0</td>\n      <td>109.74</td>\n      <td>108.69</td>\n      <td>109.22</td>\n      <td>109.67</td>\n      <td>108.76</td>\n      <td>109.37</td>\n      <td>109.42</td>\n    </tr>\n    <tr>\n      <th>2019-06-13 09:15:00</th>\n      <td>110.07</td>\n      <td>110.16</td>\n      <td>109.69</td>\n      <td>109.85</td>\n      <td>179614.0</td>\n      <td>123755.0</td>\n      <td>109.79</td>\n      <td>108.69</td>\n      <td>109.24</td>\n      <td>109.76</td>\n      <td>108.71</td>\n      <td>109.46</td>\n      <td>109.46</td>\n    </tr>\n    <tr>\n      <th>2019-06-13 09:30:00</th>\n      <td>109.85</td>\n      <td>109.99</td>\n      <td>109.43</td>\n      <td>109.43</td>\n      <td>158128.0</td>\n      <td>180381.0</td>\n      <td>109.81</td>\n      <td>108.69</td>\n      <td>109.25</td>\n      <td>109.78</td>\n      <td>108.72</td>\n      <td>109.46</td>\n      <td>109.46</td>\n    </tr>\n    <tr>\n      <th>2019-06-13 09:45:00</th>\n      <td>109.43</td>\n      <td>109.56</td>\n      <td>109.32</td>\n      <td>109.46</td>\n      <td>94904.0</td>\n      <td>99241.0</td>\n      <td>109.83</td>\n      <td>108.72</td>\n      <td>109.28</td>\n      <td>109.79</td>\n      <td>108.76</td>\n      <td>109.46</td>\n      <td>109.46</td>\n    </tr>\n  </tbody>\n</table>\n</div>"
     },
     "metadata": {},
     "execution_count": 19
    }
   ],
   "source": [
    "# Construct the X valid and y validation datasets\n",
    "\n",
    "X_vali = ts_file_df[x_var_list][vali_start:vali_end]\n",
    "y_vali = ts_file_df['emax_signal'][vali_start:vali_end]\n",
    "\n",
    "X_vali.head()"
   ]
  },
  {
   "cell_type": "code",
   "execution_count": 20,
   "metadata": {},
   "outputs": [
    {
     "output_type": "execute_result",
     "data": {
      "text/plain": [
       "Date_Time\n",
       "2020-01-10 14:00:00    0\n",
       "2020-01-10 14:15:00    0\n",
       "2020-01-10 14:30:00    0\n",
       "2020-01-10 14:45:00    0\n",
       "2020-01-10 15:00:00    0\n",
       "Name: emax_signal, dtype: int64"
      ]
     },
     "metadata": {},
     "execution_count": 20
    }
   ],
   "source": [
    "y_vali.tail()"
   ]
  },
  {
   "cell_type": "code",
   "execution_count": null,
   "metadata": {},
   "outputs": [],
   "source": [
    "# StandardScaler "
   ]
  },
  {
   "cell_type": "code",
   "execution_count": 22,
   "metadata": {},
   "outputs": [],
   "source": [
    "from sklearn.preprocessing import StandardScaler\n",
    "from sklearn.model_selection import train_test_split\n",
    "from sklearn.metrics import confusion_matrix, accuracy_score, classification_report"
   ]
  },
  {
   "cell_type": "code",
   "execution_count": 23,
   "metadata": {},
   "outputs": [],
   "source": [
    "# Creating the StandardScaler instant \n",
    "scaler = StandardScaler()"
   ]
  },
  {
   "cell_type": "code",
   "execution_count": 24,
   "metadata": {},
   "outputs": [],
   "source": [
    "# Feeding StandardScaler for X_train, X_test, X_vali\n",
    "X_scaler_train = scaler.fit(X_train)"
   ]
  },
  {
   "cell_type": "code",
   "execution_count": 27,
   "metadata": {},
   "outputs": [],
   "source": [
    "# Scaling the data \n",
    "X_train_scaled = X_scaler_train.transform(X_train)"
   ]
  },
  {
   "cell_type": "code",
   "execution_count": 30,
   "metadata": {},
   "outputs": [],
   "source": [
    "X_test_scaled = X_scaler_train.transform(X_test)"
   ]
  },
  {
   "cell_type": "code",
   "execution_count": 31,
   "metadata": {},
   "outputs": [],
   "source": [
    "X_vali_scaled = X_scaler_train.transform(X_vali)"
   ]
  },
  {
   "cell_type": "code",
   "execution_count": 32,
   "metadata": {},
   "outputs": [],
   "source": [
    "# Import SKLearn library and Classes\n",
    "from sklearn.ensemble import RandomForestClassifier\n",
    "from sklearn.datasets import make_classification"
   ]
  },
  {
   "cell_type": "code",
   "execution_count": 33,
   "metadata": {},
   "outputs": [
    {
     "output_type": "execute_result",
     "data": {
      "text/plain": [
       "RandomForestClassifier(max_depth=5, n_estimators=1000, random_state=1)"
      ]
     },
     "metadata": {},
     "execution_count": 33
    }
   ],
   "source": [
    "# Fit SKLearn regression with training datasets:\n",
    "model = RandomForestClassifier(n_estimators=1000, max_depth=5, random_state=1)\n",
    "model.fit(X_train_scaled, y_train)"
   ]
  },
  {
   "cell_type": "code",
   "execution_count": 34,
   "metadata": {},
   "outputs": [],
   "source": [
    "# Make predictions of \"y\" values from the X_test dataset\n",
    "predictions = model.predict(X_test_scaled)"
   ]
  },
  {
   "cell_type": "code",
   "execution_count": 37,
   "metadata": {},
   "outputs": [
    {
     "output_type": "execute_result",
     "data": {
      "text/plain": [
       "                     emax_signal  predict_emax\n",
       "Date_Time                                     \n",
       "2019-01-14 08:45:00            0             0\n",
       "2019-01-14 09:00:00            0             0\n",
       "2019-01-14 09:15:00            0             0\n",
       "2019-01-14 09:30:00            0             0\n",
       "2019-01-14 09:45:00            0             0\n",
       "...                          ...           ...\n",
       "2019-06-12 14:00:00            0             0\n",
       "2019-06-12 14:15:00            0             0\n",
       "2019-06-12 14:30:00            0             0\n",
       "2019-06-12 14:45:00            0             0\n",
       "2019-06-12 15:00:00            0             0\n",
       "\n",
       "[2704 rows x 2 columns]"
      ],
      "text/html": "<div>\n<style scoped>\n    .dataframe tbody tr th:only-of-type {\n        vertical-align: middle;\n    }\n\n    .dataframe tbody tr th {\n        vertical-align: top;\n    }\n\n    .dataframe thead th {\n        text-align: right;\n    }\n</style>\n<table border=\"1\" class=\"dataframe\">\n  <thead>\n    <tr style=\"text-align: right;\">\n      <th></th>\n      <th>emax_signal</th>\n      <th>predict_emax</th>\n    </tr>\n    <tr>\n      <th>Date_Time</th>\n      <th></th>\n      <th></th>\n    </tr>\n  </thead>\n  <tbody>\n    <tr>\n      <th>2019-01-14 08:45:00</th>\n      <td>0</td>\n      <td>0</td>\n    </tr>\n    <tr>\n      <th>2019-01-14 09:00:00</th>\n      <td>0</td>\n      <td>0</td>\n    </tr>\n    <tr>\n      <th>2019-01-14 09:15:00</th>\n      <td>0</td>\n      <td>0</td>\n    </tr>\n    <tr>\n      <th>2019-01-14 09:30:00</th>\n      <td>0</td>\n      <td>0</td>\n    </tr>\n    <tr>\n      <th>2019-01-14 09:45:00</th>\n      <td>0</td>\n      <td>0</td>\n    </tr>\n    <tr>\n      <th>...</th>\n      <td>...</td>\n      <td>...</td>\n    </tr>\n    <tr>\n      <th>2019-06-12 14:00:00</th>\n      <td>0</td>\n      <td>0</td>\n    </tr>\n    <tr>\n      <th>2019-06-12 14:15:00</th>\n      <td>0</td>\n      <td>0</td>\n    </tr>\n    <tr>\n      <th>2019-06-12 14:30:00</th>\n      <td>0</td>\n      <td>0</td>\n    </tr>\n    <tr>\n      <th>2019-06-12 14:45:00</th>\n      <td>0</td>\n      <td>0</td>\n    </tr>\n    <tr>\n      <th>2019-06-12 15:00:00</th>\n      <td>0</td>\n      <td>0</td>\n    </tr>\n  </tbody>\n</table>\n<p>2704 rows × 2 columns</p>\n</div>"
     },
     "metadata": {},
     "execution_count": 37
    }
   ],
   "source": [
    "# Assemble actual y_test with predicted values\n",
    "\n",
    "compare_predict_df = y_test.to_frame()\n",
    "compare_predict_df[\"predict_emax\"] = predictions\n",
    "\n",
    "compare_predict_df"
   ]
  },
  {
   "cell_type": "code",
   "execution_count": null,
   "metadata": {},
   "outputs": [],
   "source": [
    "# Calculating the confusion matrix"
   ]
  }
 ]
}