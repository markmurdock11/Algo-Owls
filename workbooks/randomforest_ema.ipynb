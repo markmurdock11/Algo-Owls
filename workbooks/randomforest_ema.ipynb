{
 "metadata": {
  "language_info": {
   "codemirror_mode": {
    "name": "ipython",
    "version": 3
   },
   "file_extension": ".py",
   "mimetype": "text/x-python",
   "name": "python",
   "nbconvert_exporter": "python",
   "pygments_lexer": "ipython3",
   "version": "3.8.5-final"
  },
  "orig_nbformat": 2,
  "kernelspec": {
   "name": "python3",
   "display_name": "Python 3.8.5 64-bit ('project2': conda)",
   "metadata": {
    "interpreter": {
     "hash": "9ee557f5893fe86b807f8e83c995d71c87da1e8a07bba49603534fad992d4e2f"
    }
   }
  }
 },
 "nbformat": 4,
 "nbformat_minor": 2,
 "cells": [
  {
   "cell_type": "code",
   "execution_count": 1,
   "metadata": {},
   "outputs": [],
   "source": [
    "# Random forest model for EMA crossover identifier\n",
    "import pandas as pd\n",
    "import numpy as np\n",
    "from pathlib import Path\n",
    "%matplotlib inline\n",
    "\n",
    "import warnings\n",
    "warnings.filterwarnings('ignore')"
   ]
  },
  {
   "cell_type": "code",
   "execution_count": 2,
   "metadata": {},
   "outputs": [
    {
     "output_type": "execute_result",
     "data": {
      "text/plain": [
       "PosixPath('../Resources/ts_emax_x_squeeze.csv')"
      ]
     },
     "metadata": {},
     "execution_count": 2
    }
   ],
   "source": [
    "csv_path = Path('../Resources/ts_emax_x_squeeze.csv')\n",
    "csv_path"
   ]
  },
  {
   "cell_type": "code",
   "execution_count": 3,
   "metadata": {},
   "outputs": [
    {
     "output_type": "execute_result",
     "data": {
      "text/plain": [
       "                Date_Time    Open    High     Low   Close      Up    Down  \\\n",
       "19600 2021-01-12 14:00:00  140.46  140.58  140.34  140.46  152792  140537   \n",
       "19601 2021-01-12 14:15:00  140.47  140.92  140.47  140.60  170378  174631   \n",
       "19602 2021-01-12 14:30:00  140.61  140.75  140.42  140.48  177439  178475   \n",
       "19603 2021-01-12 14:45:00  140.47  140.50  140.10  140.17  205777  182808   \n",
       "19604 2021-01-12 15:00:00  140.18  140.63  140.14  140.21  502297  446696   \n",
       "\n",
       "         kcup    kclo  MidLine    bbup    bblo  MidLine.1  FastEMA  SlowEMA  \\\n",
       "19600  142.13  139.93   141.03  141.69  140.37     141.03   140.76   140.44   \n",
       "19601  142.04  139.98   141.01  141.69  140.33     141.01   140.73   140.46   \n",
       "19602  141.98  139.99   140.99  141.71  140.27     140.99   140.68   140.46   \n",
       "19603  141.92  139.99   140.95  141.76  140.15     140.95   140.58   140.43   \n",
       "19604  141.81  139.98   140.89  141.72  140.06     140.89   140.51   140.41   \n",
       "\n",
       "       squeeze  emax_signal  \n",
       "19600        1            0  \n",
       "19601        1            0  \n",
       "19602        1            0  \n",
       "19603        1            0  \n",
       "19604        1            0  "
      ],
      "text/html": "<div>\n<style scoped>\n    .dataframe tbody tr th:only-of-type {\n        vertical-align: middle;\n    }\n\n    .dataframe tbody tr th {\n        vertical-align: top;\n    }\n\n    .dataframe thead th {\n        text-align: right;\n    }\n</style>\n<table border=\"1\" class=\"dataframe\">\n  <thead>\n    <tr style=\"text-align: right;\">\n      <th></th>\n      <th>Date_Time</th>\n      <th>Open</th>\n      <th>High</th>\n      <th>Low</th>\n      <th>Close</th>\n      <th>Up</th>\n      <th>Down</th>\n      <th>kcup</th>\n      <th>kclo</th>\n      <th>MidLine</th>\n      <th>bbup</th>\n      <th>bblo</th>\n      <th>MidLine.1</th>\n      <th>FastEMA</th>\n      <th>SlowEMA</th>\n      <th>squeeze</th>\n      <th>emax_signal</th>\n    </tr>\n  </thead>\n  <tbody>\n    <tr>\n      <th>19600</th>\n      <td>2021-01-12 14:00:00</td>\n      <td>140.46</td>\n      <td>140.58</td>\n      <td>140.34</td>\n      <td>140.46</td>\n      <td>152792</td>\n      <td>140537</td>\n      <td>142.13</td>\n      <td>139.93</td>\n      <td>141.03</td>\n      <td>141.69</td>\n      <td>140.37</td>\n      <td>141.03</td>\n      <td>140.76</td>\n      <td>140.44</td>\n      <td>1</td>\n      <td>0</td>\n    </tr>\n    <tr>\n      <th>19601</th>\n      <td>2021-01-12 14:15:00</td>\n      <td>140.47</td>\n      <td>140.92</td>\n      <td>140.47</td>\n      <td>140.60</td>\n      <td>170378</td>\n      <td>174631</td>\n      <td>142.04</td>\n      <td>139.98</td>\n      <td>141.01</td>\n      <td>141.69</td>\n      <td>140.33</td>\n      <td>141.01</td>\n      <td>140.73</td>\n      <td>140.46</td>\n      <td>1</td>\n      <td>0</td>\n    </tr>\n    <tr>\n      <th>19602</th>\n      <td>2021-01-12 14:30:00</td>\n      <td>140.61</td>\n      <td>140.75</td>\n      <td>140.42</td>\n      <td>140.48</td>\n      <td>177439</td>\n      <td>178475</td>\n      <td>141.98</td>\n      <td>139.99</td>\n      <td>140.99</td>\n      <td>141.71</td>\n      <td>140.27</td>\n      <td>140.99</td>\n      <td>140.68</td>\n      <td>140.46</td>\n      <td>1</td>\n      <td>0</td>\n    </tr>\n    <tr>\n      <th>19603</th>\n      <td>2021-01-12 14:45:00</td>\n      <td>140.47</td>\n      <td>140.50</td>\n      <td>140.10</td>\n      <td>140.17</td>\n      <td>205777</td>\n      <td>182808</td>\n      <td>141.92</td>\n      <td>139.99</td>\n      <td>140.95</td>\n      <td>141.76</td>\n      <td>140.15</td>\n      <td>140.95</td>\n      <td>140.58</td>\n      <td>140.43</td>\n      <td>1</td>\n      <td>0</td>\n    </tr>\n    <tr>\n      <th>19604</th>\n      <td>2021-01-12 15:00:00</td>\n      <td>140.18</td>\n      <td>140.63</td>\n      <td>140.14</td>\n      <td>140.21</td>\n      <td>502297</td>\n      <td>446696</td>\n      <td>141.81</td>\n      <td>139.98</td>\n      <td>140.89</td>\n      <td>141.72</td>\n      <td>140.06</td>\n      <td>140.89</td>\n      <td>140.51</td>\n      <td>140.41</td>\n      <td>1</td>\n      <td>0</td>\n    </tr>\n  </tbody>\n</table>\n</div>"
     },
     "metadata": {},
     "execution_count": 3
    }
   ],
   "source": [
    "ts_file_df = pd.read_csv(csv_path, parse_dates=[['Date', 'Time']])\n",
    "ts_file_df.tail()"
   ]
  },
  {
   "cell_type": "code",
   "execution_count": 4,
   "metadata": {},
   "outputs": [
    {
     "output_type": "execute_result",
     "data": {
      "text/plain": [
       "                       Open    High     Low   Close       Up     Down  kcup  \\\n",
       "Date_Time                                                                     \n",
       "2018-01-12 08:45:00  111.65  111.98  110.84  111.22  1051611  1206429   0.0   \n",
       "2018-01-12 09:00:00  111.21  112.04  111.17  111.93   645133   604771   0.0   \n",
       "2018-01-12 09:15:00  111.93  112.20  111.87  112.13   541130   492175   0.0   \n",
       "2018-01-12 09:30:00  112.13  112.18  111.56  111.91   332412   418068   0.0   \n",
       "2018-01-12 09:45:00  111.91  112.24  111.85  111.97   281205   290538   0.0   \n",
       "\n",
       "                     kclo  MidLine  bbup  bblo  FastEMA  SlowEMA  squeeze  \\\n",
       "Date_Time                                                                   \n",
       "2018-01-12 08:45:00   0.0      0.0   0.0   0.0     0.00     0.00        0   \n",
       "2018-01-12 09:00:00   0.0      0.0   0.0   0.0   111.93   111.93        0   \n",
       "2018-01-12 09:15:00   0.0      0.0   0.0   0.0   111.97   111.95        0   \n",
       "2018-01-12 09:30:00   0.0      0.0   0.0   0.0   111.96   111.94        0   \n",
       "2018-01-12 09:45:00   0.0      0.0   0.0   0.0   111.96   111.95        0   \n",
       "\n",
       "                     emax_signal  \n",
       "Date_Time                         \n",
       "2018-01-12 08:45:00            0  \n",
       "2018-01-12 09:00:00            0  \n",
       "2018-01-12 09:15:00            0  \n",
       "2018-01-12 09:30:00            0  \n",
       "2018-01-12 09:45:00            0  "
      ],
      "text/html": "<div>\n<style scoped>\n    .dataframe tbody tr th:only-of-type {\n        vertical-align: middle;\n    }\n\n    .dataframe tbody tr th {\n        vertical-align: top;\n    }\n\n    .dataframe thead th {\n        text-align: right;\n    }\n</style>\n<table border=\"1\" class=\"dataframe\">\n  <thead>\n    <tr style=\"text-align: right;\">\n      <th></th>\n      <th>Open</th>\n      <th>High</th>\n      <th>Low</th>\n      <th>Close</th>\n      <th>Up</th>\n      <th>Down</th>\n      <th>kcup</th>\n      <th>kclo</th>\n      <th>MidLine</th>\n      <th>bbup</th>\n      <th>bblo</th>\n      <th>FastEMA</th>\n      <th>SlowEMA</th>\n      <th>squeeze</th>\n      <th>emax_signal</th>\n    </tr>\n    <tr>\n      <th>Date_Time</th>\n      <th></th>\n      <th></th>\n      <th></th>\n      <th></th>\n      <th></th>\n      <th></th>\n      <th></th>\n      <th></th>\n      <th></th>\n      <th></th>\n      <th></th>\n      <th></th>\n      <th></th>\n      <th></th>\n      <th></th>\n    </tr>\n  </thead>\n  <tbody>\n    <tr>\n      <th>2018-01-12 08:45:00</th>\n      <td>111.65</td>\n      <td>111.98</td>\n      <td>110.84</td>\n      <td>111.22</td>\n      <td>1051611</td>\n      <td>1206429</td>\n      <td>0.0</td>\n      <td>0.0</td>\n      <td>0.0</td>\n      <td>0.0</td>\n      <td>0.0</td>\n      <td>0.00</td>\n      <td>0.00</td>\n      <td>0</td>\n      <td>0</td>\n    </tr>\n    <tr>\n      <th>2018-01-12 09:00:00</th>\n      <td>111.21</td>\n      <td>112.04</td>\n      <td>111.17</td>\n      <td>111.93</td>\n      <td>645133</td>\n      <td>604771</td>\n      <td>0.0</td>\n      <td>0.0</td>\n      <td>0.0</td>\n      <td>0.0</td>\n      <td>0.0</td>\n      <td>111.93</td>\n      <td>111.93</td>\n      <td>0</td>\n      <td>0</td>\n    </tr>\n    <tr>\n      <th>2018-01-12 09:15:00</th>\n      <td>111.93</td>\n      <td>112.20</td>\n      <td>111.87</td>\n      <td>112.13</td>\n      <td>541130</td>\n      <td>492175</td>\n      <td>0.0</td>\n      <td>0.0</td>\n      <td>0.0</td>\n      <td>0.0</td>\n      <td>0.0</td>\n      <td>111.97</td>\n      <td>111.95</td>\n      <td>0</td>\n      <td>0</td>\n    </tr>\n    <tr>\n      <th>2018-01-12 09:30:00</th>\n      <td>112.13</td>\n      <td>112.18</td>\n      <td>111.56</td>\n      <td>111.91</td>\n      <td>332412</td>\n      <td>418068</td>\n      <td>0.0</td>\n      <td>0.0</td>\n      <td>0.0</td>\n      <td>0.0</td>\n      <td>0.0</td>\n      <td>111.96</td>\n      <td>111.94</td>\n      <td>0</td>\n      <td>0</td>\n    </tr>\n    <tr>\n      <th>2018-01-12 09:45:00</th>\n      <td>111.91</td>\n      <td>112.24</td>\n      <td>111.85</td>\n      <td>111.97</td>\n      <td>281205</td>\n      <td>290538</td>\n      <td>0.0</td>\n      <td>0.0</td>\n      <td>0.0</td>\n      <td>0.0</td>\n      <td>0.0</td>\n      <td>111.96</td>\n      <td>111.95</td>\n      <td>0</td>\n      <td>0</td>\n    </tr>\n  </tbody>\n</table>\n</div>"
     },
     "metadata": {},
     "execution_count": 4
    }
   ],
   "source": [
    "# set index as Date_Time and drop MidLine.1 column (it is a duplicate of MidLine)\n",
    "ts_file_df.set_index(pd.to_datetime(ts_file_df['Date_Time'], infer_datetime_format=True), inplace=True)\n",
    "ts_file_df.drop(columns=['Date_Time', 'MidLine.1'], inplace=True)\n",
    "ts_file_df.head()"
   ]
  },
  {
   "cell_type": "code",
   "execution_count": 5,
   "metadata": {},
   "outputs": [
    {
     "output_type": "execute_result",
     "data": {
      "text/plain": [
       "                       Open    High     Low   Close       Up     Down  kcup  \\\n",
       "Date_Time                                                                     \n",
       "2018-01-12 08:45:00  111.65  111.98  110.84  111.22  1051611  1206429   0.0   \n",
       "2018-01-12 09:00:00  111.21  112.04  111.17  111.93   645133   604771   0.0   \n",
       "2018-01-12 09:15:00  111.93  112.20  111.87  112.13   541130   492175   0.0   \n",
       "2018-01-12 09:30:00  112.13  112.18  111.56  111.91   332412   418068   0.0   \n",
       "2018-01-12 09:45:00  111.91  112.24  111.85  111.97   281205   290538   0.0   \n",
       "\n",
       "                     kclo  MidLine  bbup  bblo  FastEMA  SlowEMA  \n",
       "Date_Time                                                         \n",
       "2018-01-12 08:45:00   0.0      0.0   0.0   0.0     0.00     0.00  \n",
       "2018-01-12 09:00:00   0.0      0.0   0.0   0.0   111.93   111.93  \n",
       "2018-01-12 09:15:00   0.0      0.0   0.0   0.0   111.97   111.95  \n",
       "2018-01-12 09:30:00   0.0      0.0   0.0   0.0   111.96   111.94  \n",
       "2018-01-12 09:45:00   0.0      0.0   0.0   0.0   111.96   111.95  "
      ],
      "text/html": "<div>\n<style scoped>\n    .dataframe tbody tr th:only-of-type {\n        vertical-align: middle;\n    }\n\n    .dataframe tbody tr th {\n        vertical-align: top;\n    }\n\n    .dataframe thead th {\n        text-align: right;\n    }\n</style>\n<table border=\"1\" class=\"dataframe\">\n  <thead>\n    <tr style=\"text-align: right;\">\n      <th></th>\n      <th>Open</th>\n      <th>High</th>\n      <th>Low</th>\n      <th>Close</th>\n      <th>Up</th>\n      <th>Down</th>\n      <th>kcup</th>\n      <th>kclo</th>\n      <th>MidLine</th>\n      <th>bbup</th>\n      <th>bblo</th>\n      <th>FastEMA</th>\n      <th>SlowEMA</th>\n    </tr>\n    <tr>\n      <th>Date_Time</th>\n      <th></th>\n      <th></th>\n      <th></th>\n      <th></th>\n      <th></th>\n      <th></th>\n      <th></th>\n      <th></th>\n      <th></th>\n      <th></th>\n      <th></th>\n      <th></th>\n      <th></th>\n    </tr>\n  </thead>\n  <tbody>\n    <tr>\n      <th>2018-01-12 08:45:00</th>\n      <td>111.65</td>\n      <td>111.98</td>\n      <td>110.84</td>\n      <td>111.22</td>\n      <td>1051611</td>\n      <td>1206429</td>\n      <td>0.0</td>\n      <td>0.0</td>\n      <td>0.0</td>\n      <td>0.0</td>\n      <td>0.0</td>\n      <td>0.00</td>\n      <td>0.00</td>\n    </tr>\n    <tr>\n      <th>2018-01-12 09:00:00</th>\n      <td>111.21</td>\n      <td>112.04</td>\n      <td>111.17</td>\n      <td>111.93</td>\n      <td>645133</td>\n      <td>604771</td>\n      <td>0.0</td>\n      <td>0.0</td>\n      <td>0.0</td>\n      <td>0.0</td>\n      <td>0.0</td>\n      <td>111.93</td>\n      <td>111.93</td>\n    </tr>\n    <tr>\n      <th>2018-01-12 09:15:00</th>\n      <td>111.93</td>\n      <td>112.20</td>\n      <td>111.87</td>\n      <td>112.13</td>\n      <td>541130</td>\n      <td>492175</td>\n      <td>0.0</td>\n      <td>0.0</td>\n      <td>0.0</td>\n      <td>0.0</td>\n      <td>0.0</td>\n      <td>111.97</td>\n      <td>111.95</td>\n    </tr>\n    <tr>\n      <th>2018-01-12 09:30:00</th>\n      <td>112.13</td>\n      <td>112.18</td>\n      <td>111.56</td>\n      <td>111.91</td>\n      <td>332412</td>\n      <td>418068</td>\n      <td>0.0</td>\n      <td>0.0</td>\n      <td>0.0</td>\n      <td>0.0</td>\n      <td>0.0</td>\n      <td>111.96</td>\n      <td>111.94</td>\n    </tr>\n    <tr>\n      <th>2018-01-12 09:45:00</th>\n      <td>111.91</td>\n      <td>112.24</td>\n      <td>111.85</td>\n      <td>111.97</td>\n      <td>281205</td>\n      <td>290538</td>\n      <td>0.0</td>\n      <td>0.0</td>\n      <td>0.0</td>\n      <td>0.0</td>\n      <td>0.0</td>\n      <td>111.96</td>\n      <td>111.95</td>\n    </tr>\n  </tbody>\n</table>\n</div>"
     },
     "metadata": {},
     "execution_count": 5
    }
   ],
   "source": [
    "# Set a variable list of features to feed to our model\n",
    "\n",
    "x_var_list = ['Open', 'High', 'Low', 'Close', 'Up', 'Down', 'kcup', 'kclo', 'MidLine', 'bbup', 'bblo', 'FastEMA', 'SlowEMA']\n",
    "ts_file_df[x_var_list].head()"
   ]
  },
  {
   "cell_type": "code",
   "execution_count": 6,
   "metadata": {},
   "outputs": [
    {
     "output_type": "execute_result",
     "data": {
      "text/plain": [
       "                       Open    High     Low   Close         Up       Down  \\\n",
       "Date_Time                                                                   \n",
       "2018-01-12 08:45:00     NaN     NaN     NaN     NaN        NaN        NaN   \n",
       "2018-01-12 09:00:00  111.65  111.98  110.84  111.22  1051611.0  1206429.0   \n",
       "2018-01-12 09:15:00  111.21  112.04  111.17  111.93   645133.0   604771.0   \n",
       "2018-01-12 09:30:00  111.93  112.20  111.87  112.13   541130.0   492175.0   \n",
       "2018-01-12 09:45:00  112.13  112.18  111.56  111.91   332412.0   418068.0   \n",
       "\n",
       "                     kcup  kclo  MidLine  bbup  bblo  FastEMA  SlowEMA  \n",
       "Date_Time                                                               \n",
       "2018-01-12 08:45:00   NaN   NaN      NaN   NaN   NaN      NaN      NaN  \n",
       "2018-01-12 09:00:00   0.0   0.0      0.0   0.0   0.0     0.00     0.00  \n",
       "2018-01-12 09:15:00   0.0   0.0      0.0   0.0   0.0   111.93   111.93  \n",
       "2018-01-12 09:30:00   0.0   0.0      0.0   0.0   0.0   111.97   111.95  \n",
       "2018-01-12 09:45:00   0.0   0.0      0.0   0.0   0.0   111.96   111.94  "
      ],
      "text/html": "<div>\n<style scoped>\n    .dataframe tbody tr th:only-of-type {\n        vertical-align: middle;\n    }\n\n    .dataframe tbody tr th {\n        vertical-align: top;\n    }\n\n    .dataframe thead th {\n        text-align: right;\n    }\n</style>\n<table border=\"1\" class=\"dataframe\">\n  <thead>\n    <tr style=\"text-align: right;\">\n      <th></th>\n      <th>Open</th>\n      <th>High</th>\n      <th>Low</th>\n      <th>Close</th>\n      <th>Up</th>\n      <th>Down</th>\n      <th>kcup</th>\n      <th>kclo</th>\n      <th>MidLine</th>\n      <th>bbup</th>\n      <th>bblo</th>\n      <th>FastEMA</th>\n      <th>SlowEMA</th>\n    </tr>\n    <tr>\n      <th>Date_Time</th>\n      <th></th>\n      <th></th>\n      <th></th>\n      <th></th>\n      <th></th>\n      <th></th>\n      <th></th>\n      <th></th>\n      <th></th>\n      <th></th>\n      <th></th>\n      <th></th>\n      <th></th>\n    </tr>\n  </thead>\n  <tbody>\n    <tr>\n      <th>2018-01-12 08:45:00</th>\n      <td>NaN</td>\n      <td>NaN</td>\n      <td>NaN</td>\n      <td>NaN</td>\n      <td>NaN</td>\n      <td>NaN</td>\n      <td>NaN</td>\n      <td>NaN</td>\n      <td>NaN</td>\n      <td>NaN</td>\n      <td>NaN</td>\n      <td>NaN</td>\n      <td>NaN</td>\n    </tr>\n    <tr>\n      <th>2018-01-12 09:00:00</th>\n      <td>111.65</td>\n      <td>111.98</td>\n      <td>110.84</td>\n      <td>111.22</td>\n      <td>1051611.0</td>\n      <td>1206429.0</td>\n      <td>0.0</td>\n      <td>0.0</td>\n      <td>0.0</td>\n      <td>0.0</td>\n      <td>0.0</td>\n      <td>0.00</td>\n      <td>0.00</td>\n    </tr>\n    <tr>\n      <th>2018-01-12 09:15:00</th>\n      <td>111.21</td>\n      <td>112.04</td>\n      <td>111.17</td>\n      <td>111.93</td>\n      <td>645133.0</td>\n      <td>604771.0</td>\n      <td>0.0</td>\n      <td>0.0</td>\n      <td>0.0</td>\n      <td>0.0</td>\n      <td>0.0</td>\n      <td>111.93</td>\n      <td>111.93</td>\n    </tr>\n    <tr>\n      <th>2018-01-12 09:30:00</th>\n      <td>111.93</td>\n      <td>112.20</td>\n      <td>111.87</td>\n      <td>112.13</td>\n      <td>541130.0</td>\n      <td>492175.0</td>\n      <td>0.0</td>\n      <td>0.0</td>\n      <td>0.0</td>\n      <td>0.0</td>\n      <td>0.0</td>\n      <td>111.97</td>\n      <td>111.95</td>\n    </tr>\n    <tr>\n      <th>2018-01-12 09:45:00</th>\n      <td>112.13</td>\n      <td>112.18</td>\n      <td>111.56</td>\n      <td>111.91</td>\n      <td>332412.0</td>\n      <td>418068.0</td>\n      <td>0.0</td>\n      <td>0.0</td>\n      <td>0.0</td>\n      <td>0.0</td>\n      <td>0.0</td>\n      <td>111.96</td>\n      <td>111.94</td>\n    </tr>\n  </tbody>\n</table>\n</div>"
     },
     "metadata": {},
     "execution_count": 6
    }
   ],
   "source": [
    "# Shift DataFrame values by 1\n",
    "ts_file_df[x_var_list] = ts_file_df[x_var_list].shift(1)\n",
    "ts_file_df[x_var_list].head()"
   ]
  },
  {
   "cell_type": "code",
   "execution_count": 7,
   "metadata": {},
   "outputs": [
    {
     "output_type": "execute_result",
     "data": {
      "text/plain": [
       "                       Open    High     Low   Close         Up       Down  \\\n",
       "Date_Time                                                                   \n",
       "2018-01-12 09:00:00  111.65  111.98  110.84  111.22  1051611.0  1206429.0   \n",
       "2018-01-12 09:15:00  111.21  112.04  111.17  111.93   645133.0   604771.0   \n",
       "2018-01-12 09:30:00  111.93  112.20  111.87  112.13   541130.0   492175.0   \n",
       "2018-01-12 09:45:00  112.13  112.18  111.56  111.91   332412.0   418068.0   \n",
       "2018-01-12 10:00:00  111.91  112.24  111.85  111.97   281205.0   290538.0   \n",
       "\n",
       "                     kcup  kclo  MidLine  bbup  bblo  FastEMA  SlowEMA  \\\n",
       "Date_Time                                                                \n",
       "2018-01-12 09:00:00   0.0   0.0      0.0   0.0   0.0     0.00     0.00   \n",
       "2018-01-12 09:15:00   0.0   0.0      0.0   0.0   0.0   111.93   111.93   \n",
       "2018-01-12 09:30:00   0.0   0.0      0.0   0.0   0.0   111.97   111.95   \n",
       "2018-01-12 09:45:00   0.0   0.0      0.0   0.0   0.0   111.96   111.94   \n",
       "2018-01-12 10:00:00   0.0   0.0      0.0   0.0   0.0   111.96   111.95   \n",
       "\n",
       "                     squeeze  emax_signal  \n",
       "Date_Time                                  \n",
       "2018-01-12 09:00:00        0            0  \n",
       "2018-01-12 09:15:00        0            0  \n",
       "2018-01-12 09:30:00        0            0  \n",
       "2018-01-12 09:45:00        0            0  \n",
       "2018-01-12 10:00:00        0            0  "
      ],
      "text/html": "<div>\n<style scoped>\n    .dataframe tbody tr th:only-of-type {\n        vertical-align: middle;\n    }\n\n    .dataframe tbody tr th {\n        vertical-align: top;\n    }\n\n    .dataframe thead th {\n        text-align: right;\n    }\n</style>\n<table border=\"1\" class=\"dataframe\">\n  <thead>\n    <tr style=\"text-align: right;\">\n      <th></th>\n      <th>Open</th>\n      <th>High</th>\n      <th>Low</th>\n      <th>Close</th>\n      <th>Up</th>\n      <th>Down</th>\n      <th>kcup</th>\n      <th>kclo</th>\n      <th>MidLine</th>\n      <th>bbup</th>\n      <th>bblo</th>\n      <th>FastEMA</th>\n      <th>SlowEMA</th>\n      <th>squeeze</th>\n      <th>emax_signal</th>\n    </tr>\n    <tr>\n      <th>Date_Time</th>\n      <th></th>\n      <th></th>\n      <th></th>\n      <th></th>\n      <th></th>\n      <th></th>\n      <th></th>\n      <th></th>\n      <th></th>\n      <th></th>\n      <th></th>\n      <th></th>\n      <th></th>\n      <th></th>\n      <th></th>\n    </tr>\n  </thead>\n  <tbody>\n    <tr>\n      <th>2018-01-12 09:00:00</th>\n      <td>111.65</td>\n      <td>111.98</td>\n      <td>110.84</td>\n      <td>111.22</td>\n      <td>1051611.0</td>\n      <td>1206429.0</td>\n      <td>0.0</td>\n      <td>0.0</td>\n      <td>0.0</td>\n      <td>0.0</td>\n      <td>0.0</td>\n      <td>0.00</td>\n      <td>0.00</td>\n      <td>0</td>\n      <td>0</td>\n    </tr>\n    <tr>\n      <th>2018-01-12 09:15:00</th>\n      <td>111.21</td>\n      <td>112.04</td>\n      <td>111.17</td>\n      <td>111.93</td>\n      <td>645133.0</td>\n      <td>604771.0</td>\n      <td>0.0</td>\n      <td>0.0</td>\n      <td>0.0</td>\n      <td>0.0</td>\n      <td>0.0</td>\n      <td>111.93</td>\n      <td>111.93</td>\n      <td>0</td>\n      <td>0</td>\n    </tr>\n    <tr>\n      <th>2018-01-12 09:30:00</th>\n      <td>111.93</td>\n      <td>112.20</td>\n      <td>111.87</td>\n      <td>112.13</td>\n      <td>541130.0</td>\n      <td>492175.0</td>\n      <td>0.0</td>\n      <td>0.0</td>\n      <td>0.0</td>\n      <td>0.0</td>\n      <td>0.0</td>\n      <td>111.97</td>\n      <td>111.95</td>\n      <td>0</td>\n      <td>0</td>\n    </tr>\n    <tr>\n      <th>2018-01-12 09:45:00</th>\n      <td>112.13</td>\n      <td>112.18</td>\n      <td>111.56</td>\n      <td>111.91</td>\n      <td>332412.0</td>\n      <td>418068.0</td>\n      <td>0.0</td>\n      <td>0.0</td>\n      <td>0.0</td>\n      <td>0.0</td>\n      <td>0.0</td>\n      <td>111.96</td>\n      <td>111.94</td>\n      <td>0</td>\n      <td>0</td>\n    </tr>\n    <tr>\n      <th>2018-01-12 10:00:00</th>\n      <td>111.91</td>\n      <td>112.24</td>\n      <td>111.85</td>\n      <td>111.97</td>\n      <td>281205.0</td>\n      <td>290538.0</td>\n      <td>0.0</td>\n      <td>0.0</td>\n      <td>0.0</td>\n      <td>0.0</td>\n      <td>0.0</td>\n      <td>111.96</td>\n      <td>111.95</td>\n      <td>0</td>\n      <td>0</td>\n    </tr>\n  </tbody>\n</table>\n</div>"
     },
     "metadata": {},
     "execution_count": 7
    }
   ],
   "source": [
    "ts_file_df.dropna(inplace=True)\n",
    "ts_file_df.head()"
   ]
  },
  {
   "cell_type": "code",
   "execution_count": 8,
   "metadata": {},
   "outputs": [],
   "source": [
    "from sklearn.preprocessing import StandardScaler\n",
    "from sklearn.model_selection import train_test_split\n",
    "from sklearn.metrics import confusion_matrix, accuracy_score, classification_report"
   ]
  },
  {
   "cell_type": "code",
   "execution_count": 9,
   "metadata": {},
   "outputs": [
    {
     "output_type": "stream",
     "name": "stdout",
     "text": [
      "Training Start: 2018-01-12\nTraining End: 2019-01-11\nTesting Start: 2019-01-12\nTesting End: 2019-06-12\nvalidating Start: 2019-06-13\nvalidating end: 2020-01-12\n"
     ]
    }
   ],
   "source": [
    "# Construct training start and training end dates\n",
    "\n",
    "training_start = ts_file_df.index.min().strftime(format='%Y-%m-%d')\n",
    "training_end = '2019-01-11'\n",
    "\n",
    "# Construct test start and test end dates\n",
    "\n",
    "testing_start = '2019-01-12'\n",
    "testing_end = '2019-06-12'\n",
    "\n",
    "# Construct validating start and validating end dates\n",
    "\n",
    "vali_start = '2019-06-13'\n",
    "vali_end = '2020-01-12'\n",
    "\n",
    "# Confirming training, testing and validating dates\n",
    "print(f\"Training Start: {training_start}\")\n",
    "print(f\"Training End: {training_end}\")\n",
    "print(f\"Testing Start: {testing_start}\")\n",
    "print(f\"Testing End: {testing_end}\")\n",
    "print(f\"validating Start: {vali_start}\")\n",
    "print(f\"validating end: {vali_end}\")"
   ]
  },
  {
   "cell_type": "code",
   "execution_count": 15,
   "metadata": {},
   "outputs": [
    {
     "output_type": "execute_result",
     "data": {
      "text/plain": [
       "                       Open    High     Low   Close         Up       Down  \\\n",
       "Date_Time                                                                   \n",
       "2018-01-12 09:00:00  111.65  111.98  110.84  111.22  1051611.0  1206429.0   \n",
       "2018-01-12 09:15:00  111.21  112.04  111.17  111.93   645133.0   604771.0   \n",
       "2018-01-12 09:30:00  111.93  112.20  111.87  112.13   541130.0   492175.0   \n",
       "2018-01-12 09:45:00  112.13  112.18  111.56  111.91   332412.0   418068.0   \n",
       "2018-01-12 10:00:00  111.91  112.24  111.85  111.97   281205.0   290538.0   \n",
       "\n",
       "                     kcup  kclo  MidLine  bbup  bblo  FastEMA  SlowEMA  \n",
       "Date_Time                                                               \n",
       "2018-01-12 09:00:00   0.0   0.0      0.0   0.0   0.0     0.00     0.00  \n",
       "2018-01-12 09:15:00   0.0   0.0      0.0   0.0   0.0   111.93   111.93  \n",
       "2018-01-12 09:30:00   0.0   0.0      0.0   0.0   0.0   111.97   111.95  \n",
       "2018-01-12 09:45:00   0.0   0.0      0.0   0.0   0.0   111.96   111.94  \n",
       "2018-01-12 10:00:00   0.0   0.0      0.0   0.0   0.0   111.96   111.95  "
      ],
      "text/html": "<div>\n<style scoped>\n    .dataframe tbody tr th:only-of-type {\n        vertical-align: middle;\n    }\n\n    .dataframe tbody tr th {\n        vertical-align: top;\n    }\n\n    .dataframe thead th {\n        text-align: right;\n    }\n</style>\n<table border=\"1\" class=\"dataframe\">\n  <thead>\n    <tr style=\"text-align: right;\">\n      <th></th>\n      <th>Open</th>\n      <th>High</th>\n      <th>Low</th>\n      <th>Close</th>\n      <th>Up</th>\n      <th>Down</th>\n      <th>kcup</th>\n      <th>kclo</th>\n      <th>MidLine</th>\n      <th>bbup</th>\n      <th>bblo</th>\n      <th>FastEMA</th>\n      <th>SlowEMA</th>\n    </tr>\n    <tr>\n      <th>Date_Time</th>\n      <th></th>\n      <th></th>\n      <th></th>\n      <th></th>\n      <th></th>\n      <th></th>\n      <th></th>\n      <th></th>\n      <th></th>\n      <th></th>\n      <th></th>\n      <th></th>\n      <th></th>\n    </tr>\n  </thead>\n  <tbody>\n    <tr>\n      <th>2018-01-12 09:00:00</th>\n      <td>111.65</td>\n      <td>111.98</td>\n      <td>110.84</td>\n      <td>111.22</td>\n      <td>1051611.0</td>\n      <td>1206429.0</td>\n      <td>0.0</td>\n      <td>0.0</td>\n      <td>0.0</td>\n      <td>0.0</td>\n      <td>0.0</td>\n      <td>0.00</td>\n      <td>0.00</td>\n    </tr>\n    <tr>\n      <th>2018-01-12 09:15:00</th>\n      <td>111.21</td>\n      <td>112.04</td>\n      <td>111.17</td>\n      <td>111.93</td>\n      <td>645133.0</td>\n      <td>604771.0</td>\n      <td>0.0</td>\n      <td>0.0</td>\n      <td>0.0</td>\n      <td>0.0</td>\n      <td>0.0</td>\n      <td>111.93</td>\n      <td>111.93</td>\n    </tr>\n    <tr>\n      <th>2018-01-12 09:30:00</th>\n      <td>111.93</td>\n      <td>112.20</td>\n      <td>111.87</td>\n      <td>112.13</td>\n      <td>541130.0</td>\n      <td>492175.0</td>\n      <td>0.0</td>\n      <td>0.0</td>\n      <td>0.0</td>\n      <td>0.0</td>\n      <td>0.0</td>\n      <td>111.97</td>\n      <td>111.95</td>\n    </tr>\n    <tr>\n      <th>2018-01-12 09:45:00</th>\n      <td>112.13</td>\n      <td>112.18</td>\n      <td>111.56</td>\n      <td>111.91</td>\n      <td>332412.0</td>\n      <td>418068.0</td>\n      <td>0.0</td>\n      <td>0.0</td>\n      <td>0.0</td>\n      <td>0.0</td>\n      <td>0.0</td>\n      <td>111.96</td>\n      <td>111.94</td>\n    </tr>\n    <tr>\n      <th>2018-01-12 10:00:00</th>\n      <td>111.91</td>\n      <td>112.24</td>\n      <td>111.85</td>\n      <td>111.97</td>\n      <td>281205.0</td>\n      <td>290538.0</td>\n      <td>0.0</td>\n      <td>0.0</td>\n      <td>0.0</td>\n      <td>0.0</td>\n      <td>0.0</td>\n      <td>111.96</td>\n      <td>111.95</td>\n    </tr>\n  </tbody>\n</table>\n</div>"
     },
     "metadata": {},
     "execution_count": 15
    }
   ],
   "source": [
    "# Construct the X_train and y_train datasets\n",
    "X_train = ts_file_df[x_var_list][training_start:training_end]\n",
    "y_train = ts_file_df['emax_signal'][training_start:training_end]\n",
    "\n",
    "X_train.head()"
   ]
  },
  {
   "cell_type": "code",
   "execution_count": 16,
   "metadata": {},
   "outputs": [
    {
     "output_type": "execute_result",
     "data": {
      "text/plain": [
       "Date_Time\n",
       "2019-01-11 14:00:00    0\n",
       "2019-01-11 14:15:00    0\n",
       "2019-01-11 14:30:00    0\n",
       "2019-01-11 14:45:00    0\n",
       "2019-01-11 15:00:00    0\n",
       "Name: emax_signal, dtype: int64"
      ]
     },
     "metadata": {},
     "execution_count": 16
    }
   ],
   "source": [
    "y_train.tail()"
   ]
  },
  {
   "cell_type": "code",
   "execution_count": 17,
   "metadata": {},
   "outputs": [
    {
     "output_type": "execute_result",
     "data": {
      "text/plain": [
       "                       Open    High     Low   Close        Up      Down  \\\n",
       "Date_Time                                                                 \n",
       "2019-01-14 08:45:00  100.09  100.16   99.88   99.93  538000.0  839750.0   \n",
       "2019-01-14 09:00:00   98.85  100.07   98.66  100.00  662220.0  467174.0   \n",
       "2019-01-14 09:15:00   99.98  100.22   99.73  100.14  315701.0  326009.0   \n",
       "2019-01-14 09:30:00  100.15  100.94  100.08  100.88  338536.0  318028.0   \n",
       "2019-01-14 09:45:00  100.88  101.01  100.43  100.68  328545.0  363630.0   \n",
       "\n",
       "                       kcup   kclo  MidLine    bbup   bblo  FastEMA  SlowEMA  \n",
       "Date_Time                                                                     \n",
       "2019-01-14 08:45:00  100.32  99.54    99.93  100.22  99.64    99.99    99.95  \n",
       "2019-01-14 09:00:00  100.45  99.47    99.96  100.14  99.78    99.99    99.96  \n",
       "2019-01-14 09:15:00  100.50  99.47    99.98  100.12  99.85   100.02    99.97  \n",
       "2019-01-14 09:30:00  100.61  99.46   100.04  100.44  99.63   100.19   100.06  \n",
       "2019-01-14 09:45:00  100.68  99.46   100.07  100.56  99.58   100.29   100.11  "
      ],
      "text/html": "<div>\n<style scoped>\n    .dataframe tbody tr th:only-of-type {\n        vertical-align: middle;\n    }\n\n    .dataframe tbody tr th {\n        vertical-align: top;\n    }\n\n    .dataframe thead th {\n        text-align: right;\n    }\n</style>\n<table border=\"1\" class=\"dataframe\">\n  <thead>\n    <tr style=\"text-align: right;\">\n      <th></th>\n      <th>Open</th>\n      <th>High</th>\n      <th>Low</th>\n      <th>Close</th>\n      <th>Up</th>\n      <th>Down</th>\n      <th>kcup</th>\n      <th>kclo</th>\n      <th>MidLine</th>\n      <th>bbup</th>\n      <th>bblo</th>\n      <th>FastEMA</th>\n      <th>SlowEMA</th>\n    </tr>\n    <tr>\n      <th>Date_Time</th>\n      <th></th>\n      <th></th>\n      <th></th>\n      <th></th>\n      <th></th>\n      <th></th>\n      <th></th>\n      <th></th>\n      <th></th>\n      <th></th>\n      <th></th>\n      <th></th>\n      <th></th>\n    </tr>\n  </thead>\n  <tbody>\n    <tr>\n      <th>2019-01-14 08:45:00</th>\n      <td>100.09</td>\n      <td>100.16</td>\n      <td>99.88</td>\n      <td>99.93</td>\n      <td>538000.0</td>\n      <td>839750.0</td>\n      <td>100.32</td>\n      <td>99.54</td>\n      <td>99.93</td>\n      <td>100.22</td>\n      <td>99.64</td>\n      <td>99.99</td>\n      <td>99.95</td>\n    </tr>\n    <tr>\n      <th>2019-01-14 09:00:00</th>\n      <td>98.85</td>\n      <td>100.07</td>\n      <td>98.66</td>\n      <td>100.00</td>\n      <td>662220.0</td>\n      <td>467174.0</td>\n      <td>100.45</td>\n      <td>99.47</td>\n      <td>99.96</td>\n      <td>100.14</td>\n      <td>99.78</td>\n      <td>99.99</td>\n      <td>99.96</td>\n    </tr>\n    <tr>\n      <th>2019-01-14 09:15:00</th>\n      <td>99.98</td>\n      <td>100.22</td>\n      <td>99.73</td>\n      <td>100.14</td>\n      <td>315701.0</td>\n      <td>326009.0</td>\n      <td>100.50</td>\n      <td>99.47</td>\n      <td>99.98</td>\n      <td>100.12</td>\n      <td>99.85</td>\n      <td>100.02</td>\n      <td>99.97</td>\n    </tr>\n    <tr>\n      <th>2019-01-14 09:30:00</th>\n      <td>100.15</td>\n      <td>100.94</td>\n      <td>100.08</td>\n      <td>100.88</td>\n      <td>338536.0</td>\n      <td>318028.0</td>\n      <td>100.61</td>\n      <td>99.46</td>\n      <td>100.04</td>\n      <td>100.44</td>\n      <td>99.63</td>\n      <td>100.19</td>\n      <td>100.06</td>\n    </tr>\n    <tr>\n      <th>2019-01-14 09:45:00</th>\n      <td>100.88</td>\n      <td>101.01</td>\n      <td>100.43</td>\n      <td>100.68</td>\n      <td>328545.0</td>\n      <td>363630.0</td>\n      <td>100.68</td>\n      <td>99.46</td>\n      <td>100.07</td>\n      <td>100.56</td>\n      <td>99.58</td>\n      <td>100.29</td>\n      <td>100.11</td>\n    </tr>\n  </tbody>\n</table>\n</div>"
     },
     "metadata": {},
     "execution_count": 17
    }
   ],
   "source": [
    "# Construct the X test and y test datasets\n",
    "\n",
    "X_test = ts_file_df[x_var_list][testing_start:testing_end]\n",
    "y_test = ts_file_df['emax_signal'][testing_start:testing_end]\n",
    "\n",
    "X_test.head()"
   ]
  },
  {
   "cell_type": "code",
   "execution_count": 18,
   "metadata": {},
   "outputs": [
    {
     "output_type": "execute_result",
     "data": {
      "text/plain": [
       "Date_Time\n",
       "2019-01-14 08:45:00    0\n",
       "2019-01-14 09:00:00    0\n",
       "2019-01-14 09:15:00    0\n",
       "2019-01-14 09:30:00    0\n",
       "2019-01-14 09:45:00    0\n",
       "Name: emax_signal, dtype: int64"
      ]
     },
     "metadata": {},
     "execution_count": 18
    }
   ],
   "source": [
    "y_test.head()"
   ]
  },
  {
   "cell_type": "code",
   "execution_count": 19,
   "metadata": {},
   "outputs": [
    {
     "output_type": "execute_result",
     "data": {
      "text/plain": [
       "                       Open    High     Low   Close        Up      Down  \\\n",
       "Date_Time                                                                 \n",
       "2019-06-13 08:45:00  109.01  109.30  109.00  109.27  475047.0  353967.0   \n",
       "2019-06-13 09:00:00  109.46  110.09  109.39  110.06  182719.0  288328.0   \n",
       "2019-06-13 09:15:00  110.07  110.16  109.69  109.85  179614.0  123755.0   \n",
       "2019-06-13 09:30:00  109.85  109.99  109.43  109.43  158128.0  180381.0   \n",
       "2019-06-13 09:45:00  109.43  109.56  109.32  109.46   94904.0   99241.0   \n",
       "\n",
       "                       kcup    kclo  MidLine    bbup    bblo  FastEMA  SlowEMA  \n",
       "Date_Time                                                                       \n",
       "2019-06-13 08:45:00  109.66  108.71   109.18  109.44  108.92   109.19   109.36  \n",
       "2019-06-13 09:00:00  109.74  108.69   109.22  109.67  108.76   109.37   109.42  \n",
       "2019-06-13 09:15:00  109.79  108.69   109.24  109.76  108.71   109.46   109.46  \n",
       "2019-06-13 09:30:00  109.81  108.69   109.25  109.78  108.72   109.46   109.46  \n",
       "2019-06-13 09:45:00  109.83  108.72   109.28  109.79  108.76   109.46   109.46  "
      ],
      "text/html": "<div>\n<style scoped>\n    .dataframe tbody tr th:only-of-type {\n        vertical-align: middle;\n    }\n\n    .dataframe tbody tr th {\n        vertical-align: top;\n    }\n\n    .dataframe thead th {\n        text-align: right;\n    }\n</style>\n<table border=\"1\" class=\"dataframe\">\n  <thead>\n    <tr style=\"text-align: right;\">\n      <th></th>\n      <th>Open</th>\n      <th>High</th>\n      <th>Low</th>\n      <th>Close</th>\n      <th>Up</th>\n      <th>Down</th>\n      <th>kcup</th>\n      <th>kclo</th>\n      <th>MidLine</th>\n      <th>bbup</th>\n      <th>bblo</th>\n      <th>FastEMA</th>\n      <th>SlowEMA</th>\n    </tr>\n    <tr>\n      <th>Date_Time</th>\n      <th></th>\n      <th></th>\n      <th></th>\n      <th></th>\n      <th></th>\n      <th></th>\n      <th></th>\n      <th></th>\n      <th></th>\n      <th></th>\n      <th></th>\n      <th></th>\n      <th></th>\n    </tr>\n  </thead>\n  <tbody>\n    <tr>\n      <th>2019-06-13 08:45:00</th>\n      <td>109.01</td>\n      <td>109.30</td>\n      <td>109.00</td>\n      <td>109.27</td>\n      <td>475047.0</td>\n      <td>353967.0</td>\n      <td>109.66</td>\n      <td>108.71</td>\n      <td>109.18</td>\n      <td>109.44</td>\n      <td>108.92</td>\n      <td>109.19</td>\n      <td>109.36</td>\n    </tr>\n    <tr>\n      <th>2019-06-13 09:00:00</th>\n      <td>109.46</td>\n      <td>110.09</td>\n      <td>109.39</td>\n      <td>110.06</td>\n      <td>182719.0</td>\n      <td>288328.0</td>\n      <td>109.74</td>\n      <td>108.69</td>\n      <td>109.22</td>\n      <td>109.67</td>\n      <td>108.76</td>\n      <td>109.37</td>\n      <td>109.42</td>\n    </tr>\n    <tr>\n      <th>2019-06-13 09:15:00</th>\n      <td>110.07</td>\n      <td>110.16</td>\n      <td>109.69</td>\n      <td>109.85</td>\n      <td>179614.0</td>\n      <td>123755.0</td>\n      <td>109.79</td>\n      <td>108.69</td>\n      <td>109.24</td>\n      <td>109.76</td>\n      <td>108.71</td>\n      <td>109.46</td>\n      <td>109.46</td>\n    </tr>\n    <tr>\n      <th>2019-06-13 09:30:00</th>\n      <td>109.85</td>\n      <td>109.99</td>\n      <td>109.43</td>\n      <td>109.43</td>\n      <td>158128.0</td>\n      <td>180381.0</td>\n      <td>109.81</td>\n      <td>108.69</td>\n      <td>109.25</td>\n      <td>109.78</td>\n      <td>108.72</td>\n      <td>109.46</td>\n      <td>109.46</td>\n    </tr>\n    <tr>\n      <th>2019-06-13 09:45:00</th>\n      <td>109.43</td>\n      <td>109.56</td>\n      <td>109.32</td>\n      <td>109.46</td>\n      <td>94904.0</td>\n      <td>99241.0</td>\n      <td>109.83</td>\n      <td>108.72</td>\n      <td>109.28</td>\n      <td>109.79</td>\n      <td>108.76</td>\n      <td>109.46</td>\n      <td>109.46</td>\n    </tr>\n  </tbody>\n</table>\n</div>"
     },
     "metadata": {},
     "execution_count": 19
    }
   ],
   "source": [
    "# Construct the X valid and y validation datasets\n",
    "\n",
    "X_vali = ts_file_df[x_var_list][vali_start:vali_end]\n",
    "y_vali = ts_file_df['emax_signal'][vali_start:vali_end]\n",
    "\n",
    "X_vali.head()"
   ]
  },
  {
   "cell_type": "code",
   "execution_count": 20,
   "metadata": {},
   "outputs": [
    {
     "output_type": "execute_result",
     "data": {
      "text/plain": [
       "Date_Time\n",
       "2020-01-10 14:00:00    0\n",
       "2020-01-10 14:15:00    0\n",
       "2020-01-10 14:30:00    0\n",
       "2020-01-10 14:45:00    0\n",
       "2020-01-10 15:00:00    0\n",
       "Name: emax_signal, dtype: int64"
      ]
     },
     "metadata": {},
     "execution_count": 20
    }
   ],
   "source": [
    "y_vali.tail()"
   ]
  },
  {
   "cell_type": "code",
   "execution_count": null,
   "metadata": {},
   "outputs": [],
   "source": [
    "# StandardScaler "
   ]
  },
  {
   "cell_type": "code",
   "execution_count": 22,
   "metadata": {},
   "outputs": [],
   "source": [
    "from sklearn.preprocessing import StandardScaler\n",
    "from sklearn.model_selection import train_test_split\n",
    "from sklearn.metrics import confusion_matrix, accuracy_score, classification_report"
   ]
  },
  {
   "cell_type": "code",
   "execution_count": 23,
   "metadata": {},
   "outputs": [],
   "source": [
    "# Creating the StandardScaler instant \n",
    "scaler = StandardScaler()"
   ]
  },
  {
   "cell_type": "code",
   "execution_count": 24,
   "metadata": {},
   "outputs": [],
   "source": [
    "# Feeding StandardScaler for X_train, X_test, X_vali\n",
    "X_scaler_train = scaler.fit(X_train)"
   ]
  },
  {
   "cell_type": "code",
   "execution_count": 27,
   "metadata": {},
   "outputs": [],
   "source": [
    "# Scaling the data \n",
    "X_train_scaled = X_scaler_train.transform(X_train)"
   ]
  },
  {
   "cell_type": "code",
   "execution_count": 30,
   "metadata": {},
   "outputs": [],
   "source": [
    "X_test_scaled = X_scaler_train.transform(X_test)"
   ]
  },
  {
   "cell_type": "code",
   "execution_count": 31,
   "metadata": {},
   "outputs": [],
   "source": [
    "X_vali_scaled = X_scaler_train.transform(X_vali)"
   ]
  },
  {
   "cell_type": "code",
   "execution_count": 32,
   "metadata": {},
   "outputs": [],
   "source": [
    "# Import SKLearn library and Classes\n",
    "from sklearn.ensemble import RandomForestClassifier\n",
    "from sklearn.datasets import make_classification"
   ]
  },
  {
   "cell_type": "code",
   "execution_count": 33,
   "metadata": {},
   "outputs": [
    {
     "output_type": "execute_result",
     "data": {
      "text/plain": [
       "RandomForestClassifier(max_depth=5, n_estimators=1000, random_state=1)"
      ]
     },
     "metadata": {},
     "execution_count": 33
    }
   ],
   "source": [
    "# Fit SKLearn regression with training datasets:\n",
    "model = RandomForestClassifier(n_estimators=1000, max_depth=5, random_state=1)\n",
    "model.fit(X_train_scaled, y_train)"
   ]
  },
  {
   "cell_type": "code",
   "execution_count": 34,
   "metadata": {},
   "outputs": [],
   "source": [
    "# Make predictions of \"y\" values from the X_test dataset\n",
    "predictions = model.predict(X_test_scaled)"
   ]
  },
  {
   "cell_type": "code",
   "execution_count": 37,
   "metadata": {},
   "outputs": [
    {
     "output_type": "execute_result",
     "data": {
      "text/plain": [
       "                     emax_signal  predict_emax\n",
       "Date_Time                                     \n",
       "2019-01-14 08:45:00            0             0\n",
       "2019-01-14 09:00:00            0             0\n",
       "2019-01-14 09:15:00            0             0\n",
       "2019-01-14 09:30:00            0             0\n",
       "2019-01-14 09:45:00            0             0\n",
       "...                          ...           ...\n",
       "2019-06-12 14:00:00            0             0\n",
       "2019-06-12 14:15:00            0             0\n",
       "2019-06-12 14:30:00            0             0\n",
       "2019-06-12 14:45:00            0             0\n",
       "2019-06-12 15:00:00            0             0\n",
       "\n",
       "[2704 rows x 2 columns]"
      ],
      "text/html": "<div>\n<style scoped>\n    .dataframe tbody tr th:only-of-type {\n        vertical-align: middle;\n    }\n\n    .dataframe tbody tr th {\n        vertical-align: top;\n    }\n\n    .dataframe thead th {\n        text-align: right;\n    }\n</style>\n<table border=\"1\" class=\"dataframe\">\n  <thead>\n    <tr style=\"text-align: right;\">\n      <th></th>\n      <th>emax_signal</th>\n      <th>predict_emax</th>\n    </tr>\n    <tr>\n      <th>Date_Time</th>\n      <th></th>\n      <th></th>\n    </tr>\n  </thead>\n  <tbody>\n    <tr>\n      <th>2019-01-14 08:45:00</th>\n      <td>0</td>\n      <td>0</td>\n    </tr>\n    <tr>\n      <th>2019-01-14 09:00:00</th>\n      <td>0</td>\n      <td>0</td>\n    </tr>\n    <tr>\n      <th>2019-01-14 09:15:00</th>\n      <td>0</td>\n      <td>0</td>\n    </tr>\n    <tr>\n      <th>2019-01-14 09:30:00</th>\n      <td>0</td>\n      <td>0</td>\n    </tr>\n    <tr>\n      <th>2019-01-14 09:45:00</th>\n      <td>0</td>\n      <td>0</td>\n    </tr>\n    <tr>\n      <th>...</th>\n      <td>...</td>\n      <td>...</td>\n    </tr>\n    <tr>\n      <th>2019-06-12 14:00:00</th>\n      <td>0</td>\n      <td>0</td>\n    </tr>\n    <tr>\n      <th>2019-06-12 14:15:00</th>\n      <td>0</td>\n      <td>0</td>\n    </tr>\n    <tr>\n      <th>2019-06-12 14:30:00</th>\n      <td>0</td>\n      <td>0</td>\n    </tr>\n    <tr>\n      <th>2019-06-12 14:45:00</th>\n      <td>0</td>\n      <td>0</td>\n    </tr>\n    <tr>\n      <th>2019-06-12 15:00:00</th>\n      <td>0</td>\n      <td>0</td>\n    </tr>\n  </tbody>\n</table>\n<p>2704 rows × 2 columns</p>\n</div>"
     },
     "metadata": {},
     "execution_count": 37
    }
   ],
   "source": [
    "# Assemble actual y_test with predicted values\n",
    "\n",
    "compare_predict_df = y_test.to_frame()\n",
    "compare_predict_df[\"predict_emax\"] = predictions\n",
    "\n",
    "compare_predict_df"
   ]
  },
  {
   "cell_type": "code",
   "execution_count": 44,
   "metadata": {},
   "outputs": [
    {
     "output_type": "execute_result",
     "data": {
      "text/plain": [
       "['random_forest_model_emax.joblib']"
      ]
     },
     "metadata": {},
     "execution_count": 44
    }
   ],
   "source": [
    "# Save the pre-trained model\n",
    "from joblib import dump, load\n",
    "dump(model, 'random_forest_model_emax.joblib')"
   ]
  },
  {
   "cell_type": "code",
   "execution_count": 46,
   "metadata": {},
   "outputs": [
    {
     "output_type": "execute_result",
     "data": {
      "text/plain": [
       "array([[-1.97370038, -1.9832091 , -1.97717584, ..., -1.91399824,\n",
       "        -1.98332092, -1.98734584],\n",
       "       [-2.09346294, -1.99191212, -2.09485281, ..., -1.90059544,\n",
       "        -1.98332092, -1.98637681],\n",
       "       [-1.98432447, -1.97740708, -1.99164432, ..., -1.89389405,\n",
       "        -1.98042011, -1.98540779],\n",
       "       ...,\n",
       "       [-1.07837864, -1.0906658 , -1.0772364 , ..., -1.03515774,\n",
       "        -1.08987365, -1.0687093 ],\n",
       "       [-1.08803691, -1.10226983, -1.09074032, ..., -1.0342004 ,\n",
       "        -1.09180751, -1.07161637],\n",
       "       [-1.09962684, -1.10903884, -1.09749227, ..., -1.03037103,\n",
       "        -1.09567525, -1.07452345]])"
      ]
     },
     "metadata": {},
     "execution_count": 46
    }
   ],
   "source": [
    "X_test_scaled"
   ]
  },
  {
   "cell_type": "code",
   "execution_count": 47,
   "metadata": {},
   "outputs": [],
   "source": [
    "# X_testoutput_path = Path('../Resources/X_test_emax.csv')\n",
    "# X_test_scaled.to_csv(X_testoutput_path)"
   ]
  },
  {
   "cell_type": "code",
   "execution_count": 39,
   "metadata": {},
   "outputs": [],
   "source": [
    "# Calculating the confusion matrix\n",
    "cm = confusion_matrix(y_test, predictions)\n",
    "cm_df = pd.DataFrame(cm)"
   ]
  },
  {
   "cell_type": "code",
   "execution_count": 41,
   "metadata": {},
   "outputs": [
    {
     "output_type": "execute_result",
     "data": {
      "text/plain": [
       "   0     1  2\n",
       "0  0    71  0\n",
       "1  0  2563  0\n",
       "2  0    70  0"
      ],
      "text/html": "<div>\n<style scoped>\n    .dataframe tbody tr th:only-of-type {\n        vertical-align: middle;\n    }\n\n    .dataframe tbody tr th {\n        vertical-align: top;\n    }\n\n    .dataframe thead th {\n        text-align: right;\n    }\n</style>\n<table border=\"1\" class=\"dataframe\">\n  <thead>\n    <tr style=\"text-align: right;\">\n      <th></th>\n      <th>0</th>\n      <th>1</th>\n      <th>2</th>\n    </tr>\n  </thead>\n  <tbody>\n    <tr>\n      <th>0</th>\n      <td>0</td>\n      <td>71</td>\n      <td>0</td>\n    </tr>\n    <tr>\n      <th>1</th>\n      <td>0</td>\n      <td>2563</td>\n      <td>0</td>\n    </tr>\n    <tr>\n      <th>2</th>\n      <td>0</td>\n      <td>70</td>\n      <td>0</td>\n    </tr>\n  </tbody>\n</table>\n</div>"
     },
     "metadata": {},
     "execution_count": 41
    }
   ],
   "source": [
    "cm_df"
   ]
  },
  {
   "cell_type": "code",
   "execution_count": 42,
   "metadata": {},
   "outputs": [],
   "source": [
    "# Calculating the accuracy score\n",
    "acc_score = accuracy_score(y_test, predictions)"
   ]
  },
  {
   "cell_type": "code",
   "execution_count": 43,
   "metadata": {},
   "outputs": [
    {
     "output_type": "execute_result",
     "data": {
      "text/plain": [
       "0.9478550295857988"
      ]
     },
     "metadata": {},
     "execution_count": 43
    }
   ],
   "source": [
    "acc_score"
   ]
  },
  {
   "cell_type": "code",
   "execution_count": 52,
   "metadata": {},
   "outputs": [
    {
     "output_type": "stream",
     "name": "stdout",
     "text": [
      "Confusion Matrix\n"
     ]
    },
    {
     "output_type": "display_data",
     "data": {
      "text/plain": "   0     1  2\n0  0    71  0\n1  0  2563  0\n2  0    70  0",
      "text/html": "<div>\n<style scoped>\n    .dataframe tbody tr th:only-of-type {\n        vertical-align: middle;\n    }\n\n    .dataframe tbody tr th {\n        vertical-align: top;\n    }\n\n    .dataframe thead th {\n        text-align: right;\n    }\n</style>\n<table border=\"1\" class=\"dataframe\">\n  <thead>\n    <tr style=\"text-align: right;\">\n      <th></th>\n      <th>0</th>\n      <th>1</th>\n      <th>2</th>\n    </tr>\n  </thead>\n  <tbody>\n    <tr>\n      <th>0</th>\n      <td>0</td>\n      <td>71</td>\n      <td>0</td>\n    </tr>\n    <tr>\n      <th>1</th>\n      <td>0</td>\n      <td>2563</td>\n      <td>0</td>\n    </tr>\n    <tr>\n      <th>2</th>\n      <td>0</td>\n      <td>70</td>\n      <td>0</td>\n    </tr>\n  </tbody>\n</table>\n</div>"
     },
     "metadata": {}
    },
    {
     "output_type": "stream",
     "name": "stdout",
     "text": [
      "Accuracy Score 0.9478550295857988\n              precision    recall  f1-score   support\n\n          -1       0.00      0.00      0.00        71\n           0       0.95      1.00      0.97      2563\n           1       0.00      0.00      0.00        70\n\n    accuracy                           0.95      2704\n   macro avg       0.32      0.33      0.32      2704\nweighted avg       0.90      0.95      0.92      2704\n\n"
     ]
    }
   ],
   "source": [
    "# Display results\n",
    "print(\"Confusion Matrix\")\n",
    "display(cm_df)\n",
    "print(f\"Accuracy Score {acc_score}\")\n",
    "print(classification_report(y_test, predictions))"
   ]
  },
  {
   "cell_type": "code",
   "execution_count": 53,
   "metadata": {},
   "outputs": [],
   "source": [
    "from sklearn.metrics import ConfusionMatrixDisplay"
   ]
  },
  {
   "cell_type": "code",
   "execution_count": 54,
   "metadata": {},
   "outputs": [
    {
     "output_type": "display_data",
     "data": {
      "text/plain": "<Figure size 432x288 with 2 Axes>",
      "image/svg+xml": "<?xml version=\"1.0\" encoding=\"utf-8\" standalone=\"no\"?>\n<!DOCTYPE svg PUBLIC \"-//W3C//DTD SVG 1.1//EN\"\n  \"http://www.w3.org/Graphics/SVG/1.1/DTD/svg11.dtd\">\n<!-- Created with matplotlib (https://matplotlib.org/) -->\n<svg height=\"262.19625pt\" version=\"1.1\" viewBox=\"0 0 318.942625 262.19625\" width=\"318.942625pt\" xmlns=\"http://www.w3.org/2000/svg\" xmlns:xlink=\"http://www.w3.org/1999/xlink\">\n <metadata>\n  <rdf:RDF xmlns:cc=\"http://creativecommons.org/ns#\" xmlns:dc=\"http://purl.org/dc/elements/1.1/\" xmlns:rdf=\"http://www.w3.org/1999/02/22-rdf-syntax-ns#\">\n   <cc:Work>\n    <dc:type rdf:resource=\"http://purl.org/dc/dcmitype/StillImage\"/>\n    <dc:date>2021-01-12T20:01:41.329031</dc:date>\n    <dc:format>image/svg+xml</dc:format>\n    <dc:creator>\n     <cc:Agent>\n      <dc:title>Matplotlib v3.3.2, https://matplotlib.org/</dc:title>\n     </cc:Agent>\n    </dc:creator>\n   </cc:Work>\n  </rdf:RDF>\n </metadata>\n <defs>\n  <style type=\"text/css\">*{stroke-linecap:butt;stroke-linejoin:round;}</style>\n </defs>\n <g id=\"figure_1\">\n  <g id=\"patch_1\">\n   <path d=\"M 0 262.19625 \nL 318.942625 262.19625 \nL 318.942625 0 \nL 0 0 \nz\n\" style=\"fill:none;\"/>\n  </g>\n  <g id=\"axes_1\">\n   <g id=\"patch_2\">\n    <path d=\"M 34.240625 224.64 \nL 251.680625 224.64 \nL 251.680625 7.2 \nL 34.240625 7.2 \nz\n\" style=\"fill:#ffffff;\"/>\n   </g>\n   <g clip-path=\"url(#p89b3f22763)\">\n    <image height=\"218\" id=\"imagedc5addfdc8\" transform=\"scale(1 -1)translate(0 -218)\" width=\"218\" x=\"34.240625\" xlink:href=\"data:image/png;base64,\niVBORw0KGgoAAAANSUhEUgAAANoAAADaCAYAAADAHVzbAAACt0lEQVR4nO3VwWlCURRF0fwQ1IGkoT9NBTZkL+kj2JM40cm3guBsvweuVcHhwuYu5/WwffCv4855Xrk9ltETpvc5egC8A6FBQGgQEBoEhAYBoUFAaBAQGgSEBgGhQUBoEBAaBIQGAaFBQGgQEBoEhAYBoUFAaBAQGgSEBgGhQUBoEBAaBIQGAaFBQGgQEBoEhAYBoUFAaBAQGgSEBgGhQUBoEBAaBIQGAaFBQGgQEBoEhAYBoUFAaBAQGgSEBgGhQUBoEBAaBIQGAaFBQGgQEBoEhAYBoUFAaBAQGgSEBgGhQUBoEBAaBIQGAaFBQGgQEBoEhAYBoUFAaBAQGgSEBgGhQUBoEBAaBL5GD5jd7+Vn9ITpnda/0ROm56NBQGgQEBoEhAYBoUFAaBAQGgSEBgGhQUBoEBAaBIQGAaFBQGgQEBoEhAYBoUFAaBAQGgSEBgGhQUBoEBAaBIQGAaFBQGgQEBoEhAYBoUFAaBAQGgSEBgGhQUBoEBAaBIQGAaFBQGgQEBoEhAYBoUFAaBAQGgSEBgGhQUBoEBAaBIQGAaFBQGgQEBoEhAYBoUFAaBAQGgSEBgGhQUBoEBAaBIQGAaFBQGgQEBoEhAYBoUFAaBAQGgSEBgGhQUBoEBAaBJbzethGj5jZ9955Xrnel9ETpuejQUBoEBAaBIQGAaFBQGgQEBoEhAYBoUFAaBAQGgSEBgGhQUBoEBAaBIQGAaFBQGgQEBoEhAYBoUFAaBAQGgSEBgGhQUBoEBAaBIQGAaFBQGgQEBoEhAYBoUFAaBAQGgSEBgGhQUBoEBAaBIQGAaFBQGgQEBoEhAYBoUFAaBAQGgSEBgGhQUBoEBAaBIQGAaFBQGgQEBoEhAYBoUFAaBAQGgSEBgGhQUBoEBAaBIQGAaFBQGgQEBoEhAYBoUFAaBAQGgSEBoEniCgOJn5e1FIAAAAASUVORK5CYII=\" y=\"-6.64\"/>\n   </g>\n   <g id=\"matplotlib.axis_1\">\n    <g id=\"xtick_1\">\n     <g id=\"line2d_1\">\n      <defs>\n       <path d=\"M 0 0 \nL 0 3.5 \n\" id=\"m4b07542beb\" style=\"stroke:#000000;stroke-width:0.8;\"/>\n      </defs>\n      <g>\n       <use style=\"stroke:#000000;stroke-width:0.8;\" x=\"70.480625\" xlink:href=\"#m4b07542beb\" y=\"224.64\"/>\n      </g>\n     </g>\n     <g id=\"text_1\">\n      <!-- 0 -->\n      <g transform=\"translate(67.299375 239.238437)scale(0.1 -0.1)\">\n       <defs>\n        <path d=\"M 31.78125 66.40625 \nQ 24.171875 66.40625 20.328125 58.90625 \nQ 16.5 51.421875 16.5 36.375 \nQ 16.5 21.390625 20.328125 13.890625 \nQ 24.171875 6.390625 31.78125 6.390625 \nQ 39.453125 6.390625 43.28125 13.890625 \nQ 47.125 21.390625 47.125 36.375 \nQ 47.125 51.421875 43.28125 58.90625 \nQ 39.453125 66.40625 31.78125 66.40625 \nz\nM 31.78125 74.21875 \nQ 44.046875 74.21875 50.515625 64.515625 \nQ 56.984375 54.828125 56.984375 36.375 \nQ 56.984375 17.96875 50.515625 8.265625 \nQ 44.046875 -1.421875 31.78125 -1.421875 \nQ 19.53125 -1.421875 13.0625 8.265625 \nQ 6.59375 17.96875 6.59375 36.375 \nQ 6.59375 54.828125 13.0625 64.515625 \nQ 19.53125 74.21875 31.78125 74.21875 \nz\n\" id=\"DejaVuSans-48\"/>\n       </defs>\n       <use xlink:href=\"#DejaVuSans-48\"/>\n      </g>\n     </g>\n    </g>\n    <g id=\"xtick_2\">\n     <g id=\"line2d_2\">\n      <g>\n       <use style=\"stroke:#000000;stroke-width:0.8;\" x=\"142.960625\" xlink:href=\"#m4b07542beb\" y=\"224.64\"/>\n      </g>\n     </g>\n     <g id=\"text_2\">\n      <!-- 1 -->\n      <g transform=\"translate(139.779375 239.238437)scale(0.1 -0.1)\">\n       <defs>\n        <path d=\"M 12.40625 8.296875 \nL 28.515625 8.296875 \nL 28.515625 63.921875 \nL 10.984375 60.40625 \nL 10.984375 69.390625 \nL 28.421875 72.90625 \nL 38.28125 72.90625 \nL 38.28125 8.296875 \nL 54.390625 8.296875 \nL 54.390625 0 \nL 12.40625 0 \nz\n\" id=\"DejaVuSans-49\"/>\n       </defs>\n       <use xlink:href=\"#DejaVuSans-49\"/>\n      </g>\n     </g>\n    </g>\n    <g id=\"xtick_3\">\n     <g id=\"line2d_3\">\n      <g>\n       <use style=\"stroke:#000000;stroke-width:0.8;\" x=\"215.440625\" xlink:href=\"#m4b07542beb\" y=\"224.64\"/>\n      </g>\n     </g>\n     <g id=\"text_3\">\n      <!-- 2 -->\n      <g transform=\"translate(212.259375 239.238437)scale(0.1 -0.1)\">\n       <defs>\n        <path d=\"M 19.1875 8.296875 \nL 53.609375 8.296875 \nL 53.609375 0 \nL 7.328125 0 \nL 7.328125 8.296875 \nQ 12.9375 14.109375 22.625 23.890625 \nQ 32.328125 33.6875 34.8125 36.53125 \nQ 39.546875 41.84375 41.421875 45.53125 \nQ 43.3125 49.21875 43.3125 52.78125 \nQ 43.3125 58.59375 39.234375 62.25 \nQ 35.15625 65.921875 28.609375 65.921875 \nQ 23.96875 65.921875 18.8125 64.3125 \nQ 13.671875 62.703125 7.8125 59.421875 \nL 7.8125 69.390625 \nQ 13.765625 71.78125 18.9375 73 \nQ 24.125 74.21875 28.421875 74.21875 \nQ 39.75 74.21875 46.484375 68.546875 \nQ 53.21875 62.890625 53.21875 53.421875 \nQ 53.21875 48.921875 51.53125 44.890625 \nQ 49.859375 40.875 45.40625 35.40625 \nQ 44.1875 33.984375 37.640625 27.21875 \nQ 31.109375 20.453125 19.1875 8.296875 \nz\n\" id=\"DejaVuSans-50\"/>\n       </defs>\n       <use xlink:href=\"#DejaVuSans-50\"/>\n      </g>\n     </g>\n    </g>\n    <g id=\"text_4\">\n     <!-- Predicted label -->\n     <g transform=\"translate(105.808281 252.916562)scale(0.1 -0.1)\">\n      <defs>\n       <path d=\"M 19.671875 64.796875 \nL 19.671875 37.40625 \nL 32.078125 37.40625 \nQ 38.96875 37.40625 42.71875 40.96875 \nQ 46.484375 44.53125 46.484375 51.125 \nQ 46.484375 57.671875 42.71875 61.234375 \nQ 38.96875 64.796875 32.078125 64.796875 \nz\nM 9.8125 72.90625 \nL 32.078125 72.90625 \nQ 44.34375 72.90625 50.609375 67.359375 \nQ 56.890625 61.8125 56.890625 51.125 \nQ 56.890625 40.328125 50.609375 34.8125 \nQ 44.34375 29.296875 32.078125 29.296875 \nL 19.671875 29.296875 \nL 19.671875 0 \nL 9.8125 0 \nz\n\" id=\"DejaVuSans-80\"/>\n       <path d=\"M 41.109375 46.296875 \nQ 39.59375 47.171875 37.8125 47.578125 \nQ 36.03125 48 33.890625 48 \nQ 26.265625 48 22.1875 43.046875 \nQ 18.109375 38.09375 18.109375 28.8125 \nL 18.109375 0 \nL 9.078125 0 \nL 9.078125 54.6875 \nL 18.109375 54.6875 \nL 18.109375 46.1875 \nQ 20.953125 51.171875 25.484375 53.578125 \nQ 30.03125 56 36.53125 56 \nQ 37.453125 56 38.578125 55.875 \nQ 39.703125 55.765625 41.0625 55.515625 \nz\n\" id=\"DejaVuSans-114\"/>\n       <path d=\"M 56.203125 29.59375 \nL 56.203125 25.203125 \nL 14.890625 25.203125 \nQ 15.484375 15.921875 20.484375 11.0625 \nQ 25.484375 6.203125 34.421875 6.203125 \nQ 39.59375 6.203125 44.453125 7.46875 \nQ 49.3125 8.734375 54.109375 11.28125 \nL 54.109375 2.78125 \nQ 49.265625 0.734375 44.1875 -0.34375 \nQ 39.109375 -1.421875 33.890625 -1.421875 \nQ 20.796875 -1.421875 13.15625 6.1875 \nQ 5.515625 13.8125 5.515625 26.8125 \nQ 5.515625 40.234375 12.765625 48.109375 \nQ 20.015625 56 32.328125 56 \nQ 43.359375 56 49.78125 48.890625 \nQ 56.203125 41.796875 56.203125 29.59375 \nz\nM 47.21875 32.234375 \nQ 47.125 39.59375 43.09375 43.984375 \nQ 39.0625 48.390625 32.421875 48.390625 \nQ 24.90625 48.390625 20.390625 44.140625 \nQ 15.875 39.890625 15.1875 32.171875 \nz\n\" id=\"DejaVuSans-101\"/>\n       <path d=\"M 45.40625 46.390625 \nL 45.40625 75.984375 \nL 54.390625 75.984375 \nL 54.390625 0 \nL 45.40625 0 \nL 45.40625 8.203125 \nQ 42.578125 3.328125 38.25 0.953125 \nQ 33.9375 -1.421875 27.875 -1.421875 \nQ 17.96875 -1.421875 11.734375 6.484375 \nQ 5.515625 14.40625 5.515625 27.296875 \nQ 5.515625 40.1875 11.734375 48.09375 \nQ 17.96875 56 27.875 56 \nQ 33.9375 56 38.25 53.625 \nQ 42.578125 51.265625 45.40625 46.390625 \nz\nM 14.796875 27.296875 \nQ 14.796875 17.390625 18.875 11.75 \nQ 22.953125 6.109375 30.078125 6.109375 \nQ 37.203125 6.109375 41.296875 11.75 \nQ 45.40625 17.390625 45.40625 27.296875 \nQ 45.40625 37.203125 41.296875 42.84375 \nQ 37.203125 48.484375 30.078125 48.484375 \nQ 22.953125 48.484375 18.875 42.84375 \nQ 14.796875 37.203125 14.796875 27.296875 \nz\n\" id=\"DejaVuSans-100\"/>\n       <path d=\"M 9.421875 54.6875 \nL 18.40625 54.6875 \nL 18.40625 0 \nL 9.421875 0 \nz\nM 9.421875 75.984375 \nL 18.40625 75.984375 \nL 18.40625 64.59375 \nL 9.421875 64.59375 \nz\n\" id=\"DejaVuSans-105\"/>\n       <path d=\"M 48.78125 52.59375 \nL 48.78125 44.1875 \nQ 44.96875 46.296875 41.140625 47.34375 \nQ 37.3125 48.390625 33.40625 48.390625 \nQ 24.65625 48.390625 19.8125 42.84375 \nQ 14.984375 37.3125 14.984375 27.296875 \nQ 14.984375 17.28125 19.8125 11.734375 \nQ 24.65625 6.203125 33.40625 6.203125 \nQ 37.3125 6.203125 41.140625 7.25 \nQ 44.96875 8.296875 48.78125 10.40625 \nL 48.78125 2.09375 \nQ 45.015625 0.34375 40.984375 -0.53125 \nQ 36.96875 -1.421875 32.421875 -1.421875 \nQ 20.0625 -1.421875 12.78125 6.34375 \nQ 5.515625 14.109375 5.515625 27.296875 \nQ 5.515625 40.671875 12.859375 48.328125 \nQ 20.21875 56 33.015625 56 \nQ 37.15625 56 41.109375 55.140625 \nQ 45.0625 54.296875 48.78125 52.59375 \nz\n\" id=\"DejaVuSans-99\"/>\n       <path d=\"M 18.3125 70.21875 \nL 18.3125 54.6875 \nL 36.8125 54.6875 \nL 36.8125 47.703125 \nL 18.3125 47.703125 \nL 18.3125 18.015625 \nQ 18.3125 11.328125 20.140625 9.421875 \nQ 21.96875 7.515625 27.59375 7.515625 \nL 36.8125 7.515625 \nL 36.8125 0 \nL 27.59375 0 \nQ 17.1875 0 13.234375 3.875 \nQ 9.28125 7.765625 9.28125 18.015625 \nL 9.28125 47.703125 \nL 2.6875 47.703125 \nL 2.6875 54.6875 \nL 9.28125 54.6875 \nL 9.28125 70.21875 \nz\n\" id=\"DejaVuSans-116\"/>\n       <path id=\"DejaVuSans-32\"/>\n       <path d=\"M 9.421875 75.984375 \nL 18.40625 75.984375 \nL 18.40625 0 \nL 9.421875 0 \nz\n\" id=\"DejaVuSans-108\"/>\n       <path d=\"M 34.28125 27.484375 \nQ 23.390625 27.484375 19.1875 25 \nQ 14.984375 22.515625 14.984375 16.5 \nQ 14.984375 11.71875 18.140625 8.90625 \nQ 21.296875 6.109375 26.703125 6.109375 \nQ 34.1875 6.109375 38.703125 11.40625 \nQ 43.21875 16.703125 43.21875 25.484375 \nL 43.21875 27.484375 \nz\nM 52.203125 31.203125 \nL 52.203125 0 \nL 43.21875 0 \nL 43.21875 8.296875 \nQ 40.140625 3.328125 35.546875 0.953125 \nQ 30.953125 -1.421875 24.3125 -1.421875 \nQ 15.921875 -1.421875 10.953125 3.296875 \nQ 6 8.015625 6 15.921875 \nQ 6 25.140625 12.171875 29.828125 \nQ 18.359375 34.515625 30.609375 34.515625 \nL 43.21875 34.515625 \nL 43.21875 35.40625 \nQ 43.21875 41.609375 39.140625 45 \nQ 35.0625 48.390625 27.6875 48.390625 \nQ 23 48.390625 18.546875 47.265625 \nQ 14.109375 46.140625 10.015625 43.890625 \nL 10.015625 52.203125 \nQ 14.9375 54.109375 19.578125 55.046875 \nQ 24.21875 56 28.609375 56 \nQ 40.484375 56 46.34375 49.84375 \nQ 52.203125 43.703125 52.203125 31.203125 \nz\n\" id=\"DejaVuSans-97\"/>\n       <path d=\"M 48.6875 27.296875 \nQ 48.6875 37.203125 44.609375 42.84375 \nQ 40.53125 48.484375 33.40625 48.484375 \nQ 26.265625 48.484375 22.1875 42.84375 \nQ 18.109375 37.203125 18.109375 27.296875 \nQ 18.109375 17.390625 22.1875 11.75 \nQ 26.265625 6.109375 33.40625 6.109375 \nQ 40.53125 6.109375 44.609375 11.75 \nQ 48.6875 17.390625 48.6875 27.296875 \nz\nM 18.109375 46.390625 \nQ 20.953125 51.265625 25.265625 53.625 \nQ 29.59375 56 35.59375 56 \nQ 45.5625 56 51.78125 48.09375 \nQ 58.015625 40.1875 58.015625 27.296875 \nQ 58.015625 14.40625 51.78125 6.484375 \nQ 45.5625 -1.421875 35.59375 -1.421875 \nQ 29.59375 -1.421875 25.265625 0.953125 \nQ 20.953125 3.328125 18.109375 8.203125 \nL 18.109375 0 \nL 9.078125 0 \nL 9.078125 75.984375 \nL 18.109375 75.984375 \nz\n\" id=\"DejaVuSans-98\"/>\n      </defs>\n      <use xlink:href=\"#DejaVuSans-80\"/>\n      <use x=\"58.552734\" xlink:href=\"#DejaVuSans-114\"/>\n      <use x=\"97.416016\" xlink:href=\"#DejaVuSans-101\"/>\n      <use x=\"158.939453\" xlink:href=\"#DejaVuSans-100\"/>\n      <use x=\"222.416016\" xlink:href=\"#DejaVuSans-105\"/>\n      <use x=\"250.199219\" xlink:href=\"#DejaVuSans-99\"/>\n      <use x=\"305.179688\" xlink:href=\"#DejaVuSans-116\"/>\n      <use x=\"344.388672\" xlink:href=\"#DejaVuSans-101\"/>\n      <use x=\"405.912109\" xlink:href=\"#DejaVuSans-100\"/>\n      <use x=\"469.388672\" xlink:href=\"#DejaVuSans-32\"/>\n      <use x=\"501.175781\" xlink:href=\"#DejaVuSans-108\"/>\n      <use x=\"528.958984\" xlink:href=\"#DejaVuSans-97\"/>\n      <use x=\"590.238281\" xlink:href=\"#DejaVuSans-98\"/>\n      <use x=\"653.714844\" xlink:href=\"#DejaVuSans-101\"/>\n      <use x=\"715.238281\" xlink:href=\"#DejaVuSans-108\"/>\n     </g>\n    </g>\n   </g>\n   <g id=\"matplotlib.axis_2\">\n    <g id=\"ytick_1\">\n     <g id=\"line2d_4\">\n      <defs>\n       <path d=\"M 0 0 \nL -3.5 0 \n\" id=\"m8803d8780b\" style=\"stroke:#000000;stroke-width:0.8;\"/>\n      </defs>\n      <g>\n       <use style=\"stroke:#000000;stroke-width:0.8;\" x=\"34.240625\" xlink:href=\"#m8803d8780b\" y=\"43.44\"/>\n      </g>\n     </g>\n     <g id=\"text_5\">\n      <!-- 0 -->\n      <g transform=\"translate(20.878125 47.239219)scale(0.1 -0.1)\">\n       <use xlink:href=\"#DejaVuSans-48\"/>\n      </g>\n     </g>\n    </g>\n    <g id=\"ytick_2\">\n     <g id=\"line2d_5\">\n      <g>\n       <use style=\"stroke:#000000;stroke-width:0.8;\" x=\"34.240625\" xlink:href=\"#m8803d8780b\" y=\"115.92\"/>\n      </g>\n     </g>\n     <g id=\"text_6\">\n      <!-- 1 -->\n      <g transform=\"translate(20.878125 119.719219)scale(0.1 -0.1)\">\n       <use xlink:href=\"#DejaVuSans-49\"/>\n      </g>\n     </g>\n    </g>\n    <g id=\"ytick_3\">\n     <g id=\"line2d_6\">\n      <g>\n       <use style=\"stroke:#000000;stroke-width:0.8;\" x=\"34.240625\" xlink:href=\"#m8803d8780b\" y=\"188.4\"/>\n      </g>\n     </g>\n     <g id=\"text_7\">\n      <!-- 2 -->\n      <g transform=\"translate(20.878125 192.199219)scale(0.1 -0.1)\">\n       <use xlink:href=\"#DejaVuSans-50\"/>\n      </g>\n     </g>\n    </g>\n    <g id=\"text_8\">\n     <!-- True label -->\n     <g transform=\"translate(14.798437 140.219219)rotate(-90)scale(0.1 -0.1)\">\n      <defs>\n       <path d=\"M -0.296875 72.90625 \nL 61.375 72.90625 \nL 61.375 64.59375 \nL 35.5 64.59375 \nL 35.5 0 \nL 25.59375 0 \nL 25.59375 64.59375 \nL -0.296875 64.59375 \nz\n\" id=\"DejaVuSans-84\"/>\n       <path d=\"M 8.5 21.578125 \nL 8.5 54.6875 \nL 17.484375 54.6875 \nL 17.484375 21.921875 \nQ 17.484375 14.15625 20.5 10.265625 \nQ 23.53125 6.390625 29.59375 6.390625 \nQ 36.859375 6.390625 41.078125 11.03125 \nQ 45.3125 15.671875 45.3125 23.6875 \nL 45.3125 54.6875 \nL 54.296875 54.6875 \nL 54.296875 0 \nL 45.3125 0 \nL 45.3125 8.40625 \nQ 42.046875 3.421875 37.71875 1 \nQ 33.40625 -1.421875 27.6875 -1.421875 \nQ 18.265625 -1.421875 13.375 4.4375 \nQ 8.5 10.296875 8.5 21.578125 \nz\nM 31.109375 56 \nz\n\" id=\"DejaVuSans-117\"/>\n      </defs>\n      <use xlink:href=\"#DejaVuSans-84\"/>\n      <use x=\"46.333984\" xlink:href=\"#DejaVuSans-114\"/>\n      <use x=\"87.447266\" xlink:href=\"#DejaVuSans-117\"/>\n      <use x=\"150.826172\" xlink:href=\"#DejaVuSans-101\"/>\n      <use x=\"212.349609\" xlink:href=\"#DejaVuSans-32\"/>\n      <use x=\"244.136719\" xlink:href=\"#DejaVuSans-108\"/>\n      <use x=\"271.919922\" xlink:href=\"#DejaVuSans-97\"/>\n      <use x=\"333.199219\" xlink:href=\"#DejaVuSans-98\"/>\n      <use x=\"396.675781\" xlink:href=\"#DejaVuSans-101\"/>\n      <use x=\"458.199219\" xlink:href=\"#DejaVuSans-108\"/>\n     </g>\n    </g>\n   </g>\n   <g id=\"patch_3\">\n    <path d=\"M 34.240625 224.64 \nL 34.240625 7.2 \n\" style=\"fill:none;stroke:#000000;stroke-linecap:square;stroke-linejoin:miter;stroke-width:0.8;\"/>\n   </g>\n   <g id=\"patch_4\">\n    <path d=\"M 251.680625 224.64 \nL 251.680625 7.2 \n\" style=\"fill:none;stroke:#000000;stroke-linecap:square;stroke-linejoin:miter;stroke-width:0.8;\"/>\n   </g>\n   <g id=\"patch_5\">\n    <path d=\"M 34.240625 224.64 \nL 251.680625 224.64 \n\" style=\"fill:none;stroke:#000000;stroke-linecap:square;stroke-linejoin:miter;stroke-width:0.8;\"/>\n   </g>\n   <g id=\"patch_6\">\n    <path d=\"M 34.240625 7.2 \nL 251.680625 7.2 \n\" style=\"fill:none;stroke:#000000;stroke-linecap:square;stroke-linejoin:miter;stroke-width:0.8;\"/>\n   </g>\n   <g id=\"text_9\">\n    <!-- 0 -->\n    <g style=\"fill:#2d004b;\" transform=\"translate(67.299375 46.199375)scale(0.1 -0.1)\">\n     <use xlink:href=\"#DejaVuSans-48\"/>\n    </g>\n   </g>\n   <g id=\"text_10\">\n    <!-- 71 -->\n    <g style=\"fill:#2d004b;\" transform=\"translate(136.598125 46.199375)scale(0.1 -0.1)\">\n     <defs>\n      <path d=\"M 8.203125 72.90625 \nL 55.078125 72.90625 \nL 55.078125 68.703125 \nL 28.609375 0 \nL 18.3125 0 \nL 43.21875 64.59375 \nL 8.203125 64.59375 \nz\n\" id=\"DejaVuSans-55\"/>\n     </defs>\n     <use xlink:href=\"#DejaVuSans-55\"/>\n     <use x=\"63.623047\" xlink:href=\"#DejaVuSans-49\"/>\n    </g>\n   </g>\n   <g id=\"text_11\">\n    <!-- 0 -->\n    <g style=\"fill:#2d004b;\" transform=\"translate(212.259375 46.199375)scale(0.1 -0.1)\">\n     <use xlink:href=\"#DejaVuSans-48\"/>\n    </g>\n   </g>\n   <g id=\"text_12\">\n    <!-- 0 -->\n    <g style=\"fill:#2d004b;\" transform=\"translate(67.299375 118.679375)scale(0.1 -0.1)\">\n     <use xlink:href=\"#DejaVuSans-48\"/>\n    </g>\n   </g>\n   <g id=\"text_13\">\n    <!-- 2563 -->\n    <g style=\"fill:#7f3b08;\" transform=\"translate(130.235625 118.679375)scale(0.1 -0.1)\">\n     <defs>\n      <path d=\"M 10.796875 72.90625 \nL 49.515625 72.90625 \nL 49.515625 64.59375 \nL 19.828125 64.59375 \nL 19.828125 46.734375 \nQ 21.96875 47.46875 24.109375 47.828125 \nQ 26.265625 48.1875 28.421875 48.1875 \nQ 40.625 48.1875 47.75 41.5 \nQ 54.890625 34.8125 54.890625 23.390625 \nQ 54.890625 11.625 47.5625 5.09375 \nQ 40.234375 -1.421875 26.90625 -1.421875 \nQ 22.3125 -1.421875 17.546875 -0.640625 \nQ 12.796875 0.140625 7.71875 1.703125 \nL 7.71875 11.625 \nQ 12.109375 9.234375 16.796875 8.0625 \nQ 21.484375 6.890625 26.703125 6.890625 \nQ 35.15625 6.890625 40.078125 11.328125 \nQ 45.015625 15.765625 45.015625 23.390625 \nQ 45.015625 31 40.078125 35.4375 \nQ 35.15625 39.890625 26.703125 39.890625 \nQ 22.75 39.890625 18.8125 39.015625 \nQ 14.890625 38.140625 10.796875 36.28125 \nz\n\" id=\"DejaVuSans-53\"/>\n      <path d=\"M 33.015625 40.375 \nQ 26.375 40.375 22.484375 35.828125 \nQ 18.609375 31.296875 18.609375 23.390625 \nQ 18.609375 15.53125 22.484375 10.953125 \nQ 26.375 6.390625 33.015625 6.390625 \nQ 39.65625 6.390625 43.53125 10.953125 \nQ 47.40625 15.53125 47.40625 23.390625 \nQ 47.40625 31.296875 43.53125 35.828125 \nQ 39.65625 40.375 33.015625 40.375 \nz\nM 52.59375 71.296875 \nL 52.59375 62.3125 \nQ 48.875 64.0625 45.09375 64.984375 \nQ 41.3125 65.921875 37.59375 65.921875 \nQ 27.828125 65.921875 22.671875 59.328125 \nQ 17.53125 52.734375 16.796875 39.40625 \nQ 19.671875 43.65625 24.015625 45.921875 \nQ 28.375 48.1875 33.59375 48.1875 \nQ 44.578125 48.1875 50.953125 41.515625 \nQ 57.328125 34.859375 57.328125 23.390625 \nQ 57.328125 12.15625 50.6875 5.359375 \nQ 44.046875 -1.421875 33.015625 -1.421875 \nQ 20.359375 -1.421875 13.671875 8.265625 \nQ 6.984375 17.96875 6.984375 36.375 \nQ 6.984375 53.65625 15.1875 63.9375 \nQ 23.390625 74.21875 37.203125 74.21875 \nQ 40.921875 74.21875 44.703125 73.484375 \nQ 48.484375 72.75 52.59375 71.296875 \nz\n\" id=\"DejaVuSans-54\"/>\n      <path d=\"M 40.578125 39.3125 \nQ 47.65625 37.796875 51.625 33 \nQ 55.609375 28.21875 55.609375 21.1875 \nQ 55.609375 10.40625 48.1875 4.484375 \nQ 40.765625 -1.421875 27.09375 -1.421875 \nQ 22.515625 -1.421875 17.65625 -0.515625 \nQ 12.796875 0.390625 7.625 2.203125 \nL 7.625 11.71875 \nQ 11.71875 9.328125 16.59375 8.109375 \nQ 21.484375 6.890625 26.8125 6.890625 \nQ 36.078125 6.890625 40.9375 10.546875 \nQ 45.796875 14.203125 45.796875 21.1875 \nQ 45.796875 27.640625 41.28125 31.265625 \nQ 36.765625 34.90625 28.71875 34.90625 \nL 20.21875 34.90625 \nL 20.21875 43.015625 \nL 29.109375 43.015625 \nQ 36.375 43.015625 40.234375 45.921875 \nQ 44.09375 48.828125 44.09375 54.296875 \nQ 44.09375 59.90625 40.109375 62.90625 \nQ 36.140625 65.921875 28.71875 65.921875 \nQ 24.65625 65.921875 20.015625 65.03125 \nQ 15.375 64.15625 9.8125 62.3125 \nL 9.8125 71.09375 \nQ 15.4375 72.65625 20.34375 73.4375 \nQ 25.25 74.21875 29.59375 74.21875 \nQ 40.828125 74.21875 47.359375 69.109375 \nQ 53.90625 64.015625 53.90625 55.328125 \nQ 53.90625 49.265625 50.4375 45.09375 \nQ 46.96875 40.921875 40.578125 39.3125 \nz\n\" id=\"DejaVuSans-51\"/>\n     </defs>\n     <use xlink:href=\"#DejaVuSans-50\"/>\n     <use x=\"63.623047\" xlink:href=\"#DejaVuSans-53\"/>\n     <use x=\"127.246094\" xlink:href=\"#DejaVuSans-54\"/>\n     <use x=\"190.869141\" xlink:href=\"#DejaVuSans-51\"/>\n    </g>\n   </g>\n   <g id=\"text_14\">\n    <!-- 0 -->\n    <g style=\"fill:#2d004b;\" transform=\"translate(212.259375 118.679375)scale(0.1 -0.1)\">\n     <use xlink:href=\"#DejaVuSans-48\"/>\n    </g>\n   </g>\n   <g id=\"text_15\">\n    <!-- 0 -->\n    <g style=\"fill:#2d004b;\" transform=\"translate(67.299375 191.159375)scale(0.1 -0.1)\">\n     <use xlink:href=\"#DejaVuSans-48\"/>\n    </g>\n   </g>\n   <g id=\"text_16\">\n    <!-- 70 -->\n    <g style=\"fill:#2d004b;\" transform=\"translate(136.598125 191.159375)scale(0.1 -0.1)\">\n     <use xlink:href=\"#DejaVuSans-55\"/>\n     <use x=\"63.623047\" xlink:href=\"#DejaVuSans-48\"/>\n    </g>\n   </g>\n   <g id=\"text_17\">\n    <!-- 0 -->\n    <g style=\"fill:#2d004b;\" transform=\"translate(212.259375 191.159375)scale(0.1 -0.1)\">\n     <use xlink:href=\"#DejaVuSans-48\"/>\n    </g>\n   </g>\n  </g>\n  <g id=\"axes_2\">\n   <g id=\"patch_7\">\n    <path clip-path=\"url(#p1e5dc65d03)\" d=\"M 268.420625 224.64 \nL 268.420625 223.790625 \nL 268.420625 8.049375 \nL 268.420625 7.2 \nL 279.292625 7.2 \nL 279.292625 8.049375 \nL 279.292625 223.790625 \nL 279.292625 224.64 \nz\n\" style=\"fill:#ffffff;stroke:#ffffff;stroke-linejoin:miter;stroke-width:0.01;\"/>\n   </g>\n   <image height=\"217\" id=\"image414760ce34\" transform=\"scale(1 -1)translate(0 -217)\" width=\"11\" x=\"268\" xlink:href=\"data:image/png;base64,\niVBORw0KGgoAAAANSUhEUgAAAAsAAADZCAYAAAD2WsoCAAABXElEQVR4nO2YQY4CMRADO5MG9lF8br8NSXqvc0whWfKi4WxZ1W5nEtF+nz8Vm7882q40IrMDMXKG4u35lBi6NLowOiDOQ4bBnD3W7ZLGvnU25Aygk3Q0G3GG0RFnkkYnAzIM2YC6nIXrlpUfOSNmmMb+PSEUH0h8e4gwTMQwjbsIA4rTAaOnLI3u0Y0E5Y8GnINgQGfQDYbRwbqjyTB0OaNjxdKQbVCXRiflN9mgrHV13AgGYt5/nTDnCuIsG7BkAwoxUBphkoasSP+wG1XgZb4W+GOhCom3tZFL5lxkwLmIs47ZI+c1LQYEC6TOZEAdhq7P6HRP0H4hhokzSuMa8GMME2eT8kMxYB7v6YDBnGUVHQOlQbqB7hRddF/fDZMB0RsJ9RkViTjPF8KwYGbH6krjJB4vUn6XPqsw0KegSnZNFPowImZS/vkmGBbMyHnOQTCudZ8x0IC66ETOf4OQSui3ew7aAAAAAElFTkSuQmCC\" y=\"-7\"/>\n   <g id=\"matplotlib.axis_3\"/>\n   <g id=\"matplotlib.axis_4\">\n    <g id=\"ytick_4\">\n     <g id=\"line2d_7\">\n      <defs>\n       <path d=\"M 0 0 \nL 3.5 0 \n\" id=\"m5b7d103ab5\" style=\"stroke:#000000;stroke-width:0.8;\"/>\n      </defs>\n      <g>\n       <use style=\"stroke:#000000;stroke-width:0.8;\" x=\"279.292625\" xlink:href=\"#m5b7d103ab5\" y=\"224.64\"/>\n      </g>\n     </g>\n     <g id=\"text_18\">\n      <!-- 0 -->\n      <g transform=\"translate(286.292625 228.439219)scale(0.1 -0.1)\">\n       <use xlink:href=\"#DejaVuSans-48\"/>\n      </g>\n     </g>\n    </g>\n    <g id=\"ytick_5\">\n     <g id=\"line2d_8\">\n      <g>\n       <use style=\"stroke:#000000;stroke-width:0.8;\" x=\"279.292625\" xlink:href=\"#m5b7d103ab5\" y=\"182.22096\"/>\n      </g>\n     </g>\n     <g id=\"text_19\">\n      <!-- 500 -->\n      <g transform=\"translate(286.292625 186.020179)scale(0.1 -0.1)\">\n       <use xlink:href=\"#DejaVuSans-53\"/>\n       <use x=\"63.623047\" xlink:href=\"#DejaVuSans-48\"/>\n       <use x=\"127.246094\" xlink:href=\"#DejaVuSans-48\"/>\n      </g>\n     </g>\n    </g>\n    <g id=\"ytick_6\">\n     <g id=\"line2d_9\">\n      <g>\n       <use style=\"stroke:#000000;stroke-width:0.8;\" x=\"279.292625\" xlink:href=\"#m5b7d103ab5\" y=\"139.80192\"/>\n      </g>\n     </g>\n     <g id=\"text_20\">\n      <!-- 1000 -->\n      <g transform=\"translate(286.292625 143.601138)scale(0.1 -0.1)\">\n       <use xlink:href=\"#DejaVuSans-49\"/>\n       <use x=\"63.623047\" xlink:href=\"#DejaVuSans-48\"/>\n       <use x=\"127.246094\" xlink:href=\"#DejaVuSans-48\"/>\n       <use x=\"190.869141\" xlink:href=\"#DejaVuSans-48\"/>\n      </g>\n     </g>\n    </g>\n    <g id=\"ytick_7\">\n     <g id=\"line2d_10\">\n      <g>\n       <use style=\"stroke:#000000;stroke-width:0.8;\" x=\"279.292625\" xlink:href=\"#m5b7d103ab5\" y=\"97.382879\"/>\n      </g>\n     </g>\n     <g id=\"text_21\">\n      <!-- 1500 -->\n      <g transform=\"translate(286.292625 101.182098)scale(0.1 -0.1)\">\n       <use xlink:href=\"#DejaVuSans-49\"/>\n       <use x=\"63.623047\" xlink:href=\"#DejaVuSans-53\"/>\n       <use x=\"127.246094\" xlink:href=\"#DejaVuSans-48\"/>\n       <use x=\"190.869141\" xlink:href=\"#DejaVuSans-48\"/>\n      </g>\n     </g>\n    </g>\n    <g id=\"ytick_8\">\n     <g id=\"line2d_11\">\n      <g>\n       <use style=\"stroke:#000000;stroke-width:0.8;\" x=\"279.292625\" xlink:href=\"#m5b7d103ab5\" y=\"54.963839\"/>\n      </g>\n     </g>\n     <g id=\"text_22\">\n      <!-- 2000 -->\n      <g transform=\"translate(286.292625 58.763058)scale(0.1 -0.1)\">\n       <use xlink:href=\"#DejaVuSans-50\"/>\n       <use x=\"63.623047\" xlink:href=\"#DejaVuSans-48\"/>\n       <use x=\"127.246094\" xlink:href=\"#DejaVuSans-48\"/>\n       <use x=\"190.869141\" xlink:href=\"#DejaVuSans-48\"/>\n      </g>\n     </g>\n    </g>\n    <g id=\"ytick_9\">\n     <g id=\"line2d_12\">\n      <g>\n       <use style=\"stroke:#000000;stroke-width:0.8;\" x=\"279.292625\" xlink:href=\"#m5b7d103ab5\" y=\"12.544799\"/>\n      </g>\n     </g>\n     <g id=\"text_23\">\n      <!-- 2500 -->\n      <g transform=\"translate(286.292625 16.344018)scale(0.1 -0.1)\">\n       <use xlink:href=\"#DejaVuSans-50\"/>\n       <use x=\"63.623047\" xlink:href=\"#DejaVuSans-53\"/>\n       <use x=\"127.246094\" xlink:href=\"#DejaVuSans-48\"/>\n       <use x=\"190.869141\" xlink:href=\"#DejaVuSans-48\"/>\n      </g>\n     </g>\n    </g>\n   </g>\n   <g id=\"patch_8\">\n    <path d=\"M 268.420625 224.64 \nL 268.420625 223.790625 \nL 268.420625 8.049375 \nL 268.420625 7.2 \nL 279.292625 7.2 \nL 279.292625 8.049375 \nL 279.292625 223.790625 \nL 279.292625 224.64 \nz\n\" style=\"fill:none;stroke:#000000;stroke-linejoin:miter;stroke-width:0.8;\"/>\n   </g>\n  </g>\n </g>\n <defs>\n  <clipPath id=\"p89b3f22763\">\n   <rect height=\"217.44\" width=\"217.44\" x=\"34.240625\" y=\"7.2\"/>\n  </clipPath>\n  <clipPath id=\"p1e5dc65d03\">\n   <rect height=\"217.44\" width=\"10.872\" x=\"268.420625\" y=\"7.2\"/>\n  </clipPath>\n </defs>\n</svg>\n",
      "image/png": "[encoded data removed]"
     },
     "metadata": {
      "needs_background": "light"
     }
    }
   ],
   "source": [
    "cm_display = ConfusionMatrixDisplay(cm).plot(cmap='PuOr')"
   ]
  },
  {
   "cell_type": "code",
   "execution_count": null,
   "metadata": {},
   "outputs": [],
   "source": []
  }
 ]
}