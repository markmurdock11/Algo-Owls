{
 "metadata": {
  "language_info": {
   "codemirror_mode": {
    "name": "ipython",
    "version": 3
   },
   "file_extension": ".py",
   "mimetype": "text/x-python",
   "name": "python",
   "nbconvert_exporter": "python",
   "pygments_lexer": "ipython3",
   "version": "3.8.3-final"
  },
  "orig_nbformat": 2,
  "kernelspec": {
   "name": "python3",
   "display_name": "Python 3",
   "metadata": {
    "interpreter": {
     "hash": "0e3b5fc306262c3ab36ec77fa4a74b066a99efd5a880dbc43ddfd1990bfd3bc2"
    }
   }
  }
 },
 "nbformat": 4,
 "nbformat_minor": 2,
 "cells": [
  {
   "source": [
    "\"\"\"\n",
    "This file was created with the purpose of developing\n",
    "a random forest classifier to identify market squeeze\n",
    "\n",
    "This squeeze classification depends of the comparison of 2 indicators:\n",
    "2 std of a 20 period bollinger bands and 2 atr of a 20 period keltner channel\n",
    "\n",
    "our definition of squeeze: \n",
    "when the upper bollinger band (bbup) is less or equal to upper keltner band (kcup)\n",
    "AND lower bollinger band (bblo) is above or equal to lower keltner channel (kclo)\n",
    "\"\"\"\n",
    "\n"
   ],
   "cell_type": "markdown",
   "metadata": {}
  },
  {
   "source": [
    "\"\"\"\n",
    "To develop the random forest model, a csv file was prepared extracting prices, bollinger bands and squeeze \n",
    "classification from tradestation.\n",
    "\n",
    "A custom squeeze_id indicator was developed in easylanguage to obtain a column with values ranging 0 \n",
    "or 1 depending upon the market being on a squeeze or not (based on the requirements specified above)\n",
    "\n",
    "\"\"\"\n"
   ],
   "cell_type": "markdown",
   "metadata": {}
  },
  {
   "cell_type": "code",
   "execution_count": 1,
   "metadata": {},
   "outputs": [],
   "source": [
    "# Import libraries and dependencies\n",
    "import pandas as pd\n",
    "import numpy as np\n",
    "from pathlib import Path\n",
    "%matplotlib inline\n",
    "\n",
    "import warnings\n",
    "warnings.filterwarnings('ignore')\n"
   ]
  },
  {
   "cell_type": "code",
   "execution_count": 2,
   "metadata": {},
   "outputs": [
    {
     "output_type": "execute_result",
     "data": {
      "text/plain": "PosixPath('../Resources/ts_squeeze_jpm.csv')"
     },
     "metadata": {},
     "execution_count": 2
    }
   ],
   "source": [
    "csv_path = Path('../Resources/ts_squeeze_jpm.csv')\n",
    "csv_path"
   ]
  },
  {
   "cell_type": "code",
   "execution_count": 3,
   "metadata": {},
   "outputs": [
    {
     "output_type": "execute_result",
     "data": {
      "text/plain": "                Date_Time    Open    High     Low   Close      Up    Down  \\\n19574 2021-01-11 14:00:00  137.67  137.92  137.65  137.86  211198  218904   \n19575 2021-01-11 14:15:00  137.87  138.20  137.79  137.87  269373  269716   \n19576 2021-01-11 14:30:00  137.87  137.99  137.56  137.89  194671  253946   \n19577 2021-01-11 14:45:00  137.89  138.03  137.57  137.74  220389  320640   \n19578 2021-01-11 15:00:00  137.75  138.16  137.75  138.11  718139  697851   \n\n         kcup    kclo  MidLine    bbup    bblo  MidLine.1  FastEMA  SlowEMA  \\\n19574  137.68  136.12   136.90  138.25  135.54     136.90   137.50   136.97   \n19575  137.71  136.20   136.95  138.37  135.54     136.95   137.58   137.05   \n19576  137.76  136.30   137.03  138.48  135.59     137.03   137.64   137.13   \n19577  137.85  136.37   137.11  138.53  135.70     137.11   137.66   137.18   \n19578  137.96  136.45   137.21  138.62  135.79     137.21   137.75   137.27   \n\n       squeeze  \n19574        0  \n19575        0  \n19576        0  \n19577        0  \n19578        0  ",
      "text/html": "<div>\n<style scoped>\n    .dataframe tbody tr th:only-of-type {\n        vertical-align: middle;\n    }\n\n    .dataframe tbody tr th {\n        vertical-align: top;\n    }\n\n    .dataframe thead th {\n        text-align: right;\n    }\n</style>\n<table border=\"1\" class=\"dataframe\">\n  <thead>\n    <tr style=\"text-align: right;\">\n      <th></th>\n      <th>Date_Time</th>\n      <th>Open</th>\n      <th>High</th>\n      <th>Low</th>\n      <th>Close</th>\n      <th>Up</th>\n      <th>Down</th>\n      <th>kcup</th>\n      <th>kclo</th>\n      <th>MidLine</th>\n      <th>bbup</th>\n      <th>bblo</th>\n      <th>MidLine.1</th>\n      <th>FastEMA</th>\n      <th>SlowEMA</th>\n      <th>squeeze</th>\n    </tr>\n  </thead>\n  <tbody>\n    <tr>\n      <th>19574</th>\n      <td>2021-01-11 14:00:00</td>\n      <td>137.67</td>\n      <td>137.92</td>\n      <td>137.65</td>\n      <td>137.86</td>\n      <td>211198</td>\n      <td>218904</td>\n      <td>137.68</td>\n      <td>136.12</td>\n      <td>136.90</td>\n      <td>138.25</td>\n      <td>135.54</td>\n      <td>136.90</td>\n      <td>137.50</td>\n      <td>136.97</td>\n      <td>0</td>\n    </tr>\n    <tr>\n      <th>19575</th>\n      <td>2021-01-11 14:15:00</td>\n      <td>137.87</td>\n      <td>138.20</td>\n      <td>137.79</td>\n      <td>137.87</td>\n      <td>269373</td>\n      <td>269716</td>\n      <td>137.71</td>\n      <td>136.20</td>\n      <td>136.95</td>\n      <td>138.37</td>\n      <td>135.54</td>\n      <td>136.95</td>\n      <td>137.58</td>\n      <td>137.05</td>\n      <td>0</td>\n    </tr>\n    <tr>\n      <th>19576</th>\n      <td>2021-01-11 14:30:00</td>\n      <td>137.87</td>\n      <td>137.99</td>\n      <td>137.56</td>\n      <td>137.89</td>\n      <td>194671</td>\n      <td>253946</td>\n      <td>137.76</td>\n      <td>136.30</td>\n      <td>137.03</td>\n      <td>138.48</td>\n      <td>135.59</td>\n      <td>137.03</td>\n      <td>137.64</td>\n      <td>137.13</td>\n      <td>0</td>\n    </tr>\n    <tr>\n      <th>19577</th>\n      <td>2021-01-11 14:45:00</td>\n      <td>137.89</td>\n      <td>138.03</td>\n      <td>137.57</td>\n      <td>137.74</td>\n      <td>220389</td>\n      <td>320640</td>\n      <td>137.85</td>\n      <td>136.37</td>\n      <td>137.11</td>\n      <td>138.53</td>\n      <td>135.70</td>\n      <td>137.11</td>\n      <td>137.66</td>\n      <td>137.18</td>\n      <td>0</td>\n    </tr>\n    <tr>\n      <th>19578</th>\n      <td>2021-01-11 15:00:00</td>\n      <td>137.75</td>\n      <td>138.16</td>\n      <td>137.75</td>\n      <td>138.11</td>\n      <td>718139</td>\n      <td>697851</td>\n      <td>137.96</td>\n      <td>136.45</td>\n      <td>137.21</td>\n      <td>138.62</td>\n      <td>135.79</td>\n      <td>137.21</td>\n      <td>137.75</td>\n      <td>137.27</td>\n      <td>0</td>\n    </tr>\n  </tbody>\n</table>\n</div>"
     },
     "metadata": {},
     "execution_count": 3
    }
   ],
   "source": [
    "ts_file_df = pd.read_csv(csv_path, parse_dates=[['Date', 'Time']])\n",
    "ts_file_df.tail()"
   ]
  },
  {
   "cell_type": "code",
   "execution_count": 4,
   "metadata": {},
   "outputs": [
    {
     "output_type": "execute_result",
     "data": {
      "text/plain": "                       Open    High     Low   Close       Up     Down  kcup  \\\nDate_Time                                                                     \n2018-01-12 08:45:00  111.65  111.98  110.84  111.22  1051611  1206429   0.0   \n2018-01-12 09:00:00  111.21  112.04  111.17  111.93   645133   604771   0.0   \n2018-01-12 09:15:00  111.93  112.20  111.87  112.13   541130   492175   0.0   \n2018-01-12 09:30:00  112.13  112.18  111.56  111.91   332412   418068   0.0   \n2018-01-12 09:45:00  111.91  112.24  111.85  111.97   281205   290538   0.0   \n\n                     kclo  MidLine  bbup  bblo  FastEMA  SlowEMA  squeeze  \nDate_Time                                                                  \n2018-01-12 08:45:00   0.0      0.0   0.0   0.0     0.00     0.00        0  \n2018-01-12 09:00:00   0.0      0.0   0.0   0.0   111.93   111.93        0  \n2018-01-12 09:15:00   0.0      0.0   0.0   0.0   111.97   111.95        0  \n2018-01-12 09:30:00   0.0      0.0   0.0   0.0   111.96   111.94        0  \n2018-01-12 09:45:00   0.0      0.0   0.0   0.0   111.96   111.95        0  ",
      "text/html": "<div>\n<style scoped>\n    .dataframe tbody tr th:only-of-type {\n        vertical-align: middle;\n    }\n\n    .dataframe tbody tr th {\n        vertical-align: top;\n    }\n\n    .dataframe thead th {\n        text-align: right;\n    }\n</style>\n<table border=\"1\" class=\"dataframe\">\n  <thead>\n    <tr style=\"text-align: right;\">\n      <th></th>\n      <th>Open</th>\n      <th>High</th>\n      <th>Low</th>\n      <th>Close</th>\n      <th>Up</th>\n      <th>Down</th>\n      <th>kcup</th>\n      <th>kclo</th>\n      <th>MidLine</th>\n      <th>bbup</th>\n      <th>bblo</th>\n      <th>FastEMA</th>\n      <th>SlowEMA</th>\n      <th>squeeze</th>\n    </tr>\n    <tr>\n      <th>Date_Time</th>\n      <th></th>\n      <th></th>\n      <th></th>\n      <th></th>\n      <th></th>\n      <th></th>\n      <th></th>\n      <th></th>\n      <th></th>\n      <th></th>\n      <th></th>\n      <th></th>\n      <th></th>\n      <th></th>\n    </tr>\n  </thead>\n  <tbody>\n    <tr>\n      <th>2018-01-12 08:45:00</th>\n      <td>111.65</td>\n      <td>111.98</td>\n      <td>110.84</td>\n      <td>111.22</td>\n      <td>1051611</td>\n      <td>1206429</td>\n      <td>0.0</td>\n      <td>0.0</td>\n      <td>0.0</td>\n      <td>0.0</td>\n      <td>0.0</td>\n      <td>0.00</td>\n      <td>0.00</td>\n      <td>0</td>\n    </tr>\n    <tr>\n      <th>2018-01-12 09:00:00</th>\n      <td>111.21</td>\n      <td>112.04</td>\n      <td>111.17</td>\n      <td>111.93</td>\n      <td>645133</td>\n      <td>604771</td>\n      <td>0.0</td>\n      <td>0.0</td>\n      <td>0.0</td>\n      <td>0.0</td>\n      <td>0.0</td>\n      <td>111.93</td>\n      <td>111.93</td>\n      <td>0</td>\n    </tr>\n    <tr>\n      <th>2018-01-12 09:15:00</th>\n      <td>111.93</td>\n      <td>112.20</td>\n      <td>111.87</td>\n      <td>112.13</td>\n      <td>541130</td>\n      <td>492175</td>\n      <td>0.0</td>\n      <td>0.0</td>\n      <td>0.0</td>\n      <td>0.0</td>\n      <td>0.0</td>\n      <td>111.97</td>\n      <td>111.95</td>\n      <td>0</td>\n    </tr>\n    <tr>\n      <th>2018-01-12 09:30:00</th>\n      <td>112.13</td>\n      <td>112.18</td>\n      <td>111.56</td>\n      <td>111.91</td>\n      <td>332412</td>\n      <td>418068</td>\n      <td>0.0</td>\n      <td>0.0</td>\n      <td>0.0</td>\n      <td>0.0</td>\n      <td>0.0</td>\n      <td>111.96</td>\n      <td>111.94</td>\n      <td>0</td>\n    </tr>\n    <tr>\n      <th>2018-01-12 09:45:00</th>\n      <td>111.91</td>\n      <td>112.24</td>\n      <td>111.85</td>\n      <td>111.97</td>\n      <td>281205</td>\n      <td>290538</td>\n      <td>0.0</td>\n      <td>0.0</td>\n      <td>0.0</td>\n      <td>0.0</td>\n      <td>0.0</td>\n      <td>111.96</td>\n      <td>111.95</td>\n      <td>0</td>\n    </tr>\n  </tbody>\n</table>\n</div>"
     },
     "metadata": {},
     "execution_count": 4
    }
   ],
   "source": [
    "# set index as Date_Time and drop MidLine.1 column (it is a duplicate of MidLine)\n",
    "ts_file_df.set_index(pd.to_datetime(ts_file_df['Date_Time'], infer_datetime_format=True), inplace=True)\n",
    "ts_file_df.drop(columns=['Date_Time', 'MidLine.1'], inplace=True)\n",
    "ts_file_df.head()\n"
   ]
  },
  {
   "cell_type": "code",
   "execution_count": 5,
   "metadata": {},
   "outputs": [
    {
     "output_type": "execute_result",
     "data": {
      "text/plain": "                       Open    High     Low   Close       Up     Down  kcup  \\\nDate_Time                                                                     \n2018-01-12 08:45:00  111.65  111.98  110.84  111.22  1051611  1206429   0.0   \n2018-01-12 09:00:00  111.21  112.04  111.17  111.93   645133   604771   0.0   \n2018-01-12 09:15:00  111.93  112.20  111.87  112.13   541130   492175   0.0   \n2018-01-12 09:30:00  112.13  112.18  111.56  111.91   332412   418068   0.0   \n2018-01-12 09:45:00  111.91  112.24  111.85  111.97   281205   290538   0.0   \n\n                     kclo  MidLine  bbup  bblo  FastEMA  SlowEMA  \nDate_Time                                                         \n2018-01-12 08:45:00   0.0      0.0   0.0   0.0     0.00     0.00  \n2018-01-12 09:00:00   0.0      0.0   0.0   0.0   111.93   111.93  \n2018-01-12 09:15:00   0.0      0.0   0.0   0.0   111.97   111.95  \n2018-01-12 09:30:00   0.0      0.0   0.0   0.0   111.96   111.94  \n2018-01-12 09:45:00   0.0      0.0   0.0   0.0   111.96   111.95  ",
      "text/html": "<div>\n<style scoped>\n    .dataframe tbody tr th:only-of-type {\n        vertical-align: middle;\n    }\n\n    .dataframe tbody tr th {\n        vertical-align: top;\n    }\n\n    .dataframe thead th {\n        text-align: right;\n    }\n</style>\n<table border=\"1\" class=\"dataframe\">\n  <thead>\n    <tr style=\"text-align: right;\">\n      <th></th>\n      <th>Open</th>\n      <th>High</th>\n      <th>Low</th>\n      <th>Close</th>\n      <th>Up</th>\n      <th>Down</th>\n      <th>kcup</th>\n      <th>kclo</th>\n      <th>MidLine</th>\n      <th>bbup</th>\n      <th>bblo</th>\n      <th>FastEMA</th>\n      <th>SlowEMA</th>\n    </tr>\n    <tr>\n      <th>Date_Time</th>\n      <th></th>\n      <th></th>\n      <th></th>\n      <th></th>\n      <th></th>\n      <th></th>\n      <th></th>\n      <th></th>\n      <th></th>\n      <th></th>\n      <th></th>\n      <th></th>\n      <th></th>\n    </tr>\n  </thead>\n  <tbody>\n    <tr>\n      <th>2018-01-12 08:45:00</th>\n      <td>111.65</td>\n      <td>111.98</td>\n      <td>110.84</td>\n      <td>111.22</td>\n      <td>1051611</td>\n      <td>1206429</td>\n      <td>0.0</td>\n      <td>0.0</td>\n      <td>0.0</td>\n      <td>0.0</td>\n      <td>0.0</td>\n      <td>0.00</td>\n      <td>0.00</td>\n    </tr>\n    <tr>\n      <th>2018-01-12 09:00:00</th>\n      <td>111.21</td>\n      <td>112.04</td>\n      <td>111.17</td>\n      <td>111.93</td>\n      <td>645133</td>\n      <td>604771</td>\n      <td>0.0</td>\n      <td>0.0</td>\n      <td>0.0</td>\n      <td>0.0</td>\n      <td>0.0</td>\n      <td>111.93</td>\n      <td>111.93</td>\n    </tr>\n    <tr>\n      <th>2018-01-12 09:15:00</th>\n      <td>111.93</td>\n      <td>112.20</td>\n      <td>111.87</td>\n      <td>112.13</td>\n      <td>541130</td>\n      <td>492175</td>\n      <td>0.0</td>\n      <td>0.0</td>\n      <td>0.0</td>\n      <td>0.0</td>\n      <td>0.0</td>\n      <td>111.97</td>\n      <td>111.95</td>\n    </tr>\n    <tr>\n      <th>2018-01-12 09:30:00</th>\n      <td>112.13</td>\n      <td>112.18</td>\n      <td>111.56</td>\n      <td>111.91</td>\n      <td>332412</td>\n      <td>418068</td>\n      <td>0.0</td>\n      <td>0.0</td>\n      <td>0.0</td>\n      <td>0.0</td>\n      <td>0.0</td>\n      <td>111.96</td>\n      <td>111.94</td>\n    </tr>\n    <tr>\n      <th>2018-01-12 09:45:00</th>\n      <td>111.91</td>\n      <td>112.24</td>\n      <td>111.85</td>\n      <td>111.97</td>\n      <td>281205</td>\n      <td>290538</td>\n      <td>0.0</td>\n      <td>0.0</td>\n      <td>0.0</td>\n      <td>0.0</td>\n      <td>0.0</td>\n      <td>111.96</td>\n      <td>111.95</td>\n    </tr>\n  </tbody>\n</table>\n</div>"
     },
     "metadata": {},
     "execution_count": 5
    }
   ],
   "source": [
    "# Set a variable list of features to feed to our model\n",
    "\n",
    "x_var_list = ['Open', 'High', 'Low', 'Close', 'Up', 'Down', 'kcup', 'kclo', 'MidLine', 'bbup', 'bblo', 'FastEMA', 'SlowEMA']\n",
    "ts_file_df[x_var_list].head()"
   ]
  },
  {
   "cell_type": "code",
   "execution_count": 6,
   "metadata": {},
   "outputs": [
    {
     "output_type": "execute_result",
     "data": {
      "text/plain": "                       Open    High     Low   Close         Up       Down  \\\nDate_Time                                                                   \n2018-01-12 08:45:00     NaN     NaN     NaN     NaN        NaN        NaN   \n2018-01-12 09:00:00  111.65  111.98  110.84  111.22  1051611.0  1206429.0   \n2018-01-12 09:15:00  111.21  112.04  111.17  111.93   645133.0   604771.0   \n2018-01-12 09:30:00  111.93  112.20  111.87  112.13   541130.0   492175.0   \n2018-01-12 09:45:00  112.13  112.18  111.56  111.91   332412.0   418068.0   \n\n                     kcup  kclo  MidLine  bbup  bblo  FastEMA  SlowEMA  \nDate_Time                                                               \n2018-01-12 08:45:00   NaN   NaN      NaN   NaN   NaN      NaN      NaN  \n2018-01-12 09:00:00   0.0   0.0      0.0   0.0   0.0     0.00     0.00  \n2018-01-12 09:15:00   0.0   0.0      0.0   0.0   0.0   111.93   111.93  \n2018-01-12 09:30:00   0.0   0.0      0.0   0.0   0.0   111.97   111.95  \n2018-01-12 09:45:00   0.0   0.0      0.0   0.0   0.0   111.96   111.94  ",
      "text/html": "<div>\n<style scoped>\n    .dataframe tbody tr th:only-of-type {\n        vertical-align: middle;\n    }\n\n    .dataframe tbody tr th {\n        vertical-align: top;\n    }\n\n    .dataframe thead th {\n        text-align: right;\n    }\n</style>\n<table border=\"1\" class=\"dataframe\">\n  <thead>\n    <tr style=\"text-align: right;\">\n      <th></th>\n      <th>Open</th>\n      <th>High</th>\n      <th>Low</th>\n      <th>Close</th>\n      <th>Up</th>\n      <th>Down</th>\n      <th>kcup</th>\n      <th>kclo</th>\n      <th>MidLine</th>\n      <th>bbup</th>\n      <th>bblo</th>\n      <th>FastEMA</th>\n      <th>SlowEMA</th>\n    </tr>\n    <tr>\n      <th>Date_Time</th>\n      <th></th>\n      <th></th>\n      <th></th>\n      <th></th>\n      <th></th>\n      <th></th>\n      <th></th>\n      <th></th>\n      <th></th>\n      <th></th>\n      <th></th>\n      <th></th>\n      <th></th>\n    </tr>\n  </thead>\n  <tbody>\n    <tr>\n      <th>2018-01-12 08:45:00</th>\n      <td>NaN</td>\n      <td>NaN</td>\n      <td>NaN</td>\n      <td>NaN</td>\n      <td>NaN</td>\n      <td>NaN</td>\n      <td>NaN</td>\n      <td>NaN</td>\n      <td>NaN</td>\n      <td>NaN</td>\n      <td>NaN</td>\n      <td>NaN</td>\n      <td>NaN</td>\n    </tr>\n    <tr>\n      <th>2018-01-12 09:00:00</th>\n      <td>111.65</td>\n      <td>111.98</td>\n      <td>110.84</td>\n      <td>111.22</td>\n      <td>1051611.0</td>\n      <td>1206429.0</td>\n      <td>0.0</td>\n      <td>0.0</td>\n      <td>0.0</td>\n      <td>0.0</td>\n      <td>0.0</td>\n      <td>0.00</td>\n      <td>0.00</td>\n    </tr>\n    <tr>\n      <th>2018-01-12 09:15:00</th>\n      <td>111.21</td>\n      <td>112.04</td>\n      <td>111.17</td>\n      <td>111.93</td>\n      <td>645133.0</td>\n      <td>604771.0</td>\n      <td>0.0</td>\n      <td>0.0</td>\n      <td>0.0</td>\n      <td>0.0</td>\n      <td>0.0</td>\n      <td>111.93</td>\n      <td>111.93</td>\n    </tr>\n    <tr>\n      <th>2018-01-12 09:30:00</th>\n      <td>111.93</td>\n      <td>112.20</td>\n      <td>111.87</td>\n      <td>112.13</td>\n      <td>541130.0</td>\n      <td>492175.0</td>\n      <td>0.0</td>\n      <td>0.0</td>\n      <td>0.0</td>\n      <td>0.0</td>\n      <td>0.0</td>\n      <td>111.97</td>\n      <td>111.95</td>\n    </tr>\n    <tr>\n      <th>2018-01-12 09:45:00</th>\n      <td>112.13</td>\n      <td>112.18</td>\n      <td>111.56</td>\n      <td>111.91</td>\n      <td>332412.0</td>\n      <td>418068.0</td>\n      <td>0.0</td>\n      <td>0.0</td>\n      <td>0.0</td>\n      <td>0.0</td>\n      <td>0.0</td>\n      <td>111.96</td>\n      <td>111.94</td>\n    </tr>\n  </tbody>\n</table>\n</div>"
     },
     "metadata": {},
     "execution_count": 6
    }
   ],
   "source": [
    "# Shift DataFrame values by 1\n",
    "ts_file_df[x_var_list] = ts_file_df[x_var_list].shift(1)\n",
    "ts_file_df[x_var_list].head()"
   ]
  },
  {
   "cell_type": "code",
   "execution_count": 7,
   "metadata": {},
   "outputs": [
    {
     "output_type": "execute_result",
     "data": {
      "text/plain": "                       Open    High     Low   Close         Up       Down  \\\nDate_Time                                                                   \n2018-01-12 08:45:00     NaN     NaN     NaN     NaN        NaN        NaN   \n2018-01-12 09:00:00  111.65  111.98  110.84  111.22  1051611.0  1206429.0   \n2018-01-12 09:15:00  111.21  112.04  111.17  111.93   645133.0   604771.0   \n2018-01-12 09:30:00  111.93  112.20  111.87  112.13   541130.0   492175.0   \n2018-01-12 09:45:00  112.13  112.18  111.56  111.91   332412.0   418068.0   \n\n                     kcup  kclo  MidLine  bbup  bblo  FastEMA  SlowEMA  \\\nDate_Time                                                                \n2018-01-12 08:45:00   NaN   NaN      NaN   NaN   NaN      NaN      NaN   \n2018-01-12 09:00:00   0.0   0.0      0.0   0.0   0.0     0.00     0.00   \n2018-01-12 09:15:00   0.0   0.0      0.0   0.0   0.0   111.93   111.93   \n2018-01-12 09:30:00   0.0   0.0      0.0   0.0   0.0   111.97   111.95   \n2018-01-12 09:45:00   0.0   0.0      0.0   0.0   0.0   111.96   111.94   \n\n                     squeeze  \nDate_Time                     \n2018-01-12 08:45:00        0  \n2018-01-12 09:00:00        0  \n2018-01-12 09:15:00        0  \n2018-01-12 09:30:00        0  \n2018-01-12 09:45:00        0  ",
      "text/html": "<div>\n<style scoped>\n    .dataframe tbody tr th:only-of-type {\n        vertical-align: middle;\n    }\n\n    .dataframe tbody tr th {\n        vertical-align: top;\n    }\n\n    .dataframe thead th {\n        text-align: right;\n    }\n</style>\n<table border=\"1\" class=\"dataframe\">\n  <thead>\n    <tr style=\"text-align: right;\">\n      <th></th>\n      <th>Open</th>\n      <th>High</th>\n      <th>Low</th>\n      <th>Close</th>\n      <th>Up</th>\n      <th>Down</th>\n      <th>kcup</th>\n      <th>kclo</th>\n      <th>MidLine</th>\n      <th>bbup</th>\n      <th>bblo</th>\n      <th>FastEMA</th>\n      <th>SlowEMA</th>\n      <th>squeeze</th>\n    </tr>\n    <tr>\n      <th>Date_Time</th>\n      <th></th>\n      <th></th>\n      <th></th>\n      <th></th>\n      <th></th>\n      <th></th>\n      <th></th>\n      <th></th>\n      <th></th>\n      <th></th>\n      <th></th>\n      <th></th>\n      <th></th>\n      <th></th>\n    </tr>\n  </thead>\n  <tbody>\n    <tr>\n      <th>2018-01-12 08:45:00</th>\n      <td>NaN</td>\n      <td>NaN</td>\n      <td>NaN</td>\n      <td>NaN</td>\n      <td>NaN</td>\n      <td>NaN</td>\n      <td>NaN</td>\n      <td>NaN</td>\n      <td>NaN</td>\n      <td>NaN</td>\n      <td>NaN</td>\n      <td>NaN</td>\n      <td>NaN</td>\n      <td>0</td>\n    </tr>\n    <tr>\n      <th>2018-01-12 09:00:00</th>\n      <td>111.65</td>\n      <td>111.98</td>\n      <td>110.84</td>\n      <td>111.22</td>\n      <td>1051611.0</td>\n      <td>1206429.0</td>\n      <td>0.0</td>\n      <td>0.0</td>\n      <td>0.0</td>\n      <td>0.0</td>\n      <td>0.0</td>\n      <td>0.00</td>\n      <td>0.00</td>\n      <td>0</td>\n    </tr>\n    <tr>\n      <th>2018-01-12 09:15:00</th>\n      <td>111.21</td>\n      <td>112.04</td>\n      <td>111.17</td>\n      <td>111.93</td>\n      <td>645133.0</td>\n      <td>604771.0</td>\n      <td>0.0</td>\n      <td>0.0</td>\n      <td>0.0</td>\n      <td>0.0</td>\n      <td>0.0</td>\n      <td>111.93</td>\n      <td>111.93</td>\n      <td>0</td>\n    </tr>\n    <tr>\n      <th>2018-01-12 09:30:00</th>\n      <td>111.93</td>\n      <td>112.20</td>\n      <td>111.87</td>\n      <td>112.13</td>\n      <td>541130.0</td>\n      <td>492175.0</td>\n      <td>0.0</td>\n      <td>0.0</td>\n      <td>0.0</td>\n      <td>0.0</td>\n      <td>0.0</td>\n      <td>111.97</td>\n      <td>111.95</td>\n      <td>0</td>\n    </tr>\n    <tr>\n      <th>2018-01-12 09:45:00</th>\n      <td>112.13</td>\n      <td>112.18</td>\n      <td>111.56</td>\n      <td>111.91</td>\n      <td>332412.0</td>\n      <td>418068.0</td>\n      <td>0.0</td>\n      <td>0.0</td>\n      <td>0.0</td>\n      <td>0.0</td>\n      <td>0.0</td>\n      <td>111.96</td>\n      <td>111.94</td>\n      <td>0</td>\n    </tr>\n  </tbody>\n</table>\n</div>"
     },
     "metadata": {},
     "execution_count": 7
    }
   ],
   "source": [
    "ts_file_df.head()"
   ]
  },
  {
   "cell_type": "code",
   "execution_count": 8,
   "metadata": {},
   "outputs": [
    {
     "output_type": "execute_result",
     "data": {
      "text/plain": "                       Open    High     Low   Close         Up       Down  \\\nDate_Time                                                                   \n2018-01-12 09:00:00  111.65  111.98  110.84  111.22  1051611.0  1206429.0   \n2018-01-12 09:15:00  111.21  112.04  111.17  111.93   645133.0   604771.0   \n2018-01-12 09:30:00  111.93  112.20  111.87  112.13   541130.0   492175.0   \n2018-01-12 09:45:00  112.13  112.18  111.56  111.91   332412.0   418068.0   \n2018-01-12 10:00:00  111.91  112.24  111.85  111.97   281205.0   290538.0   \n\n                     kcup  kclo  MidLine  bbup  bblo  FastEMA  SlowEMA  \\\nDate_Time                                                                \n2018-01-12 09:00:00   0.0   0.0      0.0   0.0   0.0     0.00     0.00   \n2018-01-12 09:15:00   0.0   0.0      0.0   0.0   0.0   111.93   111.93   \n2018-01-12 09:30:00   0.0   0.0      0.0   0.0   0.0   111.97   111.95   \n2018-01-12 09:45:00   0.0   0.0      0.0   0.0   0.0   111.96   111.94   \n2018-01-12 10:00:00   0.0   0.0      0.0   0.0   0.0   111.96   111.95   \n\n                     squeeze  \nDate_Time                     \n2018-01-12 09:00:00        0  \n2018-01-12 09:15:00        0  \n2018-01-12 09:30:00        0  \n2018-01-12 09:45:00        0  \n2018-01-12 10:00:00        0  ",
      "text/html": "<div>\n<style scoped>\n    .dataframe tbody tr th:only-of-type {\n        vertical-align: middle;\n    }\n\n    .dataframe tbody tr th {\n        vertical-align: top;\n    }\n\n    .dataframe thead th {\n        text-align: right;\n    }\n</style>\n<table border=\"1\" class=\"dataframe\">\n  <thead>\n    <tr style=\"text-align: right;\">\n      <th></th>\n      <th>Open</th>\n      <th>High</th>\n      <th>Low</th>\n      <th>Close</th>\n      <th>Up</th>\n      <th>Down</th>\n      <th>kcup</th>\n      <th>kclo</th>\n      <th>MidLine</th>\n      <th>bbup</th>\n      <th>bblo</th>\n      <th>FastEMA</th>\n      <th>SlowEMA</th>\n      <th>squeeze</th>\n    </tr>\n    <tr>\n      <th>Date_Time</th>\n      <th></th>\n      <th></th>\n      <th></th>\n      <th></th>\n      <th></th>\n      <th></th>\n      <th></th>\n      <th></th>\n      <th></th>\n      <th></th>\n      <th></th>\n      <th></th>\n      <th></th>\n      <th></th>\n    </tr>\n  </thead>\n  <tbody>\n    <tr>\n      <th>2018-01-12 09:00:00</th>\n      <td>111.65</td>\n      <td>111.98</td>\n      <td>110.84</td>\n      <td>111.22</td>\n      <td>1051611.0</td>\n      <td>1206429.0</td>\n      <td>0.0</td>\n      <td>0.0</td>\n      <td>0.0</td>\n      <td>0.0</td>\n      <td>0.0</td>\n      <td>0.00</td>\n      <td>0.00</td>\n      <td>0</td>\n    </tr>\n    <tr>\n      <th>2018-01-12 09:15:00</th>\n      <td>111.21</td>\n      <td>112.04</td>\n      <td>111.17</td>\n      <td>111.93</td>\n      <td>645133.0</td>\n      <td>604771.0</td>\n      <td>0.0</td>\n      <td>0.0</td>\n      <td>0.0</td>\n      <td>0.0</td>\n      <td>0.0</td>\n      <td>111.93</td>\n      <td>111.93</td>\n      <td>0</td>\n    </tr>\n    <tr>\n      <th>2018-01-12 09:30:00</th>\n      <td>111.93</td>\n      <td>112.20</td>\n      <td>111.87</td>\n      <td>112.13</td>\n      <td>541130.0</td>\n      <td>492175.0</td>\n      <td>0.0</td>\n      <td>0.0</td>\n      <td>0.0</td>\n      <td>0.0</td>\n      <td>0.0</td>\n      <td>111.97</td>\n      <td>111.95</td>\n      <td>0</td>\n    </tr>\n    <tr>\n      <th>2018-01-12 09:45:00</th>\n      <td>112.13</td>\n      <td>112.18</td>\n      <td>111.56</td>\n      <td>111.91</td>\n      <td>332412.0</td>\n      <td>418068.0</td>\n      <td>0.0</td>\n      <td>0.0</td>\n      <td>0.0</td>\n      <td>0.0</td>\n      <td>0.0</td>\n      <td>111.96</td>\n      <td>111.94</td>\n      <td>0</td>\n    </tr>\n    <tr>\n      <th>2018-01-12 10:00:00</th>\n      <td>111.91</td>\n      <td>112.24</td>\n      <td>111.85</td>\n      <td>111.97</td>\n      <td>281205.0</td>\n      <td>290538.0</td>\n      <td>0.0</td>\n      <td>0.0</td>\n      <td>0.0</td>\n      <td>0.0</td>\n      <td>0.0</td>\n      <td>111.96</td>\n      <td>111.95</td>\n      <td>0</td>\n    </tr>\n  </tbody>\n</table>\n</div>"
     },
     "metadata": {},
     "execution_count": 8
    }
   ],
   "source": [
    "ts_file_df.dropna(inplace=True)\n",
    "ts_file_df.head()"
   ]
  },
  {
   "cell_type": "code",
   "execution_count": 9,
   "metadata": {
    "tags": []
   },
   "outputs": [
    {
     "output_type": "stream",
     "name": "stdout",
     "text": "Training Start: 2018-01-12\nTraining End: 2019-01-11\nTesting Start: 2019-01-12\nTesting End: 2019-06-12\nvalidating Start: 2019-06-13\nvalidating end: 2020-01-12\n"
    }
   ],
   "source": [
    "# Construct training start and training end dates\n",
    "\n",
    "training_start = ts_file_df.index.min().strftime(format='%Y-%m-%d')\n",
    "training_end = '2019-01-11'\n",
    "\n",
    "# Construct test start and test end dates\n",
    "\n",
    "testing_start = '2019-01-12'\n",
    "testing_end = '2019-06-12'\n",
    "\n",
    "# Construct validating start and validating end dates\n",
    "\n",
    "vali_start = '2019-06-13'\n",
    "vali_end = '2020-01-12'\n",
    "\n",
    "# Confirming training, testing and validating dates\n",
    "print(f\"Training Start: {training_start}\")\n",
    "print(f\"Training End: {training_end}\")\n",
    "print(f\"Testing Start: {testing_start}\")\n",
    "print(f\"Testing End: {testing_end}\")\n",
    "print(f\"validating Start: {vali_start}\")\n",
    "print(f\"validating end: {vali_end}\")"
   ]
  },
  {
   "cell_type": "code",
   "execution_count": 10,
   "metadata": {},
   "outputs": [
    {
     "output_type": "execute_result",
     "data": {
      "text/plain": "                       Open    High     Low   Close         Up       Down  \\\nDate_Time                                                                   \n2018-01-12 09:00:00  111.65  111.98  110.84  111.22  1051611.0  1206429.0   \n2018-01-12 09:15:00  111.21  112.04  111.17  111.93   645133.0   604771.0   \n2018-01-12 09:30:00  111.93  112.20  111.87  112.13   541130.0   492175.0   \n2018-01-12 09:45:00  112.13  112.18  111.56  111.91   332412.0   418068.0   \n2018-01-12 10:00:00  111.91  112.24  111.85  111.97   281205.0   290538.0   \n\n                     kcup  kclo  MidLine  bbup  bblo  FastEMA  SlowEMA  \nDate_Time                                                               \n2018-01-12 09:00:00   0.0   0.0      0.0   0.0   0.0     0.00     0.00  \n2018-01-12 09:15:00   0.0   0.0      0.0   0.0   0.0   111.93   111.93  \n2018-01-12 09:30:00   0.0   0.0      0.0   0.0   0.0   111.97   111.95  \n2018-01-12 09:45:00   0.0   0.0      0.0   0.0   0.0   111.96   111.94  \n2018-01-12 10:00:00   0.0   0.0      0.0   0.0   0.0   111.96   111.95  ",
      "text/html": "<div>\n<style scoped>\n    .dataframe tbody tr th:only-of-type {\n        vertical-align: middle;\n    }\n\n    .dataframe tbody tr th {\n        vertical-align: top;\n    }\n\n    .dataframe thead th {\n        text-align: right;\n    }\n</style>\n<table border=\"1\" class=\"dataframe\">\n  <thead>\n    <tr style=\"text-align: right;\">\n      <th></th>\n      <th>Open</th>\n      <th>High</th>\n      <th>Low</th>\n      <th>Close</th>\n      <th>Up</th>\n      <th>Down</th>\n      <th>kcup</th>\n      <th>kclo</th>\n      <th>MidLine</th>\n      <th>bbup</th>\n      <th>bblo</th>\n      <th>FastEMA</th>\n      <th>SlowEMA</th>\n    </tr>\n    <tr>\n      <th>Date_Time</th>\n      <th></th>\n      <th></th>\n      <th></th>\n      <th></th>\n      <th></th>\n      <th></th>\n      <th></th>\n      <th></th>\n      <th></th>\n      <th></th>\n      <th></th>\n      <th></th>\n      <th></th>\n    </tr>\n  </thead>\n  <tbody>\n    <tr>\n      <th>2018-01-12 09:00:00</th>\n      <td>111.65</td>\n      <td>111.98</td>\n      <td>110.84</td>\n      <td>111.22</td>\n      <td>1051611.0</td>\n      <td>1206429.0</td>\n      <td>0.0</td>\n      <td>0.0</td>\n      <td>0.0</td>\n      <td>0.0</td>\n      <td>0.0</td>\n      <td>0.00</td>\n      <td>0.00</td>\n    </tr>\n    <tr>\n      <th>2018-01-12 09:15:00</th>\n      <td>111.21</td>\n      <td>112.04</td>\n      <td>111.17</td>\n      <td>111.93</td>\n      <td>645133.0</td>\n      <td>604771.0</td>\n      <td>0.0</td>\n      <td>0.0</td>\n      <td>0.0</td>\n      <td>0.0</td>\n      <td>0.0</td>\n      <td>111.93</td>\n      <td>111.93</td>\n    </tr>\n    <tr>\n      <th>2018-01-12 09:30:00</th>\n      <td>111.93</td>\n      <td>112.20</td>\n      <td>111.87</td>\n      <td>112.13</td>\n      <td>541130.0</td>\n      <td>492175.0</td>\n      <td>0.0</td>\n      <td>0.0</td>\n      <td>0.0</td>\n      <td>0.0</td>\n      <td>0.0</td>\n      <td>111.97</td>\n      <td>111.95</td>\n    </tr>\n    <tr>\n      <th>2018-01-12 09:45:00</th>\n      <td>112.13</td>\n      <td>112.18</td>\n      <td>111.56</td>\n      <td>111.91</td>\n      <td>332412.0</td>\n      <td>418068.0</td>\n      <td>0.0</td>\n      <td>0.0</td>\n      <td>0.0</td>\n      <td>0.0</td>\n      <td>0.0</td>\n      <td>111.96</td>\n      <td>111.94</td>\n    </tr>\n    <tr>\n      <th>2018-01-12 10:00:00</th>\n      <td>111.91</td>\n      <td>112.24</td>\n      <td>111.85</td>\n      <td>111.97</td>\n      <td>281205.0</td>\n      <td>290538.0</td>\n      <td>0.0</td>\n      <td>0.0</td>\n      <td>0.0</td>\n      <td>0.0</td>\n      <td>0.0</td>\n      <td>111.96</td>\n      <td>111.95</td>\n    </tr>\n  </tbody>\n</table>\n</div>"
     },
     "metadata": {},
     "execution_count": 10
    }
   ],
   "source": [
    "# Construct the X_train and y_train datasets\n",
    "X_train = ts_file_df[x_var_list][training_start:training_end]\n",
    "y_train = ts_file_df['squeeze'][training_start:training_end]\n",
    "\n",
    "X_train.head()"
   ]
  },
  {
   "cell_type": "code",
   "execution_count": 11,
   "metadata": {},
   "outputs": [
    {
     "output_type": "execute_result",
     "data": {
      "text/plain": "Date_Time\n2019-01-11 14:00:00    0\n2019-01-11 14:15:00    0\n2019-01-11 14:30:00    0\n2019-01-11 14:45:00    1\n2019-01-11 15:00:00    1\nName: squeeze, dtype: int64"
     },
     "metadata": {},
     "execution_count": 11
    }
   ],
   "source": [
    "y_train.tail()"
   ]
  },
  {
   "cell_type": "code",
   "execution_count": 12,
   "metadata": {},
   "outputs": [
    {
     "output_type": "execute_result",
     "data": {
      "text/plain": "                       Open    High     Low   Close        Up      Down  \\\nDate_Time                                                                 \n2019-01-14 08:45:00  100.09  100.16   99.88   99.93  538000.0  839750.0   \n2019-01-14 09:00:00   98.85  100.07   98.66  100.00  662220.0  467174.0   \n2019-01-14 09:15:00   99.98  100.22   99.73  100.14  315701.0  326009.0   \n2019-01-14 09:30:00  100.15  100.94  100.08  100.88  338536.0  318028.0   \n2019-01-14 09:45:00  100.88  101.01  100.43  100.68  328545.0  363630.0   \n\n                       kcup   kclo  MidLine    bbup   bblo  FastEMA  SlowEMA  \nDate_Time                                                                     \n2019-01-14 08:45:00  100.32  99.54    99.93  100.22  99.64    99.99    99.95  \n2019-01-14 09:00:00  100.45  99.47    99.96  100.14  99.78    99.99    99.96  \n2019-01-14 09:15:00  100.50  99.47    99.98  100.12  99.85   100.02    99.97  \n2019-01-14 09:30:00  100.61  99.46   100.04  100.44  99.63   100.19   100.06  \n2019-01-14 09:45:00  100.68  99.46   100.07  100.56  99.58   100.29   100.11  ",
      "text/html": "<div>\n<style scoped>\n    .dataframe tbody tr th:only-of-type {\n        vertical-align: middle;\n    }\n\n    .dataframe tbody tr th {\n        vertical-align: top;\n    }\n\n    .dataframe thead th {\n        text-align: right;\n    }\n</style>\n<table border=\"1\" class=\"dataframe\">\n  <thead>\n    <tr style=\"text-align: right;\">\n      <th></th>\n      <th>Open</th>\n      <th>High</th>\n      <th>Low</th>\n      <th>Close</th>\n      <th>Up</th>\n      <th>Down</th>\n      <th>kcup</th>\n      <th>kclo</th>\n      <th>MidLine</th>\n      <th>bbup</th>\n      <th>bblo</th>\n      <th>FastEMA</th>\n      <th>SlowEMA</th>\n    </tr>\n    <tr>\n      <th>Date_Time</th>\n      <th></th>\n      <th></th>\n      <th></th>\n      <th></th>\n      <th></th>\n      <th></th>\n      <th></th>\n      <th></th>\n      <th></th>\n      <th></th>\n      <th></th>\n      <th></th>\n      <th></th>\n    </tr>\n  </thead>\n  <tbody>\n    <tr>\n      <th>2019-01-14 08:45:00</th>\n      <td>100.09</td>\n      <td>100.16</td>\n      <td>99.88</td>\n      <td>99.93</td>\n      <td>538000.0</td>\n      <td>839750.0</td>\n      <td>100.32</td>\n      <td>99.54</td>\n      <td>99.93</td>\n      <td>100.22</td>\n      <td>99.64</td>\n      <td>99.99</td>\n      <td>99.95</td>\n    </tr>\n    <tr>\n      <th>2019-01-14 09:00:00</th>\n      <td>98.85</td>\n      <td>100.07</td>\n      <td>98.66</td>\n      <td>100.00</td>\n      <td>662220.0</td>\n      <td>467174.0</td>\n      <td>100.45</td>\n      <td>99.47</td>\n      <td>99.96</td>\n      <td>100.14</td>\n      <td>99.78</td>\n      <td>99.99</td>\n      <td>99.96</td>\n    </tr>\n    <tr>\n      <th>2019-01-14 09:15:00</th>\n      <td>99.98</td>\n      <td>100.22</td>\n      <td>99.73</td>\n      <td>100.14</td>\n      <td>315701.0</td>\n      <td>326009.0</td>\n      <td>100.50</td>\n      <td>99.47</td>\n      <td>99.98</td>\n      <td>100.12</td>\n      <td>99.85</td>\n      <td>100.02</td>\n      <td>99.97</td>\n    </tr>\n    <tr>\n      <th>2019-01-14 09:30:00</th>\n      <td>100.15</td>\n      <td>100.94</td>\n      <td>100.08</td>\n      <td>100.88</td>\n      <td>338536.0</td>\n      <td>318028.0</td>\n      <td>100.61</td>\n      <td>99.46</td>\n      <td>100.04</td>\n      <td>100.44</td>\n      <td>99.63</td>\n      <td>100.19</td>\n      <td>100.06</td>\n    </tr>\n    <tr>\n      <th>2019-01-14 09:45:00</th>\n      <td>100.88</td>\n      <td>101.01</td>\n      <td>100.43</td>\n      <td>100.68</td>\n      <td>328545.0</td>\n      <td>363630.0</td>\n      <td>100.68</td>\n      <td>99.46</td>\n      <td>100.07</td>\n      <td>100.56</td>\n      <td>99.58</td>\n      <td>100.29</td>\n      <td>100.11</td>\n    </tr>\n  </tbody>\n</table>\n</div>"
     },
     "metadata": {},
     "execution_count": 12
    }
   ],
   "source": [
    "# Construct the X test and y test datasets\n",
    "\n",
    "X_test = ts_file_df[x_var_list][testing_start:testing_end]\n",
    "y_test = ts_file_df['squeeze'][testing_start:testing_end]\n",
    "\n",
    "X_test.head()"
   ]
  },
  {
   "cell_type": "code",
   "execution_count": 13,
   "metadata": {},
   "outputs": [
    {
     "output_type": "execute_result",
     "data": {
      "text/plain": "Date_Time\n2019-01-14 08:45:00    1\n2019-01-14 09:00:00    1\n2019-01-14 09:15:00    1\n2019-01-14 09:30:00    1\n2019-01-14 09:45:00    1\nName: squeeze, dtype: int64"
     },
     "metadata": {},
     "execution_count": 13
    }
   ],
   "source": [
    "y_test.head()"
   ]
  },
  {
   "cell_type": "code",
   "execution_count": 14,
   "metadata": {},
   "outputs": [
    {
     "output_type": "execute_result",
     "data": {
      "text/plain": "                       Open    High     Low   Close        Up      Down  \\\nDate_Time                                                                 \n2019-06-13 08:45:00  109.01  109.30  109.00  109.27  475047.0  353967.0   \n2019-06-13 09:00:00  109.46  110.09  109.39  110.06  182719.0  288328.0   \n2019-06-13 09:15:00  110.07  110.16  109.69  109.85  179614.0  123755.0   \n2019-06-13 09:30:00  109.85  109.99  109.43  109.43  158128.0  180381.0   \n2019-06-13 09:45:00  109.43  109.56  109.32  109.46   94904.0   99241.0   \n\n                       kcup    kclo  MidLine    bbup    bblo  FastEMA  SlowEMA  \nDate_Time                                                                       \n2019-06-13 08:45:00  109.66  108.71   109.18  109.44  108.92   109.19   109.36  \n2019-06-13 09:00:00  109.74  108.69   109.22  109.67  108.76   109.37   109.42  \n2019-06-13 09:15:00  109.79  108.69   109.24  109.76  108.71   109.46   109.46  \n2019-06-13 09:30:00  109.81  108.69   109.25  109.78  108.72   109.46   109.46  \n2019-06-13 09:45:00  109.83  108.72   109.28  109.79  108.76   109.46   109.46  ",
      "text/html": "<div>\n<style scoped>\n    .dataframe tbody tr th:only-of-type {\n        vertical-align: middle;\n    }\n\n    .dataframe tbody tr th {\n        vertical-align: top;\n    }\n\n    .dataframe thead th {\n        text-align: right;\n    }\n</style>\n<table border=\"1\" class=\"dataframe\">\n  <thead>\n    <tr style=\"text-align: right;\">\n      <th></th>\n      <th>Open</th>\n      <th>High</th>\n      <th>Low</th>\n      <th>Close</th>\n      <th>Up</th>\n      <th>Down</th>\n      <th>kcup</th>\n      <th>kclo</th>\n      <th>MidLine</th>\n      <th>bbup</th>\n      <th>bblo</th>\n      <th>FastEMA</th>\n      <th>SlowEMA</th>\n    </tr>\n    <tr>\n      <th>Date_Time</th>\n      <th></th>\n      <th></th>\n      <th></th>\n      <th></th>\n      <th></th>\n      <th></th>\n      <th></th>\n      <th></th>\n      <th></th>\n      <th></th>\n      <th></th>\n      <th></th>\n      <th></th>\n    </tr>\n  </thead>\n  <tbody>\n    <tr>\n      <th>2019-06-13 08:45:00</th>\n      <td>109.01</td>\n      <td>109.30</td>\n      <td>109.00</td>\n      <td>109.27</td>\n      <td>475047.0</td>\n      <td>353967.0</td>\n      <td>109.66</td>\n      <td>108.71</td>\n      <td>109.18</td>\n      <td>109.44</td>\n      <td>108.92</td>\n      <td>109.19</td>\n      <td>109.36</td>\n    </tr>\n    <tr>\n      <th>2019-06-13 09:00:00</th>\n      <td>109.46</td>\n      <td>110.09</td>\n      <td>109.39</td>\n      <td>110.06</td>\n      <td>182719.0</td>\n      <td>288328.0</td>\n      <td>109.74</td>\n      <td>108.69</td>\n      <td>109.22</td>\n      <td>109.67</td>\n      <td>108.76</td>\n      <td>109.37</td>\n      <td>109.42</td>\n    </tr>\n    <tr>\n      <th>2019-06-13 09:15:00</th>\n      <td>110.07</td>\n      <td>110.16</td>\n      <td>109.69</td>\n      <td>109.85</td>\n      <td>179614.0</td>\n      <td>123755.0</td>\n      <td>109.79</td>\n      <td>108.69</td>\n      <td>109.24</td>\n      <td>109.76</td>\n      <td>108.71</td>\n      <td>109.46</td>\n      <td>109.46</td>\n    </tr>\n    <tr>\n      <th>2019-06-13 09:30:00</th>\n      <td>109.85</td>\n      <td>109.99</td>\n      <td>109.43</td>\n      <td>109.43</td>\n      <td>158128.0</td>\n      <td>180381.0</td>\n      <td>109.81</td>\n      <td>108.69</td>\n      <td>109.25</td>\n      <td>109.78</td>\n      <td>108.72</td>\n      <td>109.46</td>\n      <td>109.46</td>\n    </tr>\n    <tr>\n      <th>2019-06-13 09:45:00</th>\n      <td>109.43</td>\n      <td>109.56</td>\n      <td>109.32</td>\n      <td>109.46</td>\n      <td>94904.0</td>\n      <td>99241.0</td>\n      <td>109.83</td>\n      <td>108.72</td>\n      <td>109.28</td>\n      <td>109.79</td>\n      <td>108.76</td>\n      <td>109.46</td>\n      <td>109.46</td>\n    </tr>\n  </tbody>\n</table>\n</div>"
     },
     "metadata": {},
     "execution_count": 14
    }
   ],
   "source": [
    "# Construct the X valid and y validation datasets\n",
    "\n",
    "X_vali = ts_file_df[x_var_list][vali_start:vali_end]\n",
    "y_vali = ts_file_df['squeeze'][vali_start:vali_end]\n",
    "\n",
    "X_vali.head()"
   ]
  },
  {
   "cell_type": "code",
   "execution_count": 15,
   "metadata": {},
   "outputs": [
    {
     "output_type": "execute_result",
     "data": {
      "text/plain": "Date_Time\n2020-01-10 14:00:00    0\n2020-01-10 14:15:00    0\n2020-01-10 14:30:00    0\n2020-01-10 14:45:00    0\n2020-01-10 15:00:00    0\nName: squeeze, dtype: int64"
     },
     "metadata": {},
     "execution_count": 15
    }
   ],
   "source": [
    "y_vali.tail()"
   ]
  },
  {
   "cell_type": "code",
   "execution_count": 16,
   "metadata": {},
   "outputs": [],
   "source": [
    "# Import SKLearn library and Classes\n",
    "from sklearn.ensemble import RandomForestClassifier\n",
    "from sklearn.datasets import make_classification"
   ]
  },
  {
   "cell_type": "code",
   "execution_count": 17,
   "metadata": {},
   "outputs": [
    {
     "output_type": "execute_result",
     "data": {
      "text/plain": "                     squeeze  predict_squeeze\nDate_Time                                    \n2019-01-14 08:45:00        1                0\n2019-01-14 09:00:00        1                0\n2019-01-14 09:15:00        1                1\n2019-01-14 09:30:00        1                1\n2019-01-14 09:45:00        1                1\n...                      ...              ...\n2019-06-12 14:00:00        0                1\n2019-06-12 14:15:00        1                1\n2019-06-12 14:30:00        1                1\n2019-06-12 14:45:00        1                1\n2019-06-12 15:00:00        1                0\n\n[2704 rows x 2 columns]",
      "text/html": "<div>\n<style scoped>\n    .dataframe tbody tr th:only-of-type {\n        vertical-align: middle;\n    }\n\n    .dataframe tbody tr th {\n        vertical-align: top;\n    }\n\n    .dataframe thead th {\n        text-align: right;\n    }\n</style>\n<table border=\"1\" class=\"dataframe\">\n  <thead>\n    <tr style=\"text-align: right;\">\n      <th></th>\n      <th>squeeze</th>\n      <th>predict_squeeze</th>\n    </tr>\n    <tr>\n      <th>Date_Time</th>\n      <th></th>\n      <th></th>\n    </tr>\n  </thead>\n  <tbody>\n    <tr>\n      <th>2019-01-14 08:45:00</th>\n      <td>1</td>\n      <td>0</td>\n    </tr>\n    <tr>\n      <th>2019-01-14 09:00:00</th>\n      <td>1</td>\n      <td>0</td>\n    </tr>\n    <tr>\n      <th>2019-01-14 09:15:00</th>\n      <td>1</td>\n      <td>1</td>\n    </tr>\n    <tr>\n      <th>2019-01-14 09:30:00</th>\n      <td>1</td>\n      <td>1</td>\n    </tr>\n    <tr>\n      <th>2019-01-14 09:45:00</th>\n      <td>1</td>\n      <td>1</td>\n    </tr>\n    <tr>\n      <th>...</th>\n      <td>...</td>\n      <td>...</td>\n    </tr>\n    <tr>\n      <th>2019-06-12 14:00:00</th>\n      <td>0</td>\n      <td>1</td>\n    </tr>\n    <tr>\n      <th>2019-06-12 14:15:00</th>\n      <td>1</td>\n      <td>1</td>\n    </tr>\n    <tr>\n      <th>2019-06-12 14:30:00</th>\n      <td>1</td>\n      <td>1</td>\n    </tr>\n    <tr>\n      <th>2019-06-12 14:45:00</th>\n      <td>1</td>\n      <td>1</td>\n    </tr>\n    <tr>\n      <th>2019-06-12 15:00:00</th>\n      <td>1</td>\n      <td>0</td>\n    </tr>\n  </tbody>\n</table>\n<p>2704 rows × 2 columns</p>\n</div>"
     },
     "metadata": {},
     "execution_count": 17
    }
   ],
   "source": [
    "# Fit SKLearn regression with training datasets:\n",
    "model = RandomForestClassifier(n_estimators=1000, max_depth=5, random_state=1)\n",
    "model.fit(X_train, y_train)\n",
    "\n",
    "# Make predictions of \"y\" values from the X_test dataset\n",
    "predictions = model.predict(X_test)\n",
    "\n",
    "# Assemble actual y_test with predicted values\n",
    "\n",
    "compare_predict_df = y_test.to_frame()\n",
    "compare_predict_df[\"predict_squeeze\"] = predictions\n",
    "\n",
    "compare_predict_df"
   ]
  },
  {
   "cell_type": "code",
   "execution_count": 18,
   "metadata": {},
   "outputs": [
    {
     "output_type": "execute_result",
     "data": {
      "text/plain": "['random_forest_model_squeeze.joblib']"
     },
     "metadata": {},
     "execution_count": 18
    }
   ],
   "source": [
    "# Save the pre-trained model\n",
    "from joblib import dump, load\n",
    "dump(model, 'random_forest_model_squeeze.joblib')"
   ]
  },
  {
   "cell_type": "code",
   "execution_count": 19,
   "metadata": {},
   "outputs": [
    {
     "output_type": "execute_result",
     "data": {
      "text/plain": "'\\nBelow the exporting code to csv files\\n'"
     },
     "metadata": {},
     "execution_count": 19
    }
   ],
   "source": [
    "\"\"\"\n",
    "Below the exporting code to csv files\n",
    "\"\"\""
   ]
  },
  {
   "cell_type": "code",
   "execution_count": 20,
   "metadata": {},
   "outputs": [],
   "source": [
    "X_testoutput_path = Path('../Resources/X_test.csv')\n",
    "X_test.to_csv(X_testoutput_path)"
   ]
  },
  {
   "cell_type": "code",
   "execution_count": 21,
   "metadata": {},
   "outputs": [],
   "source": [
    "model_results_path = Path('../Resources/results.csv')\n",
    "compare_predict_df.to_csv(model_results_path)"
   ]
  },
  {
   "cell_type": "code",
   "execution_count": 22,
   "metadata": {},
   "outputs": [],
   "source": [
    "# different datasets to csv files for reconfigurations\n",
    "\n",
    "X_valioutput_path = Path(\"../Resources/X_vali.csv\")\n",
    "X_vali.to_csv(X_valioutput_path)\n",
    "\n",
    "y_valioutput_path = Path(\"../Resources/y_vali.csv\")\n",
    "y_vali.to_csv(y_valioutput_path)"
   ]
  },
  {
   "cell_type": "code",
   "execution_count": null,
   "metadata": {},
   "outputs": [],
   "source": []
  }
 ]
}