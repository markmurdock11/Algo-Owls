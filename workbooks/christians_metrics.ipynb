{
 "metadata": {
  "language_info": {
   "codemirror_mode": {
    "name": "ipython",
    "version": 3
   },
   "file_extension": ".py",
   "mimetype": "text/x-python",
   "name": "python",
   "nbconvert_exporter": "python",
   "pygments_lexer": "ipython3",
   "version": "3.8.5-final"
  },
  "orig_nbformat": 2,
  "kernelspec": {
   "name": "python3",
   "display_name": "Python 3",
   "language": "python"
  }
 },
 "nbformat": 4,
 "nbformat_minor": 2,
 "cells": [
  {
   "cell_type": "code",
   "execution_count": 1,
   "metadata": {},
   "outputs": [],
   "source": [
    "import pandas as pd\n",
    "import numpy as np\n",
    "from pathlib import Path"
   ]
  },
  {
   "cell_type": "code",
   "execution_count": 5,
   "metadata": {},
   "outputs": [
    {
     "output_type": "execute_result",
     "data": {
      "text/plain": [
       "                        time   close        kcup        kclo  \\\n",
       "0  2020-01-02 14:15:00-05:00  140.73  140.427356  139.969144   \n",
       "1  2020-01-02 14:30:00-05:00  140.87  140.482818  140.033682   \n",
       "2  2020-01-02 14:45:00-05:00  140.98  140.544283  140.103217   \n",
       "3  2020-01-02 15:00:00-05:00  140.87  140.596854  140.173646   \n",
       "4  2020-01-02 15:15:00-05:00  140.82  140.658983  140.253517   \n",
       "\n",
       "   bollinger_band_upper  bollinger_band_lower        EMA9       EMA21  \n",
       "0            141.039285            139.357215  140.730000  140.730000  \n",
       "1            141.111734            139.404766  140.758000  140.742727  \n",
       "2            141.188150            139.459350  140.802400  140.764298  \n",
       "3            141.219311            139.551189  140.815920  140.773907  \n",
       "4            141.170296            139.742204  140.816736  140.778097  "
      ],
      "text/html": "<div>\n<style scoped>\n    .dataframe tbody tr th:only-of-type {\n        vertical-align: middle;\n    }\n\n    .dataframe tbody tr th {\n        vertical-align: top;\n    }\n\n    .dataframe thead th {\n        text-align: right;\n    }\n</style>\n<table border=\"1\" class=\"dataframe\">\n  <thead>\n    <tr style=\"text-align: right;\">\n      <th></th>\n      <th>time</th>\n      <th>close</th>\n      <th>kcup</th>\n      <th>kclo</th>\n      <th>bollinger_band_upper</th>\n      <th>bollinger_band_lower</th>\n      <th>EMA9</th>\n      <th>EMA21</th>\n    </tr>\n  </thead>\n  <tbody>\n    <tr>\n      <th>0</th>\n      <td>2020-01-02 14:15:00-05:00</td>\n      <td>140.73</td>\n      <td>140.427356</td>\n      <td>139.969144</td>\n      <td>141.039285</td>\n      <td>139.357215</td>\n      <td>140.730000</td>\n      <td>140.730000</td>\n    </tr>\n    <tr>\n      <th>1</th>\n      <td>2020-01-02 14:30:00-05:00</td>\n      <td>140.87</td>\n      <td>140.482818</td>\n      <td>140.033682</td>\n      <td>141.111734</td>\n      <td>139.404766</td>\n      <td>140.758000</td>\n      <td>140.742727</td>\n    </tr>\n    <tr>\n      <th>2</th>\n      <td>2020-01-02 14:45:00-05:00</td>\n      <td>140.98</td>\n      <td>140.544283</td>\n      <td>140.103217</td>\n      <td>141.188150</td>\n      <td>139.459350</td>\n      <td>140.802400</td>\n      <td>140.764298</td>\n    </tr>\n    <tr>\n      <th>3</th>\n      <td>2020-01-02 15:00:00-05:00</td>\n      <td>140.87</td>\n      <td>140.596854</td>\n      <td>140.173646</td>\n      <td>141.219311</td>\n      <td>139.551189</td>\n      <td>140.815920</td>\n      <td>140.773907</td>\n    </tr>\n    <tr>\n      <th>4</th>\n      <td>2020-01-02 15:15:00-05:00</td>\n      <td>140.82</td>\n      <td>140.658983</td>\n      <td>140.253517</td>\n      <td>141.170296</td>\n      <td>139.742204</td>\n      <td>140.816736</td>\n      <td>140.778097</td>\n    </tr>\n  </tbody>\n</table>\n</div>"
     },
     "metadata": {},
     "execution_count": 5
    }
   ],
   "source": [
    "metrics_path = Path(\"../Resources/clean_indicators.csv\")\n",
    "\n",
    "metrics = pd.read_csv(metrics_path)\n",
    "metrics.head()"
   ]
  },
  {
   "cell_type": "code",
   "execution_count": null,
   "metadata": {},
   "outputs": [],
   "source": []
  }
 ]
}