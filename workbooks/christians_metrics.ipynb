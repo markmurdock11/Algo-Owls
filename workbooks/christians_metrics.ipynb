{
 "metadata": {
  "language_info": {
   "codemirror_mode": {
    "name": "ipython",
    "version": 3
   },
   "file_extension": ".py",
   "mimetype": "text/x-python",
   "name": "python",
   "nbconvert_exporter": "python",
   "pygments_lexer": "ipython3",
   "version": "3.8.3-final"
  },
  "orig_nbformat": 2,
  "kernelspec": {
   "name": "python3",
   "display_name": "Python 3",
   "language": "python"
  }
 },
 "nbformat": 4,
 "nbformat_minor": 2,
 "cells": [
  {
   "cell_type": "code",
   "execution_count": 26,
   "metadata": {},
   "outputs": [],
   "source": [
    "import pandas as pd\n",
    "import numpy as np\n",
    "from pathlib import Path"
   ]
  },
  {
   "cell_type": "code",
   "execution_count": 84,
   "metadata": {},
   "outputs": [
    {
     "output_type": "execute_result",
     "data": {
      "text/plain": [
       "                        time   close        kcup        kclo  \\\n",
       "0  2020-01-02 14:15:00-05:00  140.73  140.427356  139.969144   \n",
       "1  2020-01-02 14:30:00-05:00  140.87  140.482818  140.033682   \n",
       "2  2020-01-02 14:45:00-05:00  140.98  140.544283  140.103217   \n",
       "3  2020-01-02 15:00:00-05:00  140.87  140.596854  140.173646   \n",
       "4  2020-01-02 15:15:00-05:00  140.82  140.658983  140.253517   \n",
       "\n",
       "   bollinger_band_upper  bollinger_band_lower        EMA9       EMA21  \n",
       "0            141.039285            139.357215  140.730000  140.730000  \n",
       "1            141.111734            139.404766  140.758000  140.742727  \n",
       "2            141.188150            139.459350  140.802400  140.764298  \n",
       "3            141.219311            139.551189  140.815920  140.773907  \n",
       "4            141.170296            139.742204  140.816736  140.778097  "
      ],
      "text/html": "<div>\n<style scoped>\n    .dataframe tbody tr th:only-of-type {\n        vertical-align: middle;\n    }\n\n    .dataframe tbody tr th {\n        vertical-align: top;\n    }\n\n    .dataframe thead th {\n        text-align: right;\n    }\n</style>\n<table border=\"1\" class=\"dataframe\">\n  <thead>\n    <tr style=\"text-align: right;\">\n      <th></th>\n      <th>time</th>\n      <th>close</th>\n      <th>kcup</th>\n      <th>kclo</th>\n      <th>bollinger_band_upper</th>\n      <th>bollinger_band_lower</th>\n      <th>EMA9</th>\n      <th>EMA21</th>\n    </tr>\n  </thead>\n  <tbody>\n    <tr>\n      <th>0</th>\n      <td>2020-01-02 14:15:00-05:00</td>\n      <td>140.73</td>\n      <td>140.427356</td>\n      <td>139.969144</td>\n      <td>141.039285</td>\n      <td>139.357215</td>\n      <td>140.730000</td>\n      <td>140.730000</td>\n    </tr>\n    <tr>\n      <th>1</th>\n      <td>2020-01-02 14:30:00-05:00</td>\n      <td>140.87</td>\n      <td>140.482818</td>\n      <td>140.033682</td>\n      <td>141.111734</td>\n      <td>139.404766</td>\n      <td>140.758000</td>\n      <td>140.742727</td>\n    </tr>\n    <tr>\n      <th>2</th>\n      <td>2020-01-02 14:45:00-05:00</td>\n      <td>140.98</td>\n      <td>140.544283</td>\n      <td>140.103217</td>\n      <td>141.188150</td>\n      <td>139.459350</td>\n      <td>140.802400</td>\n      <td>140.764298</td>\n    </tr>\n    <tr>\n      <th>3</th>\n      <td>2020-01-02 15:00:00-05:00</td>\n      <td>140.87</td>\n      <td>140.596854</td>\n      <td>140.173646</td>\n      <td>141.219311</td>\n      <td>139.551189</td>\n      <td>140.815920</td>\n      <td>140.773907</td>\n    </tr>\n    <tr>\n      <th>4</th>\n      <td>2020-01-02 15:15:00-05:00</td>\n      <td>140.82</td>\n      <td>140.658983</td>\n      <td>140.253517</td>\n      <td>141.170296</td>\n      <td>139.742204</td>\n      <td>140.816736</td>\n      <td>140.778097</td>\n    </tr>\n  </tbody>\n</table>\n</div>"
     },
     "metadata": {},
     "execution_count": 84
    }
   ],
   "source": [
    "metrics_path = Path(\"../Resources/clean_indicators.csv\")\n",
    "\n",
    "metrics = pd.read_csv(metrics_path)\n",
    "metrics.head()"
   ]
  },
  {
   "cell_type": "code",
   "execution_count": 118,
   "metadata": {},
   "outputs": [
    {
     "output_type": "execute_result",
     "data": {
      "text/plain": [
       "                           time   close        kcup        kclo  \\\n",
       "0     2020-01-02 14:15:00-05:00  140.73  140.427356  139.969144   \n",
       "1     2020-01-02 14:30:00-05:00  140.87  140.482818  140.033682   \n",
       "2     2020-01-02 14:45:00-05:00  140.98  140.544283  140.103217   \n",
       "3     2020-01-02 15:00:00-05:00  140.87  140.596854  140.173646   \n",
       "4     2020-01-02 15:15:00-05:00  140.82  140.658983  140.253517   \n",
       "...                         ...     ...         ...         ...   \n",
       "6749  2020-12-30 14:45:00-05:00  125.29  125.661264  125.222736   \n",
       "6750  2020-12-30 15:00:00-05:00  125.31  125.667960  125.245040   \n",
       "6751  2020-12-30 15:15:00-05:00  125.36  125.662498  125.255502   \n",
       "6752  2020-12-30 15:30:00-05:00  125.55  125.663106  125.240894   \n",
       "6753  2020-12-30 15:45:00-05:00  125.33  125.667884  125.210116   \n",
       "\n",
       "      bollinger_band_upper  bollinger_band_lower        EMA9       EMA21  \\\n",
       "0               141.039285            139.357215  140.730000  140.730000   \n",
       "1               141.111734            139.404766  140.758000  140.742727   \n",
       "2               141.188150            139.459350  140.802400  140.764298   \n",
       "3               141.219311            139.551189  140.815920  140.773907   \n",
       "4               141.170296            139.742204  140.816736  140.778097   \n",
       "...                    ...                   ...         ...         ...   \n",
       "6749            125.831904            125.052096  125.340260  125.388259   \n",
       "6750            125.799015            125.113985  125.334208  125.381144   \n",
       "6751            125.797722            125.120278  125.339366  125.379222   \n",
       "6752            125.776092            125.127908  125.381493  125.394747   \n",
       "6753            125.760634            125.117366  125.371195  125.388861   \n",
       "\n",
       "       returns      std  \n",
       "0          NaN  0.00632  \n",
       "1     0.000995  0.00632  \n",
       "2     0.000781  0.00632  \n",
       "3    -0.000780  0.00632  \n",
       "4    -0.000355  0.00632  \n",
       "...        ...      ...  \n",
       "6749  0.000240  0.00632  \n",
       "6750  0.000160  0.00632  \n",
       "6751  0.000399  0.00632  \n",
       "6752  0.001516  0.00632  \n",
       "6753 -0.001752  0.00632  \n",
       "\n",
       "[6754 rows x 10 columns]"
      ],
      "text/html": "<div>\n<style scoped>\n    .dataframe tbody tr th:only-of-type {\n        vertical-align: middle;\n    }\n\n    .dataframe tbody tr th {\n        vertical-align: top;\n    }\n\n    .dataframe thead th {\n        text-align: right;\n    }\n</style>\n<table border=\"1\" class=\"dataframe\">\n  <thead>\n    <tr style=\"text-align: right;\">\n      <th></th>\n      <th>time</th>\n      <th>close</th>\n      <th>kcup</th>\n      <th>kclo</th>\n      <th>bollinger_band_upper</th>\n      <th>bollinger_band_lower</th>\n      <th>EMA9</th>\n      <th>EMA21</th>\n      <th>returns</th>\n      <th>std</th>\n    </tr>\n  </thead>\n  <tbody>\n    <tr>\n      <th>0</th>\n      <td>2020-01-02 14:15:00-05:00</td>\n      <td>140.73</td>\n      <td>140.427356</td>\n      <td>139.969144</td>\n      <td>141.039285</td>\n      <td>139.357215</td>\n      <td>140.730000</td>\n      <td>140.730000</td>\n      <td>NaN</td>\n      <td>0.00632</td>\n    </tr>\n    <tr>\n      <th>1</th>\n      <td>2020-01-02 14:30:00-05:00</td>\n      <td>140.87</td>\n      <td>140.482818</td>\n      <td>140.033682</td>\n      <td>141.111734</td>\n      <td>139.404766</td>\n      <td>140.758000</td>\n      <td>140.742727</td>\n      <td>0.000995</td>\n      <td>0.00632</td>\n    </tr>\n    <tr>\n      <th>2</th>\n      <td>2020-01-02 14:45:00-05:00</td>\n      <td>140.98</td>\n      <td>140.544283</td>\n      <td>140.103217</td>\n      <td>141.188150</td>\n      <td>139.459350</td>\n      <td>140.802400</td>\n      <td>140.764298</td>\n      <td>0.000781</td>\n      <td>0.00632</td>\n    </tr>\n    <tr>\n      <th>3</th>\n      <td>2020-01-02 15:00:00-05:00</td>\n      <td>140.87</td>\n      <td>140.596854</td>\n      <td>140.173646</td>\n      <td>141.219311</td>\n      <td>139.551189</td>\n      <td>140.815920</td>\n      <td>140.773907</td>\n      <td>-0.000780</td>\n      <td>0.00632</td>\n    </tr>\n    <tr>\n      <th>4</th>\n      <td>2020-01-02 15:15:00-05:00</td>\n      <td>140.82</td>\n      <td>140.658983</td>\n      <td>140.253517</td>\n      <td>141.170296</td>\n      <td>139.742204</td>\n      <td>140.816736</td>\n      <td>140.778097</td>\n      <td>-0.000355</td>\n      <td>0.00632</td>\n    </tr>\n    <tr>\n      <th>...</th>\n      <td>...</td>\n      <td>...</td>\n      <td>...</td>\n      <td>...</td>\n      <td>...</td>\n      <td>...</td>\n      <td>...</td>\n      <td>...</td>\n      <td>...</td>\n      <td>...</td>\n    </tr>\n    <tr>\n      <th>6749</th>\n      <td>2020-12-30 14:45:00-05:00</td>\n      <td>125.29</td>\n      <td>125.661264</td>\n      <td>125.222736</td>\n      <td>125.831904</td>\n      <td>125.052096</td>\n      <td>125.340260</td>\n      <td>125.388259</td>\n      <td>0.000240</td>\n      <td>0.00632</td>\n    </tr>\n    <tr>\n      <th>6750</th>\n      <td>2020-12-30 15:00:00-05:00</td>\n      <td>125.31</td>\n      <td>125.667960</td>\n      <td>125.245040</td>\n      <td>125.799015</td>\n      <td>125.113985</td>\n      <td>125.334208</td>\n      <td>125.381144</td>\n      <td>0.000160</td>\n      <td>0.00632</td>\n    </tr>\n    <tr>\n      <th>6751</th>\n      <td>2020-12-30 15:15:00-05:00</td>\n      <td>125.36</td>\n      <td>125.662498</td>\n      <td>125.255502</td>\n      <td>125.797722</td>\n      <td>125.120278</td>\n      <td>125.339366</td>\n      <td>125.379222</td>\n      <td>0.000399</td>\n      <td>0.00632</td>\n    </tr>\n    <tr>\n      <th>6752</th>\n      <td>2020-12-30 15:30:00-05:00</td>\n      <td>125.55</td>\n      <td>125.663106</td>\n      <td>125.240894</td>\n      <td>125.776092</td>\n      <td>125.127908</td>\n      <td>125.381493</td>\n      <td>125.394747</td>\n      <td>0.001516</td>\n      <td>0.00632</td>\n    </tr>\n    <tr>\n      <th>6753</th>\n      <td>2020-12-30 15:45:00-05:00</td>\n      <td>125.33</td>\n      <td>125.667884</td>\n      <td>125.210116</td>\n      <td>125.760634</td>\n      <td>125.117366</td>\n      <td>125.371195</td>\n      <td>125.388861</td>\n      <td>-0.001752</td>\n      <td>0.00632</td>\n    </tr>\n  </tbody>\n</table>\n<p>6754 rows × 10 columns</p>\n</div>"
     },
     "metadata": {},
     "execution_count": 118
    }
   ],
   "source": [
    "# Calculate std dev\n",
    "metrics['returns'] = metrics['close'].pct_change()\n",
    "\n",
    "metrics['std']= metrics['returns'].std()\n",
    "metrics"
   ]
  },
  {
   "cell_type": "code",
   "execution_count": 125,
   "metadata": {},
   "outputs": [
    {
     "output_type": "execute_result",
     "data": {
      "text/plain": [
       "0       1.871645\n",
       "1       1.871645\n",
       "2       1.871645\n",
       "3       1.871645\n",
       "4       1.871645\n",
       "          ...   \n",
       "6749    1.871645\n",
       "6750    1.871645\n",
       "6751    1.871645\n",
       "6752    1.871645\n",
       "6753    1.871645\n",
       "Name: std, Length: 6754, dtype: float64"
      ]
     },
     "metadata": {},
     "execution_count": 125
    }
   ],
   "source": [
    "# Sharpe Ratio\n",
    "returns_avg = metrics['returns'].mean()\n",
    "\n",
    "sharpe_ratio = (np.sqrt(252) * (returns_avg * 252)) / metrics['std']\n",
    "sharpe_ratio"
   ]
  },
  {
   "cell_type": "code",
   "execution_count": 126,
   "metadata": {},
   "outputs": [],
   "source": [
    "# Vol of 30/90/180 days"
   ]
  },
  {
   "cell_type": "code",
   "execution_count": null,
   "metadata": {},
   "outputs": [],
   "source": []
  },
  {
   "source": [],
   "cell_type": "markdown",
   "metadata": {}
  }
 ]
}