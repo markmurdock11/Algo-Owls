{
 "metadata": {
  "language_info": {
   "codemirror_mode": {
    "name": "ipython",
    "version": 3
   },
   "file_extension": ".py",
   "mimetype": "text/x-python",
   "name": "python",
   "nbconvert_exporter": "python",
   "pygments_lexer": "ipython3",
   "version": "3.8.3-final"
  },
  "orig_nbformat": 2,
  "kernelspec": {
   "name": "python_defaultSpec_1609953835995",
   "display_name": "Python 3.8.3 64-bit ('base': conda)"
  }
 },
 "nbformat": 4,
 "nbformat_minor": 2,
 "cells": [
  {
   "cell_type": "code",
   "execution_count": 6,
   "metadata": {},
   "outputs": [],
   "source": [
    "import os\n",
    "import requests\n",
    "import pandas as pd\n",
    "import time\n",
    "from dotenv import load_dotenv\n",
    "import alpaca_trade_api as tradeapi"
   ]
  },
  {
   "cell_type": "code",
   "execution_count": 9,
   "metadata": {},
   "outputs": [],
   "source": [
    "ticker = \"TSLA\"\n",
    "def pull_data (ticker):\n",
    "    \"\"\"Grabs the Latest Price\"\"\"\n",
    "    print(\"Extracting latest price\")\n",
    "\n",
    "    load_dotenv()\n",
    "\n",
    "    #You may have to change your dotenv to APCA instead of Alpaca\n",
    "    #My computer was not allowing me to use Alpaca for some reason\n",
    "    alpaca_api_key = os.getenv(\"APCA_API_KEY_ID\")\n",
    "    alpaca_secret_key = os.getenv(\"APCA_API_SECRET_KEY\")\n",
    "\n",
    "    #creating alpaca API object\n",
    "    alpaca = tradeapi.REST(\n",
    "        alpaca_api_key,\n",
    "        alpaca_secret_key,\n",
    "        api_version=\"v2\")\n",
    "\n",
    "    #trading timeframe\n",
    "    timeframe= \"1D\"\n",
    "    today = today = pd.Timestamp(\"2020-07-14\", tz=\"America/New_York\").isoformat() \n",
    "\n",
    "    df_portfolio = alpaca.get_barset(\n",
    "        ticker,\n",
    "        timeframe,\n",
    "        start=today,\n",
    "        end=today\n",
    "    )\n",
    "\n",
    "    df_portfolio\n",
    "\n",
    "\n",
    "    "
   ]
  },
  {
   "cell_type": "code",
   "execution_count": 10,
   "metadata": {
    "tags": []
   },
   "outputs": [
    {
     "output_type": "stream",
     "name": "stderr",
     "text": "Python-dotenv could not parse statement starting at line 7\nPython-dotenv could not parse statement starting at line 8\nExtracting latest price\n"
    }
   ],
   "source": [
    "pull_data(ticker)"
   ]
  },
  {
   "cell_type": "code",
   "execution_count": 19,
   "metadata": {
    "tags": []
   },
   "outputs": [
    {
     "output_type": "execute_result",
     "data": {
      "text/plain": "Bar({'c': 676.02, 'h': 676.02, 'l': 676.02, 'o': 676.02, 't': 1608331500, 'v': 200})"
     },
     "metadata": {},
     "execution_count": 19
    }
   ],
   "source": [
    "ticker = \"TSLA\"\n",
    "\n",
    "import alpaca_trade_api as tradeapi\n",
    "\n",
    "api = tradeapi.REST()\n",
    "\n",
    "# Get daily price data for AAPL over the last 5 trading days.\n",
    "barset = api.get_barset(ticker, '15Min', limit=365)\n",
    "ticker_bars = barset[ticker]\n",
    "closing_price = ticker_bars[0]\n",
    "closing_price"
   ]
  },
  {
   "cell_type": "code",
   "execution_count": null,
   "metadata": {},
   "outputs": [],
   "source": [
    "# See how much AAPL moved in that timeframe.\n",
    "week_open = aapl_bars[0].o\n",
    "week_close = aapl_bars[-1].c\n",
    "percent_change = (week_close - week_open) / week_open * 100\n",
    "print('AAPL moved {}% over the last 5 days'.format(percent_change))"
   ]
  },
  {
   "cell_type": "code",
   "execution_count": 27,
   "metadata": {},
   "outputs": [
    {
     "output_type": "error",
     "ename": "SyntaxError",
     "evalue": "invalid syntax (<ipython-input-27-f92792bb3eb1>, line 15)",
     "traceback": [
      "\u001b[0;36m  File \u001b[0;32m\"<ipython-input-27-f92792bb3eb1>\"\u001b[0;36m, line \u001b[0;32m15\u001b[0m\n\u001b[0;31m    ticker_daily = api.polygon.historic_agg_v2(\"15Min\", \"ticker\", limit=1000, timespan=365, from=today, to=today).df\u001b[0m\n\u001b[0m                                                                                            ^\u001b[0m\n\u001b[0;31mSyntaxError\u001b[0m\u001b[0;31m:\u001b[0m invalid syntax\n"
     ]
    }
   ],
   "source": [
    "ticker = \"AAPL\"\n",
    "def pull_data (ticker):\n",
    "    \"\"\"Grabs the Latest Price\"\"\"\n",
    "    print(\"Extracting latest price\")\n",
    "\n",
    "    load_dotenv()\n",
    "\n",
    "    #You may have to change your dotenv to APCA instead of Alpaca\n",
    "    #My computer was not allowing me to use Alpaca for some reason\n",
    "    alpaca_api_key = os.getenv(\"APCA_API_KEY\")\n",
    "    alpaca_secret_key = os.getenv(\"APCA_SECRET_KEY\")\n",
    "\n",
    "    api = tradeapi.REST(alpaca_api_key, alpaca_secret_key)\n",
    "    \n",
    "    ticker_daily = api.polygon.historic_agg_v2(\"15Min\", \"ticker\", limit=1000, timespan=365, from=today, to=today).df\n"
   ]
  },
  {
   "cell_type": "code",
   "execution_count": 26,
   "metadata": {
    "tags": []
   },
   "outputs": [
    {
     "output_type": "stream",
     "name": "stderr",
     "text": "Python-dotenv could not parse statement starting at line 7\nPython-dotenv could not parse statement starting at line 8\nExtracting latest price\n"
    },
    {
     "output_type": "error",
     "ename": "TypeError",
     "evalue": "historic_agg_v2() missing 3 required positional arguments: 'timespan', '_from', and 'to'",
     "traceback": [
      "\u001b[0;31m---------------------------------------------------------------------------\u001b[0m",
      "\u001b[0;31mTypeError\u001b[0m                                 Traceback (most recent call last)",
      "\u001b[0;32m<ipython-input-26-3b4eae9724f8>\u001b[0m in \u001b[0;36m<module>\u001b[0;34m\u001b[0m\n\u001b[0;32m----> 1\u001b[0;31m \u001b[0mpull_data\u001b[0m\u001b[0;34m(\u001b[0m\u001b[0mticker\u001b[0m\u001b[0;34m)\u001b[0m\u001b[0;34m\u001b[0m\u001b[0;34m\u001b[0m\u001b[0m\n\u001b[0m",
      "\u001b[0;32m<ipython-input-25-f567d26e675b>\u001b[0m in \u001b[0;36mpull_data\u001b[0;34m(ticker)\u001b[0m\n\u001b[1;32m     13\u001b[0m     \u001b[0mapi\u001b[0m \u001b[0;34m=\u001b[0m \u001b[0mtradeapi\u001b[0m\u001b[0;34m.\u001b[0m\u001b[0mREST\u001b[0m\u001b[0;34m(\u001b[0m\u001b[0malpaca_api_key\u001b[0m\u001b[0;34m,\u001b[0m \u001b[0malpaca_secret_key\u001b[0m\u001b[0;34m)\u001b[0m\u001b[0;34m\u001b[0m\u001b[0;34m\u001b[0m\u001b[0m\n\u001b[1;32m     14\u001b[0m \u001b[0;34m\u001b[0m\u001b[0m\n\u001b[0;32m---> 15\u001b[0;31m     \u001b[0mticker_daily\u001b[0m \u001b[0;34m=\u001b[0m \u001b[0mapi\u001b[0m\u001b[0;34m.\u001b[0m\u001b[0mpolygon\u001b[0m\u001b[0;34m.\u001b[0m\u001b[0mhistoric_agg_v2\u001b[0m\u001b[0;34m(\u001b[0m\u001b[0;34m\"day\"\u001b[0m\u001b[0;34m,\u001b[0m \u001b[0;34m\"AAPL\"\u001b[0m\u001b[0;34m,\u001b[0m \u001b[0mlimit\u001b[0m\u001b[0;34m=\u001b[0m\u001b[0;36m1000\u001b[0m\u001b[0;34m)\u001b[0m\u001b[0;34m.\u001b[0m\u001b[0mdf\u001b[0m\u001b[0;34m\u001b[0m\u001b[0;34m\u001b[0m\u001b[0m\n\u001b[0m",
      "\u001b[0;31mTypeError\u001b[0m: historic_agg_v2() missing 3 required positional arguments: 'timespan', '_from', and 'to'"
     ]
    }
   ],
   "source": [
    "pull_data(ticker)"
   ]
  },
  {
   "cell_type": "code",
   "execution_count": null,
   "metadata": {},
   "outputs": [],
   "source": []
  }
 ]
}