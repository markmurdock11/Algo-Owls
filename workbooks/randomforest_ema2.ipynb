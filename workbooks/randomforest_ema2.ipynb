{
 "metadata": {
  "language_info": {
   "codemirror_mode": {
    "name": "ipython",
    "version": 3
   },
   "file_extension": ".py",
   "mimetype": "text/x-python",
   "name": "python",
   "nbconvert_exporter": "python",
   "pygments_lexer": "ipython3",
   "version": "3.8.3-final"
  },
  "orig_nbformat": 2,
  "kernelspec": {
   "name": "python3",
   "display_name": "Python 3",
   "language": "python"
  }
 },
 "nbformat": 4,
 "nbformat_minor": 2,
 "cells": [
  {
   "cell_type": "code",
   "execution_count": 1,
   "metadata": {},
   "outputs": [],
   "source": [
    "# Random forest model for EMA crossover identifier\n",
    "import pandas as pd\n",
    "import numpy as np\n",
    "from pathlib import Path\n",
    "%matplotlib inline\n",
    "\n",
    "import warnings\n",
    "warnings.filterwarnings('ignore')"
   ]
  },
  {
   "cell_type": "code",
   "execution_count": 2,
   "metadata": {},
   "outputs": [
    {
     "output_type": "execute_result",
     "data": {
      "text/plain": [
       "WindowsPath('../Resources/ts_ema_all_new_features.csv')"
      ]
     },
     "metadata": {},
     "execution_count": 2
    }
   ],
   "source": [
    "csv_path = Path('../Resources/ts_ema_all_new_features.csv')\n",
    "csv_path"
   ]
  },
  {
   "cell_type": "code",
   "execution_count": 3,
   "metadata": {},
   "outputs": [
    {
     "output_type": "execute_result",
     "data": {
      "text/plain": [
       "                Date_Time    Open    High     Low   Close      Up    Down  \\\n",
       "19600 2021-01-13 14:00:00  139.86  139.97  139.60  139.75   82450   75845   \n",
       "19601 2021-01-13 14:15:00  139.75  139.97  139.65  139.94  114553  112963   \n",
       "19602 2021-01-13 14:30:00  139.93  140.05  139.88  139.99  171929  129750   \n",
       "19603 2021-01-13 14:45:00  139.99  140.07  139.70  140.03  177208  169230   \n",
       "19604 2021-01-13 15:00:00  140.02  140.79  139.97  140.35  634514  555765   \n",
       "\n",
       "         kcup    kclo  MidLine    bbup    bblo  MidLine.1  FastEMA  SlowEMA  \\\n",
       "19600  140.07  138.21   139.14  140.31  137.97     139.14   139.66   139.50   \n",
       "19601  140.06  138.31   139.19  140.40  137.97     139.19   139.72   139.54   \n",
       "19602  140.08  138.37   139.23  140.49  137.96     139.23   139.77   139.58   \n",
       "19603  140.13  138.46   139.29  140.58  138.01     139.29   139.82   139.62   \n",
       "19604  140.26  138.51   139.38  140.71  138.06     139.38   139.93   139.69   \n",
       "\n",
       "       squeeze  emax_signal  emas_dist  delta_dist     ATR  \n",
       "19600        0            0     0.1611      0.0031  0.4665  \n",
       "19601        0            0     0.1766      0.0155  0.4380  \n",
       "19602        0            0     0.1902      0.0135  0.4280  \n",
       "19603        0            0     0.2009      0.0108  0.4155  \n",
       "19604        0            0     0.2400      0.0391  0.4370  "
      ],
      "text/html": "<div>\n<style scoped>\n    .dataframe tbody tr th:only-of-type {\n        vertical-align: middle;\n    }\n\n    .dataframe tbody tr th {\n        vertical-align: top;\n    }\n\n    .dataframe thead th {\n        text-align: right;\n    }\n</style>\n<table border=\"1\" class=\"dataframe\">\n  <thead>\n    <tr style=\"text-align: right;\">\n      <th></th>\n      <th>Date_Time</th>\n      <th>Open</th>\n      <th>High</th>\n      <th>Low</th>\n      <th>Close</th>\n      <th>Up</th>\n      <th>Down</th>\n      <th>kcup</th>\n      <th>kclo</th>\n      <th>MidLine</th>\n      <th>bbup</th>\n      <th>bblo</th>\n      <th>MidLine.1</th>\n      <th>FastEMA</th>\n      <th>SlowEMA</th>\n      <th>squeeze</th>\n      <th>emax_signal</th>\n      <th>emas_dist</th>\n      <th>delta_dist</th>\n      <th>ATR</th>\n    </tr>\n  </thead>\n  <tbody>\n    <tr>\n      <th>19600</th>\n      <td>2021-01-13 14:00:00</td>\n      <td>139.86</td>\n      <td>139.97</td>\n      <td>139.60</td>\n      <td>139.75</td>\n      <td>82450</td>\n      <td>75845</td>\n      <td>140.07</td>\n      <td>138.21</td>\n      <td>139.14</td>\n      <td>140.31</td>\n      <td>137.97</td>\n      <td>139.14</td>\n      <td>139.66</td>\n      <td>139.50</td>\n      <td>0</td>\n      <td>0</td>\n      <td>0.1611</td>\n      <td>0.0031</td>\n      <td>0.4665</td>\n    </tr>\n    <tr>\n      <th>19601</th>\n      <td>2021-01-13 14:15:00</td>\n      <td>139.75</td>\n      <td>139.97</td>\n      <td>139.65</td>\n      <td>139.94</td>\n      <td>114553</td>\n      <td>112963</td>\n      <td>140.06</td>\n      <td>138.31</td>\n      <td>139.19</td>\n      <td>140.40</td>\n      <td>137.97</td>\n      <td>139.19</td>\n      <td>139.72</td>\n      <td>139.54</td>\n      <td>0</td>\n      <td>0</td>\n      <td>0.1766</td>\n      <td>0.0155</td>\n      <td>0.4380</td>\n    </tr>\n    <tr>\n      <th>19602</th>\n      <td>2021-01-13 14:30:00</td>\n      <td>139.93</td>\n      <td>140.05</td>\n      <td>139.88</td>\n      <td>139.99</td>\n      <td>171929</td>\n      <td>129750</td>\n      <td>140.08</td>\n      <td>138.37</td>\n      <td>139.23</td>\n      <td>140.49</td>\n      <td>137.96</td>\n      <td>139.23</td>\n      <td>139.77</td>\n      <td>139.58</td>\n      <td>0</td>\n      <td>0</td>\n      <td>0.1902</td>\n      <td>0.0135</td>\n      <td>0.4280</td>\n    </tr>\n    <tr>\n      <th>19603</th>\n      <td>2021-01-13 14:45:00</td>\n      <td>139.99</td>\n      <td>140.07</td>\n      <td>139.70</td>\n      <td>140.03</td>\n      <td>177208</td>\n      <td>169230</td>\n      <td>140.13</td>\n      <td>138.46</td>\n      <td>139.29</td>\n      <td>140.58</td>\n      <td>138.01</td>\n      <td>139.29</td>\n      <td>139.82</td>\n      <td>139.62</td>\n      <td>0</td>\n      <td>0</td>\n      <td>0.2009</td>\n      <td>0.0108</td>\n      <td>0.4155</td>\n    </tr>\n    <tr>\n      <th>19604</th>\n      <td>2021-01-13 15:00:00</td>\n      <td>140.02</td>\n      <td>140.79</td>\n      <td>139.97</td>\n      <td>140.35</td>\n      <td>634514</td>\n      <td>555765</td>\n      <td>140.26</td>\n      <td>138.51</td>\n      <td>139.38</td>\n      <td>140.71</td>\n      <td>138.06</td>\n      <td>139.38</td>\n      <td>139.93</td>\n      <td>139.69</td>\n      <td>0</td>\n      <td>0</td>\n      <td>0.2400</td>\n      <td>0.0391</td>\n      <td>0.4370</td>\n    </tr>\n  </tbody>\n</table>\n</div>"
     },
     "metadata": {},
     "execution_count": 3
    }
   ],
   "source": [
    "ts_file_df = pd.read_csv(csv_path, parse_dates=[['Date', 'Time']])\n",
    "ts_file_df.tail()"
   ]
  },
  {
   "cell_type": "code",
   "execution_count": 4,
   "metadata": {},
   "outputs": [
    {
     "output_type": "execute_result",
     "data": {
      "text/plain": [
       "                       Open    High     Low   Close       Up     Down  kcup  \\\n",
       "Date_Time                                                                     \n",
       "2018-01-16 08:45:00  111.51  113.17  111.35  113.13  1148689  1783516   0.0   \n",
       "2018-01-16 09:00:00  113.14  113.43  112.70  112.84   482444   571196   0.0   \n",
       "2018-01-16 09:15:00  112.85  112.85  112.16  112.42   450320   469772   0.0   \n",
       "2018-01-16 09:30:00  112.42  112.79  112.33  112.66   302400   396757   0.0   \n",
       "2018-01-16 09:45:00  112.66  112.67  112.27  112.34   278542   334117   0.0   \n",
       "\n",
       "                     kclo  MidLine  bbup  bblo  FastEMA  SlowEMA  squeeze  \\\n",
       "Date_Time                                                                   \n",
       "2018-01-16 08:45:00   0.0      0.0   0.0   0.0     0.00     0.00        0   \n",
       "2018-01-16 09:00:00   0.0      0.0   0.0   0.0   112.84   112.84        0   \n",
       "2018-01-16 09:15:00   0.0      0.0   0.0   0.0   112.76   112.80        0   \n",
       "2018-01-16 09:30:00   0.0      0.0   0.0   0.0   112.74   112.79        0   \n",
       "2018-01-16 09:45:00   0.0      0.0   0.0   0.0   112.66   112.75        0   \n",
       "\n",
       "                     emax_signal  emas_dist  delta_dist  ATR  \n",
       "Date_Time                                                     \n",
       "2018-01-16 08:45:00            0     0.0000      0.0000  0.0  \n",
       "2018-01-16 09:00:00            0     0.0000      0.0000  0.0  \n",
       "2018-01-16 09:15:00            0    -0.0458      0.0458  0.0  \n",
       "2018-01-16 09:30:00            0    -0.0521      0.0063  0.0  \n",
       "2018-01-16 09:45:00            0    -0.0907      0.0385  0.0  "
      ],
      "text/html": "<div>\n<style scoped>\n    .dataframe tbody tr th:only-of-type {\n        vertical-align: middle;\n    }\n\n    .dataframe tbody tr th {\n        vertical-align: top;\n    }\n\n    .dataframe thead th {\n        text-align: right;\n    }\n</style>\n<table border=\"1\" class=\"dataframe\">\n  <thead>\n    <tr style=\"text-align: right;\">\n      <th></th>\n      <th>Open</th>\n      <th>High</th>\n      <th>Low</th>\n      <th>Close</th>\n      <th>Up</th>\n      <th>Down</th>\n      <th>kcup</th>\n      <th>kclo</th>\n      <th>MidLine</th>\n      <th>bbup</th>\n      <th>bblo</th>\n      <th>FastEMA</th>\n      <th>SlowEMA</th>\n      <th>squeeze</th>\n      <th>emax_signal</th>\n      <th>emas_dist</th>\n      <th>delta_dist</th>\n      <th>ATR</th>\n    </tr>\n    <tr>\n      <th>Date_Time</th>\n      <th></th>\n      <th></th>\n      <th></th>\n      <th></th>\n      <th></th>\n      <th></th>\n      <th></th>\n      <th></th>\n      <th></th>\n      <th></th>\n      <th></th>\n      <th></th>\n      <th></th>\n      <th></th>\n      <th></th>\n      <th></th>\n      <th></th>\n      <th></th>\n    </tr>\n  </thead>\n  <tbody>\n    <tr>\n      <th>2018-01-16 08:45:00</th>\n      <td>111.51</td>\n      <td>113.17</td>\n      <td>111.35</td>\n      <td>113.13</td>\n      <td>1148689</td>\n      <td>1783516</td>\n      <td>0.0</td>\n      <td>0.0</td>\n      <td>0.0</td>\n      <td>0.0</td>\n      <td>0.0</td>\n      <td>0.00</td>\n      <td>0.00</td>\n      <td>0</td>\n      <td>0</td>\n      <td>0.0000</td>\n      <td>0.0000</td>\n      <td>0.0</td>\n    </tr>\n    <tr>\n      <th>2018-01-16 09:00:00</th>\n      <td>113.14</td>\n      <td>113.43</td>\n      <td>112.70</td>\n      <td>112.84</td>\n      <td>482444</td>\n      <td>571196</td>\n      <td>0.0</td>\n      <td>0.0</td>\n      <td>0.0</td>\n      <td>0.0</td>\n      <td>0.0</td>\n      <td>112.84</td>\n      <td>112.84</td>\n      <td>0</td>\n      <td>0</td>\n      <td>0.0000</td>\n      <td>0.0000</td>\n      <td>0.0</td>\n    </tr>\n    <tr>\n      <th>2018-01-16 09:15:00</th>\n      <td>112.85</td>\n      <td>112.85</td>\n      <td>112.16</td>\n      <td>112.42</td>\n      <td>450320</td>\n      <td>469772</td>\n      <td>0.0</td>\n      <td>0.0</td>\n      <td>0.0</td>\n      <td>0.0</td>\n      <td>0.0</td>\n      <td>112.76</td>\n      <td>112.80</td>\n      <td>0</td>\n      <td>0</td>\n      <td>-0.0458</td>\n      <td>0.0458</td>\n      <td>0.0</td>\n    </tr>\n    <tr>\n      <th>2018-01-16 09:30:00</th>\n      <td>112.42</td>\n      <td>112.79</td>\n      <td>112.33</td>\n      <td>112.66</td>\n      <td>302400</td>\n      <td>396757</td>\n      <td>0.0</td>\n      <td>0.0</td>\n      <td>0.0</td>\n      <td>0.0</td>\n      <td>0.0</td>\n      <td>112.74</td>\n      <td>112.79</td>\n      <td>0</td>\n      <td>0</td>\n      <td>-0.0521</td>\n      <td>0.0063</td>\n      <td>0.0</td>\n    </tr>\n    <tr>\n      <th>2018-01-16 09:45:00</th>\n      <td>112.66</td>\n      <td>112.67</td>\n      <td>112.27</td>\n      <td>112.34</td>\n      <td>278542</td>\n      <td>334117</td>\n      <td>0.0</td>\n      <td>0.0</td>\n      <td>0.0</td>\n      <td>0.0</td>\n      <td>0.0</td>\n      <td>112.66</td>\n      <td>112.75</td>\n      <td>0</td>\n      <td>0</td>\n      <td>-0.0907</td>\n      <td>0.0385</td>\n      <td>0.0</td>\n    </tr>\n  </tbody>\n</table>\n</div>"
     },
     "metadata": {},
     "execution_count": 4
    }
   ],
   "source": [
    "# set index as Date_Time and drop MidLine.1 column (it is a duplicate of MidLine)\n",
    "ts_file_df.set_index(pd.to_datetime(ts_file_df['Date_Time'], infer_datetime_format=True), inplace=True)\n",
    "ts_file_df.drop(columns=['Date_Time', 'MidLine.1'], inplace=True)\n",
    "ts_file_df.head()"
   ]
  },
  {
   "cell_type": "code",
   "execution_count": 5,
   "metadata": {},
   "outputs": [
    {
     "output_type": "execute_result",
     "data": {
      "text/plain": [
       "                       Open    High     Low   Close       Up     Down  kcup  \\\n",
       "Date_Time                                                                     \n",
       "2018-01-16 08:45:00  111.51  113.17  111.35  113.13  1148689  1783516   0.0   \n",
       "2018-01-16 09:00:00  113.14  113.43  112.70  112.84   482444   571196   0.0   \n",
       "2018-01-16 09:15:00  112.85  112.85  112.16  112.42   450320   469772   0.0   \n",
       "2018-01-16 09:30:00  112.42  112.79  112.33  112.66   302400   396757   0.0   \n",
       "2018-01-16 09:45:00  112.66  112.67  112.27  112.34   278542   334117   0.0   \n",
       "\n",
       "                     kclo  MidLine  bbup  bblo  FastEMA  SlowEMA  emas_dist  \\\n",
       "Date_Time                                                                     \n",
       "2018-01-16 08:45:00   0.0      0.0   0.0   0.0     0.00     0.00     0.0000   \n",
       "2018-01-16 09:00:00   0.0      0.0   0.0   0.0   112.84   112.84     0.0000   \n",
       "2018-01-16 09:15:00   0.0      0.0   0.0   0.0   112.76   112.80    -0.0458   \n",
       "2018-01-16 09:30:00   0.0      0.0   0.0   0.0   112.74   112.79    -0.0521   \n",
       "2018-01-16 09:45:00   0.0      0.0   0.0   0.0   112.66   112.75    -0.0907   \n",
       "\n",
       "                     delta_dist  ATR  \n",
       "Date_Time                             \n",
       "2018-01-16 08:45:00      0.0000  0.0  \n",
       "2018-01-16 09:00:00      0.0000  0.0  \n",
       "2018-01-16 09:15:00      0.0458  0.0  \n",
       "2018-01-16 09:30:00      0.0063  0.0  \n",
       "2018-01-16 09:45:00      0.0385  0.0  "
      ],
      "text/html": "<div>\n<style scoped>\n    .dataframe tbody tr th:only-of-type {\n        vertical-align: middle;\n    }\n\n    .dataframe tbody tr th {\n        vertical-align: top;\n    }\n\n    .dataframe thead th {\n        text-align: right;\n    }\n</style>\n<table border=\"1\" class=\"dataframe\">\n  <thead>\n    <tr style=\"text-align: right;\">\n      <th></th>\n      <th>Open</th>\n      <th>High</th>\n      <th>Low</th>\n      <th>Close</th>\n      <th>Up</th>\n      <th>Down</th>\n      <th>kcup</th>\n      <th>kclo</th>\n      <th>MidLine</th>\n      <th>bbup</th>\n      <th>bblo</th>\n      <th>FastEMA</th>\n      <th>SlowEMA</th>\n      <th>emas_dist</th>\n      <th>delta_dist</th>\n      <th>ATR</th>\n    </tr>\n    <tr>\n      <th>Date_Time</th>\n      <th></th>\n      <th></th>\n      <th></th>\n      <th></th>\n      <th></th>\n      <th></th>\n      <th></th>\n      <th></th>\n      <th></th>\n      <th></th>\n      <th></th>\n      <th></th>\n      <th></th>\n      <th></th>\n      <th></th>\n      <th></th>\n    </tr>\n  </thead>\n  <tbody>\n    <tr>\n      <th>2018-01-16 08:45:00</th>\n      <td>111.51</td>\n      <td>113.17</td>\n      <td>111.35</td>\n      <td>113.13</td>\n      <td>1148689</td>\n      <td>1783516</td>\n      <td>0.0</td>\n      <td>0.0</td>\n      <td>0.0</td>\n      <td>0.0</td>\n      <td>0.0</td>\n      <td>0.00</td>\n      <td>0.00</td>\n      <td>0.0000</td>\n      <td>0.0000</td>\n      <td>0.0</td>\n    </tr>\n    <tr>\n      <th>2018-01-16 09:00:00</th>\n      <td>113.14</td>\n      <td>113.43</td>\n      <td>112.70</td>\n      <td>112.84</td>\n      <td>482444</td>\n      <td>571196</td>\n      <td>0.0</td>\n      <td>0.0</td>\n      <td>0.0</td>\n      <td>0.0</td>\n      <td>0.0</td>\n      <td>112.84</td>\n      <td>112.84</td>\n      <td>0.0000</td>\n      <td>0.0000</td>\n      <td>0.0</td>\n    </tr>\n    <tr>\n      <th>2018-01-16 09:15:00</th>\n      <td>112.85</td>\n      <td>112.85</td>\n      <td>112.16</td>\n      <td>112.42</td>\n      <td>450320</td>\n      <td>469772</td>\n      <td>0.0</td>\n      <td>0.0</td>\n      <td>0.0</td>\n      <td>0.0</td>\n      <td>0.0</td>\n      <td>112.76</td>\n      <td>112.80</td>\n      <td>-0.0458</td>\n      <td>0.0458</td>\n      <td>0.0</td>\n    </tr>\n    <tr>\n      <th>2018-01-16 09:30:00</th>\n      <td>112.42</td>\n      <td>112.79</td>\n      <td>112.33</td>\n      <td>112.66</td>\n      <td>302400</td>\n      <td>396757</td>\n      <td>0.0</td>\n      <td>0.0</td>\n      <td>0.0</td>\n      <td>0.0</td>\n      <td>0.0</td>\n      <td>112.74</td>\n      <td>112.79</td>\n      <td>-0.0521</td>\n      <td>0.0063</td>\n      <td>0.0</td>\n    </tr>\n    <tr>\n      <th>2018-01-16 09:45:00</th>\n      <td>112.66</td>\n      <td>112.67</td>\n      <td>112.27</td>\n      <td>112.34</td>\n      <td>278542</td>\n      <td>334117</td>\n      <td>0.0</td>\n      <td>0.0</td>\n      <td>0.0</td>\n      <td>0.0</td>\n      <td>0.0</td>\n      <td>112.66</td>\n      <td>112.75</td>\n      <td>-0.0907</td>\n      <td>0.0385</td>\n      <td>0.0</td>\n    </tr>\n  </tbody>\n</table>\n</div>"
     },
     "metadata": {},
     "execution_count": 5
    }
   ],
   "source": [
    "# Set a variable list of features to feed to our model\n",
    "\n",
    "x_var_list = ['Open', 'High', 'Low', 'Close', 'Up', 'Down', 'kcup', 'kclo', 'MidLine', 'bbup', 'bblo', 'FastEMA', 'SlowEMA', 'emas_dist', 'delta_dist', 'ATR']\n",
    "ts_file_df[x_var_list].head()"
   ]
  },
  {
   "cell_type": "code",
   "execution_count": 6,
   "metadata": {},
   "outputs": [],
   "source": [
    "ts_file_df['Up/1000'] = ts_file_df['Up']/1000\n",
    "ts_file_df['Down/1000'] = ts_file_df['Down']/1000"
   ]
  },
  {
   "cell_type": "code",
   "execution_count": 7,
   "metadata": {},
   "outputs": [
    {
     "output_type": "execute_result",
     "data": {
      "text/plain": [
       "                       Open    High     Low   Close    kcup    kclo  MidLine  \\\n",
       "Date_Time                                                                      \n",
       "2018-01-16 08:45:00  111.51  113.17  111.35  113.13    0.00    0.00     0.00   \n",
       "2018-01-16 09:00:00  113.14  113.43  112.70  112.84    0.00    0.00     0.00   \n",
       "2018-01-16 09:15:00  112.85  112.85  112.16  112.42    0.00    0.00     0.00   \n",
       "2018-01-16 09:30:00  112.42  112.79  112.33  112.66    0.00    0.00     0.00   \n",
       "2018-01-16 09:45:00  112.66  112.67  112.27  112.34    0.00    0.00     0.00   \n",
       "...                     ...     ...     ...     ...     ...     ...      ...   \n",
       "2021-01-13 14:00:00  139.86  139.97  139.60  139.75  140.07  138.21   139.14   \n",
       "2021-01-13 14:15:00  139.75  139.97  139.65  139.94  140.06  138.31   139.19   \n",
       "2021-01-13 14:30:00  139.93  140.05  139.88  139.99  140.08  138.37   139.23   \n",
       "2021-01-13 14:45:00  139.99  140.07  139.70  140.03  140.13  138.46   139.29   \n",
       "2021-01-13 15:00:00  140.02  140.79  139.97  140.35  140.26  138.51   139.38   \n",
       "\n",
       "                       bbup    bblo  FastEMA  SlowEMA  squeeze  emax_signal  \\\n",
       "Date_Time                                                                     \n",
       "2018-01-16 08:45:00    0.00    0.00     0.00     0.00        0            0   \n",
       "2018-01-16 09:00:00    0.00    0.00   112.84   112.84        0            0   \n",
       "2018-01-16 09:15:00    0.00    0.00   112.76   112.80        0            0   \n",
       "2018-01-16 09:30:00    0.00    0.00   112.74   112.79        0            0   \n",
       "2018-01-16 09:45:00    0.00    0.00   112.66   112.75        0            0   \n",
       "...                     ...     ...      ...      ...      ...          ...   \n",
       "2021-01-13 14:00:00  140.31  137.97   139.66   139.50        0            0   \n",
       "2021-01-13 14:15:00  140.40  137.97   139.72   139.54        0            0   \n",
       "2021-01-13 14:30:00  140.49  137.96   139.77   139.58        0            0   \n",
       "2021-01-13 14:45:00  140.58  138.01   139.82   139.62        0            0   \n",
       "2021-01-13 15:00:00  140.71  138.06   139.93   139.69        0            0   \n",
       "\n",
       "                     emas_dist  delta_dist     ATR   Up/1000  Down/1000  \n",
       "Date_Time                                                                \n",
       "2018-01-16 08:45:00     0.0000      0.0000  0.0000  1148.689   1783.516  \n",
       "2018-01-16 09:00:00     0.0000      0.0000  0.0000   482.444    571.196  \n",
       "2018-01-16 09:15:00    -0.0458      0.0458  0.0000   450.320    469.772  \n",
       "2018-01-16 09:30:00    -0.0521      0.0063  0.0000   302.400    396.757  \n",
       "2018-01-16 09:45:00    -0.0907      0.0385  0.0000   278.542    334.117  \n",
       "...                        ...         ...     ...       ...        ...  \n",
       "2021-01-13 14:00:00     0.1611      0.0031  0.4665    82.450     75.845  \n",
       "2021-01-13 14:15:00     0.1766      0.0155  0.4380   114.553    112.963  \n",
       "2021-01-13 14:30:00     0.1902      0.0135  0.4280   171.929    129.750  \n",
       "2021-01-13 14:45:00     0.2009      0.0108  0.4155   177.208    169.230  \n",
       "2021-01-13 15:00:00     0.2400      0.0391  0.4370   634.514    555.765  \n",
       "\n",
       "[19605 rows x 18 columns]"
      ],
      "text/html": "<div>\n<style scoped>\n    .dataframe tbody tr th:only-of-type {\n        vertical-align: middle;\n    }\n\n    .dataframe tbody tr th {\n        vertical-align: top;\n    }\n\n    .dataframe thead th {\n        text-align: right;\n    }\n</style>\n<table border=\"1\" class=\"dataframe\">\n  <thead>\n    <tr style=\"text-align: right;\">\n      <th></th>\n      <th>Open</th>\n      <th>High</th>\n      <th>Low</th>\n      <th>Close</th>\n      <th>kcup</th>\n      <th>kclo</th>\n      <th>MidLine</th>\n      <th>bbup</th>\n      <th>bblo</th>\n      <th>FastEMA</th>\n      <th>SlowEMA</th>\n      <th>squeeze</th>\n      <th>emax_signal</th>\n      <th>emas_dist</th>\n      <th>delta_dist</th>\n      <th>ATR</th>\n      <th>Up/1000</th>\n      <th>Down/1000</th>\n    </tr>\n    <tr>\n      <th>Date_Time</th>\n      <th></th>\n      <th></th>\n      <th></th>\n      <th></th>\n      <th></th>\n      <th></th>\n      <th></th>\n      <th></th>\n      <th></th>\n      <th></th>\n      <th></th>\n      <th></th>\n      <th></th>\n      <th></th>\n      <th></th>\n      <th></th>\n      <th></th>\n      <th></th>\n    </tr>\n  </thead>\n  <tbody>\n    <tr>\n      <th>2018-01-16 08:45:00</th>\n      <td>111.51</td>\n      <td>113.17</td>\n      <td>111.35</td>\n      <td>113.13</td>\n      <td>0.00</td>\n      <td>0.00</td>\n      <td>0.00</td>\n      <td>0.00</td>\n      <td>0.00</td>\n      <td>0.00</td>\n      <td>0.00</td>\n      <td>0</td>\n      <td>0</td>\n      <td>0.0000</td>\n      <td>0.0000</td>\n      <td>0.0000</td>\n      <td>1148.689</td>\n      <td>1783.516</td>\n    </tr>\n    <tr>\n      <th>2018-01-16 09:00:00</th>\n      <td>113.14</td>\n      <td>113.43</td>\n      <td>112.70</td>\n      <td>112.84</td>\n      <td>0.00</td>\n      <td>0.00</td>\n      <td>0.00</td>\n      <td>0.00</td>\n      <td>0.00</td>\n      <td>112.84</td>\n      <td>112.84</td>\n      <td>0</td>\n      <td>0</td>\n      <td>0.0000</td>\n      <td>0.0000</td>\n      <td>0.0000</td>\n      <td>482.444</td>\n      <td>571.196</td>\n    </tr>\n    <tr>\n      <th>2018-01-16 09:15:00</th>\n      <td>112.85</td>\n      <td>112.85</td>\n      <td>112.16</td>\n      <td>112.42</td>\n      <td>0.00</td>\n      <td>0.00</td>\n      <td>0.00</td>\n      <td>0.00</td>\n      <td>0.00</td>\n      <td>112.76</td>\n      <td>112.80</td>\n      <td>0</td>\n      <td>0</td>\n      <td>-0.0458</td>\n      <td>0.0458</td>\n      <td>0.0000</td>\n      <td>450.320</td>\n      <td>469.772</td>\n    </tr>\n    <tr>\n      <th>2018-01-16 09:30:00</th>\n      <td>112.42</td>\n      <td>112.79</td>\n      <td>112.33</td>\n      <td>112.66</td>\n      <td>0.00</td>\n      <td>0.00</td>\n      <td>0.00</td>\n      <td>0.00</td>\n      <td>0.00</td>\n      <td>112.74</td>\n      <td>112.79</td>\n      <td>0</td>\n      <td>0</td>\n      <td>-0.0521</td>\n      <td>0.0063</td>\n      <td>0.0000</td>\n      <td>302.400</td>\n      <td>396.757</td>\n    </tr>\n    <tr>\n      <th>2018-01-16 09:45:00</th>\n      <td>112.66</td>\n      <td>112.67</td>\n      <td>112.27</td>\n      <td>112.34</td>\n      <td>0.00</td>\n      <td>0.00</td>\n      <td>0.00</td>\n      <td>0.00</td>\n      <td>0.00</td>\n      <td>112.66</td>\n      <td>112.75</td>\n      <td>0</td>\n      <td>0</td>\n      <td>-0.0907</td>\n      <td>0.0385</td>\n      <td>0.0000</td>\n      <td>278.542</td>\n      <td>334.117</td>\n    </tr>\n    <tr>\n      <th>...</th>\n      <td>...</td>\n      <td>...</td>\n      <td>...</td>\n      <td>...</td>\n      <td>...</td>\n      <td>...</td>\n      <td>...</td>\n      <td>...</td>\n      <td>...</td>\n      <td>...</td>\n      <td>...</td>\n      <td>...</td>\n      <td>...</td>\n      <td>...</td>\n      <td>...</td>\n      <td>...</td>\n      <td>...</td>\n      <td>...</td>\n    </tr>\n    <tr>\n      <th>2021-01-13 14:00:00</th>\n      <td>139.86</td>\n      <td>139.97</td>\n      <td>139.60</td>\n      <td>139.75</td>\n      <td>140.07</td>\n      <td>138.21</td>\n      <td>139.14</td>\n      <td>140.31</td>\n      <td>137.97</td>\n      <td>139.66</td>\n      <td>139.50</td>\n      <td>0</td>\n      <td>0</td>\n      <td>0.1611</td>\n      <td>0.0031</td>\n      <td>0.4665</td>\n      <td>82.450</td>\n      <td>75.845</td>\n    </tr>\n    <tr>\n      <th>2021-01-13 14:15:00</th>\n      <td>139.75</td>\n      <td>139.97</td>\n      <td>139.65</td>\n      <td>139.94</td>\n      <td>140.06</td>\n      <td>138.31</td>\n      <td>139.19</td>\n      <td>140.40</td>\n      <td>137.97</td>\n      <td>139.72</td>\n      <td>139.54</td>\n      <td>0</td>\n      <td>0</td>\n      <td>0.1766</td>\n      <td>0.0155</td>\n      <td>0.4380</td>\n      <td>114.553</td>\n      <td>112.963</td>\n    </tr>\n    <tr>\n      <th>2021-01-13 14:30:00</th>\n      <td>139.93</td>\n      <td>140.05</td>\n      <td>139.88</td>\n      <td>139.99</td>\n      <td>140.08</td>\n      <td>138.37</td>\n      <td>139.23</td>\n      <td>140.49</td>\n      <td>137.96</td>\n      <td>139.77</td>\n      <td>139.58</td>\n      <td>0</td>\n      <td>0</td>\n      <td>0.1902</td>\n      <td>0.0135</td>\n      <td>0.4280</td>\n      <td>171.929</td>\n      <td>129.750</td>\n    </tr>\n    <tr>\n      <th>2021-01-13 14:45:00</th>\n      <td>139.99</td>\n      <td>140.07</td>\n      <td>139.70</td>\n      <td>140.03</td>\n      <td>140.13</td>\n      <td>138.46</td>\n      <td>139.29</td>\n      <td>140.58</td>\n      <td>138.01</td>\n      <td>139.82</td>\n      <td>139.62</td>\n      <td>0</td>\n      <td>0</td>\n      <td>0.2009</td>\n      <td>0.0108</td>\n      <td>0.4155</td>\n      <td>177.208</td>\n      <td>169.230</td>\n    </tr>\n    <tr>\n      <th>2021-01-13 15:00:00</th>\n      <td>140.02</td>\n      <td>140.79</td>\n      <td>139.97</td>\n      <td>140.35</td>\n      <td>140.26</td>\n      <td>138.51</td>\n      <td>139.38</td>\n      <td>140.71</td>\n      <td>138.06</td>\n      <td>139.93</td>\n      <td>139.69</td>\n      <td>0</td>\n      <td>0</td>\n      <td>0.2400</td>\n      <td>0.0391</td>\n      <td>0.4370</td>\n      <td>634.514</td>\n      <td>555.765</td>\n    </tr>\n  </tbody>\n</table>\n<p>19605 rows × 18 columns</p>\n</div>"
     },
     "metadata": {},
     "execution_count": 7
    }
   ],
   "source": [
    "ts_file_df.drop(columns=['Up', 'Down'], inplace=True)\n",
    "ts_file_df"
   ]
  },
  {
   "cell_type": "code",
   "execution_count": 8,
   "metadata": {},
   "outputs": [
    {
     "output_type": "execute_result",
     "data": {
      "text/plain": [
       "                       Open    High     Low   Close  kcup  kclo  MidLine  \\\n",
       "Date_Time                                                                  \n",
       "2018-01-16 08:45:00  111.51  113.17  111.35  113.13   0.0   0.0      0.0   \n",
       "2018-01-16 09:00:00  113.14  113.43  112.70  112.84   0.0   0.0      0.0   \n",
       "2018-01-16 09:15:00  112.85  112.85  112.16  112.42   0.0   0.0      0.0   \n",
       "2018-01-16 09:30:00  112.42  112.79  112.33  112.66   0.0   0.0      0.0   \n",
       "2018-01-16 09:45:00  112.66  112.67  112.27  112.34   0.0   0.0      0.0   \n",
       "\n",
       "                     bbup  bblo  FastEMA  SlowEMA  emas_dist  delta_dist  ATR  \n",
       "Date_Time                                                                      \n",
       "2018-01-16 08:45:00   0.0   0.0     0.00     0.00     0.0000      0.0000  0.0  \n",
       "2018-01-16 09:00:00   0.0   0.0   112.84   112.84     0.0000      0.0000  0.0  \n",
       "2018-01-16 09:15:00   0.0   0.0   112.76   112.80    -0.0458      0.0458  0.0  \n",
       "2018-01-16 09:30:00   0.0   0.0   112.74   112.79    -0.0521      0.0063  0.0  \n",
       "2018-01-16 09:45:00   0.0   0.0   112.66   112.75    -0.0907      0.0385  0.0  "
      ],
      "text/html": "<div>\n<style scoped>\n    .dataframe tbody tr th:only-of-type {\n        vertical-align: middle;\n    }\n\n    .dataframe tbody tr th {\n        vertical-align: top;\n    }\n\n    .dataframe thead th {\n        text-align: right;\n    }\n</style>\n<table border=\"1\" class=\"dataframe\">\n  <thead>\n    <tr style=\"text-align: right;\">\n      <th></th>\n      <th>Open</th>\n      <th>High</th>\n      <th>Low</th>\n      <th>Close</th>\n      <th>kcup</th>\n      <th>kclo</th>\n      <th>MidLine</th>\n      <th>bbup</th>\n      <th>bblo</th>\n      <th>FastEMA</th>\n      <th>SlowEMA</th>\n      <th>emas_dist</th>\n      <th>delta_dist</th>\n      <th>ATR</th>\n    </tr>\n    <tr>\n      <th>Date_Time</th>\n      <th></th>\n      <th></th>\n      <th></th>\n      <th></th>\n      <th></th>\n      <th></th>\n      <th></th>\n      <th></th>\n      <th></th>\n      <th></th>\n      <th></th>\n      <th></th>\n      <th></th>\n      <th></th>\n    </tr>\n  </thead>\n  <tbody>\n    <tr>\n      <th>2018-01-16 08:45:00</th>\n      <td>111.51</td>\n      <td>113.17</td>\n      <td>111.35</td>\n      <td>113.13</td>\n      <td>0.0</td>\n      <td>0.0</td>\n      <td>0.0</td>\n      <td>0.0</td>\n      <td>0.0</td>\n      <td>0.00</td>\n      <td>0.00</td>\n      <td>0.0000</td>\n      <td>0.0000</td>\n      <td>0.0</td>\n    </tr>\n    <tr>\n      <th>2018-01-16 09:00:00</th>\n      <td>113.14</td>\n      <td>113.43</td>\n      <td>112.70</td>\n      <td>112.84</td>\n      <td>0.0</td>\n      <td>0.0</td>\n      <td>0.0</td>\n      <td>0.0</td>\n      <td>0.0</td>\n      <td>112.84</td>\n      <td>112.84</td>\n      <td>0.0000</td>\n      <td>0.0000</td>\n      <td>0.0</td>\n    </tr>\n    <tr>\n      <th>2018-01-16 09:15:00</th>\n      <td>112.85</td>\n      <td>112.85</td>\n      <td>112.16</td>\n      <td>112.42</td>\n      <td>0.0</td>\n      <td>0.0</td>\n      <td>0.0</td>\n      <td>0.0</td>\n      <td>0.0</td>\n      <td>112.76</td>\n      <td>112.80</td>\n      <td>-0.0458</td>\n      <td>0.0458</td>\n      <td>0.0</td>\n    </tr>\n    <tr>\n      <th>2018-01-16 09:30:00</th>\n      <td>112.42</td>\n      <td>112.79</td>\n      <td>112.33</td>\n      <td>112.66</td>\n      <td>0.0</td>\n      <td>0.0</td>\n      <td>0.0</td>\n      <td>0.0</td>\n      <td>0.0</td>\n      <td>112.74</td>\n      <td>112.79</td>\n      <td>-0.0521</td>\n      <td>0.0063</td>\n      <td>0.0</td>\n    </tr>\n    <tr>\n      <th>2018-01-16 09:45:00</th>\n      <td>112.66</td>\n      <td>112.67</td>\n      <td>112.27</td>\n      <td>112.34</td>\n      <td>0.0</td>\n      <td>0.0</td>\n      <td>0.0</td>\n      <td>0.0</td>\n      <td>0.0</td>\n      <td>112.66</td>\n      <td>112.75</td>\n      <td>-0.0907</td>\n      <td>0.0385</td>\n      <td>0.0</td>\n    </tr>\n  </tbody>\n</table>\n</div>"
     },
     "metadata": {},
     "execution_count": 8
    }
   ],
   "source": [
    "x_var_list_new = ['Open', 'High', 'Low', 'Close', 'kcup', 'kclo', 'MidLine', 'bbup', 'bblo', 'FastEMA', 'SlowEMA', 'emas_dist', 'delta_dist', 'ATR']\n",
    "ts_file_df[x_var_list_new].head()"
   ]
  },
  {
   "cell_type": "code",
   "execution_count": 9,
   "metadata": {},
   "outputs": [
    {
     "output_type": "execute_result",
     "data": {
      "text/plain": [
       "<bound method NDFrame.head of                        Open    High     Low   Close    kcup    kclo  MidLine  \\\n",
       "Date_Time                                                                      \n",
       "2018-01-16 08:45:00     NaN     NaN     NaN     NaN     NaN     NaN      NaN   \n",
       "2018-01-16 09:00:00  111.51  113.17  111.35  113.13    0.00    0.00     0.00   \n",
       "2018-01-16 09:15:00  113.14  113.43  112.70  112.84    0.00    0.00     0.00   \n",
       "2018-01-16 09:30:00  112.85  112.85  112.16  112.42    0.00    0.00     0.00   \n",
       "2018-01-16 09:45:00  112.42  112.79  112.33  112.66    0.00    0.00     0.00   \n",
       "...                     ...     ...     ...     ...     ...     ...      ...   \n",
       "2021-01-13 14:00:00  140.17  140.23  139.81  139.84  140.07  138.10   139.08   \n",
       "2021-01-13 14:15:00  139.86  139.97  139.60  139.75  140.07  138.21   139.14   \n",
       "2021-01-13 14:30:00  139.75  139.97  139.65  139.94  140.06  138.31   139.19   \n",
       "2021-01-13 14:45:00  139.93  140.05  139.88  139.99  140.08  138.37   139.23   \n",
       "2021-01-13 15:00:00  139.99  140.07  139.70  140.03  140.13  138.46   139.29   \n",
       "\n",
       "                       bbup    bblo  FastEMA  SlowEMA  squeeze  emax_signal  \\\n",
       "Date_Time                                                                     \n",
       "2018-01-16 08:45:00     NaN     NaN      NaN      NaN        0            0   \n",
       "2018-01-16 09:00:00    0.00    0.00     0.00     0.00        0            0   \n",
       "2018-01-16 09:15:00    0.00    0.00   112.84   112.84        0            0   \n",
       "2018-01-16 09:30:00    0.00    0.00   112.76   112.80        0            0   \n",
       "2018-01-16 09:45:00    0.00    0.00   112.74   112.79        0            0   \n",
       "...                     ...     ...      ...      ...      ...          ...   \n",
       "2021-01-13 14:00:00  140.24  137.93   139.64   139.48        0            0   \n",
       "2021-01-13 14:15:00  140.31  137.97   139.66   139.50        0            0   \n",
       "2021-01-13 14:30:00  140.40  137.97   139.72   139.54        0            0   \n",
       "2021-01-13 14:45:00  140.49  137.96   139.77   139.58        0            0   \n",
       "2021-01-13 15:00:00  140.58  138.01   139.82   139.62        0            0   \n",
       "\n",
       "                     emas_dist  delta_dist     ATR   Up/1000  Down/1000  \n",
       "Date_Time                                                                \n",
       "2018-01-16 08:45:00        NaN         NaN     NaN  1148.689   1783.516  \n",
       "2018-01-16 09:00:00     0.0000      0.0000  0.0000   482.444    571.196  \n",
       "2018-01-16 09:15:00     0.0000      0.0000  0.0000   450.320    469.772  \n",
       "2018-01-16 09:30:00    -0.0458      0.0458  0.0000   302.400    396.757  \n",
       "2018-01-16 09:45:00    -0.0521      0.0063  0.0000   278.542    334.117  \n",
       "...                        ...         ...     ...       ...        ...  \n",
       "2021-01-13 14:00:00     0.1642      0.0133  0.4935    82.450     75.845  \n",
       "2021-01-13 14:15:00     0.1611      0.0031  0.4665   114.553    112.963  \n",
       "2021-01-13 14:30:00     0.1766      0.0155  0.4380   171.929    129.750  \n",
       "2021-01-13 14:45:00     0.1902      0.0135  0.4280   177.208    169.230  \n",
       "2021-01-13 15:00:00     0.2009      0.0108  0.4155   634.514    555.765  \n",
       "\n",
       "[19605 rows x 18 columns]>"
      ]
     },
     "metadata": {},
     "execution_count": 9
    }
   ],
   "source": [
    "ts_file_df[x_var_list_new] = ts_file_df[x_var_list_new].shift(1)\n",
    "ts_file_df.head"
   ]
  },
  {
   "cell_type": "code",
   "execution_count": 10,
   "metadata": {},
   "outputs": [
    {
     "output_type": "execute_result",
     "data": {
      "text/plain": [
       "                       Open    High     Low   Close  kcup  kclo  MidLine  \\\n",
       "Date_Time                                                                  \n",
       "2018-01-16 09:00:00  111.51  113.17  111.35  113.13   0.0   0.0      0.0   \n",
       "2018-01-16 09:15:00  113.14  113.43  112.70  112.84   0.0   0.0      0.0   \n",
       "2018-01-16 09:30:00  112.85  112.85  112.16  112.42   0.0   0.0      0.0   \n",
       "2018-01-16 09:45:00  112.42  112.79  112.33  112.66   0.0   0.0      0.0   \n",
       "2018-01-16 10:00:00  112.66  112.67  112.27  112.34   0.0   0.0      0.0   \n",
       "\n",
       "                     bbup  bblo  FastEMA  SlowEMA  squeeze  emax_signal  \\\n",
       "Date_Time                                                                 \n",
       "2018-01-16 09:00:00   0.0   0.0     0.00     0.00        0            0   \n",
       "2018-01-16 09:15:00   0.0   0.0   112.84   112.84        0            0   \n",
       "2018-01-16 09:30:00   0.0   0.0   112.76   112.80        0            0   \n",
       "2018-01-16 09:45:00   0.0   0.0   112.74   112.79        0            0   \n",
       "2018-01-16 10:00:00   0.0   0.0   112.66   112.75        0            0   \n",
       "\n",
       "                     emas_dist  delta_dist  ATR  Up/1000  Down/1000  \n",
       "Date_Time                                                            \n",
       "2018-01-16 09:00:00     0.0000      0.0000  0.0  482.444    571.196  \n",
       "2018-01-16 09:15:00     0.0000      0.0000  0.0  450.320    469.772  \n",
       "2018-01-16 09:30:00    -0.0458      0.0458  0.0  302.400    396.757  \n",
       "2018-01-16 09:45:00    -0.0521      0.0063  0.0  278.542    334.117  \n",
       "2018-01-16 10:00:00    -0.0907      0.0385  0.0  227.242    225.156  "
      ],
      "text/html": "<div>\n<style scoped>\n    .dataframe tbody tr th:only-of-type {\n        vertical-align: middle;\n    }\n\n    .dataframe tbody tr th {\n        vertical-align: top;\n    }\n\n    .dataframe thead th {\n        text-align: right;\n    }\n</style>\n<table border=\"1\" class=\"dataframe\">\n  <thead>\n    <tr style=\"text-align: right;\">\n      <th></th>\n      <th>Open</th>\n      <th>High</th>\n      <th>Low</th>\n      <th>Close</th>\n      <th>kcup</th>\n      <th>kclo</th>\n      <th>MidLine</th>\n      <th>bbup</th>\n      <th>bblo</th>\n      <th>FastEMA</th>\n      <th>SlowEMA</th>\n      <th>squeeze</th>\n      <th>emax_signal</th>\n      <th>emas_dist</th>\n      <th>delta_dist</th>\n      <th>ATR</th>\n      <th>Up/1000</th>\n      <th>Down/1000</th>\n    </tr>\n    <tr>\n      <th>Date_Time</th>\n      <th></th>\n      <th></th>\n      <th></th>\n      <th></th>\n      <th></th>\n      <th></th>\n      <th></th>\n      <th></th>\n      <th></th>\n      <th></th>\n      <th></th>\n      <th></th>\n      <th></th>\n      <th></th>\n      <th></th>\n      <th></th>\n      <th></th>\n      <th></th>\n    </tr>\n  </thead>\n  <tbody>\n    <tr>\n      <th>2018-01-16 09:00:00</th>\n      <td>111.51</td>\n      <td>113.17</td>\n      <td>111.35</td>\n      <td>113.13</td>\n      <td>0.0</td>\n      <td>0.0</td>\n      <td>0.0</td>\n      <td>0.0</td>\n      <td>0.0</td>\n      <td>0.00</td>\n      <td>0.00</td>\n      <td>0</td>\n      <td>0</td>\n      <td>0.0000</td>\n      <td>0.0000</td>\n      <td>0.0</td>\n      <td>482.444</td>\n      <td>571.196</td>\n    </tr>\n    <tr>\n      <th>2018-01-16 09:15:00</th>\n      <td>113.14</td>\n      <td>113.43</td>\n      <td>112.70</td>\n      <td>112.84</td>\n      <td>0.0</td>\n      <td>0.0</td>\n      <td>0.0</td>\n      <td>0.0</td>\n      <td>0.0</td>\n      <td>112.84</td>\n      <td>112.84</td>\n      <td>0</td>\n      <td>0</td>\n      <td>0.0000</td>\n      <td>0.0000</td>\n      <td>0.0</td>\n      <td>450.320</td>\n      <td>469.772</td>\n    </tr>\n    <tr>\n      <th>2018-01-16 09:30:00</th>\n      <td>112.85</td>\n      <td>112.85</td>\n      <td>112.16</td>\n      <td>112.42</td>\n      <td>0.0</td>\n      <td>0.0</td>\n      <td>0.0</td>\n      <td>0.0</td>\n      <td>0.0</td>\n      <td>112.76</td>\n      <td>112.80</td>\n      <td>0</td>\n      <td>0</td>\n      <td>-0.0458</td>\n      <td>0.0458</td>\n      <td>0.0</td>\n      <td>302.400</td>\n      <td>396.757</td>\n    </tr>\n    <tr>\n      <th>2018-01-16 09:45:00</th>\n      <td>112.42</td>\n      <td>112.79</td>\n      <td>112.33</td>\n      <td>112.66</td>\n      <td>0.0</td>\n      <td>0.0</td>\n      <td>0.0</td>\n      <td>0.0</td>\n      <td>0.0</td>\n      <td>112.74</td>\n      <td>112.79</td>\n      <td>0</td>\n      <td>0</td>\n      <td>-0.0521</td>\n      <td>0.0063</td>\n      <td>0.0</td>\n      <td>278.542</td>\n      <td>334.117</td>\n    </tr>\n    <tr>\n      <th>2018-01-16 10:00:00</th>\n      <td>112.66</td>\n      <td>112.67</td>\n      <td>112.27</td>\n      <td>112.34</td>\n      <td>0.0</td>\n      <td>0.0</td>\n      <td>0.0</td>\n      <td>0.0</td>\n      <td>0.0</td>\n      <td>112.66</td>\n      <td>112.75</td>\n      <td>0</td>\n      <td>0</td>\n      <td>-0.0907</td>\n      <td>0.0385</td>\n      <td>0.0</td>\n      <td>227.242</td>\n      <td>225.156</td>\n    </tr>\n  </tbody>\n</table>\n</div>"
     },
     "metadata": {},
     "execution_count": 10
    }
   ],
   "source": [
    "ts_file_df.dropna(inplace=True)\n",
    "ts_file_df.head()"
   ]
  },
  {
   "cell_type": "code",
   "execution_count": 11,
   "metadata": {},
   "outputs": [
    {
     "output_type": "stream",
     "name": "stdout",
     "text": [
      "Training Start: 2018-01-16\nTraining End: 2019-01-11\nTesting Start: 2019-01-12\nTesting End: 2019-06-12\nvalidating Start: 2019-06-13\nvalidating end: 2020-01-12\n"
     ]
    }
   ],
   "source": [
    "# Construct training start and training end dates\n",
    "\n",
    "training_start = ts_file_df.index.min().strftime(format='%Y-%m-%d')\n",
    "training_end = '2019-01-11'\n",
    "\n",
    "# Construct test start and test end dates\n",
    "\n",
    "testing_start = '2019-01-12'\n",
    "testing_end = '2019-06-12'\n",
    "\n",
    "# Construct validating start and validating end dates\n",
    "\n",
    "vali_start = '2019-06-13'\n",
    "vali_end = '2020-01-12'\n",
    "\n",
    "# Confirming training, testing and validating dates\n",
    "print(f\"Training Start: {training_start}\")\n",
    "print(f\"Training End: {training_end}\")\n",
    "print(f\"Testing Start: {testing_start}\")\n",
    "print(f\"Testing End: {testing_end}\")\n",
    "print(f\"validating Start: {vali_start}\")\n",
    "print(f\"validating end: {vali_end}\")"
   ]
  },
  {
   "cell_type": "code",
   "execution_count": 12,
   "metadata": {},
   "outputs": [
    {
     "output_type": "execute_result",
     "data": {
      "text/plain": [
       "                       Open    High     Low   Close  kcup  kclo  MidLine  \\\n",
       "Date_Time                                                                  \n",
       "2018-01-16 09:00:00  111.51  113.17  111.35  113.13   0.0   0.0      0.0   \n",
       "2018-01-16 09:15:00  113.14  113.43  112.70  112.84   0.0   0.0      0.0   \n",
       "2018-01-16 09:30:00  112.85  112.85  112.16  112.42   0.0   0.0      0.0   \n",
       "2018-01-16 09:45:00  112.42  112.79  112.33  112.66   0.0   0.0      0.0   \n",
       "2018-01-16 10:00:00  112.66  112.67  112.27  112.34   0.0   0.0      0.0   \n",
       "\n",
       "                     bbup  bblo  FastEMA  SlowEMA  emas_dist  delta_dist  ATR  \n",
       "Date_Time                                                                      \n",
       "2018-01-16 09:00:00   0.0   0.0     0.00     0.00     0.0000      0.0000  0.0  \n",
       "2018-01-16 09:15:00   0.0   0.0   112.84   112.84     0.0000      0.0000  0.0  \n",
       "2018-01-16 09:30:00   0.0   0.0   112.76   112.80    -0.0458      0.0458  0.0  \n",
       "2018-01-16 09:45:00   0.0   0.0   112.74   112.79    -0.0521      0.0063  0.0  \n",
       "2018-01-16 10:00:00   0.0   0.0   112.66   112.75    -0.0907      0.0385  0.0  "
      ],
      "text/html": "<div>\n<style scoped>\n    .dataframe tbody tr th:only-of-type {\n        vertical-align: middle;\n    }\n\n    .dataframe tbody tr th {\n        vertical-align: top;\n    }\n\n    .dataframe thead th {\n        text-align: right;\n    }\n</style>\n<table border=\"1\" class=\"dataframe\">\n  <thead>\n    <tr style=\"text-align: right;\">\n      <th></th>\n      <th>Open</th>\n      <th>High</th>\n      <th>Low</th>\n      <th>Close</th>\n      <th>kcup</th>\n      <th>kclo</th>\n      <th>MidLine</th>\n      <th>bbup</th>\n      <th>bblo</th>\n      <th>FastEMA</th>\n      <th>SlowEMA</th>\n      <th>emas_dist</th>\n      <th>delta_dist</th>\n      <th>ATR</th>\n    </tr>\n    <tr>\n      <th>Date_Time</th>\n      <th></th>\n      <th></th>\n      <th></th>\n      <th></th>\n      <th></th>\n      <th></th>\n      <th></th>\n      <th></th>\n      <th></th>\n      <th></th>\n      <th></th>\n      <th></th>\n      <th></th>\n      <th></th>\n    </tr>\n  </thead>\n  <tbody>\n    <tr>\n      <th>2018-01-16 09:00:00</th>\n      <td>111.51</td>\n      <td>113.17</td>\n      <td>111.35</td>\n      <td>113.13</td>\n      <td>0.0</td>\n      <td>0.0</td>\n      <td>0.0</td>\n      <td>0.0</td>\n      <td>0.0</td>\n      <td>0.00</td>\n      <td>0.00</td>\n      <td>0.0000</td>\n      <td>0.0000</td>\n      <td>0.0</td>\n    </tr>\n    <tr>\n      <th>2018-01-16 09:15:00</th>\n      <td>113.14</td>\n      <td>113.43</td>\n      <td>112.70</td>\n      <td>112.84</td>\n      <td>0.0</td>\n      <td>0.0</td>\n      <td>0.0</td>\n      <td>0.0</td>\n      <td>0.0</td>\n      <td>112.84</td>\n      <td>112.84</td>\n      <td>0.0000</td>\n      <td>0.0000</td>\n      <td>0.0</td>\n    </tr>\n    <tr>\n      <th>2018-01-16 09:30:00</th>\n      <td>112.85</td>\n      <td>112.85</td>\n      <td>112.16</td>\n      <td>112.42</td>\n      <td>0.0</td>\n      <td>0.0</td>\n      <td>0.0</td>\n      <td>0.0</td>\n      <td>0.0</td>\n      <td>112.76</td>\n      <td>112.80</td>\n      <td>-0.0458</td>\n      <td>0.0458</td>\n      <td>0.0</td>\n    </tr>\n    <tr>\n      <th>2018-01-16 09:45:00</th>\n      <td>112.42</td>\n      <td>112.79</td>\n      <td>112.33</td>\n      <td>112.66</td>\n      <td>0.0</td>\n      <td>0.0</td>\n      <td>0.0</td>\n      <td>0.0</td>\n      <td>0.0</td>\n      <td>112.74</td>\n      <td>112.79</td>\n      <td>-0.0521</td>\n      <td>0.0063</td>\n      <td>0.0</td>\n    </tr>\n    <tr>\n      <th>2018-01-16 10:00:00</th>\n      <td>112.66</td>\n      <td>112.67</td>\n      <td>112.27</td>\n      <td>112.34</td>\n      <td>0.0</td>\n      <td>0.0</td>\n      <td>0.0</td>\n      <td>0.0</td>\n      <td>0.0</td>\n      <td>112.66</td>\n      <td>112.75</td>\n      <td>-0.0907</td>\n      <td>0.0385</td>\n      <td>0.0</td>\n    </tr>\n  </tbody>\n</table>\n</div>"
     },
     "metadata": {},
     "execution_count": 12
    }
   ],
   "source": [
    "# Construct the X_train and y_train datasets\n",
    "X_train = ts_file_df[x_var_list_new][training_start:training_end]\n",
    "y_train = ts_file_df['emax_signal'][training_start:training_end]\n",
    "\n",
    "X_train.head()"
   ]
  },
  {
   "cell_type": "code",
   "execution_count": 13,
   "metadata": {},
   "outputs": [
    {
     "output_type": "execute_result",
     "data": {
      "text/plain": [
       "Date_Time\n",
       "2019-01-11 14:00:00    0\n",
       "2019-01-11 14:15:00    0\n",
       "2019-01-11 14:30:00    0\n",
       "2019-01-11 14:45:00    0\n",
       "2019-01-11 15:00:00    0\n",
       "Name: emax_signal, dtype: int64"
      ]
     },
     "metadata": {},
     "execution_count": 13
    }
   ],
   "source": [
    "y_train.tail()"
   ]
  },
  {
   "cell_type": "code",
   "execution_count": 14,
   "metadata": {},
   "outputs": [
    {
     "output_type": "execute_result",
     "data": {
      "text/plain": [
       "                       Open    High     Low   Close    kcup   kclo  MidLine  \\\n",
       "Date_Time                                                                     \n",
       "2019-01-14 08:45:00  100.09  100.16   99.88   99.93  100.32  99.54    99.93   \n",
       "2019-01-14 09:00:00   98.85  100.07   98.66  100.00  100.45  99.47    99.96   \n",
       "2019-01-14 09:15:00   99.98  100.22   99.73  100.14  100.50  99.47    99.98   \n",
       "2019-01-14 09:30:00  100.15  100.94  100.08  100.88  100.61  99.46   100.04   \n",
       "2019-01-14 09:45:00  100.88  101.01  100.43  100.68  100.68  99.46   100.07   \n",
       "\n",
       "                       bbup   bblo  FastEMA  SlowEMA  emas_dist  delta_dist  \\\n",
       "Date_Time                                                                     \n",
       "2019-01-14 08:45:00  100.22  99.64    99.99    99.95     0.0365      0.0124   \n",
       "2019-01-14 09:00:00  100.14  99.78    99.99    99.96     0.0345      0.0021   \n",
       "2019-01-14 09:15:00  100.12  99.85   100.02    99.97     0.0476      0.0131   \n",
       "2019-01-14 09:30:00  100.44  99.63   100.19   100.06     0.1370      0.0894   \n",
       "2019-01-14 09:45:00  100.56  99.58   100.29   100.11     0.1778      0.0407   \n",
       "\n",
       "                        ATR  \n",
       "Date_Time                    \n",
       "2019-01-14 08:45:00  0.1930  \n",
       "2019-01-14 09:00:00  0.2460  \n",
       "2019-01-14 09:15:00  0.2565  \n",
       "2019-01-14 09:30:00  0.2860  \n",
       "2019-01-14 09:45:00  0.3050  "
      ],
      "text/html": "<div>\n<style scoped>\n    .dataframe tbody tr th:only-of-type {\n        vertical-align: middle;\n    }\n\n    .dataframe tbody tr th {\n        vertical-align: top;\n    }\n\n    .dataframe thead th {\n        text-align: right;\n    }\n</style>\n<table border=\"1\" class=\"dataframe\">\n  <thead>\n    <tr style=\"text-align: right;\">\n      <th></th>\n      <th>Open</th>\n      <th>High</th>\n      <th>Low</th>\n      <th>Close</th>\n      <th>kcup</th>\n      <th>kclo</th>\n      <th>MidLine</th>\n      <th>bbup</th>\n      <th>bblo</th>\n      <th>FastEMA</th>\n      <th>SlowEMA</th>\n      <th>emas_dist</th>\n      <th>delta_dist</th>\n      <th>ATR</th>\n    </tr>\n    <tr>\n      <th>Date_Time</th>\n      <th></th>\n      <th></th>\n      <th></th>\n      <th></th>\n      <th></th>\n      <th></th>\n      <th></th>\n      <th></th>\n      <th></th>\n      <th></th>\n      <th></th>\n      <th></th>\n      <th></th>\n      <th></th>\n    </tr>\n  </thead>\n  <tbody>\n    <tr>\n      <th>2019-01-14 08:45:00</th>\n      <td>100.09</td>\n      <td>100.16</td>\n      <td>99.88</td>\n      <td>99.93</td>\n      <td>100.32</td>\n      <td>99.54</td>\n      <td>99.93</td>\n      <td>100.22</td>\n      <td>99.64</td>\n      <td>99.99</td>\n      <td>99.95</td>\n      <td>0.0365</td>\n      <td>0.0124</td>\n      <td>0.1930</td>\n    </tr>\n    <tr>\n      <th>2019-01-14 09:00:00</th>\n      <td>98.85</td>\n      <td>100.07</td>\n      <td>98.66</td>\n      <td>100.00</td>\n      <td>100.45</td>\n      <td>99.47</td>\n      <td>99.96</td>\n      <td>100.14</td>\n      <td>99.78</td>\n      <td>99.99</td>\n      <td>99.96</td>\n      <td>0.0345</td>\n      <td>0.0021</td>\n      <td>0.2460</td>\n    </tr>\n    <tr>\n      <th>2019-01-14 09:15:00</th>\n      <td>99.98</td>\n      <td>100.22</td>\n      <td>99.73</td>\n      <td>100.14</td>\n      <td>100.50</td>\n      <td>99.47</td>\n      <td>99.98</td>\n      <td>100.12</td>\n      <td>99.85</td>\n      <td>100.02</td>\n      <td>99.97</td>\n      <td>0.0476</td>\n      <td>0.0131</td>\n      <td>0.2565</td>\n    </tr>\n    <tr>\n      <th>2019-01-14 09:30:00</th>\n      <td>100.15</td>\n      <td>100.94</td>\n      <td>100.08</td>\n      <td>100.88</td>\n      <td>100.61</td>\n      <td>99.46</td>\n      <td>100.04</td>\n      <td>100.44</td>\n      <td>99.63</td>\n      <td>100.19</td>\n      <td>100.06</td>\n      <td>0.1370</td>\n      <td>0.0894</td>\n      <td>0.2860</td>\n    </tr>\n    <tr>\n      <th>2019-01-14 09:45:00</th>\n      <td>100.88</td>\n      <td>101.01</td>\n      <td>100.43</td>\n      <td>100.68</td>\n      <td>100.68</td>\n      <td>99.46</td>\n      <td>100.07</td>\n      <td>100.56</td>\n      <td>99.58</td>\n      <td>100.29</td>\n      <td>100.11</td>\n      <td>0.1778</td>\n      <td>0.0407</td>\n      <td>0.3050</td>\n    </tr>\n  </tbody>\n</table>\n</div>"
     },
     "metadata": {},
     "execution_count": 14
    }
   ],
   "source": [
    "# Construct the X test and y test datasets\n",
    "\n",
    "X_test = ts_file_df[x_var_list_new][testing_start:testing_end]\n",
    "y_test = ts_file_df['emax_signal'][testing_start:testing_end]\n",
    "\n",
    "X_test.head()"
   ]
  },
  {
   "cell_type": "code",
   "execution_count": 15,
   "metadata": {},
   "outputs": [
    {
     "output_type": "execute_result",
     "data": {
      "text/plain": [
       "Date_Time\n",
       "2019-01-14 08:45:00    0\n",
       "2019-01-14 09:00:00    0\n",
       "2019-01-14 09:15:00    0\n",
       "2019-01-14 09:30:00    0\n",
       "2019-01-14 09:45:00    0\n",
       "Name: emax_signal, dtype: int64"
      ]
     },
     "metadata": {},
     "execution_count": 15
    }
   ],
   "source": [
    "y_test.head()"
   ]
  },
  {
   "cell_type": "code",
   "execution_count": 16,
   "metadata": {},
   "outputs": [
    {
     "output_type": "execute_result",
     "data": {
      "text/plain": [
       "                       Open    High     Low   Close    kcup    kclo  MidLine  \\\n",
       "Date_Time                                                                      \n",
       "2019-06-13 08:45:00  109.01  109.30  109.00  109.27  109.66  108.71   109.18   \n",
       "2019-06-13 09:00:00  109.46  110.09  109.39  110.06  109.74  108.69   109.22   \n",
       "2019-06-13 09:15:00  110.07  110.16  109.69  109.85  109.79  108.69   109.24   \n",
       "2019-06-13 09:30:00  109.85  109.99  109.43  109.43  109.81  108.69   109.25   \n",
       "2019-06-13 09:45:00  109.43  109.56  109.32  109.46  109.83  108.72   109.28   \n",
       "\n",
       "                       bbup    bblo  FastEMA  SlowEMA  emas_dist  delta_dist  \\\n",
       "Date_Time                                                                      \n",
       "2019-06-13 08:45:00  109.44  108.92   109.19   109.36    -0.1641      0.0280   \n",
       "2019-06-13 09:00:00  109.67  108.76   109.37   109.42    -0.0545      0.1096   \n",
       "2019-06-13 09:15:00  109.76  108.71   109.46   109.46     0.0033      0.0578   \n",
       "2019-06-13 09:30:00  109.78  108.72   109.46   109.46    -0.0006      0.0039   \n",
       "2019-06-13 09:45:00  109.79  108.76   109.46   109.46    -0.0002      0.0005   \n",
       "\n",
       "                        ATR  \n",
       "Date_Time                    \n",
       "2019-06-13 08:45:00  0.2375  \n",
       "2019-06-13 09:00:00  0.2625  \n",
       "2019-06-13 09:15:00  0.2740  \n",
       "2019-06-13 09:30:00  0.2790  \n",
       "2019-06-13 09:45:00  0.2775  "
      ],
      "text/html": "<div>\n<style scoped>\n    .dataframe tbody tr th:only-of-type {\n        vertical-align: middle;\n    }\n\n    .dataframe tbody tr th {\n        vertical-align: top;\n    }\n\n    .dataframe thead th {\n        text-align: right;\n    }\n</style>\n<table border=\"1\" class=\"dataframe\">\n  <thead>\n    <tr style=\"text-align: right;\">\n      <th></th>\n      <th>Open</th>\n      <th>High</th>\n      <th>Low</th>\n      <th>Close</th>\n      <th>kcup</th>\n      <th>kclo</th>\n      <th>MidLine</th>\n      <th>bbup</th>\n      <th>bblo</th>\n      <th>FastEMA</th>\n      <th>SlowEMA</th>\n      <th>emas_dist</th>\n      <th>delta_dist</th>\n      <th>ATR</th>\n    </tr>\n    <tr>\n      <th>Date_Time</th>\n      <th></th>\n      <th></th>\n      <th></th>\n      <th></th>\n      <th></th>\n      <th></th>\n      <th></th>\n      <th></th>\n      <th></th>\n      <th></th>\n      <th></th>\n      <th></th>\n      <th></th>\n      <th></th>\n    </tr>\n  </thead>\n  <tbody>\n    <tr>\n      <th>2019-06-13 08:45:00</th>\n      <td>109.01</td>\n      <td>109.30</td>\n      <td>109.00</td>\n      <td>109.27</td>\n      <td>109.66</td>\n      <td>108.71</td>\n      <td>109.18</td>\n      <td>109.44</td>\n      <td>108.92</td>\n      <td>109.19</td>\n      <td>109.36</td>\n      <td>-0.1641</td>\n      <td>0.0280</td>\n      <td>0.2375</td>\n    </tr>\n    <tr>\n      <th>2019-06-13 09:00:00</th>\n      <td>109.46</td>\n      <td>110.09</td>\n      <td>109.39</td>\n      <td>110.06</td>\n      <td>109.74</td>\n      <td>108.69</td>\n      <td>109.22</td>\n      <td>109.67</td>\n      <td>108.76</td>\n      <td>109.37</td>\n      <td>109.42</td>\n      <td>-0.0545</td>\n      <td>0.1096</td>\n      <td>0.2625</td>\n    </tr>\n    <tr>\n      <th>2019-06-13 09:15:00</th>\n      <td>110.07</td>\n      <td>110.16</td>\n      <td>109.69</td>\n      <td>109.85</td>\n      <td>109.79</td>\n      <td>108.69</td>\n      <td>109.24</td>\n      <td>109.76</td>\n      <td>108.71</td>\n      <td>109.46</td>\n      <td>109.46</td>\n      <td>0.0033</td>\n      <td>0.0578</td>\n      <td>0.2740</td>\n    </tr>\n    <tr>\n      <th>2019-06-13 09:30:00</th>\n      <td>109.85</td>\n      <td>109.99</td>\n      <td>109.43</td>\n      <td>109.43</td>\n      <td>109.81</td>\n      <td>108.69</td>\n      <td>109.25</td>\n      <td>109.78</td>\n      <td>108.72</td>\n      <td>109.46</td>\n      <td>109.46</td>\n      <td>-0.0006</td>\n      <td>0.0039</td>\n      <td>0.2790</td>\n    </tr>\n    <tr>\n      <th>2019-06-13 09:45:00</th>\n      <td>109.43</td>\n      <td>109.56</td>\n      <td>109.32</td>\n      <td>109.46</td>\n      <td>109.83</td>\n      <td>108.72</td>\n      <td>109.28</td>\n      <td>109.79</td>\n      <td>108.76</td>\n      <td>109.46</td>\n      <td>109.46</td>\n      <td>-0.0002</td>\n      <td>0.0005</td>\n      <td>0.2775</td>\n    </tr>\n  </tbody>\n</table>\n</div>"
     },
     "metadata": {},
     "execution_count": 16
    }
   ],
   "source": [
    "# Construct the X valid and y validation datasets\n",
    "\n",
    "X_vali = ts_file_df[x_var_list_new][vali_start:vali_end]\n",
    "y_vali = ts_file_df['emax_signal'][vali_start:vali_end]\n",
    "\n",
    "X_vali.head()"
   ]
  },
  {
   "cell_type": "code",
   "execution_count": 17,
   "metadata": {},
   "outputs": [
    {
     "output_type": "execute_result",
     "data": {
      "text/plain": [
       "Date_Time\n",
       "2020-01-10 14:00:00    0\n",
       "2020-01-10 14:15:00    0\n",
       "2020-01-10 14:30:00    0\n",
       "2020-01-10 14:45:00    0\n",
       "2020-01-10 15:00:00    0\n",
       "Name: emax_signal, dtype: int64"
      ]
     },
     "metadata": {},
     "execution_count": 17
    }
   ],
   "source": [
    "y_vali.tail()"
   ]
  },
  {
   "cell_type": "code",
   "execution_count": 18,
   "metadata": {},
   "outputs": [],
   "source": [
    "from collections import Counter\n",
    "from imblearn.under_sampling import RandomUnderSampler\n",
    "ros = RandomUnderSampler(random_state=1)"
   ]
  },
  {
   "cell_type": "code",
   "execution_count": 19,
   "metadata": {},
   "outputs": [
    {
     "output_type": "execute_result",
     "data": {
      "text/plain": [
       "Counter({0: 143, 1: 143})"
      ]
     },
     "metadata": {},
     "execution_count": 19
    }
   ],
   "source": [
    "X_resampled, y_resampled = ros.fit_resample(X_train, y_train)\n",
    "Counter(y_resampled)"
   ]
  },
  {
   "cell_type": "code",
   "execution_count": 20,
   "metadata": {},
   "outputs": [],
   "source": [
    "# StandardScaler \n",
    "from sklearn.preprocessing import StandardScaler\n",
    "from sklearn.model_selection import train_test_split\n",
    "from sklearn.metrics import confusion_matrix, accuracy_score, classification_report"
   ]
  },
  {
   "cell_type": "code",
   "execution_count": 21,
   "metadata": {},
   "outputs": [],
   "source": [
    "# Creating the StandardScaler instant \n",
    "scaler = StandardScaler()"
   ]
  },
  {
   "cell_type": "code",
   "execution_count": 22,
   "metadata": {},
   "outputs": [],
   "source": [
    "# Feeding StandardScaler for X_train, X_test, X_vali\n",
    "X_scaler_train = scaler.fit(X_resampled)"
   ]
  },
  {
   "cell_type": "code",
   "execution_count": 23,
   "metadata": {},
   "outputs": [],
   "source": [
    "# Scaling the data \n",
    "X_train_scaled = X_scaler_train.transform(X_resampled)"
   ]
  },
  {
   "cell_type": "code",
   "execution_count": 24,
   "metadata": {},
   "outputs": [],
   "source": [
    "X_test_scaled = X_scaler_train.transform(X_test)"
   ]
  },
  {
   "cell_type": "code",
   "execution_count": 25,
   "metadata": {},
   "outputs": [],
   "source": [
    "X_vali_scaled = X_scaler_train.transform(X_vali)"
   ]
  },
  {
   "cell_type": "code",
   "execution_count": 26,
   "metadata": {},
   "outputs": [],
   "source": [
    "# Import SKLearn library and Classes\n",
    "from sklearn.ensemble import RandomForestClassifier\n",
    "from sklearn.datasets import make_classification"
   ]
  },
  {
   "cell_type": "code",
   "execution_count": 27,
   "metadata": {},
   "outputs": [
    {
     "output_type": "execute_result",
     "data": {
      "text/plain": [
       "RandomForestClassifier(max_depth=20, n_estimators=1000, random_state=1)"
      ]
     },
     "metadata": {},
     "execution_count": 27
    }
   ],
   "source": [
    "# Fit SKLearn regression with training datasets:\n",
    "model = RandomForestClassifier(n_estimators=1000, max_depth=20, random_state=1)\n",
    "model.fit(X_train_scaled, y_resampled)"
   ]
  },
  {
   "cell_type": "code",
   "execution_count": 28,
   "metadata": {},
   "outputs": [],
   "source": [
    "# Make predictions of \"y\" values from the X_test dataset\n",
    "predictions = model.predict(X_test_scaled)"
   ]
  },
  {
   "cell_type": "code",
   "execution_count": 29,
   "metadata": {},
   "outputs": [
    {
     "output_type": "execute_result",
     "data": {
      "text/plain": [
       "                     emax_signal  predict_emax\n",
       "Date_Time                                     \n",
       "2019-01-14 08:45:00            0             0\n",
       "2019-01-14 09:00:00            0             0\n",
       "2019-01-14 09:15:00            0             0\n",
       "2019-01-14 09:30:00            0             0\n",
       "2019-01-14 09:45:00            0             0\n",
       "...                          ...           ...\n",
       "2019-06-12 14:00:00            0             0\n",
       "2019-06-12 14:15:00            0             0\n",
       "2019-06-12 14:30:00            0             0\n",
       "2019-06-12 14:45:00            0             0\n",
       "2019-06-12 15:00:00            0             0\n",
       "\n",
       "[2704 rows x 2 columns]"
      ],
      "text/html": "<div>\n<style scoped>\n    .dataframe tbody tr th:only-of-type {\n        vertical-align: middle;\n    }\n\n    .dataframe tbody tr th {\n        vertical-align: top;\n    }\n\n    .dataframe thead th {\n        text-align: right;\n    }\n</style>\n<table border=\"1\" class=\"dataframe\">\n  <thead>\n    <tr style=\"text-align: right;\">\n      <th></th>\n      <th>emax_signal</th>\n      <th>predict_emax</th>\n    </tr>\n    <tr>\n      <th>Date_Time</th>\n      <th></th>\n      <th></th>\n    </tr>\n  </thead>\n  <tbody>\n    <tr>\n      <th>2019-01-14 08:45:00</th>\n      <td>0</td>\n      <td>0</td>\n    </tr>\n    <tr>\n      <th>2019-01-14 09:00:00</th>\n      <td>0</td>\n      <td>0</td>\n    </tr>\n    <tr>\n      <th>2019-01-14 09:15:00</th>\n      <td>0</td>\n      <td>0</td>\n    </tr>\n    <tr>\n      <th>2019-01-14 09:30:00</th>\n      <td>0</td>\n      <td>0</td>\n    </tr>\n    <tr>\n      <th>2019-01-14 09:45:00</th>\n      <td>0</td>\n      <td>0</td>\n    </tr>\n    <tr>\n      <th>...</th>\n      <td>...</td>\n      <td>...</td>\n    </tr>\n    <tr>\n      <th>2019-06-12 14:00:00</th>\n      <td>0</td>\n      <td>0</td>\n    </tr>\n    <tr>\n      <th>2019-06-12 14:15:00</th>\n      <td>0</td>\n      <td>0</td>\n    </tr>\n    <tr>\n      <th>2019-06-12 14:30:00</th>\n      <td>0</td>\n      <td>0</td>\n    </tr>\n    <tr>\n      <th>2019-06-12 14:45:00</th>\n      <td>0</td>\n      <td>0</td>\n    </tr>\n    <tr>\n      <th>2019-06-12 15:00:00</th>\n      <td>0</td>\n      <td>0</td>\n    </tr>\n  </tbody>\n</table>\n<p>2704 rows × 2 columns</p>\n</div>"
     },
     "metadata": {},
     "execution_count": 29
    }
   ],
   "source": [
    "# Assemble actual y_test with predicted values\n",
    "\n",
    "compare_predict_df = y_test.to_frame()\n",
    "compare_predict_df[\"predict_emax\"] = predictions\n",
    "\n",
    "compare_predict_df"
   ]
  },
  {
   "cell_type": "code",
   "execution_count": 30,
   "metadata": {},
   "outputs": [
    {
     "output_type": "execute_result",
     "data": {
      "text/plain": [
       "['random_forest_model_emax_version2.joblib']"
      ]
     },
     "metadata": {},
     "execution_count": 30
    }
   ],
   "source": [
    "# Save the pre-trained model\n",
    "from joblib import dump, load\n",
    "dump(model, 'random_forest_model_emax_version2.joblib')"
   ]
  },
  {
   "cell_type": "code",
   "execution_count": 31,
   "metadata": {},
   "outputs": [
    {
     "output_type": "execute_result",
     "data": {
      "text/plain": [
       "array([[-1.79956096, -1.8461096 , -1.79827999, ...,  0.19948339,\n",
       "        -0.69033157, -1.29724346],\n",
       "       [-2.0277849 , -1.86281348, -2.02154926, ...,  0.19056647,\n",
       "        -0.92617991, -0.92892128],\n",
       "       [-1.81980663, -1.83497368, -1.82573113, ...,  0.2489723 ,\n",
       "        -0.67430304, -0.85595179],\n",
       "       ...,\n",
       "       [-0.09340295, -0.133034  , -0.09081912, ..., -0.82328754,\n",
       "        -0.44532407, -0.99494129],\n",
       "       [-0.11180811, -0.15530584, -0.11644018, ..., -0.79609093,\n",
       "        -0.83458832, -1.00189077],\n",
       "       [-0.1338943 , -0.16829775, -0.12925071, ..., -0.81972077,\n",
       "        -0.85290664, -0.99841603]])"
      ]
     },
     "metadata": {},
     "execution_count": 31
    }
   ],
   "source": [
    "X_test_scaled"
   ]
  },
  {
   "cell_type": "code",
   "execution_count": 32,
   "metadata": {},
   "outputs": [
    {
     "output_type": "execute_result",
     "data": {
      "text/plain": [
       "      0    1\n",
       "0  2174  460\n",
       "1     6   64"
      ],
      "text/html": "<div>\n<style scoped>\n    .dataframe tbody tr th:only-of-type {\n        vertical-align: middle;\n    }\n\n    .dataframe tbody tr th {\n        vertical-align: top;\n    }\n\n    .dataframe thead th {\n        text-align: right;\n    }\n</style>\n<table border=\"1\" class=\"dataframe\">\n  <thead>\n    <tr style=\"text-align: right;\">\n      <th></th>\n      <th>0</th>\n      <th>1</th>\n    </tr>\n  </thead>\n  <tbody>\n    <tr>\n      <th>0</th>\n      <td>2174</td>\n      <td>460</td>\n    </tr>\n    <tr>\n      <th>1</th>\n      <td>6</td>\n      <td>64</td>\n    </tr>\n  </tbody>\n</table>\n</div>"
     },
     "metadata": {},
     "execution_count": 32
    }
   ],
   "source": [
    "# Calculating the confusion matrix\n",
    "cm = confusion_matrix(y_test, predictions)\n",
    "cm_df = pd.DataFrame(cm)\n",
    "cm_df"
   ]
  },
  {
   "cell_type": "code",
   "execution_count": 33,
   "metadata": {},
   "outputs": [
    {
     "output_type": "execute_result",
     "data": {
      "text/plain": [
       "0.8276627218934911"
      ]
     },
     "metadata": {},
     "execution_count": 33
    }
   ],
   "source": [
    "# Calculating the accuracy score\n",
    "acc_score = accuracy_score(y_test, predictions)\n",
    "acc_score"
   ]
  },
  {
   "cell_type": "code",
   "execution_count": 34,
   "metadata": {},
   "outputs": [
    {
     "output_type": "stream",
     "name": "stdout",
     "text": [
      "Confusion Matrix\n"
     ]
    },
    {
     "output_type": "display_data",
     "data": {
      "text/plain": "      0    1\n0  2174  460\n1     6   64",
      "text/html": "<div>\n<style scoped>\n    .dataframe tbody tr th:only-of-type {\n        vertical-align: middle;\n    }\n\n    .dataframe tbody tr th {\n        vertical-align: top;\n    }\n\n    .dataframe thead th {\n        text-align: right;\n    }\n</style>\n<table border=\"1\" class=\"dataframe\">\n  <thead>\n    <tr style=\"text-align: right;\">\n      <th></th>\n      <th>0</th>\n      <th>1</th>\n    </tr>\n  </thead>\n  <tbody>\n    <tr>\n      <th>0</th>\n      <td>2174</td>\n      <td>460</td>\n    </tr>\n    <tr>\n      <th>1</th>\n      <td>6</td>\n      <td>64</td>\n    </tr>\n  </tbody>\n</table>\n</div>"
     },
     "metadata": {}
    },
    {
     "output_type": "stream",
     "name": "stdout",
     "text": [
      "Accuracy Score 0.8276627218934911\n              precision    recall  f1-score   support\n\n           0       1.00      0.83      0.90      2634\n           1       0.12      0.91      0.22        70\n\n    accuracy                           0.83      2704\n   macro avg       0.56      0.87      0.56      2704\nweighted avg       0.97      0.83      0.89      2704\n\n"
     ]
    }
   ],
   "source": [
    "# Display results\n",
    "print(\"Confusion Matrix\")\n",
    "display(cm_df)\n",
    "print(f\"Accuracy Score {acc_score}\")\n",
    "print(classification_report(y_test, predictions))"
   ]
  },
  {
   "cell_type": "code",
   "execution_count": 35,
   "metadata": {},
   "outputs": [],
   "source": [
    "from sklearn.metrics import ConfusionMatrixDisplay"
   ]
  },
  {
   "cell_type": "code",
   "execution_count": 36,
   "metadata": {},
   "outputs": [
    {
     "output_type": "display_data",
     "data": {
      "text/plain": "<Figure size 432x288 with 2 Axes>",
      "image/svg+xml": "<?xml version=\"1.0\" encoding=\"utf-8\" standalone=\"no\"?>\r\n<!DOCTYPE svg PUBLIC \"-//W3C//DTD SVG 1.1//EN\"\r\n  \"http://www.w3.org/Graphics/SVG/1.1/DTD/svg11.dtd\">\r\n<!-- Created with matplotlib (https://matplotlib.org/) -->\r\n<svg height=\"262.19625pt\" version=\"1.1\" viewBox=\"0 0 318.942625 262.19625\" width=\"318.942625pt\" xmlns=\"http://www.w3.org/2000/svg\" xmlns:xlink=\"http://www.w3.org/1999/xlink\">\r\n <defs>\r\n  <style type=\"text/css\">\r\n*{stroke-linecap:butt;stroke-linejoin:round;}\r\n  </style>\r\n </defs>\r\n <g id=\"figure_1\">\r\n  <g id=\"patch_1\">\r\n   <path d=\"M 0 262.19625 \r\nL 318.942625 262.19625 \r\nL 318.942625 0 \r\nL 0 0 \r\nz\r\n\" style=\"fill:none;\"/>\r\n  </g>\r\n  <g id=\"axes_1\">\r\n   <g id=\"patch_2\">\r\n    <path d=\"M 34.240625 224.64 \r\nL 251.680625 224.64 \r\nL 251.680625 7.2 \r\nL 34.240625 7.2 \r\nz\r\n\" style=\"fill:#ffffff;\"/>\r\n   </g>\r\n   <g clip-path=\"url(#p78464216c2)\">\r\n    <image height=\"218\" id=\"imageec3388af5f\" transform=\"scale(1 -1)translate(0 -218)\" width=\"218\" x=\"34.240625\" xlink:href=\"data:image/png;base64,\r\niVBORw0KGgoAAAANSUhEUgAAANoAAADaCAYAAADAHVzbAAAABHNCSVQICAgIfAhkiAAAAphJREFUeJzt1UENg1AURUHognRRK1WABER1V0fVUUmggc35IcwouMnLyZs/63OfuJTX4mRX8xg9AO5AaBAQGgSEBgGhQUBoEBAaBIQGAaFBQGgQEBoEhAYBoUFAaBAQGgSEBgGhQUBoEBAaBIQGAaFBQGgQEBoEhAYBoUFAaBAQGgSEBgGhQUBoEBAaBIQGAaFBQGgQEBoEhAYBoUFAaBAQGgSEBgGhQUBoEBAaBIQGAaFBQGgQEBoEhAYBoUFAaBAQGgSEBgGhQUBoEBAaBIQGAaFBQGgQEBoEhAYBoUFAaBAQGgSEBgGhQUBoEBAaBIQGAaFBQGgQEBoEhAYBoUFAaBAQGgSEBgGhQUBoEBAaBIQGAaFBQGgQEBoEhAYBoUFAaBAQGgSEBgGhQUBoEBAaBIQGAaFBQGgQEBoEhAYBoUFAaBAQGgSEBgGhQUBoEBAaBIQGAaFBQGgQEBoEhAaB+T1t++gRnPP7/kdP4CQfDQJCg4DQICA0CAgNAkKDgNAgIDQICA0CQoOA0CAgNAgIDQJCg4DQICA0CAgNAkKDgNAgIDQICA0CQoOA0CAgNAgIDQJCg4DQICA0CAgNAkKDgNAgIDQICA0CQoOA0CAgNAgIDQJCg4DQICA0CAgNAkKDgNAgIDQICA0CQoOA0CAgNAgIDQJCg4DQICA0CAgNAkKDgNAgIDQICA0CQoOA0CAgNAgIDQJCg4DQICA0CAgNAkKDgNAgIDQICA0CQoOA0CAgNAgIDQJCg4DQICA0CAgNAkKDgNAgIDQICA0CQoOA0CAgNAgIDQJCg4DQICA0CAgNAkKDgNAgIDQICA0CQoOA0CAgNAgIDQJCg4DQICA0CAgNAkKDgNAgIDQICA0CQoOA0CAgNAgcKuMIBv0uETYAAAAASUVORK5CYII=\" y=\"-6.64\"/>\r\n   </g>\r\n   <g id=\"matplotlib.axis_1\">\r\n    <g id=\"xtick_1\">\r\n     <g id=\"line2d_1\">\r\n      <defs>\r\n       <path d=\"M 0 0 \r\nL 0 3.5 \r\n\" id=\"m6be74ef465\" style=\"stroke:#000000;stroke-width:0.8;\"/>\r\n      </defs>\r\n      <g>\r\n       <use style=\"stroke:#000000;stroke-width:0.8;\" x=\"88.600625\" xlink:href=\"#m6be74ef465\" y=\"224.64\"/>\r\n      </g>\r\n     </g>\r\n     <g id=\"text_1\">\r\n      <!-- 0 -->\r\n      <defs>\r\n       <path d=\"M 31.78125 66.40625 \r\nQ 24.171875 66.40625 20.328125 58.90625 \r\nQ 16.5 51.421875 16.5 36.375 \r\nQ 16.5 21.390625 20.328125 13.890625 \r\nQ 24.171875 6.390625 31.78125 6.390625 \r\nQ 39.453125 6.390625 43.28125 13.890625 \r\nQ 47.125 21.390625 47.125 36.375 \r\nQ 47.125 51.421875 43.28125 58.90625 \r\nQ 39.453125 66.40625 31.78125 66.40625 \r\nz\r\nM 31.78125 74.21875 \r\nQ 44.046875 74.21875 50.515625 64.515625 \r\nQ 56.984375 54.828125 56.984375 36.375 \r\nQ 56.984375 17.96875 50.515625 8.265625 \r\nQ 44.046875 -1.421875 31.78125 -1.421875 \r\nQ 19.53125 -1.421875 13.0625 8.265625 \r\nQ 6.59375 17.96875 6.59375 36.375 \r\nQ 6.59375 54.828125 13.0625 64.515625 \r\nQ 19.53125 74.21875 31.78125 74.21875 \r\nz\r\n\" id=\"DejaVuSans-48\"/>\r\n      </defs>\r\n      <g transform=\"translate(85.419375 239.238437)scale(0.1 -0.1)\">\r\n       <use xlink:href=\"#DejaVuSans-48\"/>\r\n      </g>\r\n     </g>\r\n    </g>\r\n    <g id=\"xtick_2\">\r\n     <g id=\"line2d_2\">\r\n      <g>\r\n       <use style=\"stroke:#000000;stroke-width:0.8;\" x=\"197.320625\" xlink:href=\"#m6be74ef465\" y=\"224.64\"/>\r\n      </g>\r\n     </g>\r\n     <g id=\"text_2\">\r\n      <!-- 1 -->\r\n      <defs>\r\n       <path d=\"M 12.40625 8.296875 \r\nL 28.515625 8.296875 \r\nL 28.515625 63.921875 \r\nL 10.984375 60.40625 \r\nL 10.984375 69.390625 \r\nL 28.421875 72.90625 \r\nL 38.28125 72.90625 \r\nL 38.28125 8.296875 \r\nL 54.390625 8.296875 \r\nL 54.390625 0 \r\nL 12.40625 0 \r\nz\r\n\" id=\"DejaVuSans-49\"/>\r\n      </defs>\r\n      <g transform=\"translate(194.139375 239.238437)scale(0.1 -0.1)\">\r\n       <use xlink:href=\"#DejaVuSans-49\"/>\r\n      </g>\r\n     </g>\r\n    </g>\r\n    <g id=\"text_3\">\r\n     <!-- Predicted label -->\r\n     <defs>\r\n      <path d=\"M 19.671875 64.796875 \r\nL 19.671875 37.40625 \r\nL 32.078125 37.40625 \r\nQ 38.96875 37.40625 42.71875 40.96875 \r\nQ 46.484375 44.53125 46.484375 51.125 \r\nQ 46.484375 57.671875 42.71875 61.234375 \r\nQ 38.96875 64.796875 32.078125 64.796875 \r\nz\r\nM 9.8125 72.90625 \r\nL 32.078125 72.90625 \r\nQ 44.34375 72.90625 50.609375 67.359375 \r\nQ 56.890625 61.8125 56.890625 51.125 \r\nQ 56.890625 40.328125 50.609375 34.8125 \r\nQ 44.34375 29.296875 32.078125 29.296875 \r\nL 19.671875 29.296875 \r\nL 19.671875 0 \r\nL 9.8125 0 \r\nz\r\n\" id=\"DejaVuSans-80\"/>\r\n      <path d=\"M 41.109375 46.296875 \r\nQ 39.59375 47.171875 37.8125 47.578125 \r\nQ 36.03125 48 33.890625 48 \r\nQ 26.265625 48 22.1875 43.046875 \r\nQ 18.109375 38.09375 18.109375 28.8125 \r\nL 18.109375 0 \r\nL 9.078125 0 \r\nL 9.078125 54.6875 \r\nL 18.109375 54.6875 \r\nL 18.109375 46.1875 \r\nQ 20.953125 51.171875 25.484375 53.578125 \r\nQ 30.03125 56 36.53125 56 \r\nQ 37.453125 56 38.578125 55.875 \r\nQ 39.703125 55.765625 41.0625 55.515625 \r\nz\r\n\" id=\"DejaVuSans-114\"/>\r\n      <path d=\"M 56.203125 29.59375 \r\nL 56.203125 25.203125 \r\nL 14.890625 25.203125 \r\nQ 15.484375 15.921875 20.484375 11.0625 \r\nQ 25.484375 6.203125 34.421875 6.203125 \r\nQ 39.59375 6.203125 44.453125 7.46875 \r\nQ 49.3125 8.734375 54.109375 11.28125 \r\nL 54.109375 2.78125 \r\nQ 49.265625 0.734375 44.1875 -0.34375 \r\nQ 39.109375 -1.421875 33.890625 -1.421875 \r\nQ 20.796875 -1.421875 13.15625 6.1875 \r\nQ 5.515625 13.8125 5.515625 26.8125 \r\nQ 5.515625 40.234375 12.765625 48.109375 \r\nQ 20.015625 56 32.328125 56 \r\nQ 43.359375 56 49.78125 48.890625 \r\nQ 56.203125 41.796875 56.203125 29.59375 \r\nz\r\nM 47.21875 32.234375 \r\nQ 47.125 39.59375 43.09375 43.984375 \r\nQ 39.0625 48.390625 32.421875 48.390625 \r\nQ 24.90625 48.390625 20.390625 44.140625 \r\nQ 15.875 39.890625 15.1875 32.171875 \r\nz\r\n\" id=\"DejaVuSans-101\"/>\r\n      <path d=\"M 45.40625 46.390625 \r\nL 45.40625 75.984375 \r\nL 54.390625 75.984375 \r\nL 54.390625 0 \r\nL 45.40625 0 \r\nL 45.40625 8.203125 \r\nQ 42.578125 3.328125 38.25 0.953125 \r\nQ 33.9375 -1.421875 27.875 -1.421875 \r\nQ 17.96875 -1.421875 11.734375 6.484375 \r\nQ 5.515625 14.40625 5.515625 27.296875 \r\nQ 5.515625 40.1875 11.734375 48.09375 \r\nQ 17.96875 56 27.875 56 \r\nQ 33.9375 56 38.25 53.625 \r\nQ 42.578125 51.265625 45.40625 46.390625 \r\nz\r\nM 14.796875 27.296875 \r\nQ 14.796875 17.390625 18.875 11.75 \r\nQ 22.953125 6.109375 30.078125 6.109375 \r\nQ 37.203125 6.109375 41.296875 11.75 \r\nQ 45.40625 17.390625 45.40625 27.296875 \r\nQ 45.40625 37.203125 41.296875 42.84375 \r\nQ 37.203125 48.484375 30.078125 48.484375 \r\nQ 22.953125 48.484375 18.875 42.84375 \r\nQ 14.796875 37.203125 14.796875 27.296875 \r\nz\r\n\" id=\"DejaVuSans-100\"/>\r\n      <path d=\"M 9.421875 54.6875 \r\nL 18.40625 54.6875 \r\nL 18.40625 0 \r\nL 9.421875 0 \r\nz\r\nM 9.421875 75.984375 \r\nL 18.40625 75.984375 \r\nL 18.40625 64.59375 \r\nL 9.421875 64.59375 \r\nz\r\n\" id=\"DejaVuSans-105\"/>\r\n      <path d=\"M 48.78125 52.59375 \r\nL 48.78125 44.1875 \r\nQ 44.96875 46.296875 41.140625 47.34375 \r\nQ 37.3125 48.390625 33.40625 48.390625 \r\nQ 24.65625 48.390625 19.8125 42.84375 \r\nQ 14.984375 37.3125 14.984375 27.296875 \r\nQ 14.984375 17.28125 19.8125 11.734375 \r\nQ 24.65625 6.203125 33.40625 6.203125 \r\nQ 37.3125 6.203125 41.140625 7.25 \r\nQ 44.96875 8.296875 48.78125 10.40625 \r\nL 48.78125 2.09375 \r\nQ 45.015625 0.34375 40.984375 -0.53125 \r\nQ 36.96875 -1.421875 32.421875 -1.421875 \r\nQ 20.0625 -1.421875 12.78125 6.34375 \r\nQ 5.515625 14.109375 5.515625 27.296875 \r\nQ 5.515625 40.671875 12.859375 48.328125 \r\nQ 20.21875 56 33.015625 56 \r\nQ 37.15625 56 41.109375 55.140625 \r\nQ 45.0625 54.296875 48.78125 52.59375 \r\nz\r\n\" id=\"DejaVuSans-99\"/>\r\n      <path d=\"M 18.3125 70.21875 \r\nL 18.3125 54.6875 \r\nL 36.8125 54.6875 \r\nL 36.8125 47.703125 \r\nL 18.3125 47.703125 \r\nL 18.3125 18.015625 \r\nQ 18.3125 11.328125 20.140625 9.421875 \r\nQ 21.96875 7.515625 27.59375 7.515625 \r\nL 36.8125 7.515625 \r\nL 36.8125 0 \r\nL 27.59375 0 \r\nQ 17.1875 0 13.234375 3.875 \r\nQ 9.28125 7.765625 9.28125 18.015625 \r\nL 9.28125 47.703125 \r\nL 2.6875 47.703125 \r\nL 2.6875 54.6875 \r\nL 9.28125 54.6875 \r\nL 9.28125 70.21875 \r\nz\r\n\" id=\"DejaVuSans-116\"/>\r\n      <path id=\"DejaVuSans-32\"/>\r\n      <path d=\"M 9.421875 75.984375 \r\nL 18.40625 75.984375 \r\nL 18.40625 0 \r\nL 9.421875 0 \r\nz\r\n\" id=\"DejaVuSans-108\"/>\r\n      <path d=\"M 34.28125 27.484375 \r\nQ 23.390625 27.484375 19.1875 25 \r\nQ 14.984375 22.515625 14.984375 16.5 \r\nQ 14.984375 11.71875 18.140625 8.90625 \r\nQ 21.296875 6.109375 26.703125 6.109375 \r\nQ 34.1875 6.109375 38.703125 11.40625 \r\nQ 43.21875 16.703125 43.21875 25.484375 \r\nL 43.21875 27.484375 \r\nz\r\nM 52.203125 31.203125 \r\nL 52.203125 0 \r\nL 43.21875 0 \r\nL 43.21875 8.296875 \r\nQ 40.140625 3.328125 35.546875 0.953125 \r\nQ 30.953125 -1.421875 24.3125 -1.421875 \r\nQ 15.921875 -1.421875 10.953125 3.296875 \r\nQ 6 8.015625 6 15.921875 \r\nQ 6 25.140625 12.171875 29.828125 \r\nQ 18.359375 34.515625 30.609375 34.515625 \r\nL 43.21875 34.515625 \r\nL 43.21875 35.40625 \r\nQ 43.21875 41.609375 39.140625 45 \r\nQ 35.0625 48.390625 27.6875 48.390625 \r\nQ 23 48.390625 18.546875 47.265625 \r\nQ 14.109375 46.140625 10.015625 43.890625 \r\nL 10.015625 52.203125 \r\nQ 14.9375 54.109375 19.578125 55.046875 \r\nQ 24.21875 56 28.609375 56 \r\nQ 40.484375 56 46.34375 49.84375 \r\nQ 52.203125 43.703125 52.203125 31.203125 \r\nz\r\n\" id=\"DejaVuSans-97\"/>\r\n      <path d=\"M 48.6875 27.296875 \r\nQ 48.6875 37.203125 44.609375 42.84375 \r\nQ 40.53125 48.484375 33.40625 48.484375 \r\nQ 26.265625 48.484375 22.1875 42.84375 \r\nQ 18.109375 37.203125 18.109375 27.296875 \r\nQ 18.109375 17.390625 22.1875 11.75 \r\nQ 26.265625 6.109375 33.40625 6.109375 \r\nQ 40.53125 6.109375 44.609375 11.75 \r\nQ 48.6875 17.390625 48.6875 27.296875 \r\nz\r\nM 18.109375 46.390625 \r\nQ 20.953125 51.265625 25.265625 53.625 \r\nQ 29.59375 56 35.59375 56 \r\nQ 45.5625 56 51.78125 48.09375 \r\nQ 58.015625 40.1875 58.015625 27.296875 \r\nQ 58.015625 14.40625 51.78125 6.484375 \r\nQ 45.5625 -1.421875 35.59375 -1.421875 \r\nQ 29.59375 -1.421875 25.265625 0.953125 \r\nQ 20.953125 3.328125 18.109375 8.203125 \r\nL 18.109375 0 \r\nL 9.078125 0 \r\nL 9.078125 75.984375 \r\nL 18.109375 75.984375 \r\nz\r\n\" id=\"DejaVuSans-98\"/>\r\n     </defs>\r\n     <g transform=\"translate(105.808281 252.916562)scale(0.1 -0.1)\">\r\n      <use xlink:href=\"#DejaVuSans-80\"/>\r\n      <use x=\"58.552734\" xlink:href=\"#DejaVuSans-114\"/>\r\n      <use x=\"97.416016\" xlink:href=\"#DejaVuSans-101\"/>\r\n      <use x=\"158.939453\" xlink:href=\"#DejaVuSans-100\"/>\r\n      <use x=\"222.416016\" xlink:href=\"#DejaVuSans-105\"/>\r\n      <use x=\"250.199219\" xlink:href=\"#DejaVuSans-99\"/>\r\n      <use x=\"305.179688\" xlink:href=\"#DejaVuSans-116\"/>\r\n      <use x=\"344.388672\" xlink:href=\"#DejaVuSans-101\"/>\r\n      <use x=\"405.912109\" xlink:href=\"#DejaVuSans-100\"/>\r\n      <use x=\"469.388672\" xlink:href=\"#DejaVuSans-32\"/>\r\n      <use x=\"501.175781\" xlink:href=\"#DejaVuSans-108\"/>\r\n      <use x=\"528.958984\" xlink:href=\"#DejaVuSans-97\"/>\r\n      <use x=\"590.238281\" xlink:href=\"#DejaVuSans-98\"/>\r\n      <use x=\"653.714844\" xlink:href=\"#DejaVuSans-101\"/>\r\n      <use x=\"715.238281\" xlink:href=\"#DejaVuSans-108\"/>\r\n     </g>\r\n    </g>\r\n   </g>\r\n   <g id=\"matplotlib.axis_2\">\r\n    <g id=\"ytick_1\">\r\n     <g id=\"line2d_3\">\r\n      <defs>\r\n       <path d=\"M 0 0 \r\nL -3.5 0 \r\n\" id=\"m6d0639094f\" style=\"stroke:#000000;stroke-width:0.8;\"/>\r\n      </defs>\r\n      <g>\r\n       <use style=\"stroke:#000000;stroke-width:0.8;\" x=\"34.240625\" xlink:href=\"#m6d0639094f\" y=\"61.56\"/>\r\n      </g>\r\n     </g>\r\n     <g id=\"text_4\">\r\n      <!-- 0 -->\r\n      <g transform=\"translate(20.878125 65.359219)scale(0.1 -0.1)\">\r\n       <use xlink:href=\"#DejaVuSans-48\"/>\r\n      </g>\r\n     </g>\r\n    </g>\r\n    <g id=\"ytick_2\">\r\n     <g id=\"line2d_4\">\r\n      <g>\r\n       <use style=\"stroke:#000000;stroke-width:0.8;\" x=\"34.240625\" xlink:href=\"#m6d0639094f\" y=\"170.28\"/>\r\n      </g>\r\n     </g>\r\n     <g id=\"text_5\">\r\n      <!-- 1 -->\r\n      <g transform=\"translate(20.878125 174.079219)scale(0.1 -0.1)\">\r\n       <use xlink:href=\"#DejaVuSans-49\"/>\r\n      </g>\r\n     </g>\r\n    </g>\r\n    <g id=\"text_6\">\r\n     <!-- True label -->\r\n     <defs>\r\n      <path d=\"M -0.296875 72.90625 \r\nL 61.375 72.90625 \r\nL 61.375 64.59375 \r\nL 35.5 64.59375 \r\nL 35.5 0 \r\nL 25.59375 0 \r\nL 25.59375 64.59375 \r\nL -0.296875 64.59375 \r\nz\r\n\" id=\"DejaVuSans-84\"/>\r\n      <path d=\"M 8.5 21.578125 \r\nL 8.5 54.6875 \r\nL 17.484375 54.6875 \r\nL 17.484375 21.921875 \r\nQ 17.484375 14.15625 20.5 10.265625 \r\nQ 23.53125 6.390625 29.59375 6.390625 \r\nQ 36.859375 6.390625 41.078125 11.03125 \r\nQ 45.3125 15.671875 45.3125 23.6875 \r\nL 45.3125 54.6875 \r\nL 54.296875 54.6875 \r\nL 54.296875 0 \r\nL 45.3125 0 \r\nL 45.3125 8.40625 \r\nQ 42.046875 3.421875 37.71875 1 \r\nQ 33.40625 -1.421875 27.6875 -1.421875 \r\nQ 18.265625 -1.421875 13.375 4.4375 \r\nQ 8.5 10.296875 8.5 21.578125 \r\nz\r\nM 31.109375 56 \r\nz\r\n\" id=\"DejaVuSans-117\"/>\r\n     </defs>\r\n     <g transform=\"translate(14.798437 140.219219)rotate(-90)scale(0.1 -0.1)\">\r\n      <use xlink:href=\"#DejaVuSans-84\"/>\r\n      <use x=\"46.333984\" xlink:href=\"#DejaVuSans-114\"/>\r\n      <use x=\"87.447266\" xlink:href=\"#DejaVuSans-117\"/>\r\n      <use x=\"150.826172\" xlink:href=\"#DejaVuSans-101\"/>\r\n      <use x=\"212.349609\" xlink:href=\"#DejaVuSans-32\"/>\r\n      <use x=\"244.136719\" xlink:href=\"#DejaVuSans-108\"/>\r\n      <use x=\"271.919922\" xlink:href=\"#DejaVuSans-97\"/>\r\n      <use x=\"333.199219\" xlink:href=\"#DejaVuSans-98\"/>\r\n      <use x=\"396.675781\" xlink:href=\"#DejaVuSans-101\"/>\r\n      <use x=\"458.199219\" xlink:href=\"#DejaVuSans-108\"/>\r\n     </g>\r\n    </g>\r\n   </g>\r\n   <g id=\"patch_3\">\r\n    <path d=\"M 34.240625 224.64 \r\nL 34.240625 7.2 \r\n\" style=\"fill:none;stroke:#000000;stroke-linecap:square;stroke-linejoin:miter;stroke-width:0.8;\"/>\r\n   </g>\r\n   <g id=\"patch_4\">\r\n    <path d=\"M 251.680625 224.64 \r\nL 251.680625 7.2 \r\n\" style=\"fill:none;stroke:#000000;stroke-linecap:square;stroke-linejoin:miter;stroke-width:0.8;\"/>\r\n   </g>\r\n   <g id=\"patch_5\">\r\n    <path d=\"M 34.240625 224.64 \r\nL 251.680625 224.64 \r\n\" style=\"fill:none;stroke:#000000;stroke-linecap:square;stroke-linejoin:miter;stroke-width:0.8;\"/>\r\n   </g>\r\n   <g id=\"patch_6\">\r\n    <path d=\"M 34.240625 7.2 \r\nL 251.680625 7.2 \r\n\" style=\"fill:none;stroke:#000000;stroke-linecap:square;stroke-linejoin:miter;stroke-width:0.8;\"/>\r\n   </g>\r\n   <g id=\"text_7\">\r\n    <!-- 2174 -->\r\n    <defs>\r\n     <path d=\"M 19.1875 8.296875 \r\nL 53.609375 8.296875 \r\nL 53.609375 0 \r\nL 7.328125 0 \r\nL 7.328125 8.296875 \r\nQ 12.9375 14.109375 22.625 23.890625 \r\nQ 32.328125 33.6875 34.8125 36.53125 \r\nQ 39.546875 41.84375 41.421875 45.53125 \r\nQ 43.3125 49.21875 43.3125 52.78125 \r\nQ 43.3125 58.59375 39.234375 62.25 \r\nQ 35.15625 65.921875 28.609375 65.921875 \r\nQ 23.96875 65.921875 18.8125 64.3125 \r\nQ 13.671875 62.703125 7.8125 59.421875 \r\nL 7.8125 69.390625 \r\nQ 13.765625 71.78125 18.9375 73 \r\nQ 24.125 74.21875 28.421875 74.21875 \r\nQ 39.75 74.21875 46.484375 68.546875 \r\nQ 53.21875 62.890625 53.21875 53.421875 \r\nQ 53.21875 48.921875 51.53125 44.890625 \r\nQ 49.859375 40.875 45.40625 35.40625 \r\nQ 44.1875 33.984375 37.640625 27.21875 \r\nQ 31.109375 20.453125 19.1875 8.296875 \r\nz\r\n\" id=\"DejaVuSans-50\"/>\r\n     <path d=\"M 8.203125 72.90625 \r\nL 55.078125 72.90625 \r\nL 55.078125 68.703125 \r\nL 28.609375 0 \r\nL 18.3125 0 \r\nL 43.21875 64.59375 \r\nL 8.203125 64.59375 \r\nz\r\n\" id=\"DejaVuSans-55\"/>\r\n     <path d=\"M 37.796875 64.3125 \r\nL 12.890625 25.390625 \r\nL 37.796875 25.390625 \r\nz\r\nM 35.203125 72.90625 \r\nL 47.609375 72.90625 \r\nL 47.609375 25.390625 \r\nL 58.015625 25.390625 \r\nL 58.015625 17.1875 \r\nL 47.609375 17.1875 \r\nL 47.609375 0 \r\nL 37.796875 0 \r\nL 37.796875 17.1875 \r\nL 4.890625 17.1875 \r\nL 4.890625 26.703125 \r\nz\r\n\" id=\"DejaVuSans-52\"/>\r\n    </defs>\r\n    <g style=\"fill:#7f3b08;\" transform=\"translate(75.875625 64.319375)scale(0.1 -0.1)\">\r\n     <use xlink:href=\"#DejaVuSans-50\"/>\r\n     <use x=\"63.623047\" xlink:href=\"#DejaVuSans-49\"/>\r\n     <use x=\"127.246094\" xlink:href=\"#DejaVuSans-55\"/>\r\n     <use x=\"190.869141\" xlink:href=\"#DejaVuSans-52\"/>\r\n    </g>\r\n   </g>\r\n   <g id=\"text_8\">\r\n    <!-- 460 -->\r\n    <defs>\r\n     <path d=\"M 33.015625 40.375 \r\nQ 26.375 40.375 22.484375 35.828125 \r\nQ 18.609375 31.296875 18.609375 23.390625 \r\nQ 18.609375 15.53125 22.484375 10.953125 \r\nQ 26.375 6.390625 33.015625 6.390625 \r\nQ 39.65625 6.390625 43.53125 10.953125 \r\nQ 47.40625 15.53125 47.40625 23.390625 \r\nQ 47.40625 31.296875 43.53125 35.828125 \r\nQ 39.65625 40.375 33.015625 40.375 \r\nz\r\nM 52.59375 71.296875 \r\nL 52.59375 62.3125 \r\nQ 48.875 64.0625 45.09375 64.984375 \r\nQ 41.3125 65.921875 37.59375 65.921875 \r\nQ 27.828125 65.921875 22.671875 59.328125 \r\nQ 17.53125 52.734375 16.796875 39.40625 \r\nQ 19.671875 43.65625 24.015625 45.921875 \r\nQ 28.375 48.1875 33.59375 48.1875 \r\nQ 44.578125 48.1875 50.953125 41.515625 \r\nQ 57.328125 34.859375 57.328125 23.390625 \r\nQ 57.328125 12.15625 50.6875 5.359375 \r\nQ 44.046875 -1.421875 33.015625 -1.421875 \r\nQ 20.359375 -1.421875 13.671875 8.265625 \r\nQ 6.984375 17.96875 6.984375 36.375 \r\nQ 6.984375 53.65625 15.1875 63.9375 \r\nQ 23.390625 74.21875 37.203125 74.21875 \r\nQ 40.921875 74.21875 44.703125 73.484375 \r\nQ 48.484375 72.75 52.59375 71.296875 \r\nz\r\n\" id=\"DejaVuSans-54\"/>\r\n    </defs>\r\n    <g style=\"fill:#2d004b;\" transform=\"translate(187.776875 64.319375)scale(0.1 -0.1)\">\r\n     <use xlink:href=\"#DejaVuSans-52\"/>\r\n     <use x=\"63.623047\" xlink:href=\"#DejaVuSans-54\"/>\r\n     <use x=\"127.246094\" xlink:href=\"#DejaVuSans-48\"/>\r\n    </g>\r\n   </g>\r\n   <g id=\"text_9\">\r\n    <!-- 6 -->\r\n    <g style=\"fill:#2d004b;\" transform=\"translate(85.419375 173.039375)scale(0.1 -0.1)\">\r\n     <use xlink:href=\"#DejaVuSans-54\"/>\r\n    </g>\r\n   </g>\r\n   <g id=\"text_10\">\r\n    <!-- 64 -->\r\n    <g style=\"fill:#2d004b;\" transform=\"translate(190.958125 173.039375)scale(0.1 -0.1)\">\r\n     <use xlink:href=\"#DejaVuSans-54\"/>\r\n     <use x=\"63.623047\" xlink:href=\"#DejaVuSans-52\"/>\r\n    </g>\r\n   </g>\r\n  </g>\r\n  <g id=\"axes_2\">\r\n   <g id=\"patch_7\">\r\n    <path clip-path=\"url(#p043840952f)\" d=\"M 268.420625 224.64 \r\nL 268.420625 223.790625 \r\nL 268.420625 8.049375 \r\nL 268.420625 7.2 \r\nL 279.292625 7.2 \r\nL 279.292625 8.049375 \r\nL 279.292625 223.790625 \r\nL 279.292625 224.64 \r\nz\r\n\" style=\"fill:#ffffff;stroke:#ffffff;stroke-linejoin:miter;stroke-width:0.01;\"/>\r\n   </g>\r\n   <image height=\"217\" id=\"image48dd647267\" transform=\"scale(1 -1)translate(0 -217)\" width=\"11\" x=\"268\" xlink:href=\"data:image/png;base64,\r\niVBORw0KGgoAAAANSUhEUgAAAAsAAADZCAYAAAD2WsoCAAAABHNCSVQICAgIfAhkiAAAAVxJREFUaIHtmEGOAjEQAzuTBvZRfG6/DUl6r3NMIVnyouFsWdVuZxLRfp8/FZu/PNquNCKzAzFyhuLt+ZQYujS6MDogzkOGwZw91u2Sxr51NuQMoJN0NBtxhtERZ5JGJwMyDNmAupyF65aVHzkjZpjG/j0hFB9IfHuIMEzEMI27CAOK0wGjpyyN7tGNBOWPBpyDYEBn0A2G0cG6o8kwdDmjY8XSkG1Ql0Yn5TfZoKx1ddwIBmLef50w5wriLBuwZAMKMVAaYZKGrEj/sBtV4GW+FvhjoQqJt7WRS+ZcZMC5iLOO2SPnNS0GBAukzmRAHYauz+h0T9B+IYaJM0rjGvBjDBNnk/JDMWAe7+mAwZxlFR0DpUG6ge4UXXRf3w2TAdEbCfUZFYk4zxfCsGBmx+pK4yQeL1J+lz6rMNCnoEp2TRT6MCJmUv75JhgWzMh5zkEwrnWfMdCAuuhEzn+DkEro+sYqGAAAAABJRU5ErkJggg==\" y=\"-7\"/>\r\n   <g id=\"matplotlib.axis_3\"/>\r\n   <g id=\"matplotlib.axis_4\">\r\n    <g id=\"ytick_3\">\r\n     <g id=\"line2d_5\">\r\n      <defs>\r\n       <path d=\"M 0 0 \r\nL 3.5 0 \r\n\" id=\"m22475146ea\" style=\"stroke:#000000;stroke-width:0.8;\"/>\r\n      </defs>\r\n      <g>\r\n       <use style=\"stroke:#000000;stroke-width:0.8;\" x=\"279.292625\" xlink:href=\"#m22475146ea\" y=\"200.16797\"/>\r\n      </g>\r\n     </g>\r\n     <g id=\"text_11\">\r\n      <!-- 250 -->\r\n      <defs>\r\n       <path d=\"M 10.796875 72.90625 \r\nL 49.515625 72.90625 \r\nL 49.515625 64.59375 \r\nL 19.828125 64.59375 \r\nL 19.828125 46.734375 \r\nQ 21.96875 47.46875 24.109375 47.828125 \r\nQ 26.265625 48.1875 28.421875 48.1875 \r\nQ 40.625 48.1875 47.75 41.5 \r\nQ 54.890625 34.8125 54.890625 23.390625 \r\nQ 54.890625 11.625 47.5625 5.09375 \r\nQ 40.234375 -1.421875 26.90625 -1.421875 \r\nQ 22.3125 -1.421875 17.546875 -0.640625 \r\nQ 12.796875 0.140625 7.71875 1.703125 \r\nL 7.71875 11.625 \r\nQ 12.109375 9.234375 16.796875 8.0625 \r\nQ 21.484375 6.890625 26.703125 6.890625 \r\nQ 35.15625 6.890625 40.078125 11.328125 \r\nQ 45.015625 15.765625 45.015625 23.390625 \r\nQ 45.015625 31 40.078125 35.4375 \r\nQ 35.15625 39.890625 26.703125 39.890625 \r\nQ 22.75 39.890625 18.8125 39.015625 \r\nQ 14.890625 38.140625 10.796875 36.28125 \r\nz\r\n\" id=\"DejaVuSans-53\"/>\r\n      </defs>\r\n      <g transform=\"translate(286.292625 203.967189)scale(0.1 -0.1)\">\r\n       <use xlink:href=\"#DejaVuSans-50\"/>\r\n       <use x=\"63.623047\" xlink:href=\"#DejaVuSans-53\"/>\r\n       <use x=\"127.246094\" xlink:href=\"#DejaVuSans-48\"/>\r\n      </g>\r\n     </g>\r\n    </g>\r\n    <g id=\"ytick_4\">\r\n     <g id=\"line2d_6\">\r\n      <g>\r\n       <use style=\"stroke:#000000;stroke-width:0.8;\" x=\"279.292625\" xlink:href=\"#m22475146ea\" y=\"175.09417\"/>\r\n      </g>\r\n     </g>\r\n     <g id=\"text_12\">\r\n      <!-- 500 -->\r\n      <g transform=\"translate(286.292625 178.893388)scale(0.1 -0.1)\">\r\n       <use xlink:href=\"#DejaVuSans-53\"/>\r\n       <use x=\"63.623047\" xlink:href=\"#DejaVuSans-48\"/>\r\n       <use x=\"127.246094\" xlink:href=\"#DejaVuSans-48\"/>\r\n      </g>\r\n     </g>\r\n    </g>\r\n    <g id=\"ytick_5\">\r\n     <g id=\"line2d_7\">\r\n      <g>\r\n       <use style=\"stroke:#000000;stroke-width:0.8;\" x=\"279.292625\" xlink:href=\"#m22475146ea\" y=\"150.020369\"/>\r\n      </g>\r\n     </g>\r\n     <g id=\"text_13\">\r\n      <!-- 750 -->\r\n      <g transform=\"translate(286.292625 153.819588)scale(0.1 -0.1)\">\r\n       <use xlink:href=\"#DejaVuSans-55\"/>\r\n       <use x=\"63.623047\" xlink:href=\"#DejaVuSans-53\"/>\r\n       <use x=\"127.246094\" xlink:href=\"#DejaVuSans-48\"/>\r\n      </g>\r\n     </g>\r\n    </g>\r\n    <g id=\"ytick_6\">\r\n     <g id=\"line2d_8\">\r\n      <g>\r\n       <use style=\"stroke:#000000;stroke-width:0.8;\" x=\"279.292625\" xlink:href=\"#m22475146ea\" y=\"124.946568\"/>\r\n      </g>\r\n     </g>\r\n     <g id=\"text_14\">\r\n      <!-- 1000 -->\r\n      <g transform=\"translate(286.292625 128.745787)scale(0.1 -0.1)\">\r\n       <use xlink:href=\"#DejaVuSans-49\"/>\r\n       <use x=\"63.623047\" xlink:href=\"#DejaVuSans-48\"/>\r\n       <use x=\"127.246094\" xlink:href=\"#DejaVuSans-48\"/>\r\n       <use x=\"190.869141\" xlink:href=\"#DejaVuSans-48\"/>\r\n      </g>\r\n     </g>\r\n    </g>\r\n    <g id=\"ytick_7\">\r\n     <g id=\"line2d_9\">\r\n      <g>\r\n       <use style=\"stroke:#000000;stroke-width:0.8;\" x=\"279.292625\" xlink:href=\"#m22475146ea\" y=\"99.872768\"/>\r\n      </g>\r\n     </g>\r\n     <g id=\"text_15\">\r\n      <!-- 1250 -->\r\n      <g transform=\"translate(286.292625 103.671986)scale(0.1 -0.1)\">\r\n       <use xlink:href=\"#DejaVuSans-49\"/>\r\n       <use x=\"63.623047\" xlink:href=\"#DejaVuSans-50\"/>\r\n       <use x=\"127.246094\" xlink:href=\"#DejaVuSans-53\"/>\r\n       <use x=\"190.869141\" xlink:href=\"#DejaVuSans-48\"/>\r\n      </g>\r\n     </g>\r\n    </g>\r\n    <g id=\"ytick_8\">\r\n     <g id=\"line2d_10\">\r\n      <g>\r\n       <use style=\"stroke:#000000;stroke-width:0.8;\" x=\"279.292625\" xlink:href=\"#m22475146ea\" y=\"74.798967\"/>\r\n      </g>\r\n     </g>\r\n     <g id=\"text_16\">\r\n      <!-- 1500 -->\r\n      <g transform=\"translate(286.292625 78.598186)scale(0.1 -0.1)\">\r\n       <use xlink:href=\"#DejaVuSans-49\"/>\r\n       <use x=\"63.623047\" xlink:href=\"#DejaVuSans-53\"/>\r\n       <use x=\"127.246094\" xlink:href=\"#DejaVuSans-48\"/>\r\n       <use x=\"190.869141\" xlink:href=\"#DejaVuSans-48\"/>\r\n      </g>\r\n     </g>\r\n    </g>\r\n    <g id=\"ytick_9\">\r\n     <g id=\"line2d_11\">\r\n      <g>\r\n       <use style=\"stroke:#000000;stroke-width:0.8;\" x=\"279.292625\" xlink:href=\"#m22475146ea\" y=\"49.725166\"/>\r\n      </g>\r\n     </g>\r\n     <g id=\"text_17\">\r\n      <!-- 1750 -->\r\n      <g transform=\"translate(286.292625 53.524385)scale(0.1 -0.1)\">\r\n       <use xlink:href=\"#DejaVuSans-49\"/>\r\n       <use x=\"63.623047\" xlink:href=\"#DejaVuSans-55\"/>\r\n       <use x=\"127.246094\" xlink:href=\"#DejaVuSans-53\"/>\r\n       <use x=\"190.869141\" xlink:href=\"#DejaVuSans-48\"/>\r\n      </g>\r\n     </g>\r\n    </g>\r\n    <g id=\"ytick_10\">\r\n     <g id=\"line2d_12\">\r\n      <g>\r\n       <use style=\"stroke:#000000;stroke-width:0.8;\" x=\"279.292625\" xlink:href=\"#m22475146ea\" y=\"24.651365\"/>\r\n      </g>\r\n     </g>\r\n     <g id=\"text_18\">\r\n      <!-- 2000 -->\r\n      <g transform=\"translate(286.292625 28.450584)scale(0.1 -0.1)\">\r\n       <use xlink:href=\"#DejaVuSans-50\"/>\r\n       <use x=\"63.623047\" xlink:href=\"#DejaVuSans-48\"/>\r\n       <use x=\"127.246094\" xlink:href=\"#DejaVuSans-48\"/>\r\n       <use x=\"190.869141\" xlink:href=\"#DejaVuSans-48\"/>\r\n      </g>\r\n     </g>\r\n    </g>\r\n   </g>\r\n   <g id=\"patch_8\">\r\n    <path d=\"M 268.420625 224.64 \r\nL 268.420625 223.790625 \r\nL 268.420625 8.049375 \r\nL 268.420625 7.2 \r\nL 279.292625 7.2 \r\nL 279.292625 8.049375 \r\nL 279.292625 223.790625 \r\nL 279.292625 224.64 \r\nz\r\n\" style=\"fill:none;stroke:#000000;stroke-linejoin:miter;stroke-width:0.8;\"/>\r\n   </g>\r\n  </g>\r\n </g>\r\n <defs>\r\n  <clipPath id=\"p78464216c2\">\r\n   <rect height=\"217.44\" width=\"217.44\" x=\"34.240625\" y=\"7.2\"/>\r\n  </clipPath>\r\n  <clipPath id=\"p043840952f\">\r\n   <rect height=\"217.44\" width=\"10.872\" x=\"268.420625\" y=\"7.2\"/>\r\n  </clipPath>\r\n </defs>\r\n</svg>\r\n",
      "image/png": "[encoded data removed]"
     },
     "metadata": {
      "needs_background": "light"
     }
    }
   ],
   "source": [
    "cm_display = ConfusionMatrixDisplay(cm).plot(cmap='PuOr')"
   ]
  },
  {
   "cell_type": "code",
   "execution_count": 37,
   "metadata": {},
   "outputs": [
    {
     "output_type": "execute_result",
     "data": {
      "text/plain": [
       "             0         1         2         3         4         5         6  \\\n",
       "0    -1.799561 -1.846110 -1.798280 -1.850745 -1.920435 -1.700439 -1.810055   \n",
       "1    -2.027785 -1.862813 -2.021549 -1.837824 -1.896018 -1.712987 -1.804545   \n",
       "2    -1.819807 -1.834974 -1.825731 -1.811983 -1.886627 -1.712987 -1.800872   \n",
       "3    -1.788518 -1.701343 -1.761678 -1.675392 -1.865966 -1.714780 -1.789852   \n",
       "4    -1.654160 -1.688351 -1.697626 -1.712309 -1.852818 -1.714780 -1.784342   \n",
       "...        ...       ...       ...       ...       ...       ...       ...   \n",
       "2699 -0.148618 -0.162730 -0.121930 -0.137829 -0.134210 -0.031521 -0.081812   \n",
       "2700 -0.121011 -0.125610 -0.092649 -0.110142 -0.141723 -0.036899 -0.089159   \n",
       "2701 -0.093403 -0.133034 -0.090819 -0.128600 -0.149236 -0.040484 -0.094668   \n",
       "2702 -0.111808 -0.155306 -0.116440 -0.152596 -0.156749 -0.045862 -0.100178   \n",
       "2703 -0.133894 -0.168298 -0.129251 -0.174746 -0.162384 -0.053032 -0.107525   \n",
       "\n",
       "             7         8         9        10        11        12        13  \n",
       "0    -1.931183 -1.682427 -1.806979 -1.822936  0.199483 -0.690332 -1.297243  \n",
       "1    -1.946146 -1.657331 -1.806979 -1.821090  0.190566 -0.926180 -0.928921  \n",
       "2    -1.949887 -1.644783 -1.801462 -1.819244  0.248972 -0.674303 -0.855952  \n",
       "3    -1.890035 -1.684219 -1.770196 -1.802627  0.647559  1.072807 -0.650942  \n",
       "4    -1.867591 -1.693182 -1.751805 -1.793395  0.829464 -0.042321 -0.518902  \n",
       "...        ...       ...       ...       ...       ...       ...       ...  \n",
       "2699 -0.105696 -0.058377 -0.113127 -0.068946 -1.110412 -0.335414 -0.925447  \n",
       "2700 -0.133752 -0.044037 -0.107609 -0.070792 -0.926278 -0.028582 -0.949770  \n",
       "2701 -0.152455 -0.036866 -0.107609 -0.072639 -0.823288 -0.445324 -0.994941  \n",
       "2702 -0.167418 -0.035074 -0.111288 -0.078177 -0.796091 -0.834588 -1.001891  \n",
       "2703 -0.187992 -0.027904 -0.118644 -0.083716 -0.819721 -0.852907 -0.998416  \n",
       "\n",
       "[2704 rows x 14 columns]"
      ],
      "text/html": "<div>\n<style scoped>\n    .dataframe tbody tr th:only-of-type {\n        vertical-align: middle;\n    }\n\n    .dataframe tbody tr th {\n        vertical-align: top;\n    }\n\n    .dataframe thead th {\n        text-align: right;\n    }\n</style>\n<table border=\"1\" class=\"dataframe\">\n  <thead>\n    <tr style=\"text-align: right;\">\n      <th></th>\n      <th>0</th>\n      <th>1</th>\n      <th>2</th>\n      <th>3</th>\n      <th>4</th>\n      <th>5</th>\n      <th>6</th>\n      <th>7</th>\n      <th>8</th>\n      <th>9</th>\n      <th>10</th>\n      <th>11</th>\n      <th>12</th>\n      <th>13</th>\n    </tr>\n  </thead>\n  <tbody>\n    <tr>\n      <th>0</th>\n      <td>-1.799561</td>\n      <td>-1.846110</td>\n      <td>-1.798280</td>\n      <td>-1.850745</td>\n      <td>-1.920435</td>\n      <td>-1.700439</td>\n      <td>-1.810055</td>\n      <td>-1.931183</td>\n      <td>-1.682427</td>\n      <td>-1.806979</td>\n      <td>-1.822936</td>\n      <td>0.199483</td>\n      <td>-0.690332</td>\n      <td>-1.297243</td>\n    </tr>\n    <tr>\n      <th>1</th>\n      <td>-2.027785</td>\n      <td>-1.862813</td>\n      <td>-2.021549</td>\n      <td>-1.837824</td>\n      <td>-1.896018</td>\n      <td>-1.712987</td>\n      <td>-1.804545</td>\n      <td>-1.946146</td>\n      <td>-1.657331</td>\n      <td>-1.806979</td>\n      <td>-1.821090</td>\n      <td>0.190566</td>\n      <td>-0.926180</td>\n      <td>-0.928921</td>\n    </tr>\n    <tr>\n      <th>2</th>\n      <td>-1.819807</td>\n      <td>-1.834974</td>\n      <td>-1.825731</td>\n      <td>-1.811983</td>\n      <td>-1.886627</td>\n      <td>-1.712987</td>\n      <td>-1.800872</td>\n      <td>-1.949887</td>\n      <td>-1.644783</td>\n      <td>-1.801462</td>\n      <td>-1.819244</td>\n      <td>0.248972</td>\n      <td>-0.674303</td>\n      <td>-0.855952</td>\n    </tr>\n    <tr>\n      <th>3</th>\n      <td>-1.788518</td>\n      <td>-1.701343</td>\n      <td>-1.761678</td>\n      <td>-1.675392</td>\n      <td>-1.865966</td>\n      <td>-1.714780</td>\n      <td>-1.789852</td>\n      <td>-1.890035</td>\n      <td>-1.684219</td>\n      <td>-1.770196</td>\n      <td>-1.802627</td>\n      <td>0.647559</td>\n      <td>1.072807</td>\n      <td>-0.650942</td>\n    </tr>\n    <tr>\n      <th>4</th>\n      <td>-1.654160</td>\n      <td>-1.688351</td>\n      <td>-1.697626</td>\n      <td>-1.712309</td>\n      <td>-1.852818</td>\n      <td>-1.714780</td>\n      <td>-1.784342</td>\n      <td>-1.867591</td>\n      <td>-1.693182</td>\n      <td>-1.751805</td>\n      <td>-1.793395</td>\n      <td>0.829464</td>\n      <td>-0.042321</td>\n      <td>-0.518902</td>\n    </tr>\n    <tr>\n      <th>...</th>\n      <td>...</td>\n      <td>...</td>\n      <td>...</td>\n      <td>...</td>\n      <td>...</td>\n      <td>...</td>\n      <td>...</td>\n      <td>...</td>\n      <td>...</td>\n      <td>...</td>\n      <td>...</td>\n      <td>...</td>\n      <td>...</td>\n      <td>...</td>\n    </tr>\n    <tr>\n      <th>2699</th>\n      <td>-0.148618</td>\n      <td>-0.162730</td>\n      <td>-0.121930</td>\n      <td>-0.137829</td>\n      <td>-0.134210</td>\n      <td>-0.031521</td>\n      <td>-0.081812</td>\n      <td>-0.105696</td>\n      <td>-0.058377</td>\n      <td>-0.113127</td>\n      <td>-0.068946</td>\n      <td>-1.110412</td>\n      <td>-0.335414</td>\n      <td>-0.925447</td>\n    </tr>\n    <tr>\n      <th>2700</th>\n      <td>-0.121011</td>\n      <td>-0.125610</td>\n      <td>-0.092649</td>\n      <td>-0.110142</td>\n      <td>-0.141723</td>\n      <td>-0.036899</td>\n      <td>-0.089159</td>\n      <td>-0.133752</td>\n      <td>-0.044037</td>\n      <td>-0.107609</td>\n      <td>-0.070792</td>\n      <td>-0.926278</td>\n      <td>-0.028582</td>\n      <td>-0.949770</td>\n    </tr>\n    <tr>\n      <th>2701</th>\n      <td>-0.093403</td>\n      <td>-0.133034</td>\n      <td>-0.090819</td>\n      <td>-0.128600</td>\n      <td>-0.149236</td>\n      <td>-0.040484</td>\n      <td>-0.094668</td>\n      <td>-0.152455</td>\n      <td>-0.036866</td>\n      <td>-0.107609</td>\n      <td>-0.072639</td>\n      <td>-0.823288</td>\n      <td>-0.445324</td>\n      <td>-0.994941</td>\n    </tr>\n    <tr>\n      <th>2702</th>\n      <td>-0.111808</td>\n      <td>-0.155306</td>\n      <td>-0.116440</td>\n      <td>-0.152596</td>\n      <td>-0.156749</td>\n      <td>-0.045862</td>\n      <td>-0.100178</td>\n      <td>-0.167418</td>\n      <td>-0.035074</td>\n      <td>-0.111288</td>\n      <td>-0.078177</td>\n      <td>-0.796091</td>\n      <td>-0.834588</td>\n      <td>-1.001891</td>\n    </tr>\n    <tr>\n      <th>2703</th>\n      <td>-0.133894</td>\n      <td>-0.168298</td>\n      <td>-0.129251</td>\n      <td>-0.174746</td>\n      <td>-0.162384</td>\n      <td>-0.053032</td>\n      <td>-0.107525</td>\n      <td>-0.187992</td>\n      <td>-0.027904</td>\n      <td>-0.118644</td>\n      <td>-0.083716</td>\n      <td>-0.819721</td>\n      <td>-0.852907</td>\n      <td>-0.998416</td>\n    </tr>\n  </tbody>\n</table>\n<p>2704 rows × 14 columns</p>\n</div>"
     },
     "metadata": {},
     "execution_count": 37
    }
   ],
   "source": [
    "X_test_scaled_df = pd.DataFrame(X_test_scaled)\n",
    "X_test_scaled_df"
   ]
  },
  {
   "cell_type": "code",
   "execution_count": null,
   "metadata": {},
   "outputs": [],
   "source": []
  },
  {
   "cell_type": "code",
   "execution_count": 38,
   "metadata": {},
   "outputs": [],
   "source": [
    "from sklearn.metrics import precision_recall_curve"
   ]
  },
  {
   "cell_type": "code",
   "execution_count": 39,
   "metadata": {},
   "outputs": [],
   "source": [
    "# Precision_Recall_curve \n",
    "probs_model = model.predict_proba(X_test_scaled)[:,1]\n",
    "precision_model, recall_model, _ = precision_recall_curve(y_test, probs_model, pos_label=1)"
   ]
  },
  {
   "cell_type": "code",
   "execution_count": 40,
   "metadata": {},
   "outputs": [],
   "source": [
    "import matplotlib.pyplot as plt"
   ]
  },
  {
   "cell_type": "code",
   "execution_count": 41,
   "metadata": {},
   "outputs": [
    {
     "output_type": "execute_result",
     "data": {
      "text/plain": [
       "[<matplotlib.lines.Line2D at 0x2624fe83910>]"
      ]
     },
     "metadata": {},
     "execution_count": 41
    },
    {
     "output_type": "display_data",
     "data": {
      "text/plain": "<Figure size 432x288 with 1 Axes>",
      "image/svg+xml": "<?xml version=\"1.0\" encoding=\"utf-8\" standalone=\"no\"?>\r\n<!DOCTYPE svg PUBLIC \"-//W3C//DTD SVG 1.1//EN\"\r\n  \"http://www.w3.org/Graphics/SVG/1.1/DTD/svg11.dtd\">\r\n<!-- Created with matplotlib (https://matplotlib.org/) -->\r\n<svg height=\"248.518125pt\" version=\"1.1\" viewBox=\"0 0 372.103125 248.518125\" width=\"372.103125pt\" xmlns=\"http://www.w3.org/2000/svg\" xmlns:xlink=\"http://www.w3.org/1999/xlink\">\r\n <defs>\r\n  <style type=\"text/css\">\r\n*{stroke-linecap:butt;stroke-linejoin:round;}\r\n  </style>\r\n </defs>\r\n <g id=\"figure_1\">\r\n  <g id=\"patch_1\">\r\n   <path d=\"M 0 248.518125 \r\nL 372.103125 248.518125 \r\nL 372.103125 0 \r\nL 0 0 \r\nz\r\n\" style=\"fill:none;\"/>\r\n  </g>\r\n  <g id=\"axes_1\">\r\n   <g id=\"patch_2\">\r\n    <path d=\"M 30.103125 224.64 \r\nL 364.903125 224.64 \r\nL 364.903125 7.2 \r\nL 30.103125 7.2 \r\nz\r\n\" style=\"fill:#ffffff;\"/>\r\n   </g>\r\n   <g id=\"matplotlib.axis_1\">\r\n    <g id=\"xtick_1\">\r\n     <g id=\"line2d_1\">\r\n      <defs>\r\n       <path d=\"M 0 0 \r\nL 0 3.5 \r\n\" id=\"m0a693ad56f\" style=\"stroke:#000000;stroke-width:0.8;\"/>\r\n      </defs>\r\n      <g>\r\n       <use style=\"stroke:#000000;stroke-width:0.8;\" x=\"45.321307\" xlink:href=\"#m0a693ad56f\" y=\"224.64\"/>\r\n      </g>\r\n     </g>\r\n     <g id=\"text_1\">\r\n      <!-- 0.0 -->\r\n      <defs>\r\n       <path d=\"M 31.78125 66.40625 \r\nQ 24.171875 66.40625 20.328125 58.90625 \r\nQ 16.5 51.421875 16.5 36.375 \r\nQ 16.5 21.390625 20.328125 13.890625 \r\nQ 24.171875 6.390625 31.78125 6.390625 \r\nQ 39.453125 6.390625 43.28125 13.890625 \r\nQ 47.125 21.390625 47.125 36.375 \r\nQ 47.125 51.421875 43.28125 58.90625 \r\nQ 39.453125 66.40625 31.78125 66.40625 \r\nz\r\nM 31.78125 74.21875 \r\nQ 44.046875 74.21875 50.515625 64.515625 \r\nQ 56.984375 54.828125 56.984375 36.375 \r\nQ 56.984375 17.96875 50.515625 8.265625 \r\nQ 44.046875 -1.421875 31.78125 -1.421875 \r\nQ 19.53125 -1.421875 13.0625 8.265625 \r\nQ 6.59375 17.96875 6.59375 36.375 \r\nQ 6.59375 54.828125 13.0625 64.515625 \r\nQ 19.53125 74.21875 31.78125 74.21875 \r\nz\r\n\" id=\"DejaVuSans-48\"/>\r\n       <path d=\"M 10.6875 12.40625 \r\nL 21 12.40625 \r\nL 21 0 \r\nL 10.6875 0 \r\nz\r\n\" id=\"DejaVuSans-46\"/>\r\n      </defs>\r\n      <g transform=\"translate(37.369744 239.238437)scale(0.1 -0.1)\">\r\n       <use xlink:href=\"#DejaVuSans-48\"/>\r\n       <use x=\"63.623047\" xlink:href=\"#DejaVuSans-46\"/>\r\n       <use x=\"95.410156\" xlink:href=\"#DejaVuSans-48\"/>\r\n      </g>\r\n     </g>\r\n    </g>\r\n    <g id=\"xtick_2\">\r\n     <g id=\"line2d_2\">\r\n      <g>\r\n       <use style=\"stroke:#000000;stroke-width:0.8;\" x=\"106.194034\" xlink:href=\"#m0a693ad56f\" y=\"224.64\"/>\r\n      </g>\r\n     </g>\r\n     <g id=\"text_2\">\r\n      <!-- 0.2 -->\r\n      <defs>\r\n       <path d=\"M 19.1875 8.296875 \r\nL 53.609375 8.296875 \r\nL 53.609375 0 \r\nL 7.328125 0 \r\nL 7.328125 8.296875 \r\nQ 12.9375 14.109375 22.625 23.890625 \r\nQ 32.328125 33.6875 34.8125 36.53125 \r\nQ 39.546875 41.84375 41.421875 45.53125 \r\nQ 43.3125 49.21875 43.3125 52.78125 \r\nQ 43.3125 58.59375 39.234375 62.25 \r\nQ 35.15625 65.921875 28.609375 65.921875 \r\nQ 23.96875 65.921875 18.8125 64.3125 \r\nQ 13.671875 62.703125 7.8125 59.421875 \r\nL 7.8125 69.390625 \r\nQ 13.765625 71.78125 18.9375 73 \r\nQ 24.125 74.21875 28.421875 74.21875 \r\nQ 39.75 74.21875 46.484375 68.546875 \r\nQ 53.21875 62.890625 53.21875 53.421875 \r\nQ 53.21875 48.921875 51.53125 44.890625 \r\nQ 49.859375 40.875 45.40625 35.40625 \r\nQ 44.1875 33.984375 37.640625 27.21875 \r\nQ 31.109375 20.453125 19.1875 8.296875 \r\nz\r\n\" id=\"DejaVuSans-50\"/>\r\n      </defs>\r\n      <g transform=\"translate(98.242472 239.238437)scale(0.1 -0.1)\">\r\n       <use xlink:href=\"#DejaVuSans-48\"/>\r\n       <use x=\"63.623047\" xlink:href=\"#DejaVuSans-46\"/>\r\n       <use x=\"95.410156\" xlink:href=\"#DejaVuSans-50\"/>\r\n      </g>\r\n     </g>\r\n    </g>\r\n    <g id=\"xtick_3\">\r\n     <g id=\"line2d_3\">\r\n      <g>\r\n       <use style=\"stroke:#000000;stroke-width:0.8;\" x=\"167.066761\" xlink:href=\"#m0a693ad56f\" y=\"224.64\"/>\r\n      </g>\r\n     </g>\r\n     <g id=\"text_3\">\r\n      <!-- 0.4 -->\r\n      <defs>\r\n       <path d=\"M 37.796875 64.3125 \r\nL 12.890625 25.390625 \r\nL 37.796875 25.390625 \r\nz\r\nM 35.203125 72.90625 \r\nL 47.609375 72.90625 \r\nL 47.609375 25.390625 \r\nL 58.015625 25.390625 \r\nL 58.015625 17.1875 \r\nL 47.609375 17.1875 \r\nL 47.609375 0 \r\nL 37.796875 0 \r\nL 37.796875 17.1875 \r\nL 4.890625 17.1875 \r\nL 4.890625 26.703125 \r\nz\r\n\" id=\"DejaVuSans-52\"/>\r\n      </defs>\r\n      <g transform=\"translate(159.115199 239.238437)scale(0.1 -0.1)\">\r\n       <use xlink:href=\"#DejaVuSans-48\"/>\r\n       <use x=\"63.623047\" xlink:href=\"#DejaVuSans-46\"/>\r\n       <use x=\"95.410156\" xlink:href=\"#DejaVuSans-52\"/>\r\n      </g>\r\n     </g>\r\n    </g>\r\n    <g id=\"xtick_4\">\r\n     <g id=\"line2d_4\">\r\n      <g>\r\n       <use style=\"stroke:#000000;stroke-width:0.8;\" x=\"227.939489\" xlink:href=\"#m0a693ad56f\" y=\"224.64\"/>\r\n      </g>\r\n     </g>\r\n     <g id=\"text_4\">\r\n      <!-- 0.6 -->\r\n      <defs>\r\n       <path d=\"M 33.015625 40.375 \r\nQ 26.375 40.375 22.484375 35.828125 \r\nQ 18.609375 31.296875 18.609375 23.390625 \r\nQ 18.609375 15.53125 22.484375 10.953125 \r\nQ 26.375 6.390625 33.015625 6.390625 \r\nQ 39.65625 6.390625 43.53125 10.953125 \r\nQ 47.40625 15.53125 47.40625 23.390625 \r\nQ 47.40625 31.296875 43.53125 35.828125 \r\nQ 39.65625 40.375 33.015625 40.375 \r\nz\r\nM 52.59375 71.296875 \r\nL 52.59375 62.3125 \r\nQ 48.875 64.0625 45.09375 64.984375 \r\nQ 41.3125 65.921875 37.59375 65.921875 \r\nQ 27.828125 65.921875 22.671875 59.328125 \r\nQ 17.53125 52.734375 16.796875 39.40625 \r\nQ 19.671875 43.65625 24.015625 45.921875 \r\nQ 28.375 48.1875 33.59375 48.1875 \r\nQ 44.578125 48.1875 50.953125 41.515625 \r\nQ 57.328125 34.859375 57.328125 23.390625 \r\nQ 57.328125 12.15625 50.6875 5.359375 \r\nQ 44.046875 -1.421875 33.015625 -1.421875 \r\nQ 20.359375 -1.421875 13.671875 8.265625 \r\nQ 6.984375 17.96875 6.984375 36.375 \r\nQ 6.984375 53.65625 15.1875 63.9375 \r\nQ 23.390625 74.21875 37.203125 74.21875 \r\nQ 40.921875 74.21875 44.703125 73.484375 \r\nQ 48.484375 72.75 52.59375 71.296875 \r\nz\r\n\" id=\"DejaVuSans-54\"/>\r\n      </defs>\r\n      <g transform=\"translate(219.987926 239.238437)scale(0.1 -0.1)\">\r\n       <use xlink:href=\"#DejaVuSans-48\"/>\r\n       <use x=\"63.623047\" xlink:href=\"#DejaVuSans-46\"/>\r\n       <use x=\"95.410156\" xlink:href=\"#DejaVuSans-54\"/>\r\n      </g>\r\n     </g>\r\n    </g>\r\n    <g id=\"xtick_5\">\r\n     <g id=\"line2d_5\">\r\n      <g>\r\n       <use style=\"stroke:#000000;stroke-width:0.8;\" x=\"288.812216\" xlink:href=\"#m0a693ad56f\" y=\"224.64\"/>\r\n      </g>\r\n     </g>\r\n     <g id=\"text_5\">\r\n      <!-- 0.8 -->\r\n      <defs>\r\n       <path d=\"M 31.78125 34.625 \r\nQ 24.75 34.625 20.71875 30.859375 \r\nQ 16.703125 27.09375 16.703125 20.515625 \r\nQ 16.703125 13.921875 20.71875 10.15625 \r\nQ 24.75 6.390625 31.78125 6.390625 \r\nQ 38.8125 6.390625 42.859375 10.171875 \r\nQ 46.921875 13.96875 46.921875 20.515625 \r\nQ 46.921875 27.09375 42.890625 30.859375 \r\nQ 38.875 34.625 31.78125 34.625 \r\nz\r\nM 21.921875 38.8125 \r\nQ 15.578125 40.375 12.03125 44.71875 \r\nQ 8.5 49.078125 8.5 55.328125 \r\nQ 8.5 64.0625 14.71875 69.140625 \r\nQ 20.953125 74.21875 31.78125 74.21875 \r\nQ 42.671875 74.21875 48.875 69.140625 \r\nQ 55.078125 64.0625 55.078125 55.328125 \r\nQ 55.078125 49.078125 51.53125 44.71875 \r\nQ 48 40.375 41.703125 38.8125 \r\nQ 48.828125 37.15625 52.796875 32.3125 \r\nQ 56.78125 27.484375 56.78125 20.515625 \r\nQ 56.78125 9.90625 50.3125 4.234375 \r\nQ 43.84375 -1.421875 31.78125 -1.421875 \r\nQ 19.734375 -1.421875 13.25 4.234375 \r\nQ 6.78125 9.90625 6.78125 20.515625 \r\nQ 6.78125 27.484375 10.78125 32.3125 \r\nQ 14.796875 37.15625 21.921875 38.8125 \r\nz\r\nM 18.3125 54.390625 \r\nQ 18.3125 48.734375 21.84375 45.5625 \r\nQ 25.390625 42.390625 31.78125 42.390625 \r\nQ 38.140625 42.390625 41.71875 45.5625 \r\nQ 45.3125 48.734375 45.3125 54.390625 \r\nQ 45.3125 60.0625 41.71875 63.234375 \r\nQ 38.140625 66.40625 31.78125 66.40625 \r\nQ 25.390625 66.40625 21.84375 63.234375 \r\nQ 18.3125 60.0625 18.3125 54.390625 \r\nz\r\n\" id=\"DejaVuSans-56\"/>\r\n      </defs>\r\n      <g transform=\"translate(280.860653 239.238437)scale(0.1 -0.1)\">\r\n       <use xlink:href=\"#DejaVuSans-48\"/>\r\n       <use x=\"63.623047\" xlink:href=\"#DejaVuSans-46\"/>\r\n       <use x=\"95.410156\" xlink:href=\"#DejaVuSans-56\"/>\r\n      </g>\r\n     </g>\r\n    </g>\r\n    <g id=\"xtick_6\">\r\n     <g id=\"line2d_6\">\r\n      <g>\r\n       <use style=\"stroke:#000000;stroke-width:0.8;\" x=\"349.684943\" xlink:href=\"#m0a693ad56f\" y=\"224.64\"/>\r\n      </g>\r\n     </g>\r\n     <g id=\"text_6\">\r\n      <!-- 1.0 -->\r\n      <defs>\r\n       <path d=\"M 12.40625 8.296875 \r\nL 28.515625 8.296875 \r\nL 28.515625 63.921875 \r\nL 10.984375 60.40625 \r\nL 10.984375 69.390625 \r\nL 28.421875 72.90625 \r\nL 38.28125 72.90625 \r\nL 38.28125 8.296875 \r\nL 54.390625 8.296875 \r\nL 54.390625 0 \r\nL 12.40625 0 \r\nz\r\n\" id=\"DejaVuSans-49\"/>\r\n      </defs>\r\n      <g transform=\"translate(341.733381 239.238437)scale(0.1 -0.1)\">\r\n       <use xlink:href=\"#DejaVuSans-49\"/>\r\n       <use x=\"63.623047\" xlink:href=\"#DejaVuSans-46\"/>\r\n       <use x=\"95.410156\" xlink:href=\"#DejaVuSans-48\"/>\r\n      </g>\r\n     </g>\r\n    </g>\r\n   </g>\r\n   <g id=\"matplotlib.axis_2\">\r\n    <g id=\"ytick_1\">\r\n     <g id=\"line2d_7\">\r\n      <defs>\r\n       <path d=\"M 0 0 \r\nL -3.5 0 \r\n\" id=\"m14e7544043\" style=\"stroke:#000000;stroke-width:0.8;\"/>\r\n      </defs>\r\n      <g>\r\n       <use style=\"stroke:#000000;stroke-width:0.8;\" x=\"30.103125\" xlink:href=\"#m14e7544043\" y=\"188.193346\"/>\r\n      </g>\r\n     </g>\r\n     <g id=\"text_7\">\r\n      <!-- 0.2 -->\r\n      <g transform=\"translate(7.2 191.992565)scale(0.1 -0.1)\">\r\n       <use xlink:href=\"#DejaVuSans-48\"/>\r\n       <use x=\"63.623047\" xlink:href=\"#DejaVuSans-46\"/>\r\n       <use x=\"95.410156\" xlink:href=\"#DejaVuSans-50\"/>\r\n      </g>\r\n     </g>\r\n    </g>\r\n    <g id=\"ytick_2\">\r\n     <g id=\"line2d_8\">\r\n      <g>\r\n       <use style=\"stroke:#000000;stroke-width:0.8;\" x=\"30.103125\" xlink:href=\"#m14e7544043\" y=\"145.415918\"/>\r\n      </g>\r\n     </g>\r\n     <g id=\"text_8\">\r\n      <!-- 0.4 -->\r\n      <g transform=\"translate(7.2 149.215137)scale(0.1 -0.1)\">\r\n       <use xlink:href=\"#DejaVuSans-48\"/>\r\n       <use x=\"63.623047\" xlink:href=\"#DejaVuSans-46\"/>\r\n       <use x=\"95.410156\" xlink:href=\"#DejaVuSans-52\"/>\r\n      </g>\r\n     </g>\r\n    </g>\r\n    <g id=\"ytick_3\">\r\n     <g id=\"line2d_9\">\r\n      <g>\r\n       <use style=\"stroke:#000000;stroke-width:0.8;\" x=\"30.103125\" xlink:href=\"#m14e7544043\" y=\"102.638491\"/>\r\n      </g>\r\n     </g>\r\n     <g id=\"text_9\">\r\n      <!-- 0.6 -->\r\n      <g transform=\"translate(7.2 106.43771)scale(0.1 -0.1)\">\r\n       <use xlink:href=\"#DejaVuSans-48\"/>\r\n       <use x=\"63.623047\" xlink:href=\"#DejaVuSans-46\"/>\r\n       <use x=\"95.410156\" xlink:href=\"#DejaVuSans-54\"/>\r\n      </g>\r\n     </g>\r\n    </g>\r\n    <g id=\"ytick_4\">\r\n     <g id=\"line2d_10\">\r\n      <g>\r\n       <use style=\"stroke:#000000;stroke-width:0.8;\" x=\"30.103125\" xlink:href=\"#m14e7544043\" y=\"59.861064\"/>\r\n      </g>\r\n     </g>\r\n     <g id=\"text_10\">\r\n      <!-- 0.8 -->\r\n      <g transform=\"translate(7.2 63.660282)scale(0.1 -0.1)\">\r\n       <use xlink:href=\"#DejaVuSans-48\"/>\r\n       <use x=\"63.623047\" xlink:href=\"#DejaVuSans-46\"/>\r\n       <use x=\"95.410156\" xlink:href=\"#DejaVuSans-56\"/>\r\n      </g>\r\n     </g>\r\n    </g>\r\n    <g id=\"ytick_5\">\r\n     <g id=\"line2d_11\">\r\n      <g>\r\n       <use style=\"stroke:#000000;stroke-width:0.8;\" x=\"30.103125\" xlink:href=\"#m14e7544043\" y=\"17.083636\"/>\r\n      </g>\r\n     </g>\r\n     <g id=\"text_11\">\r\n      <!-- 1.0 -->\r\n      <g transform=\"translate(7.2 20.882855)scale(0.1 -0.1)\">\r\n       <use xlink:href=\"#DejaVuSans-49\"/>\r\n       <use x=\"63.623047\" xlink:href=\"#DejaVuSans-46\"/>\r\n       <use x=\"95.410156\" xlink:href=\"#DejaVuSans-48\"/>\r\n      </g>\r\n     </g>\r\n    </g>\r\n   </g>\r\n   <g id=\"line2d_12\">\r\n    <path clip-path=\"url(#pe065287e89)\" d=\"M 349.684943 214.535977 \r\nL 340.988839 214.756364 \r\nL 340.988839 214.272351 \r\nL 336.640787 214.48005 \r\nL 336.640787 214.384618 \r\nL 336.640787 210.321727 \r\nL 332.292735 210.39271 \r\nL 332.292735 210.302324 \r\nL 332.292735 208.774938 \r\nL 327.944683 209.076814 \r\nL 327.944683 209.007639 \r\nL 327.944683 205.461298 \r\nL 323.596631 205.761239 \r\nL 323.596631 205.668043 \r\nL 323.596631 204.797204 \r\nL 319.24858 205.107261 \r\nL 319.24858 205.057524 \r\nL 319.24858 204.907157 \r\nL 314.900528 205.171157 \r\nL 314.900528 204.234881 \r\nL 310.552476 204.344007 \r\nL 310.552476 204.234881 \r\nL 310.552476 202.232634 \r\nL 306.204424 202.578675 \r\nL 306.204424 197.375935 \r\nL 301.856372 197.586273 \r\nL 301.856372 197.49772 \r\nL 301.856372 195.120372 \r\nL 297.50832 195.6276 \r\nL 297.50832 194.268247 \r\nL 288.812216 195.322917 \r\nL 288.812216 195.109457 \r\nL 280.116112 196.181901 \r\nL 280.116112 196.076799 \r\nL 280.116112 195.757647 \r\nL 275.76806 196.304051 \r\nL 275.76806 196.197711 \r\nL 275.76806 195.322917 \r\nL 262.723904 196.583774 \r\nL 262.723904 195.791968 \r\nL 258.375852 196.267231 \r\nL 258.375852 195.443757 \r\nL 254.0278 195.690421 \r\nL 254.0278 195.073631 \r\nL 249.679748 195.448881 \r\nL 245.331696 196.081382 \r\nL 245.331696 194.258802 \r\nL 240.983644 194.786859 \r\nL 240.983644 191.362044 \r\nL 236.635593 191.920839 \r\nL 236.635593 191.758131 \r\nL 232.287541 192.488987 \r\nL 232.287541 191.999812 \r\nL 227.939489 191.913122 \r\nL 227.939489 189.951322 \r\nL 223.591437 190.371826 \r\nL 223.591437 186.903574 \r\nL 219.243385 187.761251 \r\nL 219.243385 184.973539 \r\nL 214.895333 185.881052 \r\nL 214.895333 184.884594 \r\nL 210.547281 185.816822 \r\nL 210.547281 180.799716 \r\nL 206.199229 181.816586 \r\nL 206.199229 174.036787 \r\nL 201.851177 175.174129 \r\nL 201.851177 166.265421 \r\nL 197.503125 167.529673 \r\nL 197.503125 163.528883 \r\nL 193.155073 164.860204 \r\nL 193.155073 162.365465 \r\nL 188.807021 163.102739 \r\nL 188.807021 161.086857 \r\nL 184.458969 162.526889 \r\nL 184.458969 147.502622 \r\nL 180.110917 149.112733 \r\nL 180.110917 140.141989 \r\nL 175.762865 141.851133 \r\nL 171.414813 141.076179 \r\nL 171.414813 139.7542 \r\nL 167.066761 141.585104 \r\nL 167.066761 140.230776 \r\nL 162.718709 142.125347 \r\nL 162.718709 140.737137 \r\nL 158.370657 142.699891 \r\nL 158.370657 139.805764 \r\nL 154.022606 141.851133 \r\nL 149.674554 142.465751 \r\nL 149.674554 132.253633 \r\nL 145.326502 130.57477 \r\nL 140.97845 130.85339 \r\nL 140.97845 116.202066 \r\nL 136.630398 112.769987 \r\nL 132.282346 115.356105 \r\nL 127.934294 111.445608 \r\nL 123.586242 110.659259 \r\nL 119.23819 113.677827 \r\nL 119.23819 96.301094 \r\nL 114.890138 99.34792 \r\nL 110.542086 102.638491 \r\nL 110.542086 97.291313 \r\nL 106.194034 100.778603 \r\nL 106.194034 94.860777 \r\nL 101.845982 98.56445 \r\nL 101.845982 91.944134 \r\nL 97.49793 95.88416 \r\nL 93.149878 92.573214 \r\nL 88.801826 88.379349 \r\nL 84.453774 93.471899 \r\nL 84.453774 82.895063 \r\nL 80.105722 75.416492 \r\nL 75.75767 81.249777 \r\nL 75.75767 43.819528 \r\nL 71.409619 47.638942 \r\nL 67.061567 52.731492 \r\nL 62.713515 59.861064 \r\nL 58.365463 70.555421 \r\nL 58.365463 17.083636 \r\nL 45.321307 17.083636 \r\nL 45.321307 17.083636 \r\n\" style=\"fill:none;stroke:#1f77b4;stroke-linecap:square;stroke-width:1.5;\"/>\r\n    <defs>\r\n     <path d=\"M 0 1.5 \r\nC 0.397805 1.5 0.77937 1.341951 1.06066 1.06066 \r\nC 1.341951 0.77937 1.5 0.397805 1.5 0 \r\nC 1.5 -0.397805 1.341951 -0.77937 1.06066 -1.06066 \r\nC 0.77937 -1.341951 0.397805 -1.5 0 -1.5 \r\nC -0.397805 -1.5 -0.77937 -1.341951 -1.06066 -1.06066 \r\nC -1.341951 -0.77937 -1.5 -0.397805 -1.5 0 \r\nC -1.5 0.397805 -1.341951 0.77937 -1.06066 1.06066 \r\nC -0.77937 1.341951 -0.397805 1.5 0 1.5 \r\nz\r\n\" id=\"m4303bf9cc2\" style=\"stroke:#1f77b4;\"/>\r\n    </defs>\r\n    <g clip-path=\"url(#pe065287e89)\">\r\n     <use style=\"fill:#1f77b4;stroke:#1f77b4;\" x=\"349.684943\" xlink:href=\"#m4303bf9cc2\" y=\"214.535977\"/>\r\n     <use style=\"fill:#1f77b4;stroke:#1f77b4;\" x=\"345.336891\" xlink:href=\"#m4303bf9cc2\" y=\"214.681355\"/>\r\n     <use style=\"fill:#1f77b4;stroke:#1f77b4;\" x=\"345.336891\" xlink:href=\"#m4303bf9cc2\" y=\"214.663356\"/>\r\n     <use style=\"fill:#1f77b4;stroke:#1f77b4;\" x=\"345.336891\" xlink:href=\"#m4303bf9cc2\" y=\"214.590959\"/>\r\n     <use style=\"fill:#1f77b4;stroke:#1f77b4;\" x=\"340.988839\" xlink:href=\"#m4303bf9cc2\" y=\"214.756364\"/>\r\n     <use style=\"fill:#1f77b4;stroke:#1f77b4;\" x=\"340.988839\" xlink:href=\"#m4303bf9cc2\" y=\"214.701953\"/>\r\n     <use style=\"fill:#1f77b4;stroke:#1f77b4;\" x=\"340.988839\" xlink:href=\"#m4303bf9cc2\" y=\"214.647176\"/>\r\n     <use style=\"fill:#1f77b4;stroke:#1f77b4;\" x=\"340.988839\" xlink:href=\"#m4303bf9cc2\" y=\"214.555056\"/>\r\n     <use style=\"fill:#1f77b4;stroke:#1f77b4;\" x=\"340.988839\" xlink:href=\"#m4303bf9cc2\" y=\"214.480608\"/>\r\n     <use style=\"fill:#1f77b4;stroke:#1f77b4;\" x=\"340.988839\" xlink:href=\"#m4303bf9cc2\" y=\"214.443131\"/>\r\n     <use style=\"fill:#1f77b4;stroke:#1f77b4;\" x=\"340.988839\" xlink:href=\"#m4303bf9cc2\" y=\"214.405482\"/>\r\n     <use style=\"fill:#1f77b4;stroke:#1f77b4;\" x=\"340.988839\" xlink:href=\"#m4303bf9cc2\" y=\"214.329669\"/>\r\n     <use style=\"fill:#1f77b4;stroke:#1f77b4;\" x=\"340.988839\" xlink:href=\"#m4303bf9cc2\" y=\"214.310607\"/>\r\n     <use style=\"fill:#1f77b4;stroke:#1f77b4;\" x=\"340.988839\" xlink:href=\"#m4303bf9cc2\" y=\"214.272351\"/>\r\n     <use style=\"fill:#1f77b4;stroke:#1f77b4;\" x=\"336.640787\" xlink:href=\"#m4303bf9cc2\" y=\"214.48005\"/>\r\n     <use style=\"fill:#1f77b4;stroke:#1f77b4;\" x=\"336.640787\" xlink:href=\"#m4303bf9cc2\" y=\"214.461052\"/>\r\n     <use style=\"fill:#1f77b4;stroke:#1f77b4;\" x=\"336.640787\" xlink:href=\"#m4303bf9cc2\" y=\"214.442009\"/>\r\n     <use style=\"fill:#1f77b4;stroke:#1f77b4;\" x=\"336.640787\" xlink:href=\"#m4303bf9cc2\" y=\"214.384618\"/>\r\n     <use style=\"fill:#1f77b4;stroke:#1f77b4;\" x=\"336.640787\" xlink:href=\"#m4303bf9cc2\" y=\"214.346135\"/>\r\n     <use style=\"fill:#1f77b4;stroke:#1f77b4;\" x=\"336.640787\" xlink:href=\"#m4303bf9cc2\" y=\"214.249142\"/>\r\n     <use style=\"fill:#1f77b4;stroke:#1f77b4;\" x=\"336.640787\" xlink:href=\"#m4303bf9cc2\" y=\"214.190401\"/>\r\n     <use style=\"fill:#1f77b4;stroke:#1f77b4;\" x=\"336.640787\" xlink:href=\"#m4303bf9cc2\" y=\"214.011675\"/>\r\n     <use style=\"fill:#1f77b4;stroke:#1f77b4;\" x=\"336.640787\" xlink:href=\"#m4303bf9cc2\" y=\"213.910728\"/>\r\n     <use style=\"fill:#1f77b4;stroke:#1f77b4;\" x=\"336.640787\" xlink:href=\"#m4303bf9cc2\" y=\"213.829101\"/>\r\n     <use style=\"fill:#1f77b4;stroke:#1f77b4;\" x=\"336.640787\" xlink:href=\"#m4303bf9cc2\" y=\"213.767366\"/>\r\n     <use style=\"fill:#1f77b4;stroke:#1f77b4;\" x=\"336.640787\" xlink:href=\"#m4303bf9cc2\" y=\"213.705185\"/>\r\n     <use style=\"fill:#1f77b4;stroke:#1f77b4;\" x=\"336.640787\" xlink:href=\"#m4303bf9cc2\" y=\"213.684358\"/>\r\n     <use style=\"fill:#1f77b4;stroke:#1f77b4;\" x=\"336.640787\" xlink:href=\"#m4303bf9cc2\" y=\"213.642553\"/>\r\n     <use style=\"fill:#1f77b4;stroke:#1f77b4;\" x=\"336.640787\" xlink:href=\"#m4303bf9cc2\" y=\"213.558333\"/>\r\n     <use style=\"fill:#1f77b4;stroke:#1f77b4;\" x=\"336.640787\" xlink:href=\"#m4303bf9cc2\" y=\"213.515915\"/>\r\n     <use style=\"fill:#1f77b4;stroke:#1f77b4;\" x=\"336.640787\" xlink:href=\"#m4303bf9cc2\" y=\"213.494629\"/>\r\n     <use style=\"fill:#1f77b4;stroke:#1f77b4;\" x=\"336.640787\" xlink:href=\"#m4303bf9cc2\" y=\"213.430457\"/>\r\n     <use style=\"fill:#1f77b4;stroke:#1f77b4;\" x=\"336.640787\" xlink:href=\"#m4303bf9cc2\" y=\"213.365812\"/>\r\n     <use style=\"fill:#1f77b4;stroke:#1f77b4;\" x=\"336.640787\" xlink:href=\"#m4303bf9cc2\" y=\"213.300689\"/>\r\n     <use style=\"fill:#1f77b4;stroke:#1f77b4;\" x=\"336.640787\" xlink:href=\"#m4303bf9cc2\" y=\"213.257005\"/>\r\n     <use style=\"fill:#1f77b4;stroke:#1f77b4;\" x=\"336.640787\" xlink:href=\"#m4303bf9cc2\" y=\"213.191073\"/>\r\n     <use style=\"fill:#1f77b4;stroke:#1f77b4;\" x=\"336.640787\" xlink:href=\"#m4303bf9cc2\" y=\"213.168987\"/>\r\n     <use style=\"fill:#1f77b4;stroke:#1f77b4;\" x=\"336.640787\" xlink:href=\"#m4303bf9cc2\" y=\"213.057725\"/>\r\n     <use style=\"fill:#1f77b4;stroke:#1f77b4;\" x=\"336.640787\" xlink:href=\"#m4303bf9cc2\" y=\"212.96771\"/>\r\n     <use style=\"fill:#1f77b4;stroke:#1f77b4;\" x=\"336.640787\" xlink:href=\"#m4303bf9cc2\" y=\"212.876786\"/>\r\n     <use style=\"fill:#1f77b4;stroke:#1f77b4;\" x=\"336.640787\" xlink:href=\"#m4303bf9cc2\" y=\"212.853911\"/>\r\n     <use style=\"fill:#1f77b4;stroke:#1f77b4;\" x=\"336.640787\" xlink:href=\"#m4303bf9cc2\" y=\"212.784938\"/>\r\n     <use style=\"fill:#1f77b4;stroke:#1f77b4;\" x=\"336.640787\" xlink:href=\"#m4303bf9cc2\" y=\"212.692153\"/>\r\n     <use style=\"fill:#1f77b4;stroke:#1f77b4;\" x=\"336.640787\" xlink:href=\"#m4303bf9cc2\" y=\"212.645405\"/>\r\n     <use style=\"fill:#1f77b4;stroke:#1f77b4;\" x=\"336.640787\" xlink:href=\"#m4303bf9cc2\" y=\"212.527481\"/>\r\n     <use style=\"fill:#1f77b4;stroke:#1f77b4;\" x=\"336.640787\" xlink:href=\"#m4303bf9cc2\" y=\"212.408029\"/>\r\n     <use style=\"fill:#1f77b4;stroke:#1f77b4;\" x=\"336.640787\" xlink:href=\"#m4303bf9cc2\" y=\"212.335613\"/>\r\n     <use style=\"fill:#1f77b4;stroke:#1f77b4;\" x=\"336.640787\" xlink:href=\"#m4303bf9cc2\" y=\"212.262629\"/>\r\n     <use style=\"fill:#1f77b4;stroke:#1f77b4;\" x=\"336.640787\" xlink:href=\"#m4303bf9cc2\" y=\"212.213655\"/>\r\n     <use style=\"fill:#1f77b4;stroke:#1f77b4;\" x=\"336.640787\" xlink:href=\"#m4303bf9cc2\" y=\"212.164424\"/>\r\n     <use style=\"fill:#1f77b4;stroke:#1f77b4;\" x=\"336.640787\" xlink:href=\"#m4303bf9cc2\" y=\"212.114933\"/>\r\n     <use style=\"fill:#1f77b4;stroke:#1f77b4;\" x=\"336.640787\" xlink:href=\"#m4303bf9cc2\" y=\"212.040208\"/>\r\n     <use style=\"fill:#1f77b4;stroke:#1f77b4;\" x=\"336.640787\" xlink:href=\"#m4303bf9cc2\" y=\"211.99006\"/>\r\n     <use style=\"fill:#1f77b4;stroke:#1f77b4;\" x=\"336.640787\" xlink:href=\"#m4303bf9cc2\" y=\"211.939647\"/>\r\n     <use style=\"fill:#1f77b4;stroke:#1f77b4;\" x=\"336.640787\" xlink:href=\"#m4303bf9cc2\" y=\"211.888965\"/>\r\n     <use style=\"fill:#1f77b4;stroke:#1f77b4;\" x=\"336.640787\" xlink:href=\"#m4303bf9cc2\" y=\"211.786786\"/>\r\n     <use style=\"fill:#1f77b4;stroke:#1f77b4;\" x=\"336.640787\" xlink:href=\"#m4303bf9cc2\" y=\"211.735286\"/>\r\n     <use style=\"fill:#1f77b4;stroke:#1f77b4;\" x=\"336.640787\" xlink:href=\"#m4303bf9cc2\" y=\"211.605316\"/>\r\n     <use style=\"fill:#1f77b4;stroke:#1f77b4;\" x=\"336.640787\" xlink:href=\"#m4303bf9cc2\" y=\"211.579111\"/>\r\n     <use style=\"fill:#1f77b4;stroke:#1f77b4;\" x=\"336.640787\" xlink:href=\"#m4303bf9cc2\" y=\"211.500069\"/>\r\n     <use style=\"fill:#1f77b4;stroke:#1f77b4;\" x=\"336.640787\" xlink:href=\"#m4303bf9cc2\" y=\"211.366891\"/>\r\n     <use style=\"fill:#1f77b4;stroke:#1f77b4;\" x=\"336.640787\" xlink:href=\"#m4303bf9cc2\" y=\"211.340036\"/>\r\n     <use style=\"fill:#1f77b4;stroke:#1f77b4;\" x=\"336.640787\" xlink:href=\"#m4303bf9cc2\" y=\"211.259029\"/>\r\n     <use style=\"fill:#1f77b4;stroke:#1f77b4;\" x=\"336.640787\" xlink:href=\"#m4303bf9cc2\" y=\"211.011946\"/>\r\n     <use style=\"fill:#1f77b4;stroke:#1f77b4;\" x=\"336.640787\" xlink:href=\"#m4303bf9cc2\" y=\"210.928202\"/>\r\n     <use style=\"fill:#1f77b4;stroke:#1f77b4;\" x=\"336.640787\" xlink:href=\"#m4303bf9cc2\" y=\"210.900131\"/>\r\n     <use style=\"fill:#1f77b4;stroke:#1f77b4;\" x=\"336.640787\" xlink:href=\"#m4303bf9cc2\" y=\"210.787057\"/>\r\n     <use style=\"fill:#1f77b4;stroke:#1f77b4;\" x=\"336.640787\" xlink:href=\"#m4303bf9cc2\" y=\"210.75859\"/>\r\n     <use style=\"fill:#1f77b4;stroke:#1f77b4;\" x=\"336.640787\" xlink:href=\"#m4303bf9cc2\" y=\"210.701412\"/>\r\n     <use style=\"fill:#1f77b4;stroke:#1f77b4;\" x=\"336.640787\" xlink:href=\"#m4303bf9cc2\" y=\"210.615037\"/>\r\n     <use style=\"fill:#1f77b4;stroke:#1f77b4;\" x=\"336.640787\" xlink:href=\"#m4303bf9cc2\" y=\"210.527923\"/>\r\n     <use style=\"fill:#1f77b4;stroke:#1f77b4;\" x=\"336.640787\" xlink:href=\"#m4303bf9cc2\" y=\"210.381063\"/>\r\n     <use style=\"fill:#1f77b4;stroke:#1f77b4;\" x=\"336.640787\" xlink:href=\"#m4303bf9cc2\" y=\"210.321727\"/>\r\n     <use style=\"fill:#1f77b4;stroke:#1f77b4;\" x=\"332.292735\" xlink:href=\"#m4303bf9cc2\" y=\"210.39271\"/>\r\n     <use style=\"fill:#1f77b4;stroke:#1f77b4;\" x=\"332.292735\" xlink:href=\"#m4303bf9cc2\" y=\"210.302324\"/>\r\n     <use style=\"fill:#1f77b4;stroke:#1f77b4;\" x=\"332.292735\" xlink:href=\"#m4303bf9cc2\" y=\"210.241623\"/>\r\n     <use style=\"fill:#1f77b4;stroke:#1f77b4;\" x=\"332.292735\" xlink:href=\"#m4303bf9cc2\" y=\"210.119147\"/>\r\n     <use style=\"fill:#1f77b4;stroke:#1f77b4;\" x=\"332.292735\" xlink:href=\"#m4303bf9cc2\" y=\"210.057364\"/>\r\n     <use style=\"fill:#1f77b4;stroke:#1f77b4;\" x=\"332.292735\" xlink:href=\"#m4303bf9cc2\" y=\"210.026335\"/>\r\n     <use style=\"fill:#1f77b4;stroke:#1f77b4;\" x=\"332.292735\" xlink:href=\"#m4303bf9cc2\" y=\"209.995214\"/>\r\n     <use style=\"fill:#1f77b4;stroke:#1f77b4;\" x=\"332.292735\" xlink:href=\"#m4303bf9cc2\" y=\"209.901294\"/>\r\n     <use style=\"fill:#1f77b4;stroke:#1f77b4;\" x=\"332.292735\" xlink:href=\"#m4303bf9cc2\" y=\"209.774751\"/>\r\n     <use style=\"fill:#1f77b4;stroke:#1f77b4;\" x=\"332.292735\" xlink:href=\"#m4303bf9cc2\" y=\"209.742877\"/>\r\n     <use style=\"fill:#1f77b4;stroke:#1f77b4;\" x=\"332.292735\" xlink:href=\"#m4303bf9cc2\" y=\"209.678841\"/>\r\n     <use style=\"fill:#1f77b4;stroke:#1f77b4;\" x=\"332.292735\" xlink:href=\"#m4303bf9cc2\" y=\"209.646678\"/>\r\n     <use style=\"fill:#1f77b4;stroke:#1f77b4;\" x=\"332.292735\" xlink:href=\"#m4303bf9cc2\" y=\"209.517048\"/>\r\n     <use style=\"fill:#1f77b4;stroke:#1f77b4;\" x=\"332.292735\" xlink:href=\"#m4303bf9cc2\" y=\"209.484394\"/>\r\n     <use style=\"fill:#1f77b4;stroke:#1f77b4;\" x=\"332.292735\" xlink:href=\"#m4303bf9cc2\" y=\"209.45164\"/>\r\n     <use style=\"fill:#1f77b4;stroke:#1f77b4;\" x=\"332.292735\" xlink:href=\"#m4303bf9cc2\" y=\"209.385833\"/>\r\n     <use style=\"fill:#1f77b4;stroke:#1f77b4;\" x=\"332.292735\" xlink:href=\"#m4303bf9cc2\" y=\"209.253002\"/>\r\n     <use style=\"fill:#1f77b4;stroke:#1f77b4;\" x=\"332.292735\" xlink:href=\"#m4303bf9cc2\" y=\"209.152302\"/>\r\n     <use style=\"fill:#1f77b4;stroke:#1f77b4;\" x=\"332.292735\" xlink:href=\"#m4303bf9cc2\" y=\"209.118527\"/>\r\n     <use style=\"fill:#1f77b4;stroke:#1f77b4;\" x=\"332.292735\" xlink:href=\"#m4303bf9cc2\" y=\"208.982376\"/>\r\n     <use style=\"fill:#1f77b4;stroke:#1f77b4;\" x=\"332.292735\" xlink:href=\"#m4303bf9cc2\" y=\"208.879144\"/>\r\n     <use style=\"fill:#1f77b4;stroke:#1f77b4;\" x=\"332.292735\" xlink:href=\"#m4303bf9cc2\" y=\"208.844518\"/>\r\n     <use style=\"fill:#1f77b4;stroke:#1f77b4;\" x=\"332.292735\" xlink:href=\"#m4303bf9cc2\" y=\"208.774938\"/>\r\n     <use style=\"fill:#1f77b4;stroke:#1f77b4;\" x=\"327.944683\" xlink:href=\"#m4303bf9cc2\" y=\"209.076814\"/>\r\n     <use style=\"fill:#1f77b4;stroke:#1f77b4;\" x=\"327.944683\" xlink:href=\"#m4303bf9cc2\" y=\"209.007639\"/>\r\n     <use style=\"fill:#1f77b4;stroke:#1f77b4;\" x=\"327.944683\" xlink:href=\"#m4303bf9cc2\" y=\"208.938025\"/>\r\n     <use style=\"fill:#1f77b4;stroke:#1f77b4;\" x=\"327.944683\" xlink:href=\"#m4303bf9cc2\" y=\"208.903053\"/>\r\n     <use style=\"fill:#1f77b4;stroke:#1f77b4;\" x=\"327.944683\" xlink:href=\"#m4303bf9cc2\" y=\"208.832773\"/>\r\n     <use style=\"fill:#1f77b4;stroke:#1f77b4;\" x=\"327.944683\" xlink:href=\"#m4303bf9cc2\" y=\"208.762045\"/>\r\n     <use style=\"fill:#1f77b4;stroke:#1f77b4;\" x=\"327.944683\" xlink:href=\"#m4303bf9cc2\" y=\"208.690863\"/>\r\n     <use style=\"fill:#1f77b4;stroke:#1f77b4;\" x=\"327.944683\" xlink:href=\"#m4303bf9cc2\" y=\"208.583231\"/>\r\n     <use style=\"fill:#1f77b4;stroke:#1f77b4;\" x=\"327.944683\" xlink:href=\"#m4303bf9cc2\" y=\"208.474553\"/>\r\n     <use style=\"fill:#1f77b4;stroke:#1f77b4;\" x=\"327.944683\" xlink:href=\"#m4303bf9cc2\" y=\"208.438093\"/>\r\n     <use style=\"fill:#1f77b4;stroke:#1f77b4;\" x=\"327.944683\" xlink:href=\"#m4303bf9cc2\" y=\"208.401514\"/>\r\n     <use style=\"fill:#1f77b4;stroke:#1f77b4;\" x=\"327.944683\" xlink:href=\"#m4303bf9cc2\" y=\"208.364816\"/>\r\n     <use style=\"fill:#1f77b4;stroke:#1f77b4;\" x=\"327.944683\" xlink:href=\"#m4303bf9cc2\" y=\"208.327998\"/>\r\n     <use style=\"fill:#1f77b4;stroke:#1f77b4;\" x=\"327.944683\" xlink:href=\"#m4303bf9cc2\" y=\"208.254002\"/>\r\n     <use style=\"fill:#1f77b4;stroke:#1f77b4;\" x=\"327.944683\" xlink:href=\"#m4303bf9cc2\" y=\"208.216822\"/>\r\n     <use style=\"fill:#1f77b4;stroke:#1f77b4;\" x=\"327.944683\" xlink:href=\"#m4303bf9cc2\" y=\"208.179521\"/>\r\n     <use style=\"fill:#1f77b4;stroke:#1f77b4;\" x=\"327.944683\" xlink:href=\"#m4303bf9cc2\" y=\"208.142097\"/>\r\n     <use style=\"fill:#1f77b4;stroke:#1f77b4;\" x=\"327.944683\" xlink:href=\"#m4303bf9cc2\" y=\"208.066879\"/>\r\n     <use style=\"fill:#1f77b4;stroke:#1f77b4;\" x=\"327.944683\" xlink:href=\"#m4303bf9cc2\" y=\"207.991163\"/>\r\n     <use style=\"fill:#1f77b4;stroke:#1f77b4;\" x=\"327.944683\" xlink:href=\"#m4303bf9cc2\" y=\"207.953118\"/>\r\n     <use style=\"fill:#1f77b4;stroke:#1f77b4;\" x=\"327.944683\" xlink:href=\"#m4303bf9cc2\" y=\"207.914946\"/>\r\n     <use style=\"fill:#1f77b4;stroke:#1f77b4;\" x=\"327.944683\" xlink:href=\"#m4303bf9cc2\" y=\"207.876647\"/>\r\n     <use style=\"fill:#1f77b4;stroke:#1f77b4;\" x=\"327.944683\" xlink:href=\"#m4303bf9cc2\" y=\"207.838221\"/>\r\n     <use style=\"fill:#1f77b4;stroke:#1f77b4;\" x=\"327.944683\" xlink:href=\"#m4303bf9cc2\" y=\"207.799667\"/>\r\n     <use style=\"fill:#1f77b4;stroke:#1f77b4;\" x=\"327.944683\" xlink:href=\"#m4303bf9cc2\" y=\"207.565615\"/>\r\n     <use style=\"fill:#1f77b4;stroke:#1f77b4;\" x=\"327.944683\" xlink:href=\"#m4303bf9cc2\" y=\"207.526146\"/>\r\n     <use style=\"fill:#1f77b4;stroke:#1f77b4;\" x=\"327.944683\" xlink:href=\"#m4303bf9cc2\" y=\"207.406936\"/>\r\n     <use style=\"fill:#1f77b4;stroke:#1f77b4;\" x=\"327.944683\" xlink:href=\"#m4303bf9cc2\" y=\"207.366929\"/>\r\n     <use style=\"fill:#1f77b4;stroke:#1f77b4;\" x=\"327.944683\" xlink:href=\"#m4303bf9cc2\" y=\"207.326787\"/>\r\n     <use style=\"fill:#1f77b4;stroke:#1f77b4;\" x=\"327.944683\" xlink:href=\"#m4303bf9cc2\" y=\"207.124008\"/>\r\n     <use style=\"fill:#1f77b4;stroke:#1f77b4;\" x=\"327.944683\" xlink:href=\"#m4303bf9cc2\" y=\"207.083034\"/>\r\n     <use style=\"fill:#1f77b4;stroke:#1f77b4;\" x=\"327.944683\" xlink:href=\"#m4303bf9cc2\" y=\"207.000663\"/>\r\n     <use style=\"fill:#1f77b4;stroke:#1f77b4;\" x=\"327.944683\" xlink:href=\"#m4303bf9cc2\" y=\"206.917721\"/>\r\n     <use style=\"fill:#1f77b4;stroke:#1f77b4;\" x=\"327.944683\" xlink:href=\"#m4303bf9cc2\" y=\"206.834204\"/>\r\n     <use style=\"fill:#1f77b4;stroke:#1f77b4;\" x=\"327.944683\" xlink:href=\"#m4303bf9cc2\" y=\"206.792227\"/>\r\n     <use style=\"fill:#1f77b4;stroke:#1f77b4;\" x=\"327.944683\" xlink:href=\"#m4303bf9cc2\" y=\"206.750104\"/>\r\n     <use style=\"fill:#1f77b4;stroke:#1f77b4;\" x=\"327.944683\" xlink:href=\"#m4303bf9cc2\" y=\"206.707834\"/>\r\n     <use style=\"fill:#1f77b4;stroke:#1f77b4;\" x=\"327.944683\" xlink:href=\"#m4303bf9cc2\" y=\"206.62285\"/>\r\n     <use style=\"fill:#1f77b4;stroke:#1f77b4;\" x=\"327.944683\" xlink:href=\"#m4303bf9cc2\" y=\"206.537269\"/>\r\n     <use style=\"fill:#1f77b4;stroke:#1f77b4;\" x=\"327.944683\" xlink:href=\"#m4303bf9cc2\" y=\"206.494252\"/>\r\n     <use style=\"fill:#1f77b4;stroke:#1f77b4;\" x=\"327.944683\" xlink:href=\"#m4303bf9cc2\" y=\"206.364288\"/>\r\n     <use style=\"fill:#1f77b4;stroke:#1f77b4;\" x=\"327.944683\" xlink:href=\"#m4303bf9cc2\" y=\"206.32066\"/>\r\n     <use style=\"fill:#1f77b4;stroke:#1f77b4;\" x=\"327.944683\" xlink:href=\"#m4303bf9cc2\" y=\"206.276876\"/>\r\n     <use style=\"fill:#1f77b4;stroke:#1f77b4;\" x=\"327.944683\" xlink:href=\"#m4303bf9cc2\" y=\"206.232937\"/>\r\n     <use style=\"fill:#1f77b4;stroke:#1f77b4;\" x=\"327.944683\" xlink:href=\"#m4303bf9cc2\" y=\"206.188841\"/>\r\n     <use style=\"fill:#1f77b4;stroke:#1f77b4;\" x=\"327.944683\" xlink:href=\"#m4303bf9cc2\" y=\"206.144588\"/>\r\n     <use style=\"fill:#1f77b4;stroke:#1f77b4;\" x=\"327.944683\" xlink:href=\"#m4303bf9cc2\" y=\"206.100176\"/>\r\n     <use style=\"fill:#1f77b4;stroke:#1f77b4;\" x=\"327.944683\" xlink:href=\"#m4303bf9cc2\" y=\"206.055605\"/>\r\n     <use style=\"fill:#1f77b4;stroke:#1f77b4;\" x=\"327.944683\" xlink:href=\"#m4303bf9cc2\" y=\"206.010874\"/>\r\n     <use style=\"fill:#1f77b4;stroke:#1f77b4;\" x=\"327.944683\" xlink:href=\"#m4303bf9cc2\" y=\"205.875712\"/>\r\n     <use style=\"fill:#1f77b4;stroke:#1f77b4;\" x=\"327.944683\" xlink:href=\"#m4303bf9cc2\" y=\"205.784788\"/>\r\n     <use style=\"fill:#1f77b4;stroke:#1f77b4;\" x=\"327.944683\" xlink:href=\"#m4303bf9cc2\" y=\"205.739078\"/>\r\n     <use style=\"fill:#1f77b4;stroke:#1f77b4;\" x=\"327.944683\" xlink:href=\"#m4303bf9cc2\" y=\"205.693202\"/>\r\n     <use style=\"fill:#1f77b4;stroke:#1f77b4;\" x=\"327.944683\" xlink:href=\"#m4303bf9cc2\" y=\"205.647159\"/>\r\n     <use style=\"fill:#1f77b4;stroke:#1f77b4;\" x=\"327.944683\" xlink:href=\"#m4303bf9cc2\" y=\"205.508019\"/>\r\n     <use style=\"fill:#1f77b4;stroke:#1f77b4;\" x=\"327.944683\" xlink:href=\"#m4303bf9cc2\" y=\"205.461298\"/>\r\n     <use style=\"fill:#1f77b4;stroke:#1f77b4;\" x=\"323.596631\" xlink:href=\"#m4303bf9cc2\" y=\"205.761239\"/>\r\n     <use style=\"fill:#1f77b4;stroke:#1f77b4;\" x=\"323.596631\" xlink:href=\"#m4303bf9cc2\" y=\"205.668043\"/>\r\n     <use style=\"fill:#1f77b4;stroke:#1f77b4;\" x=\"323.596631\" xlink:href=\"#m4303bf9cc2\" y=\"205.574156\"/>\r\n     <use style=\"fill:#1f77b4;stroke:#1f77b4;\" x=\"323.596631\" xlink:href=\"#m4303bf9cc2\" y=\"205.479569\"/>\r\n     <use style=\"fill:#1f77b4;stroke:#1f77b4;\" x=\"323.596631\" xlink:href=\"#m4303bf9cc2\" y=\"205.384275\"/>\r\n     <use style=\"fill:#1f77b4;stroke:#1f77b4;\" x=\"323.596631\" xlink:href=\"#m4303bf9cc2\" y=\"205.23999\"/>\r\n     <use style=\"fill:#1f77b4;stroke:#1f77b4;\" x=\"323.596631\" xlink:href=\"#m4303bf9cc2\" y=\"205.191533\"/>\r\n     <use style=\"fill:#1f77b4;stroke:#1f77b4;\" x=\"323.596631\" xlink:href=\"#m4303bf9cc2\" y=\"205.142892\"/>\r\n     <use style=\"fill:#1f77b4;stroke:#1f77b4;\" x=\"323.596631\" xlink:href=\"#m4303bf9cc2\" y=\"205.094068\"/>\r\n     <use style=\"fill:#1f77b4;stroke:#1f77b4;\" x=\"323.596631\" xlink:href=\"#m4303bf9cc2\" y=\"205.04506\"/>\r\n     <use style=\"fill:#1f77b4;stroke:#1f77b4;\" x=\"323.596631\" xlink:href=\"#m4303bf9cc2\" y=\"204.946483\"/>\r\n     <use style=\"fill:#1f77b4;stroke:#1f77b4;\" x=\"323.596631\" xlink:href=\"#m4303bf9cc2\" y=\"204.847153\"/>\r\n     <use style=\"fill:#1f77b4;stroke:#1f77b4;\" x=\"323.596631\" xlink:href=\"#m4303bf9cc2\" y=\"204.797204\"/>\r\n     <use style=\"fill:#1f77b4;stroke:#1f77b4;\" x=\"319.24858\" xlink:href=\"#m4303bf9cc2\" y=\"205.107261\"/>\r\n     <use style=\"fill:#1f77b4;stroke:#1f77b4;\" x=\"319.24858\" xlink:href=\"#m4303bf9cc2\" y=\"205.057524\"/>\r\n     <use style=\"fill:#1f77b4;stroke:#1f77b4;\" x=\"319.24858\" xlink:href=\"#m4303bf9cc2\" y=\"204.957473\"/>\r\n     <use style=\"fill:#1f77b4;stroke:#1f77b4;\" x=\"319.24858\" xlink:href=\"#m4303bf9cc2\" y=\"204.907157\"/>\r\n     <use style=\"fill:#1f77b4;stroke:#1f77b4;\" x=\"314.900528\" xlink:href=\"#m4303bf9cc2\" y=\"205.171157\"/>\r\n     <use style=\"fill:#1f77b4;stroke:#1f77b4;\" x=\"314.900528\" xlink:href=\"#m4303bf9cc2\" y=\"204.968807\"/>\r\n     <use style=\"fill:#1f77b4;stroke:#1f77b4;\" x=\"314.900528\" xlink:href=\"#m4303bf9cc2\" y=\"204.866438\"/>\r\n     <use style=\"fill:#1f77b4;stroke:#1f77b4;\" x=\"314.900528\" xlink:href=\"#m4303bf9cc2\" y=\"204.81495\"/>\r\n     <use style=\"fill:#1f77b4;stroke:#1f77b4;\" x=\"314.900528\" xlink:href=\"#m4303bf9cc2\" y=\"204.763258\"/>\r\n     <use style=\"fill:#1f77b4;stroke:#1f77b4;\" x=\"314.900528\" xlink:href=\"#m4303bf9cc2\" y=\"204.711362\"/>\r\n     <use style=\"fill:#1f77b4;stroke:#1f77b4;\" x=\"314.900528\" xlink:href=\"#m4303bf9cc2\" y=\"204.65926\"/>\r\n     <use style=\"fill:#1f77b4;stroke:#1f77b4;\" x=\"314.900528\" xlink:href=\"#m4303bf9cc2\" y=\"204.606951\"/>\r\n     <use style=\"fill:#1f77b4;stroke:#1f77b4;\" x=\"314.900528\" xlink:href=\"#m4303bf9cc2\" y=\"204.501706\"/>\r\n     <use style=\"fill:#1f77b4;stroke:#1f77b4;\" x=\"314.900528\" xlink:href=\"#m4303bf9cc2\" y=\"204.342254\"/>\r\n     <use style=\"fill:#1f77b4;stroke:#1f77b4;\" x=\"314.900528\" xlink:href=\"#m4303bf9cc2\" y=\"204.234881\"/>\r\n     <use style=\"fill:#1f77b4;stroke:#1f77b4;\" x=\"310.552476\" xlink:href=\"#m4303bf9cc2\" y=\"204.344007\"/>\r\n     <use style=\"fill:#1f77b4;stroke:#1f77b4;\" x=\"310.552476\" xlink:href=\"#m4303bf9cc2\" y=\"204.234881\"/>\r\n     <use style=\"fill:#1f77b4;stroke:#1f77b4;\" x=\"310.552476\" xlink:href=\"#m4303bf9cc2\" y=\"204.124857\"/>\r\n     <use style=\"fill:#1f77b4;stroke:#1f77b4;\" x=\"310.552476\" xlink:href=\"#m4303bf9cc2\" y=\"204.013923\"/>\r\n     <use style=\"fill:#1f77b4;stroke:#1f77b4;\" x=\"310.552476\" xlink:href=\"#m4303bf9cc2\" y=\"203.958112\"/>\r\n     <use style=\"fill:#1f77b4;stroke:#1f77b4;\" x=\"310.552476\" xlink:href=\"#m4303bf9cc2\" y=\"203.789283\"/>\r\n     <use style=\"fill:#1f77b4;stroke:#1f77b4;\" x=\"310.552476\" xlink:href=\"#m4303bf9cc2\" y=\"203.675553\"/>\r\n     <use style=\"fill:#1f77b4;stroke:#1f77b4;\" x=\"310.552476\" xlink:href=\"#m4303bf9cc2\" y=\"203.560867\"/>\r\n     <use style=\"fill:#1f77b4;stroke:#1f77b4;\" x=\"310.552476\" xlink:href=\"#m4303bf9cc2\" y=\"203.38702\"/>\r\n     <use style=\"fill:#1f77b4;stroke:#1f77b4;\" x=\"310.552476\" xlink:href=\"#m4303bf9cc2\" y=\"203.269891\"/>\r\n     <use style=\"fill:#1f77b4;stroke:#1f77b4;\" x=\"310.552476\" xlink:href=\"#m4303bf9cc2\" y=\"203.210953\"/>\r\n     <use style=\"fill:#1f77b4;stroke:#1f77b4;\" x=\"310.552476\" xlink:href=\"#m4303bf9cc2\" y=\"203.151764\"/>\r\n     <use style=\"fill:#1f77b4;stroke:#1f77b4;\" x=\"310.552476\" xlink:href=\"#m4303bf9cc2\" y=\"203.092322\"/>\r\n     <use style=\"fill:#1f77b4;stroke:#1f77b4;\" x=\"310.552476\" xlink:href=\"#m4303bf9cc2\" y=\"203.032625\"/>\r\n     <use style=\"fill:#1f77b4;stroke:#1f77b4;\" x=\"310.552476\" xlink:href=\"#m4303bf9cc2\" y=\"202.791258\"/>\r\n     <use style=\"fill:#1f77b4;stroke:#1f77b4;\" x=\"310.552476\" xlink:href=\"#m4303bf9cc2\" y=\"202.730264\"/>\r\n     <use style=\"fill:#1f77b4;stroke:#1f77b4;\" x=\"310.552476\" xlink:href=\"#m4303bf9cc2\" y=\"202.545685\"/>\r\n     <use style=\"fill:#1f77b4;stroke:#1f77b4;\" x=\"310.552476\" xlink:href=\"#m4303bf9cc2\" y=\"202.483622\"/>\r\n     <use style=\"fill:#1f77b4;stroke:#1f77b4;\" x=\"310.552476\" xlink:href=\"#m4303bf9cc2\" y=\"202.232634\"/>\r\n     <use style=\"fill:#1f77b4;stroke:#1f77b4;\" x=\"306.204424\" xlink:href=\"#m4303bf9cc2\" y=\"202.578675\"/>\r\n     <use style=\"fill:#1f77b4;stroke:#1f77b4;\" x=\"306.204424\" xlink:href=\"#m4303bf9cc2\" y=\"202.325174\"/>\r\n     <use style=\"fill:#1f77b4;stroke:#1f77b4;\" x=\"306.204424\" xlink:href=\"#m4303bf9cc2\" y=\"202.196719\"/>\r\n     <use style=\"fill:#1f77b4;stroke:#1f77b4;\" x=\"306.204424\" xlink:href=\"#m4303bf9cc2\" y=\"202.067106\"/>\r\n     <use style=\"fill:#1f77b4;stroke:#1f77b4;\" x=\"306.204424\" xlink:href=\"#m4303bf9cc2\" y=\"202.001861\"/>\r\n     <use style=\"fill:#1f77b4;stroke:#1f77b4;\" x=\"306.204424\" xlink:href=\"#m4303bf9cc2\" y=\"201.804345\"/>\r\n     <use style=\"fill:#1f77b4;stroke:#1f77b4;\" x=\"306.204424\" xlink:href=\"#m4303bf9cc2\" y=\"201.737907\"/>\r\n     <use style=\"fill:#1f77b4;stroke:#1f77b4;\" x=\"306.204424\" xlink:href=\"#m4303bf9cc2\" y=\"201.604118\"/>\r\n     <use style=\"fill:#1f77b4;stroke:#1f77b4;\" x=\"306.204424\" xlink:href=\"#m4303bf9cc2\" y=\"201.401123\"/>\r\n     <use style=\"fill:#1f77b4;stroke:#1f77b4;\" x=\"306.204424\" xlink:href=\"#m4303bf9cc2\" y=\"201.264226\"/>\r\n     <use style=\"fill:#1f77b4;stroke:#1f77b4;\" x=\"306.204424\" xlink:href=\"#m4303bf9cc2\" y=\"201.195302\"/>\r\n     <use style=\"fill:#1f77b4;stroke:#1f77b4;\" x=\"306.204424\" xlink:href=\"#m4303bf9cc2\" y=\"201.056488\"/>\r\n     <use style=\"fill:#1f77b4;stroke:#1f77b4;\" x=\"306.204424\" xlink:href=\"#m4303bf9cc2\" y=\"200.916375\"/>\r\n     <use style=\"fill:#1f77b4;stroke:#1f77b4;\" x=\"306.204424\" xlink:href=\"#m4303bf9cc2\" y=\"200.774942\"/>\r\n     <use style=\"fill:#1f77b4;stroke:#1f77b4;\" x=\"306.204424\" xlink:href=\"#m4303bf9cc2\" y=\"200.703725\"/>\r\n     <use style=\"fill:#1f77b4;stroke:#1f77b4;\" x=\"306.204424\" xlink:href=\"#m4303bf9cc2\" y=\"200.342544\"/>\r\n     <use style=\"fill:#1f77b4;stroke:#1f77b4;\" x=\"306.204424\" xlink:href=\"#m4303bf9cc2\" y=\"200.121667\"/>\r\n     <use style=\"fill:#1f77b4;stroke:#1f77b4;\" x=\"306.204424\" xlink:href=\"#m4303bf9cc2\" y=\"200.047332\"/>\r\n     <use style=\"fill:#1f77b4;stroke:#1f77b4;\" x=\"306.204424\" xlink:href=\"#m4303bf9cc2\" y=\"199.972637\"/>\r\n     <use style=\"fill:#1f77b4;stroke:#1f77b4;\" x=\"306.204424\" xlink:href=\"#m4303bf9cc2\" y=\"199.822161\"/>\r\n     <use style=\"fill:#1f77b4;stroke:#1f77b4;\" x=\"306.204424\" xlink:href=\"#m4303bf9cc2\" y=\"199.670217\"/>\r\n     <use style=\"fill:#1f77b4;stroke:#1f77b4;\" x=\"306.204424\" xlink:href=\"#m4303bf9cc2\" y=\"199.593687\"/>\r\n     <use style=\"fill:#1f77b4;stroke:#1f77b4;\" x=\"306.204424\" xlink:href=\"#m4303bf9cc2\" y=\"199.361837\"/>\r\n     <use style=\"fill:#1f77b4;stroke:#1f77b4;\" x=\"306.204424\" xlink:href=\"#m4303bf9cc2\" y=\"199.126534\"/>\r\n     <use style=\"fill:#1f77b4;stroke:#1f77b4;\" x=\"306.204424\" xlink:href=\"#m4303bf9cc2\" y=\"198.887703\"/>\r\n     <use style=\"fill:#1f77b4;stroke:#1f77b4;\" x=\"306.204424\" xlink:href=\"#m4303bf9cc2\" y=\"198.807294\"/>\r\n     <use style=\"fill:#1f77b4;stroke:#1f77b4;\" x=\"306.204424\" xlink:href=\"#m4303bf9cc2\" y=\"198.726481\"/>\r\n     <use style=\"fill:#1f77b4;stroke:#1f77b4;\" x=\"306.204424\" xlink:href=\"#m4303bf9cc2\" y=\"198.481588\"/>\r\n     <use style=\"fill:#1f77b4;stroke:#1f77b4;\" x=\"306.204424\" xlink:href=\"#m4303bf9cc2\" y=\"198.399128\"/>\r\n     <use style=\"fill:#1f77b4;stroke:#1f77b4;\" x=\"306.204424\" xlink:href=\"#m4303bf9cc2\" y=\"198.232946\"/>\r\n     <use style=\"fill:#1f77b4;stroke:#1f77b4;\" x=\"306.204424\" xlink:href=\"#m4303bf9cc2\" y=\"198.06506\"/>\r\n     <use style=\"fill:#1f77b4;stroke:#1f77b4;\" x=\"306.204424\" xlink:href=\"#m4303bf9cc2\" y=\"197.809977\"/>\r\n     <use style=\"fill:#1f77b4;stroke:#1f77b4;\" x=\"306.204424\" xlink:href=\"#m4303bf9cc2\" y=\"197.550908\"/>\r\n     <use style=\"fill:#1f77b4;stroke:#1f77b4;\" x=\"306.204424\" xlink:href=\"#m4303bf9cc2\" y=\"197.375935\"/>\r\n     <use style=\"fill:#1f77b4;stroke:#1f77b4;\" x=\"301.856372\" xlink:href=\"#m4303bf9cc2\" y=\"197.586273\"/>\r\n     <use style=\"fill:#1f77b4;stroke:#1f77b4;\" x=\"301.856372\" xlink:href=\"#m4303bf9cc2\" y=\"197.49772\"/>\r\n     <use style=\"fill:#1f77b4;stroke:#1f77b4;\" x=\"301.856372\" xlink:href=\"#m4303bf9cc2\" y=\"197.13876\"/>\r\n     <use style=\"fill:#1f77b4;stroke:#1f77b4;\" x=\"301.856372\" xlink:href=\"#m4303bf9cc2\" y=\"196.956377\"/>\r\n     <use style=\"fill:#1f77b4;stroke:#1f77b4;\" x=\"301.856372\" xlink:href=\"#m4303bf9cc2\" y=\"196.772017\"/>\r\n     <use style=\"fill:#1f77b4;stroke:#1f77b4;\" x=\"301.856372\" xlink:href=\"#m4303bf9cc2\" y=\"196.397236\"/>\r\n     <use style=\"fill:#1f77b4;stroke:#1f77b4;\" x=\"301.856372\" xlink:href=\"#m4303bf9cc2\" y=\"195.917048\"/>\r\n     <use style=\"fill:#1f77b4;stroke:#1f77b4;\" x=\"301.856372\" xlink:href=\"#m4303bf9cc2\" y=\"195.721217\"/>\r\n     <use style=\"fill:#1f77b4;stroke:#1f77b4;\" x=\"301.856372\" xlink:href=\"#m4303bf9cc2\" y=\"195.622479\"/>\r\n     <use style=\"fill:#1f77b4;stroke:#1f77b4;\" x=\"301.856372\" xlink:href=\"#m4303bf9cc2\" y=\"195.523186\"/>\r\n     <use style=\"fill:#1f77b4;stroke:#1f77b4;\" x=\"301.856372\" xlink:href=\"#m4303bf9cc2\" y=\"195.120372\"/>\r\n     <use style=\"fill:#1f77b4;stroke:#1f77b4;\" x=\"297.50832\" xlink:href=\"#m4303bf9cc2\" y=\"195.6276\"/>\r\n     <use style=\"fill:#1f77b4;stroke:#1f77b4;\" x=\"297.50832\" xlink:href=\"#m4303bf9cc2\" y=\"195.322917\"/>\r\n     <use style=\"fill:#1f77b4;stroke:#1f77b4;\" x=\"297.50832\" xlink:href=\"#m4303bf9cc2\" y=\"195.220185\"/>\r\n     <use style=\"fill:#1f77b4;stroke:#1f77b4;\" x=\"297.50832\" xlink:href=\"#m4303bf9cc2\" y=\"194.803269\"/>\r\n     <use style=\"fill:#1f77b4;stroke:#1f77b4;\" x=\"297.50832\" xlink:href=\"#m4303bf9cc2\" y=\"194.591143\"/>\r\n     <use style=\"fill:#1f77b4;stroke:#1f77b4;\" x=\"297.50832\" xlink:href=\"#m4303bf9cc2\" y=\"194.484144\"/>\r\n     <use style=\"fill:#1f77b4;stroke:#1f77b4;\" x=\"297.50832\" xlink:href=\"#m4303bf9cc2\" y=\"194.376514\"/>\r\n     <use style=\"fill:#1f77b4;stroke:#1f77b4;\" x=\"297.50832\" xlink:href=\"#m4303bf9cc2\" y=\"194.268247\"/>\r\n     <use style=\"fill:#1f77b4;stroke:#1f77b4;\" x=\"293.160268\" xlink:href=\"#m4303bf9cc2\" y=\"194.794017\"/>\r\n     <use style=\"fill:#1f77b4;stroke:#1f77b4;\" x=\"288.812216\" xlink:href=\"#m4303bf9cc2\" y=\"195.322917\"/>\r\n     <use style=\"fill:#1f77b4;stroke:#1f77b4;\" x=\"288.812216\" xlink:href=\"#m4303bf9cc2\" y=\"195.109457\"/>\r\n     <use style=\"fill:#1f77b4;stroke:#1f77b4;\" x=\"280.116112\" xlink:href=\"#m4303bf9cc2\" y=\"196.181901\"/>\r\n     <use style=\"fill:#1f77b4;stroke:#1f77b4;\" x=\"280.116112\" xlink:href=\"#m4303bf9cc2\" y=\"196.076799\"/>\r\n     <use style=\"fill:#1f77b4;stroke:#1f77b4;\" x=\"280.116112\" xlink:href=\"#m4303bf9cc2\" y=\"195.97106\"/>\r\n     <use style=\"fill:#1f77b4;stroke:#1f77b4;\" x=\"280.116112\" xlink:href=\"#m4303bf9cc2\" y=\"195.757647\"/>\r\n     <use style=\"fill:#1f77b4;stroke:#1f77b4;\" x=\"275.76806\" xlink:href=\"#m4303bf9cc2\" y=\"196.304051\"/>\r\n     <use style=\"fill:#1f77b4;stroke:#1f77b4;\" x=\"275.76806\" xlink:href=\"#m4303bf9cc2\" y=\"196.197711\"/>\r\n     <use style=\"fill:#1f77b4;stroke:#1f77b4;\" x=\"275.76806\" xlink:href=\"#m4303bf9cc2\" y=\"195.983062\"/>\r\n     <use style=\"fill:#1f77b4;stroke:#1f77b4;\" x=\"275.76806\" xlink:href=\"#m4303bf9cc2\" y=\"195.765747\"/>\r\n     <use style=\"fill:#1f77b4;stroke:#1f77b4;\" x=\"275.76806\" xlink:href=\"#m4303bf9cc2\" y=\"195.656075\"/>\r\n     <use style=\"fill:#1f77b4;stroke:#1f77b4;\" x=\"275.76806\" xlink:href=\"#m4303bf9cc2\" y=\"195.322917\"/>\r\n     <use style=\"fill:#1f77b4;stroke:#1f77b4;\" x=\"271.420008\" xlink:href=\"#m4303bf9cc2\" y=\"195.774156\"/>\r\n     <use style=\"fill:#1f77b4;stroke:#1f77b4;\" x=\"262.723904\" xlink:href=\"#m4303bf9cc2\" y=\"196.583774\"/>\r\n     <use style=\"fill:#1f77b4;stroke:#1f77b4;\" x=\"262.723904\" xlink:href=\"#m4303bf9cc2\" y=\"196.361204\"/>\r\n     <use style=\"fill:#1f77b4;stroke:#1f77b4;\" x=\"262.723904\" xlink:href=\"#m4303bf9cc2\" y=\"196.248835\"/>\r\n     <use style=\"fill:#1f77b4;stroke:#1f77b4;\" x=\"262.723904\" xlink:href=\"#m4303bf9cc2\" y=\"196.021895\"/>\r\n     <use style=\"fill:#1f77b4;stroke:#1f77b4;\" x=\"262.723904\" xlink:href=\"#m4303bf9cc2\" y=\"195.907308\"/>\r\n     <use style=\"fill:#1f77b4;stroke:#1f77b4;\" x=\"262.723904\" xlink:href=\"#m4303bf9cc2\" y=\"195.791968\"/>\r\n     <use style=\"fill:#1f77b4;stroke:#1f77b4;\" x=\"258.375852\" xlink:href=\"#m4303bf9cc2\" y=\"196.267231\"/>\r\n     <use style=\"fill:#1f77b4;stroke:#1f77b4;\" x=\"258.375852\" xlink:href=\"#m4303bf9cc2\" y=\"195.919035\"/>\r\n     <use style=\"fill:#1f77b4;stroke:#1f77b4;\" x=\"258.375852\" xlink:href=\"#m4303bf9cc2\" y=\"195.801412\"/>\r\n     <use style=\"fill:#1f77b4;stroke:#1f77b4;\" x=\"258.375852\" xlink:href=\"#m4303bf9cc2\" y=\"195.682996\"/>\r\n     <use style=\"fill:#1f77b4;stroke:#1f77b4;\" x=\"258.375852\" xlink:href=\"#m4303bf9cc2\" y=\"195.443757\"/>\r\n     <use style=\"fill:#1f77b4;stroke:#1f77b4;\" x=\"254.0278\" xlink:href=\"#m4303bf9cc2\" y=\"195.690421\"/>\r\n     <use style=\"fill:#1f77b4;stroke:#1f77b4;\" x=\"254.0278\" xlink:href=\"#m4303bf9cc2\" y=\"195.568764\"/>\r\n     <use style=\"fill:#1f77b4;stroke:#1f77b4;\" x=\"254.0278\" xlink:href=\"#m4303bf9cc2\" y=\"195.322917\"/>\r\n     <use style=\"fill:#1f77b4;stroke:#1f77b4;\" x=\"254.0278\" xlink:href=\"#m4303bf9cc2\" y=\"195.198708\"/>\r\n     <use style=\"fill:#1f77b4;stroke:#1f77b4;\" x=\"254.0278\" xlink:href=\"#m4303bf9cc2\" y=\"195.073631\"/>\r\n     <use style=\"fill:#1f77b4;stroke:#1f77b4;\" x=\"249.679748\" xlink:href=\"#m4303bf9cc2\" y=\"195.448881\"/>\r\n     <use style=\"fill:#1f77b4;stroke:#1f77b4;\" x=\"245.331696\" xlink:href=\"#m4303bf9cc2\" y=\"196.081382\"/>\r\n     <use style=\"fill:#1f77b4;stroke:#1f77b4;\" x=\"245.331696\" xlink:href=\"#m4303bf9cc2\" y=\"195.322917\"/>\r\n     <use style=\"fill:#1f77b4;stroke:#1f77b4;\" x=\"245.331696\" xlink:href=\"#m4303bf9cc2\" y=\"195.062714\"/>\r\n     <use style=\"fill:#1f77b4;stroke:#1f77b4;\" x=\"245.331696\" xlink:href=\"#m4303bf9cc2\" y=\"194.798684\"/>\r\n     <use style=\"fill:#1f77b4;stroke:#1f77b4;\" x=\"245.331696\" xlink:href=\"#m4303bf9cc2\" y=\"194.530742\"/>\r\n     <use style=\"fill:#1f77b4;stroke:#1f77b4;\" x=\"245.331696\" xlink:href=\"#m4303bf9cc2\" y=\"194.395278\"/>\r\n     <use style=\"fill:#1f77b4;stroke:#1f77b4;\" x=\"245.331696\" xlink:href=\"#m4303bf9cc2\" y=\"194.258802\"/>\r\n     <use style=\"fill:#1f77b4;stroke:#1f77b4;\" x=\"240.983644\" xlink:href=\"#m4303bf9cc2\" y=\"194.786859\"/>\r\n     <use style=\"fill:#1f77b4;stroke:#1f77b4;\" x=\"240.983644\" xlink:href=\"#m4303bf9cc2\" y=\"194.512738\"/>\r\n     <use style=\"fill:#1f77b4;stroke:#1f77b4;\" x=\"240.983644\" xlink:href=\"#m4303bf9cc2\" y=\"194.374115\"/>\r\n     <use style=\"fill:#1f77b4;stroke:#1f77b4;\" x=\"240.983644\" xlink:href=\"#m4303bf9cc2\" y=\"194.093681\"/>\r\n     <use style=\"fill:#1f77b4;stroke:#1f77b4;\" x=\"240.983644\" xlink:href=\"#m4303bf9cc2\" y=\"193.951846\"/>\r\n     <use style=\"fill:#1f77b4;stroke:#1f77b4;\" x=\"240.983644\" xlink:href=\"#m4303bf9cc2\" y=\"193.664877\"/>\r\n     <use style=\"fill:#1f77b4;stroke:#1f77b4;\" x=\"240.983644\" xlink:href=\"#m4303bf9cc2\" y=\"193.519718\"/>\r\n     <use style=\"fill:#1f77b4;stroke:#1f77b4;\" x=\"240.983644\" xlink:href=\"#m4303bf9cc2\" y=\"193.225984\"/>\r\n     <use style=\"fill:#1f77b4;stroke:#1f77b4;\" x=\"240.983644\" xlink:href=\"#m4303bf9cc2\" y=\"193.077383\"/>\r\n     <use style=\"fill:#1f77b4;stroke:#1f77b4;\" x=\"240.983644\" xlink:href=\"#m4303bf9cc2\" y=\"192.927606\"/>\r\n     <use style=\"fill:#1f77b4;stroke:#1f77b4;\" x=\"240.983644\" xlink:href=\"#m4303bf9cc2\" y=\"192.624474\"/>\r\n     <use style=\"fill:#1f77b4;stroke:#1f77b4;\" x=\"240.983644\" xlink:href=\"#m4303bf9cc2\" y=\"192.160607\"/>\r\n     <use style=\"fill:#1f77b4;stroke:#1f77b4;\" x=\"240.983644\" xlink:href=\"#m4303bf9cc2\" y=\"191.845077\"/>\r\n     <use style=\"fill:#1f77b4;stroke:#1f77b4;\" x=\"240.983644\" xlink:href=\"#m4303bf9cc2\" y=\"191.362044\"/>\r\n     <use style=\"fill:#1f77b4;stroke:#1f77b4;\" x=\"236.635593\" xlink:href=\"#m4303bf9cc2\" y=\"191.920839\"/>\r\n     <use style=\"fill:#1f77b4;stroke:#1f77b4;\" x=\"236.635593\" xlink:href=\"#m4303bf9cc2\" y=\"191.758131\"/>\r\n     <use style=\"fill:#1f77b4;stroke:#1f77b4;\" x=\"232.287541\" xlink:href=\"#m4303bf9cc2\" y=\"192.488987\"/>\r\n     <use style=\"fill:#1f77b4;stroke:#1f77b4;\" x=\"232.287541\" xlink:href=\"#m4303bf9cc2\" y=\"192.327299\"/>\r\n     <use style=\"fill:#1f77b4;stroke:#1f77b4;\" x=\"232.287541\" xlink:href=\"#m4303bf9cc2\" y=\"191.999812\"/>\r\n     <use style=\"fill:#1f77b4;stroke:#1f77b4;\" x=\"227.939489\" xlink:href=\"#m4303bf9cc2\" y=\"191.913122\"/>\r\n     <use style=\"fill:#1f77b4;stroke:#1f77b4;\" x=\"227.939489\" xlink:href=\"#m4303bf9cc2\" y=\"191.570511\"/>\r\n     <use style=\"fill:#1f77b4;stroke:#1f77b4;\" x=\"227.939489\" xlink:href=\"#m4303bf9cc2\" y=\"191.221836\"/>\r\n     <use style=\"fill:#1f77b4;stroke:#1f77b4;\" x=\"227.939489\" xlink:href=\"#m4303bf9cc2\" y=\"191.045174\"/>\r\n     <use style=\"fill:#1f77b4;stroke:#1f77b4;\" x=\"227.939489\" xlink:href=\"#m4303bf9cc2\" y=\"190.866935\"/>\r\n     <use style=\"fill:#1f77b4;stroke:#1f77b4;\" x=\"227.939489\" xlink:href=\"#m4303bf9cc2\" y=\"190.687097\"/>\r\n     <use style=\"fill:#1f77b4;stroke:#1f77b4;\" x=\"227.939489\" xlink:href=\"#m4303bf9cc2\" y=\"190.505639\"/>\r\n     <use style=\"fill:#1f77b4;stroke:#1f77b4;\" x=\"227.939489\" xlink:href=\"#m4303bf9cc2\" y=\"190.322539\"/>\r\n     <use style=\"fill:#1f77b4;stroke:#1f77b4;\" x=\"227.939489\" xlink:href=\"#m4303bf9cc2\" y=\"190.137774\"/>\r\n     <use style=\"fill:#1f77b4;stroke:#1f77b4;\" x=\"227.939489\" xlink:href=\"#m4303bf9cc2\" y=\"189.951322\"/>\r\n     <use style=\"fill:#1f77b4;stroke:#1f77b4;\" x=\"223.591437\" xlink:href=\"#m4303bf9cc2\" y=\"190.371826\"/>\r\n     <use style=\"fill:#1f77b4;stroke:#1f77b4;\" x=\"223.591437\" xlink:href=\"#m4303bf9cc2\" y=\"190.182994\"/>\r\n     <use style=\"fill:#1f77b4;stroke:#1f77b4;\" x=\"223.591437\" xlink:href=\"#m4303bf9cc2\" y=\"189.992396\"/>\r\n     <use style=\"fill:#1f77b4;stroke:#1f77b4;\" x=\"223.591437\" xlink:href=\"#m4303bf9cc2\" y=\"189.80001\"/>\r\n     <use style=\"fill:#1f77b4;stroke:#1f77b4;\" x=\"223.591437\" xlink:href=\"#m4303bf9cc2\" y=\"189.409765\"/>\r\n     <use style=\"fill:#1f77b4;stroke:#1f77b4;\" x=\"223.591437\" xlink:href=\"#m4303bf9cc2\" y=\"189.012053\"/>\r\n     <use style=\"fill:#1f77b4;stroke:#1f77b4;\" x=\"223.591437\" xlink:href=\"#m4303bf9cc2\" y=\"188.810328\"/>\r\n     <use style=\"fill:#1f77b4;stroke:#1f77b4;\" x=\"223.591437\" xlink:href=\"#m4303bf9cc2\" y=\"188.401003\"/>\r\n     <use style=\"fill:#1f77b4;stroke:#1f77b4;\" x=\"223.591437\" xlink:href=\"#m4303bf9cc2\" y=\"187.983652\"/>\r\n     <use style=\"fill:#1f77b4;stroke:#1f77b4;\" x=\"223.591437\" xlink:href=\"#m4303bf9cc2\" y=\"187.771893\"/>\r\n     <use style=\"fill:#1f77b4;stroke:#1f77b4;\" x=\"223.591437\" xlink:href=\"#m4303bf9cc2\" y=\"187.558037\"/>\r\n     <use style=\"fill:#1f77b4;stroke:#1f77b4;\" x=\"223.591437\" xlink:href=\"#m4303bf9cc2\" y=\"187.342054\"/>\r\n     <use style=\"fill:#1f77b4;stroke:#1f77b4;\" x=\"223.591437\" xlink:href=\"#m4303bf9cc2\" y=\"187.12391\"/>\r\n     <use style=\"fill:#1f77b4;stroke:#1f77b4;\" x=\"223.591437\" xlink:href=\"#m4303bf9cc2\" y=\"186.903574\"/>\r\n     <use style=\"fill:#1f77b4;stroke:#1f77b4;\" x=\"219.243385\" xlink:href=\"#m4303bf9cc2\" y=\"187.761251\"/>\r\n     <use style=\"fill:#1f77b4;stroke:#1f77b4;\" x=\"219.243385\" xlink:href=\"#m4303bf9cc2\" y=\"187.320337\"/>\r\n     <use style=\"fill:#1f77b4;stroke:#1f77b4;\" x=\"219.243385\" xlink:href=\"#m4303bf9cc2\" y=\"187.096489\"/>\r\n     <use style=\"fill:#1f77b4;stroke:#1f77b4;\" x=\"219.243385\" xlink:href=\"#m4303bf9cc2\" y=\"186.410953\"/>\r\n     <use style=\"fill:#1f77b4;stroke:#1f77b4;\" x=\"219.243385\" xlink:href=\"#m4303bf9cc2\" y=\"185.941902\"/>\r\n     <use style=\"fill:#1f77b4;stroke:#1f77b4;\" x=\"219.243385\" xlink:href=\"#m4303bf9cc2\" y=\"184.973539\"/>\r\n     <use style=\"fill:#1f77b4;stroke:#1f77b4;\" x=\"214.895333\" xlink:href=\"#m4303bf9cc2\" y=\"185.881052\"/>\r\n     <use style=\"fill:#1f77b4;stroke:#1f77b4;\" x=\"214.895333\" xlink:href=\"#m4303bf9cc2\" y=\"185.388269\"/>\r\n     <use style=\"fill:#1f77b4;stroke:#1f77b4;\" x=\"214.895333\" xlink:href=\"#m4303bf9cc2\" y=\"185.137815\"/>\r\n     <use style=\"fill:#1f77b4;stroke:#1f77b4;\" x=\"214.895333\" xlink:href=\"#m4303bf9cc2\" y=\"184.884594\"/>\r\n     <use style=\"fill:#1f77b4;stroke:#1f77b4;\" x=\"210.547281\" xlink:href=\"#m4303bf9cc2\" y=\"185.816822\"/>\r\n     <use style=\"fill:#1f77b4;stroke:#1f77b4;\" x=\"210.547281\" xlink:href=\"#m4303bf9cc2\" y=\"185.564565\"/>\r\n     <use style=\"fill:#1f77b4;stroke:#1f77b4;\" x=\"210.547281\" xlink:href=\"#m4303bf9cc2\" y=\"185.309474\"/>\r\n     <use style=\"fill:#1f77b4;stroke:#1f77b4;\" x=\"210.547281\" xlink:href=\"#m4303bf9cc2\" y=\"184.526709\"/>\r\n     <use style=\"fill:#1f77b4;stroke:#1f77b4;\" x=\"210.547281\" xlink:href=\"#m4303bf9cc2\" y=\"183.716638\"/>\r\n     <use style=\"fill:#1f77b4;stroke:#1f77b4;\" x=\"210.547281\" xlink:href=\"#m4303bf9cc2\" y=\"183.440298\"/>\r\n     <use style=\"fill:#1f77b4;stroke:#1f77b4;\" x=\"210.547281\" xlink:href=\"#m4303bf9cc2\" y=\"182.877807\"/>\r\n     <use style=\"fill:#1f77b4;stroke:#1f77b4;\" x=\"210.547281\" xlink:href=\"#m4303bf9cc2\" y=\"182.301844\"/>\r\n     <use style=\"fill:#1f77b4;stroke:#1f77b4;\" x=\"210.547281\" xlink:href=\"#m4303bf9cc2\" y=\"181.711917\"/>\r\n     <use style=\"fill:#1f77b4;stroke:#1f77b4;\" x=\"210.547281\" xlink:href=\"#m4303bf9cc2\" y=\"181.107514\"/>\r\n     <use style=\"fill:#1f77b4;stroke:#1f77b4;\" x=\"210.547281\" xlink:href=\"#m4303bf9cc2\" y=\"180.799716\"/>\r\n     <use style=\"fill:#1f77b4;stroke:#1f77b4;\" x=\"206.199229\" xlink:href=\"#m4303bf9cc2\" y=\"181.816586\"/>\r\n     <use style=\"fill:#1f77b4;stroke:#1f77b4;\" x=\"206.199229\" xlink:href=\"#m4303bf9cc2\" y=\"181.509373\"/>\r\n     <use style=\"fill:#1f77b4;stroke:#1f77b4;\" x=\"206.199229\" xlink:href=\"#m4303bf9cc2\" y=\"180.883279\"/>\r\n     <use style=\"fill:#1f77b4;stroke:#1f77b4;\" x=\"206.199229\" xlink:href=\"#m4303bf9cc2\" y=\"180.56425\"/>\r\n     <use style=\"fill:#1f77b4;stroke:#1f77b4;\" x=\"206.199229\" xlink:href=\"#m4303bf9cc2\" y=\"180.241132\"/>\r\n     <use style=\"fill:#1f77b4;stroke:#1f77b4;\" x=\"206.199229\" xlink:href=\"#m4303bf9cc2\" y=\"179.582305\"/>\r\n     <use style=\"fill:#1f77b4;stroke:#1f77b4;\" x=\"206.199229\" xlink:href=\"#m4303bf9cc2\" y=\"178.561342\"/>\r\n     <use style=\"fill:#1f77b4;stroke:#1f77b4;\" x=\"206.199229\" xlink:href=\"#m4303bf9cc2\" y=\"178.211946\"/>\r\n     <use style=\"fill:#1f77b4;stroke:#1f77b4;\" x=\"206.199229\" xlink:href=\"#m4303bf9cc2\" y=\"177.85786\"/>\r\n     <use style=\"fill:#1f77b4;stroke:#1f77b4;\" x=\"206.199229\" xlink:href=\"#m4303bf9cc2\" y=\"177.498989\"/>\r\n     <use style=\"fill:#1f77b4;stroke:#1f77b4;\" x=\"206.199229\" xlink:href=\"#m4303bf9cc2\" y=\"177.135235\"/>\r\n     <use style=\"fill:#1f77b4;stroke:#1f77b4;\" x=\"206.199229\" xlink:href=\"#m4303bf9cc2\" y=\"176.392676\"/>\r\n     <use style=\"fill:#1f77b4;stroke:#1f77b4;\" x=\"206.199229\" xlink:href=\"#m4303bf9cc2\" y=\"176.013662\"/>\r\n     <use style=\"fill:#1f77b4;stroke:#1f77b4;\" x=\"206.199229\" xlink:href=\"#m4303bf9cc2\" y=\"175.629346\"/>\r\n     <use style=\"fill:#1f77b4;stroke:#1f77b4;\" x=\"206.199229\" xlink:href=\"#m4303bf9cc2\" y=\"175.239618\"/>\r\n     <use style=\"fill:#1f77b4;stroke:#1f77b4;\" x=\"206.199229\" xlink:href=\"#m4303bf9cc2\" y=\"174.844361\"/>\r\n     <use style=\"fill:#1f77b4;stroke:#1f77b4;\" x=\"206.199229\" xlink:href=\"#m4303bf9cc2\" y=\"174.036787\"/>\r\n     <use style=\"fill:#1f77b4;stroke:#1f77b4;\" x=\"201.851177\" xlink:href=\"#m4303bf9cc2\" y=\"175.174129\"/>\r\n     <use style=\"fill:#1f77b4;stroke:#1f77b4;\" x=\"201.851177\" xlink:href=\"#m4303bf9cc2\" y=\"174.35359\"/>\r\n     <use style=\"fill:#1f77b4;stroke:#1f77b4;\" x=\"201.851177\" xlink:href=\"#m4303bf9cc2\" y=\"173.934203\"/>\r\n     <use style=\"fill:#1f77b4;stroke:#1f77b4;\" x=\"201.851177\" xlink:href=\"#m4303bf9cc2\" y=\"173.508557\"/>\r\n     <use style=\"fill:#1f77b4;stroke:#1f77b4;\" x=\"201.851177\" xlink:href=\"#m4303bf9cc2\" y=\"173.076511\"/>\r\n     <use style=\"fill:#1f77b4;stroke:#1f77b4;\" x=\"201.851177\" xlink:href=\"#m4303bf9cc2\" y=\"172.637918\"/>\r\n     <use style=\"fill:#1f77b4;stroke:#1f77b4;\" x=\"201.851177\" xlink:href=\"#m4303bf9cc2\" y=\"171.740489\"/>\r\n     <use style=\"fill:#1f77b4;stroke:#1f77b4;\" x=\"201.851177\" xlink:href=\"#m4303bf9cc2\" y=\"171.28134\"/>\r\n     <use style=\"fill:#1f77b4;stroke:#1f77b4;\" x=\"201.851177\" xlink:href=\"#m4303bf9cc2\" y=\"170.815016\"/>\r\n     <use style=\"fill:#1f77b4;stroke:#1f77b4;\" x=\"201.851177\" xlink:href=\"#m4303bf9cc2\" y=\"170.341349\"/>\r\n     <use style=\"fill:#1f77b4;stroke:#1f77b4;\" x=\"201.851177\" xlink:href=\"#m4303bf9cc2\" y=\"169.860163\"/>\r\n     <use style=\"fill:#1f77b4;stroke:#1f77b4;\" x=\"201.851177\" xlink:href=\"#m4303bf9cc2\" y=\"169.371278\"/>\r\n     <use style=\"fill:#1f77b4;stroke:#1f77b4;\" x=\"201.851177\" xlink:href=\"#m4303bf9cc2\" y=\"167.856536\"/>\r\n     <use style=\"fill:#1f77b4;stroke:#1f77b4;\" x=\"201.851177\" xlink:href=\"#m4303bf9cc2\" y=\"166.804632\"/>\r\n     <use style=\"fill:#1f77b4;stroke:#1f77b4;\" x=\"201.851177\" xlink:href=\"#m4303bf9cc2\" y=\"166.265421\"/>\r\n     <use style=\"fill:#1f77b4;stroke:#1f77b4;\" x=\"197.503125\" xlink:href=\"#m4303bf9cc2\" y=\"167.529673\"/>\r\n     <use style=\"fill:#1f77b4;stroke:#1f77b4;\" x=\"197.503125\" xlink:href=\"#m4303bf9cc2\" y=\"165.874688\"/>\r\n     <use style=\"fill:#1f77b4;stroke:#1f77b4;\" x=\"197.503125\" xlink:href=\"#m4303bf9cc2\" y=\"164.131043\"/>\r\n     <use style=\"fill:#1f77b4;stroke:#1f77b4;\" x=\"197.503125\" xlink:href=\"#m4303bf9cc2\" y=\"163.528883\"/>\r\n     <use style=\"fill:#1f77b4;stroke:#1f77b4;\" x=\"193.155073\" xlink:href=\"#m4303bf9cc2\" y=\"164.860204\"/>\r\n     <use style=\"fill:#1f77b4;stroke:#1f77b4;\" x=\"193.155073\" xlink:href=\"#m4303bf9cc2\" y=\"164.253685\"/>\r\n     <use style=\"fill:#1f77b4;stroke:#1f77b4;\" x=\"193.155073\" xlink:href=\"#m4303bf9cc2\" y=\"163.635934\"/>\r\n     <use style=\"fill:#1f77b4;stroke:#1f77b4;\" x=\"193.155073\" xlink:href=\"#m4303bf9cc2\" y=\"162.365465\"/>\r\n     <use style=\"fill:#1f77b4;stroke:#1f77b4;\" x=\"188.807021\" xlink:href=\"#m4303bf9cc2\" y=\"163.102739\"/>\r\n     <use style=\"fill:#1f77b4;stroke:#1f77b4;\" x=\"188.807021\" xlink:href=\"#m4303bf9cc2\" y=\"162.443826\"/>\r\n     <use style=\"fill:#1f77b4;stroke:#1f77b4;\" x=\"188.807021\" xlink:href=\"#m4303bf9cc2\" y=\"161.771994\"/>\r\n     <use style=\"fill:#1f77b4;stroke:#1f77b4;\" x=\"188.807021\" xlink:href=\"#m4303bf9cc2\" y=\"161.086857\"/>\r\n     <use style=\"fill:#1f77b4;stroke:#1f77b4;\" x=\"184.458969\" xlink:href=\"#m4303bf9cc2\" y=\"162.526889\"/>\r\n     <use style=\"fill:#1f77b4;stroke:#1f77b4;\" x=\"184.458969\" xlink:href=\"#m4303bf9cc2\" y=\"161.835537\"/>\r\n     <use style=\"fill:#1f77b4;stroke:#1f77b4;\" x=\"184.458969\" xlink:href=\"#m4303bf9cc2\" y=\"161.130075\"/>\r\n     <use style=\"fill:#1f77b4;stroke:#1f77b4;\" x=\"184.458969\" xlink:href=\"#m4303bf9cc2\" y=\"158.92458\"/>\r\n     <use style=\"fill:#1f77b4;stroke:#1f77b4;\" x=\"184.458969\" xlink:href=\"#m4303bf9cc2\" y=\"157.375199\"/>\r\n     <use style=\"fill:#1f77b4;stroke:#1f77b4;\" x=\"184.458969\" xlink:href=\"#m4303bf9cc2\" y=\"156.575247\"/>\r\n     <use style=\"fill:#1f77b4;stroke:#1f77b4;\" x=\"184.458969\" xlink:href=\"#m4303bf9cc2\" y=\"154.067533\"/>\r\n     <use style=\"fill:#1f77b4;stroke:#1f77b4;\" x=\"184.458969\" xlink:href=\"#m4303bf9cc2\" y=\"153.193632\"/>\r\n     <use style=\"fill:#1f77b4;stroke:#1f77b4;\" x=\"184.458969\" xlink:href=\"#m4303bf9cc2\" y=\"151.384862\"/>\r\n     <use style=\"fill:#1f77b4;stroke:#1f77b4;\" x=\"184.458969\" xlink:href=\"#m4303bf9cc2\" y=\"149.489959\"/>\r\n     <use style=\"fill:#1f77b4;stroke:#1f77b4;\" x=\"184.458969\" xlink:href=\"#m4303bf9cc2\" y=\"148.508263\"/>\r\n     <use style=\"fill:#1f77b4;stroke:#1f77b4;\" x=\"184.458969\" xlink:href=\"#m4303bf9cc2\" y=\"147.502622\"/>\r\n     <use style=\"fill:#1f77b4;stroke:#1f77b4;\" x=\"180.110917\" xlink:href=\"#m4303bf9cc2\" y=\"149.112733\"/>\r\n     <use style=\"fill:#1f77b4;stroke:#1f77b4;\" x=\"180.110917\" xlink:href=\"#m4303bf9cc2\" y=\"147.040378\"/>\r\n     <use style=\"fill:#1f77b4;stroke:#1f77b4;\" x=\"180.110917\" xlink:href=\"#m4303bf9cc2\" y=\"143.727336\"/>\r\n     <use style=\"fill:#1f77b4;stroke:#1f77b4;\" x=\"180.110917\" xlink:href=\"#m4303bf9cc2\" y=\"142.56409\"/>\r\n     <use style=\"fill:#1f77b4;stroke:#1f77b4;\" x=\"180.110917\" xlink:href=\"#m4303bf9cc2\" y=\"140.141989\"/>\r\n     <use style=\"fill:#1f77b4;stroke:#1f77b4;\" x=\"175.762865\" xlink:href=\"#m4303bf9cc2\" y=\"141.851133\"/>\r\n     <use style=\"fill:#1f77b4;stroke:#1f77b4;\" x=\"171.414813\" xlink:href=\"#m4303bf9cc2\" y=\"141.076179\"/>\r\n     <use style=\"fill:#1f77b4;stroke:#1f77b4;\" x=\"171.414813\" xlink:href=\"#m4303bf9cc2\" y=\"139.7542\"/>\r\n     <use style=\"fill:#1f77b4;stroke:#1f77b4;\" x=\"167.066761\" xlink:href=\"#m4303bf9cc2\" y=\"141.585104\"/>\r\n     <use style=\"fill:#1f77b4;stroke:#1f77b4;\" x=\"167.066761\" xlink:href=\"#m4303bf9cc2\" y=\"140.230776\"/>\r\n     <use style=\"fill:#1f77b4;stroke:#1f77b4;\" x=\"162.718709\" xlink:href=\"#m4303bf9cc2\" y=\"142.125347\"/>\r\n     <use style=\"fill:#1f77b4;stroke:#1f77b4;\" x=\"162.718709\" xlink:href=\"#m4303bf9cc2\" y=\"140.737137\"/>\r\n     <use style=\"fill:#1f77b4;stroke:#1f77b4;\" x=\"158.370657\" xlink:href=\"#m4303bf9cc2\" y=\"142.699891\"/>\r\n     <use style=\"fill:#1f77b4;stroke:#1f77b4;\" x=\"158.370657\" xlink:href=\"#m4303bf9cc2\" y=\"141.276167\"/>\r\n     <use style=\"fill:#1f77b4;stroke:#1f77b4;\" x=\"158.370657\" xlink:href=\"#m4303bf9cc2\" y=\"139.805764\"/>\r\n     <use style=\"fill:#1f77b4;stroke:#1f77b4;\" x=\"154.022606\" xlink:href=\"#m4303bf9cc2\" y=\"141.851133\"/>\r\n     <use style=\"fill:#1f77b4;stroke:#1f77b4;\" x=\"149.674554\" xlink:href=\"#m4303bf9cc2\" y=\"142.465751\"/>\r\n     <use style=\"fill:#1f77b4;stroke:#1f77b4;\" x=\"149.674554\" xlink:href=\"#m4303bf9cc2\" y=\"139.304857\"/>\r\n     <use style=\"fill:#1f77b4;stroke:#1f77b4;\" x=\"149.674554\" xlink:href=\"#m4303bf9cc2\" y=\"132.253633\"/>\r\n     <use style=\"fill:#1f77b4;stroke:#1f77b4;\" x=\"145.326502\" xlink:href=\"#m4303bf9cc2\" y=\"130.57477\"/>\r\n     <use style=\"fill:#1f77b4;stroke:#1f77b4;\" x=\"140.97845\" xlink:href=\"#m4303bf9cc2\" y=\"130.85339\"/>\r\n     <use style=\"fill:#1f77b4;stroke:#1f77b4;\" x=\"140.97845\" xlink:href=\"#m4303bf9cc2\" y=\"126.403728\"/>\r\n     <use style=\"fill:#1f77b4;stroke:#1f77b4;\" x=\"140.97845\" xlink:href=\"#m4303bf9cc2\" y=\"124.027205\"/>\r\n     <use style=\"fill:#1f77b4;stroke:#1f77b4;\" x=\"140.97845\" xlink:href=\"#m4303bf9cc2\" y=\"118.934654\"/>\r\n     <use style=\"fill:#1f77b4;stroke:#1f77b4;\" x=\"140.97845\" xlink:href=\"#m4303bf9cc2\" y=\"116.202066\"/>\r\n     <use style=\"fill:#1f77b4;stroke:#1f77b4;\" x=\"136.630398\" xlink:href=\"#m4303bf9cc2\" y=\"112.769987\"/>\r\n     <use style=\"fill:#1f77b4;stroke:#1f77b4;\" x=\"132.282346\" xlink:href=\"#m4303bf9cc2\" y=\"115.356105\"/>\r\n     <use style=\"fill:#1f77b4;stroke:#1f77b4;\" x=\"127.934294\" xlink:href=\"#m4303bf9cc2\" y=\"111.445608\"/>\r\n     <use style=\"fill:#1f77b4;stroke:#1f77b4;\" x=\"123.586242\" xlink:href=\"#m4303bf9cc2\" y=\"110.659259\"/>\r\n     <use style=\"fill:#1f77b4;stroke:#1f77b4;\" x=\"119.23819\" xlink:href=\"#m4303bf9cc2\" y=\"113.677827\"/>\r\n     <use style=\"fill:#1f77b4;stroke:#1f77b4;\" x=\"119.23819\" xlink:href=\"#m4303bf9cc2\" y=\"109.768062\"/>\r\n     <use style=\"fill:#1f77b4;stroke:#1f77b4;\" x=\"119.23819\" xlink:href=\"#m4303bf9cc2\" y=\"105.588658\"/>\r\n     <use style=\"fill:#1f77b4;stroke:#1f77b4;\" x=\"119.23819\" xlink:href=\"#m4303bf9cc2\" y=\"101.110726\"/>\r\n     <use style=\"fill:#1f77b4;stroke:#1f77b4;\" x=\"119.23819\" xlink:href=\"#m4303bf9cc2\" y=\"96.301094\"/>\r\n     <use style=\"fill:#1f77b4;stroke:#1f77b4;\" x=\"114.890138\" xlink:href=\"#m4303bf9cc2\" y=\"99.34792\"/>\r\n     <use style=\"fill:#1f77b4;stroke:#1f77b4;\" x=\"110.542086\" xlink:href=\"#m4303bf9cc2\" y=\"102.638491\"/>\r\n     <use style=\"fill:#1f77b4;stroke:#1f77b4;\" x=\"110.542086\" xlink:href=\"#m4303bf9cc2\" y=\"97.291313\"/>\r\n     <use style=\"fill:#1f77b4;stroke:#1f77b4;\" x=\"106.194034\" xlink:href=\"#m4303bf9cc2\" y=\"100.778603\"/>\r\n     <use style=\"fill:#1f77b4;stroke:#1f77b4;\" x=\"106.194034\" xlink:href=\"#m4303bf9cc2\" y=\"94.860777\"/>\r\n     <use style=\"fill:#1f77b4;stroke:#1f77b4;\" x=\"101.845982\" xlink:href=\"#m4303bf9cc2\" y=\"98.56445\"/>\r\n     <use style=\"fill:#1f77b4;stroke:#1f77b4;\" x=\"101.845982\" xlink:href=\"#m4303bf9cc2\" y=\"91.944134\"/>\r\n     <use style=\"fill:#1f77b4;stroke:#1f77b4;\" x=\"97.49793\" xlink:href=\"#m4303bf9cc2\" y=\"95.88416\"/>\r\n     <use style=\"fill:#1f77b4;stroke:#1f77b4;\" x=\"93.149878\" xlink:href=\"#m4303bf9cc2\" y=\"92.573214\"/>\r\n     <use style=\"fill:#1f77b4;stroke:#1f77b4;\" x=\"88.801826\" xlink:href=\"#m4303bf9cc2\" y=\"88.379349\"/>\r\n     <use style=\"fill:#1f77b4;stroke:#1f77b4;\" x=\"84.453774\" xlink:href=\"#m4303bf9cc2\" y=\"93.471899\"/>\r\n     <use style=\"fill:#1f77b4;stroke:#1f77b4;\" x=\"84.453774\" xlink:href=\"#m4303bf9cc2\" y=\"82.895063\"/>\r\n     <use style=\"fill:#1f77b4;stroke:#1f77b4;\" x=\"80.105722\" xlink:href=\"#m4303bf9cc2\" y=\"75.416492\"/>\r\n     <use style=\"fill:#1f77b4;stroke:#1f77b4;\" x=\"75.75767\" xlink:href=\"#m4303bf9cc2\" y=\"81.249777\"/>\r\n     <use style=\"fill:#1f77b4;stroke:#1f77b4;\" x=\"75.75767\" xlink:href=\"#m4303bf9cc2\" y=\"43.819528\"/>\r\n     <use style=\"fill:#1f77b4;stroke:#1f77b4;\" x=\"71.409619\" xlink:href=\"#m4303bf9cc2\" y=\"47.638942\"/>\r\n     <use style=\"fill:#1f77b4;stroke:#1f77b4;\" x=\"67.061567\" xlink:href=\"#m4303bf9cc2\" y=\"52.731492\"/>\r\n     <use style=\"fill:#1f77b4;stroke:#1f77b4;\" x=\"62.713515\" xlink:href=\"#m4303bf9cc2\" y=\"59.861064\"/>\r\n     <use style=\"fill:#1f77b4;stroke:#1f77b4;\" x=\"58.365463\" xlink:href=\"#m4303bf9cc2\" y=\"70.555421\"/>\r\n     <use style=\"fill:#1f77b4;stroke:#1f77b4;\" x=\"58.365463\" xlink:href=\"#m4303bf9cc2\" y=\"17.083636\"/>\r\n     <use style=\"fill:#1f77b4;stroke:#1f77b4;\" x=\"54.017411\" xlink:href=\"#m4303bf9cc2\" y=\"17.083636\"/>\r\n     <use style=\"fill:#1f77b4;stroke:#1f77b4;\" x=\"49.669359\" xlink:href=\"#m4303bf9cc2\" y=\"17.083636\"/>\r\n     <use style=\"fill:#1f77b4;stroke:#1f77b4;\" x=\"45.321307\" xlink:href=\"#m4303bf9cc2\" y=\"17.083636\"/>\r\n    </g>\r\n   </g>\r\n   <g id=\"patch_3\">\r\n    <path d=\"M 30.103125 224.64 \r\nL 30.103125 7.2 \r\n\" style=\"fill:none;stroke:#000000;stroke-linecap:square;stroke-linejoin:miter;stroke-width:0.8;\"/>\r\n   </g>\r\n   <g id=\"patch_4\">\r\n    <path d=\"M 364.903125 224.64 \r\nL 364.903125 7.2 \r\n\" style=\"fill:none;stroke:#000000;stroke-linecap:square;stroke-linejoin:miter;stroke-width:0.8;\"/>\r\n   </g>\r\n   <g id=\"patch_5\">\r\n    <path d=\"M 30.103125 224.64 \r\nL 364.903125 224.64 \r\n\" style=\"fill:none;stroke:#000000;stroke-linecap:square;stroke-linejoin:miter;stroke-width:0.8;\"/>\r\n   </g>\r\n   <g id=\"patch_6\">\r\n    <path d=\"M 30.103125 7.2 \r\nL 364.903125 7.2 \r\n\" style=\"fill:none;stroke:#000000;stroke-linecap:square;stroke-linejoin:miter;stroke-width:0.8;\"/>\r\n   </g>\r\n  </g>\r\n </g>\r\n <defs>\r\n  <clipPath id=\"pe065287e89\">\r\n   <rect height=\"217.44\" width=\"334.8\" x=\"30.103125\" y=\"7.2\"/>\r\n  </clipPath>\r\n </defs>\r\n</svg>\r\n",
      "image/png": "[encoded data removed]"
     },
     "metadata": {
      "needs_background": "light"
     }
    }
   ],
   "source": [
    "plt.plot(recall_model, precision_model, marker='.')"
   ]
  },
  {
   "cell_type": "code",
   "execution_count": 42,
   "metadata": {},
   "outputs": [],
   "source": [
    "rf_model_importance = model.fit(X_train_scaled, y_resampled)"
   ]
  },
  {
   "cell_type": "code",
   "execution_count": 43,
   "metadata": {},
   "outputs": [],
   "source": [
    "model_new = model.fit(X_train, y_train)\n",
    "importance_new_model = rf_model_importance.feature_importances_"
   ]
  },
  {
   "cell_type": "code",
   "execution_count": 44,
   "metadata": {},
   "outputs": [
    {
     "output_type": "execute_result",
     "data": {
      "text/plain": [
       "[(0.26187033860044623, 'emas_dist'),\n",
       " (0.08313990811426268, 'delta_dist'),\n",
       " (0.06312168910896063, 'Close'),\n",
       " (0.059451155770484695, 'ATR'),\n",
       " (0.058676052788940815, 'High'),\n",
       " (0.05851078606956849, 'Low'),\n",
       " (0.05484614142087915, 'bbup'),\n",
       " (0.054037764192034814, 'kcup'),\n",
       " (0.05343578815906694, 'Open'),\n",
       " (0.05234313319932172, 'SlowEMA'),\n",
       " (0.05048719424958407, 'bblo'),\n",
       " (0.050237097136113074, 'MidLine'),\n",
       " (0.050211826734044514, 'FastEMA'),\n",
       " (0.049631124456292204, 'kclo')]"
      ]
     },
     "metadata": {},
     "execution_count": 44
    }
   ],
   "source": [
    "#List features in descending order by order of importance\n",
    "#importance_rf_model = rf_model_importance.feature_importances_\n",
    "importance_rf_model_sorted_des = sorted(zip(importance_new_model, X_train.columns), reverse=True)\n",
    "importance_rf_model_sorted_des[:15]"
   ]
  },
  {
   "cell_type": "code",
   "execution_count": 45,
   "metadata": {},
   "outputs": [
    {
     "output_type": "execute_result",
     "data": {
      "text/plain": [
       "1.0"
      ]
     },
     "metadata": {},
     "execution_count": 45
    }
   ],
   "source": [
    "from sklearn.metrics import roc_curve, auc\n",
    "\n",
    "# Calculate Area under the curve\n",
    "# Making predictions to feed roc_curve module\n",
    "\n",
    "train_predictions = model.predict(X_train)\n",
    "test_predictions = model.predict(X_test_scaled)\n",
    "\n",
    "# Calculate the ROC curve and AUC of the training set\n",
    "\n",
    "fpr_train, tpr_train, thresholds_train = roc_curve(y_train, train_predictions)\n",
    "auc_train = auc(fpr_train, tpr_train)\n",
    "auc_train = round(auc_train,4)\n",
    "auc_train"
   ]
  },
  {
   "cell_type": "code",
   "execution_count": 46,
   "metadata": {},
   "outputs": [
    {
     "output_type": "execute_result",
     "data": {
      "text/plain": [
       "0.5071"
      ]
     },
     "metadata": {},
     "execution_count": 46
    }
   ],
   "source": [
    "# Calculate the ROC curve and AUC of the testing set\n",
    "fpr_test, tpr_test, thresholds_test = roc_curve(y_test, test_predictions)\n",
    "auc_test = auc(fpr_test, tpr_test)\n",
    "auc_test = round(auc_test, 4)\n",
    "auc_test"
   ]
  },
  {
   "cell_type": "code",
   "execution_count": 47,
   "metadata": {},
   "outputs": [
    {
     "output_type": "execute_result",
     "data": {
      "text/plain": [
       "Counter({0: 6356, 1: 143})"
      ]
     },
     "metadata": {},
     "execution_count": 47
    }
   ],
   "source": [
    "Counter(y_train)"
   ]
  },
  {
   "cell_type": "code",
   "execution_count": null,
   "metadata": {},
   "outputs": [],
   "source": []
  }
 ]
}