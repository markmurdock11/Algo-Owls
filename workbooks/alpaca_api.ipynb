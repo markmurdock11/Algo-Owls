{
 "metadata": {
  "language_info": {
   "codemirror_mode": {
    "name": "ipython",
    "version": 3
   },
   "file_extension": ".py",
   "mimetype": "text/x-python",
   "name": "python",
   "nbconvert_exporter": "python",
   "pygments_lexer": "ipython3",
   "version": "3.8.3-final"
  },
  "orig_nbformat": 2,
  "kernelspec": {
   "name": "python_defaultSpec_1610208914177",
   "display_name": "Python 3.8.3 64-bit ('base': conda)"
  }
 },
 "nbformat": 4,
 "nbformat_minor": 2,
 "cells": [
  {
   "cell_type": "markdown",
   "metadata": {},
   "source": [
    "Creating basic API call from Alpaca"
   ]
  },
  {
   "cell_type": "code",
   "execution_count": 1,
   "metadata": {},
   "outputs": [],
   "source": [
    "# importing requisite libraries\n",
    "import requests\n",
    "from dotenv import load_dotenv\n",
    "import os\n",
    "import pandas as pd\n",
    "import numpy as np\n",
    "import alpaca_trade_api as tradeapi\n",
    "import json"
   ]
  },
  {
   "cell_type": "code",
   "execution_count": 2,
   "metadata": {
    "tags": []
   },
   "outputs": [
    {
     "output_type": "stream",
     "name": "stderr",
     "text": "Python-dotenv could not parse statement starting at line 7\nPython-dotenv could not parse statement starting at line 8\n"
    },
    {
     "output_type": "execute_result",
     "data": {
      "text/plain": "True"
     },
     "metadata": {},
     "execution_count": 2
    }
   ],
   "source": [
    "load_dotenv()"
   ]
  },
  {
   "cell_type": "code",
   "execution_count": 3,
   "metadata": {},
   "outputs": [],
   "source": [
    "ticker_symbol = [\"JPM\"]"
   ]
  },
  {
   "cell_type": "code",
   "execution_count": 7,
   "metadata": {},
   "outputs": [],
   "source": [
    "def fetch_ohlcv(ticker, start_date= \"2020-01-01\", end_date = \"2021-01-01\"):\n",
    "    \"\"\"Function to automatically pull closing price data from Alpaca\"\"\"\n",
    "    \"\"\"  example syntax: get_dat_data(\"TSLA\")  \"\"\"\n",
    "    \n",
    "    # Insert Personal Secret Keys (check .ENV to match syntax if error occurs)\n",
    "    alpaca_api_key = os.getenv(\"APCA_API_KEY_ID\")\n",
    "    alpaca_secret_key = os.getenv(\"APCA_API_SECRET_KEY\")\n",
    "    # Create the Alpaca API object\n",
    "    alpaca = tradeapi.REST(\n",
    "        alpaca_api_key,\n",
    "        alpaca_secret_key,\n",
    "        api_version= \"v2\")\n",
    "    \n",
    "    # Backdating the Data to the first day of 2020\n",
    "    back_date = pd.Timestamp(start_date, tz=\"America/New_York\").isoformat()\n",
    "    end_date = pd.Timestamp(end_date, tz=\"America/New_York\").isoformat()\n",
    "\n",
    "    # Choosing the ticker we want (need to figure out how to make this the input)\n",
    "    #ticker = [\"TSLA\"]\n",
    "    \n",
    "    # Using our assumption of 15min intervals for trading\n",
    "    timeframe = \"15Min\"\n",
    "    \n",
    "    # Creating a dataframe with every characteristic of ticker Alpaca allows\n",
    "    df_ticker = alpaca.get_barset(\n",
    "        ticker,\n",
    "        timeframe,\n",
    "        start=back_date,\n",
    "        end = end_date\n",
    "        ).df\n",
    "    \n",
    "    return df_ticker[ticker]"
   ]
  },
  {
   "cell_type": "code",
   "execution_count": 6,
   "metadata": {},
   "outputs": [
    {
     "output_type": "execute_result",
     "data": {
      "text/plain": "                              open     high      low    close  volume\n2020-01-02 09:30:00-05:00  296.280  297.950  295.210  297.130   67089\n2020-01-02 09:45:00-05:00  297.190  298.150  296.710  298.000   29727\n2020-01-02 10:00:00-05:00  297.975  298.400  297.370  297.370   40507\n2020-01-02 10:15:00-05:00  297.355  297.580  296.620  297.460   32067\n2020-01-02 10:30:00-05:00  297.540  297.750  297.130  297.620   31451\n...                            ...      ...      ...      ...     ...\n2020-12-31 15:00:00-05:00  133.000  133.180  132.870  132.955   90980\n2020-12-31 15:15:00-05:00  133.000  133.045  132.575  132.785   96906\n2020-12-31 15:30:00-05:00  132.805  132.850  132.660  132.720   82904\n2020-12-31 15:45:00-05:00  132.710  133.300  132.520  132.580  462518\n2020-12-31 17:00:00-05:00  132.621  132.621  132.621  132.621     100\n\n[8880 rows x 5 columns]",
      "text/html": "<div>\n<style scoped>\n    .dataframe tbody tr th:only-of-type {\n        vertical-align: middle;\n    }\n\n    .dataframe tbody tr th {\n        vertical-align: top;\n    }\n\n    .dataframe thead th {\n        text-align: right;\n    }\n</style>\n<table border=\"1\" class=\"dataframe\">\n  <thead>\n    <tr style=\"text-align: right;\">\n      <th></th>\n      <th>open</th>\n      <th>high</th>\n      <th>low</th>\n      <th>close</th>\n      <th>volume</th>\n    </tr>\n  </thead>\n  <tbody>\n    <tr>\n      <th>2020-01-02 09:30:00-05:00</th>\n      <td>296.280</td>\n      <td>297.950</td>\n      <td>295.210</td>\n      <td>297.130</td>\n      <td>67089</td>\n    </tr>\n    <tr>\n      <th>2020-01-02 09:45:00-05:00</th>\n      <td>297.190</td>\n      <td>298.150</td>\n      <td>296.710</td>\n      <td>298.000</td>\n      <td>29727</td>\n    </tr>\n    <tr>\n      <th>2020-01-02 10:00:00-05:00</th>\n      <td>297.975</td>\n      <td>298.400</td>\n      <td>297.370</td>\n      <td>297.370</td>\n      <td>40507</td>\n    </tr>\n    <tr>\n      <th>2020-01-02 10:15:00-05:00</th>\n      <td>297.355</td>\n      <td>297.580</td>\n      <td>296.620</td>\n      <td>297.460</td>\n      <td>32067</td>\n    </tr>\n    <tr>\n      <th>2020-01-02 10:30:00-05:00</th>\n      <td>297.540</td>\n      <td>297.750</td>\n      <td>297.130</td>\n      <td>297.620</td>\n      <td>31451</td>\n    </tr>\n    <tr>\n      <th>...</th>\n      <td>...</td>\n      <td>...</td>\n      <td>...</td>\n      <td>...</td>\n      <td>...</td>\n    </tr>\n    <tr>\n      <th>2020-12-31 15:00:00-05:00</th>\n      <td>133.000</td>\n      <td>133.180</td>\n      <td>132.870</td>\n      <td>132.955</td>\n      <td>90980</td>\n    </tr>\n    <tr>\n      <th>2020-12-31 15:15:00-05:00</th>\n      <td>133.000</td>\n      <td>133.045</td>\n      <td>132.575</td>\n      <td>132.785</td>\n      <td>96906</td>\n    </tr>\n    <tr>\n      <th>2020-12-31 15:30:00-05:00</th>\n      <td>132.805</td>\n      <td>132.850</td>\n      <td>132.660</td>\n      <td>132.720</td>\n      <td>82904</td>\n    </tr>\n    <tr>\n      <th>2020-12-31 15:45:00-05:00</th>\n      <td>132.710</td>\n      <td>133.300</td>\n      <td>132.520</td>\n      <td>132.580</td>\n      <td>462518</td>\n    </tr>\n    <tr>\n      <th>2020-12-31 17:00:00-05:00</th>\n      <td>132.621</td>\n      <td>132.621</td>\n      <td>132.621</td>\n      <td>132.621</td>\n      <td>100</td>\n    </tr>\n  </tbody>\n</table>\n<p>8880 rows × 5 columns</p>\n</div>"
     },
     "metadata": {},
     "execution_count": 6
    }
   ],
   "source": [
    "fetch_ohlcv(\"AAPL\")"
   ]
  },
  {
   "cell_type": "code",
   "execution_count": null,
   "metadata": {},
   "outputs": [],
   "source": [
    "def practice_ohlcv(ticker):\n",
    "    \"\"\"Function to automatically pull closing price data from Alpaca\"\"\"\n",
    "    \"\"\"  example syntax: get_dat_data([\"TSLA\"])  \"\"\"\n",
    "    \n",
    "    # Insert Personal Secret Keys (check .ENV to match syntax if error occurs)\n",
    "    alpaca_api_key = os.getenv(\"APCA_API_KEY_ID\")\n",
    "    alpaca_secret_key = os.getenv(\"APCA_API_SECRET_KEY\")\n",
    "    # Create the Alpaca API object\n",
    "    alpaca = tradeapi.REST(\n",
    "        alpaca_api_key,\n",
    "        alpaca_secret_key,\n",
    "        api_version= \"v2\")\n",
    "    \n",
    "    # Backdating the Data to the first day of 2020\n",
    "    back_date = pd.Timestamp(\"2020-01-01\", tz=\"America/New_York\").isoformat()\n",
    "    \n",
    "    # Using our assumption of 15min intervals for trading\n",
    "    timeframe = \"15Min\"\n",
    "    \n",
    "    # Creating a dataframe with every characteristic of ticker Alpaca allows\n",
    "    df_ticker = alpaca.get_barset(\n",
    "        ticker,\n",
    "        timeframe,\n",
    "        start=back_date\n",
    "        ).df\n",
    "    \n",
    "    ohlc_df = pd.DataFrame(df_ticker)\n",
    "    # ohlc_df = ohlc_df.rename(columns={\"open\":\"Open\", \"high\":\"High\", \"low\":\"Low\", \"close\":\"Close\", \"volume\":\"Volume\"})\n",
    "    return ohlc_df"
   ]
  },
  {
   "cell_type": "code",
   "execution_count": null,
   "metadata": {},
   "outputs": [],
   "source": [
    "# Bollinger Band function to capture signal\n",
    "def bollinger_band_signal_generator(dataframe_name, closing_price_column_name = 'close', bollinger_band_window = 20, num_standard_deviation = 2):\n",
    "    \"\"\"Creates Bollinger Band indicator with signal for long position based on closing price\n",
    "    Args:\n",
    "        dataframe_name (dict): Single security dataframe containing at least closing prices\n",
    "        closing_price_column_name (str): Name of column in dataframe containing closing prices\n",
    "        bollinger_band_window (int): Desired timeframe window used for rolling calculations\n",
    "        num_standard_deviation (int): Desired number of standard deviations to calculate\n",
    "    Returns:\n",
    "        A dataframe of:\n",
    "            original data passed to function,\n",
    "            bollinger_band_middle (flt): Column of values for middle band,\n",
    "            bollinger_band_std (flt): Column of values to calculate standard deviation,\n",
    "            bollinger_band_upper (flt): Column of values for upper band,\n",
    "            bollinger_band_lower (flt): Column of values for lower band,\n",
    "            bollinger_band_long (flt): Column of generated signals (1.0 = True, 0.0 = False)\n",
    "    \"\"\"\n",
    "    # Calculate mean and standard deviation\n",
    "    dataframe_name['bollinger_band_middle'] = dataframe_name[closing_price_column_name].rolling(window=bollinger_band_window).mean()\n",
    "    dataframe_name['bollinger_band_std'] = dataframe_name[closing_price_column_name].rolling(window=bollinger_band_window).std()\n",
    "\n",
    "    # Calculate upper bollinger band and lower bollinger band\n",
    "    dataframe_name['bollinger_band_upper'] = dataframe_name['bollinger_band_middle'] + (dataframe_name['bollinger_band_std'] * num_standard_deviation)\n",
    "    dataframe_name['bollinger_band_lower'] = dataframe_name['bollinger_band_middle'] - (dataframe_name['bollinger_band_std'] * num_standard_deviation)\n",
    "\n",
    "    # Create signal column\n",
    "    dataframe_name['bollinger_band_long'] = np.where(dataframe_name[closing_price_column_name] > dataframe_name['bollinger_band_upper'], 1.0, 0.0)\n",
    "    \n",
    "    # Drop NaN values\n",
    "    dataframe_name.dropna(inplace=True)\n",
    "\n",
    "    # Return dataframe with features and target\n",
    "    return dataframe_name\n"
   ]
  },
  {
   "cell_type": "code",
   "execution_count": null,
   "metadata": {},
   "outputs": [],
   "source": [
    "bollinger_band_signal_generator(fetch_close(ticker_symbol), \"close\").tail()"
   ]
  },
  {
   "cell_type": "code",
   "execution_count": null,
   "metadata": {},
   "outputs": [],
   "source": [
    "fetch_ohlc = fetch_ohlc(ticker_symbol)\n",
    "fetch_ohlc[\"JPM\"].head()"
   ]
  },
  {
   "cell_type": "code",
   "execution_count": null,
   "metadata": {},
   "outputs": [],
   "source": [
    "bollinger_band_signal_generator(fetch_ohlc(ticker_symbol))"
   ]
  },
  {
   "cell_type": "markdown",
   "metadata": {},
   "source": [
    "Practice Bollinger"
   ]
  },
  {
   "cell_type": "code",
   "execution_count": null,
   "metadata": {},
   "outputs": [],
   "source": [
    "\n",
    "def bollinger_band(get_dat_data):\n",
    "    closing_price = pd.DataFrame(get_dat_data(ticker_symbol))\n",
    "    # Window size\n",
    "    bollinger_band_window = 20\n",
    "    num_standard_deviation = 2\n",
    "\n",
    "    # Calculate mean and standard deviation\n",
    "    closing_price['bollinger_band_middle'] = closing_price['close'].rolling(window=bollinger_band_window).mean()\n",
    "    closing_price['bollinger_band_std'] = closing_price['close'].rolling(window=bollinger_band_window).std()\n",
    "\n",
    "    # Calculate upper bollinger band and lower bollinger band\n",
    "    closing_price['bollinger_band_upper'] = closing_price['bollinger_band_middle'] + (closing_price['bollinger_band_std'] * num_standard_deviation)\n",
    "    closing_price['bollinger_band_lower'] = closing_price['bollinger_band_middle'] - (closing_price['bollinger_band_std'] * num_standard_deviation)\n",
    "    # Create signal for long\n",
    "    closing_price['bollinger_band_long'] = np.where(closing_price['close'] > closing_price['bollinger_band_upper'], 1.0, 0.0)\n",
    "    closing_price.loc[closing_price['bollinger_band_long'] == 1.0].head()\n",
    "    closing_price.dropna(inplace=True)\n",
    "    # Plot Bollinger Bands with closing prices to visually see data\n",
    "    return closing_price[['close', 'bollinger_band_middle', 'bollinger_band_upper', 'bollinger_band_lower']].plot(figsize=(20,10), title='AAPL Bollinger Bands')"
   ]
  },
  {
   "cell_type": "code",
   "execution_count": null,
   "metadata": {},
   "outputs": [],
   "source": [
    "bollinger_band(get_dat_data)"
   ]
  },
  {
   "cell_type": "markdown",
   "metadata": {},
   "source": [
    "ROUGH DRAFT FOR ALPACA API"
   ]
  },
  {
   "cell_type": "code",
   "execution_count": null,
   "metadata": {},
   "outputs": [],
   "source": [
    "# Bringing in alpaca api keys\n",
    "alpaca_api_key = os.getenv(\"APCA_API_KEY_ID\")\n",
    "alpaca_secret_key = os.getenv(\"APCA_API_SECRET_KEY\")\n",
    "# Create the Alpaca API object\n",
    "# YOUR CODE HERE!\n",
    "alpaca = tradeapi.REST(\n",
    "    alpaca_api_key,\n",
    "    alpaca_secret_key,\n",
    "    api_version= \"v2\")"
   ]
  },
  {
   "cell_type": "code",
   "execution_count": null,
   "metadata": {
    "tags": []
   },
   "outputs": [],
   "source": [
    "# testing alpaca keys\n",
    "print(f\"Alpaca Key type: {type(alpaca_api_key)}\")\n",
    "print(f\"Alpca Secret Key type: {type(alpaca_secret_key)}\")"
   ]
  },
  {
   "cell_type": "code",
   "execution_count": null,
   "metadata": {},
   "outputs": [],
   "source": [
    "# Defining timeframe and ticker parameters for my API pull\n",
    "current_date = pd.Timestamp(\"2020-01-01\", tz=\"America/New_York\").isoformat()\n",
    "\n",
    "ticker = [\"JPM\"]\n",
    "\n",
    "timeframe = \"15Min\""
   ]
  },
  {
   "cell_type": "code",
   "execution_count": null,
   "metadata": {},
   "outputs": [],
   "source": [
    "# Creating dataframe with every feature on Alpaca's get_barset\n",
    "df_ticker = alpaca.get_barset(\n",
    "    ticker,\n",
    "    timeframe,\n",
    "    start=current_date\n",
    ").df\n",
    "\n",
    "df_ticker.head()"
   ]
  },
  {
   "cell_type": "code",
   "execution_count": null,
   "metadata": {},
   "outputs": [],
   "source": [
    "# Creating a clsing price dataframe. Had to get a little weird with this code. \n",
    "closing_price = pd.DataFrame()\n",
    "\n",
    "for time_period in ticker:\n",
    "    closing_price[x] = df_ticker[time_period][\"close\"]\n",
    "\n",
    "closing_price.head()\n"
   ]
  },
  {
   "cell_type": "code",
   "execution_count": null,
   "metadata": {},
   "outputs": [],
   "source": [
    "import os\n",
    "import asyncio\n",
    "import numpy as np\n",
    "import pandas as pd\n",
    "import alpaca_trade_api as tradeapi\n",
    "from dotenv import load_dotenv\n",
    "import matplotlib.pyplot as plt\n"
   ]
  },
  {
   "cell_type": "code",
   "execution_count": null,
   "metadata": {},
   "outputs": [],
   "source": [
    "def execute_trade_strategy(all_signals, account):\n",
    "\n",
    "    if bollinger_band_signal_generator(fetch_close(ticker_symbol), \"close\")[\"long\"].iloc == 1.0:\n",
    "        print(buy)"
   ]
  },
  {
   "cell_type": "code",
   "execution_count": null,
   "metadata": {},
   "outputs": [],
   "source": []
  }
 ]
}