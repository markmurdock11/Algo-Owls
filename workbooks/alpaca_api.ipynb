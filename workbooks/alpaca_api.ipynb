{
 "metadata": {
  "language_info": {
   "codemirror_mode": {
    "name": "ipython",
    "version": 3
   },
   "file_extension": ".py",
   "mimetype": "text/x-python",
   "name": "python",
   "nbconvert_exporter": "python",
   "pygments_lexer": "ipython3",
   "version": "3.8.3-final"
  },
  "orig_nbformat": 2,
  "kernelspec": {
   "name": "python_defaultSpec_1610040357318",
   "display_name": "Python 3.8.3 64-bit ('base': conda)"
  }
 },
 "nbformat": 4,
 "nbformat_minor": 2,
 "cells": [
  {
   "cell_type": "markdown",
   "metadata": {},
   "source": [
    "Creating basic API call from Alpaca"
   ]
  },
  {
   "cell_type": "code",
   "execution_count": 1,
   "metadata": {},
   "outputs": [],
   "source": [
    "# importing requisite libraries\n",
    "import requests\n",
    "from dotenv import load_dotenv\n",
    "import os \n",
    "import pandas as pd\n",
    "import numpy as np\n",
    "import alpaca_trade_api as tradeapi\n",
    "import json"
   ]
  },
  {
   "cell_type": "code",
   "execution_count": 2,
   "metadata": {
    "tags": []
   },
   "outputs": [
    {
     "output_type": "stream",
     "name": "stderr",
     "text": "Python-dotenv could not parse statement starting at line 7\nPython-dotenv could not parse statement starting at line 8\n"
    },
    {
     "output_type": "execute_result",
     "data": {
      "text/plain": "True"
     },
     "metadata": {},
     "execution_count": 2
    }
   ],
   "source": [
    "load_dotenv()"
   ]
  },
  {
   "cell_type": "code",
   "execution_count": 11,
   "metadata": {},
   "outputs": [],
   "source": [
    "def get_dat_data():\n",
    "    \"\"\"Function to automatically pull closing price data from Alpaca\"\"\"\n",
    "    \n",
    "    # Insert Personal Secret Keys (check .ENV to match syntax if error occurs)\n",
    "    alpaca_api_key = os.getenv(\"APCA_API_KEY_ID\")\n",
    "    alpaca_secret_key = os.getenv(\"APCA_API_SECRET_KEY\")\n",
    "    # Create the Alpaca API object\n",
    "    alpaca = tradeapi.REST(\n",
    "        alpaca_api_key,\n",
    "        alpaca_secret_key,\n",
    "        api_version= \"v2\")\n",
    "    \n",
    "    # Backdating the Data to the first day of 2020\n",
    "    back_date = pd.Timestamp(\"2020-01-01\", tz=\"America/New_York\").isoformat()\n",
    "\n",
    "    # Choosing the ticker we want (need to figure out how to make this the input)\n",
    "    ticker = [\"TSLA\"]\n",
    "    \n",
    "    # Using our assumption of 15min intervals for trading\n",
    "    timeframe = \"15Min\"\n",
    "    \n",
    "    # Creating a dataframe with every characteristic of ticker Alpaca allows\n",
    "    df_ticker = alpaca.get_barset(\n",
    "        ticker,\n",
    "        timeframe,\n",
    "        start=back_date\n",
    "        ).df\n",
    "    \n",
    "    # Selecting only the closing price for the ticker\n",
    "    closing_price = pd.DataFrame()\n",
    "\n",
    "    for time_period in ticker:\n",
    "        closing_price[time_period] = df_ticker[time_period][\"close\"]\n",
    "\n",
    "    closing_price.dropna()\n",
    "\n",
    "    return closing_price.head()"
   ]
  },
  {
   "cell_type": "code",
   "execution_count": 12,
   "metadata": {},
   "outputs": [
    {
     "output_type": "execute_result",
     "data": {
      "text/plain": "                             TSLA\n2020-01-02 07:00:00-05:00  422.64\n2020-01-02 07:15:00-05:00  423.04\n2020-01-02 07:30:00-05:00  424.14\n2020-01-02 07:45:00-05:00  424.94\n2020-01-02 08:00:00-05:00  425.01",
      "text/html": "<div>\n<style scoped>\n    .dataframe tbody tr th:only-of-type {\n        vertical-align: middle;\n    }\n\n    .dataframe tbody tr th {\n        vertical-align: top;\n    }\n\n    .dataframe thead th {\n        text-align: right;\n    }\n</style>\n<table border=\"1\" class=\"dataframe\">\n  <thead>\n    <tr style=\"text-align: right;\">\n      <th></th>\n      <th>TSLA</th>\n    </tr>\n  </thead>\n  <tbody>\n    <tr>\n      <th>2020-01-02 07:00:00-05:00</th>\n      <td>422.64</td>\n    </tr>\n    <tr>\n      <th>2020-01-02 07:15:00-05:00</th>\n      <td>423.04</td>\n    </tr>\n    <tr>\n      <th>2020-01-02 07:30:00-05:00</th>\n      <td>424.14</td>\n    </tr>\n    <tr>\n      <th>2020-01-02 07:45:00-05:00</th>\n      <td>424.94</td>\n    </tr>\n    <tr>\n      <th>2020-01-02 08:00:00-05:00</th>\n      <td>425.01</td>\n    </tr>\n  </tbody>\n</table>\n</div>"
     },
     "metadata": {},
     "execution_count": 12
    }
   ],
   "source": [
    "get_dat_data()"
   ]
  },
  {
   "cell_type": "markdown",
   "metadata": {},
   "source": [
    "ROUGH DRAFT FOR ALPACA API"
   ]
  },
  {
   "cell_type": "code",
   "execution_count": 3,
   "metadata": {},
   "outputs": [],
   "source": [
    "# Bringing in alpaca api keys\n",
    "alpaca_api_key = os.getenv(\"APCA_API_KEY_ID\")\n",
    "alpaca_secret_key = os.getenv(\"APCA_API_SECRET_KEY\")\n",
    "# Create the Alpaca API object\n",
    "# YOUR CODE HERE!\n",
    "alpaca = tradeapi.REST(\n",
    "    alpaca_api_key,\n",
    "    alpaca_secret_key,\n",
    "    api_version= \"v2\")"
   ]
  },
  {
   "cell_type": "code",
   "execution_count": 4,
   "metadata": {
    "tags": []
   },
   "outputs": [
    {
     "output_type": "stream",
     "name": "stdout",
     "text": "Alpaca Key type: <class 'str'>\nAlpca Secret Key type: <class 'str'>\n"
    }
   ],
   "source": [
    "# testing alpaca keys\n",
    "print(f\"Alpaca Key type: {type(alpaca_api_key)}\")\n",
    "print(f\"Alpca Secret Key type: {type(alpaca_secret_key)}\")"
   ]
  },
  {
   "cell_type": "code",
   "execution_count": 10,
   "metadata": {},
   "outputs": [],
   "source": [
    "# Defining timeframe and ticker parameters for my API pull\n",
    "current_date = pd.Timestamp(\"2020-01-01\", tz=\"America/New_York\").isoformat()\n",
    "\n",
    "ticker = [\"JPM\"]\n",
    "\n",
    "timeframe = \"15Min\""
   ]
  },
  {
   "cell_type": "code",
   "execution_count": 11,
   "metadata": {},
   "outputs": [
    {
     "output_type": "execute_result",
     "data": {
      "text/plain": "                               JPM                                 \n                              open    high      low    close volume\n2020-01-02 09:30:00-05:00  140.070  140.14  139.520  139.670  29953\n2020-01-02 09:45:00-05:00  139.675  139.91  139.440  139.670  24343\n2020-01-02 10:00:00-05:00  139.635  139.81  139.520  139.640  19021\n2020-01-02 10:15:00-05:00  139.600  139.60  139.340  139.400  18856\n2020-01-02 10:30:00-05:00  139.460  139.54  139.280  139.535  19695\n...                            ...     ...      ...      ...    ...\n2021-01-06 12:15:00-05:00  131.670  131.96  131.665  131.960  22992\n2021-01-06 12:30:00-05:00  131.960  132.30  131.920  132.280  17191\n2021-01-06 12:45:00-05:00  132.275  132.58  131.960  132.580  20470\n2021-01-06 13:00:00-05:00  132.615  132.65  132.265  132.360  21793\n2021-01-06 13:15:00-05:00  132.350  132.55  132.350  132.460   3561\n\n[6857 rows x 5 columns]",
      "text/html": "<div>\n<style scoped>\n    .dataframe tbody tr th:only-of-type {\n        vertical-align: middle;\n    }\n\n    .dataframe tbody tr th {\n        vertical-align: top;\n    }\n\n    .dataframe thead tr th {\n        text-align: left;\n    }\n</style>\n<table border=\"1\" class=\"dataframe\">\n  <thead>\n    <tr>\n      <th></th>\n      <th colspan=\"5\" halign=\"left\">JPM</th>\n    </tr>\n    <tr>\n      <th></th>\n      <th>open</th>\n      <th>high</th>\n      <th>low</th>\n      <th>close</th>\n      <th>volume</th>\n    </tr>\n  </thead>\n  <tbody>\n    <tr>\n      <th>2020-01-02 09:30:00-05:00</th>\n      <td>140.070</td>\n      <td>140.14</td>\n      <td>139.520</td>\n      <td>139.670</td>\n      <td>29953</td>\n    </tr>\n    <tr>\n      <th>2020-01-02 09:45:00-05:00</th>\n      <td>139.675</td>\n      <td>139.91</td>\n      <td>139.440</td>\n      <td>139.670</td>\n      <td>24343</td>\n    </tr>\n    <tr>\n      <th>2020-01-02 10:00:00-05:00</th>\n      <td>139.635</td>\n      <td>139.81</td>\n      <td>139.520</td>\n      <td>139.640</td>\n      <td>19021</td>\n    </tr>\n    <tr>\n      <th>2020-01-02 10:15:00-05:00</th>\n      <td>139.600</td>\n      <td>139.60</td>\n      <td>139.340</td>\n      <td>139.400</td>\n      <td>18856</td>\n    </tr>\n    <tr>\n      <th>2020-01-02 10:30:00-05:00</th>\n      <td>139.460</td>\n      <td>139.54</td>\n      <td>139.280</td>\n      <td>139.535</td>\n      <td>19695</td>\n    </tr>\n    <tr>\n      <th>...</th>\n      <td>...</td>\n      <td>...</td>\n      <td>...</td>\n      <td>...</td>\n      <td>...</td>\n    </tr>\n    <tr>\n      <th>2021-01-06 12:15:00-05:00</th>\n      <td>131.670</td>\n      <td>131.96</td>\n      <td>131.665</td>\n      <td>131.960</td>\n      <td>22992</td>\n    </tr>\n    <tr>\n      <th>2021-01-06 12:30:00-05:00</th>\n      <td>131.960</td>\n      <td>132.30</td>\n      <td>131.920</td>\n      <td>132.280</td>\n      <td>17191</td>\n    </tr>\n    <tr>\n      <th>2021-01-06 12:45:00-05:00</th>\n      <td>132.275</td>\n      <td>132.58</td>\n      <td>131.960</td>\n      <td>132.580</td>\n      <td>20470</td>\n    </tr>\n    <tr>\n      <th>2021-01-06 13:00:00-05:00</th>\n      <td>132.615</td>\n      <td>132.65</td>\n      <td>132.265</td>\n      <td>132.360</td>\n      <td>21793</td>\n    </tr>\n    <tr>\n      <th>2021-01-06 13:15:00-05:00</th>\n      <td>132.350</td>\n      <td>132.55</td>\n      <td>132.350</td>\n      <td>132.460</td>\n      <td>3561</td>\n    </tr>\n  </tbody>\n</table>\n<p>6857 rows × 5 columns</p>\n</div>"
     },
     "metadata": {},
     "execution_count": 11
    }
   ],
   "source": [
    "# Creating dataframe with every feature on Alpaca's get_barset\n",
    "df_ticker = alpaca.get_barset(\n",
    "    ticker,\n",
    "    timeframe,\n",
    "    start=current_date\n",
    ").df\n",
    "\n",
    "df_ticker.head()"
   ]
  },
  {
   "cell_type": "code",
   "execution_count": 17,
   "metadata": {},
   "outputs": [
    {
     "output_type": "execute_result",
     "data": {
      "text/plain": "                               JPM\n2020-01-02 09:30:00-05:00  139.670\n2020-01-02 09:45:00-05:00  139.670\n2020-01-02 10:00:00-05:00  139.640\n2020-01-02 10:15:00-05:00  139.400\n2020-01-02 10:30:00-05:00  139.535",
      "text/html": "<div>\n<style scoped>\n    .dataframe tbody tr th:only-of-type {\n        vertical-align: middle;\n    }\n\n    .dataframe tbody tr th {\n        vertical-align: top;\n    }\n\n    .dataframe thead th {\n        text-align: right;\n    }\n</style>\n<table border=\"1\" class=\"dataframe\">\n  <thead>\n    <tr style=\"text-align: right;\">\n      <th></th>\n      <th>JPM</th>\n    </tr>\n  </thead>\n  <tbody>\n    <tr>\n      <th>2020-01-02 09:30:00-05:00</th>\n      <td>139.670</td>\n    </tr>\n    <tr>\n      <th>2020-01-02 09:45:00-05:00</th>\n      <td>139.670</td>\n    </tr>\n    <tr>\n      <th>2020-01-02 10:00:00-05:00</th>\n      <td>139.640</td>\n    </tr>\n    <tr>\n      <th>2020-01-02 10:15:00-05:00</th>\n      <td>139.400</td>\n    </tr>\n    <tr>\n      <th>2020-01-02 10:30:00-05:00</th>\n      <td>139.535</td>\n    </tr>\n  </tbody>\n</table>\n</div>"
     },
     "metadata": {},
     "execution_count": 17
    }
   ],
   "source": [
    "# Creating a clsing price dataframe. Had to get a little weird with this code. \n",
    "closing_price = pd.DataFrame()\n",
    "\n",
    "for time_period in ticker:\n",
    "    closing_price[x] = df_ticker[time_period][\"close\"]\n",
    "\n",
    "closing_price.head()\n"
   ]
  }
 ]
}