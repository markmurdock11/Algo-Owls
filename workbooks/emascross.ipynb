{
 "metadata": {
  "language_info": {
   "codemirror_mode": {
    "name": "ipython",
    "version": 3
   },
   "file_extension": ".py",
   "mimetype": "text/x-python",
   "name": "python",
   "nbconvert_exporter": "python",
   "pygments_lexer": "ipython3",
   "version": "3.7.7-final"
  },
  "orig_nbformat": 2,
  "kernelspec": {
   "name": "python3",
   "display_name": "Python 3.7.7 64-bit ('p2env': conda)",
   "metadata": {
    "interpreter": {
     "hash": "c43195f3d0b10cc1add35a5bf0e17b8d3e21a526783a3947880a3e762f0d2480"
    }
   }
  }
 },
 "nbformat": 4,
 "nbformat_minor": 2,
 "cells": [
  {
   "cell_type": "code",
   "execution_count": 1,
   "metadata": {},
   "outputs": [],
   "source": [
    "#Import libraries and dependencies\n",
    "\n",
    "import numpy as np\n",
    "import pandas as pd\n",
    "from pathlib import Path"
   ]
  },
  {
   "cell_type": "code",
   "execution_count": 2,
   "metadata": {},
   "outputs": [],
   "source": [
    "# Set file path:\n",
    "\n",
    "filepath = Path(\"../Resources/JPM.csv\")"
   ]
  },
  {
   "cell_type": "code",
   "execution_count": null,
   "metadata": {},
   "outputs": [],
   "source": []
  },
  {
   "cell_type": "code",
   "execution_count": 8,
   "metadata": {},
   "outputs": [
    {
     "output_type": "execute_result",
     "data": {
      "text/plain": [
       "                  Unnamed: 0    close\n",
       "0  2020-01-02 09:30:00-05:00  139.670\n",
       "1  2020-01-02 09:45:00-05:00  139.670\n",
       "2  2020-01-02 10:00:00-05:00  139.640\n",
       "3  2020-01-02 10:15:00-05:00  139.400\n",
       "4  2020-01-02 10:30:00-05:00  139.535"
      ],
      "text/html": "<div>\n<style scoped>\n    .dataframe tbody tr th:only-of-type {\n        vertical-align: middle;\n    }\n\n    .dataframe tbody tr th {\n        vertical-align: top;\n    }\n\n    .dataframe thead th {\n        text-align: right;\n    }\n</style>\n<table border=\"1\" class=\"dataframe\">\n  <thead>\n    <tr style=\"text-align: right;\">\n      <th></th>\n      <th>Unnamed: 0</th>\n      <th>close</th>\n    </tr>\n  </thead>\n  <tbody>\n    <tr>\n      <th>0</th>\n      <td>2020-01-02 09:30:00-05:00</td>\n      <td>139.670</td>\n    </tr>\n    <tr>\n      <th>1</th>\n      <td>2020-01-02 09:45:00-05:00</td>\n      <td>139.670</td>\n    </tr>\n    <tr>\n      <th>2</th>\n      <td>2020-01-02 10:00:00-05:00</td>\n      <td>139.640</td>\n    </tr>\n    <tr>\n      <th>3</th>\n      <td>2020-01-02 10:15:00-05:00</td>\n      <td>139.400</td>\n    </tr>\n    <tr>\n      <th>4</th>\n      <td>2020-01-02 10:30:00-05:00</td>\n      <td>139.535</td>\n    </tr>\n  </tbody>\n</table>\n</div>"
     },
     "metadata": {},
     "execution_count": 8
    }
   ],
   "source": [
    "jpm_df = pd.read_csv(filepath, parse_dates=True, infer_datetime_format=True)\n",
    "\n",
    "jpm_df.head()"
   ]
  },
  {
   "cell_type": "code",
   "execution_count": 9,
   "metadata": {},
   "outputs": [
    {
     "output_type": "execute_result",
     "data": {
      "text/plain": [
       "                        date    close\n",
       "0  2020-01-02 09:30:00-05:00  139.670\n",
       "1  2020-01-02 09:45:00-05:00  139.670\n",
       "2  2020-01-02 10:00:00-05:00  139.640\n",
       "3  2020-01-02 10:15:00-05:00  139.400\n",
       "4  2020-01-02 10:30:00-05:00  139.535"
      ],
      "text/html": "<div>\n<style scoped>\n    .dataframe tbody tr th:only-of-type {\n        vertical-align: middle;\n    }\n\n    .dataframe tbody tr th {\n        vertical-align: top;\n    }\n\n    .dataframe thead th {\n        text-align: right;\n    }\n</style>\n<table border=\"1\" class=\"dataframe\">\n  <thead>\n    <tr style=\"text-align: right;\">\n      <th></th>\n      <th>date</th>\n      <th>close</th>\n    </tr>\n  </thead>\n  <tbody>\n    <tr>\n      <th>0</th>\n      <td>2020-01-02 09:30:00-05:00</td>\n      <td>139.670</td>\n    </tr>\n    <tr>\n      <th>1</th>\n      <td>2020-01-02 09:45:00-05:00</td>\n      <td>139.670</td>\n    </tr>\n    <tr>\n      <th>2</th>\n      <td>2020-01-02 10:00:00-05:00</td>\n      <td>139.640</td>\n    </tr>\n    <tr>\n      <th>3</th>\n      <td>2020-01-02 10:15:00-05:00</td>\n      <td>139.400</td>\n    </tr>\n    <tr>\n      <th>4</th>\n      <td>2020-01-02 10:30:00-05:00</td>\n      <td>139.535</td>\n    </tr>\n  </tbody>\n</table>\n</div>"
     },
     "metadata": {},
     "execution_count": 9
    }
   ],
   "source": [
    "jpm_df.rename(columns={\"Unnamed: 0\": 'date'}, inplace=True)\n",
    "jpm_df.head()"
   ]
  },
  {
   "cell_type": "code",
   "execution_count": 10,
   "metadata": {},
   "outputs": [
    {
     "output_type": "execute_result",
     "data": {
      "text/plain": [
       "                             close\n",
       "date                              \n",
       "2020-01-02 09:30:00-05:00  139.670\n",
       "2020-01-02 09:45:00-05:00  139.670\n",
       "2020-01-02 10:00:00-05:00  139.640\n",
       "2020-01-02 10:15:00-05:00  139.400\n",
       "2020-01-02 10:30:00-05:00  139.535"
      ],
      "text/html": "<div>\n<style scoped>\n    .dataframe tbody tr th:only-of-type {\n        vertical-align: middle;\n    }\n\n    .dataframe tbody tr th {\n        vertical-align: top;\n    }\n\n    .dataframe thead th {\n        text-align: right;\n    }\n</style>\n<table border=\"1\" class=\"dataframe\">\n  <thead>\n    <tr style=\"text-align: right;\">\n      <th></th>\n      <th>close</th>\n    </tr>\n    <tr>\n      <th>date</th>\n      <th></th>\n    </tr>\n  </thead>\n  <tbody>\n    <tr>\n      <th>2020-01-02 09:30:00-05:00</th>\n      <td>139.670</td>\n    </tr>\n    <tr>\n      <th>2020-01-02 09:45:00-05:00</th>\n      <td>139.670</td>\n    </tr>\n    <tr>\n      <th>2020-01-02 10:00:00-05:00</th>\n      <td>139.640</td>\n    </tr>\n    <tr>\n      <th>2020-01-02 10:15:00-05:00</th>\n      <td>139.400</td>\n    </tr>\n    <tr>\n      <th>2020-01-02 10:30:00-05:00</th>\n      <td>139.535</td>\n    </tr>\n  </tbody>\n</table>\n</div>"
     },
     "metadata": {},
     "execution_count": 10
    }
   ],
   "source": [
    "jpm_df.set_index(\"date\",inplace =True)\n",
    "jpm_df.head()"
   ]
  },
  {
   "cell_type": "code",
   "execution_count": 19,
   "metadata": {},
   "outputs": [],
   "source": [
    "# create EMAs columns\n",
    "jpm_df['EMA9'] = jpm_df['close'].ewm(span=9, adjust=False).mean()\n",
    "jpm_df['EMA21'] = jpm_df['close'].ewm(span=21, adjust=False).mean()"
   ]
  },
  {
   "cell_type": "code",
   "execution_count": 20,
   "metadata": {},
   "outputs": [
    {
     "output_type": "execute_result",
     "data": {
      "text/plain": [
       "                             close        EMA9       EMA21\n",
       "date                                                      \n",
       "2020-01-02 09:30:00-05:00  139.670  139.670000  139.670000\n",
       "2020-01-02 09:45:00-05:00  139.670  139.670000  139.670000\n",
       "2020-01-02 10:00:00-05:00  139.640  139.664000  139.667273\n",
       "2020-01-02 10:15:00-05:00  139.400  139.611200  139.642975\n",
       "2020-01-02 10:30:00-05:00  139.535  139.595960  139.633159\n",
       "2020-01-02 10:45:00-05:00  139.920  139.660768  139.659236\n",
       "2020-01-02 11:00:00-05:00  140.060  139.740614  139.695669\n",
       "2020-01-02 11:15:00-05:00  140.135  139.819492  139.735608\n",
       "2020-01-02 11:30:00-05:00  140.270  139.909593  139.784189\n",
       "2020-01-02 11:45:00-05:00  140.490  140.025675  139.848354"
      ],
      "text/html": "<div>\n<style scoped>\n    .dataframe tbody tr th:only-of-type {\n        vertical-align: middle;\n    }\n\n    .dataframe tbody tr th {\n        vertical-align: top;\n    }\n\n    .dataframe thead th {\n        text-align: right;\n    }\n</style>\n<table border=\"1\" class=\"dataframe\">\n  <thead>\n    <tr style=\"text-align: right;\">\n      <th></th>\n      <th>close</th>\n      <th>EMA9</th>\n      <th>EMA21</th>\n    </tr>\n    <tr>\n      <th>date</th>\n      <th></th>\n      <th></th>\n      <th></th>\n    </tr>\n  </thead>\n  <tbody>\n    <tr>\n      <th>2020-01-02 09:30:00-05:00</th>\n      <td>139.670</td>\n      <td>139.670000</td>\n      <td>139.670000</td>\n    </tr>\n    <tr>\n      <th>2020-01-02 09:45:00-05:00</th>\n      <td>139.670</td>\n      <td>139.670000</td>\n      <td>139.670000</td>\n    </tr>\n    <tr>\n      <th>2020-01-02 10:00:00-05:00</th>\n      <td>139.640</td>\n      <td>139.664000</td>\n      <td>139.667273</td>\n    </tr>\n    <tr>\n      <th>2020-01-02 10:15:00-05:00</th>\n      <td>139.400</td>\n      <td>139.611200</td>\n      <td>139.642975</td>\n    </tr>\n    <tr>\n      <th>2020-01-02 10:30:00-05:00</th>\n      <td>139.535</td>\n      <td>139.595960</td>\n      <td>139.633159</td>\n    </tr>\n    <tr>\n      <th>2020-01-02 10:45:00-05:00</th>\n      <td>139.920</td>\n      <td>139.660768</td>\n      <td>139.659236</td>\n    </tr>\n    <tr>\n      <th>2020-01-02 11:00:00-05:00</th>\n      <td>140.060</td>\n      <td>139.740614</td>\n      <td>139.695669</td>\n    </tr>\n    <tr>\n      <th>2020-01-02 11:15:00-05:00</th>\n      <td>140.135</td>\n      <td>139.819492</td>\n      <td>139.735608</td>\n    </tr>\n    <tr>\n      <th>2020-01-02 11:30:00-05:00</th>\n      <td>140.270</td>\n      <td>139.909593</td>\n      <td>139.784189</td>\n    </tr>\n    <tr>\n      <th>2020-01-02 11:45:00-05:00</th>\n      <td>140.490</td>\n      <td>140.025675</td>\n      <td>139.848354</td>\n    </tr>\n  </tbody>\n</table>\n</div>"
     },
     "metadata": {},
     "execution_count": 20
    }
   ],
   "source": [
    "jpm_df.head(10)"
   ]
  },
  {
   "cell_type": "code",
   "execution_count": 21,
   "metadata": {},
   "outputs": [],
   "source": [
    "jpm_df['compEMAS'] = np.where(jpm_df['EMA9']>jpm_df['EMA21'],1,0)"
   ]
  },
  {
   "cell_type": "code",
   "execution_count": 23,
   "metadata": {},
   "outputs": [
    {
     "output_type": "execute_result",
     "data": {
      "text/plain": [
       "                             close        EMA9       EMA21  compEMAS\n",
       "date                                                                \n",
       "2021-01-07 14:45:00-05:00  135.870  135.837291  135.643550         1\n",
       "2021-01-07 15:00:00-05:00  135.775  135.824833  135.655500         1\n",
       "2021-01-07 15:15:00-05:00  135.655  135.790866  135.655454         1\n",
       "2021-01-07 15:30:00-05:00  135.730  135.778693  135.662231         1\n",
       "2021-01-07 15:45:00-05:00  135.870  135.796954  135.681119         1"
      ],
      "text/html": "<div>\n<style scoped>\n    .dataframe tbody tr th:only-of-type {\n        vertical-align: middle;\n    }\n\n    .dataframe tbody tr th {\n        vertical-align: top;\n    }\n\n    .dataframe thead th {\n        text-align: right;\n    }\n</style>\n<table border=\"1\" class=\"dataframe\">\n  <thead>\n    <tr style=\"text-align: right;\">\n      <th></th>\n      <th>close</th>\n      <th>EMA9</th>\n      <th>EMA21</th>\n      <th>compEMAS</th>\n    </tr>\n    <tr>\n      <th>date</th>\n      <th></th>\n      <th></th>\n      <th></th>\n      <th></th>\n    </tr>\n  </thead>\n  <tbody>\n    <tr>\n      <th>2021-01-07 14:45:00-05:00</th>\n      <td>135.870</td>\n      <td>135.837291</td>\n      <td>135.643550</td>\n      <td>1</td>\n    </tr>\n    <tr>\n      <th>2021-01-07 15:00:00-05:00</th>\n      <td>135.775</td>\n      <td>135.824833</td>\n      <td>135.655500</td>\n      <td>1</td>\n    </tr>\n    <tr>\n      <th>2021-01-07 15:15:00-05:00</th>\n      <td>135.655</td>\n      <td>135.790866</td>\n      <td>135.655454</td>\n      <td>1</td>\n    </tr>\n    <tr>\n      <th>2021-01-07 15:30:00-05:00</th>\n      <td>135.730</td>\n      <td>135.778693</td>\n      <td>135.662231</td>\n      <td>1</td>\n    </tr>\n    <tr>\n      <th>2021-01-07 15:45:00-05:00</th>\n      <td>135.870</td>\n      <td>135.796954</td>\n      <td>135.681119</td>\n      <td>1</td>\n    </tr>\n  </tbody>\n</table>\n</div>"
     },
     "metadata": {},
     "execution_count": 23
    }
   ],
   "source": [
    "jpm_df.tail()"
   ]
  },
  {
   "cell_type": "code",
   "execution_count": null,
   "metadata": {},
   "outputs": [],
   "source": []
  }
 ]
}