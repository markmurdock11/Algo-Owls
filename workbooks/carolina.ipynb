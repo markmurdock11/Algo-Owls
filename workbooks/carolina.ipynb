{
 "metadata": {
  "language_info": {
   "codemirror_mode": {
    "name": "ipython",
    "version": 3
   },
   "file_extension": ".py",
   "mimetype": "text/x-python",
   "name": "python",
   "nbconvert_exporter": "python",
   "pygments_lexer": "ipython3",
   "version": "3.7.7-final"
  },
  "orig_nbformat": 2,
  "kernelspec": {
   "name": "python3",
   "display_name": "Python 3.7.7 64-bit ('p2env': conda)",
   "metadata": {
    "interpreter": {
     "hash": "c43195f3d0b10cc1add35a5bf0e17b8d3e21a526783a3947880a3e762f0d2480"
    }
   }
  }
 },
 "nbformat": 4,
 "nbformat_minor": 2,
 "cells": [
  {
   "cell_type": "code",
   "execution_count": 1,
   "metadata": {},
   "outputs": [],
   "source": [
    "# Initial imports\n",
    "import os\n",
    "import requests\n",
    "import pandas as pd\n",
    "from dotenv import load_dotenv\n",
    "import alpaca_trade_api as tradeapi\n",
    "import numpy as np"
   ]
  },
  {
   "cell_type": "code",
   "execution_count": 2,
   "metadata": {},
   "outputs": [],
   "source": [
    "#Import libraries and dependencies\n",
    "\n",
    "import numpy as np\n",
    "import pandas as pd\n",
    "from pathlib import Path"
   ]
  },
  {
   "source": [
    "Read CSV into pandas dataframe"
   ],
   "cell_type": "markdown",
   "metadata": {}
  },
  {
   "cell_type": "code",
   "execution_count": 3,
   "metadata": {},
   "outputs": [
    {
     "output_type": "execute_result",
     "data": {
      "text/plain": [
       "True"
      ]
     },
     "metadata": {},
     "execution_count": 3
    }
   ],
   "source": [
    "# Load env data\n",
    "load_dotenv()\n"
   ]
  },
  {
   "cell_type": "code",
   "execution_count": 4,
   "metadata": {},
   "outputs": [],
   "source": [
    "# Assign Alpaca keys to variables\n",
    "alpaca_api_key = os.getenv(\"ALPACA_API_KEY\")\n",
    "alpaca_secret_key = os.getenv(\"ALPACA_SECRET_KEY\")\n"
   ]
  },
  {
   "cell_type": "code",
   "execution_count": 5,
   "metadata": {},
   "outputs": [],
   "source": [
    "# Initialize Alpaca connection\n",
    "alpaca = tradeapi.REST(\n",
    "    alpaca_api_key,\n",
    "    alpaca_secret_key,\n",
    "    api_version='v2'\n",
    ")\n"
   ]
  },
  {
   "cell_type": "code",
   "execution_count": 6,
   "metadata": {},
   "outputs": [],
   "source": [
    "# Set start and end dates for\n",
    "start_date = pd.Timestamp('2020-01-01', tz='America/New_York').isoformat()\n",
    "end_date = pd.Timestamp('2020-12-31', tz='America/New_York').isoformat()\n"
   ]
  },
  {
   "cell_type": "code",
   "execution_count": 7,
   "metadata": {},
   "outputs": [],
   "source": [
    "# Set file path:\n",
    "\n",
    "#filepath = Path(\"../Resources/JPM.csv\")"
   ]
  },
  {
   "cell_type": "code",
   "execution_count": 8,
   "metadata": {},
   "outputs": [],
   "source": [
    "# Assign default ticker symbol\n",
    "ticker_string = 'JPM'\n",
    "ticker = [ticker_string]\n"
   ]
  },
  {
   "cell_type": "code",
   "execution_count": 9,
   "metadata": {},
   "outputs": [],
   "source": [
    "# Assign default time frame\n",
    "timeframe = '15Min'"
   ]
  },
  {
   "cell_type": "code",
   "execution_count": 10,
   "metadata": {},
   "outputs": [],
   "source": [
    "# Get ticker historical data\n",
    "df_ohlc_original = alpaca.get_barset(\n",
    "    ticker,\n",
    "    timeframe,\n",
    "    start=start_date,\n",
    "    end=end_date\n",
    ").df\n"
   ]
  },
  {
   "cell_type": "code",
   "execution_count": 11,
   "metadata": {},
   "outputs": [
    {
     "output_type": "execute_result",
     "data": {
      "text/plain": [
       "                              open    high     low    close  volume\n",
       "time                                                               \n",
       "2020-01-02 09:30:00-05:00  140.070  140.14  139.52  139.670   29953\n",
       "2020-01-02 09:45:00-05:00  139.675  139.91  139.44  139.670   24343\n",
       "2020-01-02 10:00:00-05:00  139.635  139.81  139.52  139.640   19021\n",
       "2020-01-02 10:15:00-05:00  139.600  139.60  139.34  139.400   18856\n",
       "2020-01-02 10:30:00-05:00  139.460  139.54  139.28  139.535   19695"
      ],
      "text/html": "<div>\n<style scoped>\n    .dataframe tbody tr th:only-of-type {\n        vertical-align: middle;\n    }\n\n    .dataframe tbody tr th {\n        vertical-align: top;\n    }\n\n    .dataframe thead th {\n        text-align: right;\n    }\n</style>\n<table border=\"1\" class=\"dataframe\">\n  <thead>\n    <tr style=\"text-align: right;\">\n      <th></th>\n      <th>open</th>\n      <th>high</th>\n      <th>low</th>\n      <th>close</th>\n      <th>volume</th>\n    </tr>\n    <tr>\n      <th>time</th>\n      <th></th>\n      <th></th>\n      <th></th>\n      <th></th>\n      <th></th>\n    </tr>\n  </thead>\n  <tbody>\n    <tr>\n      <th>2020-01-02 09:30:00-05:00</th>\n      <td>140.070</td>\n      <td>140.14</td>\n      <td>139.52</td>\n      <td>139.670</td>\n      <td>29953</td>\n    </tr>\n    <tr>\n      <th>2020-01-02 09:45:00-05:00</th>\n      <td>139.675</td>\n      <td>139.91</td>\n      <td>139.44</td>\n      <td>139.670</td>\n      <td>24343</td>\n    </tr>\n    <tr>\n      <th>2020-01-02 10:00:00-05:00</th>\n      <td>139.635</td>\n      <td>139.81</td>\n      <td>139.52</td>\n      <td>139.640</td>\n      <td>19021</td>\n    </tr>\n    <tr>\n      <th>2020-01-02 10:15:00-05:00</th>\n      <td>139.600</td>\n      <td>139.60</td>\n      <td>139.34</td>\n      <td>139.400</td>\n      <td>18856</td>\n    </tr>\n    <tr>\n      <th>2020-01-02 10:30:00-05:00</th>\n      <td>139.460</td>\n      <td>139.54</td>\n      <td>139.28</td>\n      <td>139.535</td>\n      <td>19695</td>\n    </tr>\n  </tbody>\n</table>\n</div>"
     },
     "metadata": {},
     "execution_count": 11
    }
   ],
   "source": [
    "# Copy of original data\n",
    "df_ohlc = df_ohlc_original\n",
    "\n",
    "# Verify data in dataframe\n",
    "df_ohlc = df_ohlc[ticker_string]\n",
    "df_ohlc.head()\n"
   ]
  },
  {
   "cell_type": "code",
   "execution_count": 12,
   "metadata": {},
   "outputs": [],
   "source": [
    "#jpm_df = pd.read_csv(filepath, parse_dates=True, infer_datetime_format=True)\n",
    "\n",
    "#jpm_df.head()"
   ]
  },
  {
   "cell_type": "code",
   "execution_count": 13,
   "metadata": {},
   "outputs": [],
   "source": [
    "#jpm_df.rename(columns={\"Unnamed: 0\": 'date'}, inplace=True)"
   ]
  },
  {
   "cell_type": "code",
   "execution_count": 14,
   "metadata": {},
   "outputs": [],
   "source": [
    "#jpm_df.set_index(\"date\",inplace =True)"
   ]
  },
  {
   "cell_type": "code",
   "execution_count": 15,
   "metadata": {},
   "outputs": [],
   "source": [
    "#jpm_df.head()"
   ]
  },
  {
   "cell_type": "code",
   "execution_count": 16,
   "metadata": {},
   "outputs": [],
   "source": [
    "\"\"\"\n",
    "p_length = 20\n",
    "\n",
    "def truehigh(h,yh):\n",
    "    if yh >= h :\n",
    "        truehigh_val= yh\n",
    "    else:\n",
    "        truehigh_val = h\n",
    "    \n",
    "    return truehigh_val\n",
    "\n",
    "\n",
    "\n",
    "#df_ohlc['trueHigh'] = np.where(((df_ohlc['high'] > df_ohlc['truehigh'].shift(1))),df_ohlc['high'],df_ohlc['truehigh'])\n",
    "\"\"\"\n"
   ]
  },
  {
   "cell_type": "code",
   "execution_count": 18,
   "metadata": {},
   "outputs": [
    {
     "output_type": "execute_result",
     "data": {
      "text/plain": [
       "                              open    high     low    close  volume\n",
       "time                                                               \n",
       "2020-01-02 09:30:00-05:00  140.070  140.14  139.52  139.670   29953\n",
       "2020-01-02 09:45:00-05:00  139.675  139.91  139.44  139.670   24343\n",
       "2020-01-02 10:00:00-05:00  139.635  139.81  139.52  139.640   19021\n",
       "2020-01-02 10:15:00-05:00  139.600  139.60  139.34  139.400   18856\n",
       "2020-01-02 10:30:00-05:00  139.460  139.54  139.28  139.535   19695"
      ],
      "text/html": "<div>\n<style scoped>\n    .dataframe tbody tr th:only-of-type {\n        vertical-align: middle;\n    }\n\n    .dataframe tbody tr th {\n        vertical-align: top;\n    }\n\n    .dataframe thead th {\n        text-align: right;\n    }\n</style>\n<table border=\"1\" class=\"dataframe\">\n  <thead>\n    <tr style=\"text-align: right;\">\n      <th></th>\n      <th>open</th>\n      <th>high</th>\n      <th>low</th>\n      <th>close</th>\n      <th>volume</th>\n    </tr>\n    <tr>\n      <th>time</th>\n      <th></th>\n      <th></th>\n      <th></th>\n      <th></th>\n      <th></th>\n    </tr>\n  </thead>\n  <tbody>\n    <tr>\n      <th>2020-01-02 09:30:00-05:00</th>\n      <td>140.070</td>\n      <td>140.14</td>\n      <td>139.52</td>\n      <td>139.670</td>\n      <td>29953</td>\n    </tr>\n    <tr>\n      <th>2020-01-02 09:45:00-05:00</th>\n      <td>139.675</td>\n      <td>139.91</td>\n      <td>139.44</td>\n      <td>139.670</td>\n      <td>24343</td>\n    </tr>\n    <tr>\n      <th>2020-01-02 10:00:00-05:00</th>\n      <td>139.635</td>\n      <td>139.81</td>\n      <td>139.52</td>\n      <td>139.640</td>\n      <td>19021</td>\n    </tr>\n    <tr>\n      <th>2020-01-02 10:15:00-05:00</th>\n      <td>139.600</td>\n      <td>139.60</td>\n      <td>139.34</td>\n      <td>139.400</td>\n      <td>18856</td>\n    </tr>\n    <tr>\n      <th>2020-01-02 10:30:00-05:00</th>\n      <td>139.460</td>\n      <td>139.54</td>\n      <td>139.28</td>\n      <td>139.535</td>\n      <td>19695</td>\n    </tr>\n  </tbody>\n</table>\n</div>"
     },
     "metadata": {},
     "execution_count": 18
    }
   ],
   "source": [
    "df_ohlc.head()"
   ]
  },
  {
   "cell_type": "code",
   "execution_count": 30,
   "metadata": {},
   "outputs": [],
   "source": [
    "from stockstats import StockDataFrame as sdf\n",
    "\n",
    "stockstats_df = sdf.retype(df_ohlc)"
   ]
  },
  {
   "cell_type": "code",
   "execution_count": 21,
   "metadata": {},
   "outputs": [],
   "source": [
    "class StockDataFrame(pd.DataFrame):\n",
    "    OPERATORS = ['le', 'ge', 'lt', 'gt', 'eq', 'ne']\n",
    "\n",
    "    # Start of options.\n",
    "    KDJ_PARAM = (2.0 / 3.0, 1.0 / 3.0)\n",
    "    KDJ_WINDOW = 9\n",
    "\n",
    "    BOLL_PERIOD = 20\n",
    "    BOLL_STD_TIMES = 2\n",
    "\n",
    "    MACD_EMA_SHORT = 12\n",
    "    MACD_EMA_LONG = 26\n",
    "    MACD_EMA_SIGNAL = 9"
   ]
  },
  {
   "cell_type": "code",
   "execution_count": 25,
   "metadata": {},
   "outputs": [],
   "source": [
    "@classmethod\n",
    "def _get_macd(cls, df):\n",
    "    \"\"\" Moving Average Convergence Divergence\n",
    "    This function will initialize all following columns.\n",
    "    MACD Line (macd): (12-day EMA - 26-day EMA)\n",
    "    Signal Line (macds): 9-day EMA of MACD Line\n",
    "    MACD Histogram (macdh): MACD Line - Signal Line\n",
    "    :param df: data\n",
    "    :return: None\n",
    "    \"\"\"\n",
    "    ema_short = 'close_{}_ema'.format(cls.MACD_EMA_SHORT)\n",
    "    ema_long = 'close_{}_ema'.format(cls.MACD_EMA_LONG)\n",
    "    ema_signal = 'macd_{}_ema'.format(cls.MACD_EMA_SIGNAL)\n",
    "    fast = df[ema_short]\n",
    "    slow = df[ema_long]\n",
    "    df['macd'] = fast - slow\n",
    "    df['macds'] = df[ema_signal]\n",
    "    df['macdh'] = (df['macd'] - df['macds'])\n",
    "    log.critical(\"NOTE: Behavior of MACDH calculation has changed as of \"\n",
    "                     \"July 2017 - it is now 1/2 of previous calculated values\")\n",
    "    cls._drop_columns(df, [ema_short, ema_long, ema_signal])"
   ]
  },
  {
   "cell_type": "code",
   "execution_count": 27,
   "metadata": {},
   "outputs": [
    {
     "output_type": "error",
     "ename": "TypeError",
     "evalue": "'classmethod' object is not callable",
     "traceback": [
      "\u001b[1;31m---------------------------------------------------------------------------\u001b[0m",
      "\u001b[1;31mTypeError\u001b[0m                                 Traceback (most recent call last)",
      "\u001b[1;32m<ipython-input-27-43c1d505c748>\u001b[0m in \u001b[0;36m<module>\u001b[1;34m\u001b[0m\n\u001b[1;32m----> 1\u001b[1;33m \u001b[0m_get_macd\u001b[0m\u001b[1;33m(\u001b[0m\u001b[0mdf_ohlc\u001b[0m\u001b[1;33m)\u001b[0m\u001b[1;33m\u001b[0m\u001b[1;33m\u001b[0m\u001b[0m\n\u001b[0m",
      "\u001b[1;31mTypeError\u001b[0m: 'classmethod' object is not callable"
     ]
    }
   ],
   "source": [
    "_get_macd(df_ohlc)"
   ]
  },
  {
   "cell_type": "code",
   "execution_count": 31,
   "metadata": {},
   "outputs": [
    {
     "output_type": "stream",
     "name": "stdout",
     "text": [
      "time\n2020-01-02 09:30:00-05:00    0.000000\n2020-01-02 09:45:00-05:00    0.000000\n2020-01-02 10:00:00-05:00   -0.000381\n2020-01-02 10:15:00-05:00   -0.003638\n2020-01-02 10:30:00-05:00   -0.005334\n                               ...   \n2020-12-30 14:45:00-05:00    0.000626\n2020-12-30 15:00:00-05:00   -0.006236\n2020-12-30 15:15:00-05:00   -0.011130\n2020-12-30 15:30:00-05:00   -0.011477\n2020-12-30 15:45:00-05:00   -0.012439\nName: macds, Length: 6773, dtype: float64\n                              open    high     low    close  volume      macd  \\\ntime                                                                            \n2020-01-02 09:30:00-05:00  140.070  140.14  139.52  139.670   29953  0.000000   \n2020-01-02 09:45:00-05:00  139.675  139.91  139.44  139.670   24343  0.000000   \n2020-01-02 10:00:00-05:00  139.635  139.81  139.52  139.640   19021 -0.000930   \n2020-01-02 10:15:00-05:00  139.600  139.60  139.34  139.400   18856 -0.009996   \n2020-01-02 10:30:00-05:00  139.460  139.54  139.28  139.535   19695 -0.009339   \n...                            ...     ...     ...      ...     ...       ...   \n2020-12-30 14:45:00-05:00  125.285  125.46  125.26  125.290    7778 -0.031907   \n2020-12-30 15:00:00-05:00  125.325  125.36  125.25  125.310    5098 -0.033685   \n2020-12-30 15:15:00-05:00  125.350  125.41  125.32  125.360    3735 -0.030705   \n2020-12-30 15:30:00-05:00  125.410  125.67  125.37  125.550    7877 -0.012864   \n2020-12-30 15:45:00-05:00  125.520  125.71  125.25  125.330   34033 -0.016289   \n\n                              macds     macdh  \ntime                                           \n2020-01-02 09:30:00-05:00  0.000000  0.000000  \n2020-01-02 09:45:00-05:00  0.000000  0.000000  \n2020-01-02 10:00:00-05:00 -0.000381 -0.000549  \n2020-01-02 10:15:00-05:00 -0.003638 -0.006358  \n2020-01-02 10:30:00-05:00 -0.005334 -0.004005  \n...                             ...       ...  \n2020-12-30 14:45:00-05:00  0.000626 -0.032533  \n2020-12-30 15:00:00-05:00 -0.006236 -0.027448  \n2020-12-30 15:15:00-05:00 -0.011130 -0.019575  \n2020-12-30 15:30:00-05:00 -0.011477 -0.001387  \n2020-12-30 15:45:00-05:00 -0.012439 -0.003850  \n\n[6773 rows x 8 columns]\n"
     ]
    }
   ],
   "source": [
    "\n",
    "\n",
    "stock = sdf.retype(df_ohlc)\n",
    "print(stock['macds'])\n",
    "\n",
    "print(stock)"
   ]
  },
  {
   "cell_type": "code",
   "execution_count": 32,
   "metadata": {},
   "outputs": [
    {
     "output_type": "stream",
     "name": "stdout",
     "text": [
      "time\n2020-01-02 09:30:00-05:00         NaN\n2020-01-02 09:45:00-05:00    0.470000\n2020-01-02 10:00:00-05:00    0.376667\n2020-01-02 10:15:00-05:00    0.349196\n2020-01-02 10:30:00-05:00    0.324360\n                               ...   \n2020-12-30 14:45:00-05:00    0.219264\n2020-12-30 15:00:00-05:00    0.211460\n2020-12-30 15:15:00-05:00    0.203498\n2020-12-30 15:30:00-05:00    0.211106\n2020-12-30 15:45:00-05:00    0.228884\nName: atr, Length: 6773, dtype: float64\n                              open    high     low    close  volume      macd  \\\ntime                                                                            \n2020-01-02 09:30:00-05:00  140.070  140.14  139.52  139.670   29953  0.000000   \n2020-01-02 09:45:00-05:00  139.675  139.91  139.44  139.670   24343  0.000000   \n2020-01-02 10:00:00-05:00  139.635  139.81  139.52  139.640   19021 -0.000930   \n2020-01-02 10:15:00-05:00  139.600  139.60  139.34  139.400   18856 -0.009996   \n2020-01-02 10:30:00-05:00  139.460  139.54  139.28  139.535   19695 -0.009339   \n...                            ...     ...     ...      ...     ...       ...   \n2020-12-30 14:45:00-05:00  125.285  125.46  125.26  125.290    7778 -0.031907   \n2020-12-30 15:00:00-05:00  125.325  125.36  125.25  125.310    5098 -0.033685   \n2020-12-30 15:15:00-05:00  125.350  125.41  125.32  125.360    3735 -0.030705   \n2020-12-30 15:30:00-05:00  125.410  125.67  125.37  125.550    7877 -0.012864   \n2020-12-30 15:45:00-05:00  125.520  125.71  125.25  125.330   34033 -0.016289   \n\n                              macds     macdh  close_-1_s    tr       atr  \ntime                                                                       \n2020-01-02 09:30:00-05:00  0.000000  0.000000         NaN   NaN       NaN  \n2020-01-02 09:45:00-05:00  0.000000  0.000000      139.67  0.47  0.470000  \n2020-01-02 10:00:00-05:00 -0.000381 -0.000549      139.67  0.29  0.376667  \n2020-01-02 10:15:00-05:00 -0.003638 -0.006358      139.64  0.30  0.349196  \n2020-01-02 10:30:00-05:00 -0.005334 -0.004005      139.40  0.26  0.324360  \n...                             ...       ...         ...   ...       ...  \n2020-12-30 14:45:00-05:00  0.000626 -0.032533      125.26  0.20  0.219264  \n2020-12-30 15:00:00-05:00 -0.006236 -0.027448      125.29  0.11  0.211460  \n2020-12-30 15:15:00-05:00 -0.011130 -0.019575      125.31  0.10  0.203498  \n2020-12-30 15:30:00-05:00 -0.011477 -0.001387      125.36  0.31  0.211106  \n2020-12-30 15:45:00-05:00 -0.012439 -0.003850      125.55  0.46  0.228884  \n\n[6773 rows x 11 columns]\n"
     ]
    }
   ],
   "source": [
    "print(stock['atr'])\n",
    "print(stock)"
   ]
  },
  {
   "cell_type": "code",
   "execution_count": 33,
   "metadata": {},
   "outputs": [
    {
     "output_type": "stream",
     "name": "stdout",
     "text": [
      "time\n2020-01-02 09:30:00-05:00         NaN\n2020-01-02 09:45:00-05:00    0.470000\n2020-01-02 10:00:00-05:00    0.376667\n2020-01-02 10:15:00-05:00    0.349196\n2020-01-02 10:30:00-05:00    0.324360\n                               ...   \n2020-12-30 14:45:00-05:00    0.219264\n2020-12-30 15:00:00-05:00    0.211460\n2020-12-30 15:15:00-05:00    0.203498\n2020-12-30 15:30:00-05:00    0.211106\n2020-12-30 15:45:00-05:00    0.228884\nName: atr, Length: 6773, dtype: float64\n"
     ]
    }
   ],
   "source": [
    "print(stock['atr'])"
   ]
  },
  {
   "cell_type": "code",
   "execution_count": 34,
   "metadata": {},
   "outputs": [
    {
     "output_type": "execute_result",
     "data": {
      "text/plain": [
       "time\n",
       "2020-01-02 09:30:00-05:00         NaN\n",
       "2020-01-02 09:45:00-05:00    0.470000\n",
       "2020-01-02 10:00:00-05:00    0.376667\n",
       "2020-01-02 10:15:00-05:00    0.349196\n",
       "2020-01-02 10:30:00-05:00    0.324360\n",
       "                               ...   \n",
       "2020-12-30 14:45:00-05:00    0.219264\n",
       "2020-12-30 15:00:00-05:00    0.211460\n",
       "2020-12-30 15:15:00-05:00    0.203498\n",
       "2020-12-30 15:30:00-05:00    0.211106\n",
       "2020-12-30 15:45:00-05:00    0.228884\n",
       "Name: atr, Length: 6773, dtype: float64"
      ]
     },
     "metadata": {},
     "execution_count": 34
    }
   ],
   "source": [
    "stock['atr']"
   ]
  },
  {
   "cell_type": "code",
   "execution_count": 36,
   "metadata": {},
   "outputs": [],
   "source": [
    "atr_column = pd.DataFrame(stock['atr'])"
   ]
  },
  {
   "cell_type": "code",
   "execution_count": 37,
   "metadata": {},
   "outputs": [
    {
     "output_type": "execute_result",
     "data": {
      "text/plain": [
       "                                atr\n",
       "time                               \n",
       "2020-01-02 09:30:00-05:00       NaN\n",
       "2020-01-02 09:45:00-05:00  0.470000\n",
       "2020-01-02 10:00:00-05:00  0.376667\n",
       "2020-01-02 10:15:00-05:00  0.349196\n",
       "2020-01-02 10:30:00-05:00  0.324360"
      ],
      "text/html": "<div>\n<style scoped>\n    .dataframe tbody tr th:only-of-type {\n        vertical-align: middle;\n    }\n\n    .dataframe tbody tr th {\n        vertical-align: top;\n    }\n\n    .dataframe thead th {\n        text-align: right;\n    }\n</style>\n<table border=\"1\" class=\"dataframe\">\n  <thead>\n    <tr style=\"text-align: right;\">\n      <th></th>\n      <th>atr</th>\n    </tr>\n    <tr>\n      <th>time</th>\n      <th></th>\n    </tr>\n  </thead>\n  <tbody>\n    <tr>\n      <th>2020-01-02 09:30:00-05:00</th>\n      <td>NaN</td>\n    </tr>\n    <tr>\n      <th>2020-01-02 09:45:00-05:00</th>\n      <td>0.470000</td>\n    </tr>\n    <tr>\n      <th>2020-01-02 10:00:00-05:00</th>\n      <td>0.376667</td>\n    </tr>\n    <tr>\n      <th>2020-01-02 10:15:00-05:00</th>\n      <td>0.349196</td>\n    </tr>\n    <tr>\n      <th>2020-01-02 10:30:00-05:00</th>\n      <td>0.324360</td>\n    </tr>\n  </tbody>\n</table>\n</div>"
     },
     "metadata": {},
     "execution_count": 37
    }
   ],
   "source": [
    "atr_column.head()"
   ]
  },
  {
   "cell_type": "code",
   "execution_count": 38,
   "metadata": {},
   "outputs": [],
   "source": [
    "df_final = df_ohlc.join(atr_column)"
   ]
  },
  {
   "cell_type": "code",
   "execution_count": 39,
   "metadata": {},
   "outputs": [
    {
     "output_type": "execute_result",
     "data": {
      "text/plain": [
       "                              open    high     low    close  volume  \\\n",
       "time                                                                  \n",
       "2020-01-02 09:30:00-05:00  140.070  140.14  139.52  139.670   29953   \n",
       "2020-01-02 09:45:00-05:00  139.675  139.91  139.44  139.670   24343   \n",
       "2020-01-02 10:00:00-05:00  139.635  139.81  139.52  139.640   19021   \n",
       "2020-01-02 10:15:00-05:00  139.600  139.60  139.34  139.400   18856   \n",
       "2020-01-02 10:30:00-05:00  139.460  139.54  139.28  139.535   19695   \n",
       "\n",
       "                           close_12_ema  close_26_ema      macd  macd_9_ema  \\\n",
       "time                                                                          \n",
       "2020-01-02 09:30:00-05:00    139.670000    139.670000  0.000000    0.000000   \n",
       "2020-01-02 09:45:00-05:00    139.670000    139.670000  0.000000    0.000000   \n",
       "2020-01-02 10:00:00-05:00    139.658291    139.659221 -0.000930   -0.000381   \n",
       "2020-01-02 10:15:00-05:00    139.576759    139.586754 -0.009996   -0.003638   \n",
       "2020-01-02 10:30:00-05:00    139.565413    139.574752 -0.009339   -0.005334   \n",
       "\n",
       "                              macds     macdh       atr  \n",
       "time                                                     \n",
       "2020-01-02 09:30:00-05:00  0.000000  0.000000       NaN  \n",
       "2020-01-02 09:45:00-05:00  0.000000  0.000000  0.470000  \n",
       "2020-01-02 10:00:00-05:00 -0.000381 -0.000549  0.376667  \n",
       "2020-01-02 10:15:00-05:00 -0.003638 -0.006358  0.349196  \n",
       "2020-01-02 10:30:00-05:00 -0.005334 -0.004005  0.324360  "
      ],
      "text/html": "<div>\n<style scoped>\n    .dataframe tbody tr th:only-of-type {\n        vertical-align: middle;\n    }\n\n    .dataframe tbody tr th {\n        vertical-align: top;\n    }\n\n    .dataframe thead th {\n        text-align: right;\n    }\n</style>\n<table border=\"1\" class=\"dataframe\">\n  <thead>\n    <tr style=\"text-align: right;\">\n      <th></th>\n      <th>open</th>\n      <th>high</th>\n      <th>low</th>\n      <th>close</th>\n      <th>volume</th>\n      <th>close_12_ema</th>\n      <th>close_26_ema</th>\n      <th>macd</th>\n      <th>macd_9_ema</th>\n      <th>macds</th>\n      <th>macdh</th>\n      <th>atr</th>\n    </tr>\n    <tr>\n      <th>time</th>\n      <th></th>\n      <th></th>\n      <th></th>\n      <th></th>\n      <th></th>\n      <th></th>\n      <th></th>\n      <th></th>\n      <th></th>\n      <th></th>\n      <th></th>\n      <th></th>\n    </tr>\n  </thead>\n  <tbody>\n    <tr>\n      <th>2020-01-02 09:30:00-05:00</th>\n      <td>140.070</td>\n      <td>140.14</td>\n      <td>139.52</td>\n      <td>139.670</td>\n      <td>29953</td>\n      <td>139.670000</td>\n      <td>139.670000</td>\n      <td>0.000000</td>\n      <td>0.000000</td>\n      <td>0.000000</td>\n      <td>0.000000</td>\n      <td>NaN</td>\n    </tr>\n    <tr>\n      <th>2020-01-02 09:45:00-05:00</th>\n      <td>139.675</td>\n      <td>139.91</td>\n      <td>139.44</td>\n      <td>139.670</td>\n      <td>24343</td>\n      <td>139.670000</td>\n      <td>139.670000</td>\n      <td>0.000000</td>\n      <td>0.000000</td>\n      <td>0.000000</td>\n      <td>0.000000</td>\n      <td>0.470000</td>\n    </tr>\n    <tr>\n      <th>2020-01-02 10:00:00-05:00</th>\n      <td>139.635</td>\n      <td>139.81</td>\n      <td>139.52</td>\n      <td>139.640</td>\n      <td>19021</td>\n      <td>139.658291</td>\n      <td>139.659221</td>\n      <td>-0.000930</td>\n      <td>-0.000381</td>\n      <td>-0.000381</td>\n      <td>-0.000549</td>\n      <td>0.376667</td>\n    </tr>\n    <tr>\n      <th>2020-01-02 10:15:00-05:00</th>\n      <td>139.600</td>\n      <td>139.60</td>\n      <td>139.34</td>\n      <td>139.400</td>\n      <td>18856</td>\n      <td>139.576759</td>\n      <td>139.586754</td>\n      <td>-0.009996</td>\n      <td>-0.003638</td>\n      <td>-0.003638</td>\n      <td>-0.006358</td>\n      <td>0.349196</td>\n    </tr>\n    <tr>\n      <th>2020-01-02 10:30:00-05:00</th>\n      <td>139.460</td>\n      <td>139.54</td>\n      <td>139.28</td>\n      <td>139.535</td>\n      <td>19695</td>\n      <td>139.565413</td>\n      <td>139.574752</td>\n      <td>-0.009339</td>\n      <td>-0.005334</td>\n      <td>-0.005334</td>\n      <td>-0.004005</td>\n      <td>0.324360</td>\n    </tr>\n  </tbody>\n</table>\n</div>"
     },
     "metadata": {},
     "execution_count": 39
    }
   ],
   "source": [
    "df_final.head()"
   ]
  },
  {
   "cell_type": "code",
   "execution_count": 45,
   "metadata": {},
   "outputs": [
    {
     "output_type": "execute_result",
     "data": {
      "text/plain": [
       "                              open    high     low   close  volume  \\\n",
       "time                                                                 \n",
       "2020-12-30 14:45:00-05:00  125.285  125.46  125.26  125.29    7778   \n",
       "2020-12-30 15:00:00-05:00  125.325  125.36  125.25  125.31    5098   \n",
       "2020-12-30 15:15:00-05:00  125.350  125.41  125.32  125.36    3735   \n",
       "2020-12-30 15:30:00-05:00  125.410  125.67  125.37  125.55    7877   \n",
       "2020-12-30 15:45:00-05:00  125.520  125.71  125.25  125.33   34033   \n",
       "\n",
       "                           close_12_ema  close_26_ema      macd  macd_9_ema  \\\n",
       "time                                                                          \n",
       "2020-12-30 14:45:00-05:00    125.361912    125.393819 -0.031907    0.000626   \n",
       "2020-12-30 15:00:00-05:00    125.353925    125.387610 -0.033685   -0.006236   \n",
       "2020-12-30 15:15:00-05:00    125.354860    125.385565 -0.030705   -0.011130   \n",
       "2020-12-30 15:30:00-05:00    125.384881    125.397745 -0.012864   -0.011477   \n",
       "2020-12-30 15:45:00-05:00    125.376438    125.392727 -0.016289   -0.012439   \n",
       "\n",
       "                              macds     macdh       atr     kcmid        kcup  \\\n",
       "time                                                                            \n",
       "2020-12-30 14:45:00-05:00  0.000626 -0.032533  0.219264  125.4420  125.661264   \n",
       "2020-12-30 15:00:00-05:00 -0.006236 -0.027448  0.211460  125.4565  125.667960   \n",
       "2020-12-30 15:15:00-05:00 -0.011130 -0.019575  0.203498  125.4590  125.662498   \n",
       "2020-12-30 15:30:00-05:00 -0.011477 -0.001387  0.211106  125.4520  125.663106   \n",
       "2020-12-30 15:45:00-05:00 -0.012439 -0.003850  0.228884  125.4390  125.667884   \n",
       "\n",
       "                                 kclo  \n",
       "time                                   \n",
       "2020-12-30 14:45:00-05:00  125.222736  \n",
       "2020-12-30 15:00:00-05:00  125.245040  \n",
       "2020-12-30 15:15:00-05:00  125.255502  \n",
       "2020-12-30 15:30:00-05:00  125.240894  \n",
       "2020-12-30 15:45:00-05:00  125.210116  "
      ],
      "text/html": "<div>\n<style scoped>\n    .dataframe tbody tr th:only-of-type {\n        vertical-align: middle;\n    }\n\n    .dataframe tbody tr th {\n        vertical-align: top;\n    }\n\n    .dataframe thead th {\n        text-align: right;\n    }\n</style>\n<table border=\"1\" class=\"dataframe\">\n  <thead>\n    <tr style=\"text-align: right;\">\n      <th></th>\n      <th>open</th>\n      <th>high</th>\n      <th>low</th>\n      <th>close</th>\n      <th>volume</th>\n      <th>close_12_ema</th>\n      <th>close_26_ema</th>\n      <th>macd</th>\n      <th>macd_9_ema</th>\n      <th>macds</th>\n      <th>macdh</th>\n      <th>atr</th>\n      <th>kcmid</th>\n      <th>kcup</th>\n      <th>kclo</th>\n    </tr>\n    <tr>\n      <th>time</th>\n      <th></th>\n      <th></th>\n      <th></th>\n      <th></th>\n      <th></th>\n      <th></th>\n      <th></th>\n      <th></th>\n      <th></th>\n      <th></th>\n      <th></th>\n      <th></th>\n      <th></th>\n      <th></th>\n      <th></th>\n    </tr>\n  </thead>\n  <tbody>\n    <tr>\n      <th>2020-12-30 14:45:00-05:00</th>\n      <td>125.285</td>\n      <td>125.46</td>\n      <td>125.26</td>\n      <td>125.29</td>\n      <td>7778</td>\n      <td>125.361912</td>\n      <td>125.393819</td>\n      <td>-0.031907</td>\n      <td>0.000626</td>\n      <td>0.000626</td>\n      <td>-0.032533</td>\n      <td>0.219264</td>\n      <td>125.4420</td>\n      <td>125.661264</td>\n      <td>125.222736</td>\n    </tr>\n    <tr>\n      <th>2020-12-30 15:00:00-05:00</th>\n      <td>125.325</td>\n      <td>125.36</td>\n      <td>125.25</td>\n      <td>125.31</td>\n      <td>5098</td>\n      <td>125.353925</td>\n      <td>125.387610</td>\n      <td>-0.033685</td>\n      <td>-0.006236</td>\n      <td>-0.006236</td>\n      <td>-0.027448</td>\n      <td>0.211460</td>\n      <td>125.4565</td>\n      <td>125.667960</td>\n      <td>125.245040</td>\n    </tr>\n    <tr>\n      <th>2020-12-30 15:15:00-05:00</th>\n      <td>125.350</td>\n      <td>125.41</td>\n      <td>125.32</td>\n      <td>125.36</td>\n      <td>3735</td>\n      <td>125.354860</td>\n      <td>125.385565</td>\n      <td>-0.030705</td>\n      <td>-0.011130</td>\n      <td>-0.011130</td>\n      <td>-0.019575</td>\n      <td>0.203498</td>\n      <td>125.4590</td>\n      <td>125.662498</td>\n      <td>125.255502</td>\n    </tr>\n    <tr>\n      <th>2020-12-30 15:30:00-05:00</th>\n      <td>125.410</td>\n      <td>125.67</td>\n      <td>125.37</td>\n      <td>125.55</td>\n      <td>7877</td>\n      <td>125.384881</td>\n      <td>125.397745</td>\n      <td>-0.012864</td>\n      <td>-0.011477</td>\n      <td>-0.011477</td>\n      <td>-0.001387</td>\n      <td>0.211106</td>\n      <td>125.4520</td>\n      <td>125.663106</td>\n      <td>125.240894</td>\n    </tr>\n    <tr>\n      <th>2020-12-30 15:45:00-05:00</th>\n      <td>125.520</td>\n      <td>125.71</td>\n      <td>125.25</td>\n      <td>125.33</td>\n      <td>34033</td>\n      <td>125.376438</td>\n      <td>125.392727</td>\n      <td>-0.016289</td>\n      <td>-0.012439</td>\n      <td>-0.012439</td>\n      <td>-0.003850</td>\n      <td>0.228884</td>\n      <td>125.4390</td>\n      <td>125.667884</td>\n      <td>125.210116</td>\n    </tr>\n  </tbody>\n</table>\n</div>"
     },
     "metadata": {},
     "execution_count": 45
    }
   ],
   "source": [
    "p_length = 20\n",
    "df_final['kcmid'] = df_final['close'].rolling(window=p_length).mean()\n",
    "df_final['kcup'] = df_final['kcmid']+df_final['atr']\n",
    "df_final['kclo'] = df_final['kcmid']-df_final['atr']\n",
    "df_final.tail()"
   ]
  },
  {
   "cell_type": "code",
   "execution_count": 46,
   "metadata": {},
   "outputs": [
    {
     "output_type": "execute_result",
     "data": {
      "text/plain": [
       "                              open    high     low   close  volume       atr  \\\n",
       "time                                                                           \n",
       "2020-12-30 14:45:00-05:00  125.285  125.46  125.26  125.29    7778  0.219264   \n",
       "2020-12-30 15:00:00-05:00  125.325  125.36  125.25  125.31    5098  0.211460   \n",
       "2020-12-30 15:15:00-05:00  125.350  125.41  125.32  125.36    3735  0.203498   \n",
       "2020-12-30 15:30:00-05:00  125.410  125.67  125.37  125.55    7877  0.211106   \n",
       "2020-12-30 15:45:00-05:00  125.520  125.71  125.25  125.33   34033  0.228884   \n",
       "\n",
       "                                 kcup        kclo  \n",
       "time                                               \n",
       "2020-12-30 14:45:00-05:00  125.661264  125.222736  \n",
       "2020-12-30 15:00:00-05:00  125.667960  125.245040  \n",
       "2020-12-30 15:15:00-05:00  125.662498  125.255502  \n",
       "2020-12-30 15:30:00-05:00  125.663106  125.240894  \n",
       "2020-12-30 15:45:00-05:00  125.667884  125.210116  "
      ],
      "text/html": "<div>\n<style scoped>\n    .dataframe tbody tr th:only-of-type {\n        vertical-align: middle;\n    }\n\n    .dataframe tbody tr th {\n        vertical-align: top;\n    }\n\n    .dataframe thead th {\n        text-align: right;\n    }\n</style>\n<table border=\"1\" class=\"dataframe\">\n  <thead>\n    <tr style=\"text-align: right;\">\n      <th></th>\n      <th>open</th>\n      <th>high</th>\n      <th>low</th>\n      <th>close</th>\n      <th>volume</th>\n      <th>atr</th>\n      <th>kcup</th>\n      <th>kclo</th>\n    </tr>\n    <tr>\n      <th>time</th>\n      <th></th>\n      <th></th>\n      <th></th>\n      <th></th>\n      <th></th>\n      <th></th>\n      <th></th>\n      <th></th>\n    </tr>\n  </thead>\n  <tbody>\n    <tr>\n      <th>2020-12-30 14:45:00-05:00</th>\n      <td>125.285</td>\n      <td>125.46</td>\n      <td>125.26</td>\n      <td>125.29</td>\n      <td>7778</td>\n      <td>0.219264</td>\n      <td>125.661264</td>\n      <td>125.222736</td>\n    </tr>\n    <tr>\n      <th>2020-12-30 15:00:00-05:00</th>\n      <td>125.325</td>\n      <td>125.36</td>\n      <td>125.25</td>\n      <td>125.31</td>\n      <td>5098</td>\n      <td>0.211460</td>\n      <td>125.667960</td>\n      <td>125.245040</td>\n    </tr>\n    <tr>\n      <th>2020-12-30 15:15:00-05:00</th>\n      <td>125.350</td>\n      <td>125.41</td>\n      <td>125.32</td>\n      <td>125.36</td>\n      <td>3735</td>\n      <td>0.203498</td>\n      <td>125.662498</td>\n      <td>125.255502</td>\n    </tr>\n    <tr>\n      <th>2020-12-30 15:30:00-05:00</th>\n      <td>125.410</td>\n      <td>125.67</td>\n      <td>125.37</td>\n      <td>125.55</td>\n      <td>7877</td>\n      <td>0.211106</td>\n      <td>125.663106</td>\n      <td>125.240894</td>\n    </tr>\n    <tr>\n      <th>2020-12-30 15:45:00-05:00</th>\n      <td>125.520</td>\n      <td>125.71</td>\n      <td>125.25</td>\n      <td>125.33</td>\n      <td>34033</td>\n      <td>0.228884</td>\n      <td>125.667884</td>\n      <td>125.210116</td>\n    </tr>\n  </tbody>\n</table>\n</div>"
     },
     "metadata": {},
     "execution_count": 46
    }
   ],
   "source": [
    "drop_columns = ['close_12_ema','close_26_ema','macd', 'macd_9_ema', 'macds', 'macdh','kcmid']\n",
    "df_final.drop(drop_columns, inplace=True, axis=1)\n",
    "df_final.tail()"
   ]
  },
  {
   "cell_type": "code",
   "execution_count": null,
   "metadata": {},
   "outputs": [],
   "source": []
  }
 ]
}