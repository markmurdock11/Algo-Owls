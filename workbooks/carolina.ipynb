{
 "metadata": {
  "language_info": {
   "codemirror_mode": {
    "name": "ipython",
    "version": 3
   },
   "file_extension": ".py",
   "mimetype": "text/x-python",
   "name": "python",
   "nbconvert_exporter": "python",
   "pygments_lexer": "ipython3",
   "version": "3.7.7-final"
  },
  "orig_nbformat": 2,
  "kernelspec": {
   "name": "python3",
   "display_name": "Python 3.7.7 64-bit ('p2env': conda)",
   "metadata": {
    "interpreter": {
     "hash": "c43195f3d0b10cc1add35a5bf0e17b8d3e21a526783a3947880a3e762f0d2480"
    }
   }
  }
 },
 "nbformat": 4,
 "nbformat_minor": 2,
 "cells": [
  {
   "cell_type": "code",
   "execution_count": 1,
   "metadata": {},
   "outputs": [],
   "source": [
    "# Initial imports\n",
    "import os\n",
    "import requests\n",
    "import pandas as pd\n",
    "from dotenv import load_dotenv\n",
    "import alpaca_trade_api as tradeapi\n",
    "import numpy as np"
   ]
  },
  {
   "cell_type": "code",
   "execution_count": 2,
   "metadata": {},
   "outputs": [],
   "source": [
    "#Import libraries and dependencies\n",
    "\n",
    "import numpy as np\n",
    "import pandas as pd\n",
    "from pathlib import Path"
   ]
  },
  {
   "cell_type": "code",
   "execution_count": 3,
   "metadata": {},
   "outputs": [],
   "source": [
    "# Import extra libraries for ATR calculation and Keltner\n",
    "\n",
    "from stockstats import StockDataFrame as sdf"
   ]
  },
  {
   "source": [
    "Read CSV into pandas dataframe"
   ],
   "cell_type": "markdown",
   "metadata": {}
  },
  {
   "cell_type": "code",
   "execution_count": 4,
   "metadata": {},
   "outputs": [
    {
     "output_type": "execute_result",
     "data": {
      "text/plain": [
       "True"
      ]
     },
     "metadata": {},
     "execution_count": 4
    }
   ],
   "source": [
    "# Load env data\n",
    "load_dotenv()\n"
   ]
  },
  {
   "cell_type": "code",
   "execution_count": 5,
   "metadata": {},
   "outputs": [],
   "source": [
    "# Assign Alpaca keys to variables\n",
    "alpaca_api_key = os.getenv(\"ALPACA_API_KEY\")\n",
    "alpaca_secret_key = os.getenv(\"ALPACA_SECRET_KEY\")\n"
   ]
  },
  {
   "cell_type": "code",
   "execution_count": 6,
   "metadata": {},
   "outputs": [],
   "source": [
    "# Initialize Alpaca connection\n",
    "alpaca = tradeapi.REST(\n",
    "    alpaca_api_key,\n",
    "    alpaca_secret_key,\n",
    "    api_version='v2'\n",
    ")\n"
   ]
  },
  {
   "cell_type": "code",
   "execution_count": 7,
   "metadata": {},
   "outputs": [],
   "source": [
    "# Set start and end dates for\n",
    "start_date = pd.Timestamp('2020-01-01', tz='America/New_York').isoformat()\n",
    "end_date = pd.Timestamp('2020-12-31', tz='America/New_York').isoformat()\n"
   ]
  },
  {
   "cell_type": "code",
   "execution_count": 8,
   "metadata": {},
   "outputs": [],
   "source": [
    "# Set file path:\n",
    "\n",
    "#filepath = Path(\"../Resources/JPM.csv\")"
   ]
  },
  {
   "cell_type": "code",
   "execution_count": 9,
   "metadata": {},
   "outputs": [],
   "source": [
    "# Assign default ticker symbol\n",
    "ticker_string = 'JPM'\n",
    "ticker = [ticker_string]\n"
   ]
  },
  {
   "cell_type": "code",
   "execution_count": 10,
   "metadata": {},
   "outputs": [],
   "source": [
    "# Assign default time frame\n",
    "timeframe = '15Min'"
   ]
  },
  {
   "cell_type": "code",
   "execution_count": 11,
   "metadata": {},
   "outputs": [],
   "source": [
    "# Get ticker historical data\n",
    "df_ohlc_original = alpaca.get_barset(\n",
    "    ticker,\n",
    "    timeframe,\n",
    "    start=start_date,\n",
    "    end=end_date\n",
    ").df\n"
   ]
  },
  {
   "cell_type": "code",
   "execution_count": 12,
   "metadata": {},
   "outputs": [
    {
     "output_type": "execute_result",
     "data": {
      "text/plain": [
       "                              open    high     low    close  volume\n",
       "time                                                               \n",
       "2020-01-02 09:30:00-05:00  140.070  140.14  139.52  139.670   29953\n",
       "2020-01-02 09:45:00-05:00  139.675  139.91  139.44  139.670   24343\n",
       "2020-01-02 10:00:00-05:00  139.635  139.81  139.52  139.640   19021\n",
       "2020-01-02 10:15:00-05:00  139.600  139.60  139.34  139.400   18856\n",
       "2020-01-02 10:30:00-05:00  139.460  139.54  139.28  139.535   19695"
      ],
      "text/html": "<div>\n<style scoped>\n    .dataframe tbody tr th:only-of-type {\n        vertical-align: middle;\n    }\n\n    .dataframe tbody tr th {\n        vertical-align: top;\n    }\n\n    .dataframe thead th {\n        text-align: right;\n    }\n</style>\n<table border=\"1\" class=\"dataframe\">\n  <thead>\n    <tr style=\"text-align: right;\">\n      <th></th>\n      <th>open</th>\n      <th>high</th>\n      <th>low</th>\n      <th>close</th>\n      <th>volume</th>\n    </tr>\n    <tr>\n      <th>time</th>\n      <th></th>\n      <th></th>\n      <th></th>\n      <th></th>\n      <th></th>\n    </tr>\n  </thead>\n  <tbody>\n    <tr>\n      <th>2020-01-02 09:30:00-05:00</th>\n      <td>140.070</td>\n      <td>140.14</td>\n      <td>139.52</td>\n      <td>139.670</td>\n      <td>29953</td>\n    </tr>\n    <tr>\n      <th>2020-01-02 09:45:00-05:00</th>\n      <td>139.675</td>\n      <td>139.91</td>\n      <td>139.44</td>\n      <td>139.670</td>\n      <td>24343</td>\n    </tr>\n    <tr>\n      <th>2020-01-02 10:00:00-05:00</th>\n      <td>139.635</td>\n      <td>139.81</td>\n      <td>139.52</td>\n      <td>139.640</td>\n      <td>19021</td>\n    </tr>\n    <tr>\n      <th>2020-01-02 10:15:00-05:00</th>\n      <td>139.600</td>\n      <td>139.60</td>\n      <td>139.34</td>\n      <td>139.400</td>\n      <td>18856</td>\n    </tr>\n    <tr>\n      <th>2020-01-02 10:30:00-05:00</th>\n      <td>139.460</td>\n      <td>139.54</td>\n      <td>139.28</td>\n      <td>139.535</td>\n      <td>19695</td>\n    </tr>\n  </tbody>\n</table>\n</div>"
     },
     "metadata": {},
     "execution_count": 12
    }
   ],
   "source": [
    "# Copy of original data\n",
    "df_ohlc = df_ohlc_original\n",
    "\n",
    "# Verify data in dataframe\n",
    "df_ohlc = df_ohlc[ticker_string]\n",
    "df_ohlc.head()\n"
   ]
  },
  {
   "cell_type": "code",
   "execution_count": 13,
   "metadata": {},
   "outputs": [],
   "source": [
    "#jpm_df = pd.read_csv(filepath, parse_dates=True, infer_datetime_format=True)\n",
    "\n",
    "#jpm_df.head()"
   ]
  },
  {
   "cell_type": "code",
   "execution_count": 14,
   "metadata": {},
   "outputs": [],
   "source": [
    "#jpm_df.rename(columns={\"Unnamed: 0\": 'date'}, inplace=True)"
   ]
  },
  {
   "cell_type": "code",
   "execution_count": 15,
   "metadata": {},
   "outputs": [],
   "source": [
    "#jpm_df.set_index(\"date\",inplace =True)"
   ]
  },
  {
   "cell_type": "code",
   "execution_count": 16,
   "metadata": {},
   "outputs": [],
   "source": [
    "#jpm_df.head()"
   ]
  },
  {
   "cell_type": "code",
   "execution_count": 17,
   "metadata": {},
   "outputs": [
    {
     "output_type": "execute_result",
     "data": {
      "text/plain": [
       "\"\\np_length = 20\\n\\ndef truehigh(h,yh):\\n    if yh >= h :\\n        truehigh_val= yh\\n    else:\\n        truehigh_val = h\\n    \\n    return truehigh_val\\n\\n\\n\\n#df_ohlc['trueHigh'] = np.where(((df_ohlc['high'] > df_ohlc['truehigh'].shift(1))),df_ohlc['high'],df_ohlc['truehigh'])\\n\""
      ]
     },
     "metadata": {},
     "execution_count": 17
    }
   ],
   "source": [
    "\"\"\"\n",
    "p_length = 20\n",
    "\n",
    "def truehigh(h,yh):\n",
    "    if yh >= h :\n",
    "        truehigh_val= yh\n",
    "    else:\n",
    "        truehigh_val = h\n",
    "    \n",
    "    return truehigh_val\n",
    "\n",
    "\n",
    "\n",
    "#df_ohlc['trueHigh'] = np.where(((df_ohlc['high'] > df_ohlc['truehigh'].shift(1))),df_ohlc['high'],df_ohlc['truehigh'])\n",
    "\"\"\"\n"
   ]
  },
  {
   "cell_type": "code",
   "execution_count": 18,
   "metadata": {},
   "outputs": [
    {
     "output_type": "execute_result",
     "data": {
      "text/plain": [
       "                              open    high     low    close  volume\n",
       "time                                                               \n",
       "2020-01-02 09:30:00-05:00  140.070  140.14  139.52  139.670   29953\n",
       "2020-01-02 09:45:00-05:00  139.675  139.91  139.44  139.670   24343\n",
       "2020-01-02 10:00:00-05:00  139.635  139.81  139.52  139.640   19021\n",
       "2020-01-02 10:15:00-05:00  139.600  139.60  139.34  139.400   18856\n",
       "2020-01-02 10:30:00-05:00  139.460  139.54  139.28  139.535   19695"
      ],
      "text/html": "<div>\n<style scoped>\n    .dataframe tbody tr th:only-of-type {\n        vertical-align: middle;\n    }\n\n    .dataframe tbody tr th {\n        vertical-align: top;\n    }\n\n    .dataframe thead th {\n        text-align: right;\n    }\n</style>\n<table border=\"1\" class=\"dataframe\">\n  <thead>\n    <tr style=\"text-align: right;\">\n      <th></th>\n      <th>open</th>\n      <th>high</th>\n      <th>low</th>\n      <th>close</th>\n      <th>volume</th>\n    </tr>\n    <tr>\n      <th>time</th>\n      <th></th>\n      <th></th>\n      <th></th>\n      <th></th>\n      <th></th>\n    </tr>\n  </thead>\n  <tbody>\n    <tr>\n      <th>2020-01-02 09:30:00-05:00</th>\n      <td>140.070</td>\n      <td>140.14</td>\n      <td>139.52</td>\n      <td>139.670</td>\n      <td>29953</td>\n    </tr>\n    <tr>\n      <th>2020-01-02 09:45:00-05:00</th>\n      <td>139.675</td>\n      <td>139.91</td>\n      <td>139.44</td>\n      <td>139.670</td>\n      <td>24343</td>\n    </tr>\n    <tr>\n      <th>2020-01-02 10:00:00-05:00</th>\n      <td>139.635</td>\n      <td>139.81</td>\n      <td>139.52</td>\n      <td>139.640</td>\n      <td>19021</td>\n    </tr>\n    <tr>\n      <th>2020-01-02 10:15:00-05:00</th>\n      <td>139.600</td>\n      <td>139.60</td>\n      <td>139.34</td>\n      <td>139.400</td>\n      <td>18856</td>\n    </tr>\n    <tr>\n      <th>2020-01-02 10:30:00-05:00</th>\n      <td>139.460</td>\n      <td>139.54</td>\n      <td>139.28</td>\n      <td>139.535</td>\n      <td>19695</td>\n    </tr>\n  </tbody>\n</table>\n</div>"
     },
     "metadata": {},
     "execution_count": 18
    }
   ],
   "source": [
    "df_ohlc.head()"
   ]
  },
  {
   "cell_type": "code",
   "execution_count": 19,
   "metadata": {},
   "outputs": [],
   "source": [
    "#from stockstats import StockDataFrame as sdf\n",
    "\n",
    "stockstats_df = sdf.retype(df_ohlc)"
   ]
  },
  {
   "cell_type": "code",
   "execution_count": 20,
   "metadata": {},
   "outputs": [],
   "source": [
    "\n",
    "class StockDataFrame(pd.DataFrame):\n",
    "    OPERATORS = ['le', 'ge', 'lt', 'gt', 'eq', 'ne']\n",
    "\n",
    "    # Start of options.\n",
    "    KDJ_PARAM = (2.0 / 3.0, 1.0 / 3.0)\n",
    "    KDJ_WINDOW = 9\n",
    "\n",
    "    BOLL_PERIOD = 20\n",
    "    BOLL_STD_TIMES = 2\n",
    "\n",
    "    MACD_EMA_SHORT = 12\n",
    "    MACD_EMA_LONG = 26\n",
    "    MACD_EMA_SIGNAL = 9\n"
   ]
  },
  {
   "source": [
    "\n",
    "@classmethod\n",
    "def _get_macd(cls, df):\n",
    "    \n",
    "    \"\"\" \n",
    "    Moving Average Convergence Divergence\n",
    "    This function will initialize all following columns.\n",
    "    MACD Line (macd): (12-day EMA - 26-day EMA)\n",
    "    Signal Line (macds): 9-day EMA of MACD Line\n",
    "    MACD Histogram (macdh): MACD Line - Signal Line\n",
    "    :param df: data\n",
    "    :return: None\n",
    "    \"\"\"\n",
    "    \n",
    "    ema_short = 'close_{}_ema'.format(cls.MACD_EMA_SHORT)\n",
    "    ema_long = 'close_{}_ema'.format(cls.MACD_EMA_LONG)\n",
    "    ema_signal = 'macd_{}_ema'.format(cls.MACD_EMA_SIGNAL)\n",
    "    fast = df[ema_short]\n",
    "    slow = df[ema_long]\n",
    "    df['macd'] = fast - slow\n",
    "    df['macds'] = df[ema_signal]\n",
    "    df['macdh'] = (df['macd'] - df['macds'])\n",
    "    log.critical(\"NOTE: Behavior of MACDH calculation has changed as of \"\n",
    "                     \"July 2017 - it is now 1/2 of previous calculated values\")\n",
    "    cls._drop_columns(df, [ema_short, ema_long, ema_signal])\n",
    "\n",
    " "
   ],
   "cell_type": "code",
   "metadata": {},
   "execution_count": 21,
   "outputs": []
  },
  {
   "cell_type": "code",
   "execution_count": 22,
   "metadata": {},
   "outputs": [],
   "source": [
    "#_get_macd(df_ohlc)"
   ]
  },
  {
   "cell_type": "code",
   "execution_count": 23,
   "metadata": {},
   "outputs": [],
   "source": [
    "\n",
    "\n",
    "stock = sdf.retype(df_ohlc)\n",
    "#print(stock['macds'])\n",
    "\n",
    "#print(stock)"
   ]
  },
  {
   "cell_type": "code",
   "execution_count": 24,
   "metadata": {},
   "outputs": [],
   "source": [
    "#print(stock['atr'])\n",
    "#print(stock)"
   ]
  },
  {
   "cell_type": "code",
   "execution_count": 25,
   "metadata": {},
   "outputs": [],
   "source": [
    "#print(stock['atr'])"
   ]
  },
  {
   "cell_type": "code",
   "execution_count": 26,
   "metadata": {},
   "outputs": [
    {
     "output_type": "execute_result",
     "data": {
      "text/plain": [
       "time\n",
       "2020-01-02 09:30:00-05:00         NaN\n",
       "2020-01-02 09:45:00-05:00    0.470000\n",
       "2020-01-02 10:00:00-05:00    0.376667\n",
       "2020-01-02 10:15:00-05:00    0.349196\n",
       "2020-01-02 10:30:00-05:00    0.324360\n",
       "                               ...   \n",
       "2020-12-30 14:45:00-05:00    0.219264\n",
       "2020-12-30 15:00:00-05:00    0.211460\n",
       "2020-12-30 15:15:00-05:00    0.203498\n",
       "2020-12-30 15:30:00-05:00    0.211106\n",
       "2020-12-30 15:45:00-05:00    0.228884\n",
       "Name: atr, Length: 6757, dtype: float64"
      ]
     },
     "metadata": {},
     "execution_count": 26
    }
   ],
   "source": [
    "stock['atr']"
   ]
  },
  {
   "cell_type": "code",
   "execution_count": 27,
   "metadata": {},
   "outputs": [],
   "source": [
    "atr_column = pd.DataFrame(stock['atr'])"
   ]
  },
  {
   "cell_type": "code",
   "execution_count": 28,
   "metadata": {},
   "outputs": [
    {
     "output_type": "execute_result",
     "data": {
      "text/plain": [
       "                                atr\n",
       "time                               \n",
       "2020-01-02 09:30:00-05:00       NaN\n",
       "2020-01-02 09:45:00-05:00  0.470000\n",
       "2020-01-02 10:00:00-05:00  0.376667\n",
       "2020-01-02 10:15:00-05:00  0.349196\n",
       "2020-01-02 10:30:00-05:00  0.324360\n",
       "...                             ...\n",
       "2020-12-30 14:45:00-05:00  0.219264\n",
       "2020-12-30 15:00:00-05:00  0.211460\n",
       "2020-12-30 15:15:00-05:00  0.203498\n",
       "2020-12-30 15:30:00-05:00  0.211106\n",
       "2020-12-30 15:45:00-05:00  0.228884\n",
       "\n",
       "[6757 rows x 1 columns]"
      ],
      "text/html": "<div>\n<style scoped>\n    .dataframe tbody tr th:only-of-type {\n        vertical-align: middle;\n    }\n\n    .dataframe tbody tr th {\n        vertical-align: top;\n    }\n\n    .dataframe thead th {\n        text-align: right;\n    }\n</style>\n<table border=\"1\" class=\"dataframe\">\n  <thead>\n    <tr style=\"text-align: right;\">\n      <th></th>\n      <th>atr</th>\n    </tr>\n    <tr>\n      <th>time</th>\n      <th></th>\n    </tr>\n  </thead>\n  <tbody>\n    <tr>\n      <th>2020-01-02 09:30:00-05:00</th>\n      <td>NaN</td>\n    </tr>\n    <tr>\n      <th>2020-01-02 09:45:00-05:00</th>\n      <td>0.470000</td>\n    </tr>\n    <tr>\n      <th>2020-01-02 10:00:00-05:00</th>\n      <td>0.376667</td>\n    </tr>\n    <tr>\n      <th>2020-01-02 10:15:00-05:00</th>\n      <td>0.349196</td>\n    </tr>\n    <tr>\n      <th>2020-01-02 10:30:00-05:00</th>\n      <td>0.324360</td>\n    </tr>\n    <tr>\n      <th>...</th>\n      <td>...</td>\n    </tr>\n    <tr>\n      <th>2020-12-30 14:45:00-05:00</th>\n      <td>0.219264</td>\n    </tr>\n    <tr>\n      <th>2020-12-30 15:00:00-05:00</th>\n      <td>0.211460</td>\n    </tr>\n    <tr>\n      <th>2020-12-30 15:15:00-05:00</th>\n      <td>0.203498</td>\n    </tr>\n    <tr>\n      <th>2020-12-30 15:30:00-05:00</th>\n      <td>0.211106</td>\n    </tr>\n    <tr>\n      <th>2020-12-30 15:45:00-05:00</th>\n      <td>0.228884</td>\n    </tr>\n  </tbody>\n</table>\n<p>6757 rows × 1 columns</p>\n</div>"
     },
     "metadata": {},
     "execution_count": 28
    }
   ],
   "source": [
    "atr_column"
   ]
  },
  {
   "cell_type": "code",
   "execution_count": 29,
   "metadata": {},
   "outputs": [],
   "source": [
    "df_ohlc['atr'] = atr_column"
   ]
  },
  {
   "cell_type": "code",
   "execution_count": 30,
   "metadata": {},
   "outputs": [
    {
     "output_type": "execute_result",
     "data": {
      "text/plain": [
       "                              open    high     low    close  volume  \\\n",
       "time                                                                  \n",
       "2020-01-02 09:30:00-05:00  140.070  140.14  139.52  139.670   29953   \n",
       "2020-01-02 09:45:00-05:00  139.675  139.91  139.44  139.670   24343   \n",
       "2020-01-02 10:00:00-05:00  139.635  139.81  139.52  139.640   19021   \n",
       "2020-01-02 10:15:00-05:00  139.600  139.60  139.34  139.400   18856   \n",
       "2020-01-02 10:30:00-05:00  139.460  139.54  139.28  139.535   19695   \n",
       "\n",
       "                           close_-1_s    tr  tr_14_smma       atr  \n",
       "time                                                               \n",
       "2020-01-02 09:30:00-05:00         NaN   NaN         NaN       NaN  \n",
       "2020-01-02 09:45:00-05:00      139.67  0.47    0.470000  0.470000  \n",
       "2020-01-02 10:00:00-05:00      139.67  0.29    0.376667  0.376667  \n",
       "2020-01-02 10:15:00-05:00      139.64  0.30    0.349196  0.349196  \n",
       "2020-01-02 10:30:00-05:00      139.40  0.26    0.324360  0.324360  "
      ],
      "text/html": "<div>\n<style scoped>\n    .dataframe tbody tr th:only-of-type {\n        vertical-align: middle;\n    }\n\n    .dataframe tbody tr th {\n        vertical-align: top;\n    }\n\n    .dataframe thead th {\n        text-align: right;\n    }\n</style>\n<table border=\"1\" class=\"dataframe\">\n  <thead>\n    <tr style=\"text-align: right;\">\n      <th></th>\n      <th>open</th>\n      <th>high</th>\n      <th>low</th>\n      <th>close</th>\n      <th>volume</th>\n      <th>close_-1_s</th>\n      <th>tr</th>\n      <th>tr_14_smma</th>\n      <th>atr</th>\n    </tr>\n    <tr>\n      <th>time</th>\n      <th></th>\n      <th></th>\n      <th></th>\n      <th></th>\n      <th></th>\n      <th></th>\n      <th></th>\n      <th></th>\n      <th></th>\n    </tr>\n  </thead>\n  <tbody>\n    <tr>\n      <th>2020-01-02 09:30:00-05:00</th>\n      <td>140.070</td>\n      <td>140.14</td>\n      <td>139.52</td>\n      <td>139.670</td>\n      <td>29953</td>\n      <td>NaN</td>\n      <td>NaN</td>\n      <td>NaN</td>\n      <td>NaN</td>\n    </tr>\n    <tr>\n      <th>2020-01-02 09:45:00-05:00</th>\n      <td>139.675</td>\n      <td>139.91</td>\n      <td>139.44</td>\n      <td>139.670</td>\n      <td>24343</td>\n      <td>139.67</td>\n      <td>0.47</td>\n      <td>0.470000</td>\n      <td>0.470000</td>\n    </tr>\n    <tr>\n      <th>2020-01-02 10:00:00-05:00</th>\n      <td>139.635</td>\n      <td>139.81</td>\n      <td>139.52</td>\n      <td>139.640</td>\n      <td>19021</td>\n      <td>139.67</td>\n      <td>0.29</td>\n      <td>0.376667</td>\n      <td>0.376667</td>\n    </tr>\n    <tr>\n      <th>2020-01-02 10:15:00-05:00</th>\n      <td>139.600</td>\n      <td>139.60</td>\n      <td>139.34</td>\n      <td>139.400</td>\n      <td>18856</td>\n      <td>139.64</td>\n      <td>0.30</td>\n      <td>0.349196</td>\n      <td>0.349196</td>\n    </tr>\n    <tr>\n      <th>2020-01-02 10:30:00-05:00</th>\n      <td>139.460</td>\n      <td>139.54</td>\n      <td>139.28</td>\n      <td>139.535</td>\n      <td>19695</td>\n      <td>139.40</td>\n      <td>0.26</td>\n      <td>0.324360</td>\n      <td>0.324360</td>\n    </tr>\n  </tbody>\n</table>\n</div>"
     },
     "metadata": {},
     "execution_count": 30
    }
   ],
   "source": [
    "df_ohlc.head()"
   ]
  },
  {
   "cell_type": "code",
   "execution_count": 31,
   "metadata": {},
   "outputs": [],
   "source": [
    "#atr_column.head()"
   ]
  },
  {
   "cell_type": "code",
   "execution_count": 32,
   "metadata": {},
   "outputs": [],
   "source": [
    "#df_final = df_ohlc.join(atr_column)"
   ]
  },
  {
   "cell_type": "code",
   "execution_count": 33,
   "metadata": {},
   "outputs": [],
   "source": [
    "df_final = df_ohlc"
   ]
  },
  {
   "cell_type": "code",
   "execution_count": 34,
   "metadata": {},
   "outputs": [],
   "source": [
    "#df_final.head()"
   ]
  },
  {
   "cell_type": "code",
   "execution_count": 35,
   "metadata": {},
   "outputs": [
    {
     "output_type": "execute_result",
     "data": {
      "text/plain": [
       "                              open    high     low   close  volume  \\\n",
       "time                                                                 \n",
       "2020-12-30 14:45:00-05:00  125.285  125.46  125.26  125.29    7778   \n",
       "2020-12-30 15:00:00-05:00  125.325  125.36  125.25  125.31    5098   \n",
       "2020-12-30 15:15:00-05:00  125.350  125.41  125.32  125.36    3735   \n",
       "2020-12-30 15:30:00-05:00  125.410  125.67  125.37  125.55    7877   \n",
       "2020-12-30 15:45:00-05:00  125.520  125.71  125.25  125.33   34033   \n",
       "\n",
       "                           close_-1_s    tr  tr_14_smma       atr     kcmid  \\\n",
       "time                                                                          \n",
       "2020-12-30 14:45:00-05:00      125.26  0.20    0.219264  0.219264  125.4420   \n",
       "2020-12-30 15:00:00-05:00      125.29  0.11    0.211460  0.211460  125.4565   \n",
       "2020-12-30 15:15:00-05:00      125.31  0.10    0.203498  0.203498  125.4590   \n",
       "2020-12-30 15:30:00-05:00      125.36  0.31    0.211106  0.211106  125.4520   \n",
       "2020-12-30 15:45:00-05:00      125.55  0.46    0.228884  0.228884  125.4390   \n",
       "\n",
       "                                 kcup        kclo  \n",
       "time                                               \n",
       "2020-12-30 14:45:00-05:00  125.661264  125.222736  \n",
       "2020-12-30 15:00:00-05:00  125.667960  125.245040  \n",
       "2020-12-30 15:15:00-05:00  125.662498  125.255502  \n",
       "2020-12-30 15:30:00-05:00  125.663106  125.240894  \n",
       "2020-12-30 15:45:00-05:00  125.667884  125.210116  "
      ],
      "text/html": "<div>\n<style scoped>\n    .dataframe tbody tr th:only-of-type {\n        vertical-align: middle;\n    }\n\n    .dataframe tbody tr th {\n        vertical-align: top;\n    }\n\n    .dataframe thead th {\n        text-align: right;\n    }\n</style>\n<table border=\"1\" class=\"dataframe\">\n  <thead>\n    <tr style=\"text-align: right;\">\n      <th></th>\n      <th>open</th>\n      <th>high</th>\n      <th>low</th>\n      <th>close</th>\n      <th>volume</th>\n      <th>close_-1_s</th>\n      <th>tr</th>\n      <th>tr_14_smma</th>\n      <th>atr</th>\n      <th>kcmid</th>\n      <th>kcup</th>\n      <th>kclo</th>\n    </tr>\n    <tr>\n      <th>time</th>\n      <th></th>\n      <th></th>\n      <th></th>\n      <th></th>\n      <th></th>\n      <th></th>\n      <th></th>\n      <th></th>\n      <th></th>\n      <th></th>\n      <th></th>\n      <th></th>\n    </tr>\n  </thead>\n  <tbody>\n    <tr>\n      <th>2020-12-30 14:45:00-05:00</th>\n      <td>125.285</td>\n      <td>125.46</td>\n      <td>125.26</td>\n      <td>125.29</td>\n      <td>7778</td>\n      <td>125.26</td>\n      <td>0.20</td>\n      <td>0.219264</td>\n      <td>0.219264</td>\n      <td>125.4420</td>\n      <td>125.661264</td>\n      <td>125.222736</td>\n    </tr>\n    <tr>\n      <th>2020-12-30 15:00:00-05:00</th>\n      <td>125.325</td>\n      <td>125.36</td>\n      <td>125.25</td>\n      <td>125.31</td>\n      <td>5098</td>\n      <td>125.29</td>\n      <td>0.11</td>\n      <td>0.211460</td>\n      <td>0.211460</td>\n      <td>125.4565</td>\n      <td>125.667960</td>\n      <td>125.245040</td>\n    </tr>\n    <tr>\n      <th>2020-12-30 15:15:00-05:00</th>\n      <td>125.350</td>\n      <td>125.41</td>\n      <td>125.32</td>\n      <td>125.36</td>\n      <td>3735</td>\n      <td>125.31</td>\n      <td>0.10</td>\n      <td>0.203498</td>\n      <td>0.203498</td>\n      <td>125.4590</td>\n      <td>125.662498</td>\n      <td>125.255502</td>\n    </tr>\n    <tr>\n      <th>2020-12-30 15:30:00-05:00</th>\n      <td>125.410</td>\n      <td>125.67</td>\n      <td>125.37</td>\n      <td>125.55</td>\n      <td>7877</td>\n      <td>125.36</td>\n      <td>0.31</td>\n      <td>0.211106</td>\n      <td>0.211106</td>\n      <td>125.4520</td>\n      <td>125.663106</td>\n      <td>125.240894</td>\n    </tr>\n    <tr>\n      <th>2020-12-30 15:45:00-05:00</th>\n      <td>125.520</td>\n      <td>125.71</td>\n      <td>125.25</td>\n      <td>125.33</td>\n      <td>34033</td>\n      <td>125.55</td>\n      <td>0.46</td>\n      <td>0.228884</td>\n      <td>0.228884</td>\n      <td>125.4390</td>\n      <td>125.667884</td>\n      <td>125.210116</td>\n    </tr>\n  </tbody>\n</table>\n</div>"
     },
     "metadata": {},
     "execution_count": 35
    }
   ],
   "source": [
    "p_length = 20\n",
    "df_final['kcmid'] = df_final['close'].rolling(window=p_length).mean()\n",
    "df_final['kcup'] = df_final['kcmid']+df_final['atr']\n",
    "df_final['kclo'] = df_final['kcmid']-df_final['atr']\n",
    "df_final.tail()"
   ]
  },
  {
   "cell_type": "code",
   "execution_count": 36,
   "metadata": {},
   "outputs": [
    {
     "output_type": "execute_result",
     "data": {
      "text/plain": [
       "                              open    high     low   close  volume       atr  \\\n",
       "time                                                                           \n",
       "2020-12-30 14:45:00-05:00  125.285  125.46  125.26  125.29    7778  0.219264   \n",
       "2020-12-30 15:00:00-05:00  125.325  125.36  125.25  125.31    5098  0.211460   \n",
       "2020-12-30 15:15:00-05:00  125.350  125.41  125.32  125.36    3735  0.203498   \n",
       "2020-12-30 15:30:00-05:00  125.410  125.67  125.37  125.55    7877  0.211106   \n",
       "2020-12-30 15:45:00-05:00  125.520  125.71  125.25  125.33   34033  0.228884   \n",
       "\n",
       "                                 kcup        kclo  \n",
       "time                                               \n",
       "2020-12-30 14:45:00-05:00  125.661264  125.222736  \n",
       "2020-12-30 15:00:00-05:00  125.667960  125.245040  \n",
       "2020-12-30 15:15:00-05:00  125.662498  125.255502  \n",
       "2020-12-30 15:30:00-05:00  125.663106  125.240894  \n",
       "2020-12-30 15:45:00-05:00  125.667884  125.210116  "
      ],
      "text/html": "<div>\n<style scoped>\n    .dataframe tbody tr th:only-of-type {\n        vertical-align: middle;\n    }\n\n    .dataframe tbody tr th {\n        vertical-align: top;\n    }\n\n    .dataframe thead th {\n        text-align: right;\n    }\n</style>\n<table border=\"1\" class=\"dataframe\">\n  <thead>\n    <tr style=\"text-align: right;\">\n      <th></th>\n      <th>open</th>\n      <th>high</th>\n      <th>low</th>\n      <th>close</th>\n      <th>volume</th>\n      <th>atr</th>\n      <th>kcup</th>\n      <th>kclo</th>\n    </tr>\n    <tr>\n      <th>time</th>\n      <th></th>\n      <th></th>\n      <th></th>\n      <th></th>\n      <th></th>\n      <th></th>\n      <th></th>\n      <th></th>\n    </tr>\n  </thead>\n  <tbody>\n    <tr>\n      <th>2020-12-30 14:45:00-05:00</th>\n      <td>125.285</td>\n      <td>125.46</td>\n      <td>125.26</td>\n      <td>125.29</td>\n      <td>7778</td>\n      <td>0.219264</td>\n      <td>125.661264</td>\n      <td>125.222736</td>\n    </tr>\n    <tr>\n      <th>2020-12-30 15:00:00-05:00</th>\n      <td>125.325</td>\n      <td>125.36</td>\n      <td>125.25</td>\n      <td>125.31</td>\n      <td>5098</td>\n      <td>0.211460</td>\n      <td>125.667960</td>\n      <td>125.245040</td>\n    </tr>\n    <tr>\n      <th>2020-12-30 15:15:00-05:00</th>\n      <td>125.350</td>\n      <td>125.41</td>\n      <td>125.32</td>\n      <td>125.36</td>\n      <td>3735</td>\n      <td>0.203498</td>\n      <td>125.662498</td>\n      <td>125.255502</td>\n    </tr>\n    <tr>\n      <th>2020-12-30 15:30:00-05:00</th>\n      <td>125.410</td>\n      <td>125.67</td>\n      <td>125.37</td>\n      <td>125.55</td>\n      <td>7877</td>\n      <td>0.211106</td>\n      <td>125.663106</td>\n      <td>125.240894</td>\n    </tr>\n    <tr>\n      <th>2020-12-30 15:45:00-05:00</th>\n      <td>125.520</td>\n      <td>125.71</td>\n      <td>125.25</td>\n      <td>125.33</td>\n      <td>34033</td>\n      <td>0.228884</td>\n      <td>125.667884</td>\n      <td>125.210116</td>\n    </tr>\n  </tbody>\n</table>\n</div>"
     },
     "metadata": {},
     "execution_count": 36
    }
   ],
   "source": [
    "drop_columns = ['close_-1_s','tr','tr_14_smma','kcmid']\n",
    "df_final.drop(drop_columns, inplace=True, axis=1)\n",
    "df_final.tail()"
   ]
  },
  {
   "cell_type": "code",
   "execution_count": 37,
   "metadata": {},
   "outputs": [],
   "source": [
    "\"\"\" Keltner indicator function testing and generation\n",
    "\"\"\"\n",
    "def keltner_channel(df_ohlc, p_length = 20):\n",
    "    \n",
    "    stock = sdf.retype(df_ohlc)\n",
    "    atr_column = pd.DataFrame(stock['atr'])\n",
    "    df_final['atr'] = atr_column\n",
    "    df_final['kcmid'] = df_final['close'].rolling(window=p_length).mean()\n",
    "    df_final['kcup'] = df_final['kcmid']+df_final['atr']\n",
    "    df_final['kclo'] = df_final['kcmid']-df_final['atr']\n",
    "    #drop_columns = ['close_-1_s','tr','tr_14_smma','kcmid']\n",
    "    #df_final.drop(drop_columns, inplace=True, axis=1)\n",
    "    return df_final"
   ]
  },
  {
   "cell_type": "code",
   "execution_count": 39,
   "metadata": {},
   "outputs": [
    {
     "output_type": "execute_result",
     "data": {
      "text/plain": [
       "                              open    high     low   close  volume       atr  \\\n",
       "time                                                                           \n",
       "2020-12-30 14:45:00-05:00  125.285  125.46  125.26  125.29    7778  0.219264   \n",
       "2020-12-30 15:00:00-05:00  125.325  125.36  125.25  125.31    5098  0.211460   \n",
       "2020-12-30 15:15:00-05:00  125.350  125.41  125.32  125.36    3735  0.203498   \n",
       "2020-12-30 15:30:00-05:00  125.410  125.67  125.37  125.55    7877  0.211106   \n",
       "2020-12-30 15:45:00-05:00  125.520  125.71  125.25  125.33   34033  0.228884   \n",
       "\n",
       "                                 kcup        kclo     kcmid  \n",
       "time                                                         \n",
       "2020-12-30 14:45:00-05:00  125.661264  125.222736  125.4420  \n",
       "2020-12-30 15:00:00-05:00  125.667960  125.245040  125.4565  \n",
       "2020-12-30 15:15:00-05:00  125.662498  125.255502  125.4590  \n",
       "2020-12-30 15:30:00-05:00  125.663106  125.240894  125.4520  \n",
       "2020-12-30 15:45:00-05:00  125.667884  125.210116  125.4390  "
      ],
      "text/html": "<div>\n<style scoped>\n    .dataframe tbody tr th:only-of-type {\n        vertical-align: middle;\n    }\n\n    .dataframe tbody tr th {\n        vertical-align: top;\n    }\n\n    .dataframe thead th {\n        text-align: right;\n    }\n</style>\n<table border=\"1\" class=\"dataframe\">\n  <thead>\n    <tr style=\"text-align: right;\">\n      <th></th>\n      <th>open</th>\n      <th>high</th>\n      <th>low</th>\n      <th>close</th>\n      <th>volume</th>\n      <th>atr</th>\n      <th>kcup</th>\n      <th>kclo</th>\n      <th>kcmid</th>\n    </tr>\n    <tr>\n      <th>time</th>\n      <th></th>\n      <th></th>\n      <th></th>\n      <th></th>\n      <th></th>\n      <th></th>\n      <th></th>\n      <th></th>\n      <th></th>\n    </tr>\n  </thead>\n  <tbody>\n    <tr>\n      <th>2020-12-30 14:45:00-05:00</th>\n      <td>125.285</td>\n      <td>125.46</td>\n      <td>125.26</td>\n      <td>125.29</td>\n      <td>7778</td>\n      <td>0.219264</td>\n      <td>125.661264</td>\n      <td>125.222736</td>\n      <td>125.4420</td>\n    </tr>\n    <tr>\n      <th>2020-12-30 15:00:00-05:00</th>\n      <td>125.325</td>\n      <td>125.36</td>\n      <td>125.25</td>\n      <td>125.31</td>\n      <td>5098</td>\n      <td>0.211460</td>\n      <td>125.667960</td>\n      <td>125.245040</td>\n      <td>125.4565</td>\n    </tr>\n    <tr>\n      <th>2020-12-30 15:15:00-05:00</th>\n      <td>125.350</td>\n      <td>125.41</td>\n      <td>125.32</td>\n      <td>125.36</td>\n      <td>3735</td>\n      <td>0.203498</td>\n      <td>125.662498</td>\n      <td>125.255502</td>\n      <td>125.4590</td>\n    </tr>\n    <tr>\n      <th>2020-12-30 15:30:00-05:00</th>\n      <td>125.410</td>\n      <td>125.67</td>\n      <td>125.37</td>\n      <td>125.55</td>\n      <td>7877</td>\n      <td>0.211106</td>\n      <td>125.663106</td>\n      <td>125.240894</td>\n      <td>125.4520</td>\n    </tr>\n    <tr>\n      <th>2020-12-30 15:45:00-05:00</th>\n      <td>125.520</td>\n      <td>125.71</td>\n      <td>125.25</td>\n      <td>125.33</td>\n      <td>34033</td>\n      <td>0.228884</td>\n      <td>125.667884</td>\n      <td>125.210116</td>\n      <td>125.4390</td>\n    </tr>\n  </tbody>\n</table>\n</div>"
     },
     "metadata": {},
     "execution_count": 39
    }
   ],
   "source": [
    "#test function\n",
    "p_length = 20\n",
    "new_test_kc_df = keltner_channel(df_ohlc,p_length)\n",
    "new_test_kc_df.tail()"
   ]
  },
  {
   "cell_type": "code",
   "execution_count": null,
   "metadata": {},
   "outputs": [],
   "source": []
  }
 ]
}