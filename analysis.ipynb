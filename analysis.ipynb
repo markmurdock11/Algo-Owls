{
 "metadata": {
  "language_info": {
   "codemirror_mode": {
    "name": "ipython",
    "version": 3
   },
   "file_extension": ".py",
   "mimetype": "text/x-python",
   "name": "python",
   "nbconvert_exporter": "python",
   "pygments_lexer": "ipython3",
   "version": "3.8.3-final"
  },
  "orig_nbformat": 2,
  "kernelspec": {
   "name": "python3",
   "display_name": "Python 3",
   "metadata": {
    "interpreter": {
     "hash": "b23f49e00693c54b6eb344f88260673b3aa6bba76c0ba16a8fad40c874545dc6"
    }
   }
  }
 },
 "nbformat": 4,
 "nbformat_minor": 2,
 "cells": [
  {
   "cell_type": "code",
   "execution_count": 3,
   "metadata": {},
   "outputs": [],
   "source": [
    "# importing requisite libraries\n",
    "from stockstats import StockDataFrame as sdf\n",
    "import requests\n",
    "from dotenv import load_dotenv\n",
    "import os\n",
    "import pandas as pd\n",
    "import numpy as np\n",
    "import alpaca_trade_api as tradeapi\n",
    "from pathlib import Path\n",
    "import lib_copy"
   ]
  },
  {
   "cell_type": "code",
   "execution_count": 7,
   "metadata": {
    "tags": []
   },
   "outputs": [
    {
     "output_type": "stream",
     "name": "stderr",
     "text": "Python-dotenv could not parse statement starting at line 7\nPython-dotenv could not parse statement starting at line 8\n"
    },
    {
     "output_type": "execute_result",
     "data": {
      "text/plain": "True"
     },
     "metadata": {},
     "execution_count": 7
    }
   ],
   "source": [
    "load_dotenv()"
   ]
  },
  {
   "cell_type": "code",
   "execution_count": null,
   "metadata": {},
   "outputs": [],
   "source": []
  },
  {
   "cell_type": "code",
   "execution_count": null,
   "metadata": {},
   "outputs": [],
   "source": []
  },
  {
   "cell_type": "code",
   "execution_count": 10,
   "metadata": {},
   "outputs": [],
   "source": [
    "dataframe = lib_copy.fetch_ohlcv(\"TSLA\")"
   ]
  },
  {
   "cell_type": "code",
   "execution_count": 14,
   "metadata": {},
   "outputs": [
    {
     "output_type": "execute_result",
     "data": {
      "text/plain": "                              open    high      low    close  volume  \\\n2020-01-03 08:30:00-05:00  439.630  439.89  436.120  436.120    3571   \n2020-01-03 08:45:00-05:00  435.400  438.60  435.400  436.990     956   \n2020-01-03 09:00:00-05:00  438.475  441.43  437.510  441.430    2592   \n2020-01-03 09:15:00-05:00  440.450  440.45  440.241  440.241     369   \n2020-01-03 09:30:00-05:00  440.240  454.00  437.050  450.300  107506   \n\n                           bollinger_band_middle  bollinger_band_std  \\\n2020-01-03 08:30:00-05:00              429.21550            3.329131   \n2020-01-03 08:45:00-05:00              429.75000            3.676440   \n2020-01-03 09:00:00-05:00              430.49850            4.420057   \n2020-01-03 09:15:00-05:00              431.10405            4.883775   \n2020-01-03 09:30:00-05:00              432.20405            6.446524   \n\n                           bollinger_band_upper  bollinger_band_lower  \\\n2020-01-03 08:30:00-05:00            435.873761            422.557239   \n2020-01-03 08:45:00-05:00            437.102880            422.397120   \n2020-01-03 09:00:00-05:00            439.338615            421.658385   \n2020-01-03 09:15:00-05:00            440.871600            421.336500   \n2020-01-03 09:30:00-05:00            445.097098            419.311002   \n\n                           close_-1_s      tr  tr_14_smma       atr  \\\n2020-01-03 08:30:00-05:00     438.010   3.770    2.828504  2.828504   \n2020-01-03 08:45:00-05:00     436.120   3.200    2.862839  2.862839   \n2020-01-03 09:00:00-05:00     436.990   4.440    3.005606  3.005606   \n2020-01-03 09:15:00-05:00     441.430   1.189    2.844245  2.844245   \n2020-01-03 09:30:00-05:00     440.241  16.950    4.075772  4.075772   \n\n                               kcmid        kcup        kclo        EMA9  \\\n2020-01-03 08:30:00-05:00  429.21550  432.044004  426.386996  430.818076   \n2020-01-03 08:45:00-05:00  429.75000  432.612839  426.887161  432.052461   \n2020-01-03 09:00:00-05:00  430.49850  433.504106  427.492894  433.927969   \n2020-01-03 09:15:00-05:00  431.10405  433.948295  428.259805  435.190575   \n2020-01-03 09:30:00-05:00  432.20405  436.279822  428.128278  438.212460   \n\n                                EMA21  \n2020-01-03 08:30:00-05:00  429.352575  \n2020-01-03 08:45:00-05:00  430.046886  \n2020-01-03 09:00:00-05:00  431.081715  \n2020-01-03 09:15:00-05:00  431.914377  \n2020-01-03 09:30:00-05:00  433.585797  ",
      "text/html": "<div>\n<style scoped>\n    .dataframe tbody tr th:only-of-type {\n        vertical-align: middle;\n    }\n\n    .dataframe tbody tr th {\n        vertical-align: top;\n    }\n\n    .dataframe thead th {\n        text-align: right;\n    }\n</style>\n<table border=\"1\" class=\"dataframe\">\n  <thead>\n    <tr style=\"text-align: right;\">\n      <th></th>\n      <th>open</th>\n      <th>high</th>\n      <th>low</th>\n      <th>close</th>\n      <th>volume</th>\n      <th>bollinger_band_middle</th>\n      <th>bollinger_band_std</th>\n      <th>bollinger_band_upper</th>\n      <th>bollinger_band_lower</th>\n      <th>close_-1_s</th>\n      <th>tr</th>\n      <th>tr_14_smma</th>\n      <th>atr</th>\n      <th>kcmid</th>\n      <th>kcup</th>\n      <th>kclo</th>\n      <th>EMA9</th>\n      <th>EMA21</th>\n    </tr>\n  </thead>\n  <tbody>\n    <tr>\n      <th>2020-01-03 08:30:00-05:00</th>\n      <td>439.630</td>\n      <td>439.89</td>\n      <td>436.120</td>\n      <td>436.120</td>\n      <td>3571</td>\n      <td>429.21550</td>\n      <td>3.329131</td>\n      <td>435.873761</td>\n      <td>422.557239</td>\n      <td>438.010</td>\n      <td>3.770</td>\n      <td>2.828504</td>\n      <td>2.828504</td>\n      <td>429.21550</td>\n      <td>432.044004</td>\n      <td>426.386996</td>\n      <td>430.818076</td>\n      <td>429.352575</td>\n    </tr>\n    <tr>\n      <th>2020-01-03 08:45:00-05:00</th>\n      <td>435.400</td>\n      <td>438.60</td>\n      <td>435.400</td>\n      <td>436.990</td>\n      <td>956</td>\n      <td>429.75000</td>\n      <td>3.676440</td>\n      <td>437.102880</td>\n      <td>422.397120</td>\n      <td>436.120</td>\n      <td>3.200</td>\n      <td>2.862839</td>\n      <td>2.862839</td>\n      <td>429.75000</td>\n      <td>432.612839</td>\n      <td>426.887161</td>\n      <td>432.052461</td>\n      <td>430.046886</td>\n    </tr>\n    <tr>\n      <th>2020-01-03 09:00:00-05:00</th>\n      <td>438.475</td>\n      <td>441.43</td>\n      <td>437.510</td>\n      <td>441.430</td>\n      <td>2592</td>\n      <td>430.49850</td>\n      <td>4.420057</td>\n      <td>439.338615</td>\n      <td>421.658385</td>\n      <td>436.990</td>\n      <td>4.440</td>\n      <td>3.005606</td>\n      <td>3.005606</td>\n      <td>430.49850</td>\n      <td>433.504106</td>\n      <td>427.492894</td>\n      <td>433.927969</td>\n      <td>431.081715</td>\n    </tr>\n    <tr>\n      <th>2020-01-03 09:15:00-05:00</th>\n      <td>440.450</td>\n      <td>440.45</td>\n      <td>440.241</td>\n      <td>440.241</td>\n      <td>369</td>\n      <td>431.10405</td>\n      <td>4.883775</td>\n      <td>440.871600</td>\n      <td>421.336500</td>\n      <td>441.430</td>\n      <td>1.189</td>\n      <td>2.844245</td>\n      <td>2.844245</td>\n      <td>431.10405</td>\n      <td>433.948295</td>\n      <td>428.259805</td>\n      <td>435.190575</td>\n      <td>431.914377</td>\n    </tr>\n    <tr>\n      <th>2020-01-03 09:30:00-05:00</th>\n      <td>440.240</td>\n      <td>454.00</td>\n      <td>437.050</td>\n      <td>450.300</td>\n      <td>107506</td>\n      <td>432.20405</td>\n      <td>6.446524</td>\n      <td>445.097098</td>\n      <td>419.311002</td>\n      <td>440.241</td>\n      <td>16.950</td>\n      <td>4.075772</td>\n      <td>4.075772</td>\n      <td>432.20405</td>\n      <td>436.279822</td>\n      <td>428.128278</td>\n      <td>438.212460</td>\n      <td>433.585797</td>\n    </tr>\n  </tbody>\n</table>\n</div>"
     },
     "metadata": {},
     "execution_count": 14
    }
   ],
   "source": [
    "lib_copy.bollinger_band_generator(dataframe).head()"
   ]
  },
  {
   "cell_type": "code",
   "execution_count": 15,
   "metadata": {},
   "outputs": [
    {
     "output_type": "execute_result",
     "data": {
      "text/plain": "                              open    high     low   close  volume  \\\n2020-12-31 15:00:00-05:00  702.240  705.22  701.13  703.68   47000   \n2020-12-31 15:15:00-05:00  703.676  703.86  698.00  698.00   56779   \n2020-12-31 15:30:00-05:00  698.050  704.94  697.78  704.13   45436   \n2020-12-31 15:45:00-05:00  704.395  706.79  703.02  705.44   88359   \n2020-12-31 16:00:00-05:00  704.830  704.94  704.83  704.94     220   \n\n                           bollinger_band_middle  bollinger_band_std  \\\n2020-12-31 15:00:00-05:00              711.72925            5.349815   \n2020-12-31 15:15:00-05:00              711.56625            5.722281   \n2020-12-31 15:30:00-05:00              711.53700            5.760513   \n2020-12-31 15:45:00-05:00              711.41450            5.867212   \n2020-12-31 16:00:00-05:00              711.01700            6.029058   \n\n                           bollinger_band_upper  bollinger_band_lower  \\\n2020-12-31 15:00:00-05:00            722.428880            701.029620   \n2020-12-31 15:15:00-05:00            723.010813            700.121687   \n2020-12-31 15:30:00-05:00            723.058026            700.015974   \n2020-12-31 15:45:00-05:00            723.148924            699.680076   \n2020-12-31 16:00:00-05:00            723.075116            698.958884   \n\n                           close_-1_s    tr  tr_14_smma       atr      kcmid  \\\n2020-12-31 15:00:00-05:00      702.30  4.09    4.118721  4.118721  711.72925   \n2020-12-31 15:15:00-05:00      703.68  5.86    4.243098  4.243098  711.56625   \n2020-12-31 15:30:00-05:00      698.00  7.16    4.451448  4.451448  711.53700   \n2020-12-31 15:45:00-05:00      704.13  3.77    4.402773  4.402773  711.41450   \n2020-12-31 16:00:00-05:00      705.44  0.61    4.131861  4.131861  711.01700   \n\n                                 kcup        kclo        ema9       ema21  \n2020-12-31 15:00:00-05:00  715.847971  707.610529  708.858680  708.650536  \n2020-12-31 15:15:00-05:00  715.809348  707.323152  706.686944  707.682305  \n2020-12-31 15:30:00-05:00  715.988448  707.085552  706.175555  707.359368  \n2020-12-31 15:45:00-05:00  715.817273  707.011727  706.028444  707.184880  \n2020-12-31 16:00:00-05:00  715.148861  706.885139  705.810755  706.980800  ",
      "text/html": "<div>\n<style scoped>\n    .dataframe tbody tr th:only-of-type {\n        vertical-align: middle;\n    }\n\n    .dataframe tbody tr th {\n        vertical-align: top;\n    }\n\n    .dataframe thead th {\n        text-align: right;\n    }\n</style>\n<table border=\"1\" class=\"dataframe\">\n  <thead>\n    <tr style=\"text-align: right;\">\n      <th></th>\n      <th>open</th>\n      <th>high</th>\n      <th>low</th>\n      <th>close</th>\n      <th>volume</th>\n      <th>bollinger_band_middle</th>\n      <th>bollinger_band_std</th>\n      <th>bollinger_band_upper</th>\n      <th>bollinger_band_lower</th>\n      <th>close_-1_s</th>\n      <th>tr</th>\n      <th>tr_14_smma</th>\n      <th>atr</th>\n      <th>kcmid</th>\n      <th>kcup</th>\n      <th>kclo</th>\n      <th>ema9</th>\n      <th>ema21</th>\n    </tr>\n  </thead>\n  <tbody>\n    <tr>\n      <th>2020-12-31 15:00:00-05:00</th>\n      <td>702.240</td>\n      <td>705.22</td>\n      <td>701.13</td>\n      <td>703.68</td>\n      <td>47000</td>\n      <td>711.72925</td>\n      <td>5.349815</td>\n      <td>722.428880</td>\n      <td>701.029620</td>\n      <td>702.30</td>\n      <td>4.09</td>\n      <td>4.118721</td>\n      <td>4.118721</td>\n      <td>711.72925</td>\n      <td>715.847971</td>\n      <td>707.610529</td>\n      <td>708.858680</td>\n      <td>708.650536</td>\n    </tr>\n    <tr>\n      <th>2020-12-31 15:15:00-05:00</th>\n      <td>703.676</td>\n      <td>703.86</td>\n      <td>698.00</td>\n      <td>698.00</td>\n      <td>56779</td>\n      <td>711.56625</td>\n      <td>5.722281</td>\n      <td>723.010813</td>\n      <td>700.121687</td>\n      <td>703.68</td>\n      <td>5.86</td>\n      <td>4.243098</td>\n      <td>4.243098</td>\n      <td>711.56625</td>\n      <td>715.809348</td>\n      <td>707.323152</td>\n      <td>706.686944</td>\n      <td>707.682305</td>\n    </tr>\n    <tr>\n      <th>2020-12-31 15:30:00-05:00</th>\n      <td>698.050</td>\n      <td>704.94</td>\n      <td>697.78</td>\n      <td>704.13</td>\n      <td>45436</td>\n      <td>711.53700</td>\n      <td>5.760513</td>\n      <td>723.058026</td>\n      <td>700.015974</td>\n      <td>698.00</td>\n      <td>7.16</td>\n      <td>4.451448</td>\n      <td>4.451448</td>\n      <td>711.53700</td>\n      <td>715.988448</td>\n      <td>707.085552</td>\n      <td>706.175555</td>\n      <td>707.359368</td>\n    </tr>\n    <tr>\n      <th>2020-12-31 15:45:00-05:00</th>\n      <td>704.395</td>\n      <td>706.79</td>\n      <td>703.02</td>\n      <td>705.44</td>\n      <td>88359</td>\n      <td>711.41450</td>\n      <td>5.867212</td>\n      <td>723.148924</td>\n      <td>699.680076</td>\n      <td>704.13</td>\n      <td>3.77</td>\n      <td>4.402773</td>\n      <td>4.402773</td>\n      <td>711.41450</td>\n      <td>715.817273</td>\n      <td>707.011727</td>\n      <td>706.028444</td>\n      <td>707.184880</td>\n    </tr>\n    <tr>\n      <th>2020-12-31 16:00:00-05:00</th>\n      <td>704.830</td>\n      <td>704.94</td>\n      <td>704.83</td>\n      <td>704.94</td>\n      <td>220</td>\n      <td>711.01700</td>\n      <td>6.029058</td>\n      <td>723.075116</td>\n      <td>698.958884</td>\n      <td>705.44</td>\n      <td>0.61</td>\n      <td>4.131861</td>\n      <td>4.131861</td>\n      <td>711.01700</td>\n      <td>715.148861</td>\n      <td>706.885139</td>\n      <td>705.810755</td>\n      <td>706.980800</td>\n    </tr>\n  </tbody>\n</table>\n</div>"
     },
     "metadata": {},
     "execution_count": 15
    }
   ],
   "source": [
    "lib_copy.keltner_channel(dataframe).tail()"
   ]
  },
  {
   "cell_type": "code",
   "execution_count": 16,
   "metadata": {},
   "outputs": [
    {
     "output_type": "execute_result",
     "data": {
      "text/plain": "                              open    high     low   close  volume  \\\n2020-12-31 15:00:00-05:00  702.240  705.22  701.13  703.68   47000   \n2020-12-31 15:15:00-05:00  703.676  703.86  698.00  698.00   56779   \n2020-12-31 15:30:00-05:00  698.050  704.94  697.78  704.13   45436   \n2020-12-31 15:45:00-05:00  704.395  706.79  703.02  705.44   88359   \n2020-12-31 16:00:00-05:00  704.830  704.94  704.83  704.94     220   \n\n                           bollinger_band_middle  bollinger_band_std  \\\n2020-12-31 15:00:00-05:00              711.72925            5.349815   \n2020-12-31 15:15:00-05:00              711.56625            5.722281   \n2020-12-31 15:30:00-05:00              711.53700            5.760513   \n2020-12-31 15:45:00-05:00              711.41450            5.867212   \n2020-12-31 16:00:00-05:00              711.01700            6.029058   \n\n                           bollinger_band_upper  bollinger_band_lower  \\\n2020-12-31 15:00:00-05:00            722.428880            701.029620   \n2020-12-31 15:15:00-05:00            723.010813            700.121687   \n2020-12-31 15:30:00-05:00            723.058026            700.015974   \n2020-12-31 15:45:00-05:00            723.148924            699.680076   \n2020-12-31 16:00:00-05:00            723.075116            698.958884   \n\n                           close_-1_s    tr  tr_14_smma       atr      kcmid  \\\n2020-12-31 15:00:00-05:00      702.30  4.09    4.118721  4.118721  711.72925   \n2020-12-31 15:15:00-05:00      703.68  5.86    4.243098  4.243098  711.56625   \n2020-12-31 15:30:00-05:00      698.00  7.16    4.451448  4.451448  711.53700   \n2020-12-31 15:45:00-05:00      704.13  3.77    4.402773  4.402773  711.41450   \n2020-12-31 16:00:00-05:00      705.44  0.61    4.131861  4.131861  711.01700   \n\n                                 kcup        kclo        ema9       ema21  \\\n2020-12-31 15:00:00-05:00  715.847971  707.610529  708.858680  708.650536   \n2020-12-31 15:15:00-05:00  715.809348  707.323152  706.686944  707.682305   \n2020-12-31 15:30:00-05:00  715.988448  707.085552  706.175555  707.359368   \n2020-12-31 15:45:00-05:00  715.817273  707.011727  706.028444  707.184880   \n2020-12-31 16:00:00-05:00  715.148861  706.885139  705.810755  706.980800   \n\n                                 EMA9       EMA21  \n2020-12-31 15:00:00-05:00  708.858680  708.650536  \n2020-12-31 15:15:00-05:00  706.686944  707.682305  \n2020-12-31 15:30:00-05:00  706.175555  707.359368  \n2020-12-31 15:45:00-05:00  706.028444  707.184880  \n2020-12-31 16:00:00-05:00  705.810755  706.980800  ",
      "text/html": "<div>\n<style scoped>\n    .dataframe tbody tr th:only-of-type {\n        vertical-align: middle;\n    }\n\n    .dataframe tbody tr th {\n        vertical-align: top;\n    }\n\n    .dataframe thead th {\n        text-align: right;\n    }\n</style>\n<table border=\"1\" class=\"dataframe\">\n  <thead>\n    <tr style=\"text-align: right;\">\n      <th></th>\n      <th>open</th>\n      <th>high</th>\n      <th>low</th>\n      <th>close</th>\n      <th>volume</th>\n      <th>bollinger_band_middle</th>\n      <th>bollinger_band_std</th>\n      <th>bollinger_band_upper</th>\n      <th>bollinger_band_lower</th>\n      <th>close_-1_s</th>\n      <th>tr</th>\n      <th>tr_14_smma</th>\n      <th>atr</th>\n      <th>kcmid</th>\n      <th>kcup</th>\n      <th>kclo</th>\n      <th>ema9</th>\n      <th>ema21</th>\n      <th>EMA9</th>\n      <th>EMA21</th>\n    </tr>\n  </thead>\n  <tbody>\n    <tr>\n      <th>2020-12-31 15:00:00-05:00</th>\n      <td>702.240</td>\n      <td>705.22</td>\n      <td>701.13</td>\n      <td>703.68</td>\n      <td>47000</td>\n      <td>711.72925</td>\n      <td>5.349815</td>\n      <td>722.428880</td>\n      <td>701.029620</td>\n      <td>702.30</td>\n      <td>4.09</td>\n      <td>4.118721</td>\n      <td>4.118721</td>\n      <td>711.72925</td>\n      <td>715.847971</td>\n      <td>707.610529</td>\n      <td>708.858680</td>\n      <td>708.650536</td>\n      <td>708.858680</td>\n      <td>708.650536</td>\n    </tr>\n    <tr>\n      <th>2020-12-31 15:15:00-05:00</th>\n      <td>703.676</td>\n      <td>703.86</td>\n      <td>698.00</td>\n      <td>698.00</td>\n      <td>56779</td>\n      <td>711.56625</td>\n      <td>5.722281</td>\n      <td>723.010813</td>\n      <td>700.121687</td>\n      <td>703.68</td>\n      <td>5.86</td>\n      <td>4.243098</td>\n      <td>4.243098</td>\n      <td>711.56625</td>\n      <td>715.809348</td>\n      <td>707.323152</td>\n      <td>706.686944</td>\n      <td>707.682305</td>\n      <td>706.686944</td>\n      <td>707.682305</td>\n    </tr>\n    <tr>\n      <th>2020-12-31 15:30:00-05:00</th>\n      <td>698.050</td>\n      <td>704.94</td>\n      <td>697.78</td>\n      <td>704.13</td>\n      <td>45436</td>\n      <td>711.53700</td>\n      <td>5.760513</td>\n      <td>723.058026</td>\n      <td>700.015974</td>\n      <td>698.00</td>\n      <td>7.16</td>\n      <td>4.451448</td>\n      <td>4.451448</td>\n      <td>711.53700</td>\n      <td>715.988448</td>\n      <td>707.085552</td>\n      <td>706.175555</td>\n      <td>707.359368</td>\n      <td>706.175555</td>\n      <td>707.359368</td>\n    </tr>\n    <tr>\n      <th>2020-12-31 15:45:00-05:00</th>\n      <td>704.395</td>\n      <td>706.79</td>\n      <td>703.02</td>\n      <td>705.44</td>\n      <td>88359</td>\n      <td>711.41450</td>\n      <td>5.867212</td>\n      <td>723.148924</td>\n      <td>699.680076</td>\n      <td>704.13</td>\n      <td>3.77</td>\n      <td>4.402773</td>\n      <td>4.402773</td>\n      <td>711.41450</td>\n      <td>715.817273</td>\n      <td>707.011727</td>\n      <td>706.028444</td>\n      <td>707.184880</td>\n      <td>706.028444</td>\n      <td>707.184880</td>\n    </tr>\n    <tr>\n      <th>2020-12-31 16:00:00-05:00</th>\n      <td>704.830</td>\n      <td>704.94</td>\n      <td>704.83</td>\n      <td>704.94</td>\n      <td>220</td>\n      <td>711.01700</td>\n      <td>6.029058</td>\n      <td>723.075116</td>\n      <td>698.958884</td>\n      <td>705.44</td>\n      <td>0.61</td>\n      <td>4.131861</td>\n      <td>4.131861</td>\n      <td>711.01700</td>\n      <td>715.148861</td>\n      <td>706.885139</td>\n      <td>705.810755</td>\n      <td>706.980800</td>\n      <td>705.810755</td>\n      <td>706.980800</td>\n    </tr>\n  </tbody>\n</table>\n</div>"
     },
     "metadata": {},
     "execution_count": 16
    }
   ],
   "source": [
    "lib_copy.ewma(dataframe).tail()"
   ]
  },
  {
   "cell_type": "code",
   "execution_count": null,
   "metadata": {},
   "outputs": [],
   "source": []
  }
 ]
}