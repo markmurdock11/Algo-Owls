{
 "metadata": {
  "language_info": {
   "codemirror_mode": {
    "name": "ipython",
    "version": 3
   },
   "file_extension": ".py",
   "mimetype": "text/x-python",
   "name": "python",
   "nbconvert_exporter": "python",
   "pygments_lexer": "ipython3",
   "version": "3.7.9-final"
  },
  "orig_nbformat": 2,
  "kernelspec": {
   "name": "python_defaultSpec_1610075355500",
   "display_name": "Python 3.7.9 64-bit ('algotrading': conda)"
  }
 },
 "nbformat": 4,
 "nbformat_minor": 2,
 "cells": [
  {
   "cell_type": "code",
   "execution_count": 1,
   "metadata": {},
   "outputs": [],
   "source": [
    "import stocker"
   ]
  },
  {
   "cell_type": "code",
   "execution_count": 3,
   "metadata": {},
   "outputs": [
    {
     "output_type": "execute_result",
     "data": {
      "text/plain": "[844.3, 2.96, '2021-01-08']"
     },
     "metadata": {},
     "execution_count": 3
    }
   ],
   "source": [
    "apple_stock = stocker.predict.tomorrow(\"TSLA\")\n",
    "apple_stock"
   ]
  },
  {
   "cell_type": "code",
   "execution_count": 16,
   "metadata": {},
   "outputs": [],
   "source": [
    "apple_stock = stocker.get_data.total(\"AAPL\")"
   ]
  },
  {
   "cell_type": "code",
   "execution_count": 4,
   "metadata": {},
   "outputs": [],
   "source": [
    "import pandas as pd\n",
    "from pandas_datareader import data\n",
    "import requests\n",
    "import datetime as dt\n",
    "\n",
    "def main(stock, years=1):  # function to get data from Yahoo Finance\n",
    "    end = dt.datetime.today().strftime('%Y-%m-%d')  # today as the end date\n",
    "    start = (dt.datetime.today() - dt.timedelta(days=365*years)).strftime('%Y-%m-%d')  # 1 year ago as start\n",
    "    df = data.DataReader(stock, 'yahoo', start, end)\n",
    "\n",
    "    return df, start, end"
   ]
  },
  {
   "cell_type": "code",
   "execution_count": 5,
   "metadata": {},
   "outputs": [
    {
     "output_type": "execute_result",
     "data": {
      "text/plain": "(                  High         Low        Open       Close      Volume  \\\n Date                                                                     \n 2018-01-08   67.403999   63.099998   63.200001   67.281998  49297000.0   \n 2018-01-09   67.760002   65.480003   67.031998   66.737999  35733000.0   \n 2018-01-10   67.400002   66.000000   66.440002   66.959999  21549500.0   \n 2018-01-11   68.961998   66.652000   67.047997   67.589996  33227500.0   \n 2018-01-12   68.082001   66.734001   67.725998   67.244003  24125500.0   \n ...                ...         ...         ...         ...         ...   \n 2020-12-31  718.719971  691.119995  699.989990  705.669983  49570900.0   \n 2021-01-04  744.489990  717.190002  719.460022  729.770020  48638200.0   \n 2021-01-05  740.840027  719.200012  723.659973  735.109985  32245200.0   \n 2021-01-06  774.000000  749.099976  758.489990  755.979980  44700000.0   \n 2021-01-07  816.989990  775.200012  777.630005  816.039978  51164400.0   \n \n              Adj Close  \n Date                    \n 2018-01-08   67.281998  \n 2018-01-09   66.737999  \n 2018-01-10   66.959999  \n 2018-01-11   67.589996  \n 2018-01-12   67.244003  \n ...                ...  \n 2020-12-31  705.669983  \n 2021-01-04  729.770020  \n 2021-01-05  735.109985  \n 2021-01-06  755.979980  \n 2021-01-07  816.039978  \n \n [756 rows x 6 columns],\n '2018-01-08',\n '2021-01-07')"
     },
     "metadata": {},
     "execution_count": 5
    }
   ],
   "source": [
    "main(\"TSLA\", years=3)"
   ]
  },
  {
   "cell_type": "code",
   "execution_count": null,
   "metadata": {},
   "outputs": [],
   "source": []
  }
 ]
}