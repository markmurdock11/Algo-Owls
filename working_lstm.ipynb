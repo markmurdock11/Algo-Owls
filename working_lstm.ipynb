{
 "cells": [
  {
   "cell_type": "code",
   "execution_count": 26,
   "metadata": {},
   "outputs": [],
   "source": [
    "# Initial imports\n",
    "import numpy as np\n",
    "import pandas as pd\n",
    "from stockstats import StockDataFrame as sdf\n",
    "import requests\n",
    "from dotenv import load_dotenv\n",
    "import os\n",
    "import pandas as pd\n",
    "import numpy as np\n",
    "import alpaca_trade_api as tradeapi\n",
    "from pathlib import Path\n",
    "import lib_copy\n",
    "%matplotlib inline"
   ]
  },
  {
   "cell_type": "code",
   "execution_count": 27,
   "metadata": {
    "tags": []
   },
   "outputs": [
    {
     "output_type": "stream",
     "name": "stderr",
     "text": "Python-dotenv could not parse statement starting at line 7\nPython-dotenv could not parse statement starting at line 8\n"
    },
    {
     "output_type": "execute_result",
     "data": {
      "text/plain": "True"
     },
     "metadata": {},
     "execution_count": 27
    }
   ],
   "source": [
    "load_dotenv()"
   ]
  },
  {
   "cell_type": "markdown",
   "metadata": {},
   "source": [
    "## Instructions\n",
    "\n",
    "### Initial Setup\n",
    "\n",
    "To ensure models' reproducibility, set the random seed for `numpy` and `tensorflow` libraries."
   ]
  },
  {
   "cell_type": "code",
   "execution_count": 28,
   "metadata": {},
   "outputs": [],
   "source": [
    "\n",
    "import requests\n",
    "\n",
    "df = lib_copy.fetch_ohlcv(\"TSLA\")\n"
   ]
  },
  {
   "cell_type": "code",
   "execution_count": 29,
   "metadata": {},
   "outputs": [],
   "source": [
    "def adding_boll_kelt_ewma_dataframe(dataframe):\n",
    "    lib_copy.bollinger_band_generator(dataframe)\n",
    "    lib_copy.keltner_channel(dataframe)\n",
    "    lib_copy.ewma(dataframe)\n",
    "\n",
    "    return dataframe"
   ]
  },
  {
   "cell_type": "code",
   "execution_count": 30,
   "metadata": {},
   "outputs": [],
   "source": [
    "everything = adding_boll_kelt_ewma_dataframe(df)"
   ]
  },
  {
   "cell_type": "code",
   "execution_count": 31,
   "metadata": {},
   "outputs": [
    {
     "output_type": "execute_result",
     "data": {
      "text/plain": "61"
     },
     "metadata": {},
     "execution_count": 31
    }
   ],
   "source": [
    "# Looking for missing values\n",
    "everything.isnull().sum().sum()"
   ]
  },
  {
   "cell_type": "code",
   "execution_count": 32,
   "metadata": {},
   "outputs": [
    {
     "output_type": "execute_result",
     "data": {
      "text/plain": "                              open    high      low    close  volume  \\\n2020-01-03 08:30:00-05:00  439.630  439.89  436.120  436.120    3571   \n2020-01-03 08:45:00-05:00  435.400  438.60  435.400  436.990     956   \n2020-01-03 09:00:00-05:00  438.475  441.43  437.510  441.430    2592   \n2020-01-03 09:15:00-05:00  440.450  440.45  440.241  440.241     369   \n2020-01-03 09:30:00-05:00  440.240  454.00  437.050  450.300  107506   \n\n                           bollinger_band_middle  bollinger_band_std  \\\n2020-01-03 08:30:00-05:00              429.21550            3.329131   \n2020-01-03 08:45:00-05:00              429.75000            3.676440   \n2020-01-03 09:00:00-05:00              430.49850            4.420057   \n2020-01-03 09:15:00-05:00              431.10405            4.883775   \n2020-01-03 09:30:00-05:00              432.20405            6.446524   \n\n                           bollinger_band_upper  bollinger_band_lower  \\\n2020-01-03 08:30:00-05:00            435.873761            422.557239   \n2020-01-03 08:45:00-05:00            437.102880            422.397120   \n2020-01-03 09:00:00-05:00            439.338615            421.658385   \n2020-01-03 09:15:00-05:00            440.871600            421.336500   \n2020-01-03 09:30:00-05:00            445.097098            419.311002   \n\n                           close_-1_s      tr  tr_14_smma       atr  \\\n2020-01-03 08:30:00-05:00     438.010   3.770    2.828504  2.828504   \n2020-01-03 08:45:00-05:00     436.120   3.200    2.862839  2.862839   \n2020-01-03 09:00:00-05:00     436.990   4.440    3.005606  3.005606   \n2020-01-03 09:15:00-05:00     441.430   1.189    2.844245  2.844245   \n2020-01-03 09:30:00-05:00     440.241  16.950    4.075772  4.075772   \n\n                               kcmid        kcup        kclo        EMA9  \\\n2020-01-03 08:30:00-05:00  429.21550  432.044004  426.386996  430.818076   \n2020-01-03 08:45:00-05:00  429.75000  432.612839  426.887161  432.052461   \n2020-01-03 09:00:00-05:00  430.49850  433.504106  427.492894  433.927969   \n2020-01-03 09:15:00-05:00  431.10405  433.948295  428.259805  435.190575   \n2020-01-03 09:30:00-05:00  432.20405  436.279822  428.128278  438.212460   \n\n                                EMA21  \n2020-01-03 08:30:00-05:00  429.352575  \n2020-01-03 08:45:00-05:00  430.046886  \n2020-01-03 09:00:00-05:00  431.081715  \n2020-01-03 09:15:00-05:00  431.914377  \n2020-01-03 09:30:00-05:00  433.585797  ",
      "text/html": "<div>\n<style scoped>\n    .dataframe tbody tr th:only-of-type {\n        vertical-align: middle;\n    }\n\n    .dataframe tbody tr th {\n        vertical-align: top;\n    }\n\n    .dataframe thead th {\n        text-align: right;\n    }\n</style>\n<table border=\"1\" class=\"dataframe\">\n  <thead>\n    <tr style=\"text-align: right;\">\n      <th></th>\n      <th>open</th>\n      <th>high</th>\n      <th>low</th>\n      <th>close</th>\n      <th>volume</th>\n      <th>bollinger_band_middle</th>\n      <th>bollinger_band_std</th>\n      <th>bollinger_band_upper</th>\n      <th>bollinger_band_lower</th>\n      <th>close_-1_s</th>\n      <th>tr</th>\n      <th>tr_14_smma</th>\n      <th>atr</th>\n      <th>kcmid</th>\n      <th>kcup</th>\n      <th>kclo</th>\n      <th>EMA9</th>\n      <th>EMA21</th>\n    </tr>\n  </thead>\n  <tbody>\n    <tr>\n      <th>2020-01-03 08:30:00-05:00</th>\n      <td>439.630</td>\n      <td>439.89</td>\n      <td>436.120</td>\n      <td>436.120</td>\n      <td>3571</td>\n      <td>429.21550</td>\n      <td>3.329131</td>\n      <td>435.873761</td>\n      <td>422.557239</td>\n      <td>438.010</td>\n      <td>3.770</td>\n      <td>2.828504</td>\n      <td>2.828504</td>\n      <td>429.21550</td>\n      <td>432.044004</td>\n      <td>426.386996</td>\n      <td>430.818076</td>\n      <td>429.352575</td>\n    </tr>\n    <tr>\n      <th>2020-01-03 08:45:00-05:00</th>\n      <td>435.400</td>\n      <td>438.60</td>\n      <td>435.400</td>\n      <td>436.990</td>\n      <td>956</td>\n      <td>429.75000</td>\n      <td>3.676440</td>\n      <td>437.102880</td>\n      <td>422.397120</td>\n      <td>436.120</td>\n      <td>3.200</td>\n      <td>2.862839</td>\n      <td>2.862839</td>\n      <td>429.75000</td>\n      <td>432.612839</td>\n      <td>426.887161</td>\n      <td>432.052461</td>\n      <td>430.046886</td>\n    </tr>\n    <tr>\n      <th>2020-01-03 09:00:00-05:00</th>\n      <td>438.475</td>\n      <td>441.43</td>\n      <td>437.510</td>\n      <td>441.430</td>\n      <td>2592</td>\n      <td>430.49850</td>\n      <td>4.420057</td>\n      <td>439.338615</td>\n      <td>421.658385</td>\n      <td>436.990</td>\n      <td>4.440</td>\n      <td>3.005606</td>\n      <td>3.005606</td>\n      <td>430.49850</td>\n      <td>433.504106</td>\n      <td>427.492894</td>\n      <td>433.927969</td>\n      <td>431.081715</td>\n    </tr>\n    <tr>\n      <th>2020-01-03 09:15:00-05:00</th>\n      <td>440.450</td>\n      <td>440.45</td>\n      <td>440.241</td>\n      <td>440.241</td>\n      <td>369</td>\n      <td>431.10405</td>\n      <td>4.883775</td>\n      <td>440.871600</td>\n      <td>421.336500</td>\n      <td>441.430</td>\n      <td>1.189</td>\n      <td>2.844245</td>\n      <td>2.844245</td>\n      <td>431.10405</td>\n      <td>433.948295</td>\n      <td>428.259805</td>\n      <td>435.190575</td>\n      <td>431.914377</td>\n    </tr>\n    <tr>\n      <th>2020-01-03 09:30:00-05:00</th>\n      <td>440.240</td>\n      <td>454.00</td>\n      <td>437.050</td>\n      <td>450.300</td>\n      <td>107506</td>\n      <td>432.20405</td>\n      <td>6.446524</td>\n      <td>445.097098</td>\n      <td>419.311002</td>\n      <td>440.241</td>\n      <td>16.950</td>\n      <td>4.075772</td>\n      <td>4.075772</td>\n      <td>432.20405</td>\n      <td>436.279822</td>\n      <td>428.128278</td>\n      <td>438.212460</td>\n      <td>433.585797</td>\n    </tr>\n  </tbody>\n</table>\n</div>"
     },
     "metadata": {},
     "execution_count": 32
    }
   ],
   "source": [
    "# Filling missing values with the previous ones\n",
    "everything = df.dropna()\n",
    "everything.head()"
   ]
  },
  {
   "cell_type": "code",
   "execution_count": 33,
   "metadata": {},
   "outputs": [
    {
     "output_type": "execute_result",
     "data": {
      "text/plain": "               open    high      low    close  volume  bollinger_band_middle  \\\n2020-01-03  439.630  439.89  436.120  436.120    3571              429.21550   \n2020-01-03  435.400  438.60  435.400  436.990     956              429.75000   \n2020-01-03  438.475  441.43  437.510  441.430    2592              430.49850   \n2020-01-03  440.450  440.45  440.241  440.241     369              431.10405   \n2020-01-03  440.240  454.00  437.050  450.300  107506              432.20405   \n\n            bollinger_band_std  bollinger_band_upper  bollinger_band_lower  \\\n2020-01-03            3.329131            435.873761            422.557239   \n2020-01-03            3.676440            437.102880            422.397120   \n2020-01-03            4.420057            439.338615            421.658385   \n2020-01-03            4.883775            440.871600            421.336500   \n2020-01-03            6.446524            445.097098            419.311002   \n\n            close_-1_s  ...  tr_14_smma       atr      kcmid        kcup  \\\n2020-01-03     438.010  ...    2.828504  2.828504  429.21550  432.044004   \n2020-01-03     436.120  ...    2.862839  2.862839  429.75000  432.612839   \n2020-01-03     436.990  ...    3.005606  3.005606  430.49850  433.504106   \n2020-01-03     441.430  ...    2.844245  2.844245  431.10405  433.948295   \n2020-01-03     440.241  ...    4.075772  4.075772  432.20405  436.279822   \n\n                  kclo        EMA9       EMA21  squeeze  crossover  target  \n2020-01-03  426.386996  430.818076  429.352575      0.0        0.0     0.0  \n2020-01-03  426.887161  432.052461  430.046886      0.0        0.0     0.0  \n2020-01-03  427.492894  433.927969  431.081715      0.0        0.0     0.0  \n2020-01-03  428.259805  435.190575  431.914377      0.0        0.0     0.0  \n2020-01-03  428.128278  438.212460  433.585797      0.0        0.0     0.0  \n\n[5 rows x 21 columns]",
      "text/html": "<div>\n<style scoped>\n    .dataframe tbody tr th:only-of-type {\n        vertical-align: middle;\n    }\n\n    .dataframe tbody tr th {\n        vertical-align: top;\n    }\n\n    .dataframe thead th {\n        text-align: right;\n    }\n</style>\n<table border=\"1\" class=\"dataframe\">\n  <thead>\n    <tr style=\"text-align: right;\">\n      <th></th>\n      <th>open</th>\n      <th>high</th>\n      <th>low</th>\n      <th>close</th>\n      <th>volume</th>\n      <th>bollinger_band_middle</th>\n      <th>bollinger_band_std</th>\n      <th>bollinger_band_upper</th>\n      <th>bollinger_band_lower</th>\n      <th>close_-1_s</th>\n      <th>...</th>\n      <th>tr_14_smma</th>\n      <th>atr</th>\n      <th>kcmid</th>\n      <th>kcup</th>\n      <th>kclo</th>\n      <th>EMA9</th>\n      <th>EMA21</th>\n      <th>squeeze</th>\n      <th>crossover</th>\n      <th>target</th>\n    </tr>\n  </thead>\n  <tbody>\n    <tr>\n      <th>2020-01-03</th>\n      <td>439.630</td>\n      <td>439.89</td>\n      <td>436.120</td>\n      <td>436.120</td>\n      <td>3571</td>\n      <td>429.21550</td>\n      <td>3.329131</td>\n      <td>435.873761</td>\n      <td>422.557239</td>\n      <td>438.010</td>\n      <td>...</td>\n      <td>2.828504</td>\n      <td>2.828504</td>\n      <td>429.21550</td>\n      <td>432.044004</td>\n      <td>426.386996</td>\n      <td>430.818076</td>\n      <td>429.352575</td>\n      <td>0.0</td>\n      <td>0.0</td>\n      <td>0.0</td>\n    </tr>\n    <tr>\n      <th>2020-01-03</th>\n      <td>435.400</td>\n      <td>438.60</td>\n      <td>435.400</td>\n      <td>436.990</td>\n      <td>956</td>\n      <td>429.75000</td>\n      <td>3.676440</td>\n      <td>437.102880</td>\n      <td>422.397120</td>\n      <td>436.120</td>\n      <td>...</td>\n      <td>2.862839</td>\n      <td>2.862839</td>\n      <td>429.75000</td>\n      <td>432.612839</td>\n      <td>426.887161</td>\n      <td>432.052461</td>\n      <td>430.046886</td>\n      <td>0.0</td>\n      <td>0.0</td>\n      <td>0.0</td>\n    </tr>\n    <tr>\n      <th>2020-01-03</th>\n      <td>438.475</td>\n      <td>441.43</td>\n      <td>437.510</td>\n      <td>441.430</td>\n      <td>2592</td>\n      <td>430.49850</td>\n      <td>4.420057</td>\n      <td>439.338615</td>\n      <td>421.658385</td>\n      <td>436.990</td>\n      <td>...</td>\n      <td>3.005606</td>\n      <td>3.005606</td>\n      <td>430.49850</td>\n      <td>433.504106</td>\n      <td>427.492894</td>\n      <td>433.927969</td>\n      <td>431.081715</td>\n      <td>0.0</td>\n      <td>0.0</td>\n      <td>0.0</td>\n    </tr>\n    <tr>\n      <th>2020-01-03</th>\n      <td>440.450</td>\n      <td>440.45</td>\n      <td>440.241</td>\n      <td>440.241</td>\n      <td>369</td>\n      <td>431.10405</td>\n      <td>4.883775</td>\n      <td>440.871600</td>\n      <td>421.336500</td>\n      <td>441.430</td>\n      <td>...</td>\n      <td>2.844245</td>\n      <td>2.844245</td>\n      <td>431.10405</td>\n      <td>433.948295</td>\n      <td>428.259805</td>\n      <td>435.190575</td>\n      <td>431.914377</td>\n      <td>0.0</td>\n      <td>0.0</td>\n      <td>0.0</td>\n    </tr>\n    <tr>\n      <th>2020-01-03</th>\n      <td>440.240</td>\n      <td>454.00</td>\n      <td>437.050</td>\n      <td>450.300</td>\n      <td>107506</td>\n      <td>432.20405</td>\n      <td>6.446524</td>\n      <td>445.097098</td>\n      <td>419.311002</td>\n      <td>440.241</td>\n      <td>...</td>\n      <td>4.075772</td>\n      <td>4.075772</td>\n      <td>432.20405</td>\n      <td>436.279822</td>\n      <td>428.128278</td>\n      <td>438.212460</td>\n      <td>433.585797</td>\n      <td>0.0</td>\n      <td>0.0</td>\n      <td>0.0</td>\n    </tr>\n  </tbody>\n</table>\n<p>5 rows × 21 columns</p>\n</div>"
     },
     "metadata": {},
     "execution_count": 33
    }
   ],
   "source": [
    "response_data = lib_copy.signals_generator(everything)\n",
    "\n",
    "response_data.index = response_data.index.date\n",
    "final_df = response_data\n",
    "final_df.head()"
   ]
  },
  {
   "cell_type": "code",
   "execution_count": 34,
   "metadata": {},
   "outputs": [],
   "source": [
    "X = df.iloc[:, 0:20].values\n",
    "y = df.iloc[:, -1].values\n",
    "\n",
    "X, y = np.array(X), np.array(y).reshape(-1,1)"
   ]
  },
  {
   "cell_type": "code",
   "execution_count": 35,
   "metadata": {
    "tags": []
   },
   "outputs": [
    {
     "output_type": "stream",
     "name": "stdout",
     "text": "X sample values:\n[[4.26770000e+02 4.27120000e+02 4.25410000e+02 4.26300000e+02\n  8.37200000e+03 4.25045200e+02 1.35909016e+00 4.27763380e+02\n  4.22327020e+02            nan            nan            nan\n             nan            nan            nan            nan\n  4.26300000e+02 4.26300000e+02]\n [4.26330000e+02 4.26970000e+02 4.26210000e+02 4.26460000e+02\n  5.15800000e+03 4.25236200e+02 1.26870110e+00 4.27773602e+02\n  4.22698798e+02 4.26300000e+02 7.60000000e-01 7.60000000e-01\n  7.60000000e-01            nan            nan            nan\n  4.26332000e+02 4.26314545e+02]\n [4.26730000e+02 4.28370000e+02 4.26635000e+02 4.28130000e+02\n  9.71100000e+03 4.25490700e+02 1.31465077e+00 4.28120002e+02\n  4.22861398e+02 4.26460000e+02 1.91000000e+00 1.35629630e+00\n  1.35629630e+00            nan            nan            nan\n  4.26691600e+02 4.26479587e+02]] \n\nX sample values:\n[[426.3       ]\n [426.31454545]\n [426.47958678]] \n\n"
    }
   ],
   "source": [
    "print (f\"X sample values:\\n{X[:3]} \\n\")\n",
    "print (f\"X sample values:\\n{y[:3]} \\n\")\n"
   ]
  },
  {
   "cell_type": "code",
   "execution_count": 36,
   "metadata": {},
   "outputs": [
    {
     "output_type": "error",
     "ename": "IndentationError",
     "evalue": "unexpected indent (<ipython-input-36-56ca990d33f9>, line 4)",
     "traceback": [
      "\u001b[0;36m  File \u001b[0;32m\"<ipython-input-36-56ca990d33f9>\"\u001b[0;36m, line \u001b[0;32m4\u001b[0m\n\u001b[0;31m    This function accepts the column number for the features (X) and the target (y).\u001b[0m\n\u001b[0m    ^\u001b[0m\n\u001b[0;31mIndentationError\u001b[0m\u001b[0;31m:\u001b[0m unexpected indent\n"
     ]
    }
   ],
   "source": [
    "\"\"\"\n",
    "def window_data(df, window, feature_col_number, target_col_number):\n",
    "\"\"\"\n",
    "    This function accepts the column number for the features (X) and the target (y).\n",
    "    It chunks the data up with a rolling window of Xt - window to predict Xt.\n",
    "    It returns two numpy arrays of X and y.\n",
    "\"\"\"\n",
    "    X = []\n",
    "    y = []\n",
    "    for i in range(len(df) - window):\n",
    "        features = df.iloc[i : (i + window), feature_col_number]\n",
    "        target = df.iloc[(i + window), target_col_number]\n",
    "        X.append(features)\n",
    "        y.append(target)\n",
    "    return np.array(X), np.array(y).reshape(-1, 1)\n",
    "\"\"\""
   ]
  },
  {
   "cell_type": "code",
   "execution_count": 37,
   "metadata": {
    "tags": []
   },
   "outputs": [
    {
     "output_type": "execute_result",
     "data": {
      "text/plain": "'\\n# Define the window size\\nwindow_size = 30\\n\\n# Set the index of the feature and target columns\\ntarget_column = [18]\\nfeature_column = [1,17]\\n# Create the features (X) and target (y) data using the window_data() function.\\nX, y = window_data(final_df, window_size, feature_column, target_column)\\n\\n# Print a few sample values from X and y\\nprint (f\"X sample values:\\n{X[:3]} \\n\")\\nprint (f\"y sample values:\\n{y[:3]}\")\\n'"
     },
     "metadata": {},
     "execution_count": 37
    }
   ],
   "source": [
    "\"\"\"\n",
    "# Define the window size\n",
    "window_size = 30\n",
    "\n",
    "# Set the index of the feature and target columns\n",
    "target_column = [18]\n",
    "feature_column = [1,17]\n",
    "# Create the features (X) and target (y) data using the window_data() function.\n",
    "X, y = window_data(final_df, window_size, feature_column, target_column)\n",
    "\n",
    "# Print a few sample values from X and y\n",
    "print (f\"X sample values:\\n{X[:3]} \\n\")\n",
    "print (f\"y sample values:\\n{y[:3]}\")\n",
    "\"\"\""
   ]
  },
  {
   "cell_type": "code",
   "execution_count": 47,
   "metadata": {},
   "outputs": [],
   "source": [
    "# Manually splitting the data\n",
    "split = int(0.7 * len(X))\n",
    "\n",
    "X_train = X[: split]\n",
    "X_test = X[split:]\n",
    "\n",
    "y_train = y[: split]\n",
    "y_test = y[split:]"
   ]
  },
  {
   "cell_type": "code",
   "execution_count": null,
   "metadata": {},
   "outputs": [],
   "source": [
    "# Importing the MinMaxScaler from sklearn\n",
    "from sklearn.preprocessing import MinMaxScaler\n",
    "\n",
    "# Create a MinMaxScaler object\n",
    "scaler = MinMaxScaler()\n",
    "\n",
    "# Fit the MinMaxScaler object with the features data X\n",
    "scaler.fit(X)\n",
    "\n",
    "# Scale the features training and testing sets\n",
    "X_train = scaler.transform(X_train)\n",
    "X_test = scaler.transform(X_test)\n",
    "\n",
    "# Fit the MinMaxScaler object with the target data Y\n",
    "scaler.fit(y)\n",
    "\n",
    "# Scale the target training and testing sets\n",
    "y_train = scaler.transform(y_train)\n",
    "y_test = scaler.transform(y_test)"
   ]
  },
  {
   "cell_type": "code",
   "execution_count": 51,
   "metadata": {
    "tags": []
   },
   "outputs": [
    {
     "output_type": "stream",
     "name": "stdout",
     "text": "X_train sample values:\n[[[-1.58234546e-01]\n  [-1.57252462e-01]\n  [-1.54785021e-01]\n  [-1.56613043e-01]\n  [-7.07232222e-05]\n  [-1.67573817e-01]\n  [-6.65154101e-04]\n  [-1.14335324e-01]\n  [ 2.31488361e-01]\n  [            nan]\n  [            nan]\n  [            nan]\n  [            nan]\n  [            nan]\n  [            nan]\n  [            nan]\n  [-1.64060104e-01]\n  [-1.69629409e-01]]\n\n [[-1.58234657e-01]\n  [-1.57252500e-01]\n  [-1.54784819e-01]\n  [-1.56613003e-01]\n  [-7.07248300e-05]\n  [-1.67573767e-01]\n  [-6.65264218e-04]\n  [-1.14335323e-01]\n  [ 2.31488404e-01]\n  [-1.56613043e-01]\n  [ 2.43056148e-07]\n  [-5.36880390e-03]\n  [-5.36880390e-03]\n  [            nan]\n  [            nan]\n  [            nan]\n  [-1.64060096e-01]\n  [-1.69629406e-01]]\n\n [[-1.58234557e-01]\n  [-1.57252151e-01]\n  [-1.54784712e-01]\n  [-1.56612583e-01]\n  [-7.07225524e-05]\n  [-1.67573700e-01]\n  [-6.65208239e-04]\n  [-1.14335285e-01]\n  [ 2.31488423e-01]\n  [-1.56613003e-01]\n  [ 6.10838477e-07]\n  [-5.33904684e-03]\n  [-5.33904684e-03]\n  [            nan]\n  [            nan]\n  [            nan]\n  [-1.64060003e-01]\n  [-1.69629362e-01]]] \n\nX_test sample values:\n[[[-1.58241121e-01]\n  [-1.57257974e-01]\n  [-1.54791678e-01]\n  [-1.56618846e-01]\n  [-7.07131795e-05]\n  [-1.67583764e-01]\n  [-6.55357143e-04]\n  [-1.14337762e-01]\n  [ 2.31482105e-01]\n  [-1.56619341e-01]\n  [ 1.89967568e-06]\n  [-5.19154185e-03]\n  [-5.19154185e-03]\n  [-1.67583764e-01]\n  [-1.68896087e-01]\n  [-1.65389557e-01]\n  [-1.64067916e-01]\n  [-1.69639381e-01]]\n\n [[-1.58240488e-01]\n  [-1.57256790e-01]\n  [-1.54790675e-01]\n  [-1.56617898e-01]\n  [-7.07081666e-05]\n  [-1.67583333e-01]\n  [-6.54758325e-04]\n  [-1.14337470e-01]\n  [ 2.31482182e-01]\n  [-1.56618846e-01]\n  [ 2.14912804e-06]\n  [-5.18295894e-03]\n  [-5.18295894e-03]\n  [-1.67583333e-01]\n  [-1.68895618e-01]\n  [-1.65389166e-01]\n  [-1.64067350e-01]\n  [-1.69638938e-01]]\n\n [[-1.58239479e-01]\n  [-1.57257281e-01]\n  [-1.54790514e-01]\n  [-1.56618400e-01]\n  [-7.07116363e-05]\n  [-1.67582939e-01]\n  [-6.54652721e-04]\n  [-1.14337283e-01]\n  [ 2.31482337e-01]\n  [-1.56617898e-01]\n  [ 1.31442206e-06]\n  [-5.18429247e-03]\n  [-5.18429247e-03]\n  [-1.67582939e-01]\n  [-1.68895236e-01]\n  [-1.65388759e-01]\n  [-1.64067000e-01]\n  [-1.69638583e-01]]]\n"
    }
   ],
   "source": [
    "# Reshape the features data\n",
    "X_train = X_train.reshape((X_train.shape[0], X_train.shape[1], 1))\n",
    "X_test = X_test.reshape((X_test.shape[0], X_test.shape[1], 1))\n",
    "\n",
    "# Print some sample data after reshaping the datasets\n",
    "print (f\"X_train sample values:\\n{X_train[:3]} \\n\")\n",
    "print (f\"X_test sample values:\\n{X_test[:3]}\")"
   ]
  },
  {
   "cell_type": "code",
   "execution_count": 53,
   "metadata": {},
   "outputs": [],
   "source": [
    "# Importing required Keras modules\n",
    "from tensorflow.keras.models import Sequential\n",
    "from tensorflow.keras.layers import LSTM, Dense, Dropout"
   ]
  },
  {
   "cell_type": "code",
   "execution_count": 55,
   "metadata": {},
   "outputs": [],
   "source": [
    "# Define the LSTM RNN model.\n",
    "model = Sequential()\n",
    "\n",
    "# Initial model setup\n",
    "number_units = 30\n",
    "dropout_fraction = 0.2\n",
    "\n",
    "# Layer 1\n",
    "model.add(LSTM(\n",
    "    units=number_units,\n",
    "    return_sequences=True,\n",
    "    input_shape=(X_train.shape[1], 1))\n",
    "    )\n",
    "model.add(Dropout(dropout_fraction))\n",
    "\n",
    "# Layer 2\n",
    "model.add(LSTM(units=number_units, return_sequences=True))\n",
    "model.add(Dropout(dropout_fraction))\n",
    "\n",
    "# Layer 3\n",
    "model.add(LSTM(units=number_units))\n",
    "model.add(Dropout(dropout_fraction))\n",
    "\n",
    "# Output layer\n",
    "model.add(Dense(1))"
   ]
  },
  {
   "cell_type": "code",
   "execution_count": 57,
   "metadata": {},
   "outputs": [],
   "source": [
    "# Compile the model\n",
    "model.compile(optimizer=\"adam\", loss=\"mean_squared_error\")"
   ]
  },
  {
   "cell_type": "code",
   "execution_count": 59,
   "metadata": {
    "tags": []
   },
   "outputs": [
    {
     "output_type": "stream",
     "name": "stdout",
     "text": "Model: \"sequential_2\"\n_________________________________________________________________\nLayer (type)                 Output Shape              Param #   \n=================================================================\nlstm_6 (LSTM)                (None, 18, 30)            3840      \n_________________________________________________________________\ndropout_6 (Dropout)          (None, 18, 30)            0         \n_________________________________________________________________\nlstm_7 (LSTM)                (None, 18, 30)            7320      \n_________________________________________________________________\ndropout_7 (Dropout)          (None, 18, 30)            0         \n_________________________________________________________________\nlstm_8 (LSTM)                (None, 30)                7320      \n_________________________________________________________________\ndropout_8 (Dropout)          (None, 30)                0         \n_________________________________________________________________\ndense_2 (Dense)              (None, 1)                 31        \n=================================================================\nTotal params: 18,511\nTrainable params: 18,511\nNon-trainable params: 0\n_________________________________________________________________\n"
    }
   ],
   "source": [
    "# Show the model summary\n",
    "model.summary()"
   ]
  },
  {
   "cell_type": "code",
   "execution_count": 60,
   "metadata": {
    "tags": []
   },
   "outputs": [
    {
     "output_type": "stream",
     "name": "stdout",
     "text": "71/71 [==============================] - 4s 59ms/step - loss: nan\n"
    },
    {
     "output_type": "execute_result",
     "data": {
      "text/plain": "<tensorflow.python.keras.callbacks.History at 0x14aa59310>"
     },
     "metadata": {},
     "execution_count": 60
    }
   ],
   "source": [
    "# Train the model\n",
    "model.fit(X_train, y_train, epochs=1, shuffle=False, batch_size=90, verbose=1)"
   ]
  },
  {
   "cell_type": "code",
   "execution_count": 61,
   "metadata": {},
   "outputs": [
    {
     "output_type": "execute_result",
     "data": {
      "text/plain": "nan"
     },
     "metadata": {},
     "execution_count": 61
    }
   ],
   "source": [
    "# Evaluate the model\n",
    "model.evaluate(X_test, y_test, verbose=0)"
   ]
  },
  {
   "cell_type": "code",
   "execution_count": 62,
   "metadata": {},
   "outputs": [],
   "source": [
    "# Make predictions using the testing data X_test\n",
    "predicted = model.predict(X_test)"
   ]
  },
  {
   "cell_type": "code",
   "execution_count": 63,
   "metadata": {},
   "outputs": [],
   "source": [
    "# Recover the original prices instead of the scaled version\n",
    "predicted_prices = scaler.inverse_transform(predicted)\n",
    "real_prices = scaler.inverse_transform(y_test.reshape(-1, 1))"
   ]
  },
  {
   "cell_type": "code",
   "execution_count": 64,
   "metadata": {},
   "outputs": [
    {
     "output_type": "execute_result",
     "data": {
      "text/plain": "              Actual  Predicted\n2020-09-14  0.030065        NaN\n2020-09-14  0.030927        NaN\n2020-09-14  0.031617        NaN\n2020-09-14  0.032234        NaN\n2020-09-14  0.032917        NaN",
      "text/html": "<div>\n<style scoped>\n    .dataframe tbody tr th:only-of-type {\n        vertical-align: middle;\n    }\n\n    .dataframe tbody tr th {\n        vertical-align: top;\n    }\n\n    .dataframe thead th {\n        text-align: right;\n    }\n</style>\n<table border=\"1\" class=\"dataframe\">\n  <thead>\n    <tr style=\"text-align: right;\">\n      <th></th>\n      <th>Actual</th>\n      <th>Predicted</th>\n    </tr>\n  </thead>\n  <tbody>\n    <tr>\n      <th>2020-09-14</th>\n      <td>0.030065</td>\n      <td>NaN</td>\n    </tr>\n    <tr>\n      <th>2020-09-14</th>\n      <td>0.030927</td>\n      <td>NaN</td>\n    </tr>\n    <tr>\n      <th>2020-09-14</th>\n      <td>0.031617</td>\n      <td>NaN</td>\n    </tr>\n    <tr>\n      <th>2020-09-14</th>\n      <td>0.032234</td>\n      <td>NaN</td>\n    </tr>\n    <tr>\n      <th>2020-09-14</th>\n      <td>0.032917</td>\n      <td>NaN</td>\n    </tr>\n  </tbody>\n</table>\n</div>"
     },
     "metadata": {},
     "execution_count": 64
    }
   ],
   "source": [
    "# Create a DataFrame of Real and Predicted values\n",
    "stocks = pd.DataFrame({\n",
    "    \"Actual\": real_prices.ravel(),\n",
    "    \"Predicted\": predicted_prices.ravel()\n",
    "}, index = final_df.index[-len(real_prices): ]) \n",
    "\n",
    "# Show the DataFrame's head\n",
    "stocks.head()"
   ]
  },
  {
   "cell_type": "code",
   "execution_count": 65,
   "metadata": {},
   "outputs": [
    {
     "output_type": "execute_result",
     "data": {
      "text/plain": "<matplotlib.axes._subplots.AxesSubplot at 0x14b78a460>"
     },
     "metadata": {},
     "execution_count": 65
    },
    {
     "output_type": "display_data",
     "data": {
      "text/plain": "<Figure size 432x288 with 1 Axes>",
      "image/svg+xml": "<?xml version=\"1.0\" encoding=\"utf-8\" standalone=\"no\"?>\n<!DOCTYPE svg PUBLIC \"-//W3C//DTD SVG 1.1//EN\"\n  \"http://www.w3.org/Graphics/SVG/1.1/DTD/svg11.dtd\">\n<!-- Created with matplotlib (https://matplotlib.org/) -->\n<svg height=\"263.63625pt\" version=\"1.1\" viewBox=\"0 0 401.485937 263.63625\" width=\"401.485937pt\" xmlns=\"http://www.w3.org/2000/svg\" xmlns:xlink=\"http://www.w3.org/1999/xlink\">\n <defs>\n  <style type=\"text/css\">\n*{stroke-linecap:butt;stroke-linejoin:round;}\n  </style>\n </defs>\n <g id=\"figure_1\">\n  <g id=\"patch_1\">\n   <path d=\"M 0 263.63625 \nL 401.485937 263.63625 \nL 401.485937 0 \nL 0 0 \nz\n\" style=\"fill:none;\"/>\n  </g>\n  <g id=\"axes_1\">\n   <g id=\"patch_2\">\n    <path d=\"M 42.828125 239.758125 \nL 377.628125 239.758125 \nL 377.628125 22.318125 \nL 42.828125 22.318125 \nz\n\" style=\"fill:#ffffff;\"/>\n   </g>\n   <g id=\"matplotlib.axis_1\">\n    <g id=\"xtick_1\">\n     <g id=\"line2d_1\">\n      <defs>\n       <path d=\"M 0 0 \nL 0 3.5 \n\" id=\"md6a8f8c016\" style=\"stroke:#000000;stroke-width:0.8;\"/>\n      </defs>\n      <g>\n       <use style=\"stroke:#000000;stroke-width:0.8;\" x=\"60.864489\" xlink:href=\"#md6a8f8c016\" y=\"239.758125\"/>\n      </g>\n     </g>\n     <g id=\"text_1\">\n      <!-- 2020-09-15 -->\n      <defs>\n       <path d=\"M 19.1875 8.296875 \nL 53.609375 8.296875 \nL 53.609375 0 \nL 7.328125 0 \nL 7.328125 8.296875 \nQ 12.9375 14.109375 22.625 23.890625 \nQ 32.328125 33.6875 34.8125 36.53125 \nQ 39.546875 41.84375 41.421875 45.53125 \nQ 43.3125 49.21875 43.3125 52.78125 \nQ 43.3125 58.59375 39.234375 62.25 \nQ 35.15625 65.921875 28.609375 65.921875 \nQ 23.96875 65.921875 18.8125 64.3125 \nQ 13.671875 62.703125 7.8125 59.421875 \nL 7.8125 69.390625 \nQ 13.765625 71.78125 18.9375 73 \nQ 24.125 74.21875 28.421875 74.21875 \nQ 39.75 74.21875 46.484375 68.546875 \nQ 53.21875 62.890625 53.21875 53.421875 \nQ 53.21875 48.921875 51.53125 44.890625 \nQ 49.859375 40.875 45.40625 35.40625 \nQ 44.1875 33.984375 37.640625 27.21875 \nQ 31.109375 20.453125 19.1875 8.296875 \nz\n\" id=\"DejaVuSans-50\"/>\n       <path d=\"M 31.78125 66.40625 \nQ 24.171875 66.40625 20.328125 58.90625 \nQ 16.5 51.421875 16.5 36.375 \nQ 16.5 21.390625 20.328125 13.890625 \nQ 24.171875 6.390625 31.78125 6.390625 \nQ 39.453125 6.390625 43.28125 13.890625 \nQ 47.125 21.390625 47.125 36.375 \nQ 47.125 51.421875 43.28125 58.90625 \nQ 39.453125 66.40625 31.78125 66.40625 \nz\nM 31.78125 74.21875 \nQ 44.046875 74.21875 50.515625 64.515625 \nQ 56.984375 54.828125 56.984375 36.375 \nQ 56.984375 17.96875 50.515625 8.265625 \nQ 44.046875 -1.421875 31.78125 -1.421875 \nQ 19.53125 -1.421875 13.0625 8.265625 \nQ 6.59375 17.96875 6.59375 36.375 \nQ 6.59375 54.828125 13.0625 64.515625 \nQ 19.53125 74.21875 31.78125 74.21875 \nz\n\" id=\"DejaVuSans-48\"/>\n       <path d=\"M 4.890625 31.390625 \nL 31.203125 31.390625 \nL 31.203125 23.390625 \nL 4.890625 23.390625 \nz\n\" id=\"DejaVuSans-45\"/>\n       <path d=\"M 10.984375 1.515625 \nL 10.984375 10.5 \nQ 14.703125 8.734375 18.5 7.8125 \nQ 22.3125 6.890625 25.984375 6.890625 \nQ 35.75 6.890625 40.890625 13.453125 \nQ 46.046875 20.015625 46.78125 33.40625 \nQ 43.953125 29.203125 39.59375 26.953125 \nQ 35.25 24.703125 29.984375 24.703125 \nQ 19.046875 24.703125 12.671875 31.3125 \nQ 6.296875 37.9375 6.296875 49.421875 \nQ 6.296875 60.640625 12.9375 67.421875 \nQ 19.578125 74.21875 30.609375 74.21875 \nQ 43.265625 74.21875 49.921875 64.515625 \nQ 56.59375 54.828125 56.59375 36.375 \nQ 56.59375 19.140625 48.40625 8.859375 \nQ 40.234375 -1.421875 26.421875 -1.421875 \nQ 22.703125 -1.421875 18.890625 -0.6875 \nQ 15.09375 0.046875 10.984375 1.515625 \nz\nM 30.609375 32.421875 \nQ 37.25 32.421875 41.125 36.953125 \nQ 45.015625 41.5 45.015625 49.421875 \nQ 45.015625 57.28125 41.125 61.84375 \nQ 37.25 66.40625 30.609375 66.40625 \nQ 23.96875 66.40625 20.09375 61.84375 \nQ 16.21875 57.28125 16.21875 49.421875 \nQ 16.21875 41.5 20.09375 36.953125 \nQ 23.96875 32.421875 30.609375 32.421875 \nz\n\" id=\"DejaVuSans-57\"/>\n       <path d=\"M 12.40625 8.296875 \nL 28.515625 8.296875 \nL 28.515625 63.921875 \nL 10.984375 60.40625 \nL 10.984375 69.390625 \nL 28.421875 72.90625 \nL 38.28125 72.90625 \nL 38.28125 8.296875 \nL 54.390625 8.296875 \nL 54.390625 0 \nL 12.40625 0 \nz\n\" id=\"DejaVuSans-49\"/>\n       <path d=\"M 10.796875 72.90625 \nL 49.515625 72.90625 \nL 49.515625 64.59375 \nL 19.828125 64.59375 \nL 19.828125 46.734375 \nQ 21.96875 47.46875 24.109375 47.828125 \nQ 26.265625 48.1875 28.421875 48.1875 \nQ 40.625 48.1875 47.75 41.5 \nQ 54.890625 34.8125 54.890625 23.390625 \nQ 54.890625 11.625 47.5625 5.09375 \nQ 40.234375 -1.421875 26.90625 -1.421875 \nQ 22.3125 -1.421875 17.546875 -0.640625 \nQ 12.796875 0.140625 7.71875 1.703125 \nL 7.71875 11.625 \nQ 12.109375 9.234375 16.796875 8.0625 \nQ 21.484375 6.890625 26.703125 6.890625 \nQ 35.15625 6.890625 40.078125 11.328125 \nQ 45.015625 15.765625 45.015625 23.390625 \nQ 45.015625 31 40.078125 35.4375 \nQ 35.15625 39.890625 26.703125 39.890625 \nQ 22.75 39.890625 18.8125 39.015625 \nQ 14.890625 38.140625 10.796875 36.28125 \nz\n\" id=\"DejaVuSans-53\"/>\n      </defs>\n      <g transform=\"translate(31.806676 254.356563)scale(0.1 -0.1)\">\n       <use xlink:href=\"#DejaVuSans-50\"/>\n       <use x=\"63.623047\" xlink:href=\"#DejaVuSans-48\"/>\n       <use x=\"127.246094\" xlink:href=\"#DejaVuSans-50\"/>\n       <use x=\"190.869141\" xlink:href=\"#DejaVuSans-48\"/>\n       <use x=\"254.492188\" xlink:href=\"#DejaVuSans-45\"/>\n       <use x=\"290.576172\" xlink:href=\"#DejaVuSans-48\"/>\n       <use x=\"354.199219\" xlink:href=\"#DejaVuSans-57\"/>\n       <use x=\"417.822266\" xlink:href=\"#DejaVuSans-45\"/>\n       <use x=\"453.90625\" xlink:href=\"#DejaVuSans-49\"/>\n       <use x=\"517.529297\" xlink:href=\"#DejaVuSans-53\"/>\n      </g>\n     </g>\n    </g>\n    <g id=\"xtick_2\">\n     <g id=\"line2d_2\">\n      <g>\n       <use style=\"stroke:#000000;stroke-width:0.8;\" x=\"105.955398\" xlink:href=\"#md6a8f8c016\" y=\"239.758125\"/>\n      </g>\n     </g>\n     <g id=\"text_2\">\n      <!-- 2020-10-01 -->\n      <g transform=\"translate(76.897585 254.356563)scale(0.1 -0.1)\">\n       <use xlink:href=\"#DejaVuSans-50\"/>\n       <use x=\"63.623047\" xlink:href=\"#DejaVuSans-48\"/>\n       <use x=\"127.246094\" xlink:href=\"#DejaVuSans-50\"/>\n       <use x=\"190.869141\" xlink:href=\"#DejaVuSans-48\"/>\n       <use x=\"254.492188\" xlink:href=\"#DejaVuSans-45\"/>\n       <use x=\"290.576172\" xlink:href=\"#DejaVuSans-49\"/>\n       <use x=\"354.199219\" xlink:href=\"#DejaVuSans-48\"/>\n       <use x=\"417.822266\" xlink:href=\"#DejaVuSans-45\"/>\n       <use x=\"453.90625\" xlink:href=\"#DejaVuSans-48\"/>\n       <use x=\"517.529297\" xlink:href=\"#DejaVuSans-49\"/>\n      </g>\n     </g>\n    </g>\n    <g id=\"xtick_3\">\n     <g id=\"line2d_3\">\n      <g>\n       <use style=\"stroke:#000000;stroke-width:0.8;\" x=\"145.409943\" xlink:href=\"#md6a8f8c016\" y=\"239.758125\"/>\n      </g>\n     </g>\n     <g id=\"text_3\">\n      <!-- 2020-10-15 -->\n      <g transform=\"translate(116.352131 254.356563)scale(0.1 -0.1)\">\n       <use xlink:href=\"#DejaVuSans-50\"/>\n       <use x=\"63.623047\" xlink:href=\"#DejaVuSans-48\"/>\n       <use x=\"127.246094\" xlink:href=\"#DejaVuSans-50\"/>\n       <use x=\"190.869141\" xlink:href=\"#DejaVuSans-48\"/>\n       <use x=\"254.492188\" xlink:href=\"#DejaVuSans-45\"/>\n       <use x=\"290.576172\" xlink:href=\"#DejaVuSans-49\"/>\n       <use x=\"354.199219\" xlink:href=\"#DejaVuSans-48\"/>\n       <use x=\"417.822266\" xlink:href=\"#DejaVuSans-45\"/>\n       <use x=\"453.90625\" xlink:href=\"#DejaVuSans-49\"/>\n       <use x=\"517.529297\" xlink:href=\"#DejaVuSans-53\"/>\n      </g>\n     </g>\n    </g>\n    <g id=\"xtick_4\">\n     <g id=\"line2d_4\">\n      <g>\n       <use style=\"stroke:#000000;stroke-width:0.8;\" x=\"193.319034\" xlink:href=\"#md6a8f8c016\" y=\"239.758125\"/>\n      </g>\n     </g>\n     <g id=\"text_4\">\n      <!-- 2020-11-01 -->\n      <g transform=\"translate(164.261222 254.356563)scale(0.1 -0.1)\">\n       <use xlink:href=\"#DejaVuSans-50\"/>\n       <use x=\"63.623047\" xlink:href=\"#DejaVuSans-48\"/>\n       <use x=\"127.246094\" xlink:href=\"#DejaVuSans-50\"/>\n       <use x=\"190.869141\" xlink:href=\"#DejaVuSans-48\"/>\n       <use x=\"254.492188\" xlink:href=\"#DejaVuSans-45\"/>\n       <use x=\"290.576172\" xlink:href=\"#DejaVuSans-49\"/>\n       <use x=\"354.199219\" xlink:href=\"#DejaVuSans-49\"/>\n       <use x=\"417.822266\" xlink:href=\"#DejaVuSans-45\"/>\n       <use x=\"453.90625\" xlink:href=\"#DejaVuSans-48\"/>\n       <use x=\"517.529297\" xlink:href=\"#DejaVuSans-49\"/>\n      </g>\n     </g>\n    </g>\n    <g id=\"xtick_5\">\n     <g id=\"line2d_5\">\n      <g>\n       <use style=\"stroke:#000000;stroke-width:0.8;\" x=\"232.77358\" xlink:href=\"#md6a8f8c016\" y=\"239.758125\"/>\n      </g>\n     </g>\n     <g id=\"text_5\">\n      <!-- 2020-11-15 -->\n      <g transform=\"translate(203.715767 254.356563)scale(0.1 -0.1)\">\n       <use xlink:href=\"#DejaVuSans-50\"/>\n       <use x=\"63.623047\" xlink:href=\"#DejaVuSans-48\"/>\n       <use x=\"127.246094\" xlink:href=\"#DejaVuSans-50\"/>\n       <use x=\"190.869141\" xlink:href=\"#DejaVuSans-48\"/>\n       <use x=\"254.492188\" xlink:href=\"#DejaVuSans-45\"/>\n       <use x=\"290.576172\" xlink:href=\"#DejaVuSans-49\"/>\n       <use x=\"354.199219\" xlink:href=\"#DejaVuSans-49\"/>\n       <use x=\"417.822266\" xlink:href=\"#DejaVuSans-45\"/>\n       <use x=\"453.90625\" xlink:href=\"#DejaVuSans-49\"/>\n       <use x=\"517.529297\" xlink:href=\"#DejaVuSans-53\"/>\n      </g>\n     </g>\n    </g>\n    <g id=\"xtick_6\">\n     <g id=\"line2d_6\">\n      <g>\n       <use style=\"stroke:#000000;stroke-width:0.8;\" x=\"277.864489\" xlink:href=\"#md6a8f8c016\" y=\"239.758125\"/>\n      </g>\n     </g>\n     <g id=\"text_6\">\n      <!-- 2020-12-01 -->\n      <g transform=\"translate(248.806676 254.356563)scale(0.1 -0.1)\">\n       <use xlink:href=\"#DejaVuSans-50\"/>\n       <use x=\"63.623047\" xlink:href=\"#DejaVuSans-48\"/>\n       <use x=\"127.246094\" xlink:href=\"#DejaVuSans-50\"/>\n       <use x=\"190.869141\" xlink:href=\"#DejaVuSans-48\"/>\n       <use x=\"254.492188\" xlink:href=\"#DejaVuSans-45\"/>\n       <use x=\"290.576172\" xlink:href=\"#DejaVuSans-49\"/>\n       <use x=\"354.199219\" xlink:href=\"#DejaVuSans-50\"/>\n       <use x=\"417.822266\" xlink:href=\"#DejaVuSans-45\"/>\n       <use x=\"453.90625\" xlink:href=\"#DejaVuSans-48\"/>\n       <use x=\"517.529297\" xlink:href=\"#DejaVuSans-49\"/>\n      </g>\n     </g>\n    </g>\n    <g id=\"xtick_7\">\n     <g id=\"line2d_7\">\n      <g>\n       <use style=\"stroke:#000000;stroke-width:0.8;\" x=\"317.319034\" xlink:href=\"#md6a8f8c016\" y=\"239.758125\"/>\n      </g>\n     </g>\n     <g id=\"text_7\">\n      <!-- 2020-12-15 -->\n      <g transform=\"translate(288.261222 254.356563)scale(0.1 -0.1)\">\n       <use xlink:href=\"#DejaVuSans-50\"/>\n       <use x=\"63.623047\" xlink:href=\"#DejaVuSans-48\"/>\n       <use x=\"127.246094\" xlink:href=\"#DejaVuSans-50\"/>\n       <use x=\"190.869141\" xlink:href=\"#DejaVuSans-48\"/>\n       <use x=\"254.492188\" xlink:href=\"#DejaVuSans-45\"/>\n       <use x=\"290.576172\" xlink:href=\"#DejaVuSans-49\"/>\n       <use x=\"354.199219\" xlink:href=\"#DejaVuSans-50\"/>\n       <use x=\"417.822266\" xlink:href=\"#DejaVuSans-45\"/>\n       <use x=\"453.90625\" xlink:href=\"#DejaVuSans-49\"/>\n       <use x=\"517.529297\" xlink:href=\"#DejaVuSans-53\"/>\n      </g>\n     </g>\n    </g>\n    <g id=\"xtick_8\">\n     <g id=\"line2d_8\">\n      <g>\n       <use style=\"stroke:#000000;stroke-width:0.8;\" x=\"365.228125\" xlink:href=\"#md6a8f8c016\" y=\"239.758125\"/>\n      </g>\n     </g>\n     <g id=\"text_8\">\n      <!-- 2021-01-01 -->\n      <g transform=\"translate(336.170312 254.356563)scale(0.1 -0.1)\">\n       <use xlink:href=\"#DejaVuSans-50\"/>\n       <use x=\"63.623047\" xlink:href=\"#DejaVuSans-48\"/>\n       <use x=\"127.246094\" xlink:href=\"#DejaVuSans-50\"/>\n       <use x=\"190.869141\" xlink:href=\"#DejaVuSans-49\"/>\n       <use x=\"254.492188\" xlink:href=\"#DejaVuSans-45\"/>\n       <use x=\"290.576172\" xlink:href=\"#DejaVuSans-48\"/>\n       <use x=\"354.199219\" xlink:href=\"#DejaVuSans-49\"/>\n       <use x=\"417.822266\" xlink:href=\"#DejaVuSans-45\"/>\n       <use x=\"453.90625\" xlink:href=\"#DejaVuSans-48\"/>\n       <use x=\"517.529297\" xlink:href=\"#DejaVuSans-49\"/>\n      </g>\n     </g>\n    </g>\n   </g>\n   <g id=\"matplotlib.axis_2\">\n    <g id=\"ytick_1\">\n     <g id=\"line2d_9\">\n      <defs>\n       <path d=\"M 0 0 \nL -3.5 0 \n\" id=\"m8b102bbfb5\" style=\"stroke:#000000;stroke-width:0.8;\"/>\n      </defs>\n      <g>\n       <use style=\"stroke:#000000;stroke-width:0.8;\" x=\"42.828125\" xlink:href=\"#m8b102bbfb5\" y=\"224.642574\"/>\n      </g>\n     </g>\n     <g id=\"text_9\">\n      <!-- 0.025 -->\n      <defs>\n       <path d=\"M 10.6875 12.40625 \nL 21 12.40625 \nL 21 0 \nL 10.6875 0 \nz\n\" id=\"DejaVuSans-46\"/>\n      </defs>\n      <g transform=\"translate(7.2 228.441793)scale(0.1 -0.1)\">\n       <use xlink:href=\"#DejaVuSans-48\"/>\n       <use x=\"63.623047\" xlink:href=\"#DejaVuSans-46\"/>\n       <use x=\"95.410156\" xlink:href=\"#DejaVuSans-48\"/>\n       <use x=\"159.033203\" xlink:href=\"#DejaVuSans-50\"/>\n       <use x=\"222.65625\" xlink:href=\"#DejaVuSans-53\"/>\n      </g>\n     </g>\n    </g>\n    <g id=\"ytick_2\">\n     <g id=\"line2d_10\">\n      <g>\n       <use style=\"stroke:#000000;stroke-width:0.8;\" x=\"42.828125\" xlink:href=\"#m8b102bbfb5\" y=\"196.413636\"/>\n      </g>\n     </g>\n     <g id=\"text_10\">\n      <!-- 0.050 -->\n      <g transform=\"translate(7.2 200.212855)scale(0.1 -0.1)\">\n       <use xlink:href=\"#DejaVuSans-48\"/>\n       <use x=\"63.623047\" xlink:href=\"#DejaVuSans-46\"/>\n       <use x=\"95.410156\" xlink:href=\"#DejaVuSans-48\"/>\n       <use x=\"159.033203\" xlink:href=\"#DejaVuSans-53\"/>\n       <use x=\"222.65625\" xlink:href=\"#DejaVuSans-48\"/>\n      </g>\n     </g>\n    </g>\n    <g id=\"ytick_3\">\n     <g id=\"line2d_11\">\n      <g>\n       <use style=\"stroke:#000000;stroke-width:0.8;\" x=\"42.828125\" xlink:href=\"#m8b102bbfb5\" y=\"168.184698\"/>\n      </g>\n     </g>\n     <g id=\"text_11\">\n      <!-- 0.075 -->\n      <defs>\n       <path d=\"M 8.203125 72.90625 \nL 55.078125 72.90625 \nL 55.078125 68.703125 \nL 28.609375 0 \nL 18.3125 0 \nL 43.21875 64.59375 \nL 8.203125 64.59375 \nz\n\" id=\"DejaVuSans-55\"/>\n      </defs>\n      <g transform=\"translate(7.2 171.983917)scale(0.1 -0.1)\">\n       <use xlink:href=\"#DejaVuSans-48\"/>\n       <use x=\"63.623047\" xlink:href=\"#DejaVuSans-46\"/>\n       <use x=\"95.410156\" xlink:href=\"#DejaVuSans-48\"/>\n       <use x=\"159.033203\" xlink:href=\"#DejaVuSans-55\"/>\n       <use x=\"222.65625\" xlink:href=\"#DejaVuSans-53\"/>\n      </g>\n     </g>\n    </g>\n    <g id=\"ytick_4\">\n     <g id=\"line2d_12\">\n      <g>\n       <use style=\"stroke:#000000;stroke-width:0.8;\" x=\"42.828125\" xlink:href=\"#m8b102bbfb5\" y=\"139.95576\"/>\n      </g>\n     </g>\n     <g id=\"text_12\">\n      <!-- 0.100 -->\n      <g transform=\"translate(7.2 143.754978)scale(0.1 -0.1)\">\n       <use xlink:href=\"#DejaVuSans-48\"/>\n       <use x=\"63.623047\" xlink:href=\"#DejaVuSans-46\"/>\n       <use x=\"95.410156\" xlink:href=\"#DejaVuSans-49\"/>\n       <use x=\"159.033203\" xlink:href=\"#DejaVuSans-48\"/>\n       <use x=\"222.65625\" xlink:href=\"#DejaVuSans-48\"/>\n      </g>\n     </g>\n    </g>\n    <g id=\"ytick_5\">\n     <g id=\"line2d_13\">\n      <g>\n       <use style=\"stroke:#000000;stroke-width:0.8;\" x=\"42.828125\" xlink:href=\"#m8b102bbfb5\" y=\"111.726822\"/>\n      </g>\n     </g>\n     <g id=\"text_13\">\n      <!-- 0.125 -->\n      <g transform=\"translate(7.2 115.52604)scale(0.1 -0.1)\">\n       <use xlink:href=\"#DejaVuSans-48\"/>\n       <use x=\"63.623047\" xlink:href=\"#DejaVuSans-46\"/>\n       <use x=\"95.410156\" xlink:href=\"#DejaVuSans-49\"/>\n       <use x=\"159.033203\" xlink:href=\"#DejaVuSans-50\"/>\n       <use x=\"222.65625\" xlink:href=\"#DejaVuSans-53\"/>\n      </g>\n     </g>\n    </g>\n    <g id=\"ytick_6\">\n     <g id=\"line2d_14\">\n      <g>\n       <use style=\"stroke:#000000;stroke-width:0.8;\" x=\"42.828125\" xlink:href=\"#m8b102bbfb5\" y=\"83.497884\"/>\n      </g>\n     </g>\n     <g id=\"text_14\">\n      <!-- 0.150 -->\n      <g transform=\"translate(7.2 87.297102)scale(0.1 -0.1)\">\n       <use xlink:href=\"#DejaVuSans-48\"/>\n       <use x=\"63.623047\" xlink:href=\"#DejaVuSans-46\"/>\n       <use x=\"95.410156\" xlink:href=\"#DejaVuSans-49\"/>\n       <use x=\"159.033203\" xlink:href=\"#DejaVuSans-53\"/>\n       <use x=\"222.65625\" xlink:href=\"#DejaVuSans-48\"/>\n      </g>\n     </g>\n    </g>\n    <g id=\"ytick_7\">\n     <g id=\"line2d_15\">\n      <g>\n       <use style=\"stroke:#000000;stroke-width:0.8;\" x=\"42.828125\" xlink:href=\"#m8b102bbfb5\" y=\"55.268945\"/>\n      </g>\n     </g>\n     <g id=\"text_15\">\n      <!-- 0.175 -->\n      <g transform=\"translate(7.2 59.068164)scale(0.1 -0.1)\">\n       <use xlink:href=\"#DejaVuSans-48\"/>\n       <use x=\"63.623047\" xlink:href=\"#DejaVuSans-46\"/>\n       <use x=\"95.410156\" xlink:href=\"#DejaVuSans-49\"/>\n       <use x=\"159.033203\" xlink:href=\"#DejaVuSans-55\"/>\n       <use x=\"222.65625\" xlink:href=\"#DejaVuSans-53\"/>\n      </g>\n     </g>\n    </g>\n    <g id=\"ytick_8\">\n     <g id=\"line2d_16\">\n      <g>\n       <use style=\"stroke:#000000;stroke-width:0.8;\" x=\"42.828125\" xlink:href=\"#m8b102bbfb5\" y=\"27.040007\"/>\n      </g>\n     </g>\n     <g id=\"text_16\">\n      <!-- 0.200 -->\n      <g transform=\"translate(7.2 30.839226)scale(0.1 -0.1)\">\n       <use xlink:href=\"#DejaVuSans-48\"/>\n       <use x=\"63.623047\" xlink:href=\"#DejaVuSans-46\"/>\n       <use x=\"95.410156\" xlink:href=\"#DejaVuSans-50\"/>\n       <use x=\"159.033203\" xlink:href=\"#DejaVuSans-48\"/>\n       <use x=\"222.65625\" xlink:href=\"#DejaVuSans-48\"/>\n      </g>\n     </g>\n    </g>\n   </g>\n   <g id=\"line2d_17\">\n    <path clip-path=\"url(#p8f1d35b00b)\" d=\"M 58.046307 218.923748 \nL 58.046307 205.431022 \nL 60.864489 204.101174 \nL 60.864489 183.6863 \nL 60.864489 183.872099 \nL 63.68267 183.993521 \nL 63.68267 186.794988 \nL 63.68267 186.396816 \nL 66.500852 187.143473 \nL 66.500852 198.175491 \nL 69.319034 197.293659 \nL 69.319034 188.328564 \nL 77.77358 187.920333 \nL 77.77358 184.779731 \nL 77.77358 192.361514 \nL 80.591761 192.482561 \nL 80.591761 197.880108 \nL 83.409943 199.24327 \nL 83.409943 226.178702 \nL 86.228125 226.55742 \nL 86.228125 229.874489 \nL 86.228125 217.888288 \nL 89.046307 217.97646 \nL 89.046307 217.950611 \nL 89.046307 209.569331 \nL 97.500852 208.493786 \nL 97.500852 200.792704 \nL 97.500852 200.887366 \nL 100.319034 200.984675 \nL 100.319034 202.525393 \nL 100.319034 198.91404 \nL 100.319034 199.897553 \nL 103.137216 199.8595 \nL 103.137216 195.699579 \nL 105.955398 195.05602 \nL 105.955398 186.628207 \nL 105.955398 186.64206 \nL 108.77358 187.319991 \nL 108.77358 201.463626 \nL 117.228125 201.241042 \nL 117.228125 198.368597 \nL 117.228125 198.401774 \nL 120.046307 198.258453 \nL 120.046307 198.085972 \nL 120.046307 203.084483 \nL 122.864489 202.969919 \nL 122.864489 197.753249 \nL 125.68267 197.175726 \nL 125.68267 193.282738 \nL 125.68267 194.806248 \nL 128.500852 194.648209 \nL 128.500852 194.650919 \nL 128.500852 193.325349 \nL 136.955398 192.912402 \nL 136.955398 187.005394 \nL 136.955398 187.146924 \nL 139.77358 186.920117 \nL 139.77358 187.477207 \nL 139.77358 185.781969 \nL 142.591761 185.560399 \nL 142.591761 177.030473 \nL 145.409943 177.541706 \nL 145.409943 184.563737 \nL 145.409943 184.336731 \nL 148.228125 184.055545 \nL 148.228125 182.813572 \nL 148.228125 186.374408 \nL 156.68267 186.175814 \nL 156.68267 186.365675 \nL 156.68267 191.331141 \nL 159.500852 191.473165 \nL 159.500852 198.280614 \nL 162.319034 198.50322 \nL 162.319034 198.327633 \nL 162.319034 194.338828 \nL 165.137216 193.727166 \nL 165.137216 191.555005 \nL 165.137216 194.840382 \nL 167.955398 195.112275 \nL 167.955398 202.673485 \nL 167.955398 201.960239 \nL 176.409943 202.194281 \nL 176.409943 203.284009 \nL 176.409943 201.675759 \nL 176.409943 202.351592 \nL 179.228125 201.994466 \nL 179.228125 198.684856 \nL 182.046307 198.953375 \nL 182.046307 206.559242 \nL 184.864489 206.79468 \nL 184.864489 206.829297 \nL 184.864489 204.71815 \nL 184.864489 205.420846 \nL 187.68267 205.661295 \nL 187.68267 218.571822 \nL 196.137216 218.36733 \nL 196.137216 213.701064 \nL 198.955398 213.310964 \nL 198.955398 199.777061 \nL 201.77358 198.961737 \nL 201.77358 197.410082 \nL 201.77358 199.631812 \nL 201.77358 199.521822 \nL 204.591761 199.052609 \nL 204.591761 192.710804 \nL 207.409943 192.91934 \nL 207.409943 195.07901 \nL 207.409943 192.792459 \nL 207.409943 195.065924 \nL 215.864489 194.463613 \nL 215.864489 189.392365 \nL 215.864489 194.081427 \nL 218.68267 194.840724 \nL 218.68267 206.220613 \nL 221.500852 205.822899 \nL 221.500852 203.184408 \nL 224.319034 203.021981 \nL 224.319034 203.022892 \nL 224.319034 202.377288 \nL 224.319034 204.629327 \nL 227.137216 204.691426 \nL 227.137216 209.158659 \nL 235.591761 208.991032 \nL 235.591761 207.869828 \nL 235.591761 207.876087 \nL 238.409943 204.87246 \nL 238.409943 186.775145 \nL 238.409943 187.921634 \nL 241.228125 187.462282 \nL 241.228125 164.447754 \nL 244.046307 163.929576 \nL 244.046307 154.55858 \nL 244.046307 155.212643 \nL 246.864489 155.184205 \nL 246.864489 154.91569 \nL 246.864489 158.539432 \nL 255.319034 158.305641 \nL 255.319034 142.5007 \nL 258.137216 141.247242 \nL 258.137216 121.810131 \nL 260.955398 121.581824 \nL 260.955398 124.324612 \nL 260.955398 113.9273 \nL 266.591761 113.828074 \nL 266.591761 104.006551 \nL 266.591761 104.145086 \nL 275.046307 103.602131 \nL 275.046307 98.802285 \nL 275.046307 109.456371 \nL 275.046307 106.286967 \nL 277.864489 105.534523 \nL 277.864489 102.812032 \nL 277.864489 106.550458 \nL 277.864489 106.138074 \nL 280.68267 106.917674 \nL 280.68267 117.55306 \nL 280.68267 113.493276 \nL 283.500852 112.371158 \nL 283.500852 100.030101 \nL 286.319034 99.743047 \nL 286.319034 100.688683 \nL 286.319034 98.277684 \nL 294.77358 98.014869 \nL 294.77358 74.717642 \nL 297.591761 74.704053 \nL 297.591761 79.113806 \nL 297.591761 70.446582 \nL 300.409943 70.349573 \nL 300.409943 67.94671 \nL 300.409943 90.518305 \nL 303.228125 91.767629 \nL 303.228125 102.70125 \nL 303.228125 85.14174 \nL 306.046307 85.480049 \nL 306.046307 90.318977 \nL 306.046307 90.309387 \nL 314.500852 89.942589 \nL 314.500852 75.206304 \nL 317.319034 74.848072 \nL 317.319034 72.583678 \nL 317.319034 75.790251 \nL 320.137216 76.113388 \nL 320.137216 83.543447 \nL 320.137216 83.417335 \nL 322.955398 83.310335 \nL 322.955398 68.950722 \nL 325.77358 68.470515 \nL 325.77358 54.998792 \nL 334.228125 54.945379 \nL 334.228125 63.129747 \nL 337.046307 63.416305 \nL 337.046307 78.189962 \nL 337.046307 75.79548 \nL 339.864489 76.049551 \nL 339.864489 76.91506 \nL 339.864489 70.528475 \nL 339.864489 70.55941 \nL 342.68267 70.649476 \nL 342.68267 70.571355 \nL 342.68267 63.478004 \nL 353.955398 63.131256 \nL 353.955398 56.826691 \nL 353.955398 57.454712 \nL 356.77358 57.604883 \nL 356.77358 60.222693 \nL 356.77358 59.378827 \nL 359.591761 58.93567 \nL 359.591761 45.655394 \nL 362.409943 44.70441 \nL 362.409943 32.201761 \nL 362.409943 34.114574 \n\" style=\"fill:none;stroke:#1f77b4;stroke-linecap:square;stroke-width:1.5;\"/>\n   </g>\n   <g id=\"line2d_18\">\n    <path clip-path=\"url(#p8f1d35b00b)\" d=\"M 0 0 \n\" style=\"fill:none;stroke:#ff7f0e;stroke-linecap:square;stroke-width:1.5;\"/>\n   </g>\n   <g id=\"patch_3\">\n    <path d=\"M 42.828125 239.758125 \nL 42.828125 22.318125 \n\" style=\"fill:none;stroke:#000000;stroke-linecap:square;stroke-linejoin:miter;stroke-width:0.8;\"/>\n   </g>\n   <g id=\"patch_4\">\n    <path d=\"M 377.628125 239.758125 \nL 377.628125 22.318125 \n\" style=\"fill:none;stroke:#000000;stroke-linecap:square;stroke-linejoin:miter;stroke-width:0.8;\"/>\n   </g>\n   <g id=\"patch_5\">\n    <path d=\"M 42.828125 239.758125 \nL 377.628125 239.758125 \n\" style=\"fill:none;stroke:#000000;stroke-linecap:square;stroke-linejoin:miter;stroke-width:0.8;\"/>\n   </g>\n   <g id=\"patch_6\">\n    <path d=\"M 42.828125 22.318125 \nL 377.628125 22.318125 \n\" style=\"fill:none;stroke:#000000;stroke-linecap:square;stroke-linejoin:miter;stroke-width:0.8;\"/>\n   </g>\n   <g id=\"text_17\">\n    <!-- Actual Vs. Predicted  Prices -->\n    <defs>\n     <path d=\"M 34.1875 63.1875 \nL 20.796875 26.90625 \nL 47.609375 26.90625 \nz\nM 28.609375 72.90625 \nL 39.796875 72.90625 \nL 67.578125 0 \nL 57.328125 0 \nL 50.6875 18.703125 \nL 17.828125 18.703125 \nL 11.1875 0 \nL 0.78125 0 \nz\n\" id=\"DejaVuSans-65\"/>\n     <path d=\"M 48.78125 52.59375 \nL 48.78125 44.1875 \nQ 44.96875 46.296875 41.140625 47.34375 \nQ 37.3125 48.390625 33.40625 48.390625 \nQ 24.65625 48.390625 19.8125 42.84375 \nQ 14.984375 37.3125 14.984375 27.296875 \nQ 14.984375 17.28125 19.8125 11.734375 \nQ 24.65625 6.203125 33.40625 6.203125 \nQ 37.3125 6.203125 41.140625 7.25 \nQ 44.96875 8.296875 48.78125 10.40625 \nL 48.78125 2.09375 \nQ 45.015625 0.34375 40.984375 -0.53125 \nQ 36.96875 -1.421875 32.421875 -1.421875 \nQ 20.0625 -1.421875 12.78125 6.34375 \nQ 5.515625 14.109375 5.515625 27.296875 \nQ 5.515625 40.671875 12.859375 48.328125 \nQ 20.21875 56 33.015625 56 \nQ 37.15625 56 41.109375 55.140625 \nQ 45.0625 54.296875 48.78125 52.59375 \nz\n\" id=\"DejaVuSans-99\"/>\n     <path d=\"M 18.3125 70.21875 \nL 18.3125 54.6875 \nL 36.8125 54.6875 \nL 36.8125 47.703125 \nL 18.3125 47.703125 \nL 18.3125 18.015625 \nQ 18.3125 11.328125 20.140625 9.421875 \nQ 21.96875 7.515625 27.59375 7.515625 \nL 36.8125 7.515625 \nL 36.8125 0 \nL 27.59375 0 \nQ 17.1875 0 13.234375 3.875 \nQ 9.28125 7.765625 9.28125 18.015625 \nL 9.28125 47.703125 \nL 2.6875 47.703125 \nL 2.6875 54.6875 \nL 9.28125 54.6875 \nL 9.28125 70.21875 \nz\n\" id=\"DejaVuSans-116\"/>\n     <path d=\"M 8.5 21.578125 \nL 8.5 54.6875 \nL 17.484375 54.6875 \nL 17.484375 21.921875 \nQ 17.484375 14.15625 20.5 10.265625 \nQ 23.53125 6.390625 29.59375 6.390625 \nQ 36.859375 6.390625 41.078125 11.03125 \nQ 45.3125 15.671875 45.3125 23.6875 \nL 45.3125 54.6875 \nL 54.296875 54.6875 \nL 54.296875 0 \nL 45.3125 0 \nL 45.3125 8.40625 \nQ 42.046875 3.421875 37.71875 1 \nQ 33.40625 -1.421875 27.6875 -1.421875 \nQ 18.265625 -1.421875 13.375 4.4375 \nQ 8.5 10.296875 8.5 21.578125 \nz\nM 31.109375 56 \nz\n\" id=\"DejaVuSans-117\"/>\n     <path d=\"M 34.28125 27.484375 \nQ 23.390625 27.484375 19.1875 25 \nQ 14.984375 22.515625 14.984375 16.5 \nQ 14.984375 11.71875 18.140625 8.90625 \nQ 21.296875 6.109375 26.703125 6.109375 \nQ 34.1875 6.109375 38.703125 11.40625 \nQ 43.21875 16.703125 43.21875 25.484375 \nL 43.21875 27.484375 \nz\nM 52.203125 31.203125 \nL 52.203125 0 \nL 43.21875 0 \nL 43.21875 8.296875 \nQ 40.140625 3.328125 35.546875 0.953125 \nQ 30.953125 -1.421875 24.3125 -1.421875 \nQ 15.921875 -1.421875 10.953125 3.296875 \nQ 6 8.015625 6 15.921875 \nQ 6 25.140625 12.171875 29.828125 \nQ 18.359375 34.515625 30.609375 34.515625 \nL 43.21875 34.515625 \nL 43.21875 35.40625 \nQ 43.21875 41.609375 39.140625 45 \nQ 35.0625 48.390625 27.6875 48.390625 \nQ 23 48.390625 18.546875 47.265625 \nQ 14.109375 46.140625 10.015625 43.890625 \nL 10.015625 52.203125 \nQ 14.9375 54.109375 19.578125 55.046875 \nQ 24.21875 56 28.609375 56 \nQ 40.484375 56 46.34375 49.84375 \nQ 52.203125 43.703125 52.203125 31.203125 \nz\n\" id=\"DejaVuSans-97\"/>\n     <path d=\"M 9.421875 75.984375 \nL 18.40625 75.984375 \nL 18.40625 0 \nL 9.421875 0 \nz\n\" id=\"DejaVuSans-108\"/>\n     <path id=\"DejaVuSans-32\"/>\n     <path d=\"M 28.609375 0 \nL 0.78125 72.90625 \nL 11.078125 72.90625 \nL 34.1875 11.53125 \nL 57.328125 72.90625 \nL 67.578125 72.90625 \nL 39.796875 0 \nz\n\" id=\"DejaVuSans-86\"/>\n     <path d=\"M 44.28125 53.078125 \nL 44.28125 44.578125 \nQ 40.484375 46.53125 36.375 47.5 \nQ 32.28125 48.484375 27.875 48.484375 \nQ 21.1875 48.484375 17.84375 46.4375 \nQ 14.5 44.390625 14.5 40.28125 \nQ 14.5 37.15625 16.890625 35.375 \nQ 19.28125 33.59375 26.515625 31.984375 \nL 29.59375 31.296875 \nQ 39.15625 29.25 43.1875 25.515625 \nQ 47.21875 21.78125 47.21875 15.09375 \nQ 47.21875 7.46875 41.1875 3.015625 \nQ 35.15625 -1.421875 24.609375 -1.421875 \nQ 20.21875 -1.421875 15.453125 -0.5625 \nQ 10.6875 0.296875 5.421875 2 \nL 5.421875 11.28125 \nQ 10.40625 8.6875 15.234375 7.390625 \nQ 20.0625 6.109375 24.8125 6.109375 \nQ 31.15625 6.109375 34.5625 8.28125 \nQ 37.984375 10.453125 37.984375 14.40625 \nQ 37.984375 18.0625 35.515625 20.015625 \nQ 33.0625 21.96875 24.703125 23.78125 \nL 21.578125 24.515625 \nQ 13.234375 26.265625 9.515625 29.90625 \nQ 5.8125 33.546875 5.8125 39.890625 \nQ 5.8125 47.609375 11.28125 51.796875 \nQ 16.75 56 26.8125 56 \nQ 31.78125 56 36.171875 55.265625 \nQ 40.578125 54.546875 44.28125 53.078125 \nz\n\" id=\"DejaVuSans-115\"/>\n     <path d=\"M 19.671875 64.796875 \nL 19.671875 37.40625 \nL 32.078125 37.40625 \nQ 38.96875 37.40625 42.71875 40.96875 \nQ 46.484375 44.53125 46.484375 51.125 \nQ 46.484375 57.671875 42.71875 61.234375 \nQ 38.96875 64.796875 32.078125 64.796875 \nz\nM 9.8125 72.90625 \nL 32.078125 72.90625 \nQ 44.34375 72.90625 50.609375 67.359375 \nQ 56.890625 61.8125 56.890625 51.125 \nQ 56.890625 40.328125 50.609375 34.8125 \nQ 44.34375 29.296875 32.078125 29.296875 \nL 19.671875 29.296875 \nL 19.671875 0 \nL 9.8125 0 \nz\n\" id=\"DejaVuSans-80\"/>\n     <path d=\"M 41.109375 46.296875 \nQ 39.59375 47.171875 37.8125 47.578125 \nQ 36.03125 48 33.890625 48 \nQ 26.265625 48 22.1875 43.046875 \nQ 18.109375 38.09375 18.109375 28.8125 \nL 18.109375 0 \nL 9.078125 0 \nL 9.078125 54.6875 \nL 18.109375 54.6875 \nL 18.109375 46.1875 \nQ 20.953125 51.171875 25.484375 53.578125 \nQ 30.03125 56 36.53125 56 \nQ 37.453125 56 38.578125 55.875 \nQ 39.703125 55.765625 41.0625 55.515625 \nz\n\" id=\"DejaVuSans-114\"/>\n     <path d=\"M 56.203125 29.59375 \nL 56.203125 25.203125 \nL 14.890625 25.203125 \nQ 15.484375 15.921875 20.484375 11.0625 \nQ 25.484375 6.203125 34.421875 6.203125 \nQ 39.59375 6.203125 44.453125 7.46875 \nQ 49.3125 8.734375 54.109375 11.28125 \nL 54.109375 2.78125 \nQ 49.265625 0.734375 44.1875 -0.34375 \nQ 39.109375 -1.421875 33.890625 -1.421875 \nQ 20.796875 -1.421875 13.15625 6.1875 \nQ 5.515625 13.8125 5.515625 26.8125 \nQ 5.515625 40.234375 12.765625 48.109375 \nQ 20.015625 56 32.328125 56 \nQ 43.359375 56 49.78125 48.890625 \nQ 56.203125 41.796875 56.203125 29.59375 \nz\nM 47.21875 32.234375 \nQ 47.125 39.59375 43.09375 43.984375 \nQ 39.0625 48.390625 32.421875 48.390625 \nQ 24.90625 48.390625 20.390625 44.140625 \nQ 15.875 39.890625 15.1875 32.171875 \nz\n\" id=\"DejaVuSans-101\"/>\n     <path d=\"M 45.40625 46.390625 \nL 45.40625 75.984375 \nL 54.390625 75.984375 \nL 54.390625 0 \nL 45.40625 0 \nL 45.40625 8.203125 \nQ 42.578125 3.328125 38.25 0.953125 \nQ 33.9375 -1.421875 27.875 -1.421875 \nQ 17.96875 -1.421875 11.734375 6.484375 \nQ 5.515625 14.40625 5.515625 27.296875 \nQ 5.515625 40.1875 11.734375 48.09375 \nQ 17.96875 56 27.875 56 \nQ 33.9375 56 38.25 53.625 \nQ 42.578125 51.265625 45.40625 46.390625 \nz\nM 14.796875 27.296875 \nQ 14.796875 17.390625 18.875 11.75 \nQ 22.953125 6.109375 30.078125 6.109375 \nQ 37.203125 6.109375 41.296875 11.75 \nQ 45.40625 17.390625 45.40625 27.296875 \nQ 45.40625 37.203125 41.296875 42.84375 \nQ 37.203125 48.484375 30.078125 48.484375 \nQ 22.953125 48.484375 18.875 42.84375 \nQ 14.796875 37.203125 14.796875 27.296875 \nz\n\" id=\"DejaVuSans-100\"/>\n     <path d=\"M 9.421875 54.6875 \nL 18.40625 54.6875 \nL 18.40625 0 \nL 9.421875 0 \nz\nM 9.421875 75.984375 \nL 18.40625 75.984375 \nL 18.40625 64.59375 \nL 9.421875 64.59375 \nz\n\" id=\"DejaVuSans-105\"/>\n    </defs>\n    <g transform=\"translate(128.739688 16.318125)scale(0.12 -0.12)\">\n     <use xlink:href=\"#DejaVuSans-65\"/>\n     <use x=\"66.658203\" xlink:href=\"#DejaVuSans-99\"/>\n     <use x=\"121.638672\" xlink:href=\"#DejaVuSans-116\"/>\n     <use x=\"160.847656\" xlink:href=\"#DejaVuSans-117\"/>\n     <use x=\"224.226562\" xlink:href=\"#DejaVuSans-97\"/>\n     <use x=\"285.505859\" xlink:href=\"#DejaVuSans-108\"/>\n     <use x=\"313.289062\" xlink:href=\"#DejaVuSans-32\"/>\n     <use x=\"345.076172\" xlink:href=\"#DejaVuSans-86\"/>\n     <use x=\"413.484375\" xlink:href=\"#DejaVuSans-115\"/>\n     <use x=\"465.583984\" xlink:href=\"#DejaVuSans-46\"/>\n     <use x=\"497.371094\" xlink:href=\"#DejaVuSans-32\"/>\n     <use x=\"529.158203\" xlink:href=\"#DejaVuSans-80\"/>\n     <use x=\"587.710938\" xlink:href=\"#DejaVuSans-114\"/>\n     <use x=\"626.574219\" xlink:href=\"#DejaVuSans-101\"/>\n     <use x=\"688.097656\" xlink:href=\"#DejaVuSans-100\"/>\n     <use x=\"751.574219\" xlink:href=\"#DejaVuSans-105\"/>\n     <use x=\"779.357422\" xlink:href=\"#DejaVuSans-99\"/>\n     <use x=\"834.337891\" xlink:href=\"#DejaVuSans-116\"/>\n     <use x=\"873.546875\" xlink:href=\"#DejaVuSans-101\"/>\n     <use x=\"935.070312\" xlink:href=\"#DejaVuSans-100\"/>\n     <use x=\"998.546875\" xlink:href=\"#DejaVuSans-32\"/>\n     <use x=\"1030.333984\" xlink:href=\"#DejaVuSans-32\"/>\n     <use x=\"1062.121094\" xlink:href=\"#DejaVuSans-80\"/>\n     <use x=\"1120.673828\" xlink:href=\"#DejaVuSans-114\"/>\n     <use x=\"1161.787109\" xlink:href=\"#DejaVuSans-105\"/>\n     <use x=\"1189.570312\" xlink:href=\"#DejaVuSans-99\"/>\n     <use x=\"1244.550781\" xlink:href=\"#DejaVuSans-101\"/>\n     <use x=\"1306.074219\" xlink:href=\"#DejaVuSans-115\"/>\n    </g>\n   </g>\n   <g id=\"legend_1\">\n    <g id=\"patch_7\">\n     <path d=\"M 49.828125 59.674375 \nL 128.76875 59.674375 \nQ 130.76875 59.674375 130.76875 57.674375 \nL 130.76875 29.318125 \nQ 130.76875 27.318125 128.76875 27.318125 \nL 49.828125 27.318125 \nQ 47.828125 27.318125 47.828125 29.318125 \nL 47.828125 57.674375 \nQ 47.828125 59.674375 49.828125 59.674375 \nz\n\" style=\"fill:#ffffff;opacity:0.8;stroke:#cccccc;stroke-linejoin:miter;\"/>\n    </g>\n    <g id=\"line2d_19\">\n     <path d=\"M 51.828125 35.416562 \nL 71.828125 35.416562 \n\" style=\"fill:none;stroke:#1f77b4;stroke-linecap:square;stroke-width:1.5;\"/>\n    </g>\n    <g id=\"line2d_20\"/>\n    <g id=\"text_18\">\n     <!-- Actual -->\n     <g transform=\"translate(79.828125 38.916562)scale(0.1 -0.1)\">\n      <use xlink:href=\"#DejaVuSans-65\"/>\n      <use x=\"66.658203\" xlink:href=\"#DejaVuSans-99\"/>\n      <use x=\"121.638672\" xlink:href=\"#DejaVuSans-116\"/>\n      <use x=\"160.847656\" xlink:href=\"#DejaVuSans-117\"/>\n      <use x=\"224.226562\" xlink:href=\"#DejaVuSans-97\"/>\n      <use x=\"285.505859\" xlink:href=\"#DejaVuSans-108\"/>\n     </g>\n    </g>\n    <g id=\"line2d_21\">\n     <path d=\"M 51.828125 50.094687 \nL 71.828125 50.094687 \n\" style=\"fill:none;stroke:#ff7f0e;stroke-linecap:square;stroke-width:1.5;\"/>\n    </g>\n    <g id=\"line2d_22\"/>\n    <g id=\"text_19\">\n     <!-- Predicted -->\n     <g transform=\"translate(79.828125 53.594687)scale(0.1 -0.1)\">\n      <use xlink:href=\"#DejaVuSans-80\"/>\n      <use x=\"58.552734\" xlink:href=\"#DejaVuSans-114\"/>\n      <use x=\"97.416016\" xlink:href=\"#DejaVuSans-101\"/>\n      <use x=\"158.939453\" xlink:href=\"#DejaVuSans-100\"/>\n      <use x=\"222.416016\" xlink:href=\"#DejaVuSans-105\"/>\n      <use x=\"250.199219\" xlink:href=\"#DejaVuSans-99\"/>\n      <use x=\"305.179688\" xlink:href=\"#DejaVuSans-116\"/>\n      <use x=\"344.388672\" xlink:href=\"#DejaVuSans-101\"/>\n      <use x=\"405.912109\" xlink:href=\"#DejaVuSans-100\"/>\n     </g>\n    </g>\n   </g>\n  </g>\n </g>\n <defs>\n  <clipPath id=\"p8f1d35b00b\">\n   <rect height=\"217.44\" width=\"334.8\" x=\"42.828125\" y=\"22.318125\"/>\n  </clipPath>\n </defs>\n</svg>\n",
      "image/png": "[encoded data removed]"
     },
     "metadata": {
      "needs_background": "light"
     }
    }
   ],
   "source": [
    "# Plot the real vs predicted prices as a line chart\n",
    "stocks.plot(title=\"Actual Vs. Predicted  Prices\")"
   ]
  },
  {
   "cell_type": "code",
   "execution_count": null,
   "metadata": {},
   "outputs": [],
   "source": []
  }
 ],
 "metadata": {
  "kernelspec": {
   "display_name": "Python 3.8.3 64-bit ('base': conda)",
   "language": "python",
   "name": "python_defaultSpec_1610416932072"
  },
  "language_info": {
   "codemirror_mode": {
    "name": "ipython",
    "version": 3
   },
   "file_extension": ".py",
   "mimetype": "text/x-python",
   "name": "python",
   "nbconvert_exporter": "python",
   "pygments_lexer": "ipython3",
   "version": "3.8.3-final"
  }
 },
 "nbformat": 4,
 "nbformat_minor": 4
}