{
 "cells": [
  {
   "cell_type": "code",
   "execution_count": 1,
   "metadata": {},
   "outputs": [],
   "source": [
    "# Initial imports\n",
    "import numpy as np\n",
    "import pandas as pd\n",
    "from stockstats import StockDataFrame as sdf\n",
    "import requests\n",
    "from dotenv import load_dotenv\n",
    "import os\n",
    "import pandas as pd\n",
    "import numpy as np\n",
    "import alpaca_trade_api as tradeapi\n",
    "from pathlib import Path\n",
    "import lib_copy\n",
    "%matplotlib inline"
   ]
  },
  {
   "cell_type": "code",
   "execution_count": null,
   "metadata": {
    "tags": []
   },
   "outputs": [],
   "source": [
    "load_dotenv()"
   ]
  },
  {
   "cell_type": "code",
   "execution_count": null,
   "metadata": {},
   "outputs": [],
   "source": [
    "\n",
    "\n",
    "df = lib_copy.fetch_ohlcv(\"JPM\", \"2017-01-01\", \"2019-01-01\")\n"
   ]
  },
  {
   "cell_type": "code",
   "execution_count": null,
   "metadata": {},
   "outputs": [],
   "source": [
    "def adding_boll_kelt_ewma_dataframe(dataframe):\n",
    "    lib_copy.bollinger_band_generator(dataframe)\n",
    "    lib_copy.keltner_channel(dataframe)\n",
    "    lib_copy.ewma(dataframe)\n",
    "\n",
    "    return dataframe"
   ]
  },
  {
   "cell_type": "code",
   "execution_count": null,
   "metadata": {},
   "outputs": [],
   "source": [
    "everything = adding_boll_kelt_ewma_dataframe(df)"
   ]
  },
  {
   "cell_type": "code",
   "execution_count": null,
   "metadata": {},
   "outputs": [],
   "source": [
    "# Looking for missing values\n",
    "everything.isnull().sum().sum()"
   ]
  },
  {
   "cell_type": "code",
   "execution_count": null,
   "metadata": {},
   "outputs": [],
   "source": [
    "# Filling missing values with the previous ones\n",
    "everything = df.dropna()\n",
    "everything"
   ]
  },
  {
   "cell_type": "code",
   "execution_count": null,
   "metadata": {},
   "outputs": [],
   "source": [
    "response_data = lib_copy.signals_generator(everything)\n",
    "\n",
    "response_data.index = response_data.index.date\n",
    "final_df = response_data\n",
    "final_df"
   ]
  },
  {
   "cell_type": "code",
   "execution_count": null,
   "metadata": {},
   "outputs": [],
   "source": [
    "\"\"\"practice logic\n",
    "\n",
    "merge actual cross and actual squeeze DF's\n",
    "carolina's_df = pd.Concatenate(ewma_cross, squeeze)\n",
    "\n",
    "feed merged df into jonathans target function using 1+1 = 2 target mechanism\n",
    "\n",
    "use lstm model: utilizing the squeeze and the ewma cross as features and the target as the target\n",
    "\n",
    "spit out graph\n",
    "\n",
    "\"\"\"\n"
   ]
  },
  {
   "cell_type": "code",
   "execution_count": null,
   "metadata": {},
   "outputs": [],
   "source": [
    "X = final_df.iloc[:, 0:20].values\n",
    "y = final_df.iloc[:, :1].values\n",
    "\n",
    "X, y = np.array(X), np.array(y).reshape(-1,1)"
   ]
  },
  {
   "cell_type": "code",
   "execution_count": null,
   "metadata": {
    "tags": []
   },
   "outputs": [],
   "source": [
    "print (f\"X sample values:\\n{X[:3]} \\n\")\n",
    "print (f\"X sample values:\\n{y[:3]} \\n\")\n"
   ]
  },
  {
   "cell_type": "code",
   "execution_count": null,
   "metadata": {},
   "outputs": [],
   "source": [
    "# Manually splitting the data\n",
    "split = int(0.7 * len(X))\n",
    "\n",
    "X_train = X[: split]\n",
    "X_test = X[split:]\n",
    "\n",
    "y_train = y[: split]\n",
    "y_test = y[split:]"
   ]
  },
  {
   "cell_type": "code",
   "execution_count": null,
   "metadata": {},
   "outputs": [],
   "source": [
    "# Importing the MinMaxScaler from sklearn\n",
    "from sklearn.preprocessing import MinMaxScaler\n",
    "\n",
    "# Create a MinMaxScaler object\n",
    "scaler = MinMaxScaler()\n",
    "\n",
    "# Fit the MinMaxScaler object with the features data X\n",
    "scaler.fit(X)\n",
    "\n",
    "# Scale the features training and testing sets\n",
    "X_train = scaler.transform(X_train)\n",
    "X_test = scaler.transform(X_test)\n",
    "\n",
    "# Fit the MinMaxScaler object with the target data Y\n",
    "scaler.fit(y)\n",
    "\n",
    "# Scale the target training and testing sets\n",
    "y_train = scaler.transform(y_train)\n",
    "y_test = scaler.transform(y_test)"
   ]
  },
  {
   "cell_type": "code",
   "execution_count": null,
   "metadata": {
    "tags": []
   },
   "outputs": [],
   "source": [
    "# Reshape the features data\n",
    "X_train = X_train.reshape((X_train.shape[0], X_train.shape[1], 1))\n",
    "X_test = X_test.reshape((X_test.shape[0], X_test.shape[1], 1))\n",
    "\n",
    "# Print some sample data after reshaping the datasets\n",
    "print (f\"X_train sample values:\\n{X_train[:3]} \\n\")\n",
    "print (f\"X_test sample values:\\n{X_test[:3]}\")"
   ]
  },
  {
   "cell_type": "code",
   "execution_count": null,
   "metadata": {},
   "outputs": [],
   "source": [
    "# Importing required Keras modules\n",
    "from tensorflow.keras.models import Sequential\n",
    "from tensorflow.keras.layers import LSTM, Dense, Dropout"
   ]
  },
  {
   "cell_type": "code",
   "execution_count": null,
   "metadata": {},
   "outputs": [],
   "source": [
    "# Define the LSTM RNN model.\n",
    "model = Sequential()\n",
    "\n",
    "# Initial model setup\n",
    "number_units = 30\n",
    "dropout_fraction = 0.2\n",
    "\n",
    "# Layer 1\n",
    "model.add(LSTM(\n",
    "    units=number_units,\n",
    "    return_sequences=True,\n",
    "    input_shape=(X_train.shape[1], 1))\n",
    "    )\n",
    "model.add(Dropout(dropout_fraction))\n",
    "\n",
    "# Layer 2\n",
    "model.add(LSTM(units=number_units, return_sequences=True))\n",
    "model.add(Dropout(dropout_fraction))\n",
    "\n",
    "# Layer 3\n",
    "model.add(LSTM(units=number_units))\n",
    "model.add(Dropout(dropout_fraction))\n",
    "\n",
    "# Output layer\n",
    "model.add(Dense(1))"
   ]
  },
  {
   "cell_type": "code",
   "execution_count": null,
   "metadata": {},
   "outputs": [],
   "source": [
    "# Compile the model\n",
    "model.compile(optimizer=\"adam\", loss=\"mean_squared_error\")"
   ]
  },
  {
   "cell_type": "code",
   "execution_count": null,
   "metadata": {
    "tags": []
   },
   "outputs": [],
   "source": [
    "# Show the model summary\n",
    "model.summary()"
   ]
  },
  {
   "cell_type": "code",
   "execution_count": null,
   "metadata": {
    "tags": []
   },
   "outputs": [],
   "source": [
    "# Train the model\n",
    "model.fit(X_train, y_train, epochs=10, shuffle=False, batch_size=90, verbose=1)"
   ]
  },
  {
   "cell_type": "code",
   "execution_count": null,
   "metadata": {},
   "outputs": [],
   "source": [
    "# Evaluate the model\n",
    "model.evaluate(X_test, y_test, verbose=0)"
   ]
  },
  {
   "cell_type": "code",
   "execution_count": null,
   "metadata": {},
   "outputs": [],
   "source": [
    "# Make predictions using the testing data X_test\n",
    "predicted = model.predict(X_test)"
   ]
  },
  {
   "cell_type": "code",
   "execution_count": null,
   "metadata": {},
   "outputs": [],
   "source": [
    "# Recover the original prices instead of the scaled version\n",
    "predicted_prices = scaler.inverse_transform(predicted)\n",
    "real_prices = scaler.inverse_transform(y_test.reshape(-1, 1))"
   ]
  },
  {
   "cell_type": "code",
   "execution_count": null,
   "metadata": {},
   "outputs": [],
   "source": [
    "# Create a DataFrame of Real and Predicted values\n",
    "stocks = pd.DataFrame({\n",
    "    \"Actual\": real_prices.ravel(),\n",
    "    \"Predicted\": predicted_prices.ravel()\n",
    "}, index = final_df.index[-len(real_prices): ]) \n",
    "\n",
    "# Show the DataFrame's head\n",
    "stocks.head()"
   ]
  },
  {
   "cell_type": "code",
   "execution_count": null,
   "metadata": {},
   "outputs": [],
   "source": [
    "# Plot the real vs predicted prices as a line chart\n",
    "stocks.plot(title=\"Actual Vs. Predicted  Prices\")"
   ]
  },
  {
   "cell_type": "code",
   "execution_count": null,
   "metadata": {},
   "outputs": [],
   "source": [
    "price = pd.DataFrame(stocks)\n",
    "price"
   ]
  },
  {
   "cell_type": "code",
   "execution_count": null,
   "metadata": {},
   "outputs": [],
   "source": [
    "fast_ema = 9\n",
    "slow_ema = 21"
   ]
  },
  {
   "cell_type": "code",
   "execution_count": null,
   "metadata": {},
   "outputs": [],
   "source": [
    "# create EMAs columns\n",
    "price['pEMA9'] = price['Predicted'].ewm(span=fast_ema, adjust=False).mean()\n",
    "price['pEMA21'] = price['Predicted'].ewm(span=slow_ema, adjust=False).mean()\n",
    "price['aEMA9'] = price['Actual'].ewm(span=fast_ema, adjust=False).mean()\n",
    "price['aEMA21'] = price['Actual'].ewm(span=slow_ema, adjust=False).mean()\n",
    "# price['compEMAS'] = 0.0\n",
    "price.plot()"
   ]
  },
  {
   "cell_type": "code",
   "execution_count": null,
   "metadata": {},
   "outputs": [],
   "source": [
    "price.pct_change().plot()"
   ]
  },
  {
   "cell_type": "code",
   "execution_count": null,
   "metadata": {
    "tags": []
   },
   "outputs": [],
   "source": [
    "# Initial imports\n",
    "import numpy as np\n",
    "import pandas as pd\n",
    "from stockstats import StockDataFrame as sdf\n",
    "import requests\n",
    "from dotenv import load_dotenv\n",
    "import os\n",
    "import pandas as pd\n",
    "import numpy as np\n",
    "import alpaca_trade_api as tradeapi\n",
    "from pathlib import Path\n",
    "import lib_copy\n",
    "load_dotenv()\n",
    "%matplotlib inline\n",
    "\n",
    "ticker_symbol = [\"TSLA\"]"
   ]
  },
  {
   "cell_type": "code",
   "execution_count": null,
   "metadata": {},
   "outputs": [],
   "source": [
    "X = final_df.iloc[:, 0:20].values\n",
    "y = final_df.iloc[:, -1].values\n",
    "\n",
    "X, y = np.array(X), np.array(y).reshape(-1,1)"
   ]
  },
  {
   "cell_type": "code",
   "execution_count": null,
   "metadata": {},
   "outputs": [],
   "source": [
    "dataframe = lib_copy.fetch_ohlcv(ticker_symbol)\n",
    "def adding_boll_kelt_ewma_dataframe(dataframe):\n",
    "    lib_copy.bollinger_band_generator(dataframe)\n",
    "    lib_copy.keltner_channel(dataframe)\n",
    "    lib_copy.ewma(dataframe)\n",
    "\n",
    "    return dataframe\n",
    "\n",
    "everything = adding_boll_kelt_ewma_dataframe(dataframe)\n",
    "\n",
    "everything = df.dropna()\n",
    "\n",
    "response_data = lib_copy.signals_generator(everything)\n",
    "\n",
    "response_data.index = response_data.index.date\n",
    "final_df = response_data"
   ]
  },
  {
   "cell_type": "code",
   "execution_count": null,
   "metadata": {},
   "outputs": [],
   "source": [
    "def lstm(\n",
    "    dataframe,\n",
    "    num_feature_cols = 2, \n",
    "    target_name = \"target\",\n",
    "    epochs_num = 10,\n",
    "    unit_number = 30,\n",
    "    dropout_fraction=.2    \n",
    "    ):\n",
    "\n",
    "    \"\"\"\n",
    "    Make sure to have target in last column\n",
    "    \"\"\"\n",
    "\n",
    "    X = dataframe.iloc[:, 0:num_feature_cols].values\n",
    "    \n",
    "    y = dataframe.iloc[:,-1].values\n",
    "    \n",
    "    X, y = np.array(X), np.array(y).reshape(-1,1)\n",
    "\n",
    "    # Manually splitting the data\n",
    "    split = int(0.7 * len(X))\n",
    "\n",
    "    X_train = X[: split]\n",
    "    X_test = X[split:]\n",
    "\n",
    "    y_train = y[: split]\n",
    "    y_test = y[split:]\n",
    "\n",
    "    # Importing the MinMaxScaler from sklearn\n",
    "    from sklearn.preprocessing import MinMaxScaler\n",
    "\n",
    "    # Create a MinMaxScaler object\n",
    "    scaler = MinMaxScaler()\n",
    "\n",
    "    # Fit the MinMaxScaler object with the features data X\n",
    "    scaler.fit(X)\n",
    "\n",
    "    # Scale the features training and testing sets\n",
    "    X_train = scaler.transform(X_train)\n",
    "    X_test = scaler.transform(X_test)\n",
    "\n",
    "    # Fit the MinMaxScaler object with the target data Y\n",
    "    scaler.fit(y)\n",
    "\n",
    "    # Scale the target training and testing sets\n",
    "    y_train = scaler.transform(y_train)\n",
    "    y_test = scaler.transform(y_test)\n",
    "\n",
    "    # Importing required Keras modules\n",
    "    from tensorflow.keras.models import Sequential\n",
    "    from tensorflow.keras.layers import LSTM, Dense, Dropout\n",
    "\n",
    "    # Define the LSTM RNN model.\n",
    "    model = Sequential()\n",
    "\n",
    "    # Layer 1\n",
    "    model.add(LSTM(\n",
    "        units=unit_number,\n",
    "        return_sequences=True,\n",
    "        input_shape=(X_train.shape[1], 1))\n",
    "        )\n",
    "    model.add(Dropout(dropout_fraction))\n",
    "\n",
    "    # Layer 2\n",
    "    model.add(LSTM(units=number_units, return_sequences=True))\n",
    "    model.add(Dropout(dropout_fraction))\n",
    "\n",
    "    # Layer 3\n",
    "    model.add(LSTM(units=number_units))\n",
    "    model.add(Dropout(dropout_fraction))\n",
    "\n",
    "    # Output layer\n",
    "    model.add(Dense(1))\n",
    "\n",
    "    # Compile the model\n",
    "    model.compile(optimizer=\"adam\", loss=\"mean_squared_error\")\n",
    "\n",
    "    # Train the model\n",
    "    model.fit(X_train, y_train, epochs= epechs_num, shuffle=False, batch_size=90, verbose=1)\n",
    "\n",
    "    # Make predictions using the testing data X_test\n",
    "    predicted = model.predict(X_test)\n",
    "\n",
    "    # Recover the original prices instead of the scaled version\n",
    "    predicted_prices = scaler.inverse_transform(predicted)\n",
    "    real_prices = scaler.inverse_transform(y_test.reshape(-1, 1))\n",
    "    # Create a DataFrame of Real and Predicted values\n",
    "    comparison = pd.DataFrame({\n",
    "        \"Actual Target\": real_prices.ravel(),\n",
    "        \"Predicted Target\": predicted_prices.ravel()\n",
    "    }, index = dataframe.index[-len(real_prices): ]) \n",
    "\n",
    "    return model.summary(), model.evaluate(X_test, y_test, verbose=0), comparison.plot()"
   ]
  },
  {
   "cell_type": "code",
   "execution_count": 2,
   "metadata": {},
   "outputs": [
    {
     "output_type": "execute_result",
     "data": {
      "text/plain": "                     squeeze  emax_signal\nDate_Time                                \n2018-01-12 08:45:00        0            0\n2018-01-12 09:00:00        0            0\n2018-01-12 09:15:00        0            0\n2018-01-12 09:30:00        0            0\n2018-01-12 09:45:00        0            0",
      "text/html": "<div>\n<style scoped>\n    .dataframe tbody tr th:only-of-type {\n        vertical-align: middle;\n    }\n\n    .dataframe tbody tr th {\n        vertical-align: top;\n    }\n\n    .dataframe thead th {\n        text-align: right;\n    }\n</style>\n<table border=\"1\" class=\"dataframe\">\n  <thead>\n    <tr style=\"text-align: right;\">\n      <th></th>\n      <th>squeeze</th>\n      <th>emax_signal</th>\n    </tr>\n    <tr>\n      <th>Date_Time</th>\n      <th></th>\n      <th></th>\n    </tr>\n  </thead>\n  <tbody>\n    <tr>\n      <th>2018-01-12 08:45:00</th>\n      <td>0</td>\n      <td>0</td>\n    </tr>\n    <tr>\n      <th>2018-01-12 09:00:00</th>\n      <td>0</td>\n      <td>0</td>\n    </tr>\n    <tr>\n      <th>2018-01-12 09:15:00</th>\n      <td>0</td>\n      <td>0</td>\n    </tr>\n    <tr>\n      <th>2018-01-12 09:30:00</th>\n      <td>0</td>\n      <td>0</td>\n    </tr>\n    <tr>\n      <th>2018-01-12 09:45:00</th>\n      <td>0</td>\n      <td>0</td>\n    </tr>\n  </tbody>\n</table>\n</div>"
     },
     "metadata": {},
     "execution_count": 2
    }
   ],
   "source": [
    "beautiful_csv = pd.read_csv(\"Resources/ts_emax_x_squeeze.csv\", parse_dates=[['Date', 'Time']])\n",
    "beautiful_csv.set_index(\"Date_Time\", inplace=True)\n",
    "df = beautiful_csv[[\"squeeze\", \"emax_signal\"]]\n",
    "df.head()"
   ]
  },
  {
   "cell_type": "code",
   "execution_count": 3,
   "metadata": {},
   "outputs": [],
   "source": [
    "def target_generator(dataframe_name, col_name1, col_name2, target_col_name):\n",
    "    \"\"\"Creates a target for long position\n",
    "    Args:\n",
    "        dataframe_name (dict): Dataframe containing indicator data (0's and 1's)\n",
    "        col_name1 (str): Name of first column name in dataframe to use for calculation\n",
    "        col_name2 (str): Name of second column name in dataframe to use for calculation\n",
    "        target_col_name (str): Name of target column name to create and store target values\n",
    "    Returns:\n",
    "        A dataframe of:\n",
    "            original data passed to function,\n",
    "            appended target column signals of type float (2.0, 1.0, 0.0)\n",
    "    \"\"\"\n",
    "    \n",
    "    # Target generation\n",
    "    for index, row in dataframe_name.iterrows():\n",
    "        dataframe_name.loc[index, target_col_name] = row[col_name1] + row[col_name2]\n",
    "\n",
    "    # Return dataframe with features and target\n",
    "    return dataframe_name"
   ]
  },
  {
   "cell_type": "code",
   "execution_count": 4,
   "metadata": {},
   "outputs": [
    {
     "output_type": "execute_result",
     "data": {
      "text/plain": "                     squeeze  emax_signal  target\nDate_Time                                        \n2018-01-12 08:45:00        0            0     0.0\n2018-01-12 09:00:00        0            0     0.0\n2018-01-12 09:15:00        0            0     0.0\n2018-01-12 09:30:00        0            0     0.0\n2018-01-12 09:45:00        0            0     0.0",
      "text/html": "<div>\n<style scoped>\n    .dataframe tbody tr th:only-of-type {\n        vertical-align: middle;\n    }\n\n    .dataframe tbody tr th {\n        vertical-align: top;\n    }\n\n    .dataframe thead th {\n        text-align: right;\n    }\n</style>\n<table border=\"1\" class=\"dataframe\">\n  <thead>\n    <tr style=\"text-align: right;\">\n      <th></th>\n      <th>squeeze</th>\n      <th>emax_signal</th>\n      <th>target</th>\n    </tr>\n    <tr>\n      <th>Date_Time</th>\n      <th></th>\n      <th></th>\n      <th></th>\n    </tr>\n  </thead>\n  <tbody>\n    <tr>\n      <th>2018-01-12 08:45:00</th>\n      <td>0</td>\n      <td>0</td>\n      <td>0.0</td>\n    </tr>\n    <tr>\n      <th>2018-01-12 09:00:00</th>\n      <td>0</td>\n      <td>0</td>\n      <td>0.0</td>\n    </tr>\n    <tr>\n      <th>2018-01-12 09:15:00</th>\n      <td>0</td>\n      <td>0</td>\n      <td>0.0</td>\n    </tr>\n    <tr>\n      <th>2018-01-12 09:30:00</th>\n      <td>0</td>\n      <td>0</td>\n      <td>0.0</td>\n    </tr>\n    <tr>\n      <th>2018-01-12 09:45:00</th>\n      <td>0</td>\n      <td>0</td>\n      <td>0.0</td>\n    </tr>\n  </tbody>\n</table>\n</div>"
     },
     "metadata": {},
     "execution_count": 4
    }
   ],
   "source": [
    "new_df = target_generator(df, \"squeeze\", \"emax_signal\", \"target\")\n",
    "new_df.head()"
   ]
  },
  {
   "cell_type": "code",
   "execution_count": 5,
   "metadata": {},
   "outputs": [],
   "source": [
    "new_df.to_csv(\"Resources/LSTM_target_list1.csv\")"
   ]
  },
  {
   "cell_type": "code",
   "execution_count": 51,
   "metadata": {},
   "outputs": [],
   "source": [
    "def lstm1(\n",
    "    dataframe,\n",
    "    num_feature_cols = 2, \n",
    "    target_name = \"target\",\n",
    "    epochs_num = 10,\n",
    "    unit_number = 30,\n",
    "    dropout_fraction=.2    \n",
    "    ):\n",
    "\n",
    "    \"\"\"\n",
    "    Make sure to have target in last column\n",
    "    \"\"\"\n",
    "\n",
    "    # Manually splitting the data\n",
    "\n",
    "    # Construct training start and training end dates\n",
    "\n",
    "    training_start = dataframe.index.min().strftime(format='%Y-%m-%d')\n",
    "    training_end = '2019-01-11'\n",
    "\n",
    "    # Construct test start and test end dates\n",
    "\n",
    "    testing_start = '2019-01-12'\n",
    "    testing_end = '2019-06-12'\n",
    "\n",
    "    # Construct validating start and validating end dates\n",
    "\n",
    "    vali_start = '2019-06-13'\n",
    "    vali_end = '2020-01-12'\n",
    "\n",
    "    # Construct the X_train and y_train datasets\n",
    "    X_train = dataframe[[\"squeeze\", \"emax_signal\"]][training_start:training_end]\n",
    "    y_train = dataframe[\"target\"][training_start:training_end]\n",
    "\n",
    "    X_test = dataframe[[\"squeeze\", \"emax_signal\"]][testing_start:testing_end]\n",
    "    y_test = dataframe[\"target\"][testing_start:testing_end]\n",
    "\n",
    "    \n",
    "    #X = dataframe.iloc[:, 0:num_feature_cols].values\n",
    "    \n",
    "    #y = dataframe.iloc[:,-1].values\n",
    "\n",
    "    #X, y = np.array(X), np.array(y).reshape(-1,1)\n",
    "\n",
    "    # Importing the MinMaxScaler from sklearn\n",
    "    from sklearn.preprocessing import MinMaxScaler\n",
    "\n",
    "    # Create a MinMaxScaler object\n",
    "    scaler = MinMaxScaler()\n",
    "\n",
    "    # Fit the MinMaxScaler object with the features data X\n",
    "    scaler.fit(X_train)\n",
    "\n",
    "    # Scale the features training and testing sets\n",
    "    X_train = scaler.transform(X_train)\n",
    "    X_test = scaler.transform(X_test)\n",
    "    y_train = y_train.values.reshape(-1,1)\n",
    "    y_test = y_test.values.reshape(-1,1)\n",
    "\n",
    "    # Fit the MinMaxScaler object with the target data Y\n",
    "    scaler.fit(y_train)\n",
    "\n",
    "    # Scale the target training and testing sets\n",
    "    y_train = scaler.transform(y_train)\n",
    "    y_test = scaler.transform(y_test)\n",
    "\n",
    "    \n",
    "    \n",
    "    # Importing required Keras modules\n",
    "    from tensorflow.keras.models import Sequential\n",
    "    from tensorflow.keras.layers import LSTM, Dense, Dropout\n",
    "\n",
    "    # Define the LSTM RNN model.\n",
    "    model = Sequential()\n",
    "    X_train = X_train.reshape(-1,1,2)\n",
    "    X_test = X_test.reshape(-1,1,2)    \n",
    "    print(X_train[1])\n",
    "    # Layer 1\n",
    "    model.add(LSTM(\n",
    "        units=unit_number,\n",
    "        return_sequences=True,\n",
    "        input_shape=(1,2)))\n",
    "        \n",
    "    model.add(Dropout(dropout_fraction))\n",
    "\n",
    "    # Layer 2\n",
    "    model.add(LSTM(units=unit_number, return_sequences=True))\n",
    "    model.add(Dropout(dropout_fraction))\n",
    "\n",
    "    # Layer 3\n",
    "    model.add(LSTM(units=unit_number, return_sequences=True))\n",
    "    model.add(Dropout(dropout_fraction))\n",
    "\n",
    "    # Output layer\n",
    "    model.add(Dense(1))\n",
    "\n",
    "    # Compile the model\n",
    "    model.compile(optimizer=\"adam\", loss=\"mean_squared_error\")\n",
    "    \n",
    "    print(model.summary())\n",
    "    # Train the model\n",
    "    model.fit(X_train, y_train, epochs= epochs_num, shuffle=False, batch_size=90, verbose=1)\n",
    "\n",
    "    # Make predictions using the testing data X_test\n",
    "    predicted = model.predict(X_test)\n",
    "    print(predicted)\n",
    "    # Recover the original prices instead of the scaled version\n",
    "    predicted_prices = scaler.inverse_transform(predicted.reshape(-1,1))\n",
    "    real_prices = scaler.inverse_transform(y_test.reshape(-1, 1))\n",
    "    # Create a DataFrame of Real and Predicted values\n",
    "    comparison = pd.DataFrame({\n",
    "        \"Actual Target\": real_prices.ravel(),\n",
    "        \"Predicted Target\": predicted_prices.ravel()\n",
    "    }, index = dataframe.index[-len(real_prices): ]) \n",
    "\n",
    "    return model.summary(), model.evaluate(X_test, y_test, verbose=0), comparison.plot()"
   ]
  },
  {
   "cell_type": "code",
   "execution_count": 52,
   "metadata": {
    "tags": []
   },
   "outputs": [
    {
     "output_type": "stream",
     "name": "stdout",
     "text": "[[0.  0.5]]\nModel: \"sequential_17\"\n_________________________________________________________________\nLayer (type)                 Output Shape              Param #   \n=================================================================\nlstm_43 (LSTM)               (None, 1, 30)             3960      \n_________________________________________________________________\ndropout_40 (Dropout)         (None, 1, 30)             0         \n_________________________________________________________________\nlstm_44 (LSTM)               (None, 1, 30)             7320      \n_________________________________________________________________\ndropout_41 (Dropout)         (None, 1, 30)             0         \n_________________________________________________________________\nlstm_45 (LSTM)               (None, 1, 30)             7320      \n_________________________________________________________________\ndropout_42 (Dropout)         (None, 1, 30)             0         \n_________________________________________________________________\ndense_13 (Dense)             (None, 1, 1)              31        \n=================================================================\nTotal params: 18,631\nTrainable params: 18,631\nNon-trainable params: 0\n_________________________________________________________________\nNone\n73/73 [==============================] - 1s 18ms/step - loss: 0.1272\n[[[0.69026047]]\n\n [[0.69026047]]\n\n [[0.69026047]]\n\n ...\n\n [[0.69026047]]\n\n [[0.69026047]]\n\n [[0.69026047]]]\nModel: \"sequential_17\"\n_________________________________________________________________\nLayer (type)                 Output Shape              Param #   \n=================================================================\nlstm_43 (LSTM)               (None, 1, 30)             3960      \n_________________________________________________________________\ndropout_40 (Dropout)         (None, 1, 30)             0         \n_________________________________________________________________\nlstm_44 (LSTM)               (None, 1, 30)             7320      \n_________________________________________________________________\ndropout_41 (Dropout)         (None, 1, 30)             0         \n_________________________________________________________________\nlstm_45 (LSTM)               (None, 1, 30)             7320      \n_________________________________________________________________\ndropout_42 (Dropout)         (None, 1, 30)             0         \n_________________________________________________________________\ndense_13 (Dense)             (None, 1, 1)              31        \n=================================================================\nTotal params: 18,631\nTrainable params: 18,631\nNon-trainable params: 0\n_________________________________________________________________\n"
    },
    {
     "output_type": "execute_result",
     "data": {
      "text/plain": "(None,\n 0.009914685040712357,\n <matplotlib.axes._subplots.AxesSubplot at 0x14f0d5700>)"
     },
     "metadata": {},
     "execution_count": 52
    },
    {
     "output_type": "display_data",
     "data": {
      "text/plain": "<Figure size 432x288 with 1 Axes>",
      "image/svg+xml": "<?xml version=\"1.0\" encoding=\"utf-8\" standalone=\"no\"?>\n<!DOCTYPE svg PUBLIC \"-//W3C//DTD SVG 1.1//EN\"\n  \"http://www.w3.org/Graphics/SVG/1.1/DTD/svg11.dtd\">\n<!-- Created with matplotlib (https://matplotlib.org/) -->\n<svg height=\"260.469158pt\" version=\"1.1\" viewBox=\"0 0 380.482813 260.469158\" width=\"380.482813pt\" xmlns=\"http://www.w3.org/2000/svg\" xmlns:xlink=\"http://www.w3.org/1999/xlink\">\n <defs>\n  <style type=\"text/css\">\n*{stroke-linecap:butt;stroke-linejoin:round;}\n  </style>\n </defs>\n <g id=\"figure_1\">\n  <g id=\"patch_1\">\n   <path d=\"M -0 260.469158 \nL 380.482813 260.469158 \nL 380.482813 0 \nL -0 0 \nz\n\" style=\"fill:none;\"/>\n  </g>\n  <g id=\"axes_1\">\n   <g id=\"patch_2\">\n    <path d=\"M 38.482813 203.04 \nL 373.282813 203.04 \nL 373.282813 7.2 \nL 38.482813 7.2 \nz\n\" style=\"fill:#ffffff;\"/>\n   </g>\n   <g id=\"matplotlib.axis_1\">\n    <g id=\"xtick_1\">\n     <g id=\"line2d_1\">\n      <defs>\n       <path d=\"M 0 0 \nL 0 3.5 \n\" id=\"mb4c6a189f6\" style=\"stroke:#000000;stroke-width:0.8;\"/>\n      </defs>\n      <g>\n       <use style=\"stroke:#000000;stroke-width:0.8;\" x=\"90.513289\" xlink:href=\"#mb4c6a189f6\" y=\"203.04\"/>\n      </g>\n     </g>\n     <g id=\"text_1\">\n      <!-- 2020-09 -->\n      <defs>\n       <path d=\"M 19.1875 8.296875 \nL 53.609375 8.296875 \nL 53.609375 0 \nL 7.328125 0 \nL 7.328125 8.296875 \nQ 12.9375 14.109375 22.625 23.890625 \nQ 32.328125 33.6875 34.8125 36.53125 \nQ 39.546875 41.84375 41.421875 45.53125 \nQ 43.3125 49.21875 43.3125 52.78125 \nQ 43.3125 58.59375 39.234375 62.25 \nQ 35.15625 65.921875 28.609375 65.921875 \nQ 23.96875 65.921875 18.8125 64.3125 \nQ 13.671875 62.703125 7.8125 59.421875 \nL 7.8125 69.390625 \nQ 13.765625 71.78125 18.9375 73 \nQ 24.125 74.21875 28.421875 74.21875 \nQ 39.75 74.21875 46.484375 68.546875 \nQ 53.21875 62.890625 53.21875 53.421875 \nQ 53.21875 48.921875 51.53125 44.890625 \nQ 49.859375 40.875 45.40625 35.40625 \nQ 44.1875 33.984375 37.640625 27.21875 \nQ 31.109375 20.453125 19.1875 8.296875 \nz\n\" id=\"DejaVuSans-50\"/>\n       <path d=\"M 31.78125 66.40625 \nQ 24.171875 66.40625 20.328125 58.90625 \nQ 16.5 51.421875 16.5 36.375 \nQ 16.5 21.390625 20.328125 13.890625 \nQ 24.171875 6.390625 31.78125 6.390625 \nQ 39.453125 6.390625 43.28125 13.890625 \nQ 47.125 21.390625 47.125 36.375 \nQ 47.125 51.421875 43.28125 58.90625 \nQ 39.453125 66.40625 31.78125 66.40625 \nz\nM 31.78125 74.21875 \nQ 44.046875 74.21875 50.515625 64.515625 \nQ 56.984375 54.828125 56.984375 36.375 \nQ 56.984375 17.96875 50.515625 8.265625 \nQ 44.046875 -1.421875 31.78125 -1.421875 \nQ 19.53125 -1.421875 13.0625 8.265625 \nQ 6.59375 17.96875 6.59375 36.375 \nQ 6.59375 54.828125 13.0625 64.515625 \nQ 19.53125 74.21875 31.78125 74.21875 \nz\n\" id=\"DejaVuSans-48\"/>\n       <path d=\"M 4.890625 31.390625 \nL 31.203125 31.390625 \nL 31.203125 23.390625 \nL 4.890625 23.390625 \nz\n\" id=\"DejaVuSans-45\"/>\n       <path d=\"M 10.984375 1.515625 \nL 10.984375 10.5 \nQ 14.703125 8.734375 18.5 7.8125 \nQ 22.3125 6.890625 25.984375 6.890625 \nQ 35.75 6.890625 40.890625 13.453125 \nQ 46.046875 20.015625 46.78125 33.40625 \nQ 43.953125 29.203125 39.59375 26.953125 \nQ 35.25 24.703125 29.984375 24.703125 \nQ 19.046875 24.703125 12.671875 31.3125 \nQ 6.296875 37.9375 6.296875 49.421875 \nQ 6.296875 60.640625 12.9375 67.421875 \nQ 19.578125 74.21875 30.609375 74.21875 \nQ 43.265625 74.21875 49.921875 64.515625 \nQ 56.59375 54.828125 56.59375 36.375 \nQ 56.59375 19.140625 48.40625 8.859375 \nQ 40.234375 -1.421875 26.421875 -1.421875 \nQ 22.703125 -1.421875 18.890625 -0.6875 \nQ 15.09375 0.046875 10.984375 1.515625 \nz\nM 30.609375 32.421875 \nQ 37.25 32.421875 41.125 36.953125 \nQ 45.015625 41.5 45.015625 49.421875 \nQ 45.015625 57.28125 41.125 61.84375 \nQ 37.25 66.40625 30.609375 66.40625 \nQ 23.96875 66.40625 20.09375 61.84375 \nQ 16.21875 57.28125 16.21875 49.421875 \nQ 16.21875 41.5 20.09375 36.953125 \nQ 23.96875 32.421875 30.609375 32.421875 \nz\n\" id=\"DejaVuSans-57\"/>\n      </defs>\n      <g transform=\"translate(53.288468 237.511846)rotate(-30)scale(0.1 -0.1)\">\n       <use xlink:href=\"#DejaVuSans-50\"/>\n       <use x=\"63.623047\" xlink:href=\"#DejaVuSans-48\"/>\n       <use x=\"127.246094\" xlink:href=\"#DejaVuSans-50\"/>\n       <use x=\"190.869141\" xlink:href=\"#DejaVuSans-48\"/>\n       <use x=\"254.492188\" xlink:href=\"#DejaVuSans-45\"/>\n       <use x=\"290.576172\" xlink:href=\"#DejaVuSans-48\"/>\n       <use x=\"354.199219\" xlink:href=\"#DejaVuSans-57\"/>\n      </g>\n     </g>\n    </g>\n    <g id=\"xtick_2\">\n     <g id=\"line2d_2\">\n      <g>\n       <use style=\"stroke:#000000;stroke-width:0.8;\" x=\"150.580943\" xlink:href=\"#mb4c6a189f6\" y=\"203.04\"/>\n      </g>\n     </g>\n     <g id=\"text_2\">\n      <!-- 2020-10 -->\n      <defs>\n       <path d=\"M 12.40625 8.296875 \nL 28.515625 8.296875 \nL 28.515625 63.921875 \nL 10.984375 60.40625 \nL 10.984375 69.390625 \nL 28.421875 72.90625 \nL 38.28125 72.90625 \nL 38.28125 8.296875 \nL 54.390625 8.296875 \nL 54.390625 0 \nL 12.40625 0 \nz\n\" id=\"DejaVuSans-49\"/>\n      </defs>\n      <g transform=\"translate(113.356122 237.511846)rotate(-30)scale(0.1 -0.1)\">\n       <use xlink:href=\"#DejaVuSans-50\"/>\n       <use x=\"63.623047\" xlink:href=\"#DejaVuSans-48\"/>\n       <use x=\"127.246094\" xlink:href=\"#DejaVuSans-50\"/>\n       <use x=\"190.869141\" xlink:href=\"#DejaVuSans-48\"/>\n       <use x=\"254.492188\" xlink:href=\"#DejaVuSans-45\"/>\n       <use x=\"290.576172\" xlink:href=\"#DejaVuSans-49\"/>\n       <use x=\"354.199219\" xlink:href=\"#DejaVuSans-48\"/>\n      </g>\n     </g>\n    </g>\n    <g id=\"xtick_3\">\n     <g id=\"line2d_3\">\n      <g>\n       <use style=\"stroke:#000000;stroke-width:0.8;\" x=\"212.650852\" xlink:href=\"#mb4c6a189f6\" y=\"203.04\"/>\n      </g>\n     </g>\n     <g id=\"text_3\">\n      <!-- 2020-11 -->\n      <g transform=\"translate(175.426031 237.511846)rotate(-30)scale(0.1 -0.1)\">\n       <use xlink:href=\"#DejaVuSans-50\"/>\n       <use x=\"63.623047\" xlink:href=\"#DejaVuSans-48\"/>\n       <use x=\"127.246094\" xlink:href=\"#DejaVuSans-50\"/>\n       <use x=\"190.869141\" xlink:href=\"#DejaVuSans-48\"/>\n       <use x=\"254.492188\" xlink:href=\"#DejaVuSans-45\"/>\n       <use x=\"290.576172\" xlink:href=\"#DejaVuSans-49\"/>\n       <use x=\"354.199219\" xlink:href=\"#DejaVuSans-49\"/>\n      </g>\n     </g>\n    </g>\n    <g id=\"xtick_4\">\n     <g id=\"line2d_4\">\n      <g>\n       <use style=\"stroke:#000000;stroke-width:0.8;\" x=\"272.718506\" xlink:href=\"#mb4c6a189f6\" y=\"203.04\"/>\n      </g>\n     </g>\n     <g id=\"text_4\">\n      <!-- 2020-12 -->\n      <g transform=\"translate(235.493685 237.511846)rotate(-30)scale(0.1 -0.1)\">\n       <use xlink:href=\"#DejaVuSans-50\"/>\n       <use x=\"63.623047\" xlink:href=\"#DejaVuSans-48\"/>\n       <use x=\"127.246094\" xlink:href=\"#DejaVuSans-50\"/>\n       <use x=\"190.869141\" xlink:href=\"#DejaVuSans-48\"/>\n       <use x=\"254.492188\" xlink:href=\"#DejaVuSans-45\"/>\n       <use x=\"290.576172\" xlink:href=\"#DejaVuSans-49\"/>\n       <use x=\"354.199219\" xlink:href=\"#DejaVuSans-50\"/>\n      </g>\n     </g>\n    </g>\n    <g id=\"xtick_5\">\n     <g id=\"line2d_5\">\n      <g>\n       <use style=\"stroke:#000000;stroke-width:0.8;\" x=\"334.788415\" xlink:href=\"#mb4c6a189f6\" y=\"203.04\"/>\n      </g>\n     </g>\n     <g id=\"text_5\">\n      <!-- 2021-01 -->\n      <g transform=\"translate(297.563594 237.511846)rotate(-30)scale(0.1 -0.1)\">\n       <use xlink:href=\"#DejaVuSans-50\"/>\n       <use x=\"63.623047\" xlink:href=\"#DejaVuSans-48\"/>\n       <use x=\"127.246094\" xlink:href=\"#DejaVuSans-50\"/>\n       <use x=\"190.869141\" xlink:href=\"#DejaVuSans-49\"/>\n       <use x=\"254.492188\" xlink:href=\"#DejaVuSans-45\"/>\n       <use x=\"290.576172\" xlink:href=\"#DejaVuSans-48\"/>\n       <use x=\"354.199219\" xlink:href=\"#DejaVuSans-49\"/>\n      </g>\n     </g>\n    </g>\n    <g id=\"text_6\">\n     <!-- Date_Time -->\n     <defs>\n      <path d=\"M 19.671875 64.796875 \nL 19.671875 8.109375 \nL 31.59375 8.109375 \nQ 46.6875 8.109375 53.6875 14.9375 \nQ 60.6875 21.78125 60.6875 36.53125 \nQ 60.6875 51.171875 53.6875 57.984375 \nQ 46.6875 64.796875 31.59375 64.796875 \nz\nM 9.8125 72.90625 \nL 30.078125 72.90625 \nQ 51.265625 72.90625 61.171875 64.09375 \nQ 71.09375 55.28125 71.09375 36.53125 \nQ 71.09375 17.671875 61.125 8.828125 \nQ 51.171875 0 30.078125 0 \nL 9.8125 0 \nz\n\" id=\"DejaVuSans-68\"/>\n      <path d=\"M 34.28125 27.484375 \nQ 23.390625 27.484375 19.1875 25 \nQ 14.984375 22.515625 14.984375 16.5 \nQ 14.984375 11.71875 18.140625 8.90625 \nQ 21.296875 6.109375 26.703125 6.109375 \nQ 34.1875 6.109375 38.703125 11.40625 \nQ 43.21875 16.703125 43.21875 25.484375 \nL 43.21875 27.484375 \nz\nM 52.203125 31.203125 \nL 52.203125 0 \nL 43.21875 0 \nL 43.21875 8.296875 \nQ 40.140625 3.328125 35.546875 0.953125 \nQ 30.953125 -1.421875 24.3125 -1.421875 \nQ 15.921875 -1.421875 10.953125 3.296875 \nQ 6 8.015625 6 15.921875 \nQ 6 25.140625 12.171875 29.828125 \nQ 18.359375 34.515625 30.609375 34.515625 \nL 43.21875 34.515625 \nL 43.21875 35.40625 \nQ 43.21875 41.609375 39.140625 45 \nQ 35.0625 48.390625 27.6875 48.390625 \nQ 23 48.390625 18.546875 47.265625 \nQ 14.109375 46.140625 10.015625 43.890625 \nL 10.015625 52.203125 \nQ 14.9375 54.109375 19.578125 55.046875 \nQ 24.21875 56 28.609375 56 \nQ 40.484375 56 46.34375 49.84375 \nQ 52.203125 43.703125 52.203125 31.203125 \nz\n\" id=\"DejaVuSans-97\"/>\n      <path d=\"M 18.3125 70.21875 \nL 18.3125 54.6875 \nL 36.8125 54.6875 \nL 36.8125 47.703125 \nL 18.3125 47.703125 \nL 18.3125 18.015625 \nQ 18.3125 11.328125 20.140625 9.421875 \nQ 21.96875 7.515625 27.59375 7.515625 \nL 36.8125 7.515625 \nL 36.8125 0 \nL 27.59375 0 \nQ 17.1875 0 13.234375 3.875 \nQ 9.28125 7.765625 9.28125 18.015625 \nL 9.28125 47.703125 \nL 2.6875 47.703125 \nL 2.6875 54.6875 \nL 9.28125 54.6875 \nL 9.28125 70.21875 \nz\n\" id=\"DejaVuSans-116\"/>\n      <path d=\"M 56.203125 29.59375 \nL 56.203125 25.203125 \nL 14.890625 25.203125 \nQ 15.484375 15.921875 20.484375 11.0625 \nQ 25.484375 6.203125 34.421875 6.203125 \nQ 39.59375 6.203125 44.453125 7.46875 \nQ 49.3125 8.734375 54.109375 11.28125 \nL 54.109375 2.78125 \nQ 49.265625 0.734375 44.1875 -0.34375 \nQ 39.109375 -1.421875 33.890625 -1.421875 \nQ 20.796875 -1.421875 13.15625 6.1875 \nQ 5.515625 13.8125 5.515625 26.8125 \nQ 5.515625 40.234375 12.765625 48.109375 \nQ 20.015625 56 32.328125 56 \nQ 43.359375 56 49.78125 48.890625 \nQ 56.203125 41.796875 56.203125 29.59375 \nz\nM 47.21875 32.234375 \nQ 47.125 39.59375 43.09375 43.984375 \nQ 39.0625 48.390625 32.421875 48.390625 \nQ 24.90625 48.390625 20.390625 44.140625 \nQ 15.875 39.890625 15.1875 32.171875 \nz\n\" id=\"DejaVuSans-101\"/>\n      <path d=\"M 50.984375 -16.609375 \nL 50.984375 -23.578125 \nL -0.984375 -23.578125 \nL -0.984375 -16.609375 \nz\n\" id=\"DejaVuSans-95\"/>\n      <path d=\"M -0.296875 72.90625 \nL 61.375 72.90625 \nL 61.375 64.59375 \nL 35.5 64.59375 \nL 35.5 0 \nL 25.59375 0 \nL 25.59375 64.59375 \nL -0.296875 64.59375 \nz\n\" id=\"DejaVuSans-84\"/>\n      <path d=\"M 9.421875 54.6875 \nL 18.40625 54.6875 \nL 18.40625 0 \nL 9.421875 0 \nz\nM 9.421875 75.984375 \nL 18.40625 75.984375 \nL 18.40625 64.59375 \nL 9.421875 64.59375 \nz\n\" id=\"DejaVuSans-105\"/>\n      <path d=\"M 52 44.1875 \nQ 55.375 50.25 60.0625 53.125 \nQ 64.75 56 71.09375 56 \nQ 79.640625 56 84.28125 50.015625 \nQ 88.921875 44.046875 88.921875 33.015625 \nL 88.921875 0 \nL 79.890625 0 \nL 79.890625 32.71875 \nQ 79.890625 40.578125 77.09375 44.375 \nQ 74.3125 48.1875 68.609375 48.1875 \nQ 61.625 48.1875 57.5625 43.546875 \nQ 53.515625 38.921875 53.515625 30.90625 \nL 53.515625 0 \nL 44.484375 0 \nL 44.484375 32.71875 \nQ 44.484375 40.625 41.703125 44.40625 \nQ 38.921875 48.1875 33.109375 48.1875 \nQ 26.21875 48.1875 22.15625 43.53125 \nQ 18.109375 38.875 18.109375 30.90625 \nL 18.109375 0 \nL 9.078125 0 \nL 9.078125 54.6875 \nL 18.109375 54.6875 \nL 18.109375 46.1875 \nQ 21.1875 51.21875 25.484375 53.609375 \nQ 29.78125 56 35.6875 56 \nQ 41.65625 56 45.828125 52.96875 \nQ 50 49.953125 52 44.1875 \nz\n\" id=\"DejaVuSans-109\"/>\n     </defs>\n     <g transform=\"translate(179.198438 250.911346)scale(0.1 -0.1)\">\n      <use xlink:href=\"#DejaVuSans-68\"/>\n      <use x=\"77.001953\" xlink:href=\"#DejaVuSans-97\"/>\n      <use x=\"138.28125\" xlink:href=\"#DejaVuSans-116\"/>\n      <use x=\"177.490234\" xlink:href=\"#DejaVuSans-101\"/>\n      <use x=\"239.013672\" xlink:href=\"#DejaVuSans-95\"/>\n      <use x=\"289.013672\" xlink:href=\"#DejaVuSans-84\"/>\n      <use x=\"346.972656\" xlink:href=\"#DejaVuSans-105\"/>\n      <use x=\"374.755859\" xlink:href=\"#DejaVuSans-109\"/>\n      <use x=\"472.167969\" xlink:href=\"#DejaVuSans-101\"/>\n     </g>\n    </g>\n   </g>\n   <g id=\"matplotlib.axis_2\">\n    <g id=\"ytick_1\">\n     <g id=\"line2d_6\">\n      <defs>\n       <path d=\"M 0 0 \nL -3.5 0 \n\" id=\"mdd1a08f32b\" style=\"stroke:#000000;stroke-width:0.8;\"/>\n      </defs>\n      <g>\n       <use style=\"stroke:#000000;stroke-width:0.8;\" x=\"38.482813\" xlink:href=\"#mdd1a08f32b\" y=\"194.138182\"/>\n      </g>\n     </g>\n     <g id=\"text_7\">\n      <!-- −1.0 -->\n      <defs>\n       <path d=\"M 10.59375 35.5 \nL 73.1875 35.5 \nL 73.1875 27.203125 \nL 10.59375 27.203125 \nz\n\" id=\"DejaVuSans-8722\"/>\n       <path d=\"M 10.6875 12.40625 \nL 21 12.40625 \nL 21 0 \nL 10.6875 0 \nz\n\" id=\"DejaVuSans-46\"/>\n      </defs>\n      <g transform=\"translate(7.2 197.937401)scale(0.1 -0.1)\">\n       <use xlink:href=\"#DejaVuSans-8722\"/>\n       <use x=\"83.789062\" xlink:href=\"#DejaVuSans-49\"/>\n       <use x=\"147.412109\" xlink:href=\"#DejaVuSans-46\"/>\n       <use x=\"179.199219\" xlink:href=\"#DejaVuSans-48\"/>\n      </g>\n     </g>\n    </g>\n    <g id=\"ytick_2\">\n     <g id=\"line2d_7\">\n      <g>\n       <use style=\"stroke:#000000;stroke-width:0.8;\" x=\"38.482813\" xlink:href=\"#mdd1a08f32b\" y=\"164.465455\"/>\n      </g>\n     </g>\n     <g id=\"text_8\">\n      <!-- −0.5 -->\n      <defs>\n       <path d=\"M 10.796875 72.90625 \nL 49.515625 72.90625 \nL 49.515625 64.59375 \nL 19.828125 64.59375 \nL 19.828125 46.734375 \nQ 21.96875 47.46875 24.109375 47.828125 \nQ 26.265625 48.1875 28.421875 48.1875 \nQ 40.625 48.1875 47.75 41.5 \nQ 54.890625 34.8125 54.890625 23.390625 \nQ 54.890625 11.625 47.5625 5.09375 \nQ 40.234375 -1.421875 26.90625 -1.421875 \nQ 22.3125 -1.421875 17.546875 -0.640625 \nQ 12.796875 0.140625 7.71875 1.703125 \nL 7.71875 11.625 \nQ 12.109375 9.234375 16.796875 8.0625 \nQ 21.484375 6.890625 26.703125 6.890625 \nQ 35.15625 6.890625 40.078125 11.328125 \nQ 45.015625 15.765625 45.015625 23.390625 \nQ 45.015625 31 40.078125 35.4375 \nQ 35.15625 39.890625 26.703125 39.890625 \nQ 22.75 39.890625 18.8125 39.015625 \nQ 14.890625 38.140625 10.796875 36.28125 \nz\n\" id=\"DejaVuSans-53\"/>\n      </defs>\n      <g transform=\"translate(7.2 168.264673)scale(0.1 -0.1)\">\n       <use xlink:href=\"#DejaVuSans-8722\"/>\n       <use x=\"83.789062\" xlink:href=\"#DejaVuSans-48\"/>\n       <use x=\"147.412109\" xlink:href=\"#DejaVuSans-46\"/>\n       <use x=\"179.199219\" xlink:href=\"#DejaVuSans-53\"/>\n      </g>\n     </g>\n    </g>\n    <g id=\"ytick_3\">\n     <g id=\"line2d_8\">\n      <g>\n       <use style=\"stroke:#000000;stroke-width:0.8;\" x=\"38.482813\" xlink:href=\"#mdd1a08f32b\" y=\"134.792727\"/>\n      </g>\n     </g>\n     <g id=\"text_9\">\n      <!-- 0.0 -->\n      <g transform=\"translate(15.579688 138.591946)scale(0.1 -0.1)\">\n       <use xlink:href=\"#DejaVuSans-48\"/>\n       <use x=\"63.623047\" xlink:href=\"#DejaVuSans-46\"/>\n       <use x=\"95.410156\" xlink:href=\"#DejaVuSans-48\"/>\n      </g>\n     </g>\n    </g>\n    <g id=\"ytick_4\">\n     <g id=\"line2d_9\">\n      <g>\n       <use style=\"stroke:#000000;stroke-width:0.8;\" x=\"38.482813\" xlink:href=\"#mdd1a08f32b\" y=\"105.12\"/>\n      </g>\n     </g>\n     <g id=\"text_10\">\n      <!-- 0.5 -->\n      <g transform=\"translate(15.579688 108.919219)scale(0.1 -0.1)\">\n       <use xlink:href=\"#DejaVuSans-48\"/>\n       <use x=\"63.623047\" xlink:href=\"#DejaVuSans-46\"/>\n       <use x=\"95.410156\" xlink:href=\"#DejaVuSans-53\"/>\n      </g>\n     </g>\n    </g>\n    <g id=\"ytick_5\">\n     <g id=\"line2d_10\">\n      <g>\n       <use style=\"stroke:#000000;stroke-width:0.8;\" x=\"38.482813\" xlink:href=\"#mdd1a08f32b\" y=\"75.447273\"/>\n      </g>\n     </g>\n     <g id=\"text_11\">\n      <!-- 1.0 -->\n      <g transform=\"translate(15.579688 79.246491)scale(0.1 -0.1)\">\n       <use xlink:href=\"#DejaVuSans-49\"/>\n       <use x=\"63.623047\" xlink:href=\"#DejaVuSans-46\"/>\n       <use x=\"95.410156\" xlink:href=\"#DejaVuSans-48\"/>\n      </g>\n     </g>\n    </g>\n    <g id=\"ytick_6\">\n     <g id=\"line2d_11\">\n      <g>\n       <use style=\"stroke:#000000;stroke-width:0.8;\" x=\"38.482813\" xlink:href=\"#mdd1a08f32b\" y=\"45.774545\"/>\n      </g>\n     </g>\n     <g id=\"text_12\">\n      <!-- 1.5 -->\n      <g transform=\"translate(15.579688 49.573764)scale(0.1 -0.1)\">\n       <use xlink:href=\"#DejaVuSans-49\"/>\n       <use x=\"63.623047\" xlink:href=\"#DejaVuSans-46\"/>\n       <use x=\"95.410156\" xlink:href=\"#DejaVuSans-53\"/>\n      </g>\n     </g>\n    </g>\n    <g id=\"ytick_7\">\n     <g id=\"line2d_12\">\n      <g>\n       <use style=\"stroke:#000000;stroke-width:0.8;\" x=\"38.482813\" xlink:href=\"#mdd1a08f32b\" y=\"16.101818\"/>\n      </g>\n     </g>\n     <g id=\"text_13\">\n      <!-- 2.0 -->\n      <g transform=\"translate(15.579688 19.901037)scale(0.1 -0.1)\">\n       <use xlink:href=\"#DejaVuSans-50\"/>\n       <use x=\"63.623047\" xlink:href=\"#DejaVuSans-46\"/>\n       <use x=\"95.410156\" xlink:href=\"#DejaVuSans-48\"/>\n      </g>\n     </g>\n    </g>\n   </g>\n   <g id=\"line2d_13\">\n    <path clip-path=\"url(#p79f877c7ee)\" d=\"M 53.700994 75.447273 \nL 55.411254 75.447273 \nL 55.494681 134.792727 \nL 55.515538 75.447273 \nL 55.703249 75.447273 \nL 55.724106 194.138182 \nL 61.313735 134.792727 \nL 61.334592 134.792727 \nL 61.355449 75.447273 \nL 61.438876 134.792727 \nL 61.689158 134.792727 \nL 61.730872 75.447273 \nL 63.31599 75.447273 \nL 63.441131 134.792727 \nL 63.649699 134.792727 \nL 63.733127 75.447273 \nL 65.318245 134.792727 \nL 65.4851 134.792727 \nL 65.568527 75.447273 \nL 65.589384 134.792727 \nL 65.672811 134.792727 \nL 65.735382 75.447273 \nL 67.237073 75.447273 \nL 67.362214 134.792727 \nL 67.633353 134.792727 \nL 67.71678 75.447273 \nL 67.737637 194.138182 \nL 69.322756 134.792727 \nL 69.552181 134.792727 \nL 69.614751 75.447273 \nL 69.656465 134.792727 \nL 69.677322 134.792727 \nL 69.739892 75.447273 \nL 75.225237 16.101818 \nL 75.329521 134.792727 \nL 75.350378 75.447273 \nL 75.392092 75.447273 \nL 75.433805 134.792727 \nL 75.496376 75.447273 \nL 75.579803 75.447273 \nL 75.621517 134.792727 \nL 75.684087 75.447273 \nL 75.704944 75.447273 \nL 75.725801 134.792727 \nL 75.746658 75.447273 \nL 77.227492 16.101818 \nL 77.331776 134.792727 \nL 77.352633 16.101818 \nL 77.43606 75.447273 \nL 77.456917 75.447273 \nL 77.477774 134.792727 \nL 77.561201 75.447273 \nL 77.644629 75.447273 \nL 77.665485 16.101818 \nL 77.728056 75.447273 \nL 77.748913 134.792727 \nL 79.563456 134.792727 \nL 79.688597 75.447273 \nL 79.751168 134.792727 \nL 81.398857 134.792727 \nL 81.503141 16.101818 \nL 81.523998 75.447273 \nL 81.649139 75.447273 \nL 81.753423 134.792727 \nL 83.463683 134.792727 \nL 83.588823 75.447273 \nL 83.672251 75.447273 \nL 83.693108 134.792727 \nL 83.755678 75.447273 \nL 89.366164 75.447273 \nL 89.387021 16.101818 \nL 89.449591 75.447273 \nL 89.470448 134.792727 \nL 89.553875 75.447273 \nL 89.574732 16.101818 \nL 89.616446 134.792727 \nL 89.637303 134.792727 \nL 89.699873 134.792727 \nL 89.72073 75.447273 \nL 89.741587 194.138182 \nL 89.762443 134.792727 \nL 91.55613 134.792727 \nL 91.681271 75.447273 \nL 91.743842 75.447273 \nL 91.764699 134.792727 \nL 93.558385 134.792727 \nL 93.600099 75.447273 \nL 93.620956 194.138182 \nL 93.66267 134.792727 \nL 95.414643 134.792727 \nL 95.539784 75.447273 \nL 95.581497 75.447273 \nL 95.602354 16.101818 \nL 95.623211 134.792727 \nL 95.664925 134.792727 \nL 97.2709 134.792727 \nL 97.291757 194.138182 \nL 97.312614 75.447273 \nL 97.354327 134.792727 \nL 97.479468 75.447273 \nL 97.542039 75.447273 \nL 97.562896 134.792727 \nL 97.646323 75.447273 \nL 97.66718 75.447273 \nL 97.688037 16.101818 \nL 97.771464 75.447273 \nL 105.405062 75.447273 \nL 105.425918 134.792727 \nL 105.509346 75.447273 \nL 105.759628 75.447273 \nL 105.780484 134.792727 \nL 107.595028 134.792727 \nL 107.720169 75.447273 \nL 109.263574 75.447273 \nL 109.388715 134.792727 \nL 109.597283 134.792727 \nL 109.659854 75.447273 \nL 109.701567 134.792727 \nL 109.722424 134.792727 \nL 109.764138 75.447273 \nL 109.784995 134.792727 \nL 111.39097 134.792727 \nL 111.411827 194.138182 \nL 111.432684 75.447273 \nL 111.474398 75.447273 \nL 111.495254 75.447273 \nL 111.516111 16.101818 \nL 111.599538 75.447273 \nL 111.620395 134.792727 \nL 111.703823 75.447273 \nL 111.766393 75.447273 \nL 111.78725 134.792727 \nL 117.606304 134.792727 \nL 117.731445 75.447273 \nL 117.752302 75.447273 \nL 117.794015 134.792727 \nL 119.587702 134.792727 \nL 119.712843 75.447273 \nL 119.754557 75.447273 \nL 119.775414 194.138182 \nL 119.79627 134.792727 \nL 121.5691 134.792727 \nL 121.589957 75.447273 \nL 121.673385 134.792727 \nL 123.613069 134.792727 \nL 123.73821 75.447273 \nL 123.759067 75.447273 \nL 123.800781 194.138182 \nL 125.385899 134.792727 \nL 125.552754 134.792727 \nL 125.573611 75.447273 \nL 125.657038 134.792727 \nL 131.371808 134.792727 \nL 131.496949 75.447273 \nL 133.353206 75.447273 \nL 133.374063 134.792727 \nL 133.45749 75.447273 \nL 133.499204 75.447273 \nL 133.520061 16.101818 \nL 133.603488 75.447273 \nL 133.666059 75.447273 \nL 133.686915 134.792727 \nL 133.770343 75.447273 \nL 133.791199 16.101818 \nL 133.812056 75.447273 \nL 135.334604 75.447273 \nL 135.355461 134.792727 \nL 135.397175 16.101818 \nL 135.438889 75.447273 \nL 135.56403 75.447273 \nL 135.68917 134.792727 \nL 135.772598 134.792727 \nL 135.793455 75.447273 \nL 135.814311 134.792727 \nL 137.628855 134.792727 \nL 137.649712 75.447273 \nL 137.712282 194.138182 \nL 137.733139 134.792727 \nL 139.63111 134.792727 \nL 139.735394 75.447273 \nL 139.797965 134.792727 \nL 139.818822 75.447273 \nL 145.617019 75.447273 \nL 145.679589 134.792727 \nL 145.721303 16.101818 \nL 145.825587 134.792727 \nL 147.410706 75.447273 \nL 147.535847 134.792727 \nL 147.640131 134.792727 \nL 147.765272 75.447273 \nL 147.806985 75.447273 \nL 147.827842 134.792727 \nL 149.433818 134.792727 \nL 149.454674 194.138182 \nL 149.538102 134.792727 \nL 149.704956 134.792727 \nL 149.80924 16.101818 \nL 149.830097 134.792727 \nL 151.45693 134.792727 \nL 151.477786 194.138182 \nL 151.561214 134.792727 \nL 151.790639 134.792727 \nL 151.832352 75.447273 \nL 153.521755 75.447273 \nL 153.542612 16.101818 \nL 153.626039 75.447273 \nL 153.646896 75.447273 \nL 153.772037 134.792727 \nL 153.834608 75.447273 \nL 159.445093 75.447273 \nL 159.46595 134.792727 \nL 159.549377 75.447273 \nL 159.799659 75.447273 \nL 159.841373 134.792727 \nL 161.63506 134.792727 \nL 161.760201 75.447273 \nL 163.699885 75.447273 \nL 163.720742 16.101818 \nL 163.80417 75.447273 \nL 163.845883 134.792727 \nL 165.660427 134.792727 \nL 165.785568 75.447273 \nL 167.391543 75.447273 \nL 167.516684 134.792727 \nL 167.662682 134.792727 \nL 167.787823 75.447273 \nL 167.80868 75.447273 \nL 167.829537 16.101818 \nL 167.850393 75.447273 \nL 173.335738 75.447273 \nL 173.460879 134.792727 \nL 173.648591 134.792727 \nL 173.773732 75.447273 \nL 173.794588 75.447273 \nL 173.815445 134.792727 \nL 173.836302 16.101818 \nL 173.857159 75.447273 \nL 175.337993 75.447273 \nL 175.463134 134.792727 \nL 175.692559 134.792727 \nL 175.8177 75.447273 \nL 177.548817 75.447273 \nL 177.673958 134.792727 \nL 177.715671 75.447273 \nL 177.757385 134.792727 \nL 177.778242 194.138182 \nL 177.799099 16.101818 \nL 177.861669 134.792727 \nL 179.655356 134.792727 \nL 179.780497 75.447273 \nL 179.822211 75.447273 \nL 179.843067 134.792727 \nL 179.863924 75.447273 \nL 181.449043 134.792727 \nL 181.615897 134.792727 \nL 181.636754 194.138182 \nL 181.720182 134.792727 \nL 187.64352 134.792727 \nL 187.768661 75.447273 \nL 187.872945 134.792727 \nL 189.687488 134.792727 \nL 189.812629 75.447273 \nL 189.833486 75.447273 \nL 189.8752 134.792727 \nL 191.752314 134.792727 \nL 191.877455 75.447273 \nL 193.546001 75.447273 \nL 193.566858 134.792727 \nL 193.650285 75.447273 \nL 193.733712 75.447273 \nL 193.858853 134.792727 \nL 193.87971 75.447273 \nL 195.464829 134.792727 \nL 195.527399 134.792727 \nL 195.548256 194.138182 \nL 195.58997 75.447273 \nL 195.610827 75.447273 \nL 195.735967 75.447273 \nL 195.756824 16.101818 \nL 195.840252 75.447273 \nL 195.881965 134.792727 \nL 201.513308 134.792727 \nL 201.534165 194.138182 \nL 201.575878 16.101818 \nL 201.596735 134.792727 \nL 201.617592 16.101818 \nL 201.701019 75.447273 \nL 201.742733 75.447273 \nL 201.867874 134.792727 \nL 203.369565 134.792727 \nL 203.494706 75.447273 \nL 203.557277 75.447273 \nL 203.578133 134.792727 \nL 203.59899 16.101818 \nL 203.661561 75.447273 \nL 203.807558 75.447273 \nL 203.890986 134.792727 \nL 205.559532 134.792727 \nL 205.684673 75.447273 \nL 205.851527 75.447273 \nL 205.893241 134.792727 \nL 207.749498 134.792727 \nL 207.791212 75.447273 \nL 207.853782 134.792727 \nL 209.626612 134.792727 \nL 209.751753 75.447273 \nL 215.633378 75.447273 \nL 215.654235 134.792727 \nL 215.737662 75.447273 \nL 217.447922 75.447273 \nL 217.468778 16.101818 \nL 217.552206 75.447273 \nL 219.408463 75.447273 \nL 219.49189 134.792727 \nL 219.450177 16.101818 \nL 219.512747 75.447273 \nL 221.389861 75.447273 \nL 221.452432 16.101818 \nL 221.431575 134.792727 \nL 221.494145 75.447273 \nL 221.702714 75.447273 \nL 221.723571 16.101818 \nL 221.806998 75.447273 \nL 221.869568 75.447273 \nL 221.890425 134.792727 \nL 221.911282 75.447273 \nL 223.412973 75.447273 \nL 223.538114 134.792727 \nL 223.684112 134.792727 \nL 223.809253 75.447273 \nL 229.649164 75.447273 \nL 229.670021 16.101818 \nL 229.753448 75.447273 \nL 229.878589 134.792727 \nL 231.693133 134.792727 \nL 231.818273 75.447273 \nL 231.880844 75.447273 \nL 231.922558 134.792727 \nL 233.737101 134.792727 \nL 233.757958 75.447273 \nL 233.841385 134.792727 \nL 235.426504 134.792727 \nL 235.447361 194.138182 \nL 235.530788 134.792727 \nL 235.739356 134.792727 \nL 235.864497 75.447273 \nL 235.906211 75.447273 \nL 235.927068 134.792727 \nL 237.866752 134.792727 \nL 237.929323 75.447273 \nL 243.456381 75.447273 \nL 243.581522 134.792727 \nL 245.562921 134.792727 \nL 245.688062 75.447273 \nL 245.834059 75.447273 \nL 245.938343 134.792727 \nL 247.544319 134.792727 \nL 247.66946 75.447273 \nL 247.752887 75.447273 \nL 247.773744 16.101818 \nL 247.857171 75.447273 \nL 247.898885 75.447273 \nL 247.919742 134.792727 \nL 247.940599 75.447273 \nL 249.546574 75.447273 \nL 249.567431 16.101818 \nL 249.588288 134.792727 \nL 249.630001 134.792727 \nL 249.859426 134.792727 \nL 249.942854 75.447273 \nL 251.423688 75.447273 \nL 251.548829 134.792727 \nL 251.6114 134.792727 \nL 251.736541 75.447273 \nL 251.757397 75.447273 \nL 251.778254 16.101818 \nL 251.819968 134.792727 \nL 251.840825 134.792727 \nL 251.903395 134.792727 \nL 251.924252 75.447273 \nL 251.945109 134.792727 \nL 257.430454 75.447273 \nL 257.534738 134.792727 \nL 257.555595 75.447273 \nL 257.639022 134.792727 \nL 257.868447 134.792727 \nL 257.951874 75.447273 \nL 259.912416 75.447273 \nL 259.954129 134.792727 \nL 261.768673 134.792727 \nL 261.893814 75.447273 \nL 261.956385 75.447273 \nL 265.439474 194.138182 \nL 265.564615 134.792727 \nL 265.752327 134.792727 \nL 265.877467 75.447273 \nL 265.940038 75.447273 \nL 265.960895 134.792727 \nL 271.613094 134.792727 \nL 271.633951 194.138182 \nL 271.717378 134.792727 \nL 271.821662 16.101818 \nL 271.842519 75.447273 \nL 271.90509 75.447273 \nL 271.925947 134.792727 \nL 271.96766 75.447273 \nL 273.552779 75.447273 \nL 273.67792 134.792727 \nL 273.698777 134.792727 \nL 273.823918 75.447273 \nL 273.928202 75.447273 \nL 273.949058 16.101818 \nL 273.969915 134.792727 \nL 275.763602 134.792727 \nL 275.888743 75.447273 \nL 275.930457 75.447273 \nL 275.951314 194.138182 \nL 275.97217 134.792727 \nL 277.745 134.792727 \nL 277.870141 75.447273 \nL 277.890998 75.447273 \nL 277.911855 16.101818 \nL 277.932712 134.792727 \nL 277.974426 134.792727 \nL 279.788969 134.792727 \nL 279.872397 75.447273 \nL 279.893253 134.792727 \nL 279.934967 134.792727 \nL 279.976681 75.447273 \nL 285.670594 75.447273 \nL 285.691451 16.101818 \nL 285.774878 75.447273 \nL 285.920876 75.447273 \nL 285.983446 134.792727 \nL 287.756276 134.792727 \nL 287.777133 75.447273 \nL 287.86056 134.792727 \nL 287.881417 194.138182 \nL 287.902274 75.447273 \nL 287.943988 75.447273 \nL 287.964844 75.447273 \nL 287.985701 134.792727 \nL 289.508249 75.447273 \nL 289.63339 134.792727 \nL 289.695961 134.792727 \nL 289.716818 75.447273 \nL 289.800245 134.792727 \nL 289.946243 134.792727 \nL 289.967099 194.138182 \nL 289.987956 134.792727 \nL 291.8025 134.792727 \nL 291.927641 75.447273 \nL 293.471046 75.447273 \nL 293.491903 16.101818 \nL 293.51276 134.792727 \nL 293.554473 134.792727 \nL 293.867326 134.792727 \nL 293.929896 75.447273 \nL 293.950753 194.138182 \nL 293.97161 134.792727 \nL 299.665523 134.792727 \nL 299.68638 75.447273 \nL 299.74895 194.138182 \nL 299.769807 134.792727 \nL 299.894948 134.792727 \nL 299.978375 16.101818 \nL 299.999232 134.792727 \nL 301.813776 134.792727 \nL 301.938917 75.447273 \nL 301.959773 75.447273 \nL 301.98063 194.138182 \nL 302.001487 134.792727 \nL 303.69089 134.792727 \nL 303.795174 75.447273 \nL 303.899458 134.792727 \nL 304.003742 75.447273 \nL 305.505434 75.447273 \nL 305.52629 16.101818 \nL 305.609718 75.447273 \nL 305.839143 75.447273 \nL 305.86 134.792727 \nL 305.943427 75.447273 \nL 305.985141 75.447273 \nL 306.005997 16.101818 \nL 307.591116 75.447273 \nL 307.987396 75.447273 \nL 308.008252 134.792727 \nL 313.514454 75.447273 \nL 313.639595 134.792727 \nL 313.785593 134.792727 \nL 313.910734 75.447273 \nL 313.973304 75.447273 \nL 314.015018 134.792727 \nL 315.829562 134.792727 \nL 315.850418 75.447273 \nL 315.933846 134.792727 \nL 315.996416 134.792727 \nL 316.017273 75.447273 \nL 317.602392 134.792727 \nL 317.831817 134.792727 \nL 317.852674 75.447273 \nL 317.936101 134.792727 \nL 317.977814 134.792727 \nL 318.019528 75.447273 \nL 319.521219 75.447273 \nL 319.542076 134.792727 \nL 319.625504 75.447273 \nL 320.000926 75.447273 \nL 320.021783 134.792727 \nL 327.843092 134.792727 \nL 327.968233 75.447273 \nL 328.030804 75.447273 \nL 329.511638 16.101818 \nL 329.636779 134.792727 \nL 329.657636 194.138182 \nL 329.741063 134.792727 \nL 331.743318 134.792727 \nL 331.868459 75.447273 \nL 333.578719 75.447273 \nL 333.599576 16.101818 \nL 333.683003 75.447273 \nL 333.70386 134.792727 \nL 333.787287 75.447273 \nL 333.870715 75.447273 \nL 333.891571 16.101818 \nL 333.954142 75.447273 \nL 333.974999 134.792727 \nL 334.037569 75.447273 \nL 341.525169 16.101818 \nL 341.65031 134.792727 \nL 341.963162 134.792727 \nL 342.04659 75.447273 \nL 343.81942 75.447273 \nL 343.944561 134.792727 \nL 344.027988 134.792727 \nL 344.048845 75.447273 \nL 345.550536 75.447273 \nL 345.571393 194.138182 \nL 345.65482 134.792727 \nL 345.779961 134.792727 \nL 345.800818 75.447273 \nL 345.884245 134.792727 \nL 347.573648 134.792727 \nL 347.594505 194.138182 \nL 347.677932 134.792727 \nL 347.8865 134.792727 \nL 348.011641 75.447273 \nL 349.53419 75.447273 \nL 349.659331 134.792727 \nL 349.909612 134.792727 \nL 350.034753 75.447273 \nL 355.561812 75.447273 \nL 355.603525 134.792727 \nL 355.666096 75.447273 \nL 355.749523 75.447273 \nL 355.874664 134.792727 \nL 355.999805 134.792727 \nL 356.062376 75.447273 \nL 357.584924 75.447273 \nL 357.710065 134.792727 \nL 357.981203 134.792727 \nL 358.064631 75.447273 \nL 358.064631 75.447273 \n\" style=\"fill:none;stroke:#1f77b4;stroke-linecap:square;stroke-width:1.5;\"/>\n   </g>\n   <g id=\"line2d_14\">\n    <path clip-path=\"url(#p79f877c7ee)\" d=\"M 53.700994 71.246721 \nL 55.411254 71.246721 \nL 55.494681 115.290476 \nL 55.515538 71.246721 \nL 55.703249 71.246721 \nL 55.724106 129.595658 \nL 61.313735 115.290476 \nL 61.334592 115.290476 \nL 61.355449 99.780983 \nL 61.438876 115.290476 \nL 61.689158 115.290476 \nL 61.730872 71.246721 \nL 63.31599 71.246721 \nL 63.441131 115.290476 \nL 63.649699 115.290476 \nL 63.733127 71.246721 \nL 65.213961 89.192093 \nL 65.339102 115.290476 \nL 65.4851 115.290476 \nL 65.568527 71.246721 \nL 65.589384 115.290476 \nL 65.672811 115.290476 \nL 65.735382 71.246721 \nL 67.237073 71.246721 \nL 67.362214 115.290476 \nL 67.633353 115.290482 \nL 67.71678 71.246721 \nL 67.737637 129.595658 \nL 69.322756 115.290476 \nL 69.552181 115.290476 \nL 69.614751 71.246721 \nL 69.656465 115.290476 \nL 69.677322 115.290476 \nL 69.739892 71.246721 \nL 75.225237 52.896828 \nL 75.266951 115.290476 \nL 75.350378 71.246721 \nL 75.392092 71.246721 \nL 75.433805 115.290476 \nL 75.496376 71.246721 \nL 75.558946 71.246721 \nL 75.621517 115.290476 \nL 75.66323 71.246721 \nL 75.704944 71.246721 \nL 75.725801 89.192093 \nL 75.746658 71.246721 \nL 77.227492 52.896835 \nL 77.331776 89.192093 \nL 77.352633 52.896828 \nL 77.43606 71.246721 \nL 77.456917 71.246721 \nL 77.477774 89.192093 \nL 77.561201 71.246721 \nL 77.644629 71.246721 \nL 77.665485 52.896835 \nL 77.728056 71.246721 \nL 77.748913 115.290476 \nL 79.563456 115.290476 \nL 79.688597 71.246721 \nL 79.751168 115.290476 \nL 81.398857 115.290476 \nL 81.503141 52.896835 \nL 81.523998 71.246721 \nL 81.649139 71.246721 \nL 81.753423 115.290476 \nL 83.463683 115.290476 \nL 83.588823 71.246721 \nL 83.672251 71.246721 \nL 83.693108 89.192093 \nL 83.755678 71.246721 \nL 89.366164 71.246721 \nL 89.387021 52.896835 \nL 89.449591 71.246721 \nL 89.470448 89.192093 \nL 89.553875 71.246721 \nL 89.574732 52.896835 \nL 89.595589 71.246721 \nL 89.699873 115.290476 \nL 89.72073 71.246721 \nL 89.741587 129.595658 \nL 89.762443 115.290476 \nL 91.55613 115.290476 \nL 91.681271 71.246721 \nL 91.722985 71.246721 \nL 91.764699 115.290476 \nL 93.558385 115.290476 \nL 93.600099 71.246721 \nL 93.620956 129.595658 \nL 93.66267 115.290476 \nL 95.414643 115.290476 \nL 95.539784 71.246721 \nL 95.581497 71.246721 \nL 95.602354 52.896828 \nL 95.623211 115.290476 \nL 97.2709 115.290476 \nL 97.291757 129.595658 \nL 97.312614 99.780983 \nL 97.354327 115.290476 \nL 97.479468 71.246721 \nL 97.542039 71.246721 \nL 97.562896 115.290476 \nL 97.646323 71.246721 \nL 97.66718 71.246721 \nL 97.688037 52.896835 \nL 97.771464 71.246721 \nL 105.405062 71.246721 \nL 105.425918 89.192093 \nL 105.509346 71.246721 \nL 105.759628 71.246721 \nL 105.780484 115.290476 \nL 107.595028 115.290476 \nL 107.720169 71.246721 \nL 109.263574 71.246721 \nL 109.388715 115.290476 \nL 109.597283 115.290476 \nL 109.659854 71.246721 \nL 109.701567 115.290476 \nL 109.722424 115.290476 \nL 109.743281 71.246721 \nL 109.784995 115.290476 \nL 111.39097 115.290476 \nL 111.411827 129.595658 \nL 111.432684 71.246721 \nL 111.495254 71.246721 \nL 111.516111 52.896835 \nL 111.599538 71.246721 \nL 111.620395 89.192093 \nL 111.703823 71.246721 \nL 111.745536 71.246721 \nL 111.78725 115.290476 \nL 117.606304 115.290476 \nL 117.731445 71.246721 \nL 117.752302 71.246721 \nL 117.794015 115.290476 \nL 119.587702 115.290476 \nL 119.712843 71.246721 \nL 119.754557 71.246721 \nL 119.775414 129.595658 \nL 119.79627 115.290476 \nL 121.5691 115.290476 \nL 121.589957 99.780983 \nL 121.673385 115.290476 \nL 123.613069 115.290476 \nL 123.73821 71.246721 \nL 123.759067 71.246721 \nL 123.800781 129.595658 \nL 125.385899 115.290476 \nL 125.552754 115.290482 \nL 125.573611 99.780983 \nL 125.657038 115.290476 \nL 131.371808 115.290476 \nL 131.496949 71.246721 \nL 133.353206 71.246721 \nL 133.374063 89.192093 \nL 133.45749 71.246721 \nL 133.499204 71.246721 \nL 133.520061 52.896835 \nL 133.603488 71.246721 \nL 133.666059 71.246721 \nL 133.686915 89.192093 \nL 133.770343 71.246721 \nL 133.791199 52.896828 \nL 133.812056 71.246721 \nL 135.334604 71.246721 \nL 135.355461 89.192093 \nL 135.397175 52.896835 \nL 135.438889 71.246721 \nL 135.56403 71.246721 \nL 135.710027 115.290476 \nL 135.772598 115.290476 \nL 135.793455 99.780983 \nL 135.814311 115.290476 \nL 137.628855 115.290476 \nL 137.649712 71.246721 \nL 137.712282 129.595658 \nL 137.733139 115.290476 \nL 139.63111 115.290476 \nL 139.735394 71.246721 \nL 139.797965 115.290476 \nL 139.818822 71.246721 \nL 145.617019 71.246721 \nL 145.679589 89.192093 \nL 145.721303 52.896835 \nL 145.825587 89.192093 \nL 147.410706 71.246721 \nL 147.535847 115.290476 \nL 147.640131 115.290476 \nL 147.765272 71.246721 \nL 147.786129 71.246721 \nL 147.827842 115.290476 \nL 149.433818 115.290476 \nL 149.454674 129.595658 \nL 149.538102 115.290476 \nL 149.704956 115.290476 \nL 149.80924 52.896835 \nL 149.830097 115.290476 \nL 151.45693 115.290476 \nL 151.477786 129.595658 \nL 151.561214 115.290476 \nL 151.790639 115.290476 \nL 151.832352 71.246721 \nL 153.521755 71.246721 \nL 153.542612 52.896835 \nL 153.626039 71.246721 \nL 153.646896 71.246721 \nL 153.772037 115.290476 \nL 153.834608 71.246721 \nL 159.445093 71.246721 \nL 159.46595 89.192093 \nL 159.549377 71.246721 \nL 159.799659 71.246721 \nL 159.841373 115.290476 \nL 161.63506 115.290476 \nL 161.760201 71.246721 \nL 163.699885 71.246721 \nL 163.720742 52.896835 \nL 163.80417 71.246721 \nL 163.845883 115.290476 \nL 165.660427 115.290476 \nL 165.785568 71.246721 \nL 167.391543 71.246721 \nL 167.537541 115.290476 \nL 167.662682 115.290476 \nL 167.787823 71.246721 \nL 167.80868 71.246721 \nL 167.829537 52.896835 \nL 167.850393 71.246721 \nL 173.335738 71.246721 \nL 173.460879 115.290476 \nL 173.648591 115.290476 \nL 173.773732 71.246721 \nL 173.794588 71.246721 \nL 173.815445 115.290476 \nL 173.836302 52.896835 \nL 173.857159 71.246721 \nL 175.337993 71.246721 \nL 175.463134 115.290476 \nL 175.692559 115.290476 \nL 175.8177 71.246721 \nL 177.548817 71.246721 \nL 177.673958 115.290476 \nL 177.778242 129.595658 \nL 177.799099 52.896835 \nL 177.861669 115.290482 \nL 179.655356 115.290476 \nL 179.780497 71.246721 \nL 179.822211 71.246721 \nL 179.843067 115.290476 \nL 179.863924 71.246721 \nL 181.449043 115.290482 \nL 181.615897 115.290476 \nL 181.636754 129.595658 \nL 181.720182 115.290476 \nL 187.64352 115.290476 \nL 187.768661 71.246721 \nL 187.872945 115.290476 \nL 189.687488 115.290482 \nL 189.812629 71.246721 \nL 189.833486 71.246721 \nL 189.8752 115.290476 \nL 191.752314 115.290476 \nL 191.877455 71.246721 \nL 193.546001 71.246721 \nL 193.566858 115.290476 \nL 193.650285 71.246721 \nL 193.733712 71.246721 \nL 193.858853 115.290476 \nL 193.87971 99.780983 \nL 195.464829 115.290476 \nL 195.527399 115.290476 \nL 195.548256 129.595658 \nL 195.569113 115.290476 \nL 195.694254 71.246721 \nL 195.735967 71.246721 \nL 195.756824 52.896835 \nL 195.840252 71.246721 \nL 195.881965 115.290476 \nL 201.513308 115.290476 \nL 201.534165 129.595658 \nL 201.555021 115.290482 \nL 201.617592 52.896835 \nL 201.680162 71.246721 \nL 201.742733 71.246721 \nL 201.867874 115.290476 \nL 203.369565 115.290476 \nL 203.494706 71.246721 \nL 203.557277 71.246721 \nL 203.578133 89.192093 \nL 203.59899 52.896835 \nL 203.661561 71.246721 \nL 203.807558 71.246721 \nL 203.890986 115.290476 \nL 205.559532 115.290476 \nL 205.684673 71.246721 \nL 205.851527 71.246721 \nL 205.893241 115.290476 \nL 207.749498 115.290476 \nL 207.791212 71.246721 \nL 207.853782 115.290476 \nL 209.626612 115.290476 \nL 209.751753 71.246721 \nL 215.633378 71.246721 \nL 215.654235 89.192093 \nL 215.737662 71.246721 \nL 217.447922 71.246721 \nL 217.468778 52.896835 \nL 217.552206 71.246721 \nL 219.408463 71.246721 \nL 219.49189 89.192093 \nL 219.450177 52.896835 \nL 219.512747 71.246721 \nL 221.389861 71.246721 \nL 221.452432 52.896835 \nL 221.431575 89.192093 \nL 221.494145 71.246721 \nL 221.702714 71.246721 \nL 221.723571 52.896835 \nL 221.806998 71.246721 \nL 221.869568 71.246721 \nL 221.890425 89.192093 \nL 221.911282 71.246721 \nL 223.412973 71.246721 \nL 223.538114 115.290476 \nL 223.684112 115.290476 \nL 223.809253 71.246721 \nL 229.649164 71.246721 \nL 229.670021 52.896835 \nL 229.753448 71.246721 \nL 229.878589 115.290476 \nL 231.693133 115.290476 \nL 231.818273 71.246721 \nL 231.880844 71.246721 \nL 231.922558 115.290476 \nL 233.737101 115.290482 \nL 233.757958 71.246721 \nL 233.841385 115.290476 \nL 235.426504 115.290476 \nL 235.447361 129.595658 \nL 235.530788 115.290476 \nL 235.739356 115.290476 \nL 235.864497 71.246721 \nL 235.885354 71.246721 \nL 235.927068 115.290476 \nL 237.866752 115.290476 \nL 237.929323 71.246721 \nL 243.456381 71.246721 \nL 243.581522 115.290476 \nL 245.562921 115.290476 \nL 245.688062 71.246721 \nL 245.834059 71.246721 \nL 245.938343 115.290476 \nL 247.544319 115.290476 \nL 247.66946 71.246721 \nL 247.752887 71.246721 \nL 247.773744 52.896835 \nL 247.857171 71.246721 \nL 247.898885 71.246721 \nL 247.919742 89.192093 \nL 247.940599 71.246721 \nL 249.546574 71.246721 \nL 249.567431 52.896835 \nL 249.588288 115.290476 \nL 249.859426 115.290482 \nL 249.942854 71.246721 \nL 251.423688 71.246721 \nL 251.548829 115.290476 \nL 251.6114 115.290476 \nL 251.778254 52.896835 \nL 251.903395 115.290476 \nL 251.924252 71.246721 \nL 251.945109 89.192093 \nL 257.430454 71.246721 \nL 257.534738 115.290476 \nL 257.555595 99.780983 \nL 257.639022 115.290476 \nL 257.868447 115.290476 \nL 257.951874 71.246721 \nL 259.912416 71.246721 \nL 259.954129 115.290476 \nL 261.768673 115.290476 \nL 261.893814 71.246721 \nL 261.956385 71.246721 \nL 265.439474 129.595658 \nL 265.564615 115.290476 \nL 265.752327 115.290476 \nL 265.877467 71.246721 \nL 265.919181 71.246721 \nL 265.960895 115.290476 \nL 271.613094 115.290476 \nL 271.633951 129.595658 \nL 271.717378 115.290476 \nL 271.821662 52.896835 \nL 271.842519 71.246721 \nL 271.90509 71.246721 \nL 271.925947 89.192093 \nL 271.96766 71.246721 \nL 273.552779 71.246721 \nL 273.67792 115.290476 \nL 273.698777 115.290476 \nL 273.823918 71.246721 \nL 273.928202 71.246721 \nL 273.949058 52.896835 \nL 273.969915 115.290476 \nL 275.763602 115.290476 \nL 275.888743 71.246721 \nL 275.930457 71.246721 \nL 275.951314 129.595658 \nL 275.97217 115.290476 \nL 277.745 115.290476 \nL 277.870141 71.246721 \nL 277.890998 71.246721 \nL 277.911855 52.896835 \nL 277.932712 89.192093 \nL 277.974426 115.290476 \nL 279.788969 115.290482 \nL 279.872397 71.246721 \nL 279.893253 115.290476 \nL 279.934967 115.290476 \nL 279.976681 71.246721 \nL 285.670594 71.246721 \nL 285.691451 52.896835 \nL 285.774878 71.246721 \nL 285.920876 71.246721 \nL 285.983446 115.290476 \nL 287.756276 115.290476 \nL 287.777133 99.780983 \nL 287.86056 115.290476 \nL 287.881417 129.595658 \nL 287.902274 99.780983 \nL 287.923131 115.290476 \nL 287.964844 71.246721 \nL 287.985701 89.192093 \nL 289.508249 71.246721 \nL 289.63339 115.290476 \nL 289.695961 115.290476 \nL 289.716818 99.780983 \nL 289.800245 115.290476 \nL 289.946243 115.290476 \nL 289.967099 129.595658 \nL 289.987956 115.290476 \nL 291.8025 115.290476 \nL 291.927641 71.246721 \nL 293.471046 71.246721 \nL 293.491903 52.896835 \nL 293.51276 115.290476 \nL 293.867326 115.290476 \nL 293.929896 71.246721 \nL 293.950753 129.595658 \nL 293.97161 115.290476 \nL 299.665523 115.290476 \nL 299.68638 99.780983 \nL 299.74895 129.595658 \nL 299.769807 115.290476 \nL 299.894948 115.290482 \nL 299.978375 52.896835 \nL 299.999232 115.290476 \nL 301.813776 115.290476 \nL 301.938917 71.246721 \nL 301.959773 71.246721 \nL 301.98063 129.595658 \nL 302.001487 115.290476 \nL 303.69089 115.290476 \nL 303.795174 71.246721 \nL 303.878601 115.290476 \nL 303.899458 89.192093 \nL 304.003742 71.246721 \nL 305.505434 71.246721 \nL 305.52629 52.896835 \nL 305.609718 71.246721 \nL 305.839143 71.246721 \nL 305.86 89.192093 \nL 305.943427 71.246721 \nL 305.985141 71.246721 \nL 306.005997 52.896835 \nL 307.591116 71.246721 \nL 307.987396 71.246721 \nL 308.008252 89.192093 \nL 313.514454 71.246721 \nL 313.639595 115.290476 \nL 313.785593 115.290476 \nL 313.910734 71.246721 \nL 313.973304 71.246721 \nL 314.015018 115.290476 \nL 315.829562 115.290476 \nL 315.850418 71.246721 \nL 315.933846 115.290476 \nL 315.996416 115.290482 \nL 316.017273 99.780983 \nL 317.602392 115.290476 \nL 317.831817 115.290476 \nL 317.852674 71.246721 \nL 317.936101 115.290476 \nL 317.977814 115.290476 \nL 318.019528 71.246721 \nL 319.521219 71.246721 \nL 319.542076 89.192093 \nL 319.625504 71.246721 \nL 320.000926 71.246721 \nL 320.021783 115.290476 \nL 327.843092 115.290476 \nL 327.968233 71.246721 \nL 328.030804 71.246721 \nL 329.511638 52.896835 \nL 329.636779 115.290476 \nL 329.657636 129.595658 \nL 329.741063 115.290476 \nL 331.743318 115.290476 \nL 331.868459 71.246721 \nL 333.578719 71.246721 \nL 333.599576 52.896835 \nL 333.683003 71.246721 \nL 333.70386 89.192093 \nL 333.787287 71.246721 \nL 333.870715 71.246721 \nL 333.891571 52.896835 \nL 333.954142 71.246721 \nL 333.974999 89.192093 \nL 334.037569 71.246721 \nL 341.525169 52.896835 \nL 341.65031 115.290476 \nL 341.963162 115.290476 \nL 342.04659 71.246721 \nL 343.81942 71.246721 \nL 343.944561 115.290476 \nL 344.027988 115.290476 \nL 344.048845 71.246721 \nL 345.550536 71.246721 \nL 345.571393 129.595658 \nL 345.675677 115.290476 \nL 345.779961 115.290476 \nL 345.800818 99.780983 \nL 345.884245 115.290482 \nL 347.573648 115.290476 \nL 347.594505 129.595658 \nL 347.677932 115.290476 \nL 347.8865 115.290476 \nL 348.011641 71.246721 \nL 348.053355 71.246721 \nL 349.53419 99.780983 \nL 349.659331 115.290476 \nL 349.909612 115.290476 \nL 350.034753 71.246721 \nL 355.561812 71.246721 \nL 355.603525 115.290482 \nL 355.666096 71.246721 \nL 355.749523 71.246721 \nL 355.895521 115.290476 \nL 355.999805 115.290476 \nL 356.062376 71.246721 \nL 357.584924 71.246721 \nL 357.710065 115.290482 \nL 357.981203 115.290476 \nL 358.064631 71.246721 \nL 358.064631 71.246721 \n\" style=\"fill:none;stroke:#ff7f0e;stroke-linecap:square;stroke-width:1.5;\"/>\n   </g>\n   <g id=\"patch_3\">\n    <path d=\"M 38.482813 203.04 \nL 38.482813 7.2 \n\" style=\"fill:none;stroke:#000000;stroke-linecap:square;stroke-linejoin:miter;stroke-width:0.8;\"/>\n   </g>\n   <g id=\"patch_4\">\n    <path d=\"M 373.282813 203.04 \nL 373.282813 7.2 \n\" style=\"fill:none;stroke:#000000;stroke-linecap:square;stroke-linejoin:miter;stroke-width:0.8;\"/>\n   </g>\n   <g id=\"patch_5\">\n    <path d=\"M 38.482813 203.04 \nL 373.282813 203.04 \n\" style=\"fill:none;stroke:#000000;stroke-linecap:square;stroke-linejoin:miter;stroke-width:0.8;\"/>\n   </g>\n   <g id=\"patch_6\">\n    <path d=\"M 38.482813 7.2 \nL 373.282813 7.2 \n\" style=\"fill:none;stroke:#000000;stroke-linecap:square;stroke-linejoin:miter;stroke-width:0.8;\"/>\n   </g>\n   <g id=\"legend_1\">\n    <g id=\"patch_7\">\n     <path d=\"M 149.351562 198.04 \nL 262.414062 198.04 \nQ 264.414062 198.04 264.414062 196.04 \nL 264.414062 167.68375 \nQ 264.414062 165.68375 262.414062 165.68375 \nL 149.351562 165.68375 \nQ 147.351562 165.68375 147.351562 167.68375 \nL 147.351562 196.04 \nQ 147.351562 198.04 149.351562 198.04 \nz\n\" style=\"fill:#ffffff;opacity:0.8;stroke:#cccccc;stroke-linejoin:miter;\"/>\n    </g>\n    <g id=\"line2d_15\">\n     <path d=\"M 151.351562 173.782187 \nL 171.351562 173.782187 \n\" style=\"fill:none;stroke:#1f77b4;stroke-linecap:square;stroke-width:1.5;\"/>\n    </g>\n    <g id=\"line2d_16\"/>\n    <g id=\"text_14\">\n     <!-- Actual Target -->\n     <defs>\n      <path d=\"M 34.1875 63.1875 \nL 20.796875 26.90625 \nL 47.609375 26.90625 \nz\nM 28.609375 72.90625 \nL 39.796875 72.90625 \nL 67.578125 0 \nL 57.328125 0 \nL 50.6875 18.703125 \nL 17.828125 18.703125 \nL 11.1875 0 \nL 0.78125 0 \nz\n\" id=\"DejaVuSans-65\"/>\n      <path d=\"M 48.78125 52.59375 \nL 48.78125 44.1875 \nQ 44.96875 46.296875 41.140625 47.34375 \nQ 37.3125 48.390625 33.40625 48.390625 \nQ 24.65625 48.390625 19.8125 42.84375 \nQ 14.984375 37.3125 14.984375 27.296875 \nQ 14.984375 17.28125 19.8125 11.734375 \nQ 24.65625 6.203125 33.40625 6.203125 \nQ 37.3125 6.203125 41.140625 7.25 \nQ 44.96875 8.296875 48.78125 10.40625 \nL 48.78125 2.09375 \nQ 45.015625 0.34375 40.984375 -0.53125 \nQ 36.96875 -1.421875 32.421875 -1.421875 \nQ 20.0625 -1.421875 12.78125 6.34375 \nQ 5.515625 14.109375 5.515625 27.296875 \nQ 5.515625 40.671875 12.859375 48.328125 \nQ 20.21875 56 33.015625 56 \nQ 37.15625 56 41.109375 55.140625 \nQ 45.0625 54.296875 48.78125 52.59375 \nz\n\" id=\"DejaVuSans-99\"/>\n      <path d=\"M 8.5 21.578125 \nL 8.5 54.6875 \nL 17.484375 54.6875 \nL 17.484375 21.921875 \nQ 17.484375 14.15625 20.5 10.265625 \nQ 23.53125 6.390625 29.59375 6.390625 \nQ 36.859375 6.390625 41.078125 11.03125 \nQ 45.3125 15.671875 45.3125 23.6875 \nL 45.3125 54.6875 \nL 54.296875 54.6875 \nL 54.296875 0 \nL 45.3125 0 \nL 45.3125 8.40625 \nQ 42.046875 3.421875 37.71875 1 \nQ 33.40625 -1.421875 27.6875 -1.421875 \nQ 18.265625 -1.421875 13.375 4.4375 \nQ 8.5 10.296875 8.5 21.578125 \nz\nM 31.109375 56 \nz\n\" id=\"DejaVuSans-117\"/>\n      <path d=\"M 9.421875 75.984375 \nL 18.40625 75.984375 \nL 18.40625 0 \nL 9.421875 0 \nz\n\" id=\"DejaVuSans-108\"/>\n      <path id=\"DejaVuSans-32\"/>\n      <path d=\"M 41.109375 46.296875 \nQ 39.59375 47.171875 37.8125 47.578125 \nQ 36.03125 48 33.890625 48 \nQ 26.265625 48 22.1875 43.046875 \nQ 18.109375 38.09375 18.109375 28.8125 \nL 18.109375 0 \nL 9.078125 0 \nL 9.078125 54.6875 \nL 18.109375 54.6875 \nL 18.109375 46.1875 \nQ 20.953125 51.171875 25.484375 53.578125 \nQ 30.03125 56 36.53125 56 \nQ 37.453125 56 38.578125 55.875 \nQ 39.703125 55.765625 41.0625 55.515625 \nz\n\" id=\"DejaVuSans-114\"/>\n      <path d=\"M 45.40625 27.984375 \nQ 45.40625 37.75 41.375 43.109375 \nQ 37.359375 48.484375 30.078125 48.484375 \nQ 22.859375 48.484375 18.828125 43.109375 \nQ 14.796875 37.75 14.796875 27.984375 \nQ 14.796875 18.265625 18.828125 12.890625 \nQ 22.859375 7.515625 30.078125 7.515625 \nQ 37.359375 7.515625 41.375 12.890625 \nQ 45.40625 18.265625 45.40625 27.984375 \nz\nM 54.390625 6.78125 \nQ 54.390625 -7.171875 48.1875 -13.984375 \nQ 42 -20.796875 29.203125 -20.796875 \nQ 24.46875 -20.796875 20.265625 -20.09375 \nQ 16.0625 -19.390625 12.109375 -17.921875 \nL 12.109375 -9.1875 \nQ 16.0625 -11.328125 19.921875 -12.34375 \nQ 23.78125 -13.375 27.78125 -13.375 \nQ 36.625 -13.375 41.015625 -8.765625 \nQ 45.40625 -4.15625 45.40625 5.171875 \nL 45.40625 9.625 \nQ 42.625 4.78125 38.28125 2.390625 \nQ 33.9375 0 27.875 0 \nQ 17.828125 0 11.671875 7.65625 \nQ 5.515625 15.328125 5.515625 27.984375 \nQ 5.515625 40.671875 11.671875 48.328125 \nQ 17.828125 56 27.875 56 \nQ 33.9375 56 38.28125 53.609375 \nQ 42.625 51.21875 45.40625 46.390625 \nL 45.40625 54.6875 \nL 54.390625 54.6875 \nz\n\" id=\"DejaVuSans-103\"/>\n     </defs>\n     <g transform=\"translate(179.351562 177.282187)scale(0.1 -0.1)\">\n      <use xlink:href=\"#DejaVuSans-65\"/>\n      <use x=\"66.658203\" xlink:href=\"#DejaVuSans-99\"/>\n      <use x=\"121.638672\" xlink:href=\"#DejaVuSans-116\"/>\n      <use x=\"160.847656\" xlink:href=\"#DejaVuSans-117\"/>\n      <use x=\"224.226562\" xlink:href=\"#DejaVuSans-97\"/>\n      <use x=\"285.505859\" xlink:href=\"#DejaVuSans-108\"/>\n      <use x=\"313.289062\" xlink:href=\"#DejaVuSans-32\"/>\n      <use x=\"345.076172\" xlink:href=\"#DejaVuSans-84\"/>\n      <use x=\"389.660156\" xlink:href=\"#DejaVuSans-97\"/>\n      <use x=\"450.939453\" xlink:href=\"#DejaVuSans-114\"/>\n      <use x=\"490.302734\" xlink:href=\"#DejaVuSans-103\"/>\n      <use x=\"553.779297\" xlink:href=\"#DejaVuSans-101\"/>\n      <use x=\"615.302734\" xlink:href=\"#DejaVuSans-116\"/>\n     </g>\n    </g>\n    <g id=\"line2d_17\">\n     <path d=\"M 151.351562 188.460312 \nL 171.351562 188.460312 \n\" style=\"fill:none;stroke:#ff7f0e;stroke-linecap:square;stroke-width:1.5;\"/>\n    </g>\n    <g id=\"line2d_18\"/>\n    <g id=\"text_15\">\n     <!-- Predicted Target -->\n     <defs>\n      <path d=\"M 19.671875 64.796875 \nL 19.671875 37.40625 \nL 32.078125 37.40625 \nQ 38.96875 37.40625 42.71875 40.96875 \nQ 46.484375 44.53125 46.484375 51.125 \nQ 46.484375 57.671875 42.71875 61.234375 \nQ 38.96875 64.796875 32.078125 64.796875 \nz\nM 9.8125 72.90625 \nL 32.078125 72.90625 \nQ 44.34375 72.90625 50.609375 67.359375 \nQ 56.890625 61.8125 56.890625 51.125 \nQ 56.890625 40.328125 50.609375 34.8125 \nQ 44.34375 29.296875 32.078125 29.296875 \nL 19.671875 29.296875 \nL 19.671875 0 \nL 9.8125 0 \nz\n\" id=\"DejaVuSans-80\"/>\n      <path d=\"M 45.40625 46.390625 \nL 45.40625 75.984375 \nL 54.390625 75.984375 \nL 54.390625 0 \nL 45.40625 0 \nL 45.40625 8.203125 \nQ 42.578125 3.328125 38.25 0.953125 \nQ 33.9375 -1.421875 27.875 -1.421875 \nQ 17.96875 -1.421875 11.734375 6.484375 \nQ 5.515625 14.40625 5.515625 27.296875 \nQ 5.515625 40.1875 11.734375 48.09375 \nQ 17.96875 56 27.875 56 \nQ 33.9375 56 38.25 53.625 \nQ 42.578125 51.265625 45.40625 46.390625 \nz\nM 14.796875 27.296875 \nQ 14.796875 17.390625 18.875 11.75 \nQ 22.953125 6.109375 30.078125 6.109375 \nQ 37.203125 6.109375 41.296875 11.75 \nQ 45.40625 17.390625 45.40625 27.296875 \nQ 45.40625 37.203125 41.296875 42.84375 \nQ 37.203125 48.484375 30.078125 48.484375 \nQ 22.953125 48.484375 18.875 42.84375 \nQ 14.796875 37.203125 14.796875 27.296875 \nz\n\" id=\"DejaVuSans-100\"/>\n     </defs>\n     <g transform=\"translate(179.351562 191.960312)scale(0.1 -0.1)\">\n      <use xlink:href=\"#DejaVuSans-80\"/>\n      <use x=\"58.552734\" xlink:href=\"#DejaVuSans-114\"/>\n      <use x=\"97.416016\" xlink:href=\"#DejaVuSans-101\"/>\n      <use x=\"158.939453\" xlink:href=\"#DejaVuSans-100\"/>\n      <use x=\"222.416016\" xlink:href=\"#DejaVuSans-105\"/>\n      <use x=\"250.199219\" xlink:href=\"#DejaVuSans-99\"/>\n      <use x=\"305.179688\" xlink:href=\"#DejaVuSans-116\"/>\n      <use x=\"344.388672\" xlink:href=\"#DejaVuSans-101\"/>\n      <use x=\"405.912109\" xlink:href=\"#DejaVuSans-100\"/>\n      <use x=\"469.388672\" xlink:href=\"#DejaVuSans-32\"/>\n      <use x=\"501.175781\" xlink:href=\"#DejaVuSans-84\"/>\n      <use x=\"545.759766\" xlink:href=\"#DejaVuSans-97\"/>\n      <use x=\"607.039062\" xlink:href=\"#DejaVuSans-114\"/>\n      <use x=\"646.402344\" xlink:href=\"#DejaVuSans-103\"/>\n      <use x=\"709.878906\" xlink:href=\"#DejaVuSans-101\"/>\n      <use x=\"771.402344\" xlink:href=\"#DejaVuSans-116\"/>\n     </g>\n    </g>\n   </g>\n  </g>\n </g>\n <defs>\n  <clipPath id=\"p79f877c7ee\">\n   <rect height=\"195.84\" width=\"334.8\" x=\"38.482813\" y=\"7.2\"/>\n  </clipPath>\n </defs>\n</svg>\n",
      "image/png": "[encoded data removed]"
     },
     "metadata": {
      "needs_background": "light"
     }
    }
   ],
   "source": [
    "lstm1(new_df, epochs_num= 1, num_feature_cols=2)"
   ]
  },
  {
   "cell_type": "code",
   "execution_count": null,
   "metadata": {},
   "outputs": [],
   "source": []
  }
 ],
 "metadata": {
  "kernelspec": {
   "display_name": "Python 3.8.3 64-bit ('base': conda)",
   "language": "python",
   "name": "python_defaultSpec_1610507480344"
  },
  "language_info": {
   "codemirror_mode": {
    "name": "ipython",
    "version": 3
   },
   "file_extension": ".py",
   "mimetype": "text/x-python",
   "name": "python",
   "nbconvert_exporter": "python",
   "pygments_lexer": "ipython3",
   "version": "3.8.3-final"
  }
 },
 "nbformat": 4,
 "nbformat_minor": 4
}